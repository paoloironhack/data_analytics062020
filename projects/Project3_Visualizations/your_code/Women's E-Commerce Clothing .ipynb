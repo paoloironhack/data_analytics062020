{
 "cells": [
  {
   "cell_type": "markdown",
   "metadata": {},
   "source": [
    "# Introduction\n",
    ".\n",
    ".\n",
    "."
   ]
  },
  {
   "cell_type": "code",
   "execution_count": 1,
   "metadata": {},
   "outputs": [],
   "source": [
    "import pandas as pd\n",
    "import numpy as np\n",
    "import seaborn as sns\n",
    "import math\n",
    "import matplotlib.pyplot as plt\n",
    "%matplotlib inline"
   ]
  },
  {
   "cell_type": "code",
   "execution_count": 2,
   "metadata": {},
   "outputs": [],
   "source": [
    "df = pd.read_csv(\"../data/Womens Clothing E-Commerce Reviews.csv\",sep=\",\",index_col=\"Unnamed: 0\")\n",
    "df_backup = df.copy()"
   ]
  },
  {
   "cell_type": "markdown",
   "metadata": {},
   "source": [
    "### Understanding Database"
   ]
  },
  {
   "cell_type": "code",
   "execution_count": 3,
   "metadata": {
    "collapsed": true
   },
   "outputs": [
    {
     "name": "stdout",
     "output_type": "stream",
     "text": [
      "Null Columns;\n",
      "Clothing ID                   0\n",
      "Age                           0\n",
      "Title                      3810\n",
      "Review Text                 845\n",
      "Rating                        0\n",
      "Recommended IND               0\n",
      "Positive Feedback Count       0\n",
      "Division Name                14\n",
      "Department Name              14\n",
      "Class Name                   14\n",
      "dtype: int64\n",
      "\n",
      "\n",
      "<class 'pandas.core.frame.DataFrame'>\n",
      "Int64Index: 23486 entries, 0 to 23485\n",
      "Data columns (total 10 columns):\n",
      " #   Column                   Non-Null Count  Dtype \n",
      "---  ------                   --------------  ----- \n",
      " 0   Clothing ID              23486 non-null  int64 \n",
      " 1   Age                      23486 non-null  int64 \n",
      " 2   Title                    19676 non-null  object\n",
      " 3   Review Text              22641 non-null  object\n",
      " 4   Rating                   23486 non-null  int64 \n",
      " 5   Recommended IND          23486 non-null  int64 \n",
      " 6   Positive Feedback Count  23486 non-null  int64 \n",
      " 7   Division Name            23472 non-null  object\n",
      " 8   Department Name          23472 non-null  object\n",
      " 9   Class Name               23472 non-null  object\n",
      "dtypes: int64(5), object(5)\n",
      "memory usage: 1.5+ MB\n",
      "None\n"
     ]
    }
   ],
   "source": [
    "'''\n",
    "In this data set, there are around 250.000 records.\n",
    "\n",
    "- There are less than hundred missing values for columns Division Name, Department Name and \n",
    "Class Name. Since this percentage is so low compared to whole dataset, I will exclude those\n",
    "data for further analysis.\n",
    "\n",
    "- I will exclude ages above 80 from the dataset in order to normalize data.\n",
    "\n",
    "- Average age in our dataset is 43.\n",
    "'''\n",
    "\n",
    "print(f\"Null Columns;\\n{df.isnull().sum()}\")\n",
    "print(\"\\n\")\n",
    "print(df.info())"
   ]
  },
  {
   "cell_type": "markdown",
   "metadata": {},
   "source": [
    "### Data Cleaning and Wrangling"
   ]
  },
  {
   "cell_type": "code",
   "execution_count": 4,
   "metadata": {},
   "outputs": [],
   "source": [
    "# Function to remove NaN values\n",
    "def drop_missing_values(data,column):\n",
    "    if data[column].isnull().sum() > 0:\n",
    "        data = data[data[column].isnull() != True]\n",
    "    else:\n",
    "        pass\n",
    "    return data\n",
    "\n",
    "nan_columns = [\"Division Name\",\"Department Name\",\"Class Name\"]\n",
    "for column in nan_columns:\n",
    "    df = drop_missing_values(df,column)"
   ]
  },
  {
   "cell_type": "code",
   "execution_count": 5,
   "metadata": {},
   "outputs": [],
   "source": [
    "# Removing records for ages under 18 and over 80.\n",
    "df = df.drop(df[(df[\"Age\"] > 80) | (df[\"Age\"] < 18)].index)"
   ]
  },
  {
   "cell_type": "code",
   "execution_count": 6,
   "metadata": {},
   "outputs": [],
   "source": [
    "# Creating a new column for binning age\n",
    "interval = [18,30,40,50,60,70,80]\n",
    "age_categorized = pd.cut(df[\"Age\"],bins=interval,retbins=False,\n",
    "                         include_lowest=True,\n",
    "                         labels=[\"18-30\",\"30-40\",\"40-50\",\"50-60\",\"60-70\",\"70-80\"])\n",
    "df.insert(2,\"Age_Categorized\",age_categorized)"
   ]
  },
  {
   "cell_type": "markdown",
   "metadata": {},
   "source": [
    "### Data Analysis"
   ]
  },
  {
   "cell_type": "code",
   "execution_count": 7,
   "metadata": {},
   "outputs": [
    {
     "data": {
      "text/plain": [
       "Text(0.5, 1.0, 'Correlation Heatmap of Dataset')"
      ]
     },
     "execution_count": 7,
     "metadata": {},
     "output_type": "execute_result"
    },
    {
     "data": {
      "image/png": "[encoded data removed]",
      "text/plain": [
       "<Figure size 864x432 with 2 Axes>"
      ]
     },
     "metadata": {
      "needs_background": "light"
     },
     "output_type": "display_data"
    }
   ],
   "source": [
    "'''\n",
    "Checking correlations with Heatmap.\n",
    "\n",
    "Results;\n",
    "- There is a strong positive correlation between rating and recommendation indicator.\n",
    "'''\n",
    "plt.rcParams[\"font.family\"] = \"agency fb\"\n",
    "plt.rcParams[\"figure.figsize\"] = (12,6)\n",
    "\n",
    "sns.heatmap(data=df.corr(), vmin=-0.99,vmax=0.99,\n",
    "            annot= True, cbar=True,linewidth=0.5, cmap=\"cubehelix\")\n",
    "plt.yticks(rotation=0)\n",
    "plt.title(\"Correlation Heatmap of Dataset\",size=20,fontweight=\"bold\",pad=15)"
   ]
  },
  {
   "cell_type": "code",
   "execution_count": 8,
   "metadata": {},
   "outputs": [
    {
     "data": {
      "text/plain": [
       "Text(0.5, 1.0, 'Number of reviews per age')"
      ]
     },
     "execution_count": 8,
     "metadata": {},
     "output_type": "execute_result"
    },
    {
     "data": {
      "image/png": "[encoded data removed]",
      "text/plain": [
       "<Figure size 720x360 with 1 Axes>"
      ]
     },
     "metadata": {
      "needs_background": "light"
     },
     "output_type": "display_data"
    }
   ],
   "source": [
    "'''\n",
    "Looking number of reviews per age.\n",
    "\n",
    "Results;\n",
    "\n",
    "- People with ages between 25-55 are the most reviewing group.\n",
    "- Average age of people in our dataset is 43. \n",
    "'''\n",
    "\n",
    "plt.rcParams[\"font.family\"] = \"agency fb\"\n",
    "plt.rcParams[\"figure.figsize\"] = (10,5)\n",
    "\n",
    "fig1, ax = plt.subplots(1,1)\n",
    "ax.hist(df.Age, bins=30,color=\"lightskyblue\",edgecolor=\"k\")\n",
    "ax.set_xlabel(\"Age\",size=15)\n",
    "ax.set_ylabel(\"Total number of reviews\",size=15)\n",
    "ax.set_title(\"Number of reviews per age\",size=18,fontweight=\"bold\",pad=10)"
   ]
  },
  {
   "cell_type": "code",
   "execution_count": 9,
   "metadata": {},
   "outputs": [
    {
     "data": {
      "text/plain": [
       "Text(0.5, 1.0, 'Number of ratings per age')"
      ]
     },
     "execution_count": 9,
     "metadata": {},
     "output_type": "execute_result"
    },
    {
     "data": {
      "image/png": "[encoded data removed]",
      "text/plain": [
       "<Figure size 720x360 with 1 Axes>"
      ]
     },
     "metadata": {
      "needs_background": "light"
     },
     "output_type": "display_data"
    }
   ],
   "source": [
    "'''\n",
    "Looking number of ratings per age group.\n",
    "\n",
    "Results;\n",
    "- People with ages more than 70 does not involve much for rating.\n",
    "- People age in between 30-50 have involved more into rating compared to \n",
    "other groups(positive/negative)\n",
    "\n",
    "'''\n",
    "\n",
    "plt.rcParams[\"font.family\"] = \"agency fb\"\n",
    "plt.rcParams[\"figure.figsize\"] = (10,5)\n",
    "\n",
    "fig2 = plt.figure()\n",
    "ax2 = fig2.add_subplot(111)\n",
    "df.groupby(['Rating', age_categorized]).size().unstack(0).plot.bar(ax=ax2,stacked=True,edgecolor=\"k\")\n",
    "ax.set_xlabel(\"Age\",size=15)\n",
    "ax.set_ylabel(\"Total number of ratings\",size=15)\n",
    "ax.set_title(\"Number of ratings per age\",size=18,fontweight=\"bold\",pad=10)"
   ]
  },
  {
   "cell_type": "code",
   "execution_count": 10,
   "metadata": {},
   "outputs": [
    {
     "name": "stdout",
     "output_type": "stream",
     "text": [
      "5 star percentages\n",
      "(7.940786377444059, '18-30')\n",
      "(18.38018226158388, '30-40')\n",
      "(13.673897231848715, '40-50')\n",
      "(9.754845334360159, '50-60')\n",
      "(5.356608052025842, '60-70')\n",
      "(0.697385872588029, '70-80')\n",
      "\n",
      "\n",
      "1 star percentages\n",
      "(0.48774226671800797, '18-30')\n",
      "(1.1979634621144055, '30-40')\n",
      "(0.8941941556496812, '40-50')\n",
      "(0.6374876994823087, '50-60')\n",
      "(0.32088307020921575, '60-70')\n",
      "(0.04706285029735165, '70-80')\n"
     ]
    }
   ],
   "source": [
    "'''\n",
    "Checking percentages of 5 ratings and 1 ratings for poeple in the interval of 30-40 and 40-50 \n",
    "since they are the most involved group in ratings.\n",
    "\n",
    "Results;\n",
    "\n",
    "- People in age between 30-40 have the highest percentage of giving 5 stars with percentage of 18.38%\n",
    "- People in age between 40-50 have the second highest percentage of giving 5 stars with \n",
    "percentage of 13.67%\n",
    "\n",
    "- People in age between 30-40 have the highest percentage of giving 1 stars with percentage of 1.19%\n",
    "- People in age between 40-50 have the second highest percentage of giving 1 stars with\n",
    "percentage of 0.89%\n",
    "\n",
    "'''\n",
    "\n",
    "five_ratio_list = []\n",
    "one_ratio_list = []\n",
    "labels=[\"18-30\",\"30-40\",\"40-50\",\"50-60\",\"60-70\",\"70-80\"]\n",
    "def ratio_calculator(data):\n",
    "    for i in range(0,len(labels)):\n",
    "            five_ratio_list.append((len(data[(data[\"Age_Categorized\"] == labels[i]) & \n",
    "                               (data[\"Rating\"] == 5)]) / len(data))*100)\n",
    "    for i in range(0,len(labels)):\n",
    "            one_ratio_list.append((len(data[(data[\"Age_Categorized\"] == labels[i]) & \n",
    "                               (data[\"Rating\"] == 1)]) / len(data))*100)\n",
    "\n",
    "ratio_calculator(df)\n",
    "list_of_five = list(zip(five_ratio_list, labels))\n",
    "list_of_one = list(zip(one_ratio_list, labels))\n",
    "print(\"5 star percentages\")\n",
    "print('\\n'.join(map(str, list_of_five)))\n",
    "print(\"\\n\")\n",
    "print(\"1 star percentages\")\n",
    "print('\\n'.join(map(str, list_of_one)))"
   ]
  },
  {
   "cell_type": "code",
   "execution_count": 41,
   "metadata": {},
   "outputs": [
    {
     "data": {
      "text/plain": [
       "Text(0.5, 1.0, 'Ratings count for each department')"
      ]
     },
     "execution_count": 41,
     "metadata": {},
     "output_type": "execute_result"
    },
    {
     "data": {
      "text/plain": [
       "<Figure size 720x360 with 0 Axes>"
      ]
     },
     "metadata": {},
     "output_type": "display_data"
    },
    {
     "data": {
      "image/png": "[encoded data removed]",
      "text/plain": [
       "<Figure size 1152x360 with 2 Axes>"
      ]
     },
     "metadata": {
      "needs_background": "light"
     },
     "output_type": "display_data"
    }
   ],
   "source": [
    "'''\n",
    "Looking departments for each age group.\n",
    "\n",
    "Results;\n",
    "- Tops department has the highest number of ratings which leads that Tops department has the highest\n",
    "sales proportion compared to others.\n",
    "\n",
    "- This is also supported by subplot2.\n",
    "\n",
    "- Dresses department has the second highest sales proportion after tops department. It is followed \n",
    "by Bottoms.\n",
    "\n",
    "Suggestion;\n",
    "\n",
    "- Apparently, customer likes Tops department the most, this department has to be investigated \n",
    "further and findings have to be applied to other departments in order to leverage sales.\n",
    "'''\n",
    "\n",
    "fig3 = plt.figure()\n",
    "fig3 , ax = plt.subplots(1,2,figsize=(16,5))\n",
    "df.groupby(['Department Name', age_categorized]).size().unstack(0).plot.bar(\n",
    "    ax=ax[0],stacked=True,edgecolor=\"k\")\n",
    "ax[0].set_xlabel(\"Age\",size=15)\n",
    "ax[0].set_title(\"Ratings count categorized by department name for each age group\",size=18,\n",
    "                fontweight=\"bold\",pad=10)\n",
    "ax[0].set_xticklabels(ax[0].get_xticklabels(),rotation=0)\n",
    "\n",
    "count_each_dpt = pd.pivot_table(df,values=[\"Class Name\"],columns=[\n",
    "    \"Department Name\"],aggfunc=\"count\").T.sort_values(by=\"Class Name\",ascending=False)\n",
    "\n",
    "ax[1] = sns.barplot(data=count_each_dpt.reset_index(), x =\"Department Name\",\n",
    "                    y=\"Class Name\",edgecolor=\"k\",linewidth=1.2)\n",
    "ax[1].set_xlabel(\"Department Name\",size=15)\n",
    "ax[1].set_ylabel(\"Count\",size=15)\n",
    "ax[1].set_title(\"Ratings count for each department\",size=18,fontweight=\"bold\",pad=10)"
   ]
  },
  {
   "cell_type": "code",
   "execution_count": null,
   "metadata": {},
   "outputs": [],
   "source": []
  },
  {
   "cell_type": "code",
   "execution_count": null,
   "metadata": {},
   "outputs": [],
   "source": []
  },
  {
   "cell_type": "code",
   "execution_count": null,
   "metadata": {},
   "outputs": [],
   "source": []
  }
 ],
 "metadata": {
  "kernelspec": {
   "display_name": "Python 3",
   "language": "python",
   "name": "python3"
  },
  "language_info": {
   "codemirror_mode": {
    "name": "ipython",
    "version": 3
   },
   "file_extension": ".py",
   "mimetype": "text/x-python",
   "name": "python",
   "nbconvert_exporter": "python",
   "pygments_lexer": "ipython3",
   "version": "3.8.3"
  }
 },
 "nbformat": 4,
 "nbformat_minor": 4
}
