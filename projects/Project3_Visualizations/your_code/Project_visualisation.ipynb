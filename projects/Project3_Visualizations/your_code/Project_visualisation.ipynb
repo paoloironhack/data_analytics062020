{
 "cells": [
  {
   "cell_type": "markdown",
   "metadata": {},
   "source": [
    "# Introduction"
   ]
  },
  {
   "cell_type": "markdown",
   "metadata": {},
   "source": [
    "Entertainment industry and movies in particular are a fascinating topic and wanted to look into a movies dataset for a deep dive."
   ]
  },
  {
   "cell_type": "markdown",
   "metadata": {},
   "source": [
    "Questions for the project:\n",
    "1. Do certain movie genres get better reviews?\n",
    "2. Any correlation between length of movies and reviews? Does a certain length get better reviews?\n",
    "3. Is the language of the movies reflecting the reality of the world?\n",
    "\n",
    "For future analysis:\n",
    "* Which director has the most movies? Which director has the best reviews? (directors with 10 movies or more)\n",
    "* Is there a correlation between number of movies of a director and average votes?"
   ]
  },
  {
   "cell_type": "markdown",
   "metadata": {},
   "source": [
    "Plots to consider:\n",
    "1. standard plots - number of movies per genre \n",
    "2. boxplot - distribution of average votes per movie genre\n",
    "3. scatter plot of movie duration and average votes\n",
    "4. barplot of movie durations\n",
    "5. historical distribution of movies (per buckets of years, since 1900 to 2020)\n",
    "6. Average votes from 1 to 10 split per genre to see where are the most highly reviewed genres\n",
    "7. scatter plot top 10 movie languages versus languages in reality"
   ]
  },
  {
   "cell_type": "markdown",
   "metadata": {},
   "source": [
    "Importing the necessary libraries and the data"
   ]
  },
  {
   "cell_type": "code",
   "execution_count": 1,
   "metadata": {},
   "outputs": [],
   "source": [
    "import pandas as pd\n",
    "import numpy as np\n",
    "import matplotlib.pyplot as plt\n",
    "import seaborn as sns\n",
    "%matplotlib inline"
   ]
  },
  {
   "cell_type": "code",
   "execution_count": 2,
   "metadata": {},
   "outputs": [],
   "source": [
    "movies=pd.read_csv('../data/IMDb movies.csv')"
   ]
  },
  {
   "cell_type": "markdown",
   "metadata": {},
   "source": [
    "Cleaning the unnecessary columns"
   ]
  },
  {
   "cell_type": "code",
   "execution_count": 3,
   "metadata": {},
   "outputs": [
    {
     "data": {
      "text/html": [
       "<div>\n",
       "<style scoped>\n",
       "    .dataframe tbody tr th:only-of-type {\n",
       "        vertical-align: middle;\n",
       "    }\n",
       "\n",
       "    .dataframe tbody tr th {\n",
       "        vertical-align: top;\n",
       "    }\n",
       "\n",
       "    .dataframe thead th {\n",
       "        text-align: right;\n",
       "    }\n",
       "</style>\n",
       "<table border=\"1\" class=\"dataframe\">\n",
       "  <thead>\n",
       "    <tr style=\"text-align: right;\">\n",
       "      <th></th>\n",
       "      <th>imdb_title_id</th>\n",
       "      <th>title</th>\n",
       "      <th>year</th>\n",
       "      <th>genre</th>\n",
       "      <th>duration</th>\n",
       "      <th>country</th>\n",
       "      <th>language</th>\n",
       "      <th>director</th>\n",
       "      <th>writer</th>\n",
       "      <th>production_company</th>\n",
       "      <th>actors</th>\n",
       "      <th>avg_vote</th>\n",
       "      <th>votes</th>\n",
       "    </tr>\n",
       "  </thead>\n",
       "  <tbody>\n",
       "    <tr>\n",
       "      <td>0</td>\n",
       "      <td>tt0000574</td>\n",
       "      <td>The Story of the Kelly Gang</td>\n",
       "      <td>1906</td>\n",
       "      <td>Biography, Crime, Drama</td>\n",
       "      <td>70</td>\n",
       "      <td>Australia</td>\n",
       "      <td>NaN</td>\n",
       "      <td>Charles Tait</td>\n",
       "      <td>Charles Tait</td>\n",
       "      <td>J. and N. Tait</td>\n",
       "      <td>Elizabeth Tait, John Tait, Norman Campbell, Be...</td>\n",
       "      <td>6.1</td>\n",
       "      <td>537</td>\n",
       "    </tr>\n",
       "    <tr>\n",
       "      <td>1</td>\n",
       "      <td>tt0001892</td>\n",
       "      <td>Den sorte drøm</td>\n",
       "      <td>1911</td>\n",
       "      <td>Drama</td>\n",
       "      <td>53</td>\n",
       "      <td>Germany, Denmark</td>\n",
       "      <td>NaN</td>\n",
       "      <td>Urban Gad</td>\n",
       "      <td>Urban Gad, Gebhard Schätzler-Perasini</td>\n",
       "      <td>Fotorama</td>\n",
       "      <td>Asta Nielsen, Valdemar Psilander, Gunnar Helse...</td>\n",
       "      <td>5.9</td>\n",
       "      <td>171</td>\n",
       "    </tr>\n",
       "    <tr>\n",
       "      <td>2</td>\n",
       "      <td>tt0002101</td>\n",
       "      <td>Cleopatra</td>\n",
       "      <td>1912</td>\n",
       "      <td>Drama, History</td>\n",
       "      <td>100</td>\n",
       "      <td>USA</td>\n",
       "      <td>English</td>\n",
       "      <td>Charles L. Gaskill</td>\n",
       "      <td>Victorien Sardou</td>\n",
       "      <td>Helen Gardner Picture Players</td>\n",
       "      <td>Helen Gardner, Pearl Sindelar, Miss Fielding, ...</td>\n",
       "      <td>5.2</td>\n",
       "      <td>420</td>\n",
       "    </tr>\n",
       "    <tr>\n",
       "      <td>3</td>\n",
       "      <td>tt0002130</td>\n",
       "      <td>L'Inferno</td>\n",
       "      <td>1911</td>\n",
       "      <td>Adventure, Drama, Fantasy</td>\n",
       "      <td>68</td>\n",
       "      <td>Italy</td>\n",
       "      <td>Italian</td>\n",
       "      <td>Francesco Bertolini, Adolfo Padovan</td>\n",
       "      <td>Dante Alighieri</td>\n",
       "      <td>Milano Film</td>\n",
       "      <td>Salvatore Papa, Arturo Pirovano, Giuseppe de L...</td>\n",
       "      <td>7.0</td>\n",
       "      <td>2019</td>\n",
       "    </tr>\n",
       "    <tr>\n",
       "      <td>4</td>\n",
       "      <td>tt0002199</td>\n",
       "      <td>From the Manger to the Cross; or, Jesus of Naz...</td>\n",
       "      <td>1912</td>\n",
       "      <td>Biography, Drama</td>\n",
       "      <td>60</td>\n",
       "      <td>USA</td>\n",
       "      <td>English</td>\n",
       "      <td>Sidney Olcott</td>\n",
       "      <td>Gene Gauntier</td>\n",
       "      <td>Kalem Company</td>\n",
       "      <td>R. Henderson Bland, Percy Dyer, Gene Gauntier,...</td>\n",
       "      <td>5.7</td>\n",
       "      <td>438</td>\n",
       "    </tr>\n",
       "    <tr>\n",
       "      <td>...</td>\n",
       "      <td>...</td>\n",
       "      <td>...</td>\n",
       "      <td>...</td>\n",
       "      <td>...</td>\n",
       "      <td>...</td>\n",
       "      <td>...</td>\n",
       "      <td>...</td>\n",
       "      <td>...</td>\n",
       "      <td>...</td>\n",
       "      <td>...</td>\n",
       "      <td>...</td>\n",
       "      <td>...</td>\n",
       "      <td>...</td>\n",
       "    </tr>\n",
       "    <tr>\n",
       "      <td>81268</td>\n",
       "      <td>tt9903716</td>\n",
       "      <td>Jessie</td>\n",
       "      <td>2019</td>\n",
       "      <td>Horror, Thriller</td>\n",
       "      <td>106</td>\n",
       "      <td>India</td>\n",
       "      <td>Telugu</td>\n",
       "      <td>Aswani Kumar V.</td>\n",
       "      <td>Aswani Kumar V.</td>\n",
       "      <td>Ekaa Art Production</td>\n",
       "      <td>Sritha Chandana, Pavani Gangireddy, Abhinav Go...</td>\n",
       "      <td>7.2</td>\n",
       "      <td>219</td>\n",
       "    </tr>\n",
       "    <tr>\n",
       "      <td>81269</td>\n",
       "      <td>tt9905412</td>\n",
       "      <td>Ottam</td>\n",
       "      <td>2019</td>\n",
       "      <td>Drama</td>\n",
       "      <td>120</td>\n",
       "      <td>India</td>\n",
       "      <td>Malayalam</td>\n",
       "      <td>Zam</td>\n",
       "      <td>Rajesh k Narayan</td>\n",
       "      <td>Thomas Thiruvalla Films</td>\n",
       "      <td>Nandu Anand, Roshan Ullas, Manikandan R. Achar...</td>\n",
       "      <td>7.8</td>\n",
       "      <td>510</td>\n",
       "    </tr>\n",
       "    <tr>\n",
       "      <td>81270</td>\n",
       "      <td>tt9905462</td>\n",
       "      <td>Pengalila</td>\n",
       "      <td>2019</td>\n",
       "      <td>Drama</td>\n",
       "      <td>111</td>\n",
       "      <td>India</td>\n",
       "      <td>Malayalam</td>\n",
       "      <td>T.V. Chandran</td>\n",
       "      <td>T.V. Chandran</td>\n",
       "      <td>Benzy Productions</td>\n",
       "      <td>Lal, Akshara Kishor, Iniya, Narain, Renji Pani...</td>\n",
       "      <td>8.4</td>\n",
       "      <td>604</td>\n",
       "    </tr>\n",
       "    <tr>\n",
       "      <td>81271</td>\n",
       "      <td>tt9911774</td>\n",
       "      <td>Padmavyuhathile Abhimanyu</td>\n",
       "      <td>2019</td>\n",
       "      <td>Drama</td>\n",
       "      <td>130</td>\n",
       "      <td>India</td>\n",
       "      <td>Malayalam</td>\n",
       "      <td>Vineesh Aaradya</td>\n",
       "      <td>Vineesh Aaradya, Vineesh Aaradya</td>\n",
       "      <td>RMCC Productions</td>\n",
       "      <td>Anoop Chandran, Indrans, Sona Nair, Simon Brit...</td>\n",
       "      <td>8.4</td>\n",
       "      <td>369</td>\n",
       "    </tr>\n",
       "    <tr>\n",
       "      <td>81272</td>\n",
       "      <td>tt9914286</td>\n",
       "      <td>Sokagin Çocuklari</td>\n",
       "      <td>2019</td>\n",
       "      <td>Drama, Family</td>\n",
       "      <td>98</td>\n",
       "      <td>Turkey</td>\n",
       "      <td>Turkish</td>\n",
       "      <td>Ahmet Faik Akinci</td>\n",
       "      <td>Ahmet Faik Akinci, Kasim Uçkan</td>\n",
       "      <td>Gizem Ajans</td>\n",
       "      <td>Ahmet Faik Akinci, Belma Mamati, Metin Keçeci,...</td>\n",
       "      <td>7.2</td>\n",
       "      <td>190</td>\n",
       "    </tr>\n",
       "  </tbody>\n",
       "</table>\n",
       "<p>81273 rows × 13 columns</p>\n",
       "</div>"
      ],
      "text/plain": [
       "      imdb_title_id                                              title  year  \\\n",
       "0         tt0000574                        The Story of the Kelly Gang  1906   \n",
       "1         tt0001892                                     Den sorte drøm  1911   \n",
       "2         tt0002101                                          Cleopatra  1912   \n",
       "3         tt0002130                                          L'Inferno  1911   \n",
       "4         tt0002199  From the Manger to the Cross; or, Jesus of Naz...  1912   \n",
       "...             ...                                                ...   ...   \n",
       "81268     tt9903716                                             Jessie  2019   \n",
       "81269     tt9905412                                              Ottam  2019   \n",
       "81270     tt9905462                                          Pengalila  2019   \n",
       "81271     tt9911774                          Padmavyuhathile Abhimanyu  2019   \n",
       "81272     tt9914286                                  Sokagin Çocuklari  2019   \n",
       "\n",
       "                           genre  duration           country   language  \\\n",
       "0        Biography, Crime, Drama        70         Australia        NaN   \n",
       "1                          Drama        53  Germany, Denmark        NaN   \n",
       "2                 Drama, History       100               USA    English   \n",
       "3      Adventure, Drama, Fantasy        68             Italy    Italian   \n",
       "4               Biography, Drama        60               USA    English   \n",
       "...                          ...       ...               ...        ...   \n",
       "81268           Horror, Thriller       106             India     Telugu   \n",
       "81269                      Drama       120             India  Malayalam   \n",
       "81270                      Drama       111             India  Malayalam   \n",
       "81271                      Drama       130             India  Malayalam   \n",
       "81272              Drama, Family        98            Turkey    Turkish   \n",
       "\n",
       "                                  director  \\\n",
       "0                             Charles Tait   \n",
       "1                                Urban Gad   \n",
       "2                       Charles L. Gaskill   \n",
       "3      Francesco Bertolini, Adolfo Padovan   \n",
       "4                            Sidney Olcott   \n",
       "...                                    ...   \n",
       "81268                      Aswani Kumar V.   \n",
       "81269                                  Zam   \n",
       "81270                        T.V. Chandran   \n",
       "81271                      Vineesh Aaradya   \n",
       "81272                    Ahmet Faik Akinci   \n",
       "\n",
       "                                      writer             production_company  \\\n",
       "0                               Charles Tait                 J. and N. Tait   \n",
       "1      Urban Gad, Gebhard Schätzler-Perasini                       Fotorama   \n",
       "2                           Victorien Sardou  Helen Gardner Picture Players   \n",
       "3                            Dante Alighieri                    Milano Film   \n",
       "4                              Gene Gauntier                  Kalem Company   \n",
       "...                                      ...                            ...   \n",
       "81268                        Aswani Kumar V.            Ekaa Art Production   \n",
       "81269                       Rajesh k Narayan        Thomas Thiruvalla Films   \n",
       "81270                          T.V. Chandran              Benzy Productions   \n",
       "81271       Vineesh Aaradya, Vineesh Aaradya               RMCC Productions   \n",
       "81272         Ahmet Faik Akinci, Kasim Uçkan                    Gizem Ajans   \n",
       "\n",
       "                                                  actors  avg_vote  votes  \n",
       "0      Elizabeth Tait, John Tait, Norman Campbell, Be...       6.1    537  \n",
       "1      Asta Nielsen, Valdemar Psilander, Gunnar Helse...       5.9    171  \n",
       "2      Helen Gardner, Pearl Sindelar, Miss Fielding, ...       5.2    420  \n",
       "3      Salvatore Papa, Arturo Pirovano, Giuseppe de L...       7.0   2019  \n",
       "4      R. Henderson Bland, Percy Dyer, Gene Gauntier,...       5.7    438  \n",
       "...                                                  ...       ...    ...  \n",
       "81268  Sritha Chandana, Pavani Gangireddy, Abhinav Go...       7.2    219  \n",
       "81269  Nandu Anand, Roshan Ullas, Manikandan R. Achar...       7.8    510  \n",
       "81270  Lal, Akshara Kishor, Iniya, Narain, Renji Pani...       8.4    604  \n",
       "81271  Anoop Chandran, Indrans, Sona Nair, Simon Brit...       8.4    369  \n",
       "81272  Ahmet Faik Akinci, Belma Mamati, Metin Keçeci,...       7.2    190  \n",
       "\n",
       "[81273 rows x 13 columns]"
      ]
     },
     "execution_count": 3,
     "metadata": {},
     "output_type": "execute_result"
    }
   ],
   "source": [
    "movies.drop(columns=['budget','usa_gross_income','worlwide_gross_income','metascore','reviews_from_users','reviews_from_critics','date_published','original_title','description'], inplace=True)\n",
    "movies"
   ]
  },
  {
   "cell_type": "markdown",
   "metadata": {},
   "source": [
    "Checking the columns with na values and cleaning them"
   ]
  },
  {
   "cell_type": "code",
   "execution_count": 4,
   "metadata": {},
   "outputs": [
    {
     "data": {
      "text/plain": [
       "['country', 'language', 'director', 'writer', 'production_company', 'actors']"
      ]
     },
     "execution_count": 4,
     "metadata": {},
     "output_type": "execute_result"
    }
   ],
   "source": [
    "movies.columns[movies.isna().any()].tolist()"
   ]
  },
  {
   "cell_type": "code",
   "execution_count": 5,
   "metadata": {},
   "outputs": [
    {
     "data": {
      "text/plain": [
       "imdb_title_id            0\n",
       "title                    0\n",
       "year                     0\n",
       "genre                    0\n",
       "duration                 0\n",
       "country                 39\n",
       "language               755\n",
       "director                73\n",
       "writer                1493\n",
       "production_company    4325\n",
       "actors                  66\n",
       "avg_vote                 0\n",
       "votes                    0\n",
       "dtype: int64"
      ]
     },
     "execution_count": 5,
     "metadata": {},
     "output_type": "execute_result"
    }
   ],
   "source": [
    "movies.isnull().sum()"
   ]
  },
  {
   "cell_type": "code",
   "execution_count": 6,
   "metadata": {},
   "outputs": [],
   "source": [
    "movies.dropna(subset=['writer', 'production_company','director','actors','country','language'],inplace=True) #dropping all columns rows with no values"
   ]
  },
  {
   "cell_type": "markdown",
   "metadata": {},
   "source": [
    "Checking if there are any remaining na values"
   ]
  },
  {
   "cell_type": "code",
   "execution_count": 7,
   "metadata": {},
   "outputs": [
    {
     "data": {
      "text/plain": [
       "0"
      ]
     },
     "execution_count": 7,
     "metadata": {},
     "output_type": "execute_result"
    }
   ],
   "source": [
    "movies.isnull().any(axis = 1).sum()"
   ]
  },
  {
   "cell_type": "markdown",
   "metadata": {},
   "source": [
    "Prepare the data for the Language analysis\n",
    "We take only the 1st language in the list, where there are multiple languages listed"
   ]
  },
  {
   "cell_type": "code",
   "execution_count": 8,
   "metadata": {},
   "outputs": [],
   "source": [
    "movies['Main_language'] = movies['language'].str.split().str[0]\n",
    "movies['Main_language'] = movies['Main_language'].replace({',': ''}, regex=True)"
   ]
  },
  {
   "cell_type": "markdown",
   "metadata": {},
   "source": [
    "checking the number of movies per language"
   ]
  },
  {
   "cell_type": "code",
   "execution_count": 9,
   "metadata": {},
   "outputs": [
    {
     "data": {
      "text/html": [
       "<div>\n",
       "<style scoped>\n",
       "    .dataframe tbody tr th:only-of-type {\n",
       "        vertical-align: middle;\n",
       "    }\n",
       "\n",
       "    .dataframe tbody tr th {\n",
       "        vertical-align: top;\n",
       "    }\n",
       "\n",
       "    .dataframe thead th {\n",
       "        text-align: right;\n",
       "    }\n",
       "</style>\n",
       "<table border=\"1\" class=\"dataframe\">\n",
       "  <thead>\n",
       "    <tr style=\"text-align: right;\">\n",
       "      <th></th>\n",
       "      <th>imdb_title_id</th>\n",
       "      <th>title</th>\n",
       "      <th>year</th>\n",
       "      <th>genre</th>\n",
       "      <th>duration</th>\n",
       "      <th>country</th>\n",
       "      <th>language</th>\n",
       "      <th>director</th>\n",
       "      <th>writer</th>\n",
       "      <th>production_company</th>\n",
       "      <th>actors</th>\n",
       "      <th>avg_vote</th>\n",
       "      <th>votes</th>\n",
       "    </tr>\n",
       "    <tr>\n",
       "      <th>Main_language</th>\n",
       "      <th></th>\n",
       "      <th></th>\n",
       "      <th></th>\n",
       "      <th></th>\n",
       "      <th></th>\n",
       "      <th></th>\n",
       "      <th></th>\n",
       "      <th></th>\n",
       "      <th></th>\n",
       "      <th></th>\n",
       "      <th></th>\n",
       "      <th></th>\n",
       "      <th></th>\n",
       "    </tr>\n",
       "  </thead>\n",
       "  <tbody>\n",
       "    <tr>\n",
       "      <td>English</td>\n",
       "      <td>39333</td>\n",
       "      <td>39333</td>\n",
       "      <td>39333</td>\n",
       "      <td>39333</td>\n",
       "      <td>39333</td>\n",
       "      <td>39333</td>\n",
       "      <td>39333</td>\n",
       "      <td>39333</td>\n",
       "      <td>39333</td>\n",
       "      <td>39333</td>\n",
       "      <td>39333</td>\n",
       "      <td>39333</td>\n",
       "      <td>39333</td>\n",
       "    </tr>\n",
       "    <tr>\n",
       "      <td>French</td>\n",
       "      <td>5109</td>\n",
       "      <td>5109</td>\n",
       "      <td>5109</td>\n",
       "      <td>5109</td>\n",
       "      <td>5109</td>\n",
       "      <td>5109</td>\n",
       "      <td>5109</td>\n",
       "      <td>5109</td>\n",
       "      <td>5109</td>\n",
       "      <td>5109</td>\n",
       "      <td>5109</td>\n",
       "      <td>5109</td>\n",
       "      <td>5109</td>\n",
       "    </tr>\n",
       "    <tr>\n",
       "      <td>Spanish</td>\n",
       "      <td>3037</td>\n",
       "      <td>3037</td>\n",
       "      <td>3037</td>\n",
       "      <td>3037</td>\n",
       "      <td>3037</td>\n",
       "      <td>3037</td>\n",
       "      <td>3037</td>\n",
       "      <td>3037</td>\n",
       "      <td>3037</td>\n",
       "      <td>3037</td>\n",
       "      <td>3037</td>\n",
       "      <td>3037</td>\n",
       "      <td>3037</td>\n",
       "    </tr>\n",
       "    <tr>\n",
       "      <td>Italian</td>\n",
       "      <td>2994</td>\n",
       "      <td>2994</td>\n",
       "      <td>2994</td>\n",
       "      <td>2994</td>\n",
       "      <td>2994</td>\n",
       "      <td>2994</td>\n",
       "      <td>2994</td>\n",
       "      <td>2994</td>\n",
       "      <td>2994</td>\n",
       "      <td>2994</td>\n",
       "      <td>2994</td>\n",
       "      <td>2994</td>\n",
       "      <td>2994</td>\n",
       "    </tr>\n",
       "    <tr>\n",
       "      <td>Japanese</td>\n",
       "      <td>2714</td>\n",
       "      <td>2714</td>\n",
       "      <td>2714</td>\n",
       "      <td>2714</td>\n",
       "      <td>2714</td>\n",
       "      <td>2714</td>\n",
       "      <td>2714</td>\n",
       "      <td>2714</td>\n",
       "      <td>2714</td>\n",
       "      <td>2714</td>\n",
       "      <td>2714</td>\n",
       "      <td>2714</td>\n",
       "      <td>2714</td>\n",
       "    </tr>\n",
       "    <tr>\n",
       "      <td>...</td>\n",
       "      <td>...</td>\n",
       "      <td>...</td>\n",
       "      <td>...</td>\n",
       "      <td>...</td>\n",
       "      <td>...</td>\n",
       "      <td>...</td>\n",
       "      <td>...</td>\n",
       "      <td>...</td>\n",
       "      <td>...</td>\n",
       "      <td>...</td>\n",
       "      <td>...</td>\n",
       "      <td>...</td>\n",
       "      <td>...</td>\n",
       "    </tr>\n",
       "    <tr>\n",
       "      <td>Cree</td>\n",
       "      <td>1</td>\n",
       "      <td>1</td>\n",
       "      <td>1</td>\n",
       "      <td>1</td>\n",
       "      <td>1</td>\n",
       "      <td>1</td>\n",
       "      <td>1</td>\n",
       "      <td>1</td>\n",
       "      <td>1</td>\n",
       "      <td>1</td>\n",
       "      <td>1</td>\n",
       "      <td>1</td>\n",
       "      <td>1</td>\n",
       "    </tr>\n",
       "    <tr>\n",
       "      <td>Samoan</td>\n",
       "      <td>1</td>\n",
       "      <td>1</td>\n",
       "      <td>1</td>\n",
       "      <td>1</td>\n",
       "      <td>1</td>\n",
       "      <td>1</td>\n",
       "      <td>1</td>\n",
       "      <td>1</td>\n",
       "      <td>1</td>\n",
       "      <td>1</td>\n",
       "      <td>1</td>\n",
       "      <td>1</td>\n",
       "      <td>1</td>\n",
       "    </tr>\n",
       "    <tr>\n",
       "      <td>Sanskrit</td>\n",
       "      <td>1</td>\n",
       "      <td>1</td>\n",
       "      <td>1</td>\n",
       "      <td>1</td>\n",
       "      <td>1</td>\n",
       "      <td>1</td>\n",
       "      <td>1</td>\n",
       "      <td>1</td>\n",
       "      <td>1</td>\n",
       "      <td>1</td>\n",
       "      <td>1</td>\n",
       "      <td>1</td>\n",
       "      <td>1</td>\n",
       "    </tr>\n",
       "    <tr>\n",
       "      <td>Sardinian</td>\n",
       "      <td>1</td>\n",
       "      <td>1</td>\n",
       "      <td>1</td>\n",
       "      <td>1</td>\n",
       "      <td>1</td>\n",
       "      <td>1</td>\n",
       "      <td>1</td>\n",
       "      <td>1</td>\n",
       "      <td>1</td>\n",
       "      <td>1</td>\n",
       "      <td>1</td>\n",
       "      <td>1</td>\n",
       "      <td>1</td>\n",
       "    </tr>\n",
       "    <tr>\n",
       "      <td>Lingala</td>\n",
       "      <td>1</td>\n",
       "      <td>1</td>\n",
       "      <td>1</td>\n",
       "      <td>1</td>\n",
       "      <td>1</td>\n",
       "      <td>1</td>\n",
       "      <td>1</td>\n",
       "      <td>1</td>\n",
       "      <td>1</td>\n",
       "      <td>1</td>\n",
       "      <td>1</td>\n",
       "      <td>1</td>\n",
       "      <td>1</td>\n",
       "    </tr>\n",
       "  </tbody>\n",
       "</table>\n",
       "<p>153 rows × 13 columns</p>\n",
       "</div>"
      ],
      "text/plain": [
       "               imdb_title_id  title   year  genre  duration  country  \\\n",
       "Main_language                                                          \n",
       "English                39333  39333  39333  39333     39333    39333   \n",
       "French                  5109   5109   5109   5109      5109     5109   \n",
       "Spanish                 3037   3037   3037   3037      3037     3037   \n",
       "Italian                 2994   2994   2994   2994      2994     2994   \n",
       "Japanese                2714   2714   2714   2714      2714     2714   \n",
       "...                      ...    ...    ...    ...       ...      ...   \n",
       "Cree                       1      1      1      1         1        1   \n",
       "Samoan                     1      1      1      1         1        1   \n",
       "Sanskrit                   1      1      1      1         1        1   \n",
       "Sardinian                  1      1      1      1         1        1   \n",
       "Lingala                    1      1      1      1         1        1   \n",
       "\n",
       "               language  director  writer  production_company  actors  \\\n",
       "Main_language                                                           \n",
       "English           39333     39333   39333               39333   39333   \n",
       "French             5109      5109    5109                5109    5109   \n",
       "Spanish            3037      3037    3037                3037    3037   \n",
       "Italian            2994      2994    2994                2994    2994   \n",
       "Japanese           2714      2714    2714                2714    2714   \n",
       "...                 ...       ...     ...                 ...     ...   \n",
       "Cree                  1         1       1                   1       1   \n",
       "Samoan                1         1       1                   1       1   \n",
       "Sanskrit              1         1       1                   1       1   \n",
       "Sardinian             1         1       1                   1       1   \n",
       "Lingala               1         1       1                   1       1   \n",
       "\n",
       "               avg_vote  votes  \n",
       "Main_language                   \n",
       "English           39333  39333  \n",
       "French             5109   5109  \n",
       "Spanish            3037   3037  \n",
       "Italian            2994   2994  \n",
       "Japanese           2714   2714  \n",
       "...                 ...    ...  \n",
       "Cree                  1      1  \n",
       "Samoan                1      1  \n",
       "Sanskrit              1      1  \n",
       "Sardinian             1      1  \n",
       "Lingala               1      1  \n",
       "\n",
       "[153 rows x 13 columns]"
      ]
     },
     "execution_count": 9,
     "metadata": {},
     "output_type": "execute_result"
    }
   ],
   "source": [
    "languages=movies.groupby(['Main_language'], axis=0).count().sort_values(by=['title'],ascending=False)\n",
    "languages "
   ]
  },
  {
   "cell_type": "code",
   "execution_count": 10,
   "metadata": {},
   "outputs": [],
   "source": [
    "#This part is set aside for a future analysis\n",
    "#checking the number of movies per director\n",
    "#directors=movies.groupby(['director'], axis=0).count().sort_values(by=['title'],ascending=False)\n",
    "#directors "
   ]
  },
  {
   "cell_type": "code",
   "execution_count": 11,
   "metadata": {},
   "outputs": [],
   "source": [
    "#indexNames = df2[df2['title'] <10].index\n",
    "#df2.drop(indexNames , inplace=True)\n",
    "#df2 #keep only directors with 10 or more movies"
   ]
  },
  {
   "cell_type": "code",
   "execution_count": 12,
   "metadata": {},
   "outputs": [],
   "source": [
    "#directors.drop(columns=['title','year','genre','duration','country','language','writer','production_company','actors','avg_vote','votes'], inplace=True)\n",
    "#directors.head()"
   ]
  },
  {
   "cell_type": "code",
   "execution_count": 13,
   "metadata": {},
   "outputs": [],
   "source": [
    "#movies = movies.merge(directors, on='director') #add an extra column showing the number of movies of each director\n",
    "#movies.rename(columns = {'imdb_title_id_y': 'Total movies of director'}, inplace = True)\n",
    "#movies"
   ]
  },
  {
   "cell_type": "markdown",
   "metadata": {},
   "source": [
    "# Visualizing with a scatter plot the relation between top 10 languages in movies compared to languages spoken worldwide"
   ]
  },
  {
   "cell_type": "code",
   "execution_count": 14,
   "metadata": {},
   "outputs": [
    {
     "data": {
      "text/html": [
       "<div>\n",
       "<style scoped>\n",
       "    .dataframe tbody tr th:only-of-type {\n",
       "        vertical-align: middle;\n",
       "    }\n",
       "\n",
       "    .dataframe tbody tr th {\n",
       "        vertical-align: top;\n",
       "    }\n",
       "\n",
       "    .dataframe thead th {\n",
       "        text-align: right;\n",
       "    }\n",
       "</style>\n",
       "<table border=\"1\" class=\"dataframe\">\n",
       "  <thead>\n",
       "    <tr style=\"text-align: right;\">\n",
       "      <th></th>\n",
       "      <th>Main_language</th>\n",
       "      <th>avg_vote</th>\n",
       "      <th>title</th>\n",
       "      <th>Percentage_all_movies</th>\n",
       "      <th>Spoken</th>\n",
       "      <th>Percentage_spoken</th>\n",
       "    </tr>\n",
       "  </thead>\n",
       "  <tbody>\n",
       "    <tr>\n",
       "      <td>34</td>\n",
       "      <td>English</td>\n",
       "      <td>39333</td>\n",
       "      <td>39333</td>\n",
       "      <td>52.324700</td>\n",
       "      <td>1132</td>\n",
       "      <td>14.512821</td>\n",
       "    </tr>\n",
       "    <tr>\n",
       "      <td>41</td>\n",
       "      <td>French</td>\n",
       "      <td>5109</td>\n",
       "      <td>5109</td>\n",
       "      <td>6.796504</td>\n",
       "      <td>280</td>\n",
       "      <td>3.589744</td>\n",
       "    </tr>\n",
       "    <tr>\n",
       "      <td>125</td>\n",
       "      <td>Spanish</td>\n",
       "      <td>3037</td>\n",
       "      <td>3037</td>\n",
       "      <td>4.040122</td>\n",
       "      <td>534</td>\n",
       "      <td>6.846154</td>\n",
       "    </tr>\n",
       "    <tr>\n",
       "      <td>62</td>\n",
       "      <td>Italian</td>\n",
       "      <td>2994</td>\n",
       "      <td>2994</td>\n",
       "      <td>3.982919</td>\n",
       "      <td>63</td>\n",
       "      <td>0.807692</td>\n",
       "    </tr>\n",
       "    <tr>\n",
       "      <td>63</td>\n",
       "      <td>Japanese</td>\n",
       "      <td>2714</td>\n",
       "      <td>2714</td>\n",
       "      <td>3.610435</td>\n",
       "      <td>126</td>\n",
       "      <td>1.615385</td>\n",
       "    </tr>\n",
       "    <tr>\n",
       "      <td>45</td>\n",
       "      <td>German</td>\n",
       "      <td>2252</td>\n",
       "      <td>2252</td>\n",
       "      <td>2.995836</td>\n",
       "      <td>175</td>\n",
       "      <td>2.243590</td>\n",
       "    </tr>\n",
       "    <tr>\n",
       "      <td>55</td>\n",
       "      <td>Hindi</td>\n",
       "      <td>2139</td>\n",
       "      <td>2139</td>\n",
       "      <td>2.845512</td>\n",
       "      <td>615</td>\n",
       "      <td>7.884615</td>\n",
       "    </tr>\n",
       "    <tr>\n",
       "      <td>109</td>\n",
       "      <td>Russian</td>\n",
       "      <td>1357</td>\n",
       "      <td>1357</td>\n",
       "      <td>1.805217</td>\n",
       "      <td>258</td>\n",
       "      <td>3.307692</td>\n",
       "    </tr>\n",
       "    <tr>\n",
       "      <td>140</td>\n",
       "      <td>Turkish</td>\n",
       "      <td>1113</td>\n",
       "      <td>1113</td>\n",
       "      <td>1.480624</td>\n",
       "      <td>78</td>\n",
       "      <td>1.000000</td>\n",
       "    </tr>\n",
       "    <tr>\n",
       "      <td>22</td>\n",
       "      <td>Cantonese</td>\n",
       "      <td>1031</td>\n",
       "      <td>1031</td>\n",
       "      <td>1.371540</td>\n",
       "      <td>80</td>\n",
       "      <td>1.025641</td>\n",
       "    </tr>\n",
       "  </tbody>\n",
       "</table>\n",
       "</div>"
      ],
      "text/plain": [
       "    Main_language  avg_vote  title  Percentage_all_movies  Spoken  \\\n",
       "34        English     39333  39333              52.324700    1132   \n",
       "41         French      5109   5109               6.796504     280   \n",
       "125       Spanish      3037   3037               4.040122     534   \n",
       "62        Italian      2994   2994               3.982919      63   \n",
       "63       Japanese      2714   2714               3.610435     126   \n",
       "45         German      2252   2252               2.995836     175   \n",
       "55          Hindi      2139   2139               2.845512     615   \n",
       "109       Russian      1357   1357               1.805217     258   \n",
       "140       Turkish      1113   1113               1.480624      78   \n",
       "22      Cantonese      1031   1031               1.371540      80   \n",
       "\n",
       "     Percentage_spoken  \n",
       "34           14.512821  \n",
       "41            3.589744  \n",
       "125           6.846154  \n",
       "62            0.807692  \n",
       "63            1.615385  \n",
       "45            2.243590  \n",
       "55            7.884615  \n",
       "109           3.307692  \n",
       "140           1.000000  \n",
       "22            1.025641  "
      ]
     },
     "execution_count": 14,
     "metadata": {},
     "output_type": "execute_result"
    }
   ],
   "source": [
    "lang = movies[['avg_vote', 'Main_language','title']].copy()\n",
    "Langsum=lang.groupby(['Main_language']).count().reset_index()\n",
    "top10l=Langsum.nlargest(10, 'title')\n",
    "top10l['Percentage_all_movies']=(top10l['title']/75171)*100\n",
    "top10l['Spoken']=[1132,280,534,63,126,175,615,258,78,80]\n",
    "top10l['Percentage_spoken']=(top10l['Spoken']/7800)*100\n",
    "top10l"
   ]
  },
  {
   "cell_type": "code",
   "execution_count": 15,
   "metadata": {},
   "outputs": [
    {
     "data": {
      "text/plain": [
       "Text(0.5, 1.0, 'Top 10 main languages in movies compared to languages spoken worldwide')"
      ]
     },
     "execution_count": 15,
     "metadata": {},
     "output_type": "execute_result"
    },
    {
     "data": {
      "image/png": "[encoded data removed]",
      "text/plain": [
       "<Figure size 432x288 with 1 Axes>"
      ]
     },
     "metadata": {
      "needs_background": "light"
     },
     "output_type": "display_data"
    }
   ],
   "source": [
    "sns.scatterplot(data=top10l, x=\"Percentage_all_movies\", y=\"Percentage_spoken\", hue='Main_language').set_title('Top 10 main languages in movies compared to languages spoken worldwide')"
   ]
  },
  {
   "cell_type": "markdown",
   "metadata": {},
   "source": [
    "interesting to note that Mandarin Chinese (2nd most spoken language with 1117 mil, Standard Arabic with 274 mil, Bengali with 265 mil, Portuguese with 234 mil, Indonesian with 199 mil are not even appearing in the top 10 list of movie languages)"
   ]
  },
  {
   "cell_type": "markdown",
   "metadata": {},
   "source": [
    "# Visualizing with relplot correlation between movie duration and average votes"
   ]
  },
  {
   "cell_type": "code",
   "execution_count": 16,
   "metadata": {},
   "outputs": [],
   "source": [
    "duration = movies[['avg_vote', 'duration','title']].copy()"
   ]
  },
  {
   "cell_type": "code",
   "execution_count": 17,
   "metadata": {},
   "outputs": [
    {
     "data": {
      "text/plain": [
       "Text(10.049999999999997, 0.5, 'Average votes')"
      ]
     },
     "execution_count": 17,
     "metadata": {},
     "output_type": "execute_result"
    },
    {
     "data": {
      "image/png": "[encoded data removed]",
      "text/plain": [
       "<Figure size 360x360 with 1 Axes>"
      ]
     },
     "metadata": {
      "needs_background": "light"
     },
     "output_type": "display_data"
    }
   ],
   "source": [
    "g=sns.relplot(data=duration,x=\"duration\", y=\"avg_vote\", sizes=(10, 200))\n",
    "g.fig.suptitle('Average votes versus movie duration')\n",
    "plt.xlabel(\"Duration in minutes\")\n",
    "plt.ylabel(\"Average votes\")"
   ]
  },
  {
   "cell_type": "markdown",
   "metadata": {},
   "source": [
    "there does not seem to be any correlation between duration of a movie and the average vote"
   ]
  },
  {
   "cell_type": "markdown",
   "metadata": {},
   "source": [
    "Creating bins to represent duration of movies based on length"
   ]
  },
  {
   "cell_type": "code",
   "execution_count": 18,
   "metadata": {},
   "outputs": [
    {
     "data": {
      "text/html": [
       "<div>\n",
       "<style scoped>\n",
       "    .dataframe tbody tr th:only-of-type {\n",
       "        vertical-align: middle;\n",
       "    }\n",
       "\n",
       "    .dataframe tbody tr th {\n",
       "        vertical-align: top;\n",
       "    }\n",
       "\n",
       "    .dataframe thead th {\n",
       "        text-align: right;\n",
       "    }\n",
       "</style>\n",
       "<table border=\"1\" class=\"dataframe\">\n",
       "  <thead>\n",
       "    <tr style=\"text-align: right;\">\n",
       "      <th></th>\n",
       "      <th>avg_vote</th>\n",
       "      <th>duration</th>\n",
       "      <th>title</th>\n",
       "      <th>Duration</th>\n",
       "    </tr>\n",
       "  </thead>\n",
       "  <tbody>\n",
       "    <tr>\n",
       "      <td>2</td>\n",
       "      <td>5.2</td>\n",
       "      <td>100</td>\n",
       "      <td>Cleopatra</td>\n",
       "      <td>standard</td>\n",
       "    </tr>\n",
       "    <tr>\n",
       "      <td>3</td>\n",
       "      <td>7.0</td>\n",
       "      <td>68</td>\n",
       "      <td>L'Inferno</td>\n",
       "      <td>short</td>\n",
       "    </tr>\n",
       "    <tr>\n",
       "      <td>4</td>\n",
       "      <td>5.7</td>\n",
       "      <td>60</td>\n",
       "      <td>From the Manger to the Cross; or, Jesus of Naz...</td>\n",
       "      <td>short</td>\n",
       "    </tr>\n",
       "    <tr>\n",
       "      <td>5</td>\n",
       "      <td>6.8</td>\n",
       "      <td>85</td>\n",
       "      <td>Madame DuBarry</td>\n",
       "      <td>short</td>\n",
       "    </tr>\n",
       "    <tr>\n",
       "      <td>6</td>\n",
       "      <td>6.2</td>\n",
       "      <td>120</td>\n",
       "      <td>Quo Vadis?</td>\n",
       "      <td>standard</td>\n",
       "    </tr>\n",
       "    <tr>\n",
       "      <td>...</td>\n",
       "      <td>...</td>\n",
       "      <td>...</td>\n",
       "      <td>...</td>\n",
       "      <td>...</td>\n",
       "    </tr>\n",
       "    <tr>\n",
       "      <td>81268</td>\n",
       "      <td>7.2</td>\n",
       "      <td>106</td>\n",
       "      <td>Jessie</td>\n",
       "      <td>standard</td>\n",
       "    </tr>\n",
       "    <tr>\n",
       "      <td>81269</td>\n",
       "      <td>7.8</td>\n",
       "      <td>120</td>\n",
       "      <td>Ottam</td>\n",
       "      <td>standard</td>\n",
       "    </tr>\n",
       "    <tr>\n",
       "      <td>81270</td>\n",
       "      <td>8.4</td>\n",
       "      <td>111</td>\n",
       "      <td>Pengalila</td>\n",
       "      <td>standard</td>\n",
       "    </tr>\n",
       "    <tr>\n",
       "      <td>81271</td>\n",
       "      <td>8.4</td>\n",
       "      <td>130</td>\n",
       "      <td>Padmavyuhathile Abhimanyu</td>\n",
       "      <td>long</td>\n",
       "    </tr>\n",
       "    <tr>\n",
       "      <td>81272</td>\n",
       "      <td>7.2</td>\n",
       "      <td>98</td>\n",
       "      <td>Sokagin Çocuklari</td>\n",
       "      <td>standard</td>\n",
       "    </tr>\n",
       "  </tbody>\n",
       "</table>\n",
       "<p>75171 rows × 4 columns</p>\n",
       "</div>"
      ],
      "text/plain": [
       "       avg_vote  duration                                              title  \\\n",
       "2           5.2       100                                          Cleopatra   \n",
       "3           7.0        68                                          L'Inferno   \n",
       "4           5.7        60  From the Manger to the Cross; or, Jesus of Naz...   \n",
       "5           6.8        85                                     Madame DuBarry   \n",
       "6           6.2       120                                         Quo Vadis?   \n",
       "...         ...       ...                                                ...   \n",
       "81268       7.2       106                                             Jessie   \n",
       "81269       7.8       120                                              Ottam   \n",
       "81270       8.4       111                                          Pengalila   \n",
       "81271       8.4       130                          Padmavyuhathile Abhimanyu   \n",
       "81272       7.2        98                                  Sokagin Çocuklari   \n",
       "\n",
       "       Duration  \n",
       "2      standard  \n",
       "3         short  \n",
       "4         short  \n",
       "5         short  \n",
       "6      standard  \n",
       "...         ...  \n",
       "81268  standard  \n",
       "81269  standard  \n",
       "81270  standard  \n",
       "81271      long  \n",
       "81272  standard  \n",
       "\n",
       "[75171 rows x 4 columns]"
      ]
     },
     "execution_count": 18,
     "metadata": {},
     "output_type": "execute_result"
    }
   ],
   "source": [
    "bins=[0,90,120,200,1000]\n",
    "labels = ['short','standard','long','this should be a series']\n",
    "duration['Duration'] = pd.cut(duration['duration'], bins=bins, labels=labels)\n",
    "duration"
   ]
  },
  {
   "cell_type": "code",
   "execution_count": 19,
   "metadata": {},
   "outputs": [
    {
     "data": {
      "image/png": "[encoded data removed]",
      "text/plain": [
       "<Figure size 432x288 with 1 Axes>"
      ]
     },
     "metadata": {
      "needs_background": "light"
     },
     "output_type": "display_data"
    }
   ],
   "source": [
    "sns.histplot(data=duration, x=\"Duration\", kde=False).set_title('Split of movies by duration')\n",
    "plt.show()"
   ]
  },
  {
   "cell_type": "markdown",
   "metadata": {},
   "source": [
    "# Using a histogram to show evolution of number of movies over time"
   ]
  },
  {
   "cell_type": "markdown",
   "metadata": {},
   "source": [
    "We use a histogram to show the distribution over the years for number of movies.\n",
    "We can see a gradual increase in the number, with higher increase in the last 20 years."
   ]
  },
  {
   "cell_type": "code",
   "execution_count": 20,
   "metadata": {},
   "outputs": [
    {
     "data": {
      "image/png": "[encoded data removed]",
      "text/plain": [
       "<Figure size 432x288 with 1 Axes>"
      ]
     },
     "metadata": {
      "needs_background": "light"
     },
     "output_type": "display_data"
    }
   ],
   "source": [
    "sns.histplot(data=movies, x=\"year\", bins=15, kde=True).set_title('Evolution of movie count over time')\n",
    "plt.show()"
   ]
  },
  {
   "cell_type": "markdown",
   "metadata": {},
   "source": [
    "# Using a bar graph to show the split of movies by main movie genres"
   ]
  },
  {
   "cell_type": "markdown",
   "metadata": {},
   "source": [
    "First we get the data from the \"genre\" column, which is showing multiple genres. We split the data and only get the first of all the 3 genres mentioned\n"
   ]
  },
  {
   "cell_type": "code",
   "execution_count": 21,
   "metadata": {},
   "outputs": [],
   "source": [
    "split_data = movies[\"genre\"].str.split(\",\")\n",
    "data = split_data.to_list()\n",
    "names = [\"Main_genre\", \"rest\", 'other']\n",
    "new_df = pd.DataFrame(data, columns=names)\n",
    "main = new_df[\"Main_genre\"]\n",
    "movies = pd.concat([movies,main], axis = 1)"
   ]
  },
  {
   "cell_type": "markdown",
   "metadata": {},
   "source": [
    "eliminating 2 outliers that only have 1 movie each"
   ]
  },
  {
   "cell_type": "code",
   "execution_count": 22,
   "metadata": {},
   "outputs": [],
   "source": [
    "movies.drop(movies[movies['Main_genre'] == \"Adult\"].index, inplace=True)\n",
    "movies.drop(movies[movies['Main_genre'] == \"Documentary\"].index, inplace=True)"
   ]
  },
  {
   "cell_type": "code",
   "execution_count": 23,
   "metadata": {},
   "outputs": [],
   "source": [
    "#movies[movies.index.duplicated()]"
   ]
  },
  {
   "cell_type": "markdown",
   "metadata": {},
   "source": [
    "Next step is to group the information by Main genre and only keep the top 10, since the rest only have small numbers and would be irrelevant in the graph"
   ]
  },
  {
   "cell_type": "code",
   "execution_count": 24,
   "metadata": {},
   "outputs": [
    {
     "data": {
      "text/html": [
       "<div>\n",
       "<style scoped>\n",
       "    .dataframe tbody tr th:only-of-type {\n",
       "        vertical-align: middle;\n",
       "    }\n",
       "\n",
       "    .dataframe tbody tr th {\n",
       "        vertical-align: top;\n",
       "    }\n",
       "\n",
       "    .dataframe thead th {\n",
       "        text-align: right;\n",
       "    }\n",
       "</style>\n",
       "<table border=\"1\" class=\"dataframe\">\n",
       "  <thead>\n",
       "    <tr style=\"text-align: right;\">\n",
       "      <th></th>\n",
       "      <th>Main_genre</th>\n",
       "      <th>title</th>\n",
       "    </tr>\n",
       "  </thead>\n",
       "  <tbody>\n",
       "    <tr>\n",
       "      <td>6</td>\n",
       "      <td>Drama</td>\n",
       "      <td>20345</td>\n",
       "    </tr>\n",
       "    <tr>\n",
       "      <td>4</td>\n",
       "      <td>Comedy</td>\n",
       "      <td>19894</td>\n",
       "    </tr>\n",
       "    <tr>\n",
       "      <td>0</td>\n",
       "      <td>Action</td>\n",
       "      <td>9832</td>\n",
       "    </tr>\n",
       "    <tr>\n",
       "      <td>5</td>\n",
       "      <td>Crime</td>\n",
       "      <td>4649</td>\n",
       "    </tr>\n",
       "    <tr>\n",
       "      <td>11</td>\n",
       "      <td>Horror</td>\n",
       "      <td>4124</td>\n",
       "    </tr>\n",
       "    <tr>\n",
       "      <td>1</td>\n",
       "      <td>Adventure</td>\n",
       "      <td>3011</td>\n",
       "    </tr>\n",
       "    <tr>\n",
       "      <td>3</td>\n",
       "      <td>Biography</td>\n",
       "      <td>1788</td>\n",
       "    </tr>\n",
       "    <tr>\n",
       "      <td>2</td>\n",
       "      <td>Animation</td>\n",
       "      <td>1695</td>\n",
       "    </tr>\n",
       "    <tr>\n",
       "      <td>18</td>\n",
       "      <td>Thriller</td>\n",
       "      <td>1075</td>\n",
       "    </tr>\n",
       "    <tr>\n",
       "      <td>20</td>\n",
       "      <td>Western</td>\n",
       "      <td>595</td>\n",
       "    </tr>\n",
       "  </tbody>\n",
       "</table>\n",
       "</div>"
      ],
      "text/plain": [
       "   Main_genre  title\n",
       "6       Drama  20345\n",
       "4      Comedy  19894\n",
       "0      Action   9832\n",
       "5       Crime   4649\n",
       "11     Horror   4124\n",
       "1   Adventure   3011\n",
       "3   Biography   1788\n",
       "2   Animation   1695\n",
       "18   Thriller   1075\n",
       "20    Western    595"
      ]
     },
     "execution_count": 24,
     "metadata": {},
     "output_type": "execute_result"
    }
   ],
   "source": [
    "genre=movies.groupby(['Main_genre']).count().reset_index()\n",
    "genre.drop(genre.columns.difference(['Main_genre','title']), 1, inplace=True)\n",
    "sorted_genre= genre.sort_values('title', ascending=False)\n",
    "top10=sorted_genre.nlargest(10, 'title')\n",
    "top10"
   ]
  },
  {
   "cell_type": "code",
   "execution_count": 25,
   "metadata": {},
   "outputs": [
    {
     "data": {
      "text/html": [
       "<div>\n",
       "<style scoped>\n",
       "    .dataframe tbody tr th:only-of-type {\n",
       "        vertical-align: middle;\n",
       "    }\n",
       "\n",
       "    .dataframe tbody tr th {\n",
       "        vertical-align: top;\n",
       "    }\n",
       "\n",
       "    .dataframe thead th {\n",
       "        text-align: right;\n",
       "    }\n",
       "</style>\n",
       "<table border=\"1\" class=\"dataframe\">\n",
       "  <thead>\n",
       "    <tr style=\"text-align: right;\">\n",
       "      <th></th>\n",
       "      <th>Main_genre</th>\n",
       "      <th>title</th>\n",
       "      <th>avg_vote</th>\n",
       "    </tr>\n",
       "  </thead>\n",
       "  <tbody>\n",
       "    <tr>\n",
       "      <td>6</td>\n",
       "      <td>Drama</td>\n",
       "      <td>20345.0</td>\n",
       "      <td>6.047257</td>\n",
       "    </tr>\n",
       "    <tr>\n",
       "      <td>4</td>\n",
       "      <td>Comedy</td>\n",
       "      <td>19894.0</td>\n",
       "      <td>6.114894</td>\n",
       "    </tr>\n",
       "    <tr>\n",
       "      <td>0</td>\n",
       "      <td>Action</td>\n",
       "      <td>9832.0</td>\n",
       "      <td>6.276134</td>\n",
       "    </tr>\n",
       "    <tr>\n",
       "      <td>5</td>\n",
       "      <td>Crime</td>\n",
       "      <td>4649.0</td>\n",
       "      <td>6.078147</td>\n",
       "    </tr>\n",
       "    <tr>\n",
       "      <td>11</td>\n",
       "      <td>Horror</td>\n",
       "      <td>4124.0</td>\n",
       "      <td>5.934439</td>\n",
       "    </tr>\n",
       "    <tr>\n",
       "      <td>1</td>\n",
       "      <td>Adventure</td>\n",
       "      <td>3011.0</td>\n",
       "      <td>6.257244</td>\n",
       "    </tr>\n",
       "    <tr>\n",
       "      <td>3</td>\n",
       "      <td>Biography</td>\n",
       "      <td>1788.0</td>\n",
       "      <td>6.156098</td>\n",
       "    </tr>\n",
       "    <tr>\n",
       "      <td>2</td>\n",
       "      <td>Animation</td>\n",
       "      <td>1695.0</td>\n",
       "      <td>6.160606</td>\n",
       "    </tr>\n",
       "    <tr>\n",
       "      <td>18</td>\n",
       "      <td>Thriller</td>\n",
       "      <td>1075.0</td>\n",
       "      <td>5.836923</td>\n",
       "    </tr>\n",
       "    <tr>\n",
       "      <td>20</td>\n",
       "      <td>Western</td>\n",
       "      <td>595.0</td>\n",
       "      <td>5.520000</td>\n",
       "    </tr>\n",
       "  </tbody>\n",
       "</table>\n",
       "</div>"
      ],
      "text/plain": [
       "   Main_genre    title  avg_vote\n",
       "6       Drama  20345.0  6.047257\n",
       "4      Comedy  19894.0  6.114894\n",
       "0      Action   9832.0  6.276134\n",
       "5       Crime   4649.0  6.078147\n",
       "11     Horror   4124.0  5.934439\n",
       "1   Adventure   3011.0  6.257244\n",
       "3   Biography   1788.0  6.156098\n",
       "2   Animation   1695.0  6.160606\n",
       "18   Thriller   1075.0  5.836923\n",
       "20    Western    595.0  5.520000"
      ]
     },
     "execution_count": 25,
     "metadata": {},
     "output_type": "execute_result"
    }
   ],
   "source": [
    "df3=movies.groupby(['Main_genre'], axis=0).mean().sort_values(by=['avg_vote'],ascending=False).reset_index()\n",
    "df3.drop(df3.columns.difference(['Main_genre','avg_vote']), 1, inplace=True)\n",
    "votes = df3[\"avg_vote\"]\n",
    "combined= pd.concat([top10,votes], axis = 1)\n",
    "combined.dropna(subset=['Main_genre', 'title'], inplace=True)\n",
    "combined_sorted= combined.sort_values('title', ascending=False)\n",
    "combined_sorted"
   ]
  },
  {
   "cell_type": "code",
   "execution_count": 26,
   "metadata": {},
   "outputs": [
    {
     "data": {
      "image/png": "[encoded data removed]",
      "text/plain": [
       "<Figure size 720x360 with 1 Axes>"
      ]
     },
     "metadata": {
      "needs_background": "light"
     },
     "output_type": "display_data"
    }
   ],
   "source": [
    "plt.figure(figsize=(10,5))\n",
    "fig = sns.barplot(x = 'Main_genre', y = 'title', data = top10)\n",
    "plt.xlabel(\"Genre\")\n",
    "plt.ylabel(\"Count\")\n",
    "plt.title(\"Split by main movie genre\")\n",
    "plt.xticks(rotation=45, horizontalalignment='right')\n",
    "plt.show(fig)"
   ]
  },
  {
   "cell_type": "markdown",
   "metadata": {},
   "source": [
    "Creating a scatter plot to visualize the distribution of top 10 genres to number of movies"
   ]
  },
  {
   "cell_type": "code",
   "execution_count": 27,
   "metadata": {},
   "outputs": [
    {
     "data": {
      "text/plain": [
       "Text(0.5, 1.0, 'Top 10 genres average votes to number of movies')"
      ]
     },
     "execution_count": 27,
     "metadata": {},
     "output_type": "execute_result"
    },
    {
     "data": {
      "image/png": "[encoded data removed]",
      "text/plain": [
       "<Figure size 432x288 with 1 Axes>"
      ]
     },
     "metadata": {
      "needs_background": "light"
     },
     "output_type": "display_data"
    }
   ],
   "source": [
    "sns.scatterplot(data=combined_sorted, x=\"avg_vote\", y=\"title\", hue=\"Main_genre\").set_title('Top 10 genres average votes to number of movies')"
   ]
  },
  {
   "cell_type": "markdown",
   "metadata": {},
   "source": [
    "# Visualizing the distribution of average votes per genre of movie"
   ]
  },
  {
   "cell_type": "code",
   "execution_count": 28,
   "metadata": {},
   "outputs": [],
   "source": [
    "genre_votes = movies[['avg_vote', 'Main_genre','title']].copy()"
   ]
  },
  {
   "cell_type": "code",
   "execution_count": 29,
   "metadata": {},
   "outputs": [
    {
     "data": {
      "text/plain": [
       "Text(0.5, 0.98, 'Average votes versus movie duration')"
      ]
     },
     "execution_count": 29,
     "metadata": {},
     "output_type": "execute_result"
    },
    {
     "data": {
      "image/png": "[encoded data removed]",
      "text/plain": [
       "<Figure size 360x360 with 1 Axes>"
      ]
     },
     "metadata": {
      "needs_background": "light"
     },
     "output_type": "display_data"
    }
   ],
   "source": [
    "fig=sns.relplot(data=genre_votes,x=\"avg_vote\", y=\"Main_genre\", sizes=(10, 200))\n",
    "fig.fig.suptitle('Average votes versus movie duration')"
   ]
  },
  {
   "cell_type": "markdown",
   "metadata": {},
   "source": [
    "The scatter plot does not really give a nice visualization of the situation, so next step is to use a boxplot."
   ]
  },
  {
   "cell_type": "code",
   "execution_count": 30,
   "metadata": {},
   "outputs": [
    {
     "data": {
      "text/plain": [
       "(array([ 0,  1,  2,  3,  4,  5,  6,  7,  8,  9, 10, 11, 12, 13, 14, 15, 16,\n",
       "        17, 18, 19, 20]), <a list of 21 Text xticklabel objects>)"
      ]
     },
     "execution_count": 30,
     "metadata": {},
     "output_type": "execute_result"
    },
    {
     "data": {
      "image/png": "[encoded data removed]",
      "text/plain": [
       "<Figure size 1080x288 with 1 Axes>"
      ]
     },
     "metadata": {
      "needs_background": "light"
     },
     "output_type": "display_data"
    }
   ],
   "source": [
    "plt.figure(figsize=(15,4))\n",
    "ax = sns.boxplot(x=\"Main_genre\", y=\"avg_vote\", data=genre_votes).set(title='Distribution of average votes per movie genre', xlabel='Genres', ylabel='Average votes')\n",
    "plt.xticks(rotation=45)"
   ]
  },
  {
   "cell_type": "markdown",
   "metadata": {},
   "source": [
    "The boxplot is more elegant and shows a clear view of the distribution"
   ]
  },
  {
   "cell_type": "code",
   "execution_count": 31,
   "metadata": {},
   "outputs": [
    {
     "data": {
      "text/html": [
       "<div>\n",
       "<style scoped>\n",
       "    .dataframe tbody tr th:only-of-type {\n",
       "        vertical-align: middle;\n",
       "    }\n",
       "\n",
       "    .dataframe tbody tr th {\n",
       "        vertical-align: top;\n",
       "    }\n",
       "\n",
       "    .dataframe thead th {\n",
       "        text-align: right;\n",
       "    }\n",
       "</style>\n",
       "<table border=\"1\" class=\"dataframe\">\n",
       "  <thead>\n",
       "    <tr style=\"text-align: right;\">\n",
       "      <th></th>\n",
       "      <th>year</th>\n",
       "      <th>duration</th>\n",
       "      <th>avg_vote</th>\n",
       "      <th>votes</th>\n",
       "    </tr>\n",
       "  </thead>\n",
       "  <tbody>\n",
       "    <tr>\n",
       "      <td>count</td>\n",
       "      <td>69888.000000</td>\n",
       "      <td>69888.000000</td>\n",
       "      <td>69888.000000</td>\n",
       "      <td>6.988800e+04</td>\n",
       "    </tr>\n",
       "    <tr>\n",
       "      <td>mean</td>\n",
       "      <td>1990.658811</td>\n",
       "      <td>99.810683</td>\n",
       "      <td>5.945317</td>\n",
       "      <td>1.065752e+04</td>\n",
       "    </tr>\n",
       "    <tr>\n",
       "      <td>std</td>\n",
       "      <td>23.974520</td>\n",
       "      <td>21.867636</td>\n",
       "      <td>1.215306</td>\n",
       "      <td>5.602943e+04</td>\n",
       "    </tr>\n",
       "    <tr>\n",
       "      <td>min</td>\n",
       "      <td>1911.000000</td>\n",
       "      <td>40.000000</td>\n",
       "      <td>1.000000</td>\n",
       "      <td>1.000000e+02</td>\n",
       "    </tr>\n",
       "    <tr>\n",
       "      <td>25%</td>\n",
       "      <td>1975.000000</td>\n",
       "      <td>88.000000</td>\n",
       "      <td>5.300000</td>\n",
       "      <td>2.170000e+02</td>\n",
       "    </tr>\n",
       "    <tr>\n",
       "      <td>50%</td>\n",
       "      <td>1999.000000</td>\n",
       "      <td>96.000000</td>\n",
       "      <td>6.200000</td>\n",
       "      <td>5.450000e+02</td>\n",
       "    </tr>\n",
       "    <tr>\n",
       "      <td>75%</td>\n",
       "      <td>2010.000000</td>\n",
       "      <td>107.000000</td>\n",
       "      <td>6.800000</td>\n",
       "      <td>2.190000e+03</td>\n",
       "    </tr>\n",
       "    <tr>\n",
       "      <td>max</td>\n",
       "      <td>2019.000000</td>\n",
       "      <td>632.000000</td>\n",
       "      <td>10.000000</td>\n",
       "      <td>2.159628e+06</td>\n",
       "    </tr>\n",
       "  </tbody>\n",
       "</table>\n",
       "</div>"
      ],
      "text/plain": [
       "               year      duration      avg_vote         votes\n",
       "count  69888.000000  69888.000000  69888.000000  6.988800e+04\n",
       "mean    1990.658811     99.810683      5.945317  1.065752e+04\n",
       "std       23.974520     21.867636      1.215306  5.602943e+04\n",
       "min     1911.000000     40.000000      1.000000  1.000000e+02\n",
       "25%     1975.000000     88.000000      5.300000  2.170000e+02\n",
       "50%     1999.000000     96.000000      6.200000  5.450000e+02\n",
       "75%     2010.000000    107.000000      6.800000  2.190000e+03\n",
       "max     2019.000000    632.000000     10.000000  2.159628e+06"
      ]
     },
     "execution_count": 31,
     "metadata": {},
     "output_type": "execute_result"
    }
   ],
   "source": [
    "movies.dropna().describe()"
   ]
  },
  {
   "cell_type": "markdown",
   "metadata": {},
   "source": [
    "This just gives a summary of the numeric columns"
   ]
  },
  {
   "cell_type": "code",
   "execution_count": 32,
   "metadata": {},
   "outputs": [],
   "source": [
    "#If we want to export the new dataset\n",
    "#movies.to_csv('new_data.csv')"
   ]
  },
  {
   "cell_type": "markdown",
   "metadata": {},
   "source": [
    "# Conclusion"
   ]
  },
  {
   "cell_type": "markdown",
   "metadata": {},
   "source": [
    "The ideas drawn from the analysis"
   ]
  },
  {
   "cell_type": "markdown",
   "metadata": {},
   "source": [
    "1. Do certain movie genres get better reviews? There is a slight difference in the averages for some of the genres, but there does not seem to be a clear cut and well defined difference\n",
    "2. Does a certain length get better reviews? Does not seem to be the case.\n",
    "3. Is the language of the movies reflecting the reality of the world? Not really. The movies language is largely skewed to the English language, 5 out of top 10 most spread languages spoken worldwide miss entirely from being represented in the top 10 movie languages\n"
   ]
  }
 ],
 "metadata": {
  "kernelspec": {
   "display_name": "Python 3",
   "language": "python",
   "name": "python3"
  },
  "language_info": {
   "codemirror_mode": {
    "name": "ipython",
    "version": 3
   },
   "file_extension": ".py",
   "mimetype": "text/x-python",
   "name": "python",
   "nbconvert_exporter": "python",
   "pygments_lexer": "ipython3",
   "version": "3.7.4"
  }
 },
 "nbformat": 4,
 "nbformat_minor": 2
}
