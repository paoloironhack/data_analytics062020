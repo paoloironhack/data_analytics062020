{
 "cells": [
  {
   "cell_type": "markdown",
   "metadata": {},
   "source": [
    "%%html\n",
    "<h1>Dam tot Dam Loop preliminaries</h1>\n",
    "<p>This notebook will generate some insights on the Dam tot Dam loops that took place between 2016 and 2020. \n",
    "   The analysis considers the times set by all participants that ran in the recreationists (in Dutch recreanten) category \n",
    "        <p/>\n",
    "        \n",
    "<p> To retrieve the required data please run the the below code in order<p/>        "
   ]
  },
  {
   "cell_type": "markdown",
   "metadata": {},
   "source": [
    "%%html\n",
    "\n",
    "<h2>Step 1. download data</h2>\n",
    "<p>For this notebook to work you need to install <b>Selenium</b> on your computer \n",
    "<a href=\"https://selenium-python.readthedocs.io/installation.html\">https://selenium-python.readthedocs.io/installation.html</a>\n",
    "<p/> \n",
    "<p><p/>\n",
    "<p>This script works on a chromedriver. Get the chromedriver which is compatible with your locally installed chrome browser \n",
    "from this location \n",
    "<a href=\"https://chromedriver.chromium.org/downloadsl\">https://chromedriver.chromium.org/downloads</a>\n",
    ".<p/>\n",
    "\n",
    "<p>When you download the prerequisites please run the below cell to import the function which download the required data<p/>\n",
    "\n"
   ]
  },
  {
   "cell_type": "code",
   "execution_count": 1,
   "metadata": {},
   "outputs": [
    {
     "data": {
      "text/html": [
       "<p>If you dont want to wait for downloading the data please connect to this database<p/>\n"
      ],
      "text/plain": [
       "<IPython.core.display.HTML object>"
      ]
     },
     "metadata": {},
     "output_type": "display_data"
    }
   ],
   "source": [
    "%%html\n",
    "\n",
    "<p>If you dont want to wait for downloading the data please connect to this database<p/>"
   ]
  },
  {
   "cell_type": "code",
   "execution_count": 3,
   "metadata": {},
   "outputs": [],
   "source": [
    "from dtdtimes_download import *\n",
    "races = {'2016' : 'http://results.sporthive.com/events/6181850543435022336/races/392001',\n",
    "        '2017' : 'https://results.sporthive.com/events/6313393060860395776/races/421668',\n",
    "        '2018' : 'https://results.sporthive.com/events/6447830197266687232/races/431643',\n",
    "        '2019' : 'https://results.sporthive.com/events/6578568117027278336/races/452573',\n",
    "        '2020' : 'https://results.sporthive.com/events/6709105612070018816/races/475645' }"
   ]
  },
  {
   "cell_type": "code",
   "execution_count": 4,
   "metadata": {},
   "outputs": [],
   "source": [
    "##pass the number of pages that you would like to scrape. The script will run for about 40 - 50 minutes per year. \n",
    "##So see a friend in the meantime. To limit the number of pages just decrease the size. \n",
    "## To download the entire dataset set the pages variable to 800\n",
    "## When the browser open. Click the button to accept cookies otherwise the script will fail. I know I was to lazy to fix this\n",
    "pages = 5\n",
    "\n",
    "df = getdtdtimes(races,pages)"
   ]
  },
  {
   "cell_type": "code",
   "execution_count": 1,
   "metadata": {},
   "outputs": [],
   "source": [
    "import pandas as pd\n",
    "df = pd.read_csv('allrawdata.csv')"
   ]
  },
  {
   "cell_type": "code",
   "execution_count": 11,
   "metadata": {},
   "outputs": [],
   "source": [
    "##This downloads all distances of town relative to Amsterdam \n",
    "from check_distances import *"
   ]
  },
  {
   "cell_type": "code",
   "execution_count": 9,
   "metadata": {},
   "outputs": [],
   "source": [
    "## make a list of all the unique cities and the distance between Amsterdam and the place. depending on logitude and latitude.\n",
    "# distances = get_distances('Amsterdam',list(df.city.unique())[:5])\n",
    "distances = pd.read_csv('distances2.csv')"
   ]
  },
  {
   "cell_type": "code",
   "execution_count": 2,
   "metadata": {},
   "outputs": [],
   "source": [
    "## this .py file contains the functions that are necessary to get prepare the data for the analysis \n",
    "from dataframe_config import *"
   ]
  },
  {
   "cell_type": "code",
   "execution_count": 3,
   "metadata": {},
   "outputs": [],
   "source": [
    "df = transform_data(df)"
   ]
  },
  {
   "cell_type": "code",
   "execution_count": 12,
   "metadata": {},
   "outputs": [
    {
     "name": "stderr",
     "output_type": "stream",
     "text": [
      "A subdirectory or file data already exists.\n"
     ]
    }
   ],
   "source": [
    "%mkdir data\n",
    "##merges all the data together in the format that is used in the analysis\n",
    "final = pd.merge(df,distances,on='city',how='left').sort_values('distance',ascending=False).drop(columns='Unnamed: 0')\n",
    "# This creates the data folder where this data is going to be stored\n",
    "final.to_csv('data/damtotdamloopdata.csv')"
   ]
  }
 ],
 "metadata": {
  "kernelspec": {
   "display_name": "Python 3",
   "language": "python",
   "name": "python3"
  },
  "language_info": {
   "codemirror_mode": {
    "name": "ipython",
    "version": 3
   },
   "file_extension": ".py",
   "mimetype": "text/x-python",
   "name": "python",
   "nbconvert_exporter": "python",
   "pygments_lexer": "ipython3",
   "version": "3.8.3"
  }
 },
 "nbformat": 4,
 "nbformat_minor": 4
}
