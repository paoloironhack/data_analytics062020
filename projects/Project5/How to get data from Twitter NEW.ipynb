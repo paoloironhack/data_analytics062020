{
 "cells": [
  {
   "cell_type": "code",
   "execution_count": 1,
   "metadata": {},
   "outputs": [],
   "source": [
    "#import libraries\n",
    "import pandas as pd\n",
    "import numpy as np\n",
    "import tweepy\n",
    "import json"
   ]
  },
  {
   "cell_type": "code",
   "execution_count": 2,
   "metadata": {},
   "outputs": [],
   "source": [
    "consumer_key = 'fSDIC972WjJbX6LoBrgj58hu0'\n",
    "consumer_secret = 'OtdpDPQYOxeHEtv93OTo9GNXxPp9x6uOQiGIwWJVShMGvtINIL'\n",
    "access_token = '1328782017631227904-quPuSSeSFVYLZnX8RzYCqtRvL8APEk'\n",
    "access_token_secret = 'uP9vI21n9NShfiZcj4iChrwvXEuRwMrWMZc5B055zIjxD'"
   ]
  },
  {
   "cell_type": "code",
   "execution_count": 3,
   "metadata": {},
   "outputs": [],
   "source": [
    "#authentication\n",
    "auth = tweepy.OAuthHandler(consumer_key, consumer_secret)\n",
    "auth.set_access_token(access_token, access_token_secret)\n",
    "\n",
    "api = tweepy.API(auth)"
   ]
  },
  {
   "cell_type": "code",
   "execution_count": 4,
   "metadata": {},
   "outputs": [],
   "source": [
    "#search words and filtering retweets so we only get original tweets\n",
    "query = '#corona OR #CoronaNL OR #coronanederland OR #coronavirus OR #coronavirusnl OR #coronavirusNederland OR #covid19 OR #COVID19NL OR #covid19nederland OR #covid-19 OR #covid_19 OR #covid_19nl OR #Covid_19Nederland -filter:retweets'\n",
    "count=100\n",
    "max_tweets=100000\n",
    "lang='nl'"
   ]
  },
  {
   "cell_type": "code",
   "execution_count": 5,
   "metadata": {},
   "outputs": [],
   "source": [
    "searched_tweets = []\n",
    "last_id = -1\n",
    "while len(searched_tweets) < max_tweets:\n",
    "    count = max_tweets - len(searched_tweets)\n",
    "    try:\n",
    "        new_tweets = api.search(q=query, count=count, lang=lang, max_id=str(last_id - 1), tweet_mode=\"extended\")\n",
    "        if not new_tweets:\n",
    "            break\n",
    "        searched_tweets.extend(new_tweets)\n",
    "        last_id = new_tweets[-1].id\n",
    "    except tweepy.TweepError as e:\n",
    "        # depending on TweepError.code, one may want to retry or wait\n",
    "        # to keep things simple, we will give up on an error\n",
    "        break"
   ]
  },
  {
   "cell_type": "code",
   "execution_count": 6,
   "metadata": {},
   "outputs": [
    {
     "name": "stdout",
     "output_type": "stream",
     "text": [
      "17784\n"
     ]
    }
   ],
   "source": [
    "json_data = [tweet._json for tweet in searched_tweets]\n",
    "df = pd.json_normalize(json_data)\n",
    "print(len(df))"
   ]
  },
  {
   "cell_type": "code",
   "execution_count": 7,
   "metadata": {},
   "outputs": [
    {
     "data": {
      "text/html": [
       "<div>\n",
       "<style scoped>\n",
       "    .dataframe tbody tr th:only-of-type {\n",
       "        vertical-align: middle;\n",
       "    }\n",
       "\n",
       "    .dataframe tbody tr th {\n",
       "        vertical-align: top;\n",
       "    }\n",
       "\n",
       "    .dataframe thead th {\n",
       "        text-align: right;\n",
       "    }\n",
       "</style>\n",
       "<table border=\"1\" class=\"dataframe\">\n",
       "  <thead>\n",
       "    <tr style=\"text-align: right;\">\n",
       "      <th></th>\n",
       "      <th>created_at</th>\n",
       "      <th>full_text</th>\n",
       "    </tr>\n",
       "  </thead>\n",
       "  <tbody>\n",
       "    <tr>\n",
       "      <th>0</th>\n",
       "      <td>Thu Nov 26 12:56:24 +0000 2020</td>\n",
       "      <td>Het beroep van #apotheker, maar ook andere zor...</td>\n",
       "    </tr>\n",
       "    <tr>\n",
       "      <th>1</th>\n",
       "      <td>Thu Nov 26 12:56:21 +0000 2020</td>\n",
       "      <td>Dankjewel @maaikehartjes voor de sterke verbee...</td>\n",
       "    </tr>\n",
       "    <tr>\n",
       "      <th>2</th>\n",
       "      <td>Thu Nov 26 12:56:15 +0000 2020</td>\n",
       "      <td>Een volledige evalutie over de werkwijze van h...</td>\n",
       "    </tr>\n",
       "    <tr>\n",
       "      <th>3</th>\n",
       "      <td>Thu Nov 26 12:56:11 +0000 2020</td>\n",
       "      <td>@hugodejonge @vierdaagsefeest @hugodejonge @vi...</td>\n",
       "    </tr>\n",
       "    <tr>\n",
       "      <th>4</th>\n",
       "      <td>Thu Nov 26 12:56:00 +0000 2020</td>\n",
       "      <td>Onwaarschijnlijke reportage. Wij zijn LETTERLI...</td>\n",
       "    </tr>\n",
       "  </tbody>\n",
       "</table>\n",
       "</div>"
      ],
      "text/plain": [
       "                       created_at  \\\n",
       "0  Thu Nov 26 12:56:24 +0000 2020   \n",
       "1  Thu Nov 26 12:56:21 +0000 2020   \n",
       "2  Thu Nov 26 12:56:15 +0000 2020   \n",
       "3  Thu Nov 26 12:56:11 +0000 2020   \n",
       "4  Thu Nov 26 12:56:00 +0000 2020   \n",
       "\n",
       "                                           full_text  \n",
       "0  Het beroep van #apotheker, maar ook andere zor...  \n",
       "1  Dankjewel @maaikehartjes voor de sterke verbee...  \n",
       "2  Een volledige evalutie over de werkwijze van h...  \n",
       "3  @hugodejonge @vierdaagsefeest @hugodejonge @vi...  \n",
       "4  Onwaarschijnlijke reportage. Wij zijn LETTERLI...  "
      ]
     },
     "execution_count": 7,
     "metadata": {},
     "output_type": "execute_result"
    }
   ],
   "source": [
    "df = df[['created_at','full_text']]\n",
    "df.head()"
   ]
  },
  {
   "cell_type": "code",
   "execution_count": 8,
   "metadata": {},
   "outputs": [],
   "source": [
    "df.to_csv('data\\\\twitterdata_NEW.csv', sep=',', index=False)"
   ]
  }
 ],
 "metadata": {
  "kernelspec": {
   "display_name": "Python 3",
   "language": "python",
   "name": "python3"
  },
  "language_info": {
   "codemirror_mode": {
    "name": "ipython",
    "version": 3
   },
   "file_extension": ".py",
   "mimetype": "text/x-python",
   "name": "python",
   "nbconvert_exporter": "python",
   "pygments_lexer": "ipython3",
   "version": "3.8.3"
  }
 },
 "nbformat": 4,
 "nbformat_minor": 4
}
