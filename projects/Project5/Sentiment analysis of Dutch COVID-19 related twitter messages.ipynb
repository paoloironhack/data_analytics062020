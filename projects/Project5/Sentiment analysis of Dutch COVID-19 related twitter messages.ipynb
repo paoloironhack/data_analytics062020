{
 "cells": [
  {
   "cell_type": "markdown",
   "metadata": {},
   "source": [
    "# Sentiment analysis of Dutch COVID-19 related twitter messages"
   ]
  },
  {
   "cell_type": "markdown",
   "metadata": {},
   "source": [
    "## Research question\n",
    "*Is it possible to predict whether a COVID-19 related Twitter message is positve or negative?*"
   ]
  },
  {
   "cell_type": "markdown",
   "metadata": {},
   "source": [
    "#### Background information about the project\n",
    "* This project is part of the Ironhack Data Analytics course I followed between June and December 2020.\n",
    "* Project duration: 14th - 28th November 2020.\n",
    "* Overarching goals:\n",
    "   1. Learn to learn and apply new tools and methodologies. Keeping up with developments and teach yourself new tools is an important trait of a data analyst;\n",
    "   2. Focus on learning a skill transferrable to the final project.\n",
    "* Specific goals for Natural Language Processing projects:\n",
    "    * Design and build an NLP prototype. \n",
    "    * Integrate a machine learning algorithm in an NLP framework (e.g. a chatbot or sentiment analyzer)  \n",
    "    * Use evaluation metrics to ground your claims and test your model. \n",
    "    * Communicate the results of your analysis clearly, accurately, and engagingly. Demonstrate your working prototype. \n",
    "    * Learn to tailor the style of your communication to the audience."
   ]
  },
  {
   "cell_type": "markdown",
   "metadata": {},
   "source": [
    "#### Download the dataset\n",
    "Please download the dataset from [here](https://drive.google.com/file/d/1JnvJrmTC0XgA5XwU9Tywxb8Cliqe8Gi8/view?usp=sharing) and place it in the data folder."
   ]
  },
  {
   "cell_type": "markdown",
   "metadata": {},
   "source": [
    "#### Context about the data\n",
    "The dataset contains around 17.000 Dutch twitter messages. The Twitter messages were obtained via the Twitter API using Tweepy. You can find the code in Python file 'How to get data from Twitter' in this folder.\n",
    "\n",
    "The Twitter messages have the following characteristics:\n",
    "- Dutch language label.\n",
    "- Created between 16 Nov 2020 and 24 Nov 2020.\n",
    "- Retweets are filtered out of the dataset.\n",
    "- Each message has at least one of the following hashtags: #corona, #CoronaNL, #coronanederland, #coronavirus, #coronavirusnl, #coronavirusNederland, #covid19, #COVID19NL, #covid19nederland, #covid-19, #covid_19, #covid_19nl and #Covid_19Nederland.\n",
    "\n",
    "The first data cleaning was already done obtaining the messages. Only two colums are kept and can be found in this dataset: the creation date and text of the message."
   ]
  },
  {
   "cell_type": "markdown",
   "metadata": {},
   "source": [
    "#### Import libraries\n",
    "First, install and import the necessary libraries to conduct the analysis."
   ]
  },
  {
   "cell_type": "code",
   "execution_count": 1,
   "metadata": {},
   "outputs": [],
   "source": [
    "import pandas as pd\n",
    "import numpy as np\n",
    "import random\n",
    "from textblob import TextBlob\n",
    "from textblob_nl import PatternTagger, PatternAnalyzer\n",
    "\n",
    "# Install libraries if needed\n",
    "# pip install textblob\n",
    "# pip install textblob-nl"
   ]
  },
  {
   "cell_type": "markdown",
   "metadata": {},
   "source": [
    "#### Import datasets\n",
    "Secondly, import the dataset."
   ]
  },
  {
   "cell_type": "code",
   "execution_count": 2,
   "metadata": {},
   "outputs": [],
   "source": [
    "tweets = pd.read_csv('data\\\\twitterdata.csv')"
   ]
  },
  {
   "cell_type": "markdown",
   "metadata": {},
   "source": [
    "#### Inspecting & cleaning the data\n",
    "1. We first set the maximum column width to infinite number of characters. The default is 50, which means we cannot read the whole message.\n",
    "2. We print the first 5 rows of the dataframe to see what the dataset looks like.\n",
    "3. The datatype of both columns is 'object'. Since 'created at' is a date, we convert this column to datetime.\n",
    "4. At midnight on Thursday the 19th of November, part of the lockdown measures in the Netherlands was widened. Meaning people were allowed to have more vistors at home and visiting a museum for instance. This might influence the sentiment of the messages. Therefore we add an extra column to the dataframe: the time difference between the widening of the measures and creation of the message."
   ]
  },
  {
   "cell_type": "code",
   "execution_count": 3,
   "metadata": {},
   "outputs": [],
   "source": [
    "# Set column width to infinite number of characters\n",
    "pd.set_option('max_colwidth', None)"
   ]
  },
  {
   "cell_type": "code",
   "execution_count": 4,
   "metadata": {},
   "outputs": [
    {
     "data": {
      "text/html": [
       "<div>\n",
       "<style scoped>\n",
       "    .dataframe tbody tr th:only-of-type {\n",
       "        vertical-align: middle;\n",
       "    }\n",
       "\n",
       "    .dataframe tbody tr th {\n",
       "        vertical-align: top;\n",
       "    }\n",
       "\n",
       "    .dataframe thead th {\n",
       "        text-align: right;\n",
       "    }\n",
       "</style>\n",
       "<table border=\"1\" class=\"dataframe\">\n",
       "  <thead>\n",
       "    <tr style=\"text-align: right;\">\n",
       "      <th></th>\n",
       "      <th>created_at</th>\n",
       "      <th>text</th>\n",
       "    </tr>\n",
       "  </thead>\n",
       "  <tbody>\n",
       "    <tr>\n",
       "      <th>0</th>\n",
       "      <td>Tue Nov 24 19:29:03 +0000 2020</td>\n",
       "      <td>Het #omt discussieert over de kerstvakantie #Corona.\\nGooi 4 wekenlang dicht.... heerlijk!</td>\n",
       "    </tr>\n",
       "    <tr>\n",
       "      <th>1</th>\n",
       "      <td>Tue Nov 24 19:29:01 +0000 2020</td>\n",
       "      <td>Gaat dit eigenlijk wel over onze gezondheid?\\nDocumentaire over de #Corona crisis.\\nAlle medicijnen zijn in het begin… https://t.co/S11tNQ2yRI</td>\n",
       "    </tr>\n",
       "    <tr>\n",
       "      <th>2</th>\n",
       "      <td>Tue Nov 24 19:28:40 +0000 2020</td>\n",
       "      <td>President @EmmanuelMacron: heropening winkels en gebedsplaatsen vanaf zaterdag 28NOV; musea-cinema’s vanaf 15DEC; c… https://t.co/uaODWssHJ4</td>\n",
       "    </tr>\n",
       "    <tr>\n",
       "      <th>3</th>\n",
       "      <td>Tue Nov 24 19:27:50 +0000 2020</td>\n",
       "      <td>Haha wat een waanzin. Tijdens de wedstrijd zitten ze op en over elkaar maar hadden schudden nadien verspreid covid-… https://t.co/AjCBjNHZLp</td>\n",
       "    </tr>\n",
       "    <tr>\n",
       "      <th>4</th>\n",
       "      <td>Tue Nov 24 19:27:34 +0000 2020</td>\n",
       "      <td>@Wiep13396680 @dekoran1 @LidwienNews @JohannesKingma Als de sekte @D66 verdwijnt is #Corona ook verdwenen.</td>\n",
       "    </tr>\n",
       "  </tbody>\n",
       "</table>\n",
       "</div>"
      ],
      "text/plain": [
       "                       created_at  \\\n",
       "0  Tue Nov 24 19:29:03 +0000 2020   \n",
       "1  Tue Nov 24 19:29:01 +0000 2020   \n",
       "2  Tue Nov 24 19:28:40 +0000 2020   \n",
       "3  Tue Nov 24 19:27:50 +0000 2020   \n",
       "4  Tue Nov 24 19:27:34 +0000 2020   \n",
       "\n",
       "                                                                                                                                             text  \n",
       "0                                                      Het #omt discussieert over de kerstvakantie #Corona.\\nGooi 4 wekenlang dicht.... heerlijk!  \n",
       "1  Gaat dit eigenlijk wel over onze gezondheid?\\nDocumentaire over de #Corona crisis.\\nAlle medicijnen zijn in het begin… https://t.co/S11tNQ2yRI  \n",
       "2    President @EmmanuelMacron: heropening winkels en gebedsplaatsen vanaf zaterdag 28NOV; musea-cinema’s vanaf 15DEC; c… https://t.co/uaODWssHJ4  \n",
       "3    Haha wat een waanzin. Tijdens de wedstrijd zitten ze op en over elkaar maar hadden schudden nadien verspreid covid-… https://t.co/AjCBjNHZLp  \n",
       "4                                      @Wiep13396680 @dekoran1 @LidwienNews @JohannesKingma Als de sekte @D66 verdwijnt is #Corona ook verdwenen.  "
      ]
     },
     "execution_count": 4,
     "metadata": {},
     "output_type": "execute_result"
    }
   ],
   "source": [
    "# Inspect the first 5 rows\n",
    "tweets.head()"
   ]
  },
  {
   "cell_type": "code",
   "execution_count": 5,
   "metadata": {},
   "outputs": [
    {
     "data": {
      "text/plain": [
       "created_at    object\n",
       "text          object\n",
       "dtype: object"
      ]
     },
     "execution_count": 5,
     "metadata": {},
     "output_type": "execute_result"
    }
   ],
   "source": [
    "# Inspect datatypes\n",
    "tweets.dtypes"
   ]
  },
  {
   "cell_type": "code",
   "execution_count": 6,
   "metadata": {},
   "outputs": [
    {
     "data": {
      "text/plain": [
       "created_at    datetime64[ns, UTC]\n",
       "text                       object\n",
       "dtype: object"
      ]
     },
     "execution_count": 6,
     "metadata": {},
     "output_type": "execute_result"
    }
   ],
   "source": [
    "# Convert created_at column to datetime\n",
    "tweets['created_at'] = pd.to_datetime(tweets['created_at'])\n",
    "tweets.dtypes"
   ]
  },
  {
   "cell_type": "markdown",
   "metadata": {},
   "source": [
    "#### Calculating in the dataframe"
   ]
  },
  {
   "cell_type": "markdown",
   "metadata": {},
   "source": [
    "1. First create an extra column to map the time difference since lockdown widening. Interpretation of the value:\n",
    "    - Negative timedifference: the tweet was send before the widening of the measures\n",
    "    - Positive timedifference: the tweet was send after the widening of the measures\n",
    "2. Oldest message is from the 16th of November 18:44.\n",
    "3. Most recent message is from 24th of November 19:29."
   ]
  },
  {
   "cell_type": "code",
   "execution_count": 7,
   "metadata": {},
   "outputs": [
    {
     "data": {
      "text/html": [
       "<div>\n",
       "<style scoped>\n",
       "    .dataframe tbody tr th:only-of-type {\n",
       "        vertical-align: middle;\n",
       "    }\n",
       "\n",
       "    .dataframe tbody tr th {\n",
       "        vertical-align: top;\n",
       "    }\n",
       "\n",
       "    .dataframe thead th {\n",
       "        text-align: right;\n",
       "    }\n",
       "</style>\n",
       "<table border=\"1\" class=\"dataframe\">\n",
       "  <thead>\n",
       "    <tr style=\"text-align: right;\">\n",
       "      <th></th>\n",
       "      <th>created_at</th>\n",
       "      <th>text</th>\n",
       "      <th>lockdown_widening</th>\n",
       "      <th>timedelta</th>\n",
       "    </tr>\n",
       "  </thead>\n",
       "  <tbody>\n",
       "    <tr>\n",
       "      <th>17489</th>\n",
       "      <td>2020-11-16 18:45:32+00:00</td>\n",
       "      <td>Spieballen\\nBen je Positief ga je een kamertje in en is iedere contact met een ander mens VERBODEN\\nWordt Stinken 🤪… https://t.co/abJZdGcA1V</td>\n",
       "      <td>2020-11-19 00:00:01+00:00</td>\n",
       "      <td>-3 days +18:45:31</td>\n",
       "    </tr>\n",
       "    <tr>\n",
       "      <th>17490</th>\n",
       "      <td>2020-11-16 18:45:13+00:00</td>\n",
       "      <td>Onderzoek: covid-19 tast belangrijkste ademspier aan bij ernstig zieken - https://t.co/Yb2sqI6Fnr</td>\n",
       "      <td>2020-11-19 00:00:01+00:00</td>\n",
       "      <td>-3 days +18:45:12</td>\n",
       "    </tr>\n",
       "    <tr>\n",
       "      <th>17491</th>\n",
       "      <td>2020-11-16 18:44:56+00:00</td>\n",
       "      <td>@jeacath @freek_niesten Wat een kromme redenering. Iedere dag je tanden poetsen is ook niet te verwaarlozen, maar h… https://t.co/6JCcAA7crF</td>\n",
       "      <td>2020-11-19 00:00:01+00:00</td>\n",
       "      <td>-3 days +18:44:55</td>\n",
       "    </tr>\n",
       "    <tr>\n",
       "      <th>17492</th>\n",
       "      <td>2020-11-16 18:44:50+00:00</td>\n",
       "      <td>Wanneer wordt #Corona overwonnen in ons deel van de wereld? Ongeveer in maart 2021. #vaccin \\n\\nWanneer zijn de Tweed… https://t.co/bFkvHDcVyn</td>\n",
       "      <td>2020-11-19 00:00:01+00:00</td>\n",
       "      <td>-3 days +18:44:49</td>\n",
       "    </tr>\n",
       "    <tr>\n",
       "      <th>17493</th>\n",
       "      <td>2020-11-16 18:44:16+00:00</td>\n",
       "      <td>Sorry maar #thuiswerkers hebben het makkelijk genoeg. Ga eens in de zorg kijken #corona #luxeprobleem @RTLnieuws</td>\n",
       "      <td>2020-11-19 00:00:01+00:00</td>\n",
       "      <td>-3 days +18:44:15</td>\n",
       "    </tr>\n",
       "  </tbody>\n",
       "</table>\n",
       "</div>"
      ],
      "text/plain": [
       "                     created_at  \\\n",
       "17489 2020-11-16 18:45:32+00:00   \n",
       "17490 2020-11-16 18:45:13+00:00   \n",
       "17491 2020-11-16 18:44:56+00:00   \n",
       "17492 2020-11-16 18:44:50+00:00   \n",
       "17493 2020-11-16 18:44:16+00:00   \n",
       "\n",
       "                                                                                                                                                 text  \\\n",
       "17489    Spieballen\\nBen je Positief ga je een kamertje in en is iedere contact met een ander mens VERBODEN\\nWordt Stinken 🤪… https://t.co/abJZdGcA1V   \n",
       "17490                                               Onderzoek: covid-19 tast belangrijkste ademspier aan bij ernstig zieken - https://t.co/Yb2sqI6Fnr   \n",
       "17491    @jeacath @freek_niesten Wat een kromme redenering. Iedere dag je tanden poetsen is ook niet te verwaarlozen, maar h… https://t.co/6JCcAA7crF   \n",
       "17492  Wanneer wordt #Corona overwonnen in ons deel van de wereld? Ongeveer in maart 2021. #vaccin \\n\\nWanneer zijn de Tweed… https://t.co/bFkvHDcVyn   \n",
       "17493                                Sorry maar #thuiswerkers hebben het makkelijk genoeg. Ga eens in de zorg kijken #corona #luxeprobleem @RTLnieuws   \n",
       "\n",
       "              lockdown_widening         timedelta  \n",
       "17489 2020-11-19 00:00:01+00:00 -3 days +18:45:31  \n",
       "17490 2020-11-19 00:00:01+00:00 -3 days +18:45:12  \n",
       "17491 2020-11-19 00:00:01+00:00 -3 days +18:44:55  \n",
       "17492 2020-11-19 00:00:01+00:00 -3 days +18:44:49  \n",
       "17493 2020-11-19 00:00:01+00:00 -3 days +18:44:15  "
      ]
     },
     "execution_count": 7,
     "metadata": {},
     "output_type": "execute_result"
    }
   ],
   "source": [
    "# First add a column with the date of the widening of the lockdown\n",
    "tweets['lockdown_widening'] = '2020-11-19 00:00:01+00:00'\n",
    "\n",
    "# Convert column to datetime\n",
    "tweets['lockdown_widening'] = pd.to_datetime(tweets['lockdown_widening'])\n",
    "\n",
    "# Check dtypes in dataframe\n",
    "tweets.dtypes\n",
    "\n",
    "# Create an extra column: time difference\n",
    "tweets['timedelta'] = tweets['created_at'] - tweets['lockdown_widening']\n",
    "\n",
    "# Inspect head of dataset\n",
    "tweets.tail()"
   ]
  },
  {
   "cell_type": "code",
   "execution_count": 8,
   "metadata": {},
   "outputs": [
    {
     "data": {
      "text/plain": [
       "Timestamp('2020-11-16 18:44:16+0000', tz='UTC')"
      ]
     },
     "execution_count": 8,
     "metadata": {},
     "output_type": "execute_result"
    }
   ],
   "source": [
    "# Oldest message\n",
    "tweets['created_at'].min()"
   ]
  },
  {
   "cell_type": "code",
   "execution_count": 9,
   "metadata": {},
   "outputs": [
    {
     "data": {
      "text/plain": [
       "Timestamp('2020-11-24 19:29:03+0000', tz='UTC')"
      ]
     },
     "execution_count": 9,
     "metadata": {},
     "output_type": "execute_result"
    }
   ],
   "source": [
    "# Most recent message\n",
    "tweets['created_at'].max()"
   ]
  },
  {
   "cell_type": "markdown",
   "metadata": {},
   "source": [
    "## Obtaining labeled Twitter messages\n",
    "To be able to create a ML algorithm that predicts the sentiment of a message (negative or positive) there needs to be a labeled dataset, i.e. a dataset with two columns:\n",
    "1. The text of a messages\n",
    "2. The sentiment of the message (positive or negative).\n",
    "\n",
    "Since I couldn't find a pre labeled dataset, I will create one myself."
   ]
  },
  {
   "cell_type": "markdown",
   "metadata": {},
   "source": [
    "#### Creating a sample and population dataset\n",
    "*Disclaimer: Since the list with random numbers is modified each time this kernel runs, the sample dataset will differ. Therefore the code to save it to a csv file is preceded by a #. So it will not overwrite the csv files*.\n",
    "\n",
    "1. Create a sample dataset using random numbers. Save it as a dataframe.\n",
    "2. Save remaining data in a seperate dataframe."
   ]
  },
  {
   "cell_type": "code",
   "execution_count": 10,
   "metadata": {},
   "outputs": [
    {
     "data": {
      "text/plain": [
       "17494"
      ]
     },
     "execution_count": 10,
     "metadata": {},
     "output_type": "execute_result"
    }
   ],
   "source": [
    "# Number of rows in the dataset (population)\n",
    "population_size = len(tweets)\n",
    "population_size"
   ]
  },
  {
   "cell_type": "code",
   "execution_count": 11,
   "metadata": {},
   "outputs": [],
   "source": [
    "# Create a list with 500 random integers\n",
    "randomlist = random.sample(range(0, population_size), 500)"
   ]
  },
  {
   "cell_type": "code",
   "execution_count": 12,
   "metadata": {},
   "outputs": [
    {
     "data": {
      "text/html": [
       "<div>\n",
       "<style scoped>\n",
       "    .dataframe tbody tr th:only-of-type {\n",
       "        vertical-align: middle;\n",
       "    }\n",
       "\n",
       "    .dataframe tbody tr th {\n",
       "        vertical-align: top;\n",
       "    }\n",
       "\n",
       "    .dataframe thead th {\n",
       "        text-align: right;\n",
       "    }\n",
       "</style>\n",
       "<table border=\"1\" class=\"dataframe\">\n",
       "  <thead>\n",
       "    <tr style=\"text-align: right;\">\n",
       "      <th></th>\n",
       "      <th>created_at</th>\n",
       "      <th>text</th>\n",
       "      <th>lockdown_widening</th>\n",
       "      <th>timedelta</th>\n",
       "    </tr>\n",
       "  </thead>\n",
       "  <tbody>\n",
       "    <tr>\n",
       "      <th>5466</th>\n",
       "      <td>2020-11-21 17:48:26+00:00</td>\n",
       "      <td>@line_forward @Zophia79307590 Zou best eens kunnen.\\nDe covid-19 testkits zijn in 2018 al gedistribueerd. https://t.co/wwUZRW3g9k</td>\n",
       "      <td>2020-11-19 00:00:01+00:00</td>\n",
       "      <td>2 days 17:48:25</td>\n",
       "    </tr>\n",
       "    <tr>\n",
       "      <th>285</th>\n",
       "      <td>2020-11-24 17:03:44+00:00</td>\n",
       "      <td>Met of zonder Coca-Cola? #AkkoordGezondeVoedingOpScholen #CocaCola #Leefstijl  #mentalegezondheidsproblemen… https://t.co/q45Zd3Uzdz</td>\n",
       "      <td>2020-11-19 00:00:01+00:00</td>\n",
       "      <td>5 days 17:03:43</td>\n",
       "    </tr>\n",
       "    <tr>\n",
       "      <th>12879</th>\n",
       "      <td>2020-11-18 14:39:29+00:00</td>\n",
       "      <td>Vanaf 1 december 2020 geldt een mondkapjesplicht in de publieke binnenruimtes. https://t.co/uCLpyJwPS3 #coronavirus… https://t.co/Nh2cFr6k7f</td>\n",
       "      <td>2020-11-19 00:00:01+00:00</td>\n",
       "      <td>-1 days +14:39:28</td>\n",
       "    </tr>\n",
       "    <tr>\n",
       "      <th>13127</th>\n",
       "      <td>2020-11-18 13:09:48+00:00</td>\n",
       "      <td>#vlog 19 #60plusser nadeel online netwerken + voordeel #tijd  #Covid_19 https://t.co/c1BY78KThV</td>\n",
       "      <td>2020-11-19 00:00:01+00:00</td>\n",
       "      <td>-1 days +13:09:47</td>\n",
       "    </tr>\n",
       "    <tr>\n",
       "      <th>3432</th>\n",
       "      <td>2020-11-23 07:06:44+00:00</td>\n",
       "      <td>Besmettingen op VO-scholen neemt toe. Niet heel vreemd, maatregelen worden minder nageleefd, want de ventilatie is… https://t.co/Q3YcnYaWWL</td>\n",
       "      <td>2020-11-19 00:00:01+00:00</td>\n",
       "      <td>4 days 07:06:43</td>\n",
       "    </tr>\n",
       "  </tbody>\n",
       "</table>\n",
       "</div>"
      ],
      "text/plain": [
       "                     created_at  \\\n",
       "5466  2020-11-21 17:48:26+00:00   \n",
       "285   2020-11-24 17:03:44+00:00   \n",
       "12879 2020-11-18 14:39:29+00:00   \n",
       "13127 2020-11-18 13:09:48+00:00   \n",
       "3432  2020-11-23 07:06:44+00:00   \n",
       "\n",
       "                                                                                                                                               text  \\\n",
       "5466              @line_forward @Zophia79307590 Zou best eens kunnen.\\nDe covid-19 testkits zijn in 2018 al gedistribueerd. https://t.co/wwUZRW3g9k   \n",
       "285            Met of zonder Coca-Cola? #AkkoordGezondeVoedingOpScholen #CocaCola #Leefstijl  #mentalegezondheidsproblemen… https://t.co/q45Zd3Uzdz   \n",
       "12879  Vanaf 1 december 2020 geldt een mondkapjesplicht in de publieke binnenruimtes. https://t.co/uCLpyJwPS3 #coronavirus… https://t.co/Nh2cFr6k7f   \n",
       "13127                                               #vlog 19 #60plusser nadeel online netwerken + voordeel #tijd  #Covid_19 https://t.co/c1BY78KThV   \n",
       "3432    Besmettingen op VO-scholen neemt toe. Niet heel vreemd, maatregelen worden minder nageleefd, want de ventilatie is… https://t.co/Q3YcnYaWWL   \n",
       "\n",
       "              lockdown_widening         timedelta  \n",
       "5466  2020-11-19 00:00:01+00:00   2 days 17:48:25  \n",
       "285   2020-11-19 00:00:01+00:00   5 days 17:03:43  \n",
       "12879 2020-11-19 00:00:01+00:00 -1 days +14:39:28  \n",
       "13127 2020-11-19 00:00:01+00:00 -1 days +13:09:47  \n",
       "3432  2020-11-19 00:00:01+00:00   4 days 07:06:43  "
      ]
     },
     "execution_count": 12,
     "metadata": {},
     "output_type": "execute_result"
    }
   ],
   "source": [
    "# Select rows corresponding to the 500 random chosen integers\n",
    "tweets_sample = tweets.iloc[randomlist]\n",
    "tweets_sample.head()"
   ]
  },
  {
   "cell_type": "code",
   "execution_count": 13,
   "metadata": {},
   "outputs": [
    {
     "data": {
      "text/html": [
       "<div>\n",
       "<style scoped>\n",
       "    .dataframe tbody tr th:only-of-type {\n",
       "        vertical-align: middle;\n",
       "    }\n",
       "\n",
       "    .dataframe tbody tr th {\n",
       "        vertical-align: top;\n",
       "    }\n",
       "\n",
       "    .dataframe thead th {\n",
       "        text-align: right;\n",
       "    }\n",
       "</style>\n",
       "<table border=\"1\" class=\"dataframe\">\n",
       "  <thead>\n",
       "    <tr style=\"text-align: right;\">\n",
       "      <th></th>\n",
       "      <th>created_at</th>\n",
       "      <th>text</th>\n",
       "      <th>lockdown_widening</th>\n",
       "      <th>timedelta</th>\n",
       "    </tr>\n",
       "  </thead>\n",
       "  <tbody>\n",
       "    <tr>\n",
       "      <th>0</th>\n",
       "      <td>2020-11-24 19:29:03+00:00</td>\n",
       "      <td>Het #omt discussieert over de kerstvakantie #Corona.\\nGooi 4 wekenlang dicht.... heerlijk!</td>\n",
       "      <td>2020-11-19 00:00:01+00:00</td>\n",
       "      <td>5 days 19:29:02</td>\n",
       "    </tr>\n",
       "    <tr>\n",
       "      <th>1</th>\n",
       "      <td>2020-11-24 19:29:01+00:00</td>\n",
       "      <td>Gaat dit eigenlijk wel over onze gezondheid?\\nDocumentaire over de #Corona crisis.\\nAlle medicijnen zijn in het begin… https://t.co/S11tNQ2yRI</td>\n",
       "      <td>2020-11-19 00:00:01+00:00</td>\n",
       "      <td>5 days 19:29:00</td>\n",
       "    </tr>\n",
       "    <tr>\n",
       "      <th>2</th>\n",
       "      <td>2020-11-24 19:28:40+00:00</td>\n",
       "      <td>President @EmmanuelMacron: heropening winkels en gebedsplaatsen vanaf zaterdag 28NOV; musea-cinema’s vanaf 15DEC; c… https://t.co/uaODWssHJ4</td>\n",
       "      <td>2020-11-19 00:00:01+00:00</td>\n",
       "      <td>5 days 19:28:39</td>\n",
       "    </tr>\n",
       "    <tr>\n",
       "      <th>3</th>\n",
       "      <td>2020-11-24 19:27:50+00:00</td>\n",
       "      <td>Haha wat een waanzin. Tijdens de wedstrijd zitten ze op en over elkaar maar hadden schudden nadien verspreid covid-… https://t.co/AjCBjNHZLp</td>\n",
       "      <td>2020-11-19 00:00:01+00:00</td>\n",
       "      <td>5 days 19:27:49</td>\n",
       "    </tr>\n",
       "    <tr>\n",
       "      <th>4</th>\n",
       "      <td>2020-11-24 19:27:34+00:00</td>\n",
       "      <td>@Wiep13396680 @dekoran1 @LidwienNews @JohannesKingma Als de sekte @D66 verdwijnt is #Corona ook verdwenen.</td>\n",
       "      <td>2020-11-19 00:00:01+00:00</td>\n",
       "      <td>5 days 19:27:33</td>\n",
       "    </tr>\n",
       "  </tbody>\n",
       "</table>\n",
       "</div>"
      ],
      "text/plain": [
       "                 created_at  \\\n",
       "0 2020-11-24 19:29:03+00:00   \n",
       "1 2020-11-24 19:29:01+00:00   \n",
       "2 2020-11-24 19:28:40+00:00   \n",
       "3 2020-11-24 19:27:50+00:00   \n",
       "4 2020-11-24 19:27:34+00:00   \n",
       "\n",
       "                                                                                                                                             text  \\\n",
       "0                                                      Het #omt discussieert over de kerstvakantie #Corona.\\nGooi 4 wekenlang dicht.... heerlijk!   \n",
       "1  Gaat dit eigenlijk wel over onze gezondheid?\\nDocumentaire over de #Corona crisis.\\nAlle medicijnen zijn in het begin… https://t.co/S11tNQ2yRI   \n",
       "2    President @EmmanuelMacron: heropening winkels en gebedsplaatsen vanaf zaterdag 28NOV; musea-cinema’s vanaf 15DEC; c… https://t.co/uaODWssHJ4   \n",
       "3    Haha wat een waanzin. Tijdens de wedstrijd zitten ze op en over elkaar maar hadden schudden nadien verspreid covid-… https://t.co/AjCBjNHZLp   \n",
       "4                                      @Wiep13396680 @dekoran1 @LidwienNews @JohannesKingma Als de sekte @D66 verdwijnt is #Corona ook verdwenen.   \n",
       "\n",
       "          lockdown_widening       timedelta  \n",
       "0 2020-11-19 00:00:01+00:00 5 days 19:29:02  \n",
       "1 2020-11-19 00:00:01+00:00 5 days 19:29:00  \n",
       "2 2020-11-19 00:00:01+00:00 5 days 19:28:39  \n",
       "3 2020-11-19 00:00:01+00:00 5 days 19:27:49  \n",
       "4 2020-11-19 00:00:01+00:00 5 days 19:27:33  "
      ]
     },
     "execution_count": 13,
     "metadata": {},
     "output_type": "execute_result"
    }
   ],
   "source": [
    "# Select rows not corresponding to the 500 random chosen integers\n",
    "tweets_remaining = tweets.loc[~tweets.index.isin(randomlist)]\n",
    "tweets_remaining.head()"
   ]
  },
  {
   "cell_type": "markdown",
   "metadata": {},
   "source": [
    "#### Determine the sentiment of the sample dataset using Textblob\n",
    "First create an extra column with the outcome of the Textblob sentiment analyzer. This results in a value that is a tuple (polarity, subjectivity):\n",
    "* Polarity is a float which lies in the range of [-1,1] where 1 means positive statement and -1 means a negative statement.\n",
    "* Subjectivity sentences generally refer to personal opinion, emotion or judgment whereas objective refers to factual information. Subjectivity is also a float which lies in the range of [0,1]."
   ]
  },
  {
   "cell_type": "code",
   "execution_count": 14,
   "metadata": {},
   "outputs": [
    {
     "data": {
      "text/plain": [
       "(-0.1, 0.4)"
      ]
     },
     "execution_count": 14,
     "metadata": {},
     "output_type": "execute_result"
    }
   ],
   "source": [
    "# Define a function that returns the sentiment of a string.\n",
    "def sentiment(text):\n",
    "    \"\"\"input: string variable (text) you want to know the sentiment of\n",
    "    output: sentiment in a tuple (polarity, subjectivity)\n",
    "    \"\"\"\n",
    "    blob = TextBlob(text, pos_tagger=PatternTagger(), analyzer=PatternAnalyzer())\n",
    "    sentiment = blob.sentiment\n",
    "    return sentiment\n",
    "\n",
    "# test with example sentence, outcome should be (-0.1, 0.4)\n",
    "text = \"De kat wil wel vis eten maar geen poot nat maken.\"\n",
    "sentiment(text)"
   ]
  },
  {
   "cell_type": "code",
   "execution_count": 15,
   "metadata": {},
   "outputs": [
    {
     "name": "stderr",
     "output_type": "stream",
     "text": [
      "<ipython-input-15-ba4bdc8dc704>:2: SettingWithCopyWarning: \n",
      "A value is trying to be set on a copy of a slice from a DataFrame.\n",
      "Try using .loc[row_indexer,col_indexer] = value instead\n",
      "\n",
      "See the caveats in the documentation: https://pandas.pydata.org/pandas-docs/stable/user_guide/indexing.html#returning-a-view-versus-a-copy\n",
      "  tweets_sample['sentiment'] = tweets_sample['text'].map(sentiment)\n"
     ]
    },
    {
     "data": {
      "text/html": [
       "<div>\n",
       "<style scoped>\n",
       "    .dataframe tbody tr th:only-of-type {\n",
       "        vertical-align: middle;\n",
       "    }\n",
       "\n",
       "    .dataframe tbody tr th {\n",
       "        vertical-align: top;\n",
       "    }\n",
       "\n",
       "    .dataframe thead th {\n",
       "        text-align: right;\n",
       "    }\n",
       "</style>\n",
       "<table border=\"1\" class=\"dataframe\">\n",
       "  <thead>\n",
       "    <tr style=\"text-align: right;\">\n",
       "      <th></th>\n",
       "      <th>created_at</th>\n",
       "      <th>text</th>\n",
       "      <th>lockdown_widening</th>\n",
       "      <th>timedelta</th>\n",
       "      <th>sentiment</th>\n",
       "    </tr>\n",
       "  </thead>\n",
       "  <tbody>\n",
       "    <tr>\n",
       "      <th>5466</th>\n",
       "      <td>2020-11-21 17:48:26+00:00</td>\n",
       "      <td>@line_forward @Zophia79307590 Zou best eens kunnen.\\nDe covid-19 testkits zijn in 2018 al gedistribueerd. https://t.co/wwUZRW3g9k</td>\n",
       "      <td>2020-11-19 00:00:01+00:00</td>\n",
       "      <td>2 days 17:48:25</td>\n",
       "      <td>(0.10250000000000002, 0.4100000000000001)</td>\n",
       "    </tr>\n",
       "    <tr>\n",
       "      <th>285</th>\n",
       "      <td>2020-11-24 17:03:44+00:00</td>\n",
       "      <td>Met of zonder Coca-Cola? #AkkoordGezondeVoedingOpScholen #CocaCola #Leefstijl  #mentalegezondheidsproblemen… https://t.co/q45Zd3Uzdz</td>\n",
       "      <td>2020-11-19 00:00:01+00:00</td>\n",
       "      <td>5 days 17:03:43</td>\n",
       "      <td>(0.0, 0.0)</td>\n",
       "    </tr>\n",
       "    <tr>\n",
       "      <th>12879</th>\n",
       "      <td>2020-11-18 14:39:29+00:00</td>\n",
       "      <td>Vanaf 1 december 2020 geldt een mondkapjesplicht in de publieke binnenruimtes. https://t.co/uCLpyJwPS3 #coronavirus… https://t.co/Nh2cFr6k7f</td>\n",
       "      <td>2020-11-19 00:00:01+00:00</td>\n",
       "      <td>-1 days +14:39:28</td>\n",
       "      <td>(0.05, 0.15000000000000002)</td>\n",
       "    </tr>\n",
       "    <tr>\n",
       "      <th>13127</th>\n",
       "      <td>2020-11-18 13:09:48+00:00</td>\n",
       "      <td>#vlog 19 #60plusser nadeel online netwerken + voordeel #tijd  #Covid_19 https://t.co/c1BY78KThV</td>\n",
       "      <td>2020-11-19 00:00:01+00:00</td>\n",
       "      <td>-1 days +13:09:47</td>\n",
       "      <td>(0.0, 0.0)</td>\n",
       "    </tr>\n",
       "    <tr>\n",
       "      <th>3432</th>\n",
       "      <td>2020-11-23 07:06:44+00:00</td>\n",
       "      <td>Besmettingen op VO-scholen neemt toe. Niet heel vreemd, maatregelen worden minder nageleefd, want de ventilatie is… https://t.co/Q3YcnYaWWL</td>\n",
       "      <td>2020-11-19 00:00:01+00:00</td>\n",
       "      <td>4 days 07:06:43</td>\n",
       "      <td>(0.10416666666666666, 0.35416666666666663)</td>\n",
       "    </tr>\n",
       "  </tbody>\n",
       "</table>\n",
       "</div>"
      ],
      "text/plain": [
       "                     created_at  \\\n",
       "5466  2020-11-21 17:48:26+00:00   \n",
       "285   2020-11-24 17:03:44+00:00   \n",
       "12879 2020-11-18 14:39:29+00:00   \n",
       "13127 2020-11-18 13:09:48+00:00   \n",
       "3432  2020-11-23 07:06:44+00:00   \n",
       "\n",
       "                                                                                                                                               text  \\\n",
       "5466              @line_forward @Zophia79307590 Zou best eens kunnen.\\nDe covid-19 testkits zijn in 2018 al gedistribueerd. https://t.co/wwUZRW3g9k   \n",
       "285            Met of zonder Coca-Cola? #AkkoordGezondeVoedingOpScholen #CocaCola #Leefstijl  #mentalegezondheidsproblemen… https://t.co/q45Zd3Uzdz   \n",
       "12879  Vanaf 1 december 2020 geldt een mondkapjesplicht in de publieke binnenruimtes. https://t.co/uCLpyJwPS3 #coronavirus… https://t.co/Nh2cFr6k7f   \n",
       "13127                                               #vlog 19 #60plusser nadeel online netwerken + voordeel #tijd  #Covid_19 https://t.co/c1BY78KThV   \n",
       "3432    Besmettingen op VO-scholen neemt toe. Niet heel vreemd, maatregelen worden minder nageleefd, want de ventilatie is… https://t.co/Q3YcnYaWWL   \n",
       "\n",
       "              lockdown_widening         timedelta  \\\n",
       "5466  2020-11-19 00:00:01+00:00   2 days 17:48:25   \n",
       "285   2020-11-19 00:00:01+00:00   5 days 17:03:43   \n",
       "12879 2020-11-19 00:00:01+00:00 -1 days +14:39:28   \n",
       "13127 2020-11-19 00:00:01+00:00 -1 days +13:09:47   \n",
       "3432  2020-11-19 00:00:01+00:00   4 days 07:06:43   \n",
       "\n",
       "                                        sentiment  \n",
       "5466    (0.10250000000000002, 0.4100000000000001)  \n",
       "285                                    (0.0, 0.0)  \n",
       "12879                 (0.05, 0.15000000000000002)  \n",
       "13127                                  (0.0, 0.0)  \n",
       "3432   (0.10416666666666666, 0.35416666666666663)  "
      ]
     },
     "execution_count": 15,
     "metadata": {},
     "output_type": "execute_result"
    }
   ],
   "source": [
    "# Map the function to the text column\n",
    "tweets_sample['sentiment'] = tweets_sample['text'].map(sentiment)\n",
    "tweets_sample.head()"
   ]
  },
  {
   "cell_type": "code",
   "execution_count": 16,
   "metadata": {},
   "outputs": [
    {
     "name": "stderr",
     "output_type": "stream",
     "text": [
      "C:\\Users\\RianneRendering\\anaconda3\\lib\\site-packages\\pandas\\core\\frame.py:2963: SettingWithCopyWarning: \n",
      "A value is trying to be set on a copy of a slice from a DataFrame.\n",
      "Try using .loc[row_indexer,col_indexer] = value instead\n",
      "\n",
      "See the caveats in the documentation: https://pandas.pydata.org/pandas-docs/stable/user_guide/indexing.html#returning-a-view-versus-a-copy\n",
      "  self[k1] = value[k2]\n"
     ]
    },
    {
     "data": {
      "text/html": [
       "<div>\n",
       "<style scoped>\n",
       "    .dataframe tbody tr th:only-of-type {\n",
       "        vertical-align: middle;\n",
       "    }\n",
       "\n",
       "    .dataframe tbody tr th {\n",
       "        vertical-align: top;\n",
       "    }\n",
       "\n",
       "    .dataframe thead th {\n",
       "        text-align: right;\n",
       "    }\n",
       "</style>\n",
       "<table border=\"1\" class=\"dataframe\">\n",
       "  <thead>\n",
       "    <tr style=\"text-align: right;\">\n",
       "      <th></th>\n",
       "      <th>created_at</th>\n",
       "      <th>text</th>\n",
       "      <th>lockdown_widening</th>\n",
       "      <th>timedelta</th>\n",
       "      <th>sentiment</th>\n",
       "      <th>polarity</th>\n",
       "      <th>subjectivity</th>\n",
       "    </tr>\n",
       "  </thead>\n",
       "  <tbody>\n",
       "    <tr>\n",
       "      <th>5466</th>\n",
       "      <td>2020-11-21 17:48:26+00:00</td>\n",
       "      <td>@line_forward @Zophia79307590 Zou best eens kunnen.\\nDe covid-19 testkits zijn in 2018 al gedistribueerd. https://t.co/wwUZRW3g9k</td>\n",
       "      <td>2020-11-19 00:00:01+00:00</td>\n",
       "      <td>2 days 17:48:25</td>\n",
       "      <td>(0.10250000000000002, 0.4100000000000001)</td>\n",
       "      <td>0.102500</td>\n",
       "      <td>0.410000</td>\n",
       "    </tr>\n",
       "    <tr>\n",
       "      <th>285</th>\n",
       "      <td>2020-11-24 17:03:44+00:00</td>\n",
       "      <td>Met of zonder Coca-Cola? #AkkoordGezondeVoedingOpScholen #CocaCola #Leefstijl  #mentalegezondheidsproblemen… https://t.co/q45Zd3Uzdz</td>\n",
       "      <td>2020-11-19 00:00:01+00:00</td>\n",
       "      <td>5 days 17:03:43</td>\n",
       "      <td>(0.0, 0.0)</td>\n",
       "      <td>0.000000</td>\n",
       "      <td>0.000000</td>\n",
       "    </tr>\n",
       "    <tr>\n",
       "      <th>12879</th>\n",
       "      <td>2020-11-18 14:39:29+00:00</td>\n",
       "      <td>Vanaf 1 december 2020 geldt een mondkapjesplicht in de publieke binnenruimtes. https://t.co/uCLpyJwPS3 #coronavirus… https://t.co/Nh2cFr6k7f</td>\n",
       "      <td>2020-11-19 00:00:01+00:00</td>\n",
       "      <td>-1 days +14:39:28</td>\n",
       "      <td>(0.05, 0.15000000000000002)</td>\n",
       "      <td>0.050000</td>\n",
       "      <td>0.150000</td>\n",
       "    </tr>\n",
       "    <tr>\n",
       "      <th>13127</th>\n",
       "      <td>2020-11-18 13:09:48+00:00</td>\n",
       "      <td>#vlog 19 #60plusser nadeel online netwerken + voordeel #tijd  #Covid_19 https://t.co/c1BY78KThV</td>\n",
       "      <td>2020-11-19 00:00:01+00:00</td>\n",
       "      <td>-1 days +13:09:47</td>\n",
       "      <td>(0.0, 0.0)</td>\n",
       "      <td>0.000000</td>\n",
       "      <td>0.000000</td>\n",
       "    </tr>\n",
       "    <tr>\n",
       "      <th>3432</th>\n",
       "      <td>2020-11-23 07:06:44+00:00</td>\n",
       "      <td>Besmettingen op VO-scholen neemt toe. Niet heel vreemd, maatregelen worden minder nageleefd, want de ventilatie is… https://t.co/Q3YcnYaWWL</td>\n",
       "      <td>2020-11-19 00:00:01+00:00</td>\n",
       "      <td>4 days 07:06:43</td>\n",
       "      <td>(0.10416666666666666, 0.35416666666666663)</td>\n",
       "      <td>0.104167</td>\n",
       "      <td>0.354167</td>\n",
       "    </tr>\n",
       "  </tbody>\n",
       "</table>\n",
       "</div>"
      ],
      "text/plain": [
       "                     created_at  \\\n",
       "5466  2020-11-21 17:48:26+00:00   \n",
       "285   2020-11-24 17:03:44+00:00   \n",
       "12879 2020-11-18 14:39:29+00:00   \n",
       "13127 2020-11-18 13:09:48+00:00   \n",
       "3432  2020-11-23 07:06:44+00:00   \n",
       "\n",
       "                                                                                                                                               text  \\\n",
       "5466              @line_forward @Zophia79307590 Zou best eens kunnen.\\nDe covid-19 testkits zijn in 2018 al gedistribueerd. https://t.co/wwUZRW3g9k   \n",
       "285            Met of zonder Coca-Cola? #AkkoordGezondeVoedingOpScholen #CocaCola #Leefstijl  #mentalegezondheidsproblemen… https://t.co/q45Zd3Uzdz   \n",
       "12879  Vanaf 1 december 2020 geldt een mondkapjesplicht in de publieke binnenruimtes. https://t.co/uCLpyJwPS3 #coronavirus… https://t.co/Nh2cFr6k7f   \n",
       "13127                                               #vlog 19 #60plusser nadeel online netwerken + voordeel #tijd  #Covid_19 https://t.co/c1BY78KThV   \n",
       "3432    Besmettingen op VO-scholen neemt toe. Niet heel vreemd, maatregelen worden minder nageleefd, want de ventilatie is… https://t.co/Q3YcnYaWWL   \n",
       "\n",
       "              lockdown_widening         timedelta  \\\n",
       "5466  2020-11-19 00:00:01+00:00   2 days 17:48:25   \n",
       "285   2020-11-19 00:00:01+00:00   5 days 17:03:43   \n",
       "12879 2020-11-19 00:00:01+00:00 -1 days +14:39:28   \n",
       "13127 2020-11-19 00:00:01+00:00 -1 days +13:09:47   \n",
       "3432  2020-11-19 00:00:01+00:00   4 days 07:06:43   \n",
       "\n",
       "                                        sentiment  polarity  subjectivity  \n",
       "5466    (0.10250000000000002, 0.4100000000000001)  0.102500      0.410000  \n",
       "285                                    (0.0, 0.0)  0.000000      0.000000  \n",
       "12879                 (0.05, 0.15000000000000002)  0.050000      0.150000  \n",
       "13127                                  (0.0, 0.0)  0.000000      0.000000  \n",
       "3432   (0.10416666666666666, 0.35416666666666663)  0.104167      0.354167  "
      ]
     },
     "execution_count": 16,
     "metadata": {},
     "output_type": "execute_result"
    }
   ],
   "source": [
    "# Split the sentiment column into two columns: polarity and subjectivity\n",
    "tweets_sample['sentiment'].tolist()                                                                                                                                                        \n",
    "pd.DataFrame(tweets_sample['sentiment'].tolist(), index=tweets_sample.index)                                                                                                                                          \n",
    "tweets_sample[['polarity', 'subjectivity']] = pd.DataFrame(tweets_sample['sentiment'].tolist(), index=tweets_sample.index)  \n",
    "tweets_sample.head()"
   ]
  },
  {
   "cell_type": "markdown",
   "metadata": {},
   "source": [
    "#### Based on TextBlob, categorize sentiment as positive, negative or neutral"
   ]
  },
  {
   "cell_type": "code",
   "execution_count": 17,
   "metadata": {},
   "outputs": [
    {
     "data": {
      "text/plain": [
       "'negative'"
      ]
     },
     "execution_count": 17,
     "metadata": {},
     "output_type": "execute_result"
    }
   ],
   "source": [
    "# Define a function to determine the sentiment category\n",
    "def sentiment_cat(polarity):\n",
    "    \"\"\"input: float, based on the output of TextBlob polarity measure, you want to categorize\n",
    "    output: sentiment category, either positive, negative or neutral\n",
    "    \"\"\"\n",
    "    polarity = float(polarity)\n",
    "    if polarity > 0:\n",
    "        return 'positive'\n",
    "    \n",
    "    if polarity < 0:\n",
    "        return 'negative'\n",
    "    \n",
    "    if polarity == 0:\n",
    "        return 'neutral'\n",
    "    \n",
    "    else:\n",
    "        return 'error'\n",
    "    \n",
    "# test with example (-0.1 from previous example) should return negative\n",
    "polarity = \"-0.1\"\n",
    "sentiment_cat(polarity)"
   ]
  },
  {
   "cell_type": "code",
   "execution_count": 18,
   "metadata": {},
   "outputs": [
    {
     "name": "stderr",
     "output_type": "stream",
     "text": [
      "<ipython-input-18-e4e83591df82>:2: SettingWithCopyWarning: \n",
      "A value is trying to be set on a copy of a slice from a DataFrame.\n",
      "Try using .loc[row_indexer,col_indexer] = value instead\n",
      "\n",
      "See the caveats in the documentation: https://pandas.pydata.org/pandas-docs/stable/user_guide/indexing.html#returning-a-view-versus-a-copy\n",
      "  tweets_sample['sentiment_cat'] = tweets_sample['polarity'].map(sentiment_cat)\n"
     ]
    },
    {
     "data": {
      "text/html": [
       "<div>\n",
       "<style scoped>\n",
       "    .dataframe tbody tr th:only-of-type {\n",
       "        vertical-align: middle;\n",
       "    }\n",
       "\n",
       "    .dataframe tbody tr th {\n",
       "        vertical-align: top;\n",
       "    }\n",
       "\n",
       "    .dataframe thead th {\n",
       "        text-align: right;\n",
       "    }\n",
       "</style>\n",
       "<table border=\"1\" class=\"dataframe\">\n",
       "  <thead>\n",
       "    <tr style=\"text-align: right;\">\n",
       "      <th></th>\n",
       "      <th>created_at</th>\n",
       "      <th>text</th>\n",
       "      <th>lockdown_widening</th>\n",
       "      <th>timedelta</th>\n",
       "      <th>sentiment</th>\n",
       "      <th>polarity</th>\n",
       "      <th>subjectivity</th>\n",
       "      <th>sentiment_cat</th>\n",
       "    </tr>\n",
       "  </thead>\n",
       "  <tbody>\n",
       "    <tr>\n",
       "      <th>5466</th>\n",
       "      <td>2020-11-21 17:48:26+00:00</td>\n",
       "      <td>@line_forward @Zophia79307590 Zou best eens kunnen.\\nDe covid-19 testkits zijn in 2018 al gedistribueerd. https://t.co/wwUZRW3g9k</td>\n",
       "      <td>2020-11-19 00:00:01+00:00</td>\n",
       "      <td>2 days 17:48:25</td>\n",
       "      <td>(0.10250000000000002, 0.4100000000000001)</td>\n",
       "      <td>0.102500</td>\n",
       "      <td>0.410000</td>\n",
       "      <td>positive</td>\n",
       "    </tr>\n",
       "    <tr>\n",
       "      <th>285</th>\n",
       "      <td>2020-11-24 17:03:44+00:00</td>\n",
       "      <td>Met of zonder Coca-Cola? #AkkoordGezondeVoedingOpScholen #CocaCola #Leefstijl  #mentalegezondheidsproblemen… https://t.co/q45Zd3Uzdz</td>\n",
       "      <td>2020-11-19 00:00:01+00:00</td>\n",
       "      <td>5 days 17:03:43</td>\n",
       "      <td>(0.0, 0.0)</td>\n",
       "      <td>0.000000</td>\n",
       "      <td>0.000000</td>\n",
       "      <td>neutral</td>\n",
       "    </tr>\n",
       "    <tr>\n",
       "      <th>12879</th>\n",
       "      <td>2020-11-18 14:39:29+00:00</td>\n",
       "      <td>Vanaf 1 december 2020 geldt een mondkapjesplicht in de publieke binnenruimtes. https://t.co/uCLpyJwPS3 #coronavirus… https://t.co/Nh2cFr6k7f</td>\n",
       "      <td>2020-11-19 00:00:01+00:00</td>\n",
       "      <td>-1 days +14:39:28</td>\n",
       "      <td>(0.05, 0.15000000000000002)</td>\n",
       "      <td>0.050000</td>\n",
       "      <td>0.150000</td>\n",
       "      <td>positive</td>\n",
       "    </tr>\n",
       "    <tr>\n",
       "      <th>13127</th>\n",
       "      <td>2020-11-18 13:09:48+00:00</td>\n",
       "      <td>#vlog 19 #60plusser nadeel online netwerken + voordeel #tijd  #Covid_19 https://t.co/c1BY78KThV</td>\n",
       "      <td>2020-11-19 00:00:01+00:00</td>\n",
       "      <td>-1 days +13:09:47</td>\n",
       "      <td>(0.0, 0.0)</td>\n",
       "      <td>0.000000</td>\n",
       "      <td>0.000000</td>\n",
       "      <td>neutral</td>\n",
       "    </tr>\n",
       "    <tr>\n",
       "      <th>3432</th>\n",
       "      <td>2020-11-23 07:06:44+00:00</td>\n",
       "      <td>Besmettingen op VO-scholen neemt toe. Niet heel vreemd, maatregelen worden minder nageleefd, want de ventilatie is… https://t.co/Q3YcnYaWWL</td>\n",
       "      <td>2020-11-19 00:00:01+00:00</td>\n",
       "      <td>4 days 07:06:43</td>\n",
       "      <td>(0.10416666666666666, 0.35416666666666663)</td>\n",
       "      <td>0.104167</td>\n",
       "      <td>0.354167</td>\n",
       "      <td>positive</td>\n",
       "    </tr>\n",
       "  </tbody>\n",
       "</table>\n",
       "</div>"
      ],
      "text/plain": [
       "                     created_at  \\\n",
       "5466  2020-11-21 17:48:26+00:00   \n",
       "285   2020-11-24 17:03:44+00:00   \n",
       "12879 2020-11-18 14:39:29+00:00   \n",
       "13127 2020-11-18 13:09:48+00:00   \n",
       "3432  2020-11-23 07:06:44+00:00   \n",
       "\n",
       "                                                                                                                                               text  \\\n",
       "5466              @line_forward @Zophia79307590 Zou best eens kunnen.\\nDe covid-19 testkits zijn in 2018 al gedistribueerd. https://t.co/wwUZRW3g9k   \n",
       "285            Met of zonder Coca-Cola? #AkkoordGezondeVoedingOpScholen #CocaCola #Leefstijl  #mentalegezondheidsproblemen… https://t.co/q45Zd3Uzdz   \n",
       "12879  Vanaf 1 december 2020 geldt een mondkapjesplicht in de publieke binnenruimtes. https://t.co/uCLpyJwPS3 #coronavirus… https://t.co/Nh2cFr6k7f   \n",
       "13127                                               #vlog 19 #60plusser nadeel online netwerken + voordeel #tijd  #Covid_19 https://t.co/c1BY78KThV   \n",
       "3432    Besmettingen op VO-scholen neemt toe. Niet heel vreemd, maatregelen worden minder nageleefd, want de ventilatie is… https://t.co/Q3YcnYaWWL   \n",
       "\n",
       "              lockdown_widening         timedelta  \\\n",
       "5466  2020-11-19 00:00:01+00:00   2 days 17:48:25   \n",
       "285   2020-11-19 00:00:01+00:00   5 days 17:03:43   \n",
       "12879 2020-11-19 00:00:01+00:00 -1 days +14:39:28   \n",
       "13127 2020-11-19 00:00:01+00:00 -1 days +13:09:47   \n",
       "3432  2020-11-19 00:00:01+00:00   4 days 07:06:43   \n",
       "\n",
       "                                        sentiment  polarity  subjectivity  \\\n",
       "5466    (0.10250000000000002, 0.4100000000000001)  0.102500      0.410000   \n",
       "285                                    (0.0, 0.0)  0.000000      0.000000   \n",
       "12879                 (0.05, 0.15000000000000002)  0.050000      0.150000   \n",
       "13127                                  (0.0, 0.0)  0.000000      0.000000   \n",
       "3432   (0.10416666666666666, 0.35416666666666663)  0.104167      0.354167   \n",
       "\n",
       "      sentiment_cat  \n",
       "5466       positive  \n",
       "285         neutral  \n",
       "12879      positive  \n",
       "13127       neutral  \n",
       "3432       positive  "
      ]
     },
     "execution_count": 18,
     "metadata": {},
     "output_type": "execute_result"
    }
   ],
   "source": [
    "# Map the function to the polarity column\n",
    "tweets_sample['sentiment_cat'] = tweets_sample['polarity'].map(sentiment_cat)\n",
    "tweets_sample.head()"
   ]
  },
  {
   "cell_type": "markdown",
   "metadata": {},
   "source": [
    "#### Save output as Excel file. This output will be manually judged outside Python"
   ]
  },
  {
   "cell_type": "code",
   "execution_count": 20,
   "metadata": {},
   "outputs": [],
   "source": [
    "# Remove unnecessary columns. Remaining columns: text and sentiment_cat\n",
    "tweets_sample_cat = tweets_sample[['text', 'sentiment_cat']]\n",
    "\n",
    "# Store column names in a list to use as input for saving as excel file\n",
    "col_names = tweets_sample_cat.columns.tolist()"
   ]
  },
  {
   "cell_type": "code",
   "execution_count": 21,
   "metadata": {},
   "outputs": [],
   "source": [
    "# Save dataframe as excel file\n",
    "tweets_sample_cat.to_excel(\"data\\\\twitter_sample_sentiment.xlsx\", sheet_name='Twitter_sentiment', columns=col_names, index=False)"
   ]
  }
 ],
 "metadata": {
  "kernelspec": {
   "display_name": "Python 3",
   "language": "python",
   "name": "python3"
  },
  "language_info": {
   "codemirror_mode": {
    "name": "ipython",
    "version": 3
   },
   "file_extension": ".py",
   "mimetype": "text/x-python",
   "name": "python",
   "nbconvert_exporter": "python",
   "pygments_lexer": "ipython3",
   "version": "3.8.3"
  }
 },
 "nbformat": 4,
 "nbformat_minor": 4
}
