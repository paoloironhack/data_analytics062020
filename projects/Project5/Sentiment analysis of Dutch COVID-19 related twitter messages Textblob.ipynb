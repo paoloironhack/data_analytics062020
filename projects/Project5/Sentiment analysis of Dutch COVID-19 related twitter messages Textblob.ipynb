{
 "cells": [
  {
   "cell_type": "markdown",
   "metadata": {},
   "source": [
    "# Sentiment analysis of Dutch COVID-19 related twitter messages"
   ]
  },
  {
   "cell_type": "markdown",
   "metadata": {},
   "source": [
    "## Research question\n",
    "*Is it possible to predict whether a COVID-19 related Twitter message is positve or negative?*"
   ]
  },
  {
   "cell_type": "markdown",
   "metadata": {},
   "source": [
    "#### Background information about the project\n",
    "* This project is part of the Ironhack Data Analytics course I followed between June and December 2020.\n",
    "* Project duration: 14th - 28th November 2020.\n",
    "* Overarching goals:\n",
    "   1. Learn to learn and apply new tools and methodologies. Keeping up with developments and teach yourself new tools is an important trait of a data analyst;\n",
    "   2. Focus on learning a skill transferrable to the final project.\n",
    "* Specific goals for Natural Language Processing projects:\n",
    "    * Design and build an NLP prototype. \n",
    "    * Integrate a machine learning algorithm in an NLP framework (e.g. a chatbot or sentiment analyzer)  \n",
    "    * Use evaluation metrics to ground your claims and test your model. \n",
    "    * Communicate the results of your analysis clearly, accurately, and engagingly. Demonstrate your working prototype. \n",
    "    * Learn to tailor the style of your communication to the audience."
   ]
  },
  {
   "cell_type": "markdown",
   "metadata": {},
   "source": [
    "#### Download the dataset\n",
    "Please download the dataset from [here](https://drive.google.com/file/d/1JnvJrmTC0XgA5XwU9Tywxb8Cliqe8Gi8/view?usp=sharing) and place it in the data folder."
   ]
  },
  {
   "cell_type": "markdown",
   "metadata": {},
   "source": [
    "#### Context about the data\n",
    "The dataset contains around 17.000 Dutch twitter messages. The Twitter messages were obtained via the Twitter API using Tweepy. You can find the code in Python file 'How to get data from Twitter' in this folder.\n",
    "\n",
    "The Twitter messages have the following characteristics:\n",
    "- Dutch language label.\n",
    "- Created between 17 Nov 2020 and 26 Nov 2020.\n",
    "- Retweets are filtered out of the dataset.\n",
    "- Each message has at least one of the following hashtags: #corona, #CoronaNL, #coronanederland, #coronavirus, #coronavirusnl, #coronavirusNederland, #covid19, #COVID19NL, #covid19nederland, #covid-19, #covid_19, #covid_19nl and #Covid_19Nederland.\n",
    "\n",
    "The first data cleaning was already done obtaining the messages. Only two colums are kept and can be found in this dataset: the creation date and text of the message."
   ]
  },
  {
   "cell_type": "markdown",
   "metadata": {},
   "source": [
    "#### Import libraries\n",
    "First, install and import the necessary libraries to conduct the analysis."
   ]
  },
  {
   "cell_type": "code",
   "execution_count": 1,
   "metadata": {},
   "outputs": [],
   "source": [
    "import pandas as pd\n",
    "import numpy as np\n",
    "import random\n",
    "import re\n",
    "import emoji\n",
    "import nltk\n",
    "from nltk.corpus import stopwords\n",
    "from textblob import TextBlob\n",
    "from textblob_nl import PatternTagger, PatternAnalyzer\n",
    "\n",
    "# Install libraries and download packages if needed:\n",
    "# pip install emoji\n",
    "# pip install textblob\n",
    "# pip install textblob-nl\n",
    "# pip install tensorflow\n",
    "# pip install keras\n",
    "# nltk.download('stopwords')"
   ]
  },
  {
   "cell_type": "markdown",
   "metadata": {},
   "source": [
    "#### Import datasets\n",
    "Secondly, import the dataset."
   ]
  },
  {
   "cell_type": "code",
   "execution_count": 2,
   "metadata": {},
   "outputs": [],
   "source": [
    "tweets = pd.read_csv('data\\\\twitterdata_NEW.csv')"
   ]
  },
  {
   "cell_type": "markdown",
   "metadata": {},
   "source": [
    "#### Inspecting & cleaning the data\n",
    "1. We first set the maximum column width to infinite number of characters. The default is 50, which means we cannot read the whole message.\n",
    "2. We print the first 5 rows of the dataframe to see what the dataset looks like.\n",
    "3. The datatype of both columns is 'object'. Since 'created at' is a date, we convert this column to datetime.\n",
    "4. At midnight on Thursday the 19th of November, part of the lockdown measures in the Netherlands was widened. Meaning people were allowed to have more vistors at home and visiting a museum for instance. This might influence the sentiment of the messages. Therefore we add an extra column to the dataframe: the time difference between the widening of the measures and creation of the message."
   ]
  },
  {
   "cell_type": "code",
   "execution_count": 3,
   "metadata": {},
   "outputs": [],
   "source": [
    "# Set column width to infinite number of characters\n",
    "pd.set_option('max_colwidth', None)"
   ]
  },
  {
   "cell_type": "code",
   "execution_count": 4,
   "metadata": {},
   "outputs": [
    {
     "data": {
      "text/html": [
       "<div>\n",
       "<style scoped>\n",
       "    .dataframe tbody tr th:only-of-type {\n",
       "        vertical-align: middle;\n",
       "    }\n",
       "\n",
       "    .dataframe tbody tr th {\n",
       "        vertical-align: top;\n",
       "    }\n",
       "\n",
       "    .dataframe thead th {\n",
       "        text-align: right;\n",
       "    }\n",
       "</style>\n",
       "<table border=\"1\" class=\"dataframe\">\n",
       "  <thead>\n",
       "    <tr style=\"text-align: right;\">\n",
       "      <th></th>\n",
       "      <th>created_at</th>\n",
       "      <th>full_text</th>\n",
       "    </tr>\n",
       "  </thead>\n",
       "  <tbody>\n",
       "    <tr>\n",
       "      <th>0</th>\n",
       "      <td>Thu Nov 26 12:56:24 +0000 2020</td>\n",
       "      <td>Het beroep van #apotheker, maar ook andere zorgberoepen zijn minder aantrekkelijk dan 2 jaar geleden. Boosdoener: #covid19. Gevaarlijke tendens, gezien het maatschappelijk belang van deze beroepen. \\n@wbeke #zorg #health https://t.co/cdusYnc87a</td>\n",
       "    </tr>\n",
       "    <tr>\n",
       "      <th>1</th>\n",
       "      <td>Thu Nov 26 12:56:21 +0000 2020</td>\n",
       "      <td>Dankjewel @maaikehartjes voor de sterke verbeelding van #covid19 #vaccins 💉 https://t.co/og2OeWBIsR</td>\n",
       "    </tr>\n",
       "    <tr>\n",
       "      <th>2</th>\n",
       "      <td>Thu Nov 26 12:56:15 +0000 2020</td>\n",
       "      <td>Een volledige evalutie over de werkwijze van het kabinet tijdens COVID-19 kunnen we met deze kennis ook wel afschrijven. https://t.co/KlXMHjshbs</td>\n",
       "    </tr>\n",
       "    <tr>\n",
       "      <th>3</th>\n",
       "      <td>Thu Nov 26 12:56:11 +0000 2020</td>\n",
       "      <td>@hugodejonge @vierdaagsefeest @hugodejonge @vierdaagsefeest @St_DE4DAAGSE #Corona #coronapaspoort #vaccinatie : dit kan slimmer , veiliger en niet te hacken: https://t.co/olVBMEunYp</td>\n",
       "    </tr>\n",
       "    <tr>\n",
       "      <th>4</th>\n",
       "      <td>Thu Nov 26 12:56:00 +0000 2020</td>\n",
       "      <td>Onwaarschijnlijke reportage. Wij zijn LETTERLIJK de slechtste ter wereld, en toch blijven ondertussen vervangen ministers zich op de schouders kloppen en anderen blijven bewoon gewoon op post (Beke). \\n\\nGooi ze uit het raam. Het is het enigste dat nog kan.\\n\\nhttps://t.co/rBecJStt1J</td>\n",
       "    </tr>\n",
       "  </tbody>\n",
       "</table>\n",
       "</div>"
      ],
      "text/plain": [
       "                       created_at  \\\n",
       "0  Thu Nov 26 12:56:24 +0000 2020   \n",
       "1  Thu Nov 26 12:56:21 +0000 2020   \n",
       "2  Thu Nov 26 12:56:15 +0000 2020   \n",
       "3  Thu Nov 26 12:56:11 +0000 2020   \n",
       "4  Thu Nov 26 12:56:00 +0000 2020   \n",
       "\n",
       "                                                                                                                                                                                                                                                                                      full_text  \n",
       "0                                          Het beroep van #apotheker, maar ook andere zorgberoepen zijn minder aantrekkelijk dan 2 jaar geleden. Boosdoener: #covid19. Gevaarlijke tendens, gezien het maatschappelijk belang van deze beroepen. \\n@wbeke #zorg #health https://t.co/cdusYnc87a  \n",
       "1                                                                                                                                                                                           Dankjewel @maaikehartjes voor de sterke verbeelding van #covid19 #vaccins 💉 https://t.co/og2OeWBIsR  \n",
       "2                                                                                                                                              Een volledige evalutie over de werkwijze van het kabinet tijdens COVID-19 kunnen we met deze kennis ook wel afschrijven. https://t.co/KlXMHjshbs  \n",
       "3                                                                                                         @hugodejonge @vierdaagsefeest @hugodejonge @vierdaagsefeest @St_DE4DAAGSE #Corona #coronapaspoort #vaccinatie : dit kan slimmer , veiliger en niet te hacken: https://t.co/olVBMEunYp  \n",
       "4  Onwaarschijnlijke reportage. Wij zijn LETTERLIJK de slechtste ter wereld, en toch blijven ondertussen vervangen ministers zich op de schouders kloppen en anderen blijven bewoon gewoon op post (Beke). \\n\\nGooi ze uit het raam. Het is het enigste dat nog kan.\\n\\nhttps://t.co/rBecJStt1J  "
      ]
     },
     "execution_count": 4,
     "metadata": {},
     "output_type": "execute_result"
    }
   ],
   "source": [
    "# Inspect the first 5 rows\n",
    "tweets.head()"
   ]
  },
  {
   "cell_type": "code",
   "execution_count": 5,
   "metadata": {},
   "outputs": [
    {
     "data": {
      "text/plain": [
       "created_at    object\n",
       "full_text     object\n",
       "dtype: object"
      ]
     },
     "execution_count": 5,
     "metadata": {},
     "output_type": "execute_result"
    }
   ],
   "source": [
    "# Inspect datatypes\n",
    "tweets.dtypes"
   ]
  },
  {
   "cell_type": "code",
   "execution_count": 6,
   "metadata": {},
   "outputs": [
    {
     "data": {
      "text/plain": [
       "created_at    datetime64[ns, UTC]\n",
       "full_text                  object\n",
       "dtype: object"
      ]
     },
     "execution_count": 6,
     "metadata": {},
     "output_type": "execute_result"
    }
   ],
   "source": [
    "# Convert created_at column to datetime\n",
    "tweets['created_at'] = pd.to_datetime(tweets['created_at'])\n",
    "tweets.dtypes"
   ]
  },
  {
   "cell_type": "markdown",
   "metadata": {},
   "source": [
    "#### Calculating in the dataframe"
   ]
  },
  {
   "cell_type": "markdown",
   "metadata": {},
   "source": [
    "1. First create an extra column to map the time difference since lockdown widening. Interpretation of the value:\n",
    "    - Negative timedifference: the tweet was send before the widening of the measures\n",
    "    - Positive timedifference: the tweet was send after the widening of the measures\n",
    "2. Oldest message is from the 17th of November 20:59.\n",
    "3. Most recent message is from 26th of November 12:56."
   ]
  },
  {
   "cell_type": "code",
   "execution_count": 7,
   "metadata": {},
   "outputs": [
    {
     "data": {
      "text/html": [
       "<div>\n",
       "<style scoped>\n",
       "    .dataframe tbody tr th:only-of-type {\n",
       "        vertical-align: middle;\n",
       "    }\n",
       "\n",
       "    .dataframe tbody tr th {\n",
       "        vertical-align: top;\n",
       "    }\n",
       "\n",
       "    .dataframe thead th {\n",
       "        text-align: right;\n",
       "    }\n",
       "</style>\n",
       "<table border=\"1\" class=\"dataframe\">\n",
       "  <thead>\n",
       "    <tr style=\"text-align: right;\">\n",
       "      <th></th>\n",
       "      <th>created_at</th>\n",
       "      <th>full_text</th>\n",
       "      <th>lockdown_widening</th>\n",
       "      <th>timedelta</th>\n",
       "    </tr>\n",
       "  </thead>\n",
       "  <tbody>\n",
       "    <tr>\n",
       "      <th>17779</th>\n",
       "      <td>2020-11-17 21:02:34+00:00</td>\n",
       "      <td>Jaaa!!!! Malta komt op 1-0 tegen De Faröer eilanden. Je moet wat in zo een #lockdown periode op een trainingsavond. Die Pipo met zijn gekke schoenen wil dat we bewegen, maar volkssport nr 1 ligt voor 18 + al een half jaar stil #corona #persconferentie #dejonge</td>\n",
       "      <td>2020-11-19 00:00:01+00:00</td>\n",
       "      <td>-2 days +21:02:33</td>\n",
       "    </tr>\n",
       "    <tr>\n",
       "      <th>17780</th>\n",
       "      <td>2020-11-17 21:01:33+00:00</td>\n",
       "      <td>https://t.co/UFvKwkheyy\\nOok wij nemen  tijdelijk een break ! \\nDus muziek geen probleem, hier is DJ Luna 😉😅\\nEen poging om u op te beuren. \\nDank u om te blijven volhouden aan de maatregelen omtrent #Covid_19 #coronavirus @hoerenxxx @RedlightsBelgie @YourRedWish1</td>\n",
       "      <td>2020-11-19 00:00:01+00:00</td>\n",
       "      <td>-2 days +21:01:32</td>\n",
       "    </tr>\n",
       "    <tr>\n",
       "      <th>17781</th>\n",
       "      <td>2020-11-17 21:00:19+00:00</td>\n",
       "      <td>Voor jaaroverzicht terugkijken naar alle items in redactiesysteem. Valt nu op; hoe ontzettend snel er een eerste miljarden steunpakket klaar stond #corona #maart</td>\n",
       "      <td>2020-11-19 00:00:01+00:00</td>\n",
       "      <td>-2 days +21:00:18</td>\n",
       "    </tr>\n",
       "    <tr>\n",
       "      <th>17782</th>\n",
       "      <td>2020-11-17 21:00:01+00:00</td>\n",
       "      <td>@hugodejonge is rijkelijk laat met zijn 2e covid19 golf. HongKong was op 20 Oktober al bezig aan de 4e golf. Waarschijnlijk te druk met opkopen van boerengrond?😂🙈\\nCoronavirus: How close is Hong Kong to a fourth wave of #COVID19?\\n\\nhttps://t.co/elfZBIBdbq https://t.co/l36JdBcpt4</td>\n",
       "      <td>2020-11-19 00:00:01+00:00</td>\n",
       "      <td>-2 days +21:00:00</td>\n",
       "    </tr>\n",
       "    <tr>\n",
       "      <th>17783</th>\n",
       "      <td>2020-11-17 20:59:19+00:00</td>\n",
       "      <td>Besef even dat onze hele maatschappij wordt ingericht met als doel &amp;lt; 3 Covid-19 IC-opnames per dag. Alles daarboven is een probleem volgens @hugodejonge \\nOnze zorg zelf is écht doodziek als dit de norm is die ervoor moet zorgen dat onze zorgsector niet overbelast raakt...</td>\n",
       "      <td>2020-11-19 00:00:01+00:00</td>\n",
       "      <td>-2 days +20:59:18</td>\n",
       "    </tr>\n",
       "  </tbody>\n",
       "</table>\n",
       "</div>"
      ],
      "text/plain": [
       "                     created_at  \\\n",
       "17779 2020-11-17 21:02:34+00:00   \n",
       "17780 2020-11-17 21:01:33+00:00   \n",
       "17781 2020-11-17 21:00:19+00:00   \n",
       "17782 2020-11-17 21:00:01+00:00   \n",
       "17783 2020-11-17 20:59:19+00:00   \n",
       "\n",
       "                                                                                                                                                                                                                                                                                      full_text  \\\n",
       "17779                      Jaaa!!!! Malta komt op 1-0 tegen De Faröer eilanden. Je moet wat in zo een #lockdown periode op een trainingsavond. Die Pipo met zijn gekke schoenen wil dat we bewegen, maar volkssport nr 1 ligt voor 18 + al een half jaar stil #corona #persconferentie #dejonge   \n",
       "17780                  https://t.co/UFvKwkheyy\\nOok wij nemen  tijdelijk een break ! \\nDus muziek geen probleem, hier is DJ Luna 😉😅\\nEen poging om u op te beuren. \\nDank u om te blijven volhouden aan de maatregelen omtrent #Covid_19 #coronavirus @hoerenxxx @RedlightsBelgie @YourRedWish1   \n",
       "17781                                                                                                                         Voor jaaroverzicht terugkijken naar alle items in redactiesysteem. Valt nu op; hoe ontzettend snel er een eerste miljarden steunpakket klaar stond #corona #maart   \n",
       "17782  @hugodejonge is rijkelijk laat met zijn 2e covid19 golf. HongKong was op 20 Oktober al bezig aan de 4e golf. Waarschijnlijk te druk met opkopen van boerengrond?😂🙈\\nCoronavirus: How close is Hong Kong to a fourth wave of #COVID19?\\n\\nhttps://t.co/elfZBIBdbq https://t.co/l36JdBcpt4   \n",
       "17783      Besef even dat onze hele maatschappij wordt ingericht met als doel &lt; 3 Covid-19 IC-opnames per dag. Alles daarboven is een probleem volgens @hugodejonge \\nOnze zorg zelf is écht doodziek als dit de norm is die ervoor moet zorgen dat onze zorgsector niet overbelast raakt...   \n",
       "\n",
       "              lockdown_widening         timedelta  \n",
       "17779 2020-11-19 00:00:01+00:00 -2 days +21:02:33  \n",
       "17780 2020-11-19 00:00:01+00:00 -2 days +21:01:32  \n",
       "17781 2020-11-19 00:00:01+00:00 -2 days +21:00:18  \n",
       "17782 2020-11-19 00:00:01+00:00 -2 days +21:00:00  \n",
       "17783 2020-11-19 00:00:01+00:00 -2 days +20:59:18  "
      ]
     },
     "execution_count": 7,
     "metadata": {},
     "output_type": "execute_result"
    }
   ],
   "source": [
    "# First add a column with the date of the widening of the lockdown\n",
    "tweets['lockdown_widening'] = '2020-11-19 00:00:01+00:00'\n",
    "\n",
    "# Convert column to datetime\n",
    "tweets['lockdown_widening'] = pd.to_datetime(tweets['lockdown_widening'])\n",
    "\n",
    "# Check dtypes in dataframe\n",
    "tweets.dtypes\n",
    "\n",
    "# Create an extra column: time difference\n",
    "tweets['timedelta'] = tweets['created_at'] - tweets['lockdown_widening']\n",
    "\n",
    "# Inspect head of dataset\n",
    "tweets.tail()"
   ]
  },
  {
   "cell_type": "code",
   "execution_count": 8,
   "metadata": {},
   "outputs": [
    {
     "data": {
      "text/plain": [
       "Timestamp('2020-11-17 20:59:19+0000', tz='UTC')"
      ]
     },
     "execution_count": 8,
     "metadata": {},
     "output_type": "execute_result"
    }
   ],
   "source": [
    "# Oldest message\n",
    "tweets['created_at'].min()"
   ]
  },
  {
   "cell_type": "code",
   "execution_count": 9,
   "metadata": {},
   "outputs": [
    {
     "data": {
      "text/plain": [
       "Timestamp('2020-11-26 12:56:24+0000', tz='UTC')"
      ]
     },
     "execution_count": 9,
     "metadata": {},
     "output_type": "execute_result"
    }
   ],
   "source": [
    "# Most recent message\n",
    "tweets['created_at'].max()"
   ]
  },
  {
   "cell_type": "markdown",
   "metadata": {},
   "source": [
    "## Obtaining labeled Twitter messages\n",
    "To be able to create a ML algorithm that predicts the sentiment of a message (negative or positive) there needs to be a labeled dataset, i.e. a dataset with two columns:\n",
    "1. The text of a messages\n",
    "2. The sentiment of the message (positive or negative).\n",
    "\n",
    "Since I couldn't find a pre labeled dataset, I will create one myself."
   ]
  },
  {
   "cell_type": "markdown",
   "metadata": {},
   "source": [
    "#### Creating a sample and population dataset\n",
    "*Disclaimer: Since the list with random numbers is modified each time this kernel runs, the sample dataset will differ. Therefore the code to save it to a csv file is preceded by a #. So it will not overwrite the csv files*.\n",
    "\n",
    "1. Create a sample dataset using random numbers. Save it as a dataframe.\n",
    "2. Save remaining data in a seperate dataframe.\n",
    "\n",
    "Because the script generates new random numbers everytime it runs, I ask you to save the data in an Excel file and re upload it. We than work with the same set of text messages everytime. This makes it easier to make conclusions."
   ]
  },
  {
   "cell_type": "code",
   "execution_count": 10,
   "metadata": {},
   "outputs": [
    {
     "data": {
      "text/plain": [
       "17784"
      ]
     },
     "execution_count": 10,
     "metadata": {},
     "output_type": "execute_result"
    }
   ],
   "source": [
    "# Number of rows in the dataset (population)\n",
    "population_size = len(tweets)\n",
    "population_size"
   ]
  },
  {
   "cell_type": "code",
   "execution_count": 11,
   "metadata": {},
   "outputs": [],
   "source": [
    "# Create a list with 500 random integers\n",
    "randomlist = random.sample(range(0, population_size), 500)"
   ]
  },
  {
   "cell_type": "code",
   "execution_count": 12,
   "metadata": {},
   "outputs": [
    {
     "data": {
      "text/html": [
       "<div>\n",
       "<style scoped>\n",
       "    .dataframe tbody tr th:only-of-type {\n",
       "        vertical-align: middle;\n",
       "    }\n",
       "\n",
       "    .dataframe tbody tr th {\n",
       "        vertical-align: top;\n",
       "    }\n",
       "\n",
       "    .dataframe thead th {\n",
       "        text-align: right;\n",
       "    }\n",
       "</style>\n",
       "<table border=\"1\" class=\"dataframe\">\n",
       "  <thead>\n",
       "    <tr style=\"text-align: right;\">\n",
       "      <th></th>\n",
       "      <th>created_at</th>\n",
       "      <th>full_text</th>\n",
       "      <th>lockdown_widening</th>\n",
       "      <th>timedelta</th>\n",
       "    </tr>\n",
       "  </thead>\n",
       "  <tbody>\n",
       "    <tr>\n",
       "      <th>15014</th>\n",
       "      <td>2020-11-18 21:57:13+00:00</td>\n",
       "      <td>Volgens #Predikant Uitslag uit #Urk is #Corona en de maatschappelijke gevolgen geen thema in de kerkdienst. Alleen het woord van God is aan de orde.\\nIn welke tijd leeft deze gemeenschap eigenlijk?</td>\n",
       "      <td>2020-11-19 00:00:01+00:00</td>\n",
       "      <td>-1 days +21:57:12</td>\n",
       "    </tr>\n",
       "    <tr>\n",
       "      <th>17712</th>\n",
       "      <td>2020-11-17 21:36:48+00:00</td>\n",
       "      <td>@hankd79 @bslagter @DiederikSmit Maatregelen zijn er om overbelasting van de zorg te voorkomen. IFR van COVID-19 is NIET 0,2 procent</td>\n",
       "      <td>2020-11-19 00:00:01+00:00</td>\n",
       "      <td>-2 days +21:36:47</td>\n",
       "    </tr>\n",
       "    <tr>\n",
       "      <th>13334</th>\n",
       "      <td>2020-11-19 14:36:36+00:00</td>\n",
       "      <td>@edwinveldhuizen ⚡ Goirle ➚\\n\\n+12 sinds gisteren\\n+518 sinds 1 okt\\n+73 sinds 7 dagen (12 nov)\\nWat meer is dan de +61 in de 7d ervoor\\n\\n23.839 inwoners maakt dat\\n⚡ 306.2 / 100.000 / 7d\\n\\nDaarbij in de laatste 2 weken:\\n+2 opnames\\n\\n[#COVID19NL 19 Nov]</td>\n",
       "      <td>2020-11-19 00:00:01+00:00</td>\n",
       "      <td>0 days 14:36:35</td>\n",
       "    </tr>\n",
       "    <tr>\n",
       "      <th>5861</th>\n",
       "      <td>2020-11-23 13:28:05+00:00</td>\n",
       "      <td>@edwinveldhuizen 🟣 Drechterland ➘\\n\\n+5 sinds gisteren\\n+363 sinds 1 okt\\n+36 sinds 7 dagen (16 nov)\\nWat minder is dan de +40 in de 7d ervoor\\n\\n19.801 inwoners maakt dat\\n🟣 181.8 / 100.000 / 7d\\n\\n[#COVID19NL 23 Nov]</td>\n",
       "      <td>2020-11-19 00:00:01+00:00</td>\n",
       "      <td>4 days 13:28:04</td>\n",
       "    </tr>\n",
       "    <tr>\n",
       "      <th>2277</th>\n",
       "      <td>2020-11-25 12:03:50+00:00</td>\n",
       "      <td>Helaas wordt dit opnieuw bevestigd: Het belang van handen wassen voor en na boodschappen onderstrepend! #COVID19 \\n@VTMNIEUWS @vrtnws @be_gezondheid @ZorgVlaanderen \\n\\nFood Products as Potential Carriers of SARS-CoV-2 https://t.co/h8iNaDrIp5</td>\n",
       "      <td>2020-11-19 00:00:01+00:00</td>\n",
       "      <td>6 days 12:03:49</td>\n",
       "    </tr>\n",
       "  </tbody>\n",
       "</table>\n",
       "</div>"
      ],
      "text/plain": [
       "                     created_at  \\\n",
       "15014 2020-11-18 21:57:13+00:00   \n",
       "17712 2020-11-17 21:36:48+00:00   \n",
       "13334 2020-11-19 14:36:36+00:00   \n",
       "5861  2020-11-23 13:28:05+00:00   \n",
       "2277  2020-11-25 12:03:50+00:00   \n",
       "\n",
       "                                                                                                                                                                                                                                                               full_text  \\\n",
       "15014                                                              Volgens #Predikant Uitslag uit #Urk is #Corona en de maatschappelijke gevolgen geen thema in de kerkdienst. Alleen het woord van God is aan de orde.\\nIn welke tijd leeft deze gemeenschap eigenlijk?   \n",
       "17712                                                                                                                               @hankd79 @bslagter @DiederikSmit Maatregelen zijn er om overbelasting van de zorg te voorkomen. IFR van COVID-19 is NIET 0,2 procent   \n",
       "13334  @edwinveldhuizen ⚡ Goirle ➚\\n\\n+12 sinds gisteren\\n+518 sinds 1 okt\\n+73 sinds 7 dagen (12 nov)\\nWat meer is dan de +61 in de 7d ervoor\\n\\n23.839 inwoners maakt dat\\n⚡ 306.2 / 100.000 / 7d\\n\\nDaarbij in de laatste 2 weken:\\n+2 opnames\\n\\n[#COVID19NL 19 Nov]   \n",
       "5861                                          @edwinveldhuizen 🟣 Drechterland ➘\\n\\n+5 sinds gisteren\\n+363 sinds 1 okt\\n+36 sinds 7 dagen (16 nov)\\nWat minder is dan de +40 in de 7d ervoor\\n\\n19.801 inwoners maakt dat\\n🟣 181.8 / 100.000 / 7d\\n\\n[#COVID19NL 23 Nov]   \n",
       "2277                  Helaas wordt dit opnieuw bevestigd: Het belang van handen wassen voor en na boodschappen onderstrepend! #COVID19 \\n@VTMNIEUWS @vrtnws @be_gezondheid @ZorgVlaanderen \\n\\nFood Products as Potential Carriers of SARS-CoV-2 https://t.co/h8iNaDrIp5   \n",
       "\n",
       "              lockdown_widening         timedelta  \n",
       "15014 2020-11-19 00:00:01+00:00 -1 days +21:57:12  \n",
       "17712 2020-11-19 00:00:01+00:00 -2 days +21:36:47  \n",
       "13334 2020-11-19 00:00:01+00:00   0 days 14:36:35  \n",
       "5861  2020-11-19 00:00:01+00:00   4 days 13:28:04  \n",
       "2277  2020-11-19 00:00:01+00:00   6 days 12:03:49  "
      ]
     },
     "execution_count": 12,
     "metadata": {},
     "output_type": "execute_result"
    }
   ],
   "source": [
    "# Select rows corresponding to the 500 random chosen integers\n",
    "tweets_sample = tweets.iloc[randomlist]\n",
    "tweets_sample.head()"
   ]
  },
  {
   "cell_type": "code",
   "execution_count": 13,
   "metadata": {},
   "outputs": [
    {
     "data": {
      "text/html": [
       "<div>\n",
       "<style scoped>\n",
       "    .dataframe tbody tr th:only-of-type {\n",
       "        vertical-align: middle;\n",
       "    }\n",
       "\n",
       "    .dataframe tbody tr th {\n",
       "        vertical-align: top;\n",
       "    }\n",
       "\n",
       "    .dataframe thead th {\n",
       "        text-align: right;\n",
       "    }\n",
       "</style>\n",
       "<table border=\"1\" class=\"dataframe\">\n",
       "  <thead>\n",
       "    <tr style=\"text-align: right;\">\n",
       "      <th></th>\n",
       "      <th>created_at</th>\n",
       "      <th>full_text</th>\n",
       "      <th>lockdown_widening</th>\n",
       "      <th>timedelta</th>\n",
       "    </tr>\n",
       "  </thead>\n",
       "  <tbody>\n",
       "    <tr>\n",
       "      <th>0</th>\n",
       "      <td>2020-11-26 12:56:24+00:00</td>\n",
       "      <td>Het beroep van #apotheker, maar ook andere zorgberoepen zijn minder aantrekkelijk dan 2 jaar geleden. Boosdoener: #covid19. Gevaarlijke tendens, gezien het maatschappelijk belang van deze beroepen. \\n@wbeke #zorg #health https://t.co/cdusYnc87a</td>\n",
       "      <td>2020-11-19 00:00:01+00:00</td>\n",
       "      <td>7 days 12:56:23</td>\n",
       "    </tr>\n",
       "    <tr>\n",
       "      <th>1</th>\n",
       "      <td>2020-11-26 12:56:21+00:00</td>\n",
       "      <td>Dankjewel @maaikehartjes voor de sterke verbeelding van #covid19 #vaccins 💉 https://t.co/og2OeWBIsR</td>\n",
       "      <td>2020-11-19 00:00:01+00:00</td>\n",
       "      <td>7 days 12:56:20</td>\n",
       "    </tr>\n",
       "    <tr>\n",
       "      <th>2</th>\n",
       "      <td>2020-11-26 12:56:15+00:00</td>\n",
       "      <td>Een volledige evalutie over de werkwijze van het kabinet tijdens COVID-19 kunnen we met deze kennis ook wel afschrijven. https://t.co/KlXMHjshbs</td>\n",
       "      <td>2020-11-19 00:00:01+00:00</td>\n",
       "      <td>7 days 12:56:14</td>\n",
       "    </tr>\n",
       "    <tr>\n",
       "      <th>3</th>\n",
       "      <td>2020-11-26 12:56:11+00:00</td>\n",
       "      <td>@hugodejonge @vierdaagsefeest @hugodejonge @vierdaagsefeest @St_DE4DAAGSE #Corona #coronapaspoort #vaccinatie : dit kan slimmer , veiliger en niet te hacken: https://t.co/olVBMEunYp</td>\n",
       "      <td>2020-11-19 00:00:01+00:00</td>\n",
       "      <td>7 days 12:56:10</td>\n",
       "    </tr>\n",
       "    <tr>\n",
       "      <th>4</th>\n",
       "      <td>2020-11-26 12:56:00+00:00</td>\n",
       "      <td>Onwaarschijnlijke reportage. Wij zijn LETTERLIJK de slechtste ter wereld, en toch blijven ondertussen vervangen ministers zich op de schouders kloppen en anderen blijven bewoon gewoon op post (Beke). \\n\\nGooi ze uit het raam. Het is het enigste dat nog kan.\\n\\nhttps://t.co/rBecJStt1J</td>\n",
       "      <td>2020-11-19 00:00:01+00:00</td>\n",
       "      <td>7 days 12:55:59</td>\n",
       "    </tr>\n",
       "  </tbody>\n",
       "</table>\n",
       "</div>"
      ],
      "text/plain": [
       "                 created_at  \\\n",
       "0 2020-11-26 12:56:24+00:00   \n",
       "1 2020-11-26 12:56:21+00:00   \n",
       "2 2020-11-26 12:56:15+00:00   \n",
       "3 2020-11-26 12:56:11+00:00   \n",
       "4 2020-11-26 12:56:00+00:00   \n",
       "\n",
       "                                                                                                                                                                                                                                                                                      full_text  \\\n",
       "0                                          Het beroep van #apotheker, maar ook andere zorgberoepen zijn minder aantrekkelijk dan 2 jaar geleden. Boosdoener: #covid19. Gevaarlijke tendens, gezien het maatschappelijk belang van deze beroepen. \\n@wbeke #zorg #health https://t.co/cdusYnc87a   \n",
       "1                                                                                                                                                                                           Dankjewel @maaikehartjes voor de sterke verbeelding van #covid19 #vaccins 💉 https://t.co/og2OeWBIsR   \n",
       "2                                                                                                                                              Een volledige evalutie over de werkwijze van het kabinet tijdens COVID-19 kunnen we met deze kennis ook wel afschrijven. https://t.co/KlXMHjshbs   \n",
       "3                                                                                                         @hugodejonge @vierdaagsefeest @hugodejonge @vierdaagsefeest @St_DE4DAAGSE #Corona #coronapaspoort #vaccinatie : dit kan slimmer , veiliger en niet te hacken: https://t.co/olVBMEunYp   \n",
       "4  Onwaarschijnlijke reportage. Wij zijn LETTERLIJK de slechtste ter wereld, en toch blijven ondertussen vervangen ministers zich op de schouders kloppen en anderen blijven bewoon gewoon op post (Beke). \\n\\nGooi ze uit het raam. Het is het enigste dat nog kan.\\n\\nhttps://t.co/rBecJStt1J   \n",
       "\n",
       "          lockdown_widening       timedelta  \n",
       "0 2020-11-19 00:00:01+00:00 7 days 12:56:23  \n",
       "1 2020-11-19 00:00:01+00:00 7 days 12:56:20  \n",
       "2 2020-11-19 00:00:01+00:00 7 days 12:56:14  \n",
       "3 2020-11-19 00:00:01+00:00 7 days 12:56:10  \n",
       "4 2020-11-19 00:00:01+00:00 7 days 12:55:59  "
      ]
     },
     "execution_count": 13,
     "metadata": {},
     "output_type": "execute_result"
    }
   ],
   "source": [
    "# Select rows not corresponding to the 500 random chosen integers\n",
    "tweets_remaining = tweets.loc[~tweets.index.isin(randomlist)]\n",
    "tweets_remaining.head()"
   ]
  },
  {
   "cell_type": "markdown",
   "metadata": {},
   "source": [
    "### Second round of data cleaning\n",
    "To be able to analyse or process the text data, it's important that the text is readable for a computer. This means removing special or unusefull charachters:\n",
    "* Urls\n",
    "* @user\n",
    "* New line characters\n",
    "* Emojis\n",
    "* Upper cases\n",
    "* Non-alphanumeric characters\n",
    "\n",
    "Two remarks:\n",
    "1. I choose not to remove the words followd by hashtags (only the hashtags itself), because they can hold valuable information about the sentiment.\n",
    "2. I choose to not remove stopwords. Words like 'but' and 'not' (often considered stopwords) can hold valuable information about the sentiment."
   ]
  },
  {
   "cell_type": "code",
   "execution_count": 14,
   "metadata": {},
   "outputs": [
    {
     "name": "stdout",
     "output_type": "stream",
     "text": [
      "['de', 'en', 'van', 'ik', 'te', 'dat', 'die', 'in', 'een', 'hij', 'het', 'niet', 'zijn', 'is', 'was', 'op', 'aan', 'met', 'als', 'voor', 'had', 'er', 'maar', 'om', 'hem', 'dan', 'zou', 'of', 'wat', 'mijn', 'men', 'dit', 'zo', 'door', 'over', 'ze', 'zich', 'bij', 'ook', 'tot', 'je', 'mij', 'uit', 'der', 'daar', 'haar', 'naar', 'heb', 'hoe', 'heeft', 'hebben', 'deze', 'u', 'want', 'nog', 'zal', 'me', 'zij', 'nu', 'ge', 'geen', 'omdat', 'iets', 'worden', 'toch', 'al', 'waren', 'veel', 'meer', 'doen', 'toen', 'moet', 'ben', 'zonder', 'kan', 'hun', 'dus', 'alles', 'onder', 'ja', 'eens', 'hier', 'wie', 'werd', 'altijd', 'doch', 'wordt', 'wezen', 'kunnen', 'ons', 'zelf', 'tegen', 'na', 'reeds', 'wil', 'kon', 'niets', 'uw', 'iemand', 'geweest', 'andere']\n"
     ]
    }
   ],
   "source": [
    "# NLTK library provides lists of stopwords in multiple languages. They are also available in Dutch:\n",
    "print(stopwords.words('dutch'))\n",
    "\n",
    "# I choose not to use this list, because some words might influence the outcome of the sentiment analysis, like 'niet' and 'maar'."
   ]
  },
  {
   "cell_type": "code",
   "execution_count": 15,
   "metadata": {},
   "outputs": [
    {
     "data": {
      "text/plain": [
       "'de procedure tijdelijke werkloosheid voor bouwvakarbeiders werd vereenvoudigd  tot 31 03 2021 hoef je niet in bezit te zijn van een controlekaart c3 2a  maar kan je een werkloosheidsaanvraag indienen  lees meer  '"
      ]
     },
     "execution_count": 15,
     "metadata": {},
     "output_type": "execute_result"
    }
   ],
   "source": [
    "# First remove urls & users\n",
    "def cleaning(text):\n",
    "    \n",
    "    #Removing URLs with a regular expression\n",
    "    url_pattern = re.compile(r'https?://\\S+|www\\.\\S+')\n",
    "    text = url_pattern.sub(r'', text)\n",
    "    \n",
    "    #Removing URLs with a regular expression\n",
    "    user_pattern = re.compile(r'@[^\\s]+')\n",
    "    text = user_pattern.sub(r'', text)\n",
    "    \n",
    "    # Remove new line characters\n",
    "    text = re.sub('\\s+', ' ', text)\n",
    "    \n",
    "    # remove emojis\n",
    "    text = re.sub(emoji.get_emoji_regexp(), r\"\", text)\n",
    "        \n",
    "    # remove upper cases\n",
    "    text = text.lower()\n",
    "    \n",
    "    # remove non alphanumeric characters\n",
    "    text = re.sub('\\W', ' ', text)\n",
    "    \n",
    "    return text\n",
    "    \n",
    "# test if it works\n",
    "text = tweets_remaining['full_text'].iloc[10]\n",
    "cleaning(text)"
   ]
  },
  {
   "cell_type": "code",
   "execution_count": 16,
   "metadata": {},
   "outputs": [
    {
     "name": "stderr",
     "output_type": "stream",
     "text": [
      "<ipython-input-16-7b0d46e14f50>:2: SettingWithCopyWarning: \n",
      "A value is trying to be set on a copy of a slice from a DataFrame.\n",
      "Try using .loc[row_indexer,col_indexer] = value instead\n",
      "\n",
      "See the caveats in the documentation: https://pandas.pydata.org/pandas-docs/stable/user_guide/indexing.html#returning-a-view-versus-a-copy\n",
      "  tweets_sample['clean_text'] = tweets_sample['full_text'].map(cleaning)\n"
     ]
    },
    {
     "data": {
      "text/html": [
       "<div>\n",
       "<style scoped>\n",
       "    .dataframe tbody tr th:only-of-type {\n",
       "        vertical-align: middle;\n",
       "    }\n",
       "\n",
       "    .dataframe tbody tr th {\n",
       "        vertical-align: top;\n",
       "    }\n",
       "\n",
       "    .dataframe thead th {\n",
       "        text-align: right;\n",
       "    }\n",
       "</style>\n",
       "<table border=\"1\" class=\"dataframe\">\n",
       "  <thead>\n",
       "    <tr style=\"text-align: right;\">\n",
       "      <th></th>\n",
       "      <th>created_at</th>\n",
       "      <th>full_text</th>\n",
       "      <th>lockdown_widening</th>\n",
       "      <th>timedelta</th>\n",
       "      <th>clean_text</th>\n",
       "    </tr>\n",
       "  </thead>\n",
       "  <tbody>\n",
       "    <tr>\n",
       "      <th>15014</th>\n",
       "      <td>2020-11-18 21:57:13+00:00</td>\n",
       "      <td>Volgens #Predikant Uitslag uit #Urk is #Corona en de maatschappelijke gevolgen geen thema in de kerkdienst. Alleen het woord van God is aan de orde.\\nIn welke tijd leeft deze gemeenschap eigenlijk?</td>\n",
       "      <td>2020-11-19 00:00:01+00:00</td>\n",
       "      <td>-1 days +21:57:12</td>\n",
       "      <td>volgens  predikant uitslag uit  urk is  corona en de maatschappelijke gevolgen geen thema in de kerkdienst  alleen het woord van god is aan de orde  in welke tijd leeft deze gemeenschap eigenlijk</td>\n",
       "    </tr>\n",
       "    <tr>\n",
       "      <th>17712</th>\n",
       "      <td>2020-11-17 21:36:48+00:00</td>\n",
       "      <td>@hankd79 @bslagter @DiederikSmit Maatregelen zijn er om overbelasting van de zorg te voorkomen. IFR van COVID-19 is NIET 0,2 procent</td>\n",
       "      <td>2020-11-19 00:00:01+00:00</td>\n",
       "      <td>-2 days +21:36:47</td>\n",
       "      <td>maatregelen zijn er om overbelasting van de zorg te voorkomen  ifr van covid 19 is niet 0 2 procent</td>\n",
       "    </tr>\n",
       "    <tr>\n",
       "      <th>13334</th>\n",
       "      <td>2020-11-19 14:36:36+00:00</td>\n",
       "      <td>@edwinveldhuizen ⚡ Goirle ➚\\n\\n+12 sinds gisteren\\n+518 sinds 1 okt\\n+73 sinds 7 dagen (12 nov)\\nWat meer is dan de +61 in de 7d ervoor\\n\\n23.839 inwoners maakt dat\\n⚡ 306.2 / 100.000 / 7d\\n\\nDaarbij in de laatste 2 weken:\\n+2 opnames\\n\\n[#COVID19NL 19 Nov]</td>\n",
       "      <td>2020-11-19 00:00:01+00:00</td>\n",
       "      <td>0 days 14:36:35</td>\n",
       "      <td>goirle    12 sinds gisteren  518 sinds 1 okt  73 sinds 7 dagen  12 nov  wat meer is dan de  61 in de 7d ervoor 23 839 inwoners maakt dat  306 2   100 000   7d daarbij in de laatste 2 weken   2 opnames   covid19nl 19 nov</td>\n",
       "    </tr>\n",
       "    <tr>\n",
       "      <th>5861</th>\n",
       "      <td>2020-11-23 13:28:05+00:00</td>\n",
       "      <td>@edwinveldhuizen 🟣 Drechterland ➘\\n\\n+5 sinds gisteren\\n+363 sinds 1 okt\\n+36 sinds 7 dagen (16 nov)\\nWat minder is dan de +40 in de 7d ervoor\\n\\n19.801 inwoners maakt dat\\n🟣 181.8 / 100.000 / 7d\\n\\n[#COVID19NL 23 Nov]</td>\n",
       "      <td>2020-11-19 00:00:01+00:00</td>\n",
       "      <td>4 days 13:28:04</td>\n",
       "      <td>drechterland    5 sinds gisteren  363 sinds 1 okt  36 sinds 7 dagen  16 nov  wat minder is dan de  40 in de 7d ervoor 19 801 inwoners maakt dat  181 8   100 000   7d   covid19nl 23 nov</td>\n",
       "    </tr>\n",
       "    <tr>\n",
       "      <th>2277</th>\n",
       "      <td>2020-11-25 12:03:50+00:00</td>\n",
       "      <td>Helaas wordt dit opnieuw bevestigd: Het belang van handen wassen voor en na boodschappen onderstrepend! #COVID19 \\n@VTMNIEUWS @vrtnws @be_gezondheid @ZorgVlaanderen \\n\\nFood Products as Potential Carriers of SARS-CoV-2 https://t.co/h8iNaDrIp5</td>\n",
       "      <td>2020-11-19 00:00:01+00:00</td>\n",
       "      <td>6 days 12:03:49</td>\n",
       "      <td>helaas wordt dit opnieuw bevestigd  het belang van handen wassen voor en na boodschappen onderstrepend   covid19 food products as potential carriers of sars cov 2</td>\n",
       "    </tr>\n",
       "  </tbody>\n",
       "</table>\n",
       "</div>"
      ],
      "text/plain": [
       "                     created_at  \\\n",
       "15014 2020-11-18 21:57:13+00:00   \n",
       "17712 2020-11-17 21:36:48+00:00   \n",
       "13334 2020-11-19 14:36:36+00:00   \n",
       "5861  2020-11-23 13:28:05+00:00   \n",
       "2277  2020-11-25 12:03:50+00:00   \n",
       "\n",
       "                                                                                                                                                                                                                                                               full_text  \\\n",
       "15014                                                              Volgens #Predikant Uitslag uit #Urk is #Corona en de maatschappelijke gevolgen geen thema in de kerkdienst. Alleen het woord van God is aan de orde.\\nIn welke tijd leeft deze gemeenschap eigenlijk?   \n",
       "17712                                                                                                                               @hankd79 @bslagter @DiederikSmit Maatregelen zijn er om overbelasting van de zorg te voorkomen. IFR van COVID-19 is NIET 0,2 procent   \n",
       "13334  @edwinveldhuizen ⚡ Goirle ➚\\n\\n+12 sinds gisteren\\n+518 sinds 1 okt\\n+73 sinds 7 dagen (12 nov)\\nWat meer is dan de +61 in de 7d ervoor\\n\\n23.839 inwoners maakt dat\\n⚡ 306.2 / 100.000 / 7d\\n\\nDaarbij in de laatste 2 weken:\\n+2 opnames\\n\\n[#COVID19NL 19 Nov]   \n",
       "5861                                          @edwinveldhuizen 🟣 Drechterland ➘\\n\\n+5 sinds gisteren\\n+363 sinds 1 okt\\n+36 sinds 7 dagen (16 nov)\\nWat minder is dan de +40 in de 7d ervoor\\n\\n19.801 inwoners maakt dat\\n🟣 181.8 / 100.000 / 7d\\n\\n[#COVID19NL 23 Nov]   \n",
       "2277                  Helaas wordt dit opnieuw bevestigd: Het belang van handen wassen voor en na boodschappen onderstrepend! #COVID19 \\n@VTMNIEUWS @vrtnws @be_gezondheid @ZorgVlaanderen \\n\\nFood Products as Potential Carriers of SARS-CoV-2 https://t.co/h8iNaDrIp5   \n",
       "\n",
       "              lockdown_widening         timedelta  \\\n",
       "15014 2020-11-19 00:00:01+00:00 -1 days +21:57:12   \n",
       "17712 2020-11-19 00:00:01+00:00 -2 days +21:36:47   \n",
       "13334 2020-11-19 00:00:01+00:00   0 days 14:36:35   \n",
       "5861  2020-11-19 00:00:01+00:00   4 days 13:28:04   \n",
       "2277  2020-11-19 00:00:01+00:00   6 days 12:03:49   \n",
       "\n",
       "                                                                                                                                                                                                                           clean_text  \n",
       "15014                            volgens  predikant uitslag uit  urk is  corona en de maatschappelijke gevolgen geen thema in de kerkdienst  alleen het woord van god is aan de orde  in welke tijd leeft deze gemeenschap eigenlijk   \n",
       "17712                                                                                                                             maatregelen zijn er om overbelasting van de zorg te voorkomen  ifr van covid 19 is niet 0 2 procent  \n",
       "13334    goirle    12 sinds gisteren  518 sinds 1 okt  73 sinds 7 dagen  12 nov  wat meer is dan de  61 in de 7d ervoor 23 839 inwoners maakt dat  306 2   100 000   7d daarbij in de laatste 2 weken   2 opnames   covid19nl 19 nov   \n",
       "5861                                        drechterland    5 sinds gisteren  363 sinds 1 okt  36 sinds 7 dagen  16 nov  wat minder is dan de  40 in de 7d ervoor 19 801 inwoners maakt dat  181 8   100 000   7d   covid19nl 23 nov   \n",
       "2277                                                              helaas wordt dit opnieuw bevestigd  het belang van handen wassen voor en na boodschappen onderstrepend   covid19 food products as potential carriers of sars cov 2   "
      ]
     },
     "execution_count": 16,
     "metadata": {},
     "output_type": "execute_result"
    }
   ],
   "source": [
    "# Map the function to the text column\n",
    "tweets_sample['clean_text'] = tweets_sample['full_text'].map(cleaning)\n",
    "tweets_sample.head()"
   ]
  },
  {
   "cell_type": "code",
   "execution_count": 17,
   "metadata": {},
   "outputs": [
    {
     "name": "stderr",
     "output_type": "stream",
     "text": [
      "<ipython-input-17-3d5a7ce6eca3>:2: SettingWithCopyWarning: \n",
      "A value is trying to be set on a copy of a slice from a DataFrame.\n",
      "Try using .loc[row_indexer,col_indexer] = value instead\n",
      "\n",
      "See the caveats in the documentation: https://pandas.pydata.org/pandas-docs/stable/user_guide/indexing.html#returning-a-view-versus-a-copy\n",
      "  tweets_remaining['clean_text'] = tweets_remaining['full_text'].map(cleaning)\n"
     ]
    }
   ],
   "source": [
    "# Same for remaining dataset\n",
    "tweets_remaining['clean_text'] = tweets_remaining['full_text'].map(cleaning)\n",
    "tweets_remaining.head()\n",
    "\n",
    "# Save dataframe as csv file\n",
    "tweets_remaining.to_csv(\"data\\\\twitter_remaining_cleaned.csv\", sep=',', index=False)"
   ]
  },
  {
   "cell_type": "markdown",
   "metadata": {},
   "source": [
    "#### Determine the sentiment of the sample dataset using Textblob\n",
    "First create an extra column with the outcome of the Textblob sentiment analyzer. This results in a value that is a tuple (polarity, subjectivity):\n",
    "* Polarity is a float which lies in the range of [-1,1] where 1 means positive statement and -1 means a negative statement.\n",
    "* Subjectivity sentences generally refer to personal opinion, emotion or judgment whereas objective refers to factual information. Subjectivity is also a float which lies in the range of [0,1]."
   ]
  },
  {
   "cell_type": "code",
   "execution_count": 18,
   "metadata": {},
   "outputs": [
    {
     "data": {
      "text/plain": [
       "(-0.1, 0.4)"
      ]
     },
     "execution_count": 18,
     "metadata": {},
     "output_type": "execute_result"
    }
   ],
   "source": [
    "# Define a function that returns the sentiment of a string.\n",
    "def sentiment(text):\n",
    "    \"\"\"input: string variable (text) you want to know the sentiment of\n",
    "    output: sentiment in a tuple (polarity, subjectivity)\n",
    "    \"\"\"\n",
    "    blob = TextBlob(text, pos_tagger=PatternTagger(), analyzer=PatternAnalyzer())\n",
    "    sentiment = blob.sentiment\n",
    "    return sentiment\n",
    "\n",
    "# test with example sentence, outcome should be (-0.1, 0.4)\n",
    "text = \"De kat wil wel vis eten maar geen poot nat maken.\"\n",
    "sentiment(text)"
   ]
  },
  {
   "cell_type": "code",
   "execution_count": 19,
   "metadata": {},
   "outputs": [
    {
     "name": "stderr",
     "output_type": "stream",
     "text": [
      "<ipython-input-19-b763bacdb7b9>:2: SettingWithCopyWarning: \n",
      "A value is trying to be set on a copy of a slice from a DataFrame.\n",
      "Try using .loc[row_indexer,col_indexer] = value instead\n",
      "\n",
      "See the caveats in the documentation: https://pandas.pydata.org/pandas-docs/stable/user_guide/indexing.html#returning-a-view-versus-a-copy\n",
      "  tweets_sample['sentiment'] = tweets_sample['clean_text'].map(sentiment)\n"
     ]
    },
    {
     "data": {
      "text/html": [
       "<div>\n",
       "<style scoped>\n",
       "    .dataframe tbody tr th:only-of-type {\n",
       "        vertical-align: middle;\n",
       "    }\n",
       "\n",
       "    .dataframe tbody tr th {\n",
       "        vertical-align: top;\n",
       "    }\n",
       "\n",
       "    .dataframe thead th {\n",
       "        text-align: right;\n",
       "    }\n",
       "</style>\n",
       "<table border=\"1\" class=\"dataframe\">\n",
       "  <thead>\n",
       "    <tr style=\"text-align: right;\">\n",
       "      <th></th>\n",
       "      <th>created_at</th>\n",
       "      <th>full_text</th>\n",
       "      <th>lockdown_widening</th>\n",
       "      <th>timedelta</th>\n",
       "      <th>clean_text</th>\n",
       "      <th>sentiment</th>\n",
       "    </tr>\n",
       "  </thead>\n",
       "  <tbody>\n",
       "    <tr>\n",
       "      <th>15014</th>\n",
       "      <td>2020-11-18 21:57:13+00:00</td>\n",
       "      <td>Volgens #Predikant Uitslag uit #Urk is #Corona en de maatschappelijke gevolgen geen thema in de kerkdienst. Alleen het woord van God is aan de orde.\\nIn welke tijd leeft deze gemeenschap eigenlijk?</td>\n",
       "      <td>2020-11-19 00:00:01+00:00</td>\n",
       "      <td>-1 days +21:57:12</td>\n",
       "      <td>volgens  predikant uitslag uit  urk is  corona en de maatschappelijke gevolgen geen thema in de kerkdienst  alleen het woord van god is aan de orde  in welke tijd leeft deze gemeenschap eigenlijk</td>\n",
       "      <td>(0.0, 0.175)</td>\n",
       "    </tr>\n",
       "    <tr>\n",
       "      <th>17712</th>\n",
       "      <td>2020-11-17 21:36:48+00:00</td>\n",
       "      <td>@hankd79 @bslagter @DiederikSmit Maatregelen zijn er om overbelasting van de zorg te voorkomen. IFR van COVID-19 is NIET 0,2 procent</td>\n",
       "      <td>2020-11-19 00:00:01+00:00</td>\n",
       "      <td>-2 days +21:36:47</td>\n",
       "      <td>maatregelen zijn er om overbelasting van de zorg te voorkomen  ifr van covid 19 is niet 0 2 procent</td>\n",
       "      <td>(0.0, 0.0)</td>\n",
       "    </tr>\n",
       "    <tr>\n",
       "      <th>13334</th>\n",
       "      <td>2020-11-19 14:36:36+00:00</td>\n",
       "      <td>@edwinveldhuizen ⚡ Goirle ➚\\n\\n+12 sinds gisteren\\n+518 sinds 1 okt\\n+73 sinds 7 dagen (12 nov)\\nWat meer is dan de +61 in de 7d ervoor\\n\\n23.839 inwoners maakt dat\\n⚡ 306.2 / 100.000 / 7d\\n\\nDaarbij in de laatste 2 weken:\\n+2 opnames\\n\\n[#COVID19NL 19 Nov]</td>\n",
       "      <td>2020-11-19 00:00:01+00:00</td>\n",
       "      <td>0 days 14:36:35</td>\n",
       "      <td>goirle    12 sinds gisteren  518 sinds 1 okt  73 sinds 7 dagen  12 nov  wat meer is dan de  61 in de 7d ervoor 23 839 inwoners maakt dat  306 2   100 000   7d daarbij in de laatste 2 weken   2 opnames   covid19nl 19 nov</td>\n",
       "      <td>(-0.05, 0.2)</td>\n",
       "    </tr>\n",
       "    <tr>\n",
       "      <th>5861</th>\n",
       "      <td>2020-11-23 13:28:05+00:00</td>\n",
       "      <td>@edwinveldhuizen 🟣 Drechterland ➘\\n\\n+5 sinds gisteren\\n+363 sinds 1 okt\\n+36 sinds 7 dagen (16 nov)\\nWat minder is dan de +40 in de 7d ervoor\\n\\n19.801 inwoners maakt dat\\n🟣 181.8 / 100.000 / 7d\\n\\n[#COVID19NL 23 Nov]</td>\n",
       "      <td>2020-11-19 00:00:01+00:00</td>\n",
       "      <td>4 days 13:28:04</td>\n",
       "      <td>drechterland    5 sinds gisteren  363 sinds 1 okt  36 sinds 7 dagen  16 nov  wat minder is dan de  40 in de 7d ervoor 19 801 inwoners maakt dat  181 8   100 000   7d   covid19nl 23 nov</td>\n",
       "      <td>(0.0, 0.0)</td>\n",
       "    </tr>\n",
       "    <tr>\n",
       "      <th>2277</th>\n",
       "      <td>2020-11-25 12:03:50+00:00</td>\n",
       "      <td>Helaas wordt dit opnieuw bevestigd: Het belang van handen wassen voor en na boodschappen onderstrepend! #COVID19 \\n@VTMNIEUWS @vrtnws @be_gezondheid @ZorgVlaanderen \\n\\nFood Products as Potential Carriers of SARS-CoV-2 https://t.co/h8iNaDrIp5</td>\n",
       "      <td>2020-11-19 00:00:01+00:00</td>\n",
       "      <td>6 days 12:03:49</td>\n",
       "      <td>helaas wordt dit opnieuw bevestigd  het belang van handen wassen voor en na boodschappen onderstrepend   covid19 food products as potential carriers of sars cov 2</td>\n",
       "      <td>(0.0, 0.0)</td>\n",
       "    </tr>\n",
       "  </tbody>\n",
       "</table>\n",
       "</div>"
      ],
      "text/plain": [
       "                     created_at  \\\n",
       "15014 2020-11-18 21:57:13+00:00   \n",
       "17712 2020-11-17 21:36:48+00:00   \n",
       "13334 2020-11-19 14:36:36+00:00   \n",
       "5861  2020-11-23 13:28:05+00:00   \n",
       "2277  2020-11-25 12:03:50+00:00   \n",
       "\n",
       "                                                                                                                                                                                                                                                               full_text  \\\n",
       "15014                                                              Volgens #Predikant Uitslag uit #Urk is #Corona en de maatschappelijke gevolgen geen thema in de kerkdienst. Alleen het woord van God is aan de orde.\\nIn welke tijd leeft deze gemeenschap eigenlijk?   \n",
       "17712                                                                                                                               @hankd79 @bslagter @DiederikSmit Maatregelen zijn er om overbelasting van de zorg te voorkomen. IFR van COVID-19 is NIET 0,2 procent   \n",
       "13334  @edwinveldhuizen ⚡ Goirle ➚\\n\\n+12 sinds gisteren\\n+518 sinds 1 okt\\n+73 sinds 7 dagen (12 nov)\\nWat meer is dan de +61 in de 7d ervoor\\n\\n23.839 inwoners maakt dat\\n⚡ 306.2 / 100.000 / 7d\\n\\nDaarbij in de laatste 2 weken:\\n+2 opnames\\n\\n[#COVID19NL 19 Nov]   \n",
       "5861                                          @edwinveldhuizen 🟣 Drechterland ➘\\n\\n+5 sinds gisteren\\n+363 sinds 1 okt\\n+36 sinds 7 dagen (16 nov)\\nWat minder is dan de +40 in de 7d ervoor\\n\\n19.801 inwoners maakt dat\\n🟣 181.8 / 100.000 / 7d\\n\\n[#COVID19NL 23 Nov]   \n",
       "2277                  Helaas wordt dit opnieuw bevestigd: Het belang van handen wassen voor en na boodschappen onderstrepend! #COVID19 \\n@VTMNIEUWS @vrtnws @be_gezondheid @ZorgVlaanderen \\n\\nFood Products as Potential Carriers of SARS-CoV-2 https://t.co/h8iNaDrIp5   \n",
       "\n",
       "              lockdown_widening         timedelta  \\\n",
       "15014 2020-11-19 00:00:01+00:00 -1 days +21:57:12   \n",
       "17712 2020-11-19 00:00:01+00:00 -2 days +21:36:47   \n",
       "13334 2020-11-19 00:00:01+00:00   0 days 14:36:35   \n",
       "5861  2020-11-19 00:00:01+00:00   4 days 13:28:04   \n",
       "2277  2020-11-19 00:00:01+00:00   6 days 12:03:49   \n",
       "\n",
       "                                                                                                                                                                                                                           clean_text  \\\n",
       "15014                            volgens  predikant uitslag uit  urk is  corona en de maatschappelijke gevolgen geen thema in de kerkdienst  alleen het woord van god is aan de orde  in welke tijd leeft deze gemeenschap eigenlijk    \n",
       "17712                                                                                                                             maatregelen zijn er om overbelasting van de zorg te voorkomen  ifr van covid 19 is niet 0 2 procent   \n",
       "13334    goirle    12 sinds gisteren  518 sinds 1 okt  73 sinds 7 dagen  12 nov  wat meer is dan de  61 in de 7d ervoor 23 839 inwoners maakt dat  306 2   100 000   7d daarbij in de laatste 2 weken   2 opnames   covid19nl 19 nov    \n",
       "5861                                        drechterland    5 sinds gisteren  363 sinds 1 okt  36 sinds 7 dagen  16 nov  wat minder is dan de  40 in de 7d ervoor 19 801 inwoners maakt dat  181 8   100 000   7d   covid19nl 23 nov    \n",
       "2277                                                              helaas wordt dit opnieuw bevestigd  het belang van handen wassen voor en na boodschappen onderstrepend   covid19 food products as potential carriers of sars cov 2    \n",
       "\n",
       "          sentiment  \n",
       "15014  (0.0, 0.175)  \n",
       "17712    (0.0, 0.0)  \n",
       "13334  (-0.05, 0.2)  \n",
       "5861     (0.0, 0.0)  \n",
       "2277     (0.0, 0.0)  "
      ]
     },
     "execution_count": 19,
     "metadata": {},
     "output_type": "execute_result"
    }
   ],
   "source": [
    "# Map the function to the text column\n",
    "tweets_sample['sentiment'] = tweets_sample['clean_text'].map(sentiment)\n",
    "tweets_sample.head()"
   ]
  },
  {
   "cell_type": "code",
   "execution_count": 20,
   "metadata": {},
   "outputs": [
    {
     "name": "stderr",
     "output_type": "stream",
     "text": [
      "C:\\Users\\RianneRendering\\anaconda3\\lib\\site-packages\\pandas\\core\\frame.py:3065: SettingWithCopyWarning: \n",
      "A value is trying to be set on a copy of a slice from a DataFrame.\n",
      "Try using .loc[row_indexer,col_indexer] = value instead\n",
      "\n",
      "See the caveats in the documentation: https://pandas.pydata.org/pandas-docs/stable/user_guide/indexing.html#returning-a-view-versus-a-copy\n",
      "  self[k1] = value[k2]\n"
     ]
    },
    {
     "data": {
      "text/html": [
       "<div>\n",
       "<style scoped>\n",
       "    .dataframe tbody tr th:only-of-type {\n",
       "        vertical-align: middle;\n",
       "    }\n",
       "\n",
       "    .dataframe tbody tr th {\n",
       "        vertical-align: top;\n",
       "    }\n",
       "\n",
       "    .dataframe thead th {\n",
       "        text-align: right;\n",
       "    }\n",
       "</style>\n",
       "<table border=\"1\" class=\"dataframe\">\n",
       "  <thead>\n",
       "    <tr style=\"text-align: right;\">\n",
       "      <th></th>\n",
       "      <th>created_at</th>\n",
       "      <th>full_text</th>\n",
       "      <th>lockdown_widening</th>\n",
       "      <th>timedelta</th>\n",
       "      <th>clean_text</th>\n",
       "      <th>sentiment</th>\n",
       "      <th>polarity</th>\n",
       "      <th>subjectivity</th>\n",
       "    </tr>\n",
       "  </thead>\n",
       "  <tbody>\n",
       "    <tr>\n",
       "      <th>15014</th>\n",
       "      <td>2020-11-18 21:57:13+00:00</td>\n",
       "      <td>Volgens #Predikant Uitslag uit #Urk is #Corona en de maatschappelijke gevolgen geen thema in de kerkdienst. Alleen het woord van God is aan de orde.\\nIn welke tijd leeft deze gemeenschap eigenlijk?</td>\n",
       "      <td>2020-11-19 00:00:01+00:00</td>\n",
       "      <td>-1 days +21:57:12</td>\n",
       "      <td>volgens  predikant uitslag uit  urk is  corona en de maatschappelijke gevolgen geen thema in de kerkdienst  alleen het woord van god is aan de orde  in welke tijd leeft deze gemeenschap eigenlijk</td>\n",
       "      <td>(0.0, 0.175)</td>\n",
       "      <td>0.00</td>\n",
       "      <td>0.175</td>\n",
       "    </tr>\n",
       "    <tr>\n",
       "      <th>17712</th>\n",
       "      <td>2020-11-17 21:36:48+00:00</td>\n",
       "      <td>@hankd79 @bslagter @DiederikSmit Maatregelen zijn er om overbelasting van de zorg te voorkomen. IFR van COVID-19 is NIET 0,2 procent</td>\n",
       "      <td>2020-11-19 00:00:01+00:00</td>\n",
       "      <td>-2 days +21:36:47</td>\n",
       "      <td>maatregelen zijn er om overbelasting van de zorg te voorkomen  ifr van covid 19 is niet 0 2 procent</td>\n",
       "      <td>(0.0, 0.0)</td>\n",
       "      <td>0.00</td>\n",
       "      <td>0.000</td>\n",
       "    </tr>\n",
       "    <tr>\n",
       "      <th>13334</th>\n",
       "      <td>2020-11-19 14:36:36+00:00</td>\n",
       "      <td>@edwinveldhuizen ⚡ Goirle ➚\\n\\n+12 sinds gisteren\\n+518 sinds 1 okt\\n+73 sinds 7 dagen (12 nov)\\nWat meer is dan de +61 in de 7d ervoor\\n\\n23.839 inwoners maakt dat\\n⚡ 306.2 / 100.000 / 7d\\n\\nDaarbij in de laatste 2 weken:\\n+2 opnames\\n\\n[#COVID19NL 19 Nov]</td>\n",
       "      <td>2020-11-19 00:00:01+00:00</td>\n",
       "      <td>0 days 14:36:35</td>\n",
       "      <td>goirle    12 sinds gisteren  518 sinds 1 okt  73 sinds 7 dagen  12 nov  wat meer is dan de  61 in de 7d ervoor 23 839 inwoners maakt dat  306 2   100 000   7d daarbij in de laatste 2 weken   2 opnames   covid19nl 19 nov</td>\n",
       "      <td>(-0.05, 0.2)</td>\n",
       "      <td>-0.05</td>\n",
       "      <td>0.200</td>\n",
       "    </tr>\n",
       "    <tr>\n",
       "      <th>5861</th>\n",
       "      <td>2020-11-23 13:28:05+00:00</td>\n",
       "      <td>@edwinveldhuizen 🟣 Drechterland ➘\\n\\n+5 sinds gisteren\\n+363 sinds 1 okt\\n+36 sinds 7 dagen (16 nov)\\nWat minder is dan de +40 in de 7d ervoor\\n\\n19.801 inwoners maakt dat\\n🟣 181.8 / 100.000 / 7d\\n\\n[#COVID19NL 23 Nov]</td>\n",
       "      <td>2020-11-19 00:00:01+00:00</td>\n",
       "      <td>4 days 13:28:04</td>\n",
       "      <td>drechterland    5 sinds gisteren  363 sinds 1 okt  36 sinds 7 dagen  16 nov  wat minder is dan de  40 in de 7d ervoor 19 801 inwoners maakt dat  181 8   100 000   7d   covid19nl 23 nov</td>\n",
       "      <td>(0.0, 0.0)</td>\n",
       "      <td>0.00</td>\n",
       "      <td>0.000</td>\n",
       "    </tr>\n",
       "    <tr>\n",
       "      <th>2277</th>\n",
       "      <td>2020-11-25 12:03:50+00:00</td>\n",
       "      <td>Helaas wordt dit opnieuw bevestigd: Het belang van handen wassen voor en na boodschappen onderstrepend! #COVID19 \\n@VTMNIEUWS @vrtnws @be_gezondheid @ZorgVlaanderen \\n\\nFood Products as Potential Carriers of SARS-CoV-2 https://t.co/h8iNaDrIp5</td>\n",
       "      <td>2020-11-19 00:00:01+00:00</td>\n",
       "      <td>6 days 12:03:49</td>\n",
       "      <td>helaas wordt dit opnieuw bevestigd  het belang van handen wassen voor en na boodschappen onderstrepend   covid19 food products as potential carriers of sars cov 2</td>\n",
       "      <td>(0.0, 0.0)</td>\n",
       "      <td>0.00</td>\n",
       "      <td>0.000</td>\n",
       "    </tr>\n",
       "  </tbody>\n",
       "</table>\n",
       "</div>"
      ],
      "text/plain": [
       "                     created_at  \\\n",
       "15014 2020-11-18 21:57:13+00:00   \n",
       "17712 2020-11-17 21:36:48+00:00   \n",
       "13334 2020-11-19 14:36:36+00:00   \n",
       "5861  2020-11-23 13:28:05+00:00   \n",
       "2277  2020-11-25 12:03:50+00:00   \n",
       "\n",
       "                                                                                                                                                                                                                                                               full_text  \\\n",
       "15014                                                              Volgens #Predikant Uitslag uit #Urk is #Corona en de maatschappelijke gevolgen geen thema in de kerkdienst. Alleen het woord van God is aan de orde.\\nIn welke tijd leeft deze gemeenschap eigenlijk?   \n",
       "17712                                                                                                                               @hankd79 @bslagter @DiederikSmit Maatregelen zijn er om overbelasting van de zorg te voorkomen. IFR van COVID-19 is NIET 0,2 procent   \n",
       "13334  @edwinveldhuizen ⚡ Goirle ➚\\n\\n+12 sinds gisteren\\n+518 sinds 1 okt\\n+73 sinds 7 dagen (12 nov)\\nWat meer is dan de +61 in de 7d ervoor\\n\\n23.839 inwoners maakt dat\\n⚡ 306.2 / 100.000 / 7d\\n\\nDaarbij in de laatste 2 weken:\\n+2 opnames\\n\\n[#COVID19NL 19 Nov]   \n",
       "5861                                          @edwinveldhuizen 🟣 Drechterland ➘\\n\\n+5 sinds gisteren\\n+363 sinds 1 okt\\n+36 sinds 7 dagen (16 nov)\\nWat minder is dan de +40 in de 7d ervoor\\n\\n19.801 inwoners maakt dat\\n🟣 181.8 / 100.000 / 7d\\n\\n[#COVID19NL 23 Nov]   \n",
       "2277                  Helaas wordt dit opnieuw bevestigd: Het belang van handen wassen voor en na boodschappen onderstrepend! #COVID19 \\n@VTMNIEUWS @vrtnws @be_gezondheid @ZorgVlaanderen \\n\\nFood Products as Potential Carriers of SARS-CoV-2 https://t.co/h8iNaDrIp5   \n",
       "\n",
       "              lockdown_widening         timedelta  \\\n",
       "15014 2020-11-19 00:00:01+00:00 -1 days +21:57:12   \n",
       "17712 2020-11-19 00:00:01+00:00 -2 days +21:36:47   \n",
       "13334 2020-11-19 00:00:01+00:00   0 days 14:36:35   \n",
       "5861  2020-11-19 00:00:01+00:00   4 days 13:28:04   \n",
       "2277  2020-11-19 00:00:01+00:00   6 days 12:03:49   \n",
       "\n",
       "                                                                                                                                                                                                                           clean_text  \\\n",
       "15014                            volgens  predikant uitslag uit  urk is  corona en de maatschappelijke gevolgen geen thema in de kerkdienst  alleen het woord van god is aan de orde  in welke tijd leeft deze gemeenschap eigenlijk    \n",
       "17712                                                                                                                             maatregelen zijn er om overbelasting van de zorg te voorkomen  ifr van covid 19 is niet 0 2 procent   \n",
       "13334    goirle    12 sinds gisteren  518 sinds 1 okt  73 sinds 7 dagen  12 nov  wat meer is dan de  61 in de 7d ervoor 23 839 inwoners maakt dat  306 2   100 000   7d daarbij in de laatste 2 weken   2 opnames   covid19nl 19 nov    \n",
       "5861                                        drechterland    5 sinds gisteren  363 sinds 1 okt  36 sinds 7 dagen  16 nov  wat minder is dan de  40 in de 7d ervoor 19 801 inwoners maakt dat  181 8   100 000   7d   covid19nl 23 nov    \n",
       "2277                                                              helaas wordt dit opnieuw bevestigd  het belang van handen wassen voor en na boodschappen onderstrepend   covid19 food products as potential carriers of sars cov 2    \n",
       "\n",
       "          sentiment  polarity  subjectivity  \n",
       "15014  (0.0, 0.175)      0.00         0.175  \n",
       "17712    (0.0, 0.0)      0.00         0.000  \n",
       "13334  (-0.05, 0.2)     -0.05         0.200  \n",
       "5861     (0.0, 0.0)      0.00         0.000  \n",
       "2277     (0.0, 0.0)      0.00         0.000  "
      ]
     },
     "execution_count": 20,
     "metadata": {},
     "output_type": "execute_result"
    }
   ],
   "source": [
    "# Split the sentiment column into two columns: polarity and subjectivity\n",
    "tweets_sample['sentiment'].tolist()                                                                                                                                                        \n",
    "pd.DataFrame(tweets_sample['sentiment'].tolist(), index=tweets_sample.index)                                                                                                                                          \n",
    "tweets_sample[['polarity', 'subjectivity']] = pd.DataFrame(tweets_sample['sentiment'].tolist(), index=tweets_sample.index)  \n",
    "tweets_sample.head()"
   ]
  },
  {
   "cell_type": "markdown",
   "metadata": {},
   "source": [
    "#### Based on TextBlob, categorize sentiment as positive, negative or neutral"
   ]
  },
  {
   "cell_type": "code",
   "execution_count": 21,
   "metadata": {},
   "outputs": [
    {
     "data": {
      "text/plain": [
       "'negative'"
      ]
     },
     "execution_count": 21,
     "metadata": {},
     "output_type": "execute_result"
    }
   ],
   "source": [
    "# Define a function to determine the sentiment category\n",
    "def sentiment_cat(polarity):\n",
    "    \"\"\"input: float, based on the output of TextBlob polarity measure, you want to categorize\n",
    "    output: sentiment category, either positive, negative or neutral\n",
    "    \"\"\"\n",
    "    polarity = float(polarity)\n",
    "    if polarity > 0:\n",
    "        return 'positive'\n",
    "    \n",
    "    if polarity < 0:\n",
    "        return 'negative'\n",
    "    \n",
    "    if polarity == 0:\n",
    "        return 'neutral'\n",
    "    \n",
    "    else:\n",
    "        return 'error'\n",
    "    \n",
    "# test with example (-0.1 from previous example) should return negative\n",
    "polarity = \"-0.1\"\n",
    "sentiment_cat(polarity)"
   ]
  },
  {
   "cell_type": "code",
   "execution_count": 22,
   "metadata": {
    "scrolled": true
   },
   "outputs": [
    {
     "name": "stderr",
     "output_type": "stream",
     "text": [
      "<ipython-input-22-e4e83591df82>:2: SettingWithCopyWarning: \n",
      "A value is trying to be set on a copy of a slice from a DataFrame.\n",
      "Try using .loc[row_indexer,col_indexer] = value instead\n",
      "\n",
      "See the caveats in the documentation: https://pandas.pydata.org/pandas-docs/stable/user_guide/indexing.html#returning-a-view-versus-a-copy\n",
      "  tweets_sample['sentiment_cat'] = tweets_sample['polarity'].map(sentiment_cat)\n"
     ]
    },
    {
     "data": {
      "text/html": [
       "<div>\n",
       "<style scoped>\n",
       "    .dataframe tbody tr th:only-of-type {\n",
       "        vertical-align: middle;\n",
       "    }\n",
       "\n",
       "    .dataframe tbody tr th {\n",
       "        vertical-align: top;\n",
       "    }\n",
       "\n",
       "    .dataframe thead th {\n",
       "        text-align: right;\n",
       "    }\n",
       "</style>\n",
       "<table border=\"1\" class=\"dataframe\">\n",
       "  <thead>\n",
       "    <tr style=\"text-align: right;\">\n",
       "      <th></th>\n",
       "      <th>created_at</th>\n",
       "      <th>full_text</th>\n",
       "      <th>lockdown_widening</th>\n",
       "      <th>timedelta</th>\n",
       "      <th>clean_text</th>\n",
       "      <th>sentiment</th>\n",
       "      <th>polarity</th>\n",
       "      <th>subjectivity</th>\n",
       "      <th>sentiment_cat</th>\n",
       "    </tr>\n",
       "  </thead>\n",
       "  <tbody>\n",
       "    <tr>\n",
       "      <th>15014</th>\n",
       "      <td>2020-11-18 21:57:13+00:00</td>\n",
       "      <td>Volgens #Predikant Uitslag uit #Urk is #Corona en de maatschappelijke gevolgen geen thema in de kerkdienst. Alleen het woord van God is aan de orde.\\nIn welke tijd leeft deze gemeenschap eigenlijk?</td>\n",
       "      <td>2020-11-19 00:00:01+00:00</td>\n",
       "      <td>-1 days +21:57:12</td>\n",
       "      <td>volgens  predikant uitslag uit  urk is  corona en de maatschappelijke gevolgen geen thema in de kerkdienst  alleen het woord van god is aan de orde  in welke tijd leeft deze gemeenschap eigenlijk</td>\n",
       "      <td>(0.0, 0.175)</td>\n",
       "      <td>0.00</td>\n",
       "      <td>0.175</td>\n",
       "      <td>neutral</td>\n",
       "    </tr>\n",
       "    <tr>\n",
       "      <th>17712</th>\n",
       "      <td>2020-11-17 21:36:48+00:00</td>\n",
       "      <td>@hankd79 @bslagter @DiederikSmit Maatregelen zijn er om overbelasting van de zorg te voorkomen. IFR van COVID-19 is NIET 0,2 procent</td>\n",
       "      <td>2020-11-19 00:00:01+00:00</td>\n",
       "      <td>-2 days +21:36:47</td>\n",
       "      <td>maatregelen zijn er om overbelasting van de zorg te voorkomen  ifr van covid 19 is niet 0 2 procent</td>\n",
       "      <td>(0.0, 0.0)</td>\n",
       "      <td>0.00</td>\n",
       "      <td>0.000</td>\n",
       "      <td>neutral</td>\n",
       "    </tr>\n",
       "    <tr>\n",
       "      <th>13334</th>\n",
       "      <td>2020-11-19 14:36:36+00:00</td>\n",
       "      <td>@edwinveldhuizen ⚡ Goirle ➚\\n\\n+12 sinds gisteren\\n+518 sinds 1 okt\\n+73 sinds 7 dagen (12 nov)\\nWat meer is dan de +61 in de 7d ervoor\\n\\n23.839 inwoners maakt dat\\n⚡ 306.2 / 100.000 / 7d\\n\\nDaarbij in de laatste 2 weken:\\n+2 opnames\\n\\n[#COVID19NL 19 Nov]</td>\n",
       "      <td>2020-11-19 00:00:01+00:00</td>\n",
       "      <td>0 days 14:36:35</td>\n",
       "      <td>goirle    12 sinds gisteren  518 sinds 1 okt  73 sinds 7 dagen  12 nov  wat meer is dan de  61 in de 7d ervoor 23 839 inwoners maakt dat  306 2   100 000   7d daarbij in de laatste 2 weken   2 opnames   covid19nl 19 nov</td>\n",
       "      <td>(-0.05, 0.2)</td>\n",
       "      <td>-0.05</td>\n",
       "      <td>0.200</td>\n",
       "      <td>negative</td>\n",
       "    </tr>\n",
       "    <tr>\n",
       "      <th>5861</th>\n",
       "      <td>2020-11-23 13:28:05+00:00</td>\n",
       "      <td>@edwinveldhuizen 🟣 Drechterland ➘\\n\\n+5 sinds gisteren\\n+363 sinds 1 okt\\n+36 sinds 7 dagen (16 nov)\\nWat minder is dan de +40 in de 7d ervoor\\n\\n19.801 inwoners maakt dat\\n🟣 181.8 / 100.000 / 7d\\n\\n[#COVID19NL 23 Nov]</td>\n",
       "      <td>2020-11-19 00:00:01+00:00</td>\n",
       "      <td>4 days 13:28:04</td>\n",
       "      <td>drechterland    5 sinds gisteren  363 sinds 1 okt  36 sinds 7 dagen  16 nov  wat minder is dan de  40 in de 7d ervoor 19 801 inwoners maakt dat  181 8   100 000   7d   covid19nl 23 nov</td>\n",
       "      <td>(0.0, 0.0)</td>\n",
       "      <td>0.00</td>\n",
       "      <td>0.000</td>\n",
       "      <td>neutral</td>\n",
       "    </tr>\n",
       "    <tr>\n",
       "      <th>2277</th>\n",
       "      <td>2020-11-25 12:03:50+00:00</td>\n",
       "      <td>Helaas wordt dit opnieuw bevestigd: Het belang van handen wassen voor en na boodschappen onderstrepend! #COVID19 \\n@VTMNIEUWS @vrtnws @be_gezondheid @ZorgVlaanderen \\n\\nFood Products as Potential Carriers of SARS-CoV-2 https://t.co/h8iNaDrIp5</td>\n",
       "      <td>2020-11-19 00:00:01+00:00</td>\n",
       "      <td>6 days 12:03:49</td>\n",
       "      <td>helaas wordt dit opnieuw bevestigd  het belang van handen wassen voor en na boodschappen onderstrepend   covid19 food products as potential carriers of sars cov 2</td>\n",
       "      <td>(0.0, 0.0)</td>\n",
       "      <td>0.00</td>\n",
       "      <td>0.000</td>\n",
       "      <td>neutral</td>\n",
       "    </tr>\n",
       "  </tbody>\n",
       "</table>\n",
       "</div>"
      ],
      "text/plain": [
       "                     created_at  \\\n",
       "15014 2020-11-18 21:57:13+00:00   \n",
       "17712 2020-11-17 21:36:48+00:00   \n",
       "13334 2020-11-19 14:36:36+00:00   \n",
       "5861  2020-11-23 13:28:05+00:00   \n",
       "2277  2020-11-25 12:03:50+00:00   \n",
       "\n",
       "                                                                                                                                                                                                                                                               full_text  \\\n",
       "15014                                                              Volgens #Predikant Uitslag uit #Urk is #Corona en de maatschappelijke gevolgen geen thema in de kerkdienst. Alleen het woord van God is aan de orde.\\nIn welke tijd leeft deze gemeenschap eigenlijk?   \n",
       "17712                                                                                                                               @hankd79 @bslagter @DiederikSmit Maatregelen zijn er om overbelasting van de zorg te voorkomen. IFR van COVID-19 is NIET 0,2 procent   \n",
       "13334  @edwinveldhuizen ⚡ Goirle ➚\\n\\n+12 sinds gisteren\\n+518 sinds 1 okt\\n+73 sinds 7 dagen (12 nov)\\nWat meer is dan de +61 in de 7d ervoor\\n\\n23.839 inwoners maakt dat\\n⚡ 306.2 / 100.000 / 7d\\n\\nDaarbij in de laatste 2 weken:\\n+2 opnames\\n\\n[#COVID19NL 19 Nov]   \n",
       "5861                                          @edwinveldhuizen 🟣 Drechterland ➘\\n\\n+5 sinds gisteren\\n+363 sinds 1 okt\\n+36 sinds 7 dagen (16 nov)\\nWat minder is dan de +40 in de 7d ervoor\\n\\n19.801 inwoners maakt dat\\n🟣 181.8 / 100.000 / 7d\\n\\n[#COVID19NL 23 Nov]   \n",
       "2277                  Helaas wordt dit opnieuw bevestigd: Het belang van handen wassen voor en na boodschappen onderstrepend! #COVID19 \\n@VTMNIEUWS @vrtnws @be_gezondheid @ZorgVlaanderen \\n\\nFood Products as Potential Carriers of SARS-CoV-2 https://t.co/h8iNaDrIp5   \n",
       "\n",
       "              lockdown_widening         timedelta  \\\n",
       "15014 2020-11-19 00:00:01+00:00 -1 days +21:57:12   \n",
       "17712 2020-11-19 00:00:01+00:00 -2 days +21:36:47   \n",
       "13334 2020-11-19 00:00:01+00:00   0 days 14:36:35   \n",
       "5861  2020-11-19 00:00:01+00:00   4 days 13:28:04   \n",
       "2277  2020-11-19 00:00:01+00:00   6 days 12:03:49   \n",
       "\n",
       "                                                                                                                                                                                                                           clean_text  \\\n",
       "15014                            volgens  predikant uitslag uit  urk is  corona en de maatschappelijke gevolgen geen thema in de kerkdienst  alleen het woord van god is aan de orde  in welke tijd leeft deze gemeenschap eigenlijk    \n",
       "17712                                                                                                                             maatregelen zijn er om overbelasting van de zorg te voorkomen  ifr van covid 19 is niet 0 2 procent   \n",
       "13334    goirle    12 sinds gisteren  518 sinds 1 okt  73 sinds 7 dagen  12 nov  wat meer is dan de  61 in de 7d ervoor 23 839 inwoners maakt dat  306 2   100 000   7d daarbij in de laatste 2 weken   2 opnames   covid19nl 19 nov    \n",
       "5861                                        drechterland    5 sinds gisteren  363 sinds 1 okt  36 sinds 7 dagen  16 nov  wat minder is dan de  40 in de 7d ervoor 19 801 inwoners maakt dat  181 8   100 000   7d   covid19nl 23 nov    \n",
       "2277                                                              helaas wordt dit opnieuw bevestigd  het belang van handen wassen voor en na boodschappen onderstrepend   covid19 food products as potential carriers of sars cov 2    \n",
       "\n",
       "          sentiment  polarity  subjectivity sentiment_cat  \n",
       "15014  (0.0, 0.175)      0.00         0.175       neutral  \n",
       "17712    (0.0, 0.0)      0.00         0.000       neutral  \n",
       "13334  (-0.05, 0.2)     -0.05         0.200      negative  \n",
       "5861     (0.0, 0.0)      0.00         0.000       neutral  \n",
       "2277     (0.0, 0.0)      0.00         0.000       neutral  "
      ]
     },
     "execution_count": 22,
     "metadata": {},
     "output_type": "execute_result"
    }
   ],
   "source": [
    "# Map the function to the polarity column\n",
    "tweets_sample['sentiment_cat'] = tweets_sample['polarity'].map(sentiment_cat)\n",
    "tweets_sample.head()"
   ]
  },
  {
   "cell_type": "markdown",
   "metadata": {},
   "source": [
    "#### Save output as Excel file. This output will be manually judged outside Python"
   ]
  },
  {
   "cell_type": "code",
   "execution_count": 23,
   "metadata": {},
   "outputs": [],
   "source": [
    "# Remove unnecessary columns. Remaining columns: text and sentiment_cat\n",
    "tweets_sample_cat = tweets_sample[['clean_text', 'sentiment_cat']]"
   ]
  },
  {
   "cell_type": "code",
   "execution_count": 24,
   "metadata": {},
   "outputs": [],
   "source": [
    "# Save dataframe as excel file\n",
    "tweets_sample_cat.to_csv(\"data\\\\twitter_sample_sentiment_cleaned.csv\", sep=',', index=False)"
   ]
  },
  {
   "cell_type": "markdown",
   "metadata": {},
   "source": [
    "# To do:\n",
    "2. Stemming/Lemmatizing"
   ]
  },
  {
   "cell_type": "code",
   "execution_count": null,
   "metadata": {},
   "outputs": [],
   "source": []
  }
 ],
 "metadata": {
  "kernelspec": {
   "display_name": "Python 3",
   "language": "python",
   "name": "python3"
  },
  "language_info": {
   "codemirror_mode": {
    "name": "ipython",
    "version": 3
   },
   "file_extension": ".py",
   "mimetype": "text/x-python",
   "name": "python",
   "nbconvert_exporter": "python",
   "pygments_lexer": "ipython3",
   "version": "3.8.5"
  }
 },
 "nbformat": 4,
 "nbformat_minor": 4
}
