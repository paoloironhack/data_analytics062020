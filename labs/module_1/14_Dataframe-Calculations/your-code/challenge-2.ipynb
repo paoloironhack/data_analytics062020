{
 "cells": [
  {
   "cell_type": "markdown",
   "metadata": {
    "Collapsed": "false"
   },
   "source": [
    "# Challenge 2\n",
    "\n",
    "In this challenge we will continue working with the `Pokemon` dataset. We will attempt solving a slightly more complex problem in which we will practice the iterative data analysis process you leaned in [this video](https://www.youtube.com/watch?v=xOomNicqbkk).\n",
    "\n",
    "The problem statement is as follows:\n",
    "\n",
    "**You are at a Pokemon black market planning to buy a Pokemon for battle. All Pokemon are sold at the same price and you can only afford to buy one. You cannot choose which specific Pokemon to buy. However, you can specify the type of the Pokemon - one type that exists in either `Type 1` or `Type 2`. Which type should you choose in order to maximize your chance of receiving a good Pokemon?**\n",
    "\n",
    "To remind you about the 3 steps of iterative data analysis, they are:\n",
    "\n",
    "1. Setting Expectations\n",
    "1. Collecting Information\n",
    "1. Reacting to Data / Revising Expectations\n",
    "\n",
    "Following the iterative process, we'll guide you in completing the challenge."
   ]
  },
  {
   "cell_type": "markdown",
   "metadata": {
    "Collapsed": "false"
   },
   "source": [
    "\n",
    "## Problem Solving Iteration 1\n",
    "\n",
    "In this iteration we'll analyze the problem and identify the breakthrough. The original question statement is kind of vague because we don't know what a *good pokemon* really means as represented in the data. We'll start by understanding the dataset and see if we can find some insights."
   ]
  },
  {
   "cell_type": "code",
   "execution_count": 1,
   "metadata": {
    "Collapsed": "false"
   },
   "outputs": [],
   "source": [
    "# Import libraries\n",
    "import numpy as np\n",
    "import pandas as pd"
   ]
  },
  {
   "cell_type": "code",
   "execution_count": 2,
   "metadata": {
    "Collapsed": "false"
   },
   "outputs": [],
   "source": [
    "pokemon = pd.read_csv('data/pokemon_updated.csv')"
   ]
  },
  {
   "cell_type": "markdown",
   "metadata": {
    "Collapsed": "false"
   },
   "source": [
    "From the data it seems whether a pokemon is good depends on its abilities as represented in the fields of `HP`, `Attack`, `Defense`, `Sp. Atk`, `Sp. Def`, `Speed`, and `Total`. We are not sure about `Generation` and `Legendary` because they are not necessarily the decisive factors of the pokemon abilities.\n",
    "\n",
    "But `HP`, `Attack`, `Defense`, `Sp. Atk`, `Sp. Def`, `Speed`, and `Total` are a lot of fields! If we look at them all at once it's very complicated. This isn't Mission Impossible but it's ideal that we tackle this kind of problem after we learn Machine Learning (which you will do in Module 3). For now, is there a way to consolidate the fields we need to look into?\n",
    "\n",
    "Fortunately there seems to be a way. It appears the `Total` field is computed based on the other 6 fields. But we need to prove our theory. If we can approve there is a formula to compute `Total` based on the other 6 abilities, we only need to look into `Total`.\n",
    "\n",
    "We have the following expectation now:\n",
    "\n",
    "#### The `Total` field is computed based on `HP`, `Attack`, `Defense`, `Sp. Atk`, `Sp. Def`, and `Speed`.\n",
    "\n",
    "We need to collect the following information:\n",
    "\n",
    "* **What is the formula to compute `Total`?**\n",
    "* **Does the formula work for all pokemon?**\n",
    "\n",
    "In the cell below, make a hypothesis on how `Total` is computed and test your hypothesis."
   ]
  },
  {
   "cell_type": "code",
   "execution_count": 3,
   "metadata": {
    "Collapsed": "false"
   },
   "outputs": [
    {
     "name": "stdout",
     "output_type": "stream",
     "text": [
      "<class 'pandas.core.series.Series'>\n",
      "{True}\n"
     ]
    }
   ],
   "source": [
    "#Total = Sum(HP + Attack + Defense + Sp. Atk + Sp. Def + Speed)\n",
    "\n",
    "result = pokemon[\"Total\"] == pokemon[[\"HP\",\"Attack\",\"Defense\",\"Sp. Atk\",\"Sp. Def\",\"Speed\"]].sum(axis=1)\n",
    "print(type(result))\n",
    "\n",
    "#check if panda series contains other values than True\n",
    "print(set(result))\n",
    "\n",
    "#No false, so for formula works for all pokemon"
   ]
  },
  {
   "cell_type": "markdown",
   "metadata": {
    "Collapsed": "false"
   },
   "source": [
    "## Problem Solving Iteration 2\n",
    "\n",
    "Now that we have consolidated the abilities fields, we can update the problem statement. The new problem statement is:\n",
    "\n",
    "### Which pokemon type is most likely to have the highest `Total` value?\n",
    "\n",
    "In the updated problem statement, we assume there is a certain relationship between the `Total` and the pokemon type. But we have two *type* fields (`Type 1` and `Type 2`) that have string values. In data analysis, string fields have to be transformed to numerical format in order to be analyzed. \n",
    "\n",
    "In addition, keep in mind that `Type 1` always has a value but `Type 2` is sometimes empty (having the `NaN` value). Also, the pokemon type we choose may be either in `Type 1` or `Type 2`.\n",
    "\n",
    "Now our expectation is:\n",
    "\n",
    "#### `Type 1` and `Type 2` string variables need to be converted to numerical variables in order to identify the relationship between `Total` and the pokemon type.\n",
    "\n",
    "The information we need to collect is:\n",
    "\n",
    "#### How to convert two string variables to numerical?\n",
    "\n",
    "Let's address the first question first. You can use a method called **One Hot Encoding** which is frequently used in machine learning to encode categorical string variables to numerical. The idea is to gather all the possible string values in a categorical field and create a numerical field for each unique string value. Each of those numerical fields uses `1` and `0` to indicate whether the data record has the corresponding categorical value. A detailed explanation of One Hot Encoding can be found in [this article](https://hackernoon.com/what-is-one-hot-encoding-why-and-when-do-you-have-to-use-it-e3c6186d008f). You will formally learn it in Module 3.\n",
    "\n",
    "For instance, if a pokemon has `Type 1` as `Poison` and `Type 2` as `Fire`, then its `Poison` and `Fire` fields are `1` whereas all other fields are `0`. If a pokemon has `Type 1` as `Water` and `Type 2` as `NaN`, then its `Water` field is `1` whereas all other fields are `0`.\n",
    "\n",
    "#### In the next cell, use One Hot Encoding to encode `Type 1` and `Type 2`. Use the pokemon type values as the names of the numerical fields you create.\n",
    "\n",
    "The new numerical variables you create should look like below:\n",
    "\n",
    "[One Hot Encoding](https://drive.google.com/file/d/1McE3eNAyUxBXHfEvyTTz-ZrMDB7-U3_z/view?usp=sharing)"
   ]
  },
  {
   "cell_type": "code",
   "execution_count": 4,
   "metadata": {
    "Collapsed": "false"
   },
   "outputs": [
    {
     "name": "stdout",
     "output_type": "stream",
     "text": [
      "   Bug  Dark  Dragon  Electric  Fairy  Fighting  Fire  Flying  Ghost  Grass  \\\n",
      "0    0     0       0         0      0         0     0       0      0      1   \n",
      "1    0     0       0         0      0         0     0       0      0      1   \n",
      "2    0     0       0         0      0         0     0       0      0      1   \n",
      "3    0     0       0         0      0         0     0       0      0      1   \n",
      "4    0     0       0         0      0         0     1       0      0      0   \n",
      "5    0     0       0         0      0         0     1       0      0      0   \n",
      "6    0     0       0         0      0         0     1       1      0      0   \n",
      "7    0     0       1         0      0         0     1       0      0      0   \n",
      "8    0     0       0         0      0         0     1       1      0      0   \n",
      "9    0     0       0         0      0         0     0       0      0      0   \n",
      "\n",
      "   Ground  Ice  Normal  Poison  Psychic  Rock  Steel  Water  \n",
      "0       0    0       0       1        0     0      0      0  \n",
      "1       0    0       0       1        0     0      0      0  \n",
      "2       0    0       0       1        0     0      0      0  \n",
      "3       0    0       0       1        0     0      0      0  \n",
      "4       0    0       0       0        0     0      0      0  \n",
      "5       0    0       0       0        0     0      0      0  \n",
      "6       0    0       0       0        0     0      0      0  \n",
      "7       0    0       0       0        0     0      0      0  \n",
      "8       0    0       0       0        0     0      0      0  \n",
      "9       0    0       0       0        0     0      0      1  \n",
      "\n",
      "\n",
      "                        Name Type 1  Type 2  Total  HP  Attack  Defense  \\\n",
      "0                  Bulbasaur  Grass  Poison    318  45      49       49   \n",
      "1                    Ivysaur  Grass  Poison    405  60      62       63   \n",
      "2                   Venusaur  Grass  Poison    525  80      82       83   \n",
      "3      VenusaurMega Venusaur  Grass  Poison    625  80     100      123   \n",
      "4                 Charmander   Fire     NaN    309  39      52       43   \n",
      "5                 Charmeleon   Fire     NaN    405  58      64       58   \n",
      "6                  Charizard   Fire  Flying    534  78      84       78   \n",
      "7  CharizardMega Charizard X   Fire  Dragon    634  78     130      111   \n",
      "8  CharizardMega Charizard Y   Fire  Flying    634  78     104       78   \n",
      "9                   Squirtle  Water     NaN    314  44      48       65   \n",
      "\n",
      "   Sp. Atk  Sp. Def  Speed  Generation  Legendary  \n",
      "0       65       65     45           1      False  \n",
      "1       80       80     60           1      False  \n",
      "2      100      100     80           1      False  \n",
      "3      122      120     80           1      False  \n",
      "4       60       50     65           1      False  \n",
      "5       80       65     80           1      False  \n",
      "6      109       85    100           1      False  \n",
      "7      130       85    100           1      False  \n",
      "8      159      115    100           1      False  \n",
      "9       50       64     43           1      False  \n"
     ]
    }
   ],
   "source": [
    "one_hot_coding = pd.get_dummies(pokemon[\"Type 1\"]) + pd.get_dummies(pokemon[\"Type 2\"])\n",
    "\n",
    "#check first 10\n",
    "print(one_hot_coding.head(10))\n",
    "print('\\n')\n",
    "print(pokemon.head(10))"
   ]
  },
  {
   "cell_type": "markdown",
   "metadata": {
    "Collapsed": "false"
   },
   "source": [
    "## Problem Solving Iteration 3\n",
    "\n",
    "Now we have encoded the pokemon types, we will identify the relationship between `Total` and the encoded fields. Our expectation is:\n",
    "\n",
    "#### There are relationships between `Total` and the encoded pokemon type variables and we need to identify the correlations.\n",
    "\n",
    "The information we need to collect is:\n",
    "\n",
    "#### How to identify the relationship between `Total` and the encoded pokemon type fields?\n",
    "\n",
    "There are multiple ways to answer this question. The easiest way is to use correlation. In the cell below, calculate the correlation of `Total` to each of the encoded fields. Rank the correlations and identify the #1 pokemon type that is most likely to have the highest `Total`."
   ]
  },
  {
   "cell_type": "code",
   "execution_count": 5,
   "metadata": {
    "Collapsed": "false"
   },
   "outputs": [
    {
     "name": "stdout",
     "output_type": "stream",
     "text": [
      "Dragon      0.229705\n",
      "Psychic     0.124688\n",
      "Steel       0.109703\n",
      "Fire        0.078726\n",
      "Fighting    0.077786\n",
      "Ice         0.060248\n",
      "Flying      0.059383\n",
      "Dark        0.056154\n",
      "Rock        0.032731\n",
      "Electric    0.020971\n",
      "Ground      0.015060\n",
      "Ghost       0.003641\n",
      "Water      -0.021665\n",
      "Fairy      -0.036698\n",
      "Grass      -0.052592\n",
      "Poison     -0.090441\n",
      "Normal     -0.105331\n",
      "Bug        -0.145781\n",
      "dtype: float64\n",
      "\n",
      "\n",
      "Average Total Score of Dragon Pokemons:\n",
      "550.53125\n",
      "\n",
      "\n",
      "Average Total Score of Psychic Pokemons:\n",
      "475.94736842105266\n"
     ]
    }
   ],
   "source": [
    "print(one_hot_coding.corrwith(pokemon['Total']).sort_values(ascending=False))\n",
    "#Dragon scores highest, but not high correlation score\n",
    "\n",
    "#Check scores of Dragon and Psychic\n",
    "filtered = pokemon[(pokemon['Type 1'] == 'Dragon')]\n",
    "print('\\n')\n",
    "print('Average Total Score of Dragon Pokemons:')\n",
    "print(filtered['Total'].mean())\n",
    "filtered2 = pokemon[(pokemon['Type 1'] == 'Psychic')]\n",
    "print('\\n')\n",
    "print('Average Total Score of Psychic Pokemons:')\n",
    "print(filtered2['Total'].mean())\n",
    "#Dragon scores a lot better than Psychic"
   ]
  },
  {
   "cell_type": "markdown",
   "metadata": {
    "Collapsed": "false"
   },
   "source": [
    "# Bonus Question\n",
    "\n",
    "Say now you can choose both `Type 1` and `Type 2` of the pokemon. In order to receive the best pokemon, which types will you choose?"
   ]
  },
  {
   "cell_type": "code",
   "execution_count": 6,
   "metadata": {
    "Collapsed": "false"
   },
   "outputs": [
    {
     "name": "stdout",
     "output_type": "stream",
     "text": [
      "Correlation Combo Type with Total:\n",
      "Dragon-Flying       0.149777\n",
      "Dragon-Ice          0.128737\n",
      "Dragon-Psychic      0.127066\n",
      "Psychic-Fighting    0.104173\n",
      "Ghost-Dragon        0.102264\n",
      "                      ...   \n",
      "Poison             -0.064380\n",
      "Normal-Fairy       -0.069525\n",
      "Bug-Poison         -0.089742\n",
      "Normal-Flying      -0.092626\n",
      "Bug                -0.178699\n",
      "Length: 154, dtype: float64\n",
      "\n",
      "\n",
      "Pokemons with highest Total score:\n",
      "                      Name   Type 1    Type 2  Total   HP  Attack  Defense  \\\n",
      "163    MewtwoMega Mewtwo X  Psychic  Fighting    780  106     190      100   \n",
      "164    MewtwoMega Mewtwo Y  Psychic       NaN    780  106     150       70   \n",
      "426  RayquazaMega Rayquaza   Dragon    Flying    780  105     180      100   \n",
      "422    KyogrePrimal Kyogre    Water       NaN    770  100     150       90   \n",
      "424  GroudonPrimal Groudon   Ground      Fire    770  100     180      160   \n",
      "\n",
      "     Sp. Atk  Sp. Def  Speed  Generation  Legendary        Combo Type  \n",
      "163      154      100    130           1       True  Psychic-Fighting  \n",
      "164      194      120    140           1       True           Psychic  \n",
      "426      180      100    115           3       True     Dragon-Flying  \n",
      "422      180      160     90           3       True             Water  \n",
      "424      150       90     90           3       True       Ground-Fire  \n",
      "\n",
      "\n",
      "Dragon-Flying average score:\n",
      "641.6666666666666\n",
      "\n",
      "\n",
      "Dragon-Ice average score:\n",
      "686.6666666666666\n"
     ]
    }
   ],
   "source": [
    "#add combo type column of challenge 1 to df\n",
    "pokemon['Combo Type'] = np.where(pokemon['Type 2'].isnull(), pokemon['Type 1'], pokemon['Type 1'] + '-' + pokemon['Type 2'])\n",
    "\n",
    "#perform one hot coding for combo type\n",
    "one_hot_coding2 = pd.get_dummies(pokemon[\"Combo Type\"])\n",
    "\n",
    "#calculate correlation with combo type\n",
    "print('Correlation Combo Type with Total:')\n",
    "print(one_hot_coding2.corrwith(pokemon['Total']).sort_values(ascending=False))\n",
    "print('\\n')\n",
    "#Dragon-Flying pokemon\n",
    "\n",
    "#Check with highest Total\n",
    "print('Pokemons with highest Total score:')\n",
    "print(pokemon.nlargest(5, ['Total']))\n",
    "print('\\n')\n",
    "print('Dragon-Flying average score:')\n",
    "filtered = pokemon[(pokemon['Type 1'] == 'Dragon') & (pokemon['Type 2'] == 'Flying')]\n",
    "print(filtered['Total'].mean())\n",
    "print('\\n')\n",
    "filtered = pokemon[(pokemon['Type 1'] == 'Dragon') & (pokemon['Type 2'] == 'Ice')]\n",
    "print('Dragon-Ice average score:')\n",
    "print(filtered['Total'].mean())\n",
    "\n",
    "#On correlation score you would choice Dragon-Flying, both Dragon-Ice scores better!"
   ]
  }
 ],
 "metadata": {
  "kernelspec": {
   "display_name": "Python 3",
   "language": "python",
   "name": "python3"
  },
  "language_info": {
   "codemirror_mode": {
    "name": "ipython",
    "version": 3
   },
   "file_extension": ".py",
   "mimetype": "text/x-python",
   "name": "python",
   "nbconvert_exporter": "python",
   "pygments_lexer": "ipython3",
   "version": "3.7.6"
  }
 },
 "nbformat": 4,
 "nbformat_minor": 4
}
