{
 "cells": [
  {
   "cell_type": "markdown",
   "metadata": {
    "Collapsed": "false"
   },
   "source": [
    "# StackAPI\n",
    "\n",
    "#### Import the necessary libraries here:"
   ]
  },
  {
   "cell_type": "code",
   "execution_count": 1,
   "metadata": {
    "Collapsed": "false"
   },
   "outputs": [],
   "source": [
    "import pandas as pd"
   ]
  },
  {
   "cell_type": "code",
   "execution_count": 2,
   "metadata": {
    "Collapsed": "false"
   },
   "outputs": [],
   "source": [
    "# import the necessary libraries here\n",
    "from stackapi import StackAPI"
   ]
  },
  {
   "cell_type": "code",
   "execution_count": 3,
   "metadata": {
    "Collapsed": "false"
   },
   "outputs": [],
   "source": [
    "# run the code below\n",
    "SITE = StackAPI('stackoverflow')\n",
    "comments = SITE.fetch('comments')"
   ]
  },
  {
   "cell_type": "markdown",
   "metadata": {
    "Collapsed": "false"
   },
   "source": [
    "Before you start with the lab, please be aware that all the relevant information regarding the StackAPI can be found here: https://stackapi.readthedocs.io/en/latest/user/advanced.html#calling-fetch-with-various-api-parameters"
   ]
  },
  {
   "cell_type": "markdown",
   "metadata": {
    "Collapsed": "false"
   },
   "source": [
    "#### Question 1: Find the questions and answers of last month.\n",
    "\n",
    "*hint*: use the fromdate and todate arguments."
   ]
  },
  {
   "cell_type": "code",
   "execution_count": 4,
   "metadata": {
    "Collapsed": "false"
   },
   "outputs": [],
   "source": [
    "# your code here\n",
    "from datetime import datetime\n",
    "questions = SITE.fetch('questions', fromdate=datetime(2020,1,1), todate=datetime(2020,2,1))\n",
    "answers = SITE.fetch('answers', fromdate=datetime(2020,1,1), todate=datetime(2020,2,1))"
   ]
  },
  {
   "cell_type": "markdown",
   "metadata": {
    "Collapsed": "false"
   },
   "source": [
    "#### Question 2: Find the most voted question today with at least a score of 5 and tagged with 'python'. "
   ]
  },
  {
   "cell_type": "code",
   "execution_count": 5,
   "metadata": {
    "Collapsed": "false"
   },
   "outputs": [
    {
     "data": {
      "text/plain": [
       "{'backoff': 0,\n",
       " 'has_more': False,\n",
       " 'page': 1,\n",
       " 'quota_max': 300,\n",
       " 'quota_remaining': 300,\n",
       " 'total': 0,\n",
       " 'items': [{'tags': ['python', 'macos', 'homebrew', 'python-2.x'],\n",
       "   'owner': {'reputation': 1453,\n",
       "    'user_id': 2564199,\n",
       "    'user_type': 'registered',\n",
       "    'accept_rate': 74,\n",
       "    'profile_image': 'https://www.gravatar.com/avatar/e7de6198991a53a6c0da7ef3f5011725?s=128&d=identicon&r=PG',\n",
       "    'display_name': 'Pauline',\n",
       "    'link': 'https://stackoverflow.com/users/2564199/pauline'},\n",
       "   'is_answered': True,\n",
       "   'view_count': 16723,\n",
       "   'accepted_answer_id': 60345962,\n",
       "   'answer_count': 2,\n",
       "   'score': 32,\n",
       "   'last_activity_date': 1593064233,\n",
       "   'creation_date': 1582109114,\n",
       "   'last_edit_date': 1582109664,\n",
       "   'question_id': 60298514,\n",
       "   'content_license': 'CC BY-SA 4.0',\n",
       "   'link': 'https://stackoverflow.com/questions/60298514/brew-reinstalling-python2',\n",
       "   'title': 'Brew - reinstalling python@2'},\n",
       "  {'tags': ['python', 'image-processing', 'ocr', 'tesseract', 'captcha'],\n",
       "   'owner': {'reputation': 725,\n",
       "    'user_id': 8210794,\n",
       "    'user_type': 'registered',\n",
       "    'accept_rate': 100,\n",
       "    'profile_image': 'https://lh3.googleusercontent.com/-BNJbDbTgDk8/AAAAAAAAAAI/AAAAAAAADZM/GmUpV-u-Mpc/photo.jpg?sz=128',\n",
       "    'display_name': 'Ahmet Aziz Beşli',\n",
       "    'link': 'https://stackoverflow.com/users/8210794/ahmet-aziz-be%c5%9fli'},\n",
       "   'is_answered': True,\n",
       "   'view_count': 465,\n",
       "   'accepted_answer_id': 60504847,\n",
       "   'answer_count': 3,\n",
       "   'score': 8,\n",
       "   'last_activity_date': 1583230325,\n",
       "   'creation_date': 1582116118,\n",
       "   'last_edit_date': 1582116797,\n",
       "   'question_id': 60300644,\n",
       "   'content_license': 'CC BY-SA 4.0',\n",
       "   'link': 'https://stackoverflow.com/questions/60300644/python-image-processing-on-captcha-how-to-remove-noise',\n",
       "   'title': 'Python Image Processing on Captcha how to remove noise'},\n",
       "  {'tags': ['python', 'networking', 'virtual-machine', 'qemu', 'lan'],\n",
       "   'owner': {'reputation': 107,\n",
       "    'user_id': 7000599,\n",
       "    'user_type': 'registered',\n",
       "    'accept_rate': 100,\n",
       "    'profile_image': 'https://www.gravatar.com/avatar/ab0e27cd0cc2be275efcbc7bd2ad053e?s=128&d=identicon&r=PG',\n",
       "    'display_name': 'falhumai96',\n",
       "    'link': 'https://stackoverflow.com/users/7000599/falhumai96'},\n",
       "   'is_answered': False,\n",
       "   'view_count': 251,\n",
       "   'answer_count': 0,\n",
       "   'score': 8,\n",
       "   'last_activity_date': 1582929324,\n",
       "   'creation_date': 1582097601,\n",
       "   'last_edit_date': 1582929324,\n",
       "   'question_id': 60295128,\n",
       "   'content_license': 'CC BY-SA 4.0',\n",
       "   'link': 'https://stackoverflow.com/questions/60295128/create-a-qemu-bridge-using-the-socket-networking-backend',\n",
       "   'title': 'Create a QEMU Bridge Using the Socket Networking Backend'},\n",
       "  {'tags': ['python', 'pip'],\n",
       "   'owner': {'reputation': 1920,\n",
       "    'user_id': 2197234,\n",
       "    'user_type': 'registered',\n",
       "    'accept_rate': 84,\n",
       "    'profile_image': 'https://i.stack.imgur.com/2aTcP.jpg?s=128&g=1',\n",
       "    'display_name': 'fildred13',\n",
       "    'link': 'https://stackoverflow.com/users/2197234/fildred13'},\n",
       "   'is_answered': True,\n",
       "   'view_count': 624,\n",
       "   'accepted_answer_id': 60305522,\n",
       "   'answer_count': 1,\n",
       "   'score': 7,\n",
       "   'last_activity_date': 1582131432,\n",
       "   'creation_date': 1582125862,\n",
       "   'last_edit_date': 1582127416,\n",
       "   'question_id': 60303682,\n",
       "   'content_license': 'CC BY-SA 4.0',\n",
       "   'link': 'https://stackoverflow.com/questions/60303682/why-is-pip-installing-an-incompatible-package-version',\n",
       "   'title': 'Why is pip installing an incompatible package version?'},\n",
       "  {'tags': ['python', 'bash', 'markdown'],\n",
       "   'owner': {'reputation': 2035,\n",
       "    'user_id': 5550835,\n",
       "    'user_type': 'registered',\n",
       "    'profile_image': 'https://i.stack.imgur.com/XanIL.jpg?s=128&g=1',\n",
       "    'display_name': 'pieca',\n",
       "    'link': 'https://stackoverflow.com/users/5550835/pieca'},\n",
       "   'is_answered': True,\n",
       "   'view_count': 214,\n",
       "   'accepted_answer_id': 60299343,\n",
       "   'answer_count': 4,\n",
       "   'score': 7,\n",
       "   'last_activity_date': 1582111689,\n",
       "   'creation_date': 1582105032,\n",
       "   'question_id': 60297105,\n",
       "   'content_license': 'CC BY-SA 4.0',\n",
       "   'link': 'https://stackoverflow.com/questions/60297105/python-write-both-commands-and-their-output-to-a-file',\n",
       "   'title': 'Python write both commands and their output to a file'},\n",
       "  {'tags': ['python', 'python-3.x', 'numpy', 'python-internals', 'internals'],\n",
       "   'owner': {'reputation': 58497,\n",
       "    'user_id': 124486,\n",
       "    'user_type': 'registered',\n",
       "    'accept_rate': 46,\n",
       "    'profile_image': 'https://www.gravatar.com/avatar/605442f85418d858e2ce1e1aea2092bb?s=128&d=identicon&r=PG',\n",
       "    'display_name': 'Evan Carroll',\n",
       "    'link': 'https://stackoverflow.com/users/124486/evan-carroll'},\n",
       "   'is_answered': True,\n",
       "   'view_count': 181,\n",
       "   'accepted_answer_id': 60303498,\n",
       "   'answer_count': 1,\n",
       "   'score': 6,\n",
       "   'last_activity_date': 1582128377,\n",
       "   'creation_date': 1582123444,\n",
       "   'last_edit_date': 1582128377,\n",
       "   'question_id': 60302874,\n",
       "   'content_license': 'CC BY-SA 4.0',\n",
       "   'link': 'https://stackoverflow.com/questions/60302874/why-does-a-numpy-array-have-96-bytes-of-overhead',\n",
       "   'title': 'Why does a numpy array have 96 bytes of overhead?'},\n",
       "  {'tags': ['python', 'machine-learning', 'scikit-learn'],\n",
       "   'owner': {'reputation': 337,\n",
       "    'user_id': 2455169,\n",
       "    'user_type': 'registered',\n",
       "    'profile_image': 'https://www.gravatar.com/avatar/ce355d408f78eb29f928007f67b7131c?s=128&d=identicon&r=PG',\n",
       "    'display_name': 'ggaurav',\n",
       "    'link': 'https://stackoverflow.com/users/2455169/ggaurav'},\n",
       "   'is_answered': True,\n",
       "   'view_count': 163,\n",
       "   'accepted_answer_id': 60445308,\n",
       "   'answer_count': 2,\n",
       "   'score': 5,\n",
       "   'last_activity_date': 1582865438,\n",
       "   'creation_date': 1582092393,\n",
       "   'last_edit_date': 1582429527,\n",
       "   'question_id': 60294034,\n",
       "   'content_license': 'CC BY-SA 4.0',\n",
       "   'link': 'https://stackoverflow.com/questions/60294034/custom-scikit-learn-scorer-cant-access-mean-after-fit',\n",
       "   'title': 'Custom scikit-learn scorer can&#39;t access mean after fit'}]}"
      ]
     },
     "execution_count": 5,
     "metadata": {},
     "output_type": "execute_result"
    }
   ],
   "source": [
    "# your code here\n",
    "most_voted = SITE.fetch('questions', fromdate=datetime(2020,2,19,0,0,0), todate=datetime(2020,2,19,16,0,0), min=5,tagged='python', sort='votes')\n",
    "most_voted\n",
    "#paolo: yes, you choose a different date because you did not have enough data on a more recent date?"
   ]
  },
  {
   "cell_type": "markdown",
   "metadata": {
    "Collapsed": "false"
   },
   "source": [
    "#### Question 3: Find the answers with id 6784 and 6473."
   ]
  },
  {
   "cell_type": "code",
   "execution_count": 7,
   "metadata": {
    "Collapsed": "false"
   },
   "outputs": [
    {
     "data": {
      "text/plain": [
       "{'backoff': 0,\n",
       " 'has_more': False,\n",
       " 'page': 1,\n",
       " 'quota_max': 300,\n",
       " 'quota_remaining': 300,\n",
       " 'total': 0,\n",
       " 'items': [{'owner': {'reputation': 29065,\n",
       "    'user_id': 758,\n",
       "    'user_type': 'registered',\n",
       "    'accept_rate': 77,\n",
       "    'profile_image': 'https://www.gravatar.com/avatar/0b4adc19284ed0751844d610555dc6b2?s=128&d=identicon&r=PG',\n",
       "    'display_name': 'Mark Renouf',\n",
       "    'link': 'https://stackoverflow.com/users/758/mark-renouf'},\n",
       "   'is_accepted': False,\n",
       "   'score': 0,\n",
       "   'last_activity_date': 1218291583,\n",
       "   'creation_date': 1218291583,\n",
       "   'answer_id': 6784,\n",
       "   'question_id': 6778,\n",
       "   'content_license': 'CC BY-SA 2.5'}]}"
      ]
     },
     "execution_count": 7,
     "metadata": {},
     "output_type": "execute_result"
    }
   ],
   "source": [
    "# your code here\n",
    "ids = SITE.fetch('answers', ids=[6784, 6473])\n",
    "ids\n",
    "#paolo: yes good that you used a list to make it in one line- notice that the second one\n",
    "# id=6473 is not found"
   ]
  }
 ],
 "metadata": {
  "kernelspec": {
   "display_name": "Python 3",
   "language": "python",
   "name": "python3"
  },
  "language_info": {
   "codemirror_mode": {
    "name": "ipython",
    "version": 3
   },
   "file_extension": ".py",
   "mimetype": "text/x-python",
   "name": "python",
   "nbconvert_exporter": "python",
   "pygments_lexer": "ipython3",
   "version": "3.7.6"
  }
 },
 "nbformat": 4,
 "nbformat_minor": 4
}
