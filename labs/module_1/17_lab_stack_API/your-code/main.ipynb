{
 "cells": [
  {
   "cell_type": "markdown",
   "metadata": {
    "Collapsed": "false"
   },
   "source": [
    "# StackAPI\n",
    "\n",
    "#### Import the necessary libraries here:"
   ]
  },
  {
   "cell_type": "code",
   "execution_count": 1,
   "metadata": {
    "Collapsed": "false"
   },
   "outputs": [],
   "source": [
    "import pandas as pd\n",
    "from datetime import datetime\n",
    "from datetime import timedelta"
   ]
  },
  {
   "cell_type": "code",
   "execution_count": 2,
   "metadata": {
    "Collapsed": "false"
   },
   "outputs": [],
   "source": [
    "# import the necessary libraries here\n",
    "from stackapi import StackAPI"
   ]
  },
  {
   "cell_type": "code",
   "execution_count": 3,
   "metadata": {
    "Collapsed": "false"
   },
   "outputs": [],
   "source": [
    "# run the code below\n",
    "SITE = StackAPI('stackoverflow')\n",
    "comments = SITE.fetch('comments')"
   ]
  },
  {
   "cell_type": "markdown",
   "metadata": {
    "Collapsed": "false"
   },
   "source": [
    "Before you start with the lab, please be aware that all the relevant information regarding the StackAPI can be found here: https://stackapi.readthedocs.io/en/latest/user/advanced.html#calling-fetch-with-various-api-parameters"
   ]
  },
  {
   "cell_type": "markdown",
   "metadata": {
    "Collapsed": "false"
   },
   "source": [
    "#### Question 1: Find the questions and answers of last month.\n",
    "\n",
    "*hint*: use the fromdate and todate arguments."
   ]
  },
  {
   "cell_type": "code",
   "execution_count": 4,
   "metadata": {
    "Collapsed": "false"
   },
   "outputs": [],
   "source": [
    "# your code here\n",
    "#data = pd.DataFrame(comments)\n",
    "#data.head(5)\n",
    "\n",
    "today = datetime.today()\n",
    "month = today - timedelta(days=30)\n",
    "\n",
    "\n",
    "questions = SITE.fetch('questions', fromdate = month, todate = today)\n",
    "answers = SITE.fetch('answers', fromdate = month, todate = today)\n"
   ]
  },
  {
   "cell_type": "markdown",
   "metadata": {
    "Collapsed": "false"
   },
   "source": [
    "#### Question 2: Find the most voted question today with at least a score of 5 and tagged with 'python'. "
   ]
  },
  {
   "cell_type": "code",
   "execution_count": 7,
   "metadata": {
    "Collapsed": "false"
   },
   "outputs": [
    {
     "data": {
      "text/plain": [
       "[{'tags': ['python', 'iterator', 'generator', 'yield', 'coroutine'],\n",
       "  'owner': {'reputation': 117798,\n",
       "   'user_id': 18300,\n",
       "   'user_type': 'registered',\n",
       "   'accept_rate': 92,\n",
       "   'profile_image': 'https://i.stack.imgur.com/jcyI4.jpg?s=128&g=1',\n",
       "   'display_name': 'Alex. S.',\n",
       "   'link': 'https://stackoverflow.com/users/18300/alex-s'},\n",
       "  'is_answered': True,\n",
       "  'view_count': 2275761,\n",
       "  'protected_date': 1360547307,\n",
       "  'accepted_answer_id': 231855,\n",
       "  'answer_count': 41,\n",
       "  'score': 10406,\n",
       "  'last_activity_date': 1593675391,\n",
       "  'creation_date': 1224800471,\n",
       "  'last_edit_date': 1582751053,\n",
       "  'question_id': 231767,\n",
       "  'content_license': 'CC BY-SA 4.0',\n",
       "  'link': 'https://stackoverflow.com/questions/231767/what-does-the-quotyieldquot-keyword-do',\n",
       "  'title': 'What does the &amp;quot;yield&amp;quot; keyword do?'},\n",
       " {'tags': ['python', 'namespaces', 'main', 'python-module', 'idioms'],\n",
       "  'owner': {'reputation': 83703,\n",
       "   'user_id': 51518,\n",
       "   'user_type': 'registered',\n",
       "   'accept_rate': 86,\n",
       "   'profile_image': 'https://www.gravatar.com/avatar/eb5a95cb1be342c4089183cd8232a7f2?s=128&d=identicon&r=PG',\n",
       "   'display_name': 'Devoted',\n",
       "   'link': 'https://stackoverflow.com/users/51518/devoted'},\n",
       "  'is_answered': True,\n",
       "  'view_count': 3063109,\n",
       "  'protected_date': 1365246276,\n",
       "  'accepted_answer_id': 419185,\n",
       "  'answer_count': 33,\n",
       "  'score': 6214,\n",
       "  'last_activity_date': 1597011592,\n",
       "  'creation_date': 1231301460,\n",
       "  'last_edit_date': 1582751084,\n",
       "  'question_id': 419163,\n",
       "  'content_license': 'CC BY-SA 4.0',\n",
       "  'link': 'https://stackoverflow.com/questions/419163/what-does-if-name-quot-main-quot-do',\n",
       "  'title': 'What does if __name__ == &amp;quot;__main__&amp;quot;: do?'}]"
      ]
     },
     "execution_count": 7,
     "metadata": {},
     "output_type": "execute_result"
    }
   ],
   "source": [
    "# your code here\n",
    "most_voted = SITE.fetch('questions', date = today, min = 5, tagged = 'python', sort = 'votes')\n",
    "most_voted['items'][0]"
   ]
  },
  {
   "cell_type": "markdown",
   "metadata": {
    "Collapsed": "false"
   },
   "source": [
    "#### Question 3: Find the answers with id 6784 and 6473."
   ]
  },
  {
   "cell_type": "code",
   "execution_count": 6,
   "metadata": {
    "Collapsed": "false"
   },
   "outputs": [
    {
     "data": {
      "text/plain": [
       "{'backoff': 0,\n",
       " 'has_more': False,\n",
       " 'page': 1,\n",
       " 'quota_max': 300,\n",
       " 'quota_remaining': 300,\n",
       " 'total': 0,\n",
       " 'items': [{'owner': {'reputation': 29035,\n",
       "    'user_id': 758,\n",
       "    'user_type': 'registered',\n",
       "    'accept_rate': 77,\n",
       "    'profile_image': 'https://www.gravatar.com/avatar/0b4adc19284ed0751844d610555dc6b2?s=128&d=identicon&r=PG',\n",
       "    'display_name': 'Mark Renouf',\n",
       "    'link': 'https://stackoverflow.com/users/758/mark-renouf'},\n",
       "   'is_accepted': False,\n",
       "   'score': 0,\n",
       "   'last_activity_date': 1218291583,\n",
       "   'creation_date': 1218291583,\n",
       "   'answer_id': 6784,\n",
       "   'question_id': 6778,\n",
       "   'content_license': 'CC BY-SA 2.5'}]}"
      ]
     },
     "execution_count": 6,
     "metadata": {},
     "output_type": "execute_result"
    }
   ],
   "source": [
    "# your code here\n",
    "answers = SITE.fetch('answers', ids=[6784, 6473])\n",
    "answers\n",
    "# there is no answer with ID 6473"
   ]
  },
  {
   "cell_type": "code",
   "execution_count": null,
   "metadata": {
    "Collapsed": "false"
   },
   "outputs": [],
   "source": [
    "#paolo: good work!"
   ]
  }
 ],
 "metadata": {
  "kernelspec": {
   "display_name": "Python 3",
   "language": "python",
   "name": "python3"
  },
  "language_info": {
   "codemirror_mode": {
    "name": "ipython",
    "version": 3
   },
   "file_extension": ".py",
   "mimetype": "text/x-python",
   "name": "python",
   "nbconvert_exporter": "python",
   "pygments_lexer": "ipython3",
   "version": "3.6.8"
  }
 },
 "nbformat": 4,
 "nbformat_minor": 4
}
