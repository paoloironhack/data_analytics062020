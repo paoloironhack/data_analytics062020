{
 "cells": [
  {
   "cell_type": "markdown",
   "metadata": {
    "Collapsed": "false"
   },
   "source": [
    "# StackAPI\n",
    "\n",
    "#### Import the necessary libraries here:"
   ]
  },
  {
   "cell_type": "code",
   "execution_count": 1,
   "metadata": {
    "Collapsed": "false"
   },
   "outputs": [],
   "source": [
    "# import the necessary libraries here\n",
    "import pandas as pd\n",
    "from stackapi import StackAPI\n",
    "import datetime"
   ]
  },
  {
   "cell_type": "code",
   "execution_count": 2,
   "metadata": {
    "Collapsed": "false"
   },
   "outputs": [],
   "source": [
    "# run the code below\n",
    "SITE = StackAPI('stackoverflow')\n",
    "comments = SITE.fetch('comments')\n",
    "questions = SITE.fetch('questions')\n",
    "answers = SITE.fetch('answers')"
   ]
  },
  {
   "cell_type": "markdown",
   "metadata": {
    "Collapsed": "false"
   },
   "source": [
    "Before you start with the lab, please be aware that all the relevant information regarding the StackAPI can be found here: https://stackapi.readthedocs.io/en/latest/user/advanced.html#calling-fetch-with-various-api-parameters"
   ]
  },
  {
   "cell_type": "markdown",
   "metadata": {
    "Collapsed": "false"
   },
   "source": [
    "#### Question 1: Find the questions and answers of last month.\n",
    "\n",
    "*hint*: use the fromdate and todate arguments."
   ]
  },
  {
   "cell_type": "code",
   "execution_count": 3,
   "metadata": {
    "Collapsed": "false"
   },
   "outputs": [
    {
     "name": "stdout",
     "output_type": "stream",
     "text": [
      "Dataframe Comments:\n",
      "     backoff  has_more  page  quota_max  quota_remaining  total  \\\n",
      "0          0      True     5        300              300      0   \n",
      "1          0      True     5        300              300      0   \n",
      "2          0      True     5        300              300      0   \n",
      "3          0      True     5        300              300      0   \n",
      "4          0      True     5        300              300      0   \n",
      "..       ...       ...   ...        ...              ...    ...   \n",
      "495        0      True     5        300              300      0   \n",
      "496        0      True     5        300              300      0   \n",
      "497        0      True     5        300              300      0   \n",
      "498        0      True     5        300              300      0   \n",
      "499        0      True     5        300              300      0   \n",
      "\n",
      "                                                 items  \n",
      "0    {'owner': {'reputation': 390, 'user_id': 12380...  \n",
      "1    {'owner': {'reputation': 25992, 'user_id': 626...  \n",
      "2    {'owner': {'reputation': 21, 'user_id': 136842...  \n",
      "3    {'owner': {'reputation': 3168, 'user_id': 4165...  \n",
      "4    {'owner': {'reputation': 159, 'user_id': 10446...  \n",
      "..                                                 ...  \n",
      "495  {'owner': {'reputation': 3126, 'user_id': 1062...  \n",
      "496  {'owner': {'reputation': 360, 'user_id': 12987...  \n",
      "497  {'owner': {'reputation': 657, 'user_id': 29264...  \n",
      "498  {'owner': {'reputation': 846, 'user_id': 11161...  \n",
      "499  {'owner': {'reputation': 612, 'user_id': 56018...  \n",
      "\n",
      "[500 rows x 7 columns]\n",
      "\n",
      "\n",
      "Dataframe Questions:\n",
      "     backoff  has_more  page  quota_max  quota_remaining  total  \\\n",
      "0          0      True     5        300              300      0   \n",
      "1          0      True     5        300              300      0   \n",
      "2          0      True     5        300              300      0   \n",
      "3          0      True     5        300              300      0   \n",
      "4          0      True     5        300              300      0   \n",
      "..       ...       ...   ...        ...              ...    ...   \n",
      "495        0      True     5        300              300      0   \n",
      "496        0      True     5        300              300      0   \n",
      "497        0      True     5        300              300      0   \n",
      "498        0      True     5        300              300      0   \n",
      "499        0      True     5        300              300      0   \n",
      "\n",
      "                                                 items  \n",
      "0    {'tags': ['node.js', 'reactjs', 'graphql', 'ne...  \n",
      "1    {'tags': ['javascript', 'reactjs', 'react-hook...  \n",
      "2    {'tags': ['react-native', 'react-navigation-v5...  \n",
      "3    {'tags': ['angular', 'angular-material'], 'own...  \n",
      "4    {'tags': ['ibm-cloud'], 'owner': {'reputation'...  \n",
      "..                                                 ...  \n",
      "495  {'tags': ['java', 'android', 'android-studio',...  \n",
      "496  {'tags': ['c#', 'list'], 'owner': {'reputation...  \n",
      "497  {'tags': ['yaml', 'gitlab-ci', 'slack'], 'owne...  \n",
      "498  {'tags': ['react-native', 'react-native-flatli...  \n",
      "499  {'tags': ['javascript', 'jquery', 'ajax', 'lar...  \n",
      "\n",
      "[500 rows x 7 columns]\n",
      "\n",
      "\n",
      "Dataframe Answers:\n",
      "     backoff  has_more  page  quota_max  quota_remaining  total  \\\n",
      "0          0      True     5        300              300      0   \n",
      "1          0      True     5        300              300      0   \n",
      "2          0      True     5        300              300      0   \n",
      "3          0      True     5        300              300      0   \n",
      "4          0      True     5        300              300      0   \n",
      "..       ...       ...   ...        ...              ...    ...   \n",
      "495        0      True     5        300              300      0   \n",
      "496        0      True     5        300              300      0   \n",
      "497        0      True     5        300              300      0   \n",
      "498        0      True     5        300              300      0   \n",
      "499        0      True     5        300              300      0   \n",
      "\n",
      "                                                 items  \n",
      "0    {'owner': {'reputation': 11, 'user_id': 141369...  \n",
      "1    {'owner': {'reputation': 503, 'user_id': 58275...  \n",
      "2    {'owner': {'reputation': 35, 'user_id': 129405...  \n",
      "3    {'owner': {'reputation': 33, 'user_id': 128283...  \n",
      "4    {'owner': {'reputation': 801, 'user_id': 67472...  \n",
      "..                                                 ...  \n",
      "495  {'owner': {'reputation': 36, 'user_id': 141057...  \n",
      "496  {'owner': {'reputation': 379, 'user_id': 34850...  \n",
      "497  {'owner': {'reputation': 46, 'user_id': 141307...  \n",
      "498  {'owner': {'reputation': 259, 'user_id': 13100...  \n",
      "499  {'owner': {'reputation': 1, 'user_id': 1413697...  \n",
      "\n",
      "[500 rows x 7 columns]\n"
     ]
    }
   ],
   "source": [
    "#check data\n",
    "print('Dataframe Comments:')\n",
    "print(pd.DataFrame(comments))\n",
    "print('\\n')\n",
    "print('Dataframe Questions:')\n",
    "print(pd.DataFrame(questions))\n",
    "print('\\n')\n",
    "print('Dataframe Answers:')\n",
    "print(pd.DataFrame(answers))"
   ]
  },
  {
   "cell_type": "code",
   "execution_count": 4,
   "metadata": {},
   "outputs": [
    {
     "name": "stdout",
     "output_type": "stream",
     "text": [
      "     backoff  has_more  page  quota_max  quota_remaining  total  \\\n",
      "0          0      True     5        300              300      0   \n",
      "1          0      True     5        300              300      0   \n",
      "2          0      True     5        300              300      0   \n",
      "3          0      True     5        300              300      0   \n",
      "4          0      True     5        300              300      0   \n",
      "..       ...       ...   ...        ...              ...    ...   \n",
      "495        0      True     5        300              300      0   \n",
      "496        0      True     5        300              300      0   \n",
      "497        0      True     5        300              300      0   \n",
      "498        0      True     5        300              300      0   \n",
      "499        0      True     5        300              300      0   \n",
      "\n",
      "                                                 items  \n",
      "0    {'tags': ['django', 'django-templates', 'djang...  \n",
      "1    {'tags': ['javascript', 'vue.js', 'storybook',...  \n",
      "2    {'tags': ['c#', 'xunit'], 'owner': {'reputatio...  \n",
      "3    {'tags': ['javascript', 'node.js', 'testing', ...  \n",
      "4    {'tags': ['java', 'solr', 'jetty', 'apache-tik...  \n",
      "..                                                 ...  \n",
      "495  {'tags': ['vim', 'syntax-highlighting'], 'owne...  \n",
      "496  {'tags': ['r'], 'owner': {'reputation': 51, 'u...  \n",
      "497  {'tags': ['javascript', 'c#', 'angular', '.net...  \n",
      "498  {'tags': ['sql', 'sql-server'], 'owner': {'rep...  \n",
      "499  {'tags': ['angular', 'angular-ng-if', 'string-...  \n",
      "\n",
      "[500 rows x 7 columns]\n"
     ]
    }
   ],
   "source": [
    "questions = SITE.fetch('questions', fromdate=datetime.datetime(2020,7,1,0,0), todate=datetime.datetime(2020,7,31))\n",
    "data = pd.DataFrame(questions)\n",
    "print(data)"
   ]
  },
  {
   "cell_type": "code",
   "execution_count": 5,
   "metadata": {},
   "outputs": [
    {
     "name": "stdout",
     "output_type": "stream",
     "text": [
      "     backoff  has_more  page  quota_max  quota_remaining  total  \\\n",
      "0          0      True     5        300              300      0   \n",
      "1          0      True     5        300              300      0   \n",
      "2          0      True     5        300              300      0   \n",
      "3          0      True     5        300              300      0   \n",
      "4          0      True     5        300              300      0   \n",
      "..       ...       ...   ...        ...              ...    ...   \n",
      "495        0      True     5        300              300      0   \n",
      "496        0      True     5        300              300      0   \n",
      "497        0      True     5        300              300      0   \n",
      "498        0      True     5        300              300      0   \n",
      "499        0      True     5        300              300      0   \n",
      "\n",
      "                                                 items  \n",
      "0    {'owner': {'reputation': 1304, 'user_id': 1498...  \n",
      "1    {'owner': {'reputation': 9488, 'user_id': 1037...  \n",
      "2    {'owner': {'reputation': 1699, 'user_id': 1114...  \n",
      "3    {'owner': {'reputation': 1552, 'user_id': 2779...  \n",
      "4    {'owner': {'reputation': 2602, 'user_id': 1293...  \n",
      "..                                                 ...  \n",
      "495  {'owner': {'reputation': 63164, 'user_id': 155...  \n",
      "496  {'owner': {'reputation': 1, 'user_id': 1347254...  \n",
      "497  {'owner': {'reputation': 6122, 'user_id': 8697...  \n",
      "498  {'owner': {'reputation': 475, 'user_id': 11528...  \n",
      "499  {'owner': {'reputation': 31, 'user_id': 137745...  \n",
      "\n",
      "[500 rows x 7 columns]\n"
     ]
    }
   ],
   "source": [
    "answers = SITE.fetch('answers', fromdate=datetime.date(2020,7,1), todate=datetime.date(2020,7,31))\n",
    "data = pd.DataFrame(answers)\n",
    "print(data)"
   ]
  },
  {
   "cell_type": "markdown",
   "metadata": {
    "Collapsed": "false"
   },
   "source": [
    "#### Question 2: Find the most voted question today with at least a score of 5 and tagged with 'python'. "
   ]
  },
  {
   "cell_type": "code",
   "execution_count": 6,
   "metadata": {
    "Collapsed": "false"
   },
   "outputs": [
    {
     "data": {
      "text/plain": [
       "{'tags': ['python', 'iterator', 'generator', 'yield', 'coroutine'],\n",
       " 'owner': {'reputation': 117968,\n",
       "  'user_id': 18300,\n",
       "  'user_type': 'registered',\n",
       "  'accept_rate': 92,\n",
       "  'profile_image': 'https://i.stack.imgur.com/jcyI4.jpg?s=128&g=1',\n",
       "  'display_name': 'Alex. S.',\n",
       "  'link': 'https://stackoverflow.com/users/18300/alex-s'},\n",
       " 'is_answered': True,\n",
       " 'view_count': 2278915,\n",
       " 'protected_date': 1360547307,\n",
       " 'accepted_answer_id': 231855,\n",
       " 'answer_count': 41,\n",
       " 'score': 10423,\n",
       " 'last_activity_date': 1593675391,\n",
       " 'creation_date': 1224800471,\n",
       " 'last_edit_date': 1582751053,\n",
       " 'question_id': 231767,\n",
       " 'content_license': 'CC BY-SA 4.0',\n",
       " 'link': 'https://stackoverflow.com/questions/231767/what-does-the-yield-keyword-do',\n",
       " 'title': 'What does the &quot;yield&quot; keyword do?'}"
      ]
     },
     "execution_count": 6,
     "metadata": {},
     "output_type": "execute_result"
    }
   ],
   "source": [
    "# your code here\n",
    "most_voted = SITE.fetch('questions', date = datetime.date(2020,8,20), min = 5, tagged = 'python', sort = 'votes')\n",
    "most_voted['items'][0]"
   ]
  },
  {
   "cell_type": "markdown",
   "metadata": {
    "Collapsed": "false"
   },
   "source": [
    "#### Question 3: Find the answers with id 6784 and 6473."
   ]
  },
  {
   "cell_type": "code",
   "execution_count": 7,
   "metadata": {
    "Collapsed": "false"
   },
   "outputs": [
    {
     "data": {
      "text/plain": [
       "{'backoff': 0,\n",
       " 'has_more': False,\n",
       " 'page': 1,\n",
       " 'quota_max': 300,\n",
       " 'quota_remaining': 300,\n",
       " 'total': 0,\n",
       " 'items': [{'owner': {'reputation': 29045,\n",
       "    'user_id': 758,\n",
       "    'user_type': 'registered',\n",
       "    'accept_rate': 77,\n",
       "    'profile_image': 'https://www.gravatar.com/avatar/0b4adc19284ed0751844d610555dc6b2?s=128&d=identicon&r=PG',\n",
       "    'display_name': 'Mark Renouf',\n",
       "    'link': 'https://stackoverflow.com/users/758/mark-renouf'},\n",
       "   'is_accepted': False,\n",
       "   'score': 0,\n",
       "   'last_activity_date': 1218291583,\n",
       "   'creation_date': 1218291583,\n",
       "   'answer_id': 6784,\n",
       "   'question_id': 6778,\n",
       "   'content_license': 'CC BY-SA 2.5'}]}"
      ]
     },
     "execution_count": 7,
     "metadata": {},
     "output_type": "execute_result"
    }
   ],
   "source": [
    "# your code here\n",
    "answers = SITE.fetch('answers', ids=[6784, 6473])\n",
    "answers\n",
    "#there seems to be no answer with id 6437"
   ]
  },
  {
   "cell_type": "code",
   "execution_count": null,
   "metadata": {},
   "outputs": [],
   "source": []
  }
 ],
 "metadata": {
  "kernelspec": {
   "display_name": "Python 3",
   "language": "python",
   "name": "python3"
  },
  "language_info": {
   "codemirror_mode": {
    "name": "ipython",
    "version": 3
   },
   "file_extension": ".py",
   "mimetype": "text/x-python",
   "name": "python",
   "nbconvert_exporter": "python",
   "pygments_lexer": "ipython3",
   "version": "3.8.5"
  }
 },
 "nbformat": 4,
 "nbformat_minor": 4
}
