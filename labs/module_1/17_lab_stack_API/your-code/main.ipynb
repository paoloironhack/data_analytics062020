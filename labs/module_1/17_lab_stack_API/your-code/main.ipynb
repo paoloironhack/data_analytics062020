{
 "cells": [
  {
   "cell_type": "markdown",
   "metadata": {
    "Collapsed": "false"
   },
   "source": [
    "# StackAPI\n",
    "\n",
    "#### Import the necessary libraries here:"
   ]
  },
  {
   "cell_type": "code",
   "execution_count": 1,
   "metadata": {
    "Collapsed": "false"
   },
   "outputs": [],
   "source": [
    "import pandas as pd"
   ]
  },
  {
   "cell_type": "code",
   "execution_count": 3,
   "metadata": {},
   "outputs": [
    {
     "name": "stdout",
     "output_type": "stream",
     "text": [
      "Collecting stackapi\n",
      "  Downloading StackAPI-0.1.12.tar.gz (5.5 kB)\n",
      "Requirement already satisfied: requests in c:\\users\\riannerendering\\anaconda3\\lib\\site-packages (from stackapi) (2.24.0)\n",
      "Requirement already satisfied: urllib3!=1.25.0,!=1.25.1,<1.26,>=1.21.1 in c:\\users\\riannerendering\\anaconda3\\lib\\site-packages (from requests->stackapi) (1.25.9)\n",
      "Requirement already satisfied: certifi>=2017.4.17 in c:\\users\\riannerendering\\anaconda3\\lib\\site-packages (from requests->stackapi) (2020.6.20)\n",
      "Requirement already satisfied: chardet<4,>=3.0.2 in c:\\users\\riannerendering\\anaconda3\\lib\\site-packages (from requests->stackapi) (3.0.4)\n",
      "Requirement already satisfied: idna<3,>=2.5 in c:\\users\\riannerendering\\anaconda3\\lib\\site-packages (from requests->stackapi) (2.10)\n",
      "Building wheels for collected packages: stackapi\n",
      "  Building wheel for stackapi (setup.py): started\n",
      "  Building wheel for stackapi (setup.py): finished with status 'done'\n",
      "  Created wheel for stackapi: filename=StackAPI-0.1.12-py3-none-any.whl size=5673 sha256=11c455175fbc9ef6a4faa456cec002acb24d0d33dc66444c657b6537fe76d755\n",
      "  Stored in directory: c:\\users\\riannerendering\\appdata\\local\\pip\\cache\\wheels\\ad\\07\\f4\\dc7945d5a659aeca20e6a9397c49417242b8657dd32b1713d4\n",
      "Successfully built stackapi\n",
      "Installing collected packages: stackapi\n",
      "Successfully installed stackapi-0.1.12\n",
      "Note: you may need to restart the kernel to use updated packages.\n"
     ]
    }
   ],
   "source": [
    "pip install stackapi"
   ]
  },
  {
   "cell_type": "code",
   "execution_count": 4,
   "metadata": {
    "Collapsed": "false"
   },
   "outputs": [],
   "source": [
    "# import the necessary libraries here\n",
    "from stackapi import StackAPI"
   ]
  },
  {
   "cell_type": "code",
   "execution_count": 5,
   "metadata": {
    "Collapsed": "false"
   },
   "outputs": [],
   "source": [
    "# run the code below\n",
    "SITE = StackAPI('stackoverflow')\n",
    "comments = SITE.fetch('comments')"
   ]
  },
  {
   "cell_type": "markdown",
   "metadata": {
    "Collapsed": "false"
   },
   "source": [
    "Before you start with the lab, please be aware that all the relevant information regarding the StackAPI can be found here: https://stackapi.readthedocs.io/en/latest/user/advanced.html#calling-fetch-with-various-api-parameters"
   ]
  },
  {
   "cell_type": "markdown",
   "metadata": {
    "Collapsed": "false"
   },
   "source": [
    "#### Question 1: Find the questions and answers of last month.\n",
    "\n",
    "*hint*: use the fromdate and todate arguments."
   ]
  },
  {
   "cell_type": "code",
   "execution_count": 8,
   "metadata": {
    "Collapsed": "false"
   },
   "outputs": [
    {
     "data": {
      "text/plain": [
       "dict"
      ]
     },
     "execution_count": 8,
     "metadata": {},
     "output_type": "execute_result"
    }
   ],
   "source": [
    "# your code here\n",
    "type(comments)"
   ]
  },
  {
   "cell_type": "markdown",
   "metadata": {
    "Collapsed": "false"
   },
   "source": [
    "#### Question 2: Find the most voted question today with at least a score of 5 and tagged with 'python'. "
   ]
  },
  {
   "cell_type": "code",
   "execution_count": null,
   "metadata": {
    "Collapsed": "false"
   },
   "outputs": [],
   "source": [
    "# your code here\n"
   ]
  },
  {
   "cell_type": "markdown",
   "metadata": {
    "Collapsed": "false"
   },
   "source": [
    "#### Question 3: Find the answers with id 6784 and 6473."
   ]
  },
  {
   "cell_type": "code",
   "execution_count": null,
   "metadata": {
    "Collapsed": "false"
   },
   "outputs": [],
   "source": [
    "# your code here\n"
   ]
  }
 ],
 "metadata": {
  "kernelspec": {
   "display_name": "Python 3",
   "language": "python",
   "name": "python3"
  },
  "language_info": {
   "codemirror_mode": {
    "name": "ipython",
    "version": 3
   },
   "file_extension": ".py",
   "mimetype": "text/x-python",
   "name": "python",
   "nbconvert_exporter": "python",
   "pygments_lexer": "ipython3",
   "version": "3.8.3"
  }
 },
 "nbformat": 4,
 "nbformat_minor": 4
}
