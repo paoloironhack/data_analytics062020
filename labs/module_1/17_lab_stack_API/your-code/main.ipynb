{
 "cells": [
  {
   "cell_type": "markdown",
   "metadata": {
    "Collapsed": "false"
   },
   "source": [
    "# StackAPI\n",
    "\n",
    "#### Import the necessary libraries here:"
   ]
  },
  {
   "cell_type": "code",
   "execution_count": 1,
   "metadata": {
    "Collapsed": "false"
   },
   "outputs": [],
   "source": [
    "import pandas as pd\n",
    "from pandas import json_normalize\n",
    "import numpy as np\n",
    "import datetime as dt\n",
    "import time"
   ]
  },
  {
   "cell_type": "code",
   "execution_count": 2,
   "metadata": {
    "Collapsed": "false"
   },
   "outputs": [],
   "source": [
    "# import the necessary libraries here\n",
    "from stackapi import StackAPI"
   ]
  },
  {
   "cell_type": "code",
   "execution_count": 3,
   "metadata": {
    "Collapsed": "false"
   },
   "outputs": [],
   "source": [
    "# run the code below\n",
    "SITE = StackAPI('stackoverflow')\n",
    "comments = SITE.fetch('comments')"
   ]
  },
  {
   "cell_type": "markdown",
   "metadata": {
    "Collapsed": "false"
   },
   "source": [
    "Before you start with the lab, please be aware that all the relevant information regarding the StackAPI can be found here: https://stackapi.readthedocs.io/en/latest/user/advanced.html#calling-fetch-with-various-api-parameters"
   ]
  },
  {
   "cell_type": "markdown",
   "metadata": {
    "Collapsed": "false"
   },
   "source": [
    "#### Question 1: Find the questions and answers of last month.\n",
    "\n",
    "*hint*: use the fromdate and todate arguments."
   ]
  },
  {
   "cell_type": "code",
   "execution_count": 4,
   "metadata": {
    "Collapsed": "false"
   },
   "outputs": [],
   "source": [
    "# your code here\n",
    "\n",
    "low = int(time.mktime(dt.datetime(2020,8,1).timetuple()))\n",
    "high =  int(time.mktime(dt.datetime(2020,8,31).timetuple()))\n",
    "\n",
    "questions = SITE.fetch('questions', fromdate=str(int(low)), todate=str(int(high)),\n",
    "    sort='votes')\n",
    "\n",
    "answers = SITE.fetch('answers', fromdate=str(int(low)), todate=str(int(high)),\n",
    "    sort='votes')"
   ]
  },
  {
   "cell_type": "markdown",
   "metadata": {
    "Collapsed": "false"
   },
   "source": [
    "#### Question 2: Find the most voted question today with at least a score of 5 and tagged with 'python'. "
   ]
  },
  {
   "cell_type": "code",
   "execution_count": 5,
   "metadata": {
    "Collapsed": "false"
   },
   "outputs": [
    {
     "data": {
      "text/html": [
       "<div>\n",
       "<style scoped>\n",
       "    .dataframe tbody tr th:only-of-type {\n",
       "        vertical-align: middle;\n",
       "    }\n",
       "\n",
       "    .dataframe tbody tr th {\n",
       "        vertical-align: top;\n",
       "    }\n",
       "\n",
       "    .dataframe thead th {\n",
       "        text-align: right;\n",
       "    }\n",
       "</style>\n",
       "<table border=\"1\" class=\"dataframe\">\n",
       "  <thead>\n",
       "    <tr style=\"text-align: right;\">\n",
       "      <th></th>\n",
       "      <th>0</th>\n",
       "    </tr>\n",
       "  </thead>\n",
       "  <tbody>\n",
       "    <tr>\n",
       "      <th>tags</th>\n",
       "      <td>[python, scikit-learn, fuzzy-logic]</td>\n",
       "    </tr>\n",
       "    <tr>\n",
       "      <th>owner</th>\n",
       "      <td>{'reputation': 73, 'user_id': 14115958, 'user_...</td>\n",
       "    </tr>\n",
       "    <tr>\n",
       "      <th>is_answered</th>\n",
       "      <td>True</td>\n",
       "    </tr>\n",
       "    <tr>\n",
       "      <th>view_count</th>\n",
       "      <td>56</td>\n",
       "    </tr>\n",
       "    <tr>\n",
       "      <th>accepted_answer_id</th>\n",
       "      <td>63442903</td>\n",
       "    </tr>\n",
       "    <tr>\n",
       "      <th>answer_count</th>\n",
       "      <td>2</td>\n",
       "    </tr>\n",
       "    <tr>\n",
       "      <th>score</th>\n",
       "      <td>7</td>\n",
       "    </tr>\n",
       "    <tr>\n",
       "      <th>last_activity_date</th>\n",
       "      <td>1597676638</td>\n",
       "    </tr>\n",
       "    <tr>\n",
       "      <th>creation_date</th>\n",
       "      <td>1597610694</td>\n",
       "    </tr>\n",
       "    <tr>\n",
       "      <th>last_edit_date</th>\n",
       "      <td>1597676638</td>\n",
       "    </tr>\n",
       "    <tr>\n",
       "      <th>question_id</th>\n",
       "      <td>63441764</td>\n",
       "    </tr>\n",
       "    <tr>\n",
       "      <th>content_license</th>\n",
       "      <td>CC BY-SA 4.0</td>\n",
       "    </tr>\n",
       "    <tr>\n",
       "      <th>link</th>\n",
       "      <td>https://stackoverflow.com/questions/63441764/c...</td>\n",
       "    </tr>\n",
       "    <tr>\n",
       "      <th>title</th>\n",
       "      <td>Calling a function with unknown number of para...</td>\n",
       "    </tr>\n",
       "  </tbody>\n",
       "</table>\n",
       "</div>"
      ],
      "text/plain": [
       "                                                                    0\n",
       "tags                              [python, scikit-learn, fuzzy-logic]\n",
       "owner               {'reputation': 73, 'user_id': 14115958, 'user_...\n",
       "is_answered                                                      True\n",
       "view_count                                                         56\n",
       "accepted_answer_id                                           63442903\n",
       "answer_count                                                        2\n",
       "score                                                               7\n",
       "last_activity_date                                         1597676638\n",
       "creation_date                                              1597610694\n",
       "last_edit_date                                             1597676638\n",
       "question_id                                                  63441764\n",
       "content_license                                          CC BY-SA 4.0\n",
       "link                https://stackoverflow.com/questions/63441764/c...\n",
       "title               Calling a function with unknown number of para..."
      ]
     },
     "execution_count": 5,
     "metadata": {},
     "output_type": "execute_result"
    }
   ],
   "source": [
    "# your code herep\n",
    "low = int(time.mktime(dt.datetime(dt.datetime.now().year,dt.datetime.now().month,dt.datetime.now().day-1).timetuple()))\n",
    "high =  int(time.mktime(dt.datetime(dt.datetime.now().year,dt.datetime.now().month,dt.datetime.now().day).timetuple()))\n",
    "\n",
    "data = SITE.fetch('questions', fromdate=str(int(low)), todate=str(int(high)),\n",
    "    min=5, tagged='python', sort='votes')\n",
    "\n",
    "df = pd.DataFrame(data['items'])\n",
    "\n",
    "pd.DataFrame(df[df['score'] >= 5].sort_values('score',ascending=False).loc[0])"
   ]
  },
  {
   "cell_type": "markdown",
   "metadata": {
    "Collapsed": "false"
   },
   "source": [
    "#### Question 3: Find the answers with id 6784 and 6473."
   ]
  },
  {
   "cell_type": "code",
   "execution_count": 6,
   "metadata": {
    "Collapsed": "false"
   },
   "outputs": [
    {
     "data": {
      "text/html": [
       "<div>\n",
       "<style scoped>\n",
       "    .dataframe tbody tr th:only-of-type {\n",
       "        vertical-align: middle;\n",
       "    }\n",
       "\n",
       "    .dataframe tbody tr th {\n",
       "        vertical-align: top;\n",
       "    }\n",
       "\n",
       "    .dataframe thead th {\n",
       "        text-align: right;\n",
       "    }\n",
       "</style>\n",
       "<table border=\"1\" class=\"dataframe\">\n",
       "  <thead>\n",
       "    <tr style=\"text-align: right;\">\n",
       "      <th></th>\n",
       "      <th>owner</th>\n",
       "      <th>is_accepted</th>\n",
       "      <th>score</th>\n",
       "      <th>last_activity_date</th>\n",
       "      <th>creation_date</th>\n",
       "      <th>answer_id</th>\n",
       "      <th>question_id</th>\n",
       "      <th>content_license</th>\n",
       "    </tr>\n",
       "  </thead>\n",
       "  <tbody>\n",
       "    <tr>\n",
       "      <th>0</th>\n",
       "      <td>{'reputation': 29035, 'user_id': 758, 'user_ty...</td>\n",
       "      <td>False</td>\n",
       "      <td>0</td>\n",
       "      <td>1218291583</td>\n",
       "      <td>1218291583</td>\n",
       "      <td>6784</td>\n",
       "      <td>6778</td>\n",
       "      <td>CC BY-SA 2.5</td>\n",
       "    </tr>\n",
       "  </tbody>\n",
       "</table>\n",
       "</div>"
      ],
      "text/plain": [
       "                                               owner  is_accepted  score  \\\n",
       "0  {'reputation': 29035, 'user_id': 758, 'user_ty...        False      0   \n",
       "\n",
       "   last_activity_date  creation_date  answer_id  question_id content_license  \n",
       "0          1218291583     1218291583       6784         6778    CC BY-SA 2.5  "
      ]
     },
     "execution_count": 6,
     "metadata": {},
     "output_type": "execute_result"
    }
   ],
   "source": [
    "answers = SITE.fetch('answers', ids=[6784, 6473],\n",
    "    sort='votes')\n",
    "\n",
    "df2 = pd.DataFrame(answers['items'])\n",
    "df2\n",
    "\n",
    "###there is no answer_id 6473"
   ]
  }
 ],
 "metadata": {
  "kernelspec": {
   "display_name": "Python 3",
   "language": "python",
   "name": "python3"
  },
  "language_info": {
   "codemirror_mode": {
    "name": "ipython",
    "version": 3
   },
   "file_extension": ".py",
   "mimetype": "text/x-python",
   "name": "python",
   "nbconvert_exporter": "python",
   "pygments_lexer": "ipython3",
   "version": "3.8.3"
  }
 },
 "nbformat": 4,
 "nbformat_minor": 4
}
