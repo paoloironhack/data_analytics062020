{
 "cells": [
  {
   "cell_type": "markdown",
   "metadata": {
    "Collapsed": "false"
   },
   "source": [
    "# StackAPI\n",
    "\n",
    "#### Import the necessary libraries here:"
   ]
  },
  {
   "cell_type": "code",
   "execution_count": 3,
   "metadata": {
    "Collapsed": "false"
   },
   "outputs": [],
   "source": [
    "# import the necessary libraries here\n",
    "import pandas as pd\n",
    "from stackapi import StackAPI\n",
    "import datetime"
   ]
  },
  {
   "cell_type": "code",
   "execution_count": 4,
   "metadata": {
    "Collapsed": "false"
   },
   "outputs": [],
   "source": [
    "# run the code below\n",
    "SITE = StackAPI('stackoverflow')\n",
    "comments = SITE.fetch('comments')\n",
    "questions = SITE.fetch('questions')\n",
    "answers = SITE.fetch('answers')"
   ]
  },
  {
   "cell_type": "markdown",
   "metadata": {
    "Collapsed": "false"
   },
   "source": [
    "Before you start with the lab, please be aware that all the relevant information regarding the StackAPI can be found here: https://stackapi.readthedocs.io/en/latest/user/advanced.html#calling-fetch-with-various-api-parameters"
   ]
  },
  {
   "cell_type": "markdown",
   "metadata": {
    "Collapsed": "false"
   },
   "source": [
    "#### Question 1: Find the questions and answers of last month.\n",
    "\n",
    "*hint*: use the fromdate and todate arguments."
   ]
  },
  {
   "cell_type": "code",
   "execution_count": 5,
   "metadata": {
    "Collapsed": "false"
   },
   "outputs": [
    {
     "name": "stdout",
     "output_type": "stream",
     "text": [
      "Dataframe Comments:\n",
      "     backoff  has_more  page  quota_max  quota_remaining  total  \\\n",
      "0          0      True     5        300              300      0   \n",
      "1          0      True     5        300              300      0   \n",
      "2          0      True     5        300              300      0   \n",
      "3          0      True     5        300              300      0   \n",
      "4          0      True     5        300              300      0   \n",
      "..       ...       ...   ...        ...              ...    ...   \n",
      "495        0      True     5        300              300      0   \n",
      "496        0      True     5        300              300      0   \n",
      "497        0      True     5        300              300      0   \n",
      "498        0      True     5        300              300      0   \n",
      "499        0      True     5        300              300      0   \n",
      "\n",
      "                                                 items  \n",
      "0    {'owner': {'reputation': 804, 'user_id': 11229...  \n",
      "1    {'owner': {'reputation': 953, 'user_id': 10810...  \n",
      "2    {'owner': {'reputation': 2314, 'user_id': 6397...  \n",
      "3    {'owner': {'reputation': 63, 'user_id': 925329...  \n",
      "4    {'owner': {'reputation': 67736, 'user_id': 542...  \n",
      "..                                                 ...  \n",
      "495  {'owner': {'reputation': 94312, 'user_id': 103...  \n",
      "496  {'owner': {'reputation': 3735, 'user_id': 8987...  \n",
      "497  {'owner': {'reputation': 13, 'user_id': 766627...  \n",
      "498  {'owner': {'reputation': 3808, 'user_id': 1264...  \n",
      "499  {'owner': {'reputation': 15896, 'user_id': 408...  \n",
      "\n",
      "[500 rows x 7 columns]\n",
      "\n",
      "\n",
      "Dataframe Questions:\n",
      "     backoff  has_more  page  quota_max  quota_remaining  total  \\\n",
      "0          0      True     5        300              300      0   \n",
      "1          0      True     5        300              300      0   \n",
      "2          0      True     5        300              300      0   \n",
      "3          0      True     5        300              300      0   \n",
      "4          0      True     5        300              300      0   \n",
      "..       ...       ...   ...        ...              ...    ...   \n",
      "495        0      True     5        300              300      0   \n",
      "496        0      True     5        300              300      0   \n",
      "497        0      True     5        300              300      0   \n",
      "498        0      True     5        300              300      0   \n",
      "499        0      True     5        300              300      0   \n",
      "\n",
      "                                                 items  \n",
      "0    {'tags': ['delphi', 'transactions', 'firebird'...  \n",
      "1    {'tags': ['ruby-on-rails', 'docker', 'nginx', ...  \n",
      "2    {'tags': ['javascript', 'android-studio', 'and...  \n",
      "3    {'tags': ['spring', 'rabbitmq', 'spring-integr...  \n",
      "4    {'tags': ['python', 'python-3.x', 'args'], 'ow...  \n",
      "..                                                 ...  \n",
      "495  {'tags': ['python', 'machine-learning', 'sciki...  \n",
      "496  {'tags': ['android', 'wifi', 'wireshark', 'sni...  \n",
      "497  {'tags': ['python-3.x', 'django', 'cron', 'dja...  \n",
      "498  {'tags': ['bash', 'shell'], 'owner': {'reputat...  \n",
      "499  {'tags': ['angular'], 'owner': {'reputation': ...  \n",
      "\n",
      "[500 rows x 7 columns]\n",
      "\n",
      "\n",
      "Dataframe Answers:\n",
      "     backoff  has_more  page  quota_max  quota_remaining  total  \\\n",
      "0         10      True     5        300              300      0   \n",
      "1         10      True     5        300              300      0   \n",
      "2         10      True     5        300              300      0   \n",
      "3         10      True     5        300              300      0   \n",
      "4         10      True     5        300              300      0   \n",
      "..       ...       ...   ...        ...              ...    ...   \n",
      "495       10      True     5        300              300      0   \n",
      "496       10      True     5        300              300      0   \n",
      "497       10      True     5        300              300      0   \n",
      "498       10      True     5        300              300      0   \n",
      "499       10      True     5        300              300      0   \n",
      "\n",
      "                                                 items  \n",
      "0    {'owner': {'reputation': 1, 'user_id': 1340099...  \n",
      "1    {'owner': {'reputation': 9048, 'user_id': 6197...  \n",
      "2    {'owner': {'reputation': 63815, 'user_id': 286...  \n",
      "3    {'owner': {'reputation': 2009, 'user_id': 1891...  \n",
      "4    {'owner': {'reputation': 2207, 'user_id': 2373...  \n",
      "..                                                 ...  \n",
      "495  {'owner': {'reputation': 13, 'user_id': 102679...  \n",
      "496  {'owner': {'reputation': 185, 'user_id': 11256...  \n",
      "497  {'owner': {'reputation': 2339, 'user_id': 1029...  \n",
      "498  {'owner': {'reputation': 6082, 'user_id': 5368...  \n",
      "499  {'owner': {'reputation': 21, 'user_id': 548565...  \n",
      "\n",
      "[500 rows x 7 columns]\n"
     ]
    }
   ],
   "source": [
    "#check data\n",
    "print('Dataframe Comments:')\n",
    "print(pd.DataFrame(comments))\n",
    "print('\\n')\n",
    "print('Dataframe Questions:')\n",
    "print(pd.DataFrame(questions))\n",
    "print('\\n')\n",
    "print('Dataframe Answers:')\n",
    "print(pd.DataFrame(answers))"
   ]
  },
  {
   "cell_type": "code",
   "execution_count": 6,
   "metadata": {
    "Collapsed": "false"
   },
   "outputs": [
    {
     "name": "stdout",
     "output_type": "stream",
     "text": [
      "     backoff  has_more  page  quota_max  quota_remaining  total  \\\n",
      "0          0      True     5        300              300      0   \n",
      "1          0      True     5        300              300      0   \n",
      "2          0      True     5        300              300      0   \n",
      "3          0      True     5        300              300      0   \n",
      "4          0      True     5        300              300      0   \n",
      "..       ...       ...   ...        ...              ...    ...   \n",
      "495        0      True     5        300              300      0   \n",
      "496        0      True     5        300              300      0   \n",
      "497        0      True     5        300              300      0   \n",
      "498        0      True     5        300              300      0   \n",
      "499        0      True     5        300              300      0   \n",
      "\n",
      "                                                 items  \n",
      "0    {'tags': ['javascript', 'node-modules', 'fs', ...  \n",
      "1    {'tags': ['process', 'port', 'communication', ...  \n",
      "2    {'tags': ['privileges', 'google-admin-sdk', 'a...  \n",
      "3    {'tags': ['php', 'docker', 'ldap', 'alpine', '...  \n",
      "4    {'tags': ['vb.net', 'barcode'], 'owner': {'rep...  \n",
      "..                                                 ...  \n",
      "495  {'tags': ['node.js', 'authentication', 'passpo...  \n",
      "496  {'tags': ['java', 'youtube', 'youtube-api', 'y...  \n",
      "497  {'tags': ['linux', 'docker', 'kubernetes', 'we...  \n",
      "498  {'tags': ['c#', 'filter', 'filenames'], 'owner...  \n",
      "499  {'tags': ['visual-studio-code', 'vscode-settin...  \n",
      "\n",
      "[500 rows x 7 columns]\n"
     ]
    }
   ],
   "source": [
    "questions = SITE.fetch('questions', fromdate=datetime.datetime(2020,7,1,0,0), todate=datetime.datetime(2020,7,31))\n",
    "data = pd.DataFrame(questions)\n",
    "print(data)"
   ]
  },
  {
   "cell_type": "code",
   "execution_count": 7,
   "metadata": {
    "Collapsed": "false"
   },
   "outputs": [
    {
     "name": "stdout",
     "output_type": "stream",
     "text": [
      "     backoff  has_more  page  quota_max  quota_remaining  total  \\\n",
      "0          0      True     5        300              300      0   \n",
      "1          0      True     5        300              300      0   \n",
      "2          0      True     5        300              300      0   \n",
      "3          0      True     5        300              300      0   \n",
      "4          0      True     5        300              300      0   \n",
      "..       ...       ...   ...        ...              ...    ...   \n",
      "495        0      True     5        300              300      0   \n",
      "496        0      True     5        300              300      0   \n",
      "497        0      True     5        300              300      0   \n",
      "498        0      True     5        300              300      0   \n",
      "499        0      True     5        300              300      0   \n",
      "\n",
      "                                                 items  \n",
      "0    {'owner': {'reputation': 11, 'user_id': 139864...  \n",
      "1    {'owner': {'reputation': 2558, 'user_id': 4291...  \n",
      "2    {'owner': {'reputation': 1, 'user_id': 5601858...  \n",
      "3    {'owner': {'reputation': 85315, 'user_id': 102...  \n",
      "4    {'owner': {'reputation': 11, 'user_id': 139437...  \n",
      "..                                                 ...  \n",
      "495  {'owner': {'reputation': 1376, 'user_id': 6037...  \n",
      "496  {'owner': {'reputation': 616, 'user_id': 15632...  \n",
      "497  {'owner': {'reputation': 15460, 'user_id': 974...  \n",
      "498  {'owner': {'reputation': 703, 'user_id': 13566...  \n",
      "499  {'owner': {'reputation': 36004, 'user_id': 711...  \n",
      "\n",
      "[500 rows x 7 columns]\n"
     ]
    }
   ],
   "source": [
    "answers = SITE.fetch('answers', fromdate=datetime.date(2020,7,1), todate=datetime.date(2020,7,31))\n",
    "data = pd.DataFrame(answers)\n",
    "print(data)"
   ]
  },
  {
   "cell_type": "markdown",
   "metadata": {
    "Collapsed": "false"
   },
   "source": [
    "#### Question 2: Find the most voted question today with at least a score of 5 and tagged with 'python'. "
   ]
  },
  {
   "cell_type": "code",
   "execution_count": 8,
   "metadata": {
    "Collapsed": "false"
   },
   "outputs": [
    {
     "data": {
      "text/plain": [
       "{'tags': ['python', 'iterator', 'generator', 'yield', 'coroutine'],\n",
       " 'owner': {'reputation': 118040,\n",
       "  'user_id': 18300,\n",
       "  'user_type': 'registered',\n",
       "  'accept_rate': 92,\n",
       "  'profile_image': 'https://i.stack.imgur.com/jcyI4.jpg?s=128&g=1',\n",
       "  'display_name': 'Alex. S.',\n",
       "  'link': 'https://stackoverflow.com/users/18300/alex-s'},\n",
       " 'is_answered': True,\n",
       " 'view_count': 2281572,\n",
       " 'protected_date': 1360547307,\n",
       " 'accepted_answer_id': 231855,\n",
       " 'answer_count': 42,\n",
       " 'score': 10430,\n",
       " 'last_activity_date': 1598089857,\n",
       " 'creation_date': 1224800471,\n",
       " 'last_edit_date': 1582751053,\n",
       " 'question_id': 231767,\n",
       " 'content_license': 'CC BY-SA 4.0',\n",
       " 'link': 'https://stackoverflow.com/questions/231767/what-does-the-yield-keyword-do',\n",
       " 'title': 'What does the &quot;yield&quot; keyword do?'}"
      ]
     },
     "execution_count": 8,
     "metadata": {},
     "output_type": "execute_result"
    }
   ],
   "source": [
    "# your code here\n",
    "most_voted = SITE.fetch('questions', date = datetime.date(2020,8,20), min = 5, tagged = 'python', sort = 'votes')\n",
    "most_voted['items'][0]"
   ]
  },
  {
   "cell_type": "markdown",
   "metadata": {
    "Collapsed": "false"
   },
   "source": [
    "#### Question 3: Find the answers with id 6784 and 6473."
   ]
  },
  {
   "cell_type": "code",
   "execution_count": 9,
   "metadata": {
    "Collapsed": "false"
   },
   "outputs": [
    {
     "data": {
      "text/plain": [
       "{'backoff': 0,\n",
       " 'has_more': False,\n",
       " 'page': 1,\n",
       " 'quota_max': 300,\n",
       " 'quota_remaining': 300,\n",
       " 'total': 0,\n",
       " 'items': [{'owner': {'reputation': 29045,\n",
       "    'user_id': 758,\n",
       "    'user_type': 'registered',\n",
       "    'accept_rate': 77,\n",
       "    'profile_image': 'https://www.gravatar.com/avatar/0b4adc19284ed0751844d610555dc6b2?s=128&d=identicon&r=PG',\n",
       "    'display_name': 'Mark Renouf',\n",
       "    'link': 'https://stackoverflow.com/users/758/mark-renouf'},\n",
       "   'is_accepted': False,\n",
       "   'score': 0,\n",
       "   'last_activity_date': 1218291583,\n",
       "   'creation_date': 1218291583,\n",
       "   'answer_id': 6784,\n",
       "   'question_id': 6778,\n",
       "   'content_license': 'CC BY-SA 2.5'}]}"
      ]
     },
     "execution_count": 9,
     "metadata": {},
     "output_type": "execute_result"
    }
   ],
   "source": [
    "# your code here\n",
    "answers = SITE.fetch('answers', ids=[6784, 6473])\n",
    "answers\n",
    "#there seems to be no answer with id 6437"
   ]
  },
  {
   "cell_type": "code",
   "execution_count": 10,
   "metadata": {
    "Collapsed": "false"
   },
   "outputs": [],
   "source": [
    "#paolo: check"
   ]
  }
 ],
 "metadata": {
  "kernelspec": {
   "display_name": "Python 3",
   "language": "python",
   "name": "python3"
  },
  "language_info": {
   "codemirror_mode": {
    "name": "ipython",
    "version": 3
   },
   "file_extension": ".py",
   "mimetype": "text/x-python",
   "name": "python",
   "nbconvert_exporter": "python",
   "pygments_lexer": "ipython3",
   "version": "3.7.6"
  }
 },
 "nbformat": 4,
 "nbformat_minor": 4
}
