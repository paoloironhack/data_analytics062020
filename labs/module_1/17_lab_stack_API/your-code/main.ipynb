{
 "cells": [
  {
   "cell_type": "markdown",
   "metadata": {
    "Collapsed": "false"
   },
   "source": [
    "# StackAPI\n",
    "\n",
    "#### Import the necessary libraries here:"
   ]
  },
  {
   "cell_type": "code",
   "execution_count": 1,
   "metadata": {
    "Collapsed": "false"
   },
   "outputs": [],
   "source": [
    "import pandas as pd"
   ]
  },
  {
   "cell_type": "code",
   "execution_count": 4,
   "metadata": {},
   "outputs": [
    {
     "name": "stdout",
     "output_type": "stream",
     "text": [
      "Collecting StackAPI\n",
      "  Downloading StackAPI-0.1.12.tar.gz (5.5 kB)\n",
      "Requirement already satisfied: requests in /usr/local/Cellar/jupyterlab/2.1.2/libexec/lib/python3.8/site-packages (from StackAPI) (2.23.0)\n",
      "Requirement already satisfied: chardet<4,>=3.0.2 in /usr/local/Cellar/jupyterlab/2.1.2/libexec/lib/python3.8/site-packages (from requests->StackAPI) (3.0.4)\n",
      "Requirement already satisfied: idna<3,>=2.5 in /usr/local/Cellar/jupyterlab/2.1.2/libexec/lib/python3.8/site-packages (from requests->StackAPI) (2.9)\n",
      "Requirement already satisfied: urllib3!=1.25.0,!=1.25.1,<1.26,>=1.21.1 in /usr/local/Cellar/jupyterlab/2.1.2/libexec/lib/python3.8/site-packages (from requests->StackAPI) (1.25.9)\n",
      "Requirement already satisfied: certifi>=2017.4.17 in /usr/local/Cellar/jupyterlab/2.1.2/libexec/lib/python3.8/site-packages (from requests->StackAPI) (2020.6.20)\n",
      "Building wheels for collected packages: StackAPI\n",
      "  Building wheel for StackAPI (setup.py) ... \u001b[?25ldone\n",
      "\u001b[?25h  Created wheel for StackAPI: filename=StackAPI-0.1.12-py3-none-any.whl size=5668 sha256=535a66797017d1e4f0933ccc4ab1e474c9bcbb9f5d202881cfeca963dc9ba0de\n",
      "  Stored in directory: /Users/mac/Library/Caches/pip/wheels/ad/07/f4/dc7945d5a659aeca20e6a9397c49417242b8657dd32b1713d4\n",
      "Successfully built StackAPI\n",
      "Installing collected packages: StackAPI\n",
      "Successfully installed StackAPI-0.1.12\n",
      "\u001b[33mWARNING: You are using pip version 20.1; however, version 20.2.2 is available.\n",
      "You should consider upgrading via the '/usr/local/Cellar/jupyterlab/2.1.2/libexec/bin/python3.8 -m pip install --upgrade pip' command.\u001b[0m\n",
      "Note: you may need to restart the kernel to use updated packages.\n"
     ]
    }
   ],
   "source": [
    "pip install StackAPI"
   ]
  },
  {
   "cell_type": "code",
   "execution_count": 5,
   "metadata": {
    "Collapsed": "false"
   },
   "outputs": [],
   "source": [
    "# import the necessary libraries here\n",
    "\n",
    "from stackapi import StackAPI"
   ]
  },
  {
   "cell_type": "code",
   "execution_count": 6,
   "metadata": {
    "Collapsed": "false"
   },
   "outputs": [],
   "source": [
    "# run the code below\n",
    "SITE = StackAPI('stackoverflow')\n",
    "comments = SITE.fetch('comments')"
   ]
  },
  {
   "cell_type": "markdown",
   "metadata": {
    "Collapsed": "false"
   },
   "source": [
    "Before you start with the lab, please be aware that all the relevant information regarding the StackAPI can be found here: https://stackapi.readthedocs.io/en/latest/user/advanced.html#calling-fetch-with-various-api-parameters"
   ]
  },
  {
   "cell_type": "markdown",
   "metadata": {
    "Collapsed": "false"
   },
   "source": [
    "#### Question 1: Find the questions and answers of last month.\n",
    "\n",
    "*hint*: use the fromdate and todate arguments."
   ]
  },
  {
   "cell_type": "code",
   "execution_count": 7,
   "metadata": {
    "Collapsed": "false"
   },
   "outputs": [],
   "source": [
    "# your code here\n",
    "import time\n",
    "from datetime import date, datetime, timedelta\n",
    "\n",
    "target_date = date.today() - timedelta(days=30)\n",
    "last_month_unixtime = int(time.mktime(target_date.timetuple()))\n",
    "current_unixtime = int(time.time())\n",
    "\n",
    "comments = SITE.fetch('comments', fromdate=last_month_unixtime, todate=current_unixtime)"
   ]
  },
  {
   "cell_type": "markdown",
   "metadata": {
    "Collapsed": "false"
   },
   "source": [
    "#### Question 2: Find the most voted question today with at least a score of 5 and tagged with 'python'. "
   ]
  },
  {
   "cell_type": "code",
   "execution_count": 8,
   "metadata": {
    "Collapsed": "false"
   },
   "outputs": [],
   "source": [
    "# your code here\n",
    "target_date = date.today() - timedelta(days=1)\n",
    "last_month_unixtime = int(time.mktime(target_date.timetuple()))\n",
    "current_unixtime = int(time.time())\n",
    "\n",
    "comments = SITE.fetch('comments', fromdate=last_month_unixtime, todate=current_unixtime, tagged='python', sort='votes')"
   ]
  },
  {
   "cell_type": "markdown",
   "metadata": {
    "Collapsed": "false"
   },
   "source": [
    "#### Question 3: Find the answers with id 6784 and 6473."
   ]
  },
  {
   "cell_type": "code",
   "execution_count": 13,
   "metadata": {
    "Collapsed": "false"
   },
   "outputs": [],
   "source": [
    "# your code here\n",
    "#I tried this code, but it said it was invalid syntax. #commets_id=SITE.fetch('comments',id=[6783:6474])\n",
    "commets_id=SITE.fetch('comments',id=[6783])"
   ]
  }
 ],
 "metadata": {
  "kernelspec": {
   "display_name": "Python 3",
   "language": "python",
   "name": "python3"
  },
  "language_info": {
   "codemirror_mode": {
    "name": "ipython",
    "version": 3
   },
   "file_extension": ".py",
   "mimetype": "text/x-python",
   "name": "python",
   "nbconvert_exporter": "python",
   "pygments_lexer": "ipython3",
   "version": "3.8.2"
  }
 },
 "nbformat": 4,
 "nbformat_minor": 4
}
