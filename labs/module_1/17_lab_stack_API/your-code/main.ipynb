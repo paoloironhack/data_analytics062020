{
 "cells": [
  {
   "cell_type": "markdown",
   "metadata": {
    "Collapsed": "false"
   },
   "source": [
    "# StackAPI\n",
    "\n",
    "#### Import the necessary libraries here:"
   ]
  },
  {
   "cell_type": "code",
   "execution_count": 1,
   "metadata": {
    "Collapsed": "false"
   },
   "outputs": [],
   "source": [
    "import pandas as pd"
   ]
  },
  {
   "cell_type": "code",
   "execution_count": 2,
   "metadata": {
    "Collapsed": "false"
   },
   "outputs": [],
   "source": [
    "# import the necessary libraries here\n",
    "from stackapi import StackAPI"
   ]
  },
  {
   "cell_type": "code",
   "execution_count": 3,
   "metadata": {
    "Collapsed": "false"
   },
   "outputs": [],
   "source": [
    "# run the code below\n",
    "SITE = StackAPI('stackoverflow')\n",
    "comments = SITE.fetch('comments')"
   ]
  },
  {
   "cell_type": "markdown",
   "metadata": {
    "Collapsed": "false"
   },
   "source": [
    "Before you start with the lab, please be aware that all the relevant information regarding the StackAPI can be found here: https://stackapi.readthedocs.io/en/latest/user/advanced.html#calling-fetch-with-various-api-parameters"
   ]
  },
  {
   "cell_type": "markdown",
   "metadata": {
    "Collapsed": "false"
   },
   "source": [
    "#### Question 1: Find the questions and answers of last month.\n",
    "\n",
    "*hint*: use the fromdate and todate arguments."
   ]
  },
  {
   "cell_type": "code",
   "execution_count": 4,
   "metadata": {
    "Collapsed": "false"
   },
   "outputs": [],
   "source": [
    "# your code here\n",
    "#Inpsect data\n",
    "#comments"
   ]
  },
  {
   "cell_type": "code",
   "execution_count": 23,
   "metadata": {
    "Collapsed": "false"
   },
   "outputs": [],
   "source": [
    "#Last month (July) comments with from/todate\n",
    "comments_lastmonth = SITE.fetch('comments', fromdate='2020-07-01', todate='2020-07-31')\n",
    "#comments_lastmonth\n",
    "#paolo:ok but notice challenge is about answers and questions, not comments"
   ]
  },
  {
   "cell_type": "markdown",
   "metadata": {
    "Collapsed": "false"
   },
   "source": [
    "#### Question 2: Find the most voted question today with at least a score of 5 and tagged with 'python'. "
   ]
  },
  {
   "cell_type": "code",
   "execution_count": 24,
   "metadata": {
    "Collapsed": "false"
   },
   "outputs": [],
   "source": [
    "# your code here\n",
    "comments_today = SITE.fetch('comments', fromdate='2020-08-24', min=5, tagged='python')\n",
    "#comments_today\n",
    "#paolo: please notice this challenge is about questions not comments. Also, if you look at the printout\n",
    "# you see that that you have score 0 at least in the first few entries, while the minimum should be 5.\n",
    "#Why? try  to add the 'sort' key"
   ]
  },
  {
   "cell_type": "markdown",
   "metadata": {
    "Collapsed": "false"
   },
   "source": [
    "#### Question 3: Find the answers with id 6784 and 6473."
   ]
  },
  {
   "cell_type": "code",
   "execution_count": 17,
   "metadata": {
    "Collapsed": "false"
   },
   "outputs": [
    {
     "data": {
      "text/plain": [
       "{'backoff': 0,\n",
       " 'has_more': False,\n",
       " 'page': 1,\n",
       " 'quota_max': 300,\n",
       " 'quota_remaining': 300,\n",
       " 'total': 0,\n",
       " 'items': [{'owner': {'reputation': 21863,\n",
       "    'user_id': 7705,\n",
       "    'user_type': 'registered',\n",
       "    'accept_rate': 62,\n",
       "    'profile_image': 'https://www.gravatar.com/avatar/9475e7d0a30de531c27abcc24cd833c4?s=128&d=identicon&r=PG',\n",
       "    'display_name': 'Charles Graham',\n",
       "    'link': 'https://stackoverflow.com/users/7705/charles-graham'},\n",
       "   'edited': False,\n",
       "   'score': 0,\n",
       "   'creation_date': 1221542647,\n",
       "   'post_id': 60126,\n",
       "   'comment_id': 6784,\n",
       "   'content_license': 'CC BY-SA 2.5'},\n",
       "  {'owner': {'reputation': 5993,\n",
       "    'user_id': 3499,\n",
       "    'user_type': 'registered',\n",
       "    'accept_rate': 78,\n",
       "    'profile_image': 'https://www.gravatar.com/avatar/5c4aa7c1ae1612b28bba23c28cba6a13?s=128&d=identicon&r=PG',\n",
       "    'display_name': 'hoyhoy',\n",
       "    'link': 'https://stackoverflow.com/users/3499/hoyhoy'},\n",
       "   'edited': False,\n",
       "   'score': 0,\n",
       "   'creation_date': 1221528898,\n",
       "   'post_id': 68388,\n",
       "   'comment_id': 6473,\n",
       "   'content_license': 'CC BY-SA 2.5'}]}"
      ]
     },
     "execution_count": 17,
     "metadata": {},
     "output_type": "execute_result"
    }
   ],
   "source": [
    "# your code here\n",
    "answers_ids = SITE.fetch('comments', ids=[6784, 6473])\n",
    "answers_ids\n",
    "#paolo:yes, good work you can also check also from the printout that the requested ids\n",
    "# are present. Notice though that you were requested the answers, not the comments\n",
    "# so you should have fetched the answers, 'answers'"
   ]
  },
  {
   "cell_type": "code",
   "execution_count": 25,
   "metadata": {
    "Collapsed": "false"
   },
   "outputs": [],
   "source": [
    "#paolo: feedback added, good overall"
   ]
  }
 ],
 "metadata": {
  "kernelspec": {
   "display_name": "Python 3",
   "language": "python",
   "name": "python3"
  },
  "language_info": {
   "codemirror_mode": {
    "name": "ipython",
    "version": 3
   },
   "file_extension": ".py",
   "mimetype": "text/x-python",
   "name": "python",
   "nbconvert_exporter": "python",
   "pygments_lexer": "ipython3",
   "version": "3.7.6"
  }
 },
 "nbformat": 4,
 "nbformat_minor": 4
}
