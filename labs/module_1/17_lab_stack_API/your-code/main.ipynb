{
 "cells": [
  {
   "cell_type": "markdown",
   "metadata": {
    "Collapsed": "false"
   },
   "source": [
    "# StackAPI\n",
    "\n",
    "#### Import the necessary libraries here:"
   ]
  },
  {
   "cell_type": "code",
   "execution_count": 1,
   "metadata": {
    "Collapsed": "false"
   },
   "outputs": [],
   "source": [
    "import pandas as pd"
   ]
  },
  {
   "cell_type": "code",
   "execution_count": 2,
   "metadata": {
    "Collapsed": "false"
   },
   "outputs": [
    {
     "name": "stdout",
     "output_type": "stream",
     "text": [
      "Requirement already satisfied: StackAPI in c:\\programdata\\anaconda3\\lib\\site-packages (0.1.12)\n",
      "Requirement already satisfied: requests in c:\\programdata\\anaconda3\\lib\\site-packages (from StackAPI) (2.22.0)\n",
      "Requirement already satisfied: urllib3!=1.25.0,!=1.25.1,<1.26,>=1.21.1 in c:\\programdata\\anaconda3\\lib\\site-packages (from requests->StackAPI) (1.25.8)\n",
      "Requirement already satisfied: certifi>=2017.4.17 in c:\\programdata\\anaconda3\\lib\\site-packages (from requests->StackAPI) (2020.6.20)\n",
      "Requirement already satisfied: chardet<3.1.0,>=3.0.2 in c:\\programdata\\anaconda3\\lib\\site-packages (from requests->StackAPI) (3.0.4)\n",
      "Requirement already satisfied: idna<2.9,>=2.5 in c:\\programdata\\anaconda3\\lib\\site-packages (from requests->StackAPI) (2.8)\n",
      "Note: you may need to restart the kernel to use updated packages.\n"
     ]
    }
   ],
   "source": [
    "pip install StackAPI\n",
    "#paolo: good trick to use pipi install in jupyter notebook"
   ]
  },
  {
   "cell_type": "code",
   "execution_count": 3,
   "metadata": {
    "Collapsed": "false"
   },
   "outputs": [],
   "source": [
    "# import the necessary libraries here\n",
    "from stackapi import StackAPI, StackAPIError"
   ]
  },
  {
   "cell_type": "code",
   "execution_count": 4,
   "metadata": {
    "Collapsed": "false"
   },
   "outputs": [],
   "source": [
    "# run the code below\n",
    "from stackapi import StackAPI, StackAPIError\n",
    "SITE = StackAPI('stackoverflow')\n",
    "comments = SITE.fetch('comments')\n",
    "#fetch is similar to get"
   ]
  },
  {
   "cell_type": "markdown",
   "metadata": {
    "Collapsed": "false"
   },
   "source": [
    "Before you start with the lab, please be aware that all the relevant information regarding the StackAPI can be found here: https://stackapi.readthedocs.io/en/latest/user/advanced.html#calling-fetch-with-various-api-parameters"
   ]
  },
  {
   "cell_type": "markdown",
   "metadata": {
    "Collapsed": "false"
   },
   "source": [
    "#### Question 1: Find the questions and answers of last month.\n",
    "\n",
    "*hint*: use the fromdate and todate arguments."
   ]
  },
  {
   "cell_type": "code",
   "execution_count": 5,
   "metadata": {
    "Collapsed": "false"
   },
   "outputs": [
    {
     "data": {
      "text/html": [
       "<div>\n",
       "<style scoped>\n",
       "    .dataframe tbody tr th:only-of-type {\n",
       "        vertical-align: middle;\n",
       "    }\n",
       "\n",
       "    .dataframe tbody tr th {\n",
       "        vertical-align: top;\n",
       "    }\n",
       "\n",
       "    .dataframe thead th {\n",
       "        text-align: right;\n",
       "    }\n",
       "</style>\n",
       "<table border=\"1\" class=\"dataframe\">\n",
       "  <thead>\n",
       "    <tr style=\"text-align: right;\">\n",
       "      <th></th>\n",
       "      <th>backoff</th>\n",
       "      <th>has_more</th>\n",
       "      <th>page</th>\n",
       "      <th>quota_max</th>\n",
       "      <th>quota_remaining</th>\n",
       "      <th>total</th>\n",
       "      <th>items</th>\n",
       "    </tr>\n",
       "  </thead>\n",
       "  <tbody>\n",
       "    <tr>\n",
       "      <th>0</th>\n",
       "      <td>0</td>\n",
       "      <td>True</td>\n",
       "      <td>5</td>\n",
       "      <td>300</td>\n",
       "      <td>300</td>\n",
       "      <td>0</td>\n",
       "      <td>{'tags': ['python', 'regex', 're'], 'owner': {...</td>\n",
       "    </tr>\n",
       "    <tr>\n",
       "      <th>1</th>\n",
       "      <td>0</td>\n",
       "      <td>True</td>\n",
       "      <td>5</td>\n",
       "      <td>300</td>\n",
       "      <td>300</td>\n",
       "      <td>0</td>\n",
       "      <td>{'tags': ['openapi', 'swagger-php', 'nelmioapi...</td>\n",
       "    </tr>\n",
       "    <tr>\n",
       "      <th>2</th>\n",
       "      <td>0</td>\n",
       "      <td>True</td>\n",
       "      <td>5</td>\n",
       "      <td>300</td>\n",
       "      <td>300</td>\n",
       "      <td>0</td>\n",
       "      <td>{'tags': ['oauth-2.0', 'odata'], 'owner': {'re...</td>\n",
       "    </tr>\n",
       "    <tr>\n",
       "      <th>3</th>\n",
       "      <td>0</td>\n",
       "      <td>True</td>\n",
       "      <td>5</td>\n",
       "      <td>300</td>\n",
       "      <td>300</td>\n",
       "      <td>0</td>\n",
       "      <td>{'tags': ['matlab', 'tcp'], 'owner': {'reputat...</td>\n",
       "    </tr>\n",
       "    <tr>\n",
       "      <th>4</th>\n",
       "      <td>0</td>\n",
       "      <td>True</td>\n",
       "      <td>5</td>\n",
       "      <td>300</td>\n",
       "      <td>300</td>\n",
       "      <td>0</td>\n",
       "      <td>{'tags': ['python', 'git', 'permissions', 'adm...</td>\n",
       "    </tr>\n",
       "  </tbody>\n",
       "</table>\n",
       "</div>"
      ],
      "text/plain": [
       "   backoff  has_more  page  quota_max  quota_remaining  total  \\\n",
       "0        0      True     5        300              300      0   \n",
       "1        0      True     5        300              300      0   \n",
       "2        0      True     5        300              300      0   \n",
       "3        0      True     5        300              300      0   \n",
       "4        0      True     5        300              300      0   \n",
       "\n",
       "                                               items  \n",
       "0  {'tags': ['python', 'regex', 're'], 'owner': {...  \n",
       "1  {'tags': ['openapi', 'swagger-php', 'nelmioapi...  \n",
       "2  {'tags': ['oauth-2.0', 'odata'], 'owner': {'re...  \n",
       "3  {'tags': ['matlab', 'tcp'], 'owner': {'reputat...  \n",
       "4  {'tags': ['python', 'git', 'permissions', 'adm...  "
      ]
     },
     "execution_count": 5,
     "metadata": {},
     "output_type": "execute_result"
    }
   ],
   "source": [
    "# your code here\n",
    "import pandas as pd\n",
    "from stackapi import StackAPI, StackAPIError\n",
    "SITE = StackAPI('stackoverflow')\n",
    "questions = SITE.fetch('questions', fromdate =1593554400, todate=1596146400)\n",
    "#used datetime to convert time into Epoch time which is used in StackAPI\n",
    "#fetch is similar to get\n",
    "\n",
    "questions = pd.DataFrame(questions)\n",
    "questions.head()\n",
    "#paolo: be careful to work sequentially - it is not clear how you retrieve those numbers for the dates for\n",
    "# someone who starts reading the notebook from the top. You defined those numbers in the cells below."
   ]
  },
  {
   "cell_type": "code",
   "execution_count": 6,
   "metadata": {
    "Collapsed": "false"
   },
   "outputs": [
    {
     "data": {
      "text/plain": [
       "backoff            500\n",
       "has_more           500\n",
       "page               500\n",
       "quota_max          500\n",
       "quota_remaining    500\n",
       "total              500\n",
       "items              500\n",
       "dtype: int64"
      ]
     },
     "execution_count": 6,
     "metadata": {},
     "output_type": "execute_result"
    }
   ],
   "source": [
    "questions.count()"
   ]
  },
  {
   "cell_type": "code",
   "execution_count": 7,
   "metadata": {
    "Collapsed": "false"
   },
   "outputs": [
    {
     "data": {
      "text/plain": [
       "1593554400.0"
      ]
     },
     "execution_count": 7,
     "metadata": {},
     "output_type": "execute_result"
    }
   ],
   "source": [
    "import datetime\n",
    "datetime.datetime(2020,7,1,0,0).timestamp()"
   ]
  },
  {
   "cell_type": "code",
   "execution_count": 8,
   "metadata": {
    "Collapsed": "false"
   },
   "outputs": [
    {
     "data": {
      "text/plain": [
       "1596146400.0"
      ]
     },
     "execution_count": 8,
     "metadata": {},
     "output_type": "execute_result"
    }
   ],
   "source": [
    "datetime.datetime(2020,7,31,0,0).timestamp()"
   ]
  },
  {
   "cell_type": "code",
   "execution_count": 9,
   "metadata": {
    "Collapsed": "false"
   },
   "outputs": [],
   "source": [
    "#paolo: you can directly use dates instead of converting first\n",
    "#questions = SITE.fetch('questions',fromdate=datetime.date(2020,2,1), todate=datetime.date.today())"
   ]
  },
  {
   "cell_type": "code",
   "execution_count": 10,
   "metadata": {
    "Collapsed": "false"
   },
   "outputs": [],
   "source": [
    "def flatten(questions, col_list):\n",
    "    for column in col_list:\n",
    "        flattened = pd.DataFrame(dict(questions[column])).transpose()\n",
    "        columns = [str(col) for col in flattened.columns]\n",
    "        flattened.columns = [column + '_' + colname for colname in columns]\n",
    "        data = pd.concat([questions, flattened], axis=1)\n",
    "        data = data.drop(column, axis=1)\n",
    "    return data"
   ]
  },
  {
   "cell_type": "code",
   "execution_count": 11,
   "metadata": {
    "Collapsed": "false"
   },
   "outputs": [
    {
     "data": {
      "text/html": [
       "<div>\n",
       "<style scoped>\n",
       "    .dataframe tbody tr th:only-of-type {\n",
       "        vertical-align: middle;\n",
       "    }\n",
       "\n",
       "    .dataframe tbody tr th {\n",
       "        vertical-align: top;\n",
       "    }\n",
       "\n",
       "    .dataframe thead th {\n",
       "        text-align: right;\n",
       "    }\n",
       "</style>\n",
       "<table border=\"1\" class=\"dataframe\">\n",
       "  <thead>\n",
       "    <tr style=\"text-align: right;\">\n",
       "      <th></th>\n",
       "      <th>backoff</th>\n",
       "      <th>has_more</th>\n",
       "      <th>page</th>\n",
       "      <th>quota_max</th>\n",
       "      <th>quota_remaining</th>\n",
       "      <th>total</th>\n",
       "      <th>items_tags</th>\n",
       "      <th>items_owner</th>\n",
       "      <th>items_is_answered</th>\n",
       "      <th>items_view_count</th>\n",
       "      <th>...</th>\n",
       "      <th>items_last_activity_date</th>\n",
       "      <th>items_creation_date</th>\n",
       "      <th>items_last_edit_date</th>\n",
       "      <th>items_question_id</th>\n",
       "      <th>items_link</th>\n",
       "      <th>items_closed_reason</th>\n",
       "      <th>items_title</th>\n",
       "      <th>items_content_license</th>\n",
       "      <th>items_bounty_amount</th>\n",
       "      <th>items_bounty_closes_date</th>\n",
       "    </tr>\n",
       "  </thead>\n",
       "  <tbody>\n",
       "    <tr>\n",
       "      <th>0</th>\n",
       "      <td>0</td>\n",
       "      <td>True</td>\n",
       "      <td>5</td>\n",
       "      <td>300</td>\n",
       "      <td>300</td>\n",
       "      <td>0</td>\n",
       "      <td>[python, regex, re]</td>\n",
       "      <td>{'reputation': 2496, 'user_id': 10799544, 'use...</td>\n",
       "      <td>True</td>\n",
       "      <td>47</td>\n",
       "      <td>...</td>\n",
       "      <td>1597499416</td>\n",
       "      <td>1595008562</td>\n",
       "      <td>1596874023</td>\n",
       "      <td>62959409</td>\n",
       "      <td>https://stackoverflow.com/questions/62959409/e...</td>\n",
       "      <td>Duplicate</td>\n",
       "      <td>Extract certain portion of multiline string us...</td>\n",
       "      <td>NaN</td>\n",
       "      <td>NaN</td>\n",
       "      <td>NaN</td>\n",
       "    </tr>\n",
       "    <tr>\n",
       "      <th>1</th>\n",
       "      <td>0</td>\n",
       "      <td>True</td>\n",
       "      <td>5</td>\n",
       "      <td>300</td>\n",
       "      <td>300</td>\n",
       "      <td>0</td>\n",
       "      <td>[openapi, swagger-php, nelmioapidocbundle]</td>\n",
       "      <td>{'reputation': 149, 'user_id': 3180943, 'user_...</td>\n",
       "      <td>False</td>\n",
       "      <td>24</td>\n",
       "      <td>...</td>\n",
       "      <td>1597498629</td>\n",
       "      <td>1595843579</td>\n",
       "      <td>NaN</td>\n",
       "      <td>63112805</td>\n",
       "      <td>https://stackoverflow.com/questions/63112805/n...</td>\n",
       "      <td>NaN</td>\n",
       "      <td>NelmioApiDocBundle v4.0.0-BETA1, $ref not found</td>\n",
       "      <td>CC BY-SA 4.0</td>\n",
       "      <td>NaN</td>\n",
       "      <td>NaN</td>\n",
       "    </tr>\n",
       "    <tr>\n",
       "      <th>2</th>\n",
       "      <td>0</td>\n",
       "      <td>True</td>\n",
       "      <td>5</td>\n",
       "      <td>300</td>\n",
       "      <td>300</td>\n",
       "      <td>0</td>\n",
       "      <td>[oauth-2.0, odata]</td>\n",
       "      <td>{'reputation': 11, 'user_id': 7808436, 'user_t...</td>\n",
       "      <td>True</td>\n",
       "      <td>26</td>\n",
       "      <td>...</td>\n",
       "      <td>1597498161</td>\n",
       "      <td>1595332889</td>\n",
       "      <td>1595397638</td>\n",
       "      <td>63014106</td>\n",
       "      <td>https://stackoverflow.com/questions/63014106/o...</td>\n",
       "      <td>NaN</td>\n",
       "      <td>OData vs oAuth -- What is the difference?</td>\n",
       "      <td>CC BY-SA 4.0</td>\n",
       "      <td>NaN</td>\n",
       "      <td>NaN</td>\n",
       "    </tr>\n",
       "    <tr>\n",
       "      <th>3</th>\n",
       "      <td>0</td>\n",
       "      <td>True</td>\n",
       "      <td>5</td>\n",
       "      <td>300</td>\n",
       "      <td>300</td>\n",
       "      <td>0</td>\n",
       "      <td>[matlab, tcp]</td>\n",
       "      <td>{'reputation': 1, 'user_id': 13433219, 'user_t...</td>\n",
       "      <td>False</td>\n",
       "      <td>29</td>\n",
       "      <td>...</td>\n",
       "      <td>1597497208</td>\n",
       "      <td>1594477055</td>\n",
       "      <td>1594534933</td>\n",
       "      <td>62850290</td>\n",
       "      <td>https://stackoverflow.com/questions/62850290/i...</td>\n",
       "      <td>NaN</td>\n",
       "      <td>Initializing pimp-controller failed: Error bin...</td>\n",
       "      <td>CC BY-SA 4.0</td>\n",
       "      <td>NaN</td>\n",
       "      <td>NaN</td>\n",
       "    </tr>\n",
       "    <tr>\n",
       "      <th>4</th>\n",
       "      <td>0</td>\n",
       "      <td>True</td>\n",
       "      <td>5</td>\n",
       "      <td>300</td>\n",
       "      <td>300</td>\n",
       "      <td>0</td>\n",
       "      <td>[python, git, permissions, administrator]</td>\n",
       "      <td>{'reputation': 43, 'user_id': 13392777, 'user_...</td>\n",
       "      <td>False</td>\n",
       "      <td>42</td>\n",
       "      <td>...</td>\n",
       "      <td>1597496850</td>\n",
       "      <td>1593662441</td>\n",
       "      <td>1593662734</td>\n",
       "      <td>62688781</td>\n",
       "      <td>https://stackoverflow.com/questions/62688781/c...</td>\n",
       "      <td>NaN</td>\n",
       "      <td>Can&amp;#39;t delete cloned git repo on my computer?</td>\n",
       "      <td>CC BY-SA 4.0</td>\n",
       "      <td>NaN</td>\n",
       "      <td>NaN</td>\n",
       "    </tr>\n",
       "    <tr>\n",
       "      <th>5</th>\n",
       "      <td>0</td>\n",
       "      <td>True</td>\n",
       "      <td>5</td>\n",
       "      <td>300</td>\n",
       "      <td>300</td>\n",
       "      <td>0</td>\n",
       "      <td>[javascript, google-apps-script, google-sheets...</td>\n",
       "      <td>{'reputation': 7, 'user_id': 13306040, 'user_t...</td>\n",
       "      <td>False</td>\n",
       "      <td>37</td>\n",
       "      <td>...</td>\n",
       "      <td>1597496608</td>\n",
       "      <td>1596122215</td>\n",
       "      <td>1597496608</td>\n",
       "      <td>63176263</td>\n",
       "      <td>https://stackoverflow.com/questions/63176263/h...</td>\n",
       "      <td>NaN</td>\n",
       "      <td>How to edit a Google App script to save the fi...</td>\n",
       "      <td>CC BY-SA 4.0</td>\n",
       "      <td>NaN</td>\n",
       "      <td>NaN</td>\n",
       "    </tr>\n",
       "    <tr>\n",
       "      <th>6</th>\n",
       "      <td>0</td>\n",
       "      <td>True</td>\n",
       "      <td>5</td>\n",
       "      <td>300</td>\n",
       "      <td>300</td>\n",
       "      <td>0</td>\n",
       "      <td>[javascript, google-apps-script, google-sheets...</td>\n",
       "      <td>{'reputation': 31, 'user_id': 1019450, 'user_t...</td>\n",
       "      <td>True</td>\n",
       "      <td>41</td>\n",
       "      <td>...</td>\n",
       "      <td>1597496403</td>\n",
       "      <td>1595860757</td>\n",
       "      <td>1597496403</td>\n",
       "      <td>63117671</td>\n",
       "      <td>https://stackoverflow.com/questions/63117671/g...</td>\n",
       "      <td>NaN</td>\n",
       "      <td>Google Sheets WebApp returning value as undefined</td>\n",
       "      <td>CC BY-SA 4.0</td>\n",
       "      <td>NaN</td>\n",
       "      <td>NaN</td>\n",
       "    </tr>\n",
       "    <tr>\n",
       "      <th>7</th>\n",
       "      <td>0</td>\n",
       "      <td>True</td>\n",
       "      <td>5</td>\n",
       "      <td>300</td>\n",
       "      <td>300</td>\n",
       "      <td>0</td>\n",
       "      <td>[javascript, google-apps-script, google-sheets...</td>\n",
       "      <td>{'reputation': 9, 'user_id': 11560671, 'user_t...</td>\n",
       "      <td>False</td>\n",
       "      <td>49</td>\n",
       "      <td>...</td>\n",
       "      <td>1597496346</td>\n",
       "      <td>1595865429</td>\n",
       "      <td>1597496346</td>\n",
       "      <td>63118981</td>\n",
       "      <td>https://stackoverflow.com/questions/63118981/i...</td>\n",
       "      <td>Duplicate</td>\n",
       "      <td>Issue with opening new tab</td>\n",
       "      <td>NaN</td>\n",
       "      <td>NaN</td>\n",
       "      <td>NaN</td>\n",
       "    </tr>\n",
       "    <tr>\n",
       "      <th>8</th>\n",
       "      <td>0</td>\n",
       "      <td>True</td>\n",
       "      <td>5</td>\n",
       "      <td>300</td>\n",
       "      <td>300</td>\n",
       "      <td>0</td>\n",
       "      <td>[google-apps-script, web-applications, permiss...</td>\n",
       "      <td>{'reputation': 709, 'user_id': 1730260, 'user_...</td>\n",
       "      <td>False</td>\n",
       "      <td>35</td>\n",
       "      <td>...</td>\n",
       "      <td>1597496283</td>\n",
       "      <td>1595878334</td>\n",
       "      <td>1597496283</td>\n",
       "      <td>63122279</td>\n",
       "      <td>https://stackoverflow.com/questions/63122279/g...</td>\n",
       "      <td>Duplicate</td>\n",
       "      <td>Google HTML script failing to call server side...</td>\n",
       "      <td>NaN</td>\n",
       "      <td>NaN</td>\n",
       "      <td>NaN</td>\n",
       "    </tr>\n",
       "    <tr>\n",
       "      <th>9</th>\n",
       "      <td>0</td>\n",
       "      <td>True</td>\n",
       "      <td>5</td>\n",
       "      <td>300</td>\n",
       "      <td>300</td>\n",
       "      <td>0</td>\n",
       "      <td>[javascript, google-apps-script, web-applicati...</td>\n",
       "      <td>{'reputation': 21, 'user_id': 11505725, 'user_...</td>\n",
       "      <td>False</td>\n",
       "      <td>40</td>\n",
       "      <td>...</td>\n",
       "      <td>1597496230</td>\n",
       "      <td>1595966686</td>\n",
       "      <td>1597496230</td>\n",
       "      <td>63141970</td>\n",
       "      <td>https://stackoverflow.com/questions/63141970/j...</td>\n",
       "      <td>NaN</td>\n",
       "      <td>jsPDF save PDF in new iFrame</td>\n",
       "      <td>CC BY-SA 4.0</td>\n",
       "      <td>NaN</td>\n",
       "      <td>NaN</td>\n",
       "    </tr>\n",
       "  </tbody>\n",
       "</table>\n",
       "<p>10 rows × 24 columns</p>\n",
       "</div>"
      ],
      "text/plain": [
       "   backoff  has_more  page  quota_max  quota_remaining  total  \\\n",
       "0        0      True     5        300              300      0   \n",
       "1        0      True     5        300              300      0   \n",
       "2        0      True     5        300              300      0   \n",
       "3        0      True     5        300              300      0   \n",
       "4        0      True     5        300              300      0   \n",
       "5        0      True     5        300              300      0   \n",
       "6        0      True     5        300              300      0   \n",
       "7        0      True     5        300              300      0   \n",
       "8        0      True     5        300              300      0   \n",
       "9        0      True     5        300              300      0   \n",
       "\n",
       "                                          items_tags  \\\n",
       "0                                [python, regex, re]   \n",
       "1         [openapi, swagger-php, nelmioapidocbundle]   \n",
       "2                                 [oauth-2.0, odata]   \n",
       "3                                      [matlab, tcp]   \n",
       "4          [python, git, permissions, administrator]   \n",
       "5  [javascript, google-apps-script, google-sheets...   \n",
       "6  [javascript, google-apps-script, google-sheets...   \n",
       "7  [javascript, google-apps-script, google-sheets...   \n",
       "8  [google-apps-script, web-applications, permiss...   \n",
       "9  [javascript, google-apps-script, web-applicati...   \n",
       "\n",
       "                                         items_owner items_is_answered  \\\n",
       "0  {'reputation': 2496, 'user_id': 10799544, 'use...              True   \n",
       "1  {'reputation': 149, 'user_id': 3180943, 'user_...             False   \n",
       "2  {'reputation': 11, 'user_id': 7808436, 'user_t...              True   \n",
       "3  {'reputation': 1, 'user_id': 13433219, 'user_t...             False   \n",
       "4  {'reputation': 43, 'user_id': 13392777, 'user_...             False   \n",
       "5  {'reputation': 7, 'user_id': 13306040, 'user_t...             False   \n",
       "6  {'reputation': 31, 'user_id': 1019450, 'user_t...              True   \n",
       "7  {'reputation': 9, 'user_id': 11560671, 'user_t...             False   \n",
       "8  {'reputation': 709, 'user_id': 1730260, 'user_...             False   \n",
       "9  {'reputation': 21, 'user_id': 11505725, 'user_...             False   \n",
       "\n",
       "  items_view_count  ... items_last_activity_date items_creation_date  \\\n",
       "0               47  ...               1597499416          1595008562   \n",
       "1               24  ...               1597498629          1595843579   \n",
       "2               26  ...               1597498161          1595332889   \n",
       "3               29  ...               1597497208          1594477055   \n",
       "4               42  ...               1597496850          1593662441   \n",
       "5               37  ...               1597496608          1596122215   \n",
       "6               41  ...               1597496403          1595860757   \n",
       "7               49  ...               1597496346          1595865429   \n",
       "8               35  ...               1597496283          1595878334   \n",
       "9               40  ...               1597496230          1595966686   \n",
       "\n",
       "  items_last_edit_date items_question_id  \\\n",
       "0           1596874023          62959409   \n",
       "1                  NaN          63112805   \n",
       "2           1595397638          63014106   \n",
       "3           1594534933          62850290   \n",
       "4           1593662734          62688781   \n",
       "5           1597496608          63176263   \n",
       "6           1597496403          63117671   \n",
       "7           1597496346          63118981   \n",
       "8           1597496283          63122279   \n",
       "9           1597496230          63141970   \n",
       "\n",
       "                                          items_link items_closed_reason  \\\n",
       "0  https://stackoverflow.com/questions/62959409/e...           Duplicate   \n",
       "1  https://stackoverflow.com/questions/63112805/n...                 NaN   \n",
       "2  https://stackoverflow.com/questions/63014106/o...                 NaN   \n",
       "3  https://stackoverflow.com/questions/62850290/i...                 NaN   \n",
       "4  https://stackoverflow.com/questions/62688781/c...                 NaN   \n",
       "5  https://stackoverflow.com/questions/63176263/h...                 NaN   \n",
       "6  https://stackoverflow.com/questions/63117671/g...                 NaN   \n",
       "7  https://stackoverflow.com/questions/63118981/i...           Duplicate   \n",
       "8  https://stackoverflow.com/questions/63122279/g...           Duplicate   \n",
       "9  https://stackoverflow.com/questions/63141970/j...                 NaN   \n",
       "\n",
       "                                         items_title items_content_license  \\\n",
       "0  Extract certain portion of multiline string us...                   NaN   \n",
       "1    NelmioApiDocBundle v4.0.0-BETA1, $ref not found          CC BY-SA 4.0   \n",
       "2          OData vs oAuth -- What is the difference?          CC BY-SA 4.0   \n",
       "3  Initializing pimp-controller failed: Error bin...          CC BY-SA 4.0   \n",
       "4   Can&#39;t delete cloned git repo on my computer?          CC BY-SA 4.0   \n",
       "5  How to edit a Google App script to save the fi...          CC BY-SA 4.0   \n",
       "6  Google Sheets WebApp returning value as undefined          CC BY-SA 4.0   \n",
       "7                         Issue with opening new tab                   NaN   \n",
       "8  Google HTML script failing to call server side...                   NaN   \n",
       "9                       jsPDF save PDF in new iFrame          CC BY-SA 4.0   \n",
       "\n",
       "  items_bounty_amount items_bounty_closes_date  \n",
       "0                 NaN                      NaN  \n",
       "1                 NaN                      NaN  \n",
       "2                 NaN                      NaN  \n",
       "3                 NaN                      NaN  \n",
       "4                 NaN                      NaN  \n",
       "5                 NaN                      NaN  \n",
       "6                 NaN                      NaN  \n",
       "7                 NaN                      NaN  \n",
       "8                 NaN                      NaN  \n",
       "9                 NaN                      NaN  \n",
       "\n",
       "[10 rows x 24 columns]"
      ]
     },
     "execution_count": 11,
     "metadata": {},
     "output_type": "execute_result"
    }
   ],
   "source": [
    "nested_columns = ['items']\n",
    " \n",
    "flat = flatten(questions, nested_columns)\n",
    "flat.head(10)"
   ]
  },
  {
   "cell_type": "markdown",
   "metadata": {
    "Collapsed": "false"
   },
   "source": [
    "#### Question 2: Find the most voted question today with at least a score of 5 and tagged with 'python'. "
   ]
  },
  {
   "cell_type": "code",
   "execution_count": 12,
   "metadata": {
    "Collapsed": "false"
   },
   "outputs": [
    {
     "data": {
      "text/html": [
       "<div>\n",
       "<style scoped>\n",
       "    .dataframe tbody tr th:only-of-type {\n",
       "        vertical-align: middle;\n",
       "    }\n",
       "\n",
       "    .dataframe tbody tr th {\n",
       "        vertical-align: top;\n",
       "    }\n",
       "\n",
       "    .dataframe thead th {\n",
       "        text-align: right;\n",
       "    }\n",
       "</style>\n",
       "<table border=\"1\" class=\"dataframe\">\n",
       "  <thead>\n",
       "    <tr style=\"text-align: right;\">\n",
       "      <th></th>\n",
       "      <th>backoff</th>\n",
       "      <th>has_more</th>\n",
       "      <th>page</th>\n",
       "      <th>quota_max</th>\n",
       "      <th>quota_remaining</th>\n",
       "      <th>total</th>\n",
       "      <th>items</th>\n",
       "    </tr>\n",
       "  </thead>\n",
       "  <tbody>\n",
       "    <tr>\n",
       "      <th>0</th>\n",
       "      <td>0</td>\n",
       "      <td>False</td>\n",
       "      <td>1</td>\n",
       "      <td>300</td>\n",
       "      <td>300</td>\n",
       "      <td>0</td>\n",
       "      <td>{'tags': ['python', 'numpy', 'floating-point',...</td>\n",
       "    </tr>\n",
       "    <tr>\n",
       "      <th>1</th>\n",
       "      <td>0</td>\n",
       "      <td>False</td>\n",
       "      <td>1</td>\n",
       "      <td>300</td>\n",
       "      <td>300</td>\n",
       "      <td>0</td>\n",
       "      <td>{'tags': ['python', 'pandas', 'dataframe', 'mi...</td>\n",
       "    </tr>\n",
       "    <tr>\n",
       "      <th>2</th>\n",
       "      <td>0</td>\n",
       "      <td>False</td>\n",
       "      <td>1</td>\n",
       "      <td>300</td>\n",
       "      <td>300</td>\n",
       "      <td>0</td>\n",
       "      <td>{'tags': ['python', 'tensorflow', 'keras', 'te...</td>\n",
       "    </tr>\n",
       "    <tr>\n",
       "      <th>3</th>\n",
       "      <td>0</td>\n",
       "      <td>False</td>\n",
       "      <td>1</td>\n",
       "      <td>300</td>\n",
       "      <td>300</td>\n",
       "      <td>0</td>\n",
       "      <td>{'tags': ['python', 'numpy', 'numpy-slicing'],...</td>\n",
       "    </tr>\n",
       "    <tr>\n",
       "      <th>4</th>\n",
       "      <td>0</td>\n",
       "      <td>False</td>\n",
       "      <td>1</td>\n",
       "      <td>300</td>\n",
       "      <td>300</td>\n",
       "      <td>0</td>\n",
       "      <td>{'tags': ['python', 'beautifulsoup', 'replacew...</td>\n",
       "    </tr>\n",
       "  </tbody>\n",
       "</table>\n",
       "</div>"
      ],
      "text/plain": [
       "   backoff  has_more  page  quota_max  quota_remaining  total  \\\n",
       "0        0     False     1        300              300      0   \n",
       "1        0     False     1        300              300      0   \n",
       "2        0     False     1        300              300      0   \n",
       "3        0     False     1        300              300      0   \n",
       "4        0     False     1        300              300      0   \n",
       "\n",
       "                                               items  \n",
       "0  {'tags': ['python', 'numpy', 'floating-point',...  \n",
       "1  {'tags': ['python', 'pandas', 'dataframe', 'mi...  \n",
       "2  {'tags': ['python', 'tensorflow', 'keras', 'te...  \n",
       "3  {'tags': ['python', 'numpy', 'numpy-slicing'],...  \n",
       "4  {'tags': ['python', 'beautifulsoup', 'replacew...  "
      ]
     },
     "execution_count": 12,
     "metadata": {},
     "output_type": "execute_result"
    }
   ],
   "source": [
    "# your code here\n",
    "import pandas as pd\n",
    "from stackapi import StackAPI, StackAPIError\n",
    "SITE = StackAPI('stackoverflow')\n",
    "questions_today = SITE.fetch('questions', fromdate=1596924000, tagged='python', min=5, sort='votes')\n",
    "#fetch is similar to get\n",
    "\n",
    "questions_today = pd.DataFrame(questions_today)\n",
    "questions_today.head()\n",
    "#paolo: ok to convert to df but how can you check the number of scores ( min should be 5)"
   ]
  },
  {
   "cell_type": "code",
   "execution_count": 13,
   "metadata": {
    "Collapsed": "false"
   },
   "outputs": [
    {
     "data": {
      "text/plain": [
       "backoff            19\n",
       "has_more           19\n",
       "page               19\n",
       "quota_max          19\n",
       "quota_remaining    19\n",
       "total              19\n",
       "items              19\n",
       "dtype: int64"
      ]
     },
     "execution_count": 13,
     "metadata": {},
     "output_type": "execute_result"
    }
   ],
   "source": [
    "questions_today.count()"
   ]
  },
  {
   "cell_type": "code",
   "execution_count": 14,
   "metadata": {
    "Collapsed": "false"
   },
   "outputs": [
    {
     "data": {
      "text/plain": [
       "1596924000.0"
      ]
     },
     "execution_count": 14,
     "metadata": {},
     "output_type": "execute_result"
    }
   ],
   "source": [
    "datetime.datetime(2020,8,9,0,0).timestamp()"
   ]
  },
  {
   "cell_type": "markdown",
   "metadata": {
    "Collapsed": "false"
   },
   "source": [
    "#### Question 3: Find the answers with id 6784 and 6473."
   ]
  },
  {
   "cell_type": "code",
   "execution_count": 15,
   "metadata": {
    "Collapsed": "false"
   },
   "outputs": [
    {
     "data": {
      "text/html": [
       "<div>\n",
       "<style scoped>\n",
       "    .dataframe tbody tr th:only-of-type {\n",
       "        vertical-align: middle;\n",
       "    }\n",
       "\n",
       "    .dataframe tbody tr th {\n",
       "        vertical-align: top;\n",
       "    }\n",
       "\n",
       "    .dataframe thead th {\n",
       "        text-align: right;\n",
       "    }\n",
       "</style>\n",
       "<table border=\"1\" class=\"dataframe\">\n",
       "  <thead>\n",
       "    <tr style=\"text-align: right;\">\n",
       "      <th></th>\n",
       "      <th>backoff</th>\n",
       "      <th>has_more</th>\n",
       "      <th>page</th>\n",
       "      <th>quota_max</th>\n",
       "      <th>quota_remaining</th>\n",
       "      <th>total</th>\n",
       "      <th>items</th>\n",
       "    </tr>\n",
       "  </thead>\n",
       "  <tbody>\n",
       "    <tr>\n",
       "      <th>0</th>\n",
       "      <td>0</td>\n",
       "      <td>False</td>\n",
       "      <td>1</td>\n",
       "      <td>300</td>\n",
       "      <td>300</td>\n",
       "      <td>0</td>\n",
       "      <td>{'owner': {'reputation': 29035, 'user_id': 758...</td>\n",
       "    </tr>\n",
       "  </tbody>\n",
       "</table>\n",
       "</div>"
      ],
      "text/plain": [
       "   backoff  has_more  page  quota_max  quota_remaining  total  \\\n",
       "0        0     False     1        300              300      0   \n",
       "\n",
       "                                               items  \n",
       "0  {'owner': {'reputation': 29035, 'user_id': 758...  "
      ]
     },
     "execution_count": 15,
     "metadata": {},
     "output_type": "execute_result"
    }
   ],
   "source": [
    "# your code here\n",
    "import pandas as pd\n",
    "from stackapi import StackAPI, StackAPIError\n",
    "SITE = StackAPI('stackoverflow')\n",
    "answers = SITE.fetch('answers', ids=[6784])\n",
    "answers= pd.DataFrame(answers)\n",
    "answers.head()"
   ]
  },
  {
   "cell_type": "code",
   "execution_count": 16,
   "metadata": {
    "Collapsed": "false"
   },
   "outputs": [
    {
     "data": {
      "text/html": [
       "<div>\n",
       "<style scoped>\n",
       "    .dataframe tbody tr th:only-of-type {\n",
       "        vertical-align: middle;\n",
       "    }\n",
       "\n",
       "    .dataframe tbody tr th {\n",
       "        vertical-align: top;\n",
       "    }\n",
       "\n",
       "    .dataframe thead th {\n",
       "        text-align: right;\n",
       "    }\n",
       "</style>\n",
       "<table border=\"1\" class=\"dataframe\">\n",
       "  <thead>\n",
       "    <tr style=\"text-align: right;\">\n",
       "      <th></th>\n",
       "      <th>backoff</th>\n",
       "      <th>has_more</th>\n",
       "      <th>page</th>\n",
       "      <th>quota_max</th>\n",
       "      <th>quota_remaining</th>\n",
       "      <th>total</th>\n",
       "      <th>items</th>\n",
       "    </tr>\n",
       "  </thead>\n",
       "  <tbody>\n",
       "  </tbody>\n",
       "</table>\n",
       "</div>"
      ],
      "text/plain": [
       "Empty DataFrame\n",
       "Columns: [backoff, has_more, page, quota_max, quota_remaining, total, items]\n",
       "Index: []"
      ]
     },
     "execution_count": 16,
     "metadata": {},
     "output_type": "execute_result"
    }
   ],
   "source": [
    "import pandas as pd\n",
    "from stackapi import StackAPI, StackAPIError\n",
    "SITE = StackAPI('stackoverflow')\n",
    "answers = SITE.fetch('answers', ids=[6473])\n",
    "answers= pd.DataFrame(answers)\n",
    "answers.head()\n",
    "#paolo:ok you do not need to do the imports in every cell -, once, usually at the top of the notebook\n",
    "# is enough"
   ]
  },
  {
   "cell_type": "code",
   "execution_count": 17,
   "metadata": {
    "Collapsed": "false"
   },
   "outputs": [
    {
     "data": {
      "text/html": [
       "<div>\n",
       "<style scoped>\n",
       "    .dataframe tbody tr th:only-of-type {\n",
       "        vertical-align: middle;\n",
       "    }\n",
       "\n",
       "    .dataframe tbody tr th {\n",
       "        vertical-align: top;\n",
       "    }\n",
       "\n",
       "    .dataframe thead th {\n",
       "        text-align: right;\n",
       "    }\n",
       "</style>\n",
       "<table border=\"1\" class=\"dataframe\">\n",
       "  <thead>\n",
       "    <tr style=\"text-align: right;\">\n",
       "      <th></th>\n",
       "      <th>backoff</th>\n",
       "      <th>has_more</th>\n",
       "      <th>page</th>\n",
       "      <th>quota_max</th>\n",
       "      <th>quota_remaining</th>\n",
       "      <th>total</th>\n",
       "      <th>items</th>\n",
       "    </tr>\n",
       "  </thead>\n",
       "  <tbody>\n",
       "    <tr>\n",
       "      <th>0</th>\n",
       "      <td>0</td>\n",
       "      <td>False</td>\n",
       "      <td>1</td>\n",
       "      <td>300</td>\n",
       "      <td>300</td>\n",
       "      <td>0</td>\n",
       "      <td>{'owner': {'reputation': 29035, 'user_id': 758...</td>\n",
       "    </tr>\n",
       "  </tbody>\n",
       "</table>\n",
       "</div>"
      ],
      "text/plain": [
       "   backoff  has_more  page  quota_max  quota_remaining  total  \\\n",
       "0        0     False     1        300              300      0   \n",
       "\n",
       "                                               items  \n",
       "0  {'owner': {'reputation': 29035, 'user_id': 758...  "
      ]
     },
     "execution_count": 17,
     "metadata": {},
     "output_type": "execute_result"
    }
   ],
   "source": [
    "#paolo: you can also combine the ids using the code only once\n",
    "# SITE = StackAPI('stackoverflow')\n",
    "# answers = SITE.fetch('answers', ids=[6473,6784])\n",
    "# answers= pd.DataFrame(answers)\n",
    "# answers.head()"
   ]
  },
  {
   "cell_type": "code",
   "execution_count": null,
   "metadata": {
    "Collapsed": "false"
   },
   "outputs": [],
   "source": [
    "#paolo: check ok"
   ]
  }
 ],
 "metadata": {
  "kernelspec": {
   "display_name": "Python 3",
   "language": "python",
   "name": "python3"
  },
  "language_info": {
   "codemirror_mode": {
    "name": "ipython",
    "version": 3
   },
   "file_extension": ".py",
   "mimetype": "text/x-python",
   "name": "python",
   "nbconvert_exporter": "python",
   "pygments_lexer": "ipython3",
   "version": "3.7.6"
  }
 },
 "nbformat": 4,
 "nbformat_minor": 4
}
