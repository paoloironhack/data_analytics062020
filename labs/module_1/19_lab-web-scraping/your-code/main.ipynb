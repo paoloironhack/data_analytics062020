{
 "cells": [
  {
   "cell_type": "markdown",
   "metadata": {
    "Collapsed": "false"
   },
   "source": [
    "# Web Scraping Lab\n",
    "\n",
    "You will find in this notebook some scrapy exercises to practise your scraping skills.\n",
    "\n",
    "**Tips:**\n",
    "\n",
    "- Check the response status code for each request to ensure you have obtained the intended content.\n",
    "- Print the response text in each request to understand the kind of info you are getting and its format.\n",
    "- Check for patterns in the response text to extract the data/info requested in each question.\n",
    "- Visit the urls below and take a look at their source code through Chrome DevTools. You'll need to identify the html tags, special class names, etc used in the html content you are expected to extract.\n",
    "\n",
    "**Resources**:\n",
    "- [Requests library](https://requests.readthedocs.io/en/master/user/quickstart/)\n",
    "- [Beautiful Soup Doc](https://www.crummy.com/software/BeautifulSoup/bs4/doc/)\n",
    "- [Urllib](https://docs.python.org/3/library/urllib.html#module-urllib)\n",
    "- [re lib](https://docs.python.org/3/library/re.html)\n",
    "- [lxml lib](https://lxml.de/)\n",
    "- [Scrapy](https://scrapy.org/)\n",
    "- [List of HTTP status codes](https://en.wikipedia.org/wiki/List_of_HTTP_status_codes)\n",
    "- [HTML basics](http://www.simplehtmlguide.com/cheatsheet.php)\n",
    "- [CSS basics](https://www.cssbasics.com/#page_start)"
   ]
  },
  {
   "cell_type": "markdown",
   "metadata": {
    "Collapsed": "false"
   },
   "source": [
    "#### Below are the libraries and modules you may need. `requests`,  `BeautifulSoup` and `pandas` are already imported for you. If you prefer to use additional libraries feel free to do it."
   ]
  },
  {
   "cell_type": "code",
   "execution_count": 135,
   "metadata": {
    "Collapsed": "false"
   },
   "outputs": [],
   "source": [
    "import requests\n",
    "from bs4 import BeautifulSoup\n",
    "import pandas as pd"
   ]
  },
  {
   "cell_type": "markdown",
   "metadata": {
    "Collapsed": "false"
   },
   "source": [
    "#### Download, parse (using BeautifulSoup), and print the content from the Trending Developers page from GitHub:"
   ]
  },
  {
   "cell_type": "code",
   "execution_count": 136,
   "metadata": {
    "Collapsed": "false"
   },
   "outputs": [],
   "source": [
    "# This is the url you will scrape in this exercise\n",
    "url = 'https://github.com/trending/developers'"
   ]
  },
  {
   "cell_type": "code",
   "execution_count": 137,
   "metadata": {
    "Collapsed": "false"
   },
   "outputs": [],
   "source": [
    "# your code here \n",
    "soup = BeautifulSoup(requests.get(url).text,'html.parser')"
   ]
  },
  {
   "cell_type": "markdown",
   "metadata": {
    "Collapsed": "false"
   },
   "source": [
    "#### Display the names of the trending developers retrieved in the previous step.\n",
    "\n",
    "Your output should be a Python list of developer names. Each name should not contain any html tag.\n",
    "\n",
    "**Instructions:**\n",
    "\n",
    "1. Find out the html tag and class names used for the developer names. You can achieve this using Chrome DevTools.\n",
    "\n",
    "1. Use BeautifulSoup to extract all the html elements that contain the developer names.\n",
    "\n",
    "1. Use string manipulation techniques to replace whitespaces and linebreaks (i.e. `\\n`) in the *text* of each html element. Use a list to store the clean names.\n",
    "\n",
    "1. Print the list of names.\n",
    "\n",
    "Your output should look like below:\n",
    "\n",
    "```\n",
    "['trimstray (@trimstray)',\n",
    " 'joewalnes (JoeWalnes)',\n",
    " 'charlax (Charles-AxelDein)',\n",
    " 'ForrestKnight (ForrestKnight)',\n",
    " 'revery-ui (revery-ui)',\n",
    " 'alibaba (Alibaba)',\n",
    " 'Microsoft (Microsoft)',\n",
    " 'github (GitHub)',\n",
    " 'facebook (Facebook)',\n",
    " 'boazsegev (Bo)',\n",
    " 'google (Google)',\n",
    " 'cloudfetch',\n",
    " 'sindresorhus (SindreSorhus)',\n",
    " 'tensorflow',\n",
    " 'apache (TheApacheSoftwareFoundation)',\n",
    " 'DevonCrawford (DevonCrawford)',\n",
    " 'ARMmbed (ArmMbed)',\n",
    " 'vuejs (vuejs)',\n",
    " 'fastai (fast.ai)',\n",
    " 'QiShaoXuan (Qi)',\n",
    " 'joelparkerhenderson (JoelParkerHenderson)',\n",
    " 'torvalds (LinusTorvalds)',\n",
    " 'CyC2018',\n",
    " 'komeiji-satori (神楽坂覚々)',\n",
    " 'script-8']\n",
    " ```"
   ]
  },
  {
   "cell_type": "code",
   "execution_count": 138,
   "metadata": {
    "Collapsed": "false"
   },
   "outputs": [
    {
     "name": "stdout",
     "output_type": "stream",
     "text": [
      "['Michiel Borkent', 'Arvid Norberg', 'Daishi Kato', 'Dave Henderson', 'Greg Bergé', 'Jaco Greeff', 'Stephan Dilly', 'dylan', 'hackerman', 'Hisham Muhammad', 'Artem Zakharchenko', 'Henrik Rydgård', 'Florian', 'Jeff Bezanson', 'shimat', '雪月秋水', 'Nico Schlömer', 'Pablo Damnhorns', 'Matteo Mazzarolo', 'Stephen Celis', 'Anmol Sethi', 'Florian Rival', 'Alex Gaynor', 'Mislav Marohnić', 'Michael Waskom']\n"
     ]
    }
   ],
   "source": [
    "# your code here\n",
    "tables = soup.find_all('h1', attrs={'class':'h3 lh-condensed'})\n",
    "\n",
    "lst = [table.text.replace('\\n','').strip() for table in tables]\n",
    "print(lst)"
   ]
  },
  {
   "cell_type": "markdown",
   "metadata": {
    "Collapsed": "false"
   },
   "source": [
    "## Bonus Challenges\n",
    "\n",
    "Below, you'll find a number of bonus challenges. Feel free to do as many as you look. These challenges are useful if you want to bolster your web scraping skills, but are not a requirement. "
   ]
  },
  {
   "cell_type": "markdown",
   "metadata": {
    "Collapsed": "false"
   },
   "source": [
    "#### Display the trending Python repositories in GitHub.\n",
    "\n",
    "The steps to solve this problem is similar to the previous one except that you need to find out the repository names instead of developer names."
   ]
  },
  {
   "cell_type": "code",
   "execution_count": 139,
   "metadata": {
    "Collapsed": "false"
   },
   "outputs": [],
   "source": [
    "# This is the url you will scrape in this exercise\n",
    "url = 'https://github.com/trending/python?since=daily'"
   ]
  },
  {
   "cell_type": "code",
   "execution_count": 140,
   "metadata": {
    "Collapsed": "false"
   },
   "outputs": [
    {
     "name": "stdout",
     "output_type": "stream",
     "text": [
      "['Python', 'learn-python3', 'learn-python', 'InfoSpider', 'objax', 'discord.py', 'd2l-en', 'Real-Time-Voice-Cloning', 'XX-Net', 'tensorflow-coder', 'faceswap', 'gibMacOS', 'public-apis', 'DeepCreamPy', 'Instagram', 'binwalk', 'Python', 'model_compression', 'core', 'AutoRclone', 'python-docs-samples', 'pyTelegramBotAPI', 'prefect', 'b0mb3r', 'Veil']\n"
     ]
    }
   ],
   "source": [
    "# your code here\n",
    "soup = BeautifulSoup(requests.get(url).text,'html.parser')\n",
    "tables = soup.find_all('h1', attrs={'class':'h3 lh-condensed'})\n",
    "\n",
    "lst2 = [table.text.split('/')[1].replace('\\n','').strip() for table in tables]\n",
    "print(lst2)"
   ]
  },
  {
   "cell_type": "markdown",
   "metadata": {
    "Collapsed": "false"
   },
   "source": [
    "#### Display all the image links from Walt Disney wikipedia page."
   ]
  },
  {
   "cell_type": "code",
   "execution_count": 141,
   "metadata": {
    "Collapsed": "false"
   },
   "outputs": [],
   "source": [
    "# This is the url you will scrape in this exercise\n",
    "url = 'https://en.wikipedia.org/wiki/Walt_Disney'\n",
    "import urllib3\n",
    "import re"
   ]
  },
  {
   "cell_type": "code",
   "execution_count": 142,
   "metadata": {
    "Collapsed": "false"
   },
   "outputs": [
    {
     "name": "stdout",
     "output_type": "stream",
     "text": [
      "['//upload.wikimedia.org/wikipedia/commons/thumb/d/df/Walt_Disney_1946.JPG/220px-Walt_Disney_1946.JPG', '//upload.wikimedia.org/wikipedia/commons/thumb/8/87/Walt_Disney_1942_signature.svg/150px-Walt_Disney_1942_signature.svg.png', '//upload.wikimedia.org/wikipedia/commons/thumb/c/c4/Walt_Disney_envelope_ca._1921.jpg/220px-Walt_Disney_envelope_ca._1921.jpg', '//upload.wikimedia.org/wikipedia/commons/thumb/0/0d/Trolley_Troubles_poster.jpg/170px-Trolley_Troubles_poster.jpg', '//upload.wikimedia.org/wikipedia/commons/thumb/7/71/Walt_Disney_and_his_cartoon_creation_%22Mickey_Mouse%22_-_National_Board_of_Review_Magazine.jpg/170px-Walt_Disney_and_his_cartoon_creation_%22Mickey_Mouse%22_-_National_Board_of_Review_Magazine.jpg', '//upload.wikimedia.org/wikipedia/en/thumb/4/4e/Steamboat-willie.jpg/170px-Steamboat-willie.jpg', '//upload.wikimedia.org/wikipedia/commons/thumb/5/57/Walt_Disney_1935.jpg/170px-Walt_Disney_1935.jpg', '//upload.wikimedia.org/wikipedia/commons/thumb/c/cd/Walt_Disney_Snow_white_1937_trailer_screenshot_%2813%29.jpg/220px-Walt_Disney_Snow_white_1937_trailer_screenshot_%2813%29.jpg', '//upload.wikimedia.org/wikipedia/commons/thumb/1/15/Disney_drawing_goofy.jpg/170px-Disney_drawing_goofy.jpg', '//upload.wikimedia.org/wikipedia/commons/thumb/1/13/DisneySchiphol1951.jpg/220px-DisneySchiphol1951.jpg', '//upload.wikimedia.org/wikipedia/commons/thumb/8/8c/WaltDisneyplansDisneylandDec1954.jpg/220px-WaltDisneyplansDisneylandDec1954.jpg', '//upload.wikimedia.org/wikipedia/commons/thumb/f/ff/Walt_disney_portrait_right.jpg/170px-Walt_disney_portrait_right.jpg', '//upload.wikimedia.org/wikipedia/commons/thumb/1/1a/Walt_Disney_Grave.JPG/170px-Walt_Disney_Grave.JPG', '//upload.wikimedia.org/wikipedia/commons/thumb/2/2d/Roy_O._Disney_with_Company_at_Press_Conference.jpg/170px-Roy_O._Disney_with_Company_at_Press_Conference.jpg', '//upload.wikimedia.org/wikipedia/commons/thumb/a/a9/Disney_Display_Case.JPG/170px-Disney_Display_Case.JPG', '//upload.wikimedia.org/wikipedia/commons/thumb/6/6c/Disney1968.jpg/170px-Disney1968.jpg', '//upload.wikimedia.org/wikipedia/commons/thumb/4/44/The_Walt_Disney_Company_Logo.svg/120px-The_Walt_Disney_Company_Logo.svg.png', '//upload.wikimedia.org/wikipedia/commons/thumb/d/da/Animation_disc.svg/30px-Animation_disc.svg.png', '//upload.wikimedia.org/wikipedia/en/thumb/6/69/P_vip.svg/29px-P_vip.svg.png', '//upload.wikimedia.org/wikipedia/commons/thumb/1/1a/Magic_Kingdom_castle.jpg/24px-Magic_Kingdom_castle.jpg', '//upload.wikimedia.org/wikipedia/en/thumb/e/e7/Video-x-generic.svg/30px-Video-x-generic.svg.png', '//upload.wikimedia.org/wikipedia/commons/thumb/a/a3/Flag_of_Los_Angeles_County%2C_California.svg/30px-Flag_of_Los_Angeles_County%2C_California.svg.png', '//upload.wikimedia.org/wikipedia/commons/thumb/8/8c/Blank_television_set.svg/30px-Blank_television_set.svg.png', '//upload.wikimedia.org/wikipedia/en/thumb/a/a4/Flag_of_the_United_States.svg/30px-Flag_of_the_United_States.svg.png']\n"
     ]
    }
   ],
   "source": [
    "# your code here\n",
    "soup = BeautifulSoup(requests.get(url).text,'html.parser')\n",
    "tables = soup.find_all('a', attrs={'class':'image'})\n",
    "lst3 = [table.find('img')['src'] for table in tables]\n",
    "print(lst3)"
   ]
  },
  {
   "cell_type": "markdown",
   "metadata": {
    "Collapsed": "false"
   },
   "source": [
    "#### Retrieve an arbitary Wikipedia page of \"Python\" and create a list of links on that page."
   ]
  },
  {
   "cell_type": "code",
   "execution_count": 143,
   "metadata": {
    "Collapsed": "false"
   },
   "outputs": [],
   "source": [
    "# This is the url you will scrape in this exercise\n",
    "url ='https://en.wikipedia.org/wiki/Python'\n"
   ]
  },
  {
   "cell_type": "code",
   "execution_count": null,
   "metadata": {},
   "outputs": [],
   "source": []
  },
  {
   "cell_type": "code",
   "execution_count": 144,
   "metadata": {
    "Collapsed": "false"
   },
   "outputs": [
    {
     "name": "stdout",
     "output_type": "stream",
     "text": [
      "['/wiki/Pythonidae', '/wiki/Python_(genus)', '/wiki/Python_(genus)', '/wiki/Python_(mythology)', '/wiki/Python_of_Aenus', '/wiki/Python_(painter)', '/wiki/Python_of_Byzantium', '/wiki/Python_of_Catana', '/wiki/Python_(film)', '/wiki/Pythons_2', '/wiki/Pythons_2', '/wiki/Monty_Python', '/wiki/Python_(Monty)_Pictures', '/wiki/Python_(Monty)_Pictures', '/wiki/Python_(programming_language)', '/wiki/CPython', '/wiki/CPython', '/wiki/CMU_Common_Lisp', '/wiki/PERQ#PERQ_3', '/wiki/Python_(Busch_Gardens_Tampa_Bay)', '/wiki/Python_(Coney_Island,_Cincinnati,_Ohio)', '/wiki/Python_(Efteling)', '/wiki/Python_(automobile_maker)', '/wiki/Python_(Ford_prototype)', '/wiki/Colt_Python', '/wiki/Python_(missile)', '/wiki/Python_(nuclear_primary)', '/wiki/Python_Anghelo', '/wiki/PYTHON', '/wiki/Cython', '/wiki/Pyton']\n"
     ]
    }
   ],
   "source": [
    "# your code here\n",
    "soup = BeautifulSoup(requests.get(url).text,'html.parser').find('body').find_all('div',attrs={'class':'mw-parser-output'})\n",
    "links = BeautifulSoup(str(BeautifulSoup(str(soup),'html.parser').find_all('li')),'html.parser').find_all('a', attrs={'href':re.compile(\"/wiki/\")})\n",
    "lst = [link['href'] for link in links]\n",
    "print(lst) "
   ]
  },
  {
   "cell_type": "markdown",
   "metadata": {
    "Collapsed": "false"
   },
   "source": [
    "#### Find the number of titles that have changed in the United States Code since its last release point."
   ]
  },
  {
   "cell_type": "code",
   "execution_count": 145,
   "metadata": {
    "Collapsed": "false"
   },
   "outputs": [],
   "source": [
    "# This is the url you will scrape in this exercise\n",
    "url = 'http://uscode.house.gov/download/download.shtml'"
   ]
  },
  {
   "cell_type": "code",
   "execution_count": 146,
   "metadata": {
    "Collapsed": "false"
   },
   "outputs": [
    {
     "data": {
      "text/plain": [
       "['Title 34 - Crime Control and Law Enforcement',\n",
       " 'Title 42 - The Public Health and Welfare',\n",
       " 'Title 50 - War and National Defense']"
      ]
     },
     "execution_count": 146,
     "metadata": {},
     "output_type": "execute_result"
    }
   ],
   "source": [
    "# your code here\n",
    "soup = BeautifulSoup(requests.get(url).text,'html.parser')\n",
    "lst6 = [title.text.replace('\\n','').strip() for title in soup.find_all('div', attrs={'class':'usctitlechanged'})]\n",
    "lst6"
   ]
  },
  {
   "cell_type": "markdown",
   "metadata": {
    "Collapsed": "false"
   },
   "source": [
    "#### Find a Python list with the top ten FBI's Most Wanted names."
   ]
  },
  {
   "cell_type": "code",
   "execution_count": 147,
   "metadata": {
    "Collapsed": "false"
   },
   "outputs": [],
   "source": [
    "# This is the url you will scrape in this exercise\n",
    "url = 'https://www.fbi.gov/wanted/topten'"
   ]
  },
  {
   "cell_type": "code",
   "execution_count": 148,
   "metadata": {
    "Collapsed": "false"
   },
   "outputs": [
    {
     "data": {
      "text/plain": [
       "['JASON DEREK BROWN',\n",
       " 'YASER ABDEL SAID',\n",
       " 'ALEXIS FLORES',\n",
       " 'EUGENE PALMER',\n",
       " 'RAFAEL CARO-QUINTERO',\n",
       " 'ROBERT WILLIAM FISHER',\n",
       " 'BHADRESHKUMAR CHETANBHAI PATEL',\n",
       " 'ALEJANDRO ROSALES CASTILLO',\n",
       " 'ARNOLDO JIMENEZ',\n",
       " 'SANTIAGO VILLALBA MEDEROS']"
      ]
     },
     "execution_count": 148,
     "metadata": {},
     "output_type": "execute_result"
    }
   ],
   "source": [
    "# your code here\n",
    "soup = BeautifulSoup(requests.get(url).text,'html.parser')\n",
    "lst7 = [name.text.replace('\\n','') for name in soup.find_all('h3', attrs={'class':'title'})]\n",
    "lst7"
   ]
  },
  {
   "cell_type": "markdown",
   "metadata": {
    "Collapsed": "false"
   },
   "source": [
    "####  Display the 20 latest earthquakes info (date, time, latitude, longitude and region name) by the EMSC as a pandas dataframe."
   ]
  },
  {
   "cell_type": "code",
   "execution_count": 149,
   "metadata": {
    "Collapsed": "false"
   },
   "outputs": [],
   "source": [
    "# This is the url you will scrape in this exercise\n",
    "url = 'https://www.emsc-csem.org/Earthquake/'"
   ]
  },
  {
   "cell_type": "code",
   "execution_count": 150,
   "metadata": {
    "Collapsed": "false"
   },
   "outputs": [
    {
     "data": {
      "text/html": [
       "<div>\n",
       "<style scoped>\n",
       "    .dataframe tbody tr th:only-of-type {\n",
       "        vertical-align: middle;\n",
       "    }\n",
       "\n",
       "    .dataframe tbody tr th {\n",
       "        vertical-align: top;\n",
       "    }\n",
       "\n",
       "    .dataframe thead th {\n",
       "        text-align: right;\n",
       "    }\n",
       "</style>\n",
       "<table border=\"1\" class=\"dataframe\">\n",
       "  <thead>\n",
       "    <tr style=\"text-align: right;\">\n",
       "      <th></th>\n",
       "      <th>date</th>\n",
       "      <th>latitude</th>\n",
       "      <th>longitude</th>\n",
       "      <th>region name</th>\n",
       "      <th>time</th>\n",
       "    </tr>\n",
       "  </thead>\n",
       "  <tbody>\n",
       "    <tr>\n",
       "      <th>0</th>\n",
       "      <td>2020-08-30</td>\n",
       "      <td>19.21</td>\n",
       "      <td>155.40</td>\n",
       "      <td>ISLAND OF HAWAII, HAWAII</td>\n",
       "      <td>17:23:21.5</td>\n",
       "    </tr>\n",
       "    <tr>\n",
       "      <th>1</th>\n",
       "      <td>2020-08-30</td>\n",
       "      <td>33.90</td>\n",
       "      <td>72.07</td>\n",
       "      <td>OFFSHORE O'HIGGINS, CHILE</td>\n",
       "      <td>17:04:36.0</td>\n",
       "    </tr>\n",
       "    <tr>\n",
       "      <th>2</th>\n",
       "      <td>2020-08-30</td>\n",
       "      <td>36.92</td>\n",
       "      <td>177.06</td>\n",
       "      <td>OFF E. COAST OF N. ISLAND, N.Z.</td>\n",
       "      <td>17:04:01.3</td>\n",
       "    </tr>\n",
       "    <tr>\n",
       "      <th>3</th>\n",
       "      <td>2020-08-30</td>\n",
       "      <td>60.30</td>\n",
       "      <td>150.88</td>\n",
       "      <td>KENAI PENINSULA, ALASKA</td>\n",
       "      <td>16:46:55.7</td>\n",
       "    </tr>\n",
       "    <tr>\n",
       "      <th>4</th>\n",
       "      <td>2020-08-30</td>\n",
       "      <td>17.95</td>\n",
       "      <td>66.96</td>\n",
       "      <td>PUERTO RICO</td>\n",
       "      <td>16:45:29.8</td>\n",
       "    </tr>\n",
       "    <tr>\n",
       "      <th>5</th>\n",
       "      <td>2020-08-30</td>\n",
       "      <td>17.96</td>\n",
       "      <td>66.84</td>\n",
       "      <td>PUERTO RICO</td>\n",
       "      <td>16:08:35.6</td>\n",
       "    </tr>\n",
       "    <tr>\n",
       "      <th>6</th>\n",
       "      <td>2020-08-30</td>\n",
       "      <td>3.26</td>\n",
       "      <td>139.35</td>\n",
       "      <td>PAPUA, INDONESIA</td>\n",
       "      <td>15:57:01.0</td>\n",
       "    </tr>\n",
       "    <tr>\n",
       "      <th>7</th>\n",
       "      <td>2020-08-30</td>\n",
       "      <td>38.94</td>\n",
       "      <td>3.31</td>\n",
       "      <td>SPAIN</td>\n",
       "      <td>15:56:21.1</td>\n",
       "    </tr>\n",
       "    <tr>\n",
       "      <th>8</th>\n",
       "      <td>2020-08-30</td>\n",
       "      <td>2.73</td>\n",
       "      <td>129.51</td>\n",
       "      <td>SERAM, INDONESIA</td>\n",
       "      <td>15:46:53.0</td>\n",
       "    </tr>\n",
       "    <tr>\n",
       "      <th>9</th>\n",
       "      <td>2020-08-30</td>\n",
       "      <td>36.81</td>\n",
       "      <td>177.14</td>\n",
       "      <td>OFF E. COAST OF N. ISLAND, N.Z.</td>\n",
       "      <td>15:44:05.2</td>\n",
       "    </tr>\n",
       "    <tr>\n",
       "      <th>10</th>\n",
       "      <td>2020-08-30</td>\n",
       "      <td>36.75</td>\n",
       "      <td>177.07</td>\n",
       "      <td>OFF E. COAST OF N. ISLAND, N.Z.</td>\n",
       "      <td>15:38:16.8</td>\n",
       "    </tr>\n",
       "    <tr>\n",
       "      <th>11</th>\n",
       "      <td>2020-08-30</td>\n",
       "      <td>19.73</td>\n",
       "      <td>133.99</td>\n",
       "      <td>NORTHERN TERRITORY, AUSTRALIA</td>\n",
       "      <td>15:37:25.8</td>\n",
       "    </tr>\n",
       "    <tr>\n",
       "      <th>12</th>\n",
       "      <td>2020-08-30</td>\n",
       "      <td>38.95</td>\n",
       "      <td>118.81</td>\n",
       "      <td>NEVADA</td>\n",
       "      <td>15:37:04.6</td>\n",
       "    </tr>\n",
       "    <tr>\n",
       "      <th>13</th>\n",
       "      <td>2020-08-30</td>\n",
       "      <td>36.94</td>\n",
       "      <td>177.34</td>\n",
       "      <td>OFF E. COAST OF N. ISLAND, N.Z.</td>\n",
       "      <td>15:36:47.8</td>\n",
       "    </tr>\n",
       "    <tr>\n",
       "      <th>14</th>\n",
       "      <td>2020-08-30</td>\n",
       "      <td>36.86</td>\n",
       "      <td>177.15</td>\n",
       "      <td>OFF E. COAST OF N. ISLAND, N.Z.</td>\n",
       "      <td>15:34:25.2</td>\n",
       "    </tr>\n",
       "    <tr>\n",
       "      <th>15</th>\n",
       "      <td>2020-08-30</td>\n",
       "      <td>30.00</td>\n",
       "      <td>71.22</td>\n",
       "      <td>COQUIMBO, CHILE</td>\n",
       "      <td>15:32:10.0</td>\n",
       "    </tr>\n",
       "    <tr>\n",
       "      <th>16</th>\n",
       "      <td>2020-08-30</td>\n",
       "      <td>36.75</td>\n",
       "      <td>177.15</td>\n",
       "      <td>OFF E. COAST OF N. ISLAND, N.Z.</td>\n",
       "      <td>14:58:14.5</td>\n",
       "    </tr>\n",
       "    <tr>\n",
       "      <th>17</th>\n",
       "      <td>2020-08-30</td>\n",
       "      <td>28.09</td>\n",
       "      <td>88.14</td>\n",
       "      <td>WESTERN XIZANG</td>\n",
       "      <td>14:55:59.0</td>\n",
       "    </tr>\n",
       "    <tr>\n",
       "      <th>18</th>\n",
       "      <td>2020-08-30</td>\n",
       "      <td>33.92</td>\n",
       "      <td>72.03</td>\n",
       "      <td>OFFSHORE O'HIGGINS, CHILE</td>\n",
       "      <td>14:51:38.0</td>\n",
       "    </tr>\n",
       "    <tr>\n",
       "      <th>19</th>\n",
       "      <td>2020-08-30</td>\n",
       "      <td>33.90</td>\n",
       "      <td>71.99</td>\n",
       "      <td>OFFSHORE VALPARAISO, CHILE</td>\n",
       "      <td>14:28:29.0</td>\n",
       "    </tr>\n",
       "  </tbody>\n",
       "</table>\n",
       "</div>"
      ],
      "text/plain": [
       "          date latitude longitude                      region name        time\n",
       "0   2020-08-30    19.21    155.40         ISLAND OF HAWAII, HAWAII  17:23:21.5\n",
       "1   2020-08-30    33.90     72.07        OFFSHORE O'HIGGINS, CHILE  17:04:36.0\n",
       "2   2020-08-30    36.92    177.06  OFF E. COAST OF N. ISLAND, N.Z.  17:04:01.3\n",
       "3   2020-08-30    60.30    150.88          KENAI PENINSULA, ALASKA  16:46:55.7\n",
       "4   2020-08-30    17.95     66.96                      PUERTO RICO  16:45:29.8\n",
       "5   2020-08-30    17.96     66.84                      PUERTO RICO  16:08:35.6\n",
       "6   2020-08-30     3.26    139.35                 PAPUA, INDONESIA  15:57:01.0\n",
       "7   2020-08-30    38.94      3.31                            SPAIN  15:56:21.1\n",
       "8   2020-08-30     2.73    129.51                 SERAM, INDONESIA  15:46:53.0\n",
       "9   2020-08-30    36.81    177.14  OFF E. COAST OF N. ISLAND, N.Z.  15:44:05.2\n",
       "10  2020-08-30    36.75    177.07  OFF E. COAST OF N. ISLAND, N.Z.  15:38:16.8\n",
       "11  2020-08-30    19.73    133.99    NORTHERN TERRITORY, AUSTRALIA  15:37:25.8\n",
       "12  2020-08-30    38.95    118.81                           NEVADA  15:37:04.6\n",
       "13  2020-08-30    36.94    177.34  OFF E. COAST OF N. ISLAND, N.Z.  15:36:47.8\n",
       "14  2020-08-30    36.86    177.15  OFF E. COAST OF N. ISLAND, N.Z.  15:34:25.2\n",
       "15  2020-08-30    30.00     71.22                  COQUIMBO, CHILE  15:32:10.0\n",
       "16  2020-08-30    36.75    177.15  OFF E. COAST OF N. ISLAND, N.Z.  14:58:14.5\n",
       "17  2020-08-30    28.09     88.14                   WESTERN XIZANG  14:55:59.0\n",
       "18  2020-08-30    33.92     72.03        OFFSHORE O'HIGGINS, CHILE  14:51:38.0\n",
       "19  2020-08-30    33.90     71.99       OFFSHORE VALPARAISO, CHILE  14:28:29.0"
      ]
     },
     "execution_count": 150,
     "metadata": {},
     "output_type": "execute_result"
    }
   ],
   "source": [
    "# your code here\n",
    "rows = BeautifulSoup(requests.get(url).text,'html.parser').find('tbody').find_all('tr')\n",
    "df = pd.DataFrame()\n",
    "\n",
    "for row in rows[:20]:\n",
    "    cells = row.find_all('td')\n",
    "    d = {'date' : cells[3].find('a').text.split('\\xa0\\xa0\\xa0')[0],\n",
    "    'time' : cells[3].find('a').text.split('\\xa0\\xa0\\xa0')[1],\n",
    "    'latitude' : cells[4].text.replace('\\xa0',''),\n",
    "    'longitude' : cells[6].text.replace('\\xa0',''),\n",
    "    'region name' : cells[11].text.replace('\\xa0',''),}\n",
    "    \n",
    "    df = df.append(d,ignore_index=True)\n",
    "    \n",
    "df.head(20)"
   ]
  },
  {
   "cell_type": "markdown",
   "metadata": {
    "Collapsed": "false"
   },
   "source": [
    "#### Count the number of tweets by a given Twitter account.\n",
    "Ask the user for the handle (@handle) of a twitter account. You will need to include a ***try/except block*** for account names not found. \n",
    "<br>***Hint:*** the program should count the number of tweets for any provided account."
   ]
  },
  {
   "cell_type": "code",
   "execution_count": 168,
   "metadata": {
    "Collapsed": "false"
   },
   "outputs": [],
   "source": [
    "# This is the url you will scrape in this exercise \n",
    "# You will need to add the account credentials to this url\n",
    "url = 'https://twitter.com/jeroenvdgulik/followers'"
   ]
  },
  {
   "cell_type": "code",
   "execution_count": 190,
   "metadata": {
    "Collapsed": "false"
   },
   "outputs": [],
   "source": [
    "# your code here\n"
   ]
  },
  {
   "cell_type": "code",
   "execution_count": 191,
   "metadata": {},
   "outputs": [
    {
     "data": {
      "text/plain": [
       "<body>\n",
       "<noscript>\n",
       "<form action=\"https://mobile.twitter.com/i/nojs_router?path=%2Fjeroenvdgulik%2Ffollowers\" method=\"POST\" style=\"background-color: #fff; position: fixed; top: 0; left: 0; right: 0; bottom: 0; z-index: 9999;\">\n",
       "<div style=\"font-size: 18px; font-family: Helvetica,sans-serif; line-height: 24px; margin: 10%; width: 80%;\">\n",
       "<p>We've detected that JavaScript is disabled in your browser. Would you like to proceed to legacy Twitter?</p>\n",
       "<p style=\"margin: 20px 0;\">\n",
       "<button style=\"background-color: #1da1f2; border-radius: 100px; border: none; box-shadow: none; color: #fff; cursor: pointer; font-size: 14px; font-weight: bold; line-height: 20px; padding: 6px 16px;\" type=\"submit\">Yes</button>\n",
       "</p>\n",
       "</div>\n",
       "</form>\n",
       "</noscript>\n",
       "<div id=\"react-root\" style=\"height:100%;display:flex;\"><div class=\"css-1dbjc4n r-13awgt0 r-12vffkv\"><div class=\"css-1dbjc4n r-13awgt0 r-12vffkv\"><div aria-label=\"Loading…\" class=\"css-1dbjc4n r-14lw9ot r-1p0dtai r-1d2f490 r-1xcajam r-zchlnj r-ipm5af\"><svg class=\"r-1p0dtai r-13gxpu9 r-4qtqp9 r-yyyyoo r-wy61xf r-1d2f490 r-ywje51 r-dnmrzs r-u8s1d r-zchlnj r-1plcrui r-ipm5af r-lrvibr r-1blnp2b\" viewbox=\"0 0 24 24\"><g><path d=\"M23.643 4.937c-.835.37-1.732.62-2.675.733.962-.576 1.7-1.49 2.048-2.578-.9.534-1.897.922-2.958 1.13-.85-.904-2.06-1.47-3.4-1.47-2.572 0-4.658 2.086-4.658 4.66 0 .364.042.718.12 1.06-3.873-.195-7.304-2.05-9.602-4.868-.4.69-.63 1.49-.63 2.342 0 1.616.823 3.043 2.072 3.878-.764-.025-1.482-.234-2.11-.583v.06c0 2.257 1.605 4.14 3.737 4.568-.392.106-.803.162-1.227.162-.3 0-.593-.028-.877-.082.593 1.85 2.313 3.198 4.352 3.234-1.595 1.25-3.604 1.995-5.786 1.995-.376 0-.747-.022-1.112-.065 2.062 1.323 4.51 2.093 7.14 2.093 8.57 0 13.255-7.098 13.255-13.254 0-.2-.005-.402-.014-.602.91-.658 1.7-1.477 2.323-2.41z\"></path></g></svg></div><div class=\"css-1dbjc4n r-hvic4v r-1d2f490 r-1xcajam r-zchlnj r-1ykxob0\" id=\"ScriptLoadFailure\"><form action=\"\" method=\"GET\"><div class=\"css-901oao r-1adg3ll r-1b2b6em r-q4m81j\" dir=\"auto\"><span class=\"css-901oao css-16my406\" dir=\"auto\">Something went wrong, but don’t fret — let’s give it another shot.</span><br/><input name=\"failedScript\" type=\"hidden\" value=\"\"/><input type=\"submit\" value=\"Try again\"/></div></form></div></div></div></div>\n",
       "<script nonce=\"ODA4ZGRlYzItYjc1NS00OTkxLWFiYzYtZmMwOTVhNzU4NmQ5\">\n",
       "window.__INITIAL_STATE__ = {\"optimist\":[],\"featureSwitch\":{\"config\":{\"2fa_multikey_management_enabled\":{\"value\":false},\"account_country_setting_countries_whitelist\":{\"value\":[\"ad\",\"ae\",\"af\",\"ag\",\"ai\",\"al\",\"am\",\"ao\",\"ar\",\"as\",\"at\",\"au\",\"aw\",\"ax\",\"az\",\"ba\",\"bb\",\"bd\",\"be\",\"bf\",\"bg\",\"bh\",\"bi\",\"bj\",\"bl\",\"bm\",\"bn\",\"bo\",\"bq\",\"br\",\"bs\",\"bt\",\"bv\",\"bw\",\"by\",\"bz\",\"ca\",\"cc\",\"cd\",\"cf\",\"cg\",\"ch\",\"ci\",\"ck\",\"cl\",\"cm\",\"co\",\"cr\",\"cu\",\"cv\",\"cw\",\"cx\",\"cy\",\"cz\",\"de\",\"dj\",\"dk\",\"dm\",\"do\",\"dz\",\"ec\",\"ee\",\"eg\",\"er\",\"es\",\"et\",\"fi\",\"fj\",\"fk\",\"fm\",\"fo\",\"fr\",\"ga\",\"gb\",\"gd\",\"ge\",\"gf\",\"gg\",\"gh\",\"gi\",\"gl\",\"gm\",\"gn\",\"gp\",\"gq\",\"gr\",\"gs\",\"gt\",\"gu\",\"gw\",\"gy\",\"hk\",\"hn\",\"hr\",\"ht\",\"hu\",\"id\",\"ie\",\"il\",\"im\",\"in\",\"io\",\"iq\",\"ir\",\"is\",\"it\",\"je\",\"jm\",\"jo\",\"jp\",\"ke\",\"kg\",\"kh\",\"ki\",\"km\",\"kn\",\"kr\",\"kw\",\"ky\",\"kz\",\"la\",\"lb\",\"lc\",\"li\",\"lk\",\"lr\",\"ls\",\"lt\",\"lu\",\"lv\",\"ly\",\"ma\",\"mc\",\"md\",\"me\",\"mf\",\"mg\",\"mh\",\"mk\",\"ml\",\"mn\",\"mo\",\"mp\",\"mq\",\"mr\",\"ms\",\"mt\",\"mu\",\"mv\",\"mw\",\"mx\",\"my\",\"mz\",\"na\",\"nc\",\"ne\",\"nf\",\"ng\",\"ni\",\"nl\",\"no\",\"np\",\"nr\",\"nu\",\"nz\",\"om\",\"pa\",\"pe\",\"pf\",\"pg\",\"ph\",\"pk\",\"pl\",\"pm\",\"pn\",\"pr\",\"ps\",\"pt\",\"pw\",\"py\",\"qa\",\"re\",\"ro\",\"rs\",\"ru\",\"rw\",\"sa\",\"sb\",\"sc\",\"se\",\"sg\",\"sh\",\"si\",\"sk\",\"sl\",\"sm\",\"sn\",\"so\",\"sr\",\"st\",\"sv\",\"sx\",\"sz\",\"tc\",\"td\",\"tf\",\"tg\",\"th\",\"tj\",\"tk\",\"tl\",\"tm\",\"tn\",\"to\",\"tr\",\"tt\",\"tv\",\"tw\",\"tz\",\"ua\",\"ug\",\"us\",\"uy\",\"uz\",\"va\",\"vc\",\"ve\",\"vi\",\"vn\",\"vu\",\"wf\",\"ws\",\"xk\",\"ye\",\"yt\",\"za\",\"zm\",\"zw\"]},\"author_moderated_replies_urt_container_enabled\":{\"value\":false},\"content_language_setting_enabled\":{\"value\":true},\"conversation_controls_highlighted_education_enabled\":{\"value\":true},\"conversation_controls_limited_replies_consumption_configuration\":{\"value\":\"no_reply\"},\"conversation_controls_limited_replies_creation_enabled\":{\"value\":true},\"conversation_controls_notifying_participants_enabled\":{\"value\":false},\"dm_reactions_config_active_reactions\":{\"value\":[\"😂:funny\",\"😲:surprised\",\"😢:sad\",\"❤:like\",\"🔥:excited\",\"👍:agree\",\"👎:disagree\"]},\"dm_reactions_config_inactive_reactions\":{\"value\":[\"😠:angry\"]},\"employee_role\":{\"value\":false},\"explore_grouped_trends_and_events_10300\":{\"value\":\"control\"},\"guest_broadcasting_timeline_decorations_enabled\":{\"value\":true},\"hashflags_animation_like_button_enabled\":{\"value\":true},\"hashflags_animation_lottie_default_enabled\":{\"value\":false},\"home_timeline_latest_timeline_autoswitch_half_life_minutes\":{\"value\":43200},\"home_timeline_latest_timeline_autoswitch_threshold_multiplier\":{\"value\":2},\"home_timeline_latest_timeline_max_time_to_autoswitch_minutes\":{\"value\":5256000},\"home_timeline_latest_timeline_min_time_to_autoswitch_minutes\":{\"value\":5256000},\"home_timeline_latest_timeline_switch_enabled\":{\"value\":true},\"home_timeline_latest_timeline_threshold_to_increase_autoswitch_seconds\":{\"value\":60},\"home_timeline_spheres_copy_variant\":{\"value\":\"list_follow\"},\"home_timeline_spheres_custom_banner_image_reads_enabled\":{\"value\":true},\"home_timeline_spheres_detail_page_muting_enabled\":{\"value\":true},\"home_timeline_spheres_list_cell_thumbnail_enabled\":{\"value\":true},\"home_timeline_spheres_max_user_owned_or_subscribed_lists_count\":{\"value\":5},\"home_timeline_spheres_ranking_mode_control_enabled\":{\"value\":true},\"identity_verification_intake_enabled\":{\"value\":false},\"live_event_docking_enabled\":{\"value\":true},\"live_event_multi_video_auto_advance_dock_enabled\":{\"value\":true},\"live_event_multi_video_auto_advance_enabled\":{\"value\":true},\"live_event_multi_video_auto_advance_fullscreen_enabled\":{\"value\":false},\"live_event_multi_video_auto_advance_transition_duration_seconds\":{\"value\":5},\"live_event_multi_video_enabled\":{\"value\":true},\"live_event_timeline_default_refresh_rate_interval_seconds\":{\"value\":30},\"live_event_timeline_minimum_refresh_rate_interval_seconds\":{\"value\":10},\"live_event_timeline_server_controlled_refresh_rate_enabled\":{\"value\":true},\"live_event_vod_promoted_content_enabled\":{\"value\":true},\"livepipeline_client_enabled\":{\"value\":true},\"livepipeline_dm_features_enabled\":{\"value\":true},\"livepipeline_tweetengagement_enabled\":{\"value\":true},\"moment_annotations_enabled\":{\"value\":true},\"name_accessibility_unicode_detection_enabled\":{\"value\":false},\"network_layer_503_backoff_mode\":{\"value\":\"host\"},\"responsive_web_alt_svc\":{\"value\":false},\"responsive_web_alt_text_badge_enabled\":{\"value\":false},\"responsive_web_api_transition_enabled\":{\"value\":false},\"responsive_web_auto_logout_multiaccount_enabled\":{\"value\":true},\"responsive_web_auto_logout_restrictedauthtoken_enabled\":{\"value\":true},\"responsive_web_auto_logout_twid_enabled\":{\"value\":true},\"responsive_web_birdwatch_consumption_enabled\":{\"value\":false},\"responsive_web_birdwatch_contribution_enabled\":{\"value\":false},\"responsive_web_branch_cpid_enabled\":{\"value\":true},\"responsive_web_branch_sdk_enabled\":{\"value\":true},\"responsive_web_broadcast_page_card_enabled\":{\"value\":true},\"responsive_web_card_preload_mode\":{\"value\":\"prerender\"},\"responsive_web_check_browser_support_enabled\":{\"value\":true},\"responsive_web_cleanup_macaw_swift_indexed_db\":{\"value\":true},\"responsive_web_continue_as_always_enabled\":{\"value\":false},\"responsive_web_continue_as_param_enabled\":{\"value\":true},\"responsive_web_conversation_tree_enabled\":{\"value\":false},\"responsive_web_conversation_tree_toggle\":{\"value\":false},\"responsive_web_csrf_clientside_enabled\":{\"value\":true},\"responsive_web_dark_mode_scrollbars_enabled\":{\"value\":false},\"responsive_web_dcm_2_enabled\":{\"value\":true},\"responsive_web_dm_composer_media_toggle_enabled\":{\"value\":false},\"responsive_web_dm_entry_anchoring_top_anchoring_default_enabled\":{\"value\":true},\"responsive_web_dm_health_convo_block_report_button_enabled\":{\"value\":true},\"responsive_web_dm_health_convo_group_changes_enabled\":{\"value\":true},\"responsive_web_dm_health_convo_inline_profile_info_enabled\":{\"value\":true},\"responsive_web_dm_health_inbox_request_cell_social_proof_enabled\":{\"value\":false},\"responsive_web_dm_quick_access_enabled\":{\"value\":true},\"responsive_web_dm_quick_access_no_empty_drawer_enabled\":{\"value\":true},\"responsive_web_dm_quick_access_with_close_enabled\":{\"value\":false},\"responsive_web_elevated_qt_label_configuration\":{\"value\":\"\"},\"responsive_web_elevated_qt_quote_action_menu_verbiage_enabled\":{\"value\":false},\"responsive_web_elevated_qt_tweet_detail_stat_ordering_enabled\":{\"value\":false},\"responsive_web_eu_countries\":{\"value\":[\"at\",\"be\",\"bg\",\"ch\",\"cy\",\"cz\",\"de\",\"dk\",\"ee\",\"es\",\"fi\",\"fr\",\"gb\",\"gr\",\"hr\",\"hu\",\"ie\",\"is\",\"it\",\"li\",\"lt\",\"lu\",\"lv\",\"mt\",\"nl\",\"no\",\"pl\",\"pt\",\"ro\",\"se\",\"si\",\"sk\"]},\"responsive_web_extension_compatibility_hide\":{\"value\":false},\"responsive_web_extension_compatibility_impression_guard\":{\"value\":true},\"responsive_web_extension_compatibility_override_param\":{\"value\":false},\"responsive_web_extension_compatibility_scribe\":{\"value\":true},\"responsive_web_extension_compatibility_size_threshold\":{\"value\":50},\"responsive_web_fake_root_twitter_domain_for_testing\":{\"value\":false},\"responsive_web_feature_switch_dash_enabled\":{\"value\":false},\"responsive_web_fetch_hashflags_on_boot\":{\"value\":true},\"responsive_web_fleets_dm_consumption_enabled\":{\"value\":false},\"responsive_web_framerate_tracking_home_enabled\":{\"value\":false},\"responsive_web_graphql_amr_timeline\":{\"value\":false},\"responsive_web_graphql_bookmarks\":{\"value\":false},\"responsive_web_graphql_dark_reads_probability\":{\"value\":0},\"responsive_web_graphql_list_crud\":{\"value\":true},\"responsive_web_graphql_list_management_timelines_enabled\":{\"value\":false},\"responsive_web_graphql_list_members_subscribers_enabled\":{\"value\":false},\"responsive_web_graphql_list_operations\":{\"value\":false},\"responsive_web_graphql_tweet_results\":{\"value\":false},\"responsive_web_graphql_user_by_rest_id\":{\"value\":false},\"responsive_web_graphql_user_results\":{\"value\":false},\"responsive_web_graphql_verify_credentials_enabled\":{\"value\":true},\"responsive_web_guest_token_reporting\":{\"value\":true},\"responsive_web_hide_media_previews_enabled\":{\"value\":false},\"responsive_web_history_tracker_enabled\":{\"value\":true},\"responsive_web_hoisting_anchor_invalidation_enabled\":{\"value\":false},\"responsive_web_horizon_video_player_enabled\":{\"value\":true},\"responsive_web_hover_on_mousemove_enabled\":{\"value\":false},\"responsive_web_html_archive_renderer_enabled\":{\"value\":true},\"responsive_web_hw_cards_in_dms_enabled\":{\"value\":true},\"responsive_web_inline_reply_enabled\":{\"value\":false},\"responsive_web_inline_reply_with_fab_enabled\":{\"value\":false},\"responsive_web_instream_video_enabled\":{\"value\":true},\"responsive_web_instream_video_redesign_enabled\":{\"value\":false},\"responsive_web_list_hover_cards_enabled\":{\"value\":true},\"responsive_web_live_video_parity_periscope_auth_enabled\":{\"value\":false},\"responsive_web_login_input_type_email_enabled\":{\"value\":false},\"responsive_web_login_signup_sheet_app_install_cta_enabled\":{\"value\":false},\"responsive_web_media_upload_limit_2g\":{\"value\":250},\"responsive_web_media_upload_limit_3g\":{\"value\":1500},\"responsive_web_media_upload_limit_slow_2g\":{\"value\":150},\"responsive_web_media_upload_md5_hashing_enabled\":{\"value\":false},\"responsive_web_media_upload_target_jpg_pixels_per_byte\":{\"value\":6},\"responsive_web_menu_section_divider_enabled\":{\"value\":false},\"responsive_web_modern_bundle_enabled\":{\"value\":true},\"responsive_web_modern_bundle_sw_enabled\":{\"value\":true},\"responsive_web_moment_maker_annotations_enabled\":{\"value\":false},\"responsive_web_moment_maker_enabled\":{\"value\":false},\"responsive_web_multiple_account_limit\":{\"value\":5},\"responsive_web_new_client_events_enabled\":{\"value\":false},\"responsive_web_not_my_account_screen_enabled\":{\"value\":true},\"responsive_web_ntab_verified_mentions_vit_internal_dogfood\":{\"value\":false},\"responsive_web_ocf_sms_autoverify_enabled\":{\"value\":false},\"responsive_web_promoted_trends_event_migration_enabled\":{\"value\":false},\"responsive_web_promoted_tweet_param_append_enabled\":{\"value\":false},\"responsive_web_promoted_tweet_url_rewrite_enabled\":{\"value\":false},\"responsive_web_quick_promote_enabled\":{\"value\":false},\"responsive_web_redirect_to_app_enabled\":{\"value\":true},\"responsive_web_report_page_not_found\":{\"value\":false},\"responsive_web_rich_tweet_landing_enabled\":{\"value\":true},\"responsive_web_scheduling_edit_enabled\":{\"value\":false},\"responsive_web_scheduling_enabled\":{\"value\":false},\"responsive_web_scheduling_entry_point\":{\"value\":\"overflow\"},\"responsive_web_scroller_autopoll_enabled\":{\"value\":false},\"responsive_web_scroller_v3_enabled\":{\"value\":false},\"responsive_web_search_dms_enabled\":{\"value\":true},\"responsive_web_second_degree_replies_nudge_force_enabled\":{\"value\":false},\"responsive_web_second_degree_replies_nudge_get_enabled\":{\"value\":false},\"responsive_web_second_degree_replies_nudge_show_enabled\":{\"value\":false},\"responsive_web_serviceworker_safari_disabled\":{\"value\":false},\"responsive_web_settings_revamp_enabled\":{\"value\":false},\"responsive_web_settings_timeline_refresh_background_interval\":{\"value\":0},\"responsive_web_settings_timeline_refresh_enabled\":{\"value\":false},\"responsive_web_settings_timeline_refresh_instant_default\":{\"value\":true},\"responsive_web_sports_carousel\":{\"value\":false},\"responsive_web_trends_setting_new_endpoints\":{\"value\":true},\"responsive_web_trigger_test_backoff_on_bookmark\":{\"value\":false},\"responsive_web_tweet_drafts_enabled\":{\"value\":false},\"responsive_web_tweets_pill_local_enabled\":{\"value\":true},\"responsive_web_unified_cards_live_event_enabled\":{\"value\":true},\"responsive_web_unified_cards_poll2choice_image_enabled\":{\"value\":true},\"responsive_web_unified_cards_poll2choice_video_enabled\":{\"value\":true},\"responsive_web_unified_cards_poll3choice_image_enabled\":{\"value\":true},\"responsive_web_unified_cards_poll3choice_video_enabled\":{\"value\":true},\"responsive_web_unified_cards_poll4choice_image_enabled\":{\"value\":true},\"responsive_web_unified_cards_poll4choice_video_enabled\":{\"value\":true},\"responsive_web_unsupported_entry_tombstone\":{\"value\":false},\"responsive_web_use_app_prompt_copy_variant\":{\"value\":\"prompt_better\"},\"responsive_web_use_app_prompt_enabled\":{\"value\":true},\"responsive_web_verification_v2_enabled\":{\"value\":true},\"responsive_web_video_native_fullscreen_enabled\":{\"value\":true},\"responsive_web_video_pcomplete_enabled\":{\"value\":false},\"responsive_web_video_promoted_logging_enabled\":{\"value\":true},\"responsive_web_vod_muted_captions_enabled\":{\"value\":true},\"responsive_web_vs_config_desktop_assumed_item_height\":{\"value\":100},\"responsive_web_vs_config_resize_observer_enabled\":{\"value\":true},\"responsive_web_zipkin_api_requests_enabled\":{\"value\":false},\"responsive_web_zipkin_api_requests_paths_allowlist\":{\"value\":[\"/2/timeline/home.json\"]},\"scribe_api_error_sample_size\":{\"value\":0},\"scribe_api_sample_size\":{\"value\":100},\"scribe_cdn_host_list\":{\"value\":[\"si0.twimg.com\",\"si1.twimg.com\",\"si2.twimg.com\",\"si3.twimg.com\",\"a0.twimg.com\",\"a1.twimg.com\",\"a2.twimg.com\",\"a3.twimg.com\",\"abs.twimg.com\",\"amp.twimg.com\",\"o.twimg.com\",\"pbs.twimg.com\",\"pbs-eb.twimg.com\",\"pbs-ec.twimg.com\",\"pbs-v6.twimg.com\",\"pbs-h1.twimg.com\",\"pbs-h2.twimg.com\",\"video.twimg.com\",\"platform.twitter.com\",\"cdn.api.twitter.com\",\"ton.twimg.com\",\"v.cdn.vine.co\",\"mtc.cdn.vine.co\",\"edge.vncdn.co\",\"mid.vncdn.co\"]},\"scribe_cdn_sample_size\":{\"value\":50},\"search_channels_description_enabled\":{\"value\":true},\"search_channels_discovery_page_enabled\":{\"value\":false},\"search_features_deep_link_request_params_enabled\":{\"value\":true},\"soft_interventions_forward_pivot_enabled\":{\"value\":true},\"soft_interventions_inner_qt_forward_pivot_enabled\":{\"value\":false},\"topic_landing_page_enabled\":{\"value\":true},\"topic_landing_page_share_enabled\":{\"value\":false},\"topics_descriptions_enabled\":{\"value\":true},\"topics_dismiss_control_enabled\":{\"value\":true},\"topics_new_mgmt_enabled\":{\"value\":true},\"topics_new_social_context_bottom_border_enabled\":{\"value\":false},\"topics_new_social_context_enabled\":{\"value\":false},\"topics_new_social_context_icon_color_enabled\":{\"value\":false},\"topics_peek_home_enabled\":{\"value\":false},\"topics_peek_search_enabled\":{\"value\":false},\"traffic_rewrite_map\":{\"value\":[]},\"tweet_limited_actions_config_enabled\":{\"value\":true},\"tweet_limited_actions_config_non_compliant\":{\"value\":[\"reply\",\"retweet\",\"like\",\"send_via_dm\",\"add_to_bookmarks\",\"add_to_moment\",\"pin_to_profile\",\"view_tweet_activity\",\"share_tweet_via\"]},\"unified_cards_cta_color_blue_cta\":{\"value\":true},\"user_display_name_max_limit\":{\"value\":50},\"web_video_bitrate_persistence_enabled\":{\"value\":false},\"web_video_hls_android_mse_enabled\":{\"value\":true},\"web_video_hls_mp4_threshold_sec\":{\"value\":0},\"web_video_hlsjs_max_buffer_length_pause\":{\"value\":3},\"web_video_hlsjs_max_buffer_length_play\":{\"value\":3},\"web_video_hlsjs_version\":{\"value\":\"\"}},\"debug\":{},\"impression_pointers\":{\"responsive_web_ocf_sms_autoverify_enabled\":[\"onboarding_chrome_sms_autoverify_9851\"],\"responsive_web_redirect_to_app_enabled\":[\"rweb_redirect_to_app_10853\"]},\"impressions\":{\"onboarding_chrome_sms_autoverify_9851\":{\"key\":\"onboarding_chrome_sms_autoverify_9851\",\"bucket\":\"control\",\"version\":5},\"rweb_redirect_to_app_10853\":{\"key\":\"rweb_redirect_to_app_10853\",\"bucket\":\"treatment\",\"version\":2}},\"featureSetToken\":\"78b532fbb882a02eeeddf0e028bade05a5cfa592\",\"isLoaded\":true,\"isLoading\":false,\"keysRead\":{},\"settingsVersion\":\"09bd185484f5debbfe7d3ff8db3356a9\"},\"urt\":{},\"entities\":{\"users\":{\"entities\":{},\"errors\":{},\"fetchStatus\":{}},\"tweets\":{\"entities\":{},\"errors\":{},\"fetchStatus\":{}},\"cards\":{\"entities\":{},\"errors\":{},\"fetchStatus\":{}}},\"toasts\":[],\"devices\":{\"browserPush\":{\"fetchStatus\":\"none\",\"pushNotificationsPrompt\":{\"dismissed\":false,\"fetchStatus\":\"none\"},\"subscribed\":false,\"supported\":null},\"devices\":{\"data\":{\"emails\":[],\"phone_numbers\":[]},\"fetchStatus\":\"none\"},\"notificationSettings\":{\"push_settings\":{\"error\":null,\"fetchStatus\":\"none\"},\"push_settings_template\":{\"template\":{\"settings\":[]}},\"sms_settings\":{\"error\":null,\"fetchStatus\":\"none\"},\"sms_settings_template\":{\"template\":{\"settings\":[]}},\"checkin_time\":null}},\"typeaheadUsers\":{\"fetchStatus\":\"none\",\"users\":{},\"denylist\":{},\"lastUpdated\":0,\"index\":{}},\"session\":{\"country\":\"NL\",\"emailLiteLoginEligibility\":{\"fetchStatus\":\"none\"},\"guestId\":\"159880921350173537\",\"language\":\"en\",\"oneFactorLoginEligibility\":{\"fetchStatus\":\"none\"}},\"settings\":{\"local\":{\"nextPushCheckin\":0,\"shouldAutoPlayGif\":false,\"scale\":\"normal\",\"themeColor\":\"blue\",\"highContrastEnabled\":false,\"themeBackground\":\"light\",\"loginPromptLastShown\":0,\"mediaPreviewsEnabled\":true,\"reducedMotionEnabled\":false,\"conversationTreeEnabled\":false,\"showTweetMediaDetailDrawer\":true},\"remote\":{\"settings\":{\"display_sensitive_media\":false},\"fetchStatus\":\"none\"},\"dataSaver\":{\"dataSaverMode\":false},\"transient\":{\"dtabBarInfo\":{\"dtabAll\":null,\"dtabRweb\":null,\"hide\":false},\"loginPromptShown\":false,\"lastViewedDmInboxPath\":\"/messages\",\"themeFocus\":\"\"}},\"hashflags\":{\"fetchStatus\":\"none\",\"hashflags\":{}}};\n",
       "window.__META_DATA__ = {\"env\":\"prod\",\"isFromDynamicRenderer\":false,\"isLoggedIn\":false,\"isRTL\":false,\"hasMultiAccountCookie\":false,\"uaParserTags\":[\"m2\",\"rweb_unsupported\",\"msw\"],\"serverDate\":1598809213541,\"sha\":\"39599a6b1395b4bbf50eddc5d9956dd8a4ec5b66\"};\n",
       "</script>\n",
       "<script nonce=\"ODA4ZGRlYzItYjc1NS00OTkxLWFiYzYtZmMwOTVhNzU4NmQ5\">\n",
       "  document.cookie = decodeURIComponent(\"gt=1300126189940609025; Max-Age=10800; Domain=.twitter.com; Path=/; Secure\");\n",
       "</script>\n",
       "<script charset=\"utf-8\" nonce=\"ODA4ZGRlYzItYjc1NS00OTkxLWFiYzYtZmMwOTVhNzU4NmQ5\" type=\"text/javascript\">\n",
       "  window.__SCRIPTS_LOADED__ = {};\n",
       "  !function(e){function n(n){for(var o,t,i=n[0],l=n[1],c=n[2],b=0,s=[];b<i.length;b++)t=i[b],Object.prototype.hasOwnProperty.call(a,t)&&a[t]&&s.push(a[t][0]),a[t]=0;for(o in l)Object.prototype.hasOwnProperty.call(l,o)&&(e[o]=l[o]);for(u&&u(n);s.length;)s.shift()();return r.push.apply(r,c||[]),d()}function d(){for(var e,n=0;n<r.length;n++){for(var d=r[n],o=!0,i=1;i<d.length;i++){var l=d[i];0!==a[l]&&(o=!1)}o&&(r.splice(n--,1),e=t(t.s=d[0]))}return e}var o={},a={1:0},r=[];function t(n){if(o[n])return o[n].exports;var d=o[n]={i:n,l:!1,exports:{}};return e[n].call(d.exports,d,d.exports,t),d.l=!0,d.exports}t.e=function(e){var n=[],d=a[e];if(0!==d)if(d)n.push(d[2]);else{var o=new Promise((function(n,o){d=a[e]=[n,o]}));n.push(d[2]=o);var r,i=document.createElement(\"script\");i.charset=\"utf-8\",i.timeout=120,t.nc&&i.setAttribute(\"nonce\",t.nc),i.src=function(e){return t.p+\"\"+({0:\"sharedCore\",3:\"shared~loader.DMDrawer~bundle.Compose~bundle.RichTextCompose~bundle.DirectMessages~bundle.DMRichTextCompose~b\",4:\"shared~bundle.ComposeMedia~bundle.Display~bundle.Ocf~bundle.Settings~bundle.SettingsProfile~bundle.UserLists~\",5:\"shared~bundle.Explore~bundle.GenericTimeline~bundle.LiveEvent~bundle.Place~bundle.Search~bundle.QuoteTweetAct\",6:\"shared~bundle.ComposeMedia~bundle.Ocf~bundle.SettingsProfile~bundle.UserLists\",7:\"shared~bundle.Compose~bundle.RichTextCompose~bundle.PlainTextCompose\",8:\"shared~bundle.DirectMessages~bundle.TweetMediaDetail~bundle.UserAvatar\",9:\"shared~bundle.Place~bundle.Search~bundle.QuoteTweetActivity\",10:\"shared~bundle.RichTextCompose~bundle.DMRichTextCompose~ondemand.RichText\",11:\"shared~bundle.Settings~ondemand.SettingsInternals~bundle.SettingsTransparency\",12:\"shared~loader.DMDrawer~bundle.DirectMessages~bundle.DMRichTextCompose\",13:\"shared~bundle.Display~bundle.Settings\",14:\"shared~bundle.Explore~loader.ExploreSidebar\",15:\"shared~bundle.LiveEvent~bundle.UserMoments\",16:\"shared~bundle.TopicPeek~ondemand.EmojiPicker\",17:\"shared~loader.DashMenu~bundle.Account\",18:\"shared~loader.Typeahead~ondemand.SettingsInternals\",19:\"shared~ondemand.EmojiPickerData~ondemand.EmojiPicker\",20:\"bundle.AboutThisAd\",21:\"bundle.Account\",22:\"bundle.AdvancedSearch\",24:\"bundle.Bookmarks\",25:\"bundle.Collection\",26:\"bundle.Compose\",27:\"bundle.ComposeMedia\",28:\"bundle.ConnectTab\",29:\"bundle.Conversation\",30:\"bundle.ConversationParticipants\",31:\"bundle.DMRichTextCompose\",32:\"bundle.DirectMessages\",33:\"bundle.Display\",34:\"bundle.Download\",35:\"bundle.Explore\",36:\"bundle.ExploreTopics\",37:\"bundle.FollowerRequests\",38:\"bundle.GenericTimeline\",39:\"bundle.GifSearch\",40:\"bundle.HomeTimeline\",41:\"bundle.KeyboardShortcuts\",42:\"bundle.LiveEvent\",43:\"bundle.LoggedOutHome\",44:\"bundle.Login\",45:\"bundle.Logout\",46:\"bundle.Moment\",47:\"bundle.MomentMaker\",48:\"bundle.MultiAccount\",49:\"bundle.NetworkInstrument\",50:\"bundle.NewsLanding\",51:\"bundle.NotMyAccount\",52:\"bundle.NotificationDetail\",53:\"bundle.Notifications\",54:\"bundle.Ocf\",55:\"bundle.Place\",56:\"bundle.PlainTextCompose\",57:\"bundle.ProfileRedirect\",58:\"bundle.QuoteTweetActivity\",59:\"bundle.Report\",60:\"bundle.RichTextCompose\",61:\"bundle.Search\",62:\"bundle.Settings\",63:\"bundle.SettingsInternals\",64:\"bundle.SettingsProfile\",65:\"bundle.SettingsRevamp\",66:\"bundle.SettingsTransparency\",67:\"bundle.SmsLogin\",68:\"bundle.TopicPeek\",69:\"bundle.Topics\",70:\"bundle.Trends\",71:\"bundle.TweetActivity\",72:\"bundle.TweetMediaDetail\",73:\"bundle.TweetMediaTags\",74:\"bundle.Twitterversary\",75:\"bundle.UserAvatar\",76:\"bundle.UserFollowLists\",77:\"bundle.UserLists\",78:\"bundle.UserMoments\",79:\"bundle.UserProfile\",80:\"bundle.UserRedirect\",130:\"loader.AbsolutePower\",131:\"loader.AppModules\",132:\"loader.DMDrawer\",133:\"loader.DashMenu\",134:\"loader.ExploreSidebar\",135:\"loader.FeedbackSheet\",136:\"loader.FeedbackTombstone\",137:\"loader.HWCard\",138:\"loader.NewTweetsPill\",139:\"loader.PeriscopeOverlay\",140:\"loader.ProfileClusterFollow\",141:\"loader.PushNotificationsPrompt\",142:\"loader.SideNav\",143:\"loader.SignupModule\",144:\"loader.TimelineRenderer\",145:\"loader.TweetCurationActionMenu\",146:\"loader.Typeahead\",147:\"loader.WideLayout\",148:\"loader.directMessagesData\",149:\"loader.graphQLDarkReads\",150:\"loader.personalizationData\",151:\"loaders.video.PlayerBase\",152:\"loaders.video.PlayerHls13\",153:\"loaders.video.PlayerUi\",154:\"loaders.video.VideoPlayerDefaultUI\",156:\"ondemand.Balloons\",157:\"ondemand.BranchSdk\",158:\"ondemand.CarouselScroller\",159:\"ondemand.ComposeScheduling\",160:\"ondemand.Dropdown\",161:\"ondemand.EditBirthdate\",162:\"ondemand.EditPinned\",163:\"ondemand.EmojiPicker\",164:\"ondemand.HoverCard\",165:\"ondemand.InlinePlayer\",166:\"ondemand.IntentPrompt\",167:\"ondemand.LottieWeb\",168:\"ondemand.MicrosoftInterface\",169:\"ondemand.ProfileSidebar\",170:\"ondemand.RichText\",171:\"ondemand.SettingsInternals\",172:\"ondemand.countries-ar\",173:\"ondemand.countries-bg\",174:\"ondemand.countries-bn\",175:\"ondemand.countries-ca\",176:\"ondemand.countries-cs\",177:\"ondemand.countries-da\",178:\"ondemand.countries-de\",179:\"ondemand.countries-el\",180:\"ondemand.countries-en\",181:\"ondemand.countries-en-GB\",182:\"ondemand.countries-es\",183:\"ondemand.countries-eu\",184:\"ondemand.countries-fa\",185:\"ondemand.countries-fi\",186:\"ondemand.countries-fil\",187:\"ondemand.countries-fr\",188:\"ondemand.countries-ga\",189:\"ondemand.countries-gl\",190:\"ondemand.countries-gu\",191:\"ondemand.countries-he\",192:\"ondemand.countries-hi\",193:\"ondemand.countries-hr\",194:\"ondemand.countries-hu\",195:\"ondemand.countries-id\",196:\"ondemand.countries-it\",197:\"ondemand.countries-ja\",198:\"ondemand.countries-kn\",199:\"ondemand.countries-ko\",200:\"ondemand.countries-mr\",201:\"ondemand.countries-ms\",202:\"ondemand.countries-nb\",203:\"ondemand.countries-nl\",204:\"ondemand.countries-pl\",205:\"ondemand.countries-pt\",206:\"ondemand.countries-ro\",207:\"ondemand.countries-ru\",208:\"ondemand.countries-sk\",209:\"ondemand.countries-sr\",210:\"ondemand.countries-sv\",211:\"ondemand.countries-ta\",212:\"ondemand.countries-th\",213:\"ondemand.countries-tr\",214:\"ondemand.countries-uk\",215:\"ondemand.countries-ur\",216:\"ondemand.countries-zh\",217:\"ondemand.countries-zh-Hant\",218:\"ondemand.emoji.ar\",219:\"ondemand.emoji.bg\",220:\"ondemand.emoji.bn\",221:\"ondemand.emoji.ca\",222:\"ondemand.emoji.cs\",2224:\"ondemand.emoji.de\",225:\"ondemand.emoji.el\",226:\"ondemand.emoji.en\",227:\"ondemand.emoji.en-GB\",228:\"ondemand.emoji.en-ss\",229:\"ondemand.emoji.en-xx\",230:\"ondemand.emoji.es\",231:\"ondemand.emoji.eu\",232:\"ondemand.emoji.fa\",233:\"ondemand.emoji.fi\",234:\"ondemand.emoji.fil\",235:\"ondemand.emoji.fr\",236:\"ondemand.emoji.ga\",237:\"ondemand.emoji.gl\",238:\"ondemand.emoji.gu\",239:\"ondemand.emoji.he\",240:\"ondemand.emoji.hi\",241:\"ondemand.emoji.hr\",242:\"ondemand.emoji.hu\",243:\"ondemand.emoji.id\",244:\"ondemand.emoji.it\",245:\"ondemand.emoji.ja\",246:\"ondemand.emoji.kn\",247:\"ondemand.emoji.ko\",248:\"ondemand.emoji.mr\",249:\"ondemand.emoji.ms\",250:\"ondemand.emoji.nb\",251:\"ondemand.emoji.nl\",252:\"ondemand.emoji.pl\",253:\"ondemand.emoji.pt\",254:\"ondemand.emoji.ro\",255:\"ondemand.emoji.ru\",256:\"ondemand.emoji.sk\",257:\"ondemand.emoji.sr\",258:\"ondemand.emoji.sv\",259:\"ondemand.emoji.ta\",260:\"ondemand.emoji.th\",261:\"ondemand.emoji.tr\",262:\"ondemand.emoji.uk\",263:\"ondemand.emoji.ur\",264:\"ondemand.emoji.vi\",265:\"ondemand.emoji.zh\",266:\"ondemand.emoji.zh-Hant\",267:\"ondemand.framerateTracking\",268:\"ondemand.video.PlayerHls12\"}[e]||e)+\".\"+{0:\"ff4bea6\",3:\"28b9e0c\",4:\"941eace\",5:\"7ed5a59\",6:\"7b3c8f5\",7:\"24e3b65\",8:\"8c11261\",9:\"199f8c8\",10:\"82e2610\",11:\"616c1f4\",12:\"a2e8e70\",13:\"d357344\",14:\"479d962\",15:\"1a467de\",16:\"dcdf615\",17:\"aa94170\",18:\"17c6047\",19:\"c8afc41\",20:\"a71fd2d\",21:\"f647010\",22:\"958dba1\",24:\"65ee5a0\",25:\"776b6cb\",26:\"ad4b199\",27:\"8b48b1b\",28:\"858fc06\",29:\"b7b5f3e\",30:\"19d0112\",31:\"0f59037\",32:\"4b860b9\",33:\"633da1c\",34:\"86eb4cc\",35:\"dd8e325\",36:\"c3fe94e\",37:\"60e13cb\",38:\"2d19a0c\",39:\"539845e\",40:\"2a2c055\",41:\"8ee5a92\",42:\"a585956\",43:\"7dd582f\",44:\"64a67d3\",45:\"cabbf0c\",46:\"1bd1b3b\",47:\"948f623\",48:\"2637a9c\",49:\"f63ae36\",50:\"610cfb6\",51:\"738f29b\",52:\"94c7f38\",53:\"997d190\",54:\"97a8af4\",55:\"f140098\",56:\"0026113\",57:\"998255f\",58:\"2768821\",59:\"7bf548c\",60:\"9a47fa6\",61:\"34dcfc3\",62:\"c823e49\",63:\"26cfb8b\",64:\"35c3dc4\",65:\"e1afebd\",66:\"a173396\",67:\"af6e19b\",68:\"4dd5d65\",69:\"1c34b18\",70:\"da3dc0a\",71:\"e3eb6de\",72:\"80d9168\",73:\"81b4fe1\",74:\"e061706\",75:\"d920a28\",76:\"15302a1\",77:\"8bc9b7b\",78:\"6f4a2ee\",79:\"01e87b8\",80:\"35d68c5\",130:\"d2c55b9\",131:\"0751314\",132:\"5246544\",133:\"641098e\",134:\"61ab679\",135:\"a74faf9\",136:\"e7a0637\",137:\"726f73e\",138:\"fcf6f37\",139:\"241ecfb\",140:\"ebdca00\",141:\"4e90e9d\",142:\"71f4a64\",143:\"85d8253\",144:\"4a9d149\",145:\"51c0351\",146:\"3f57aca\",147:\"1224939\",148:\"c9eb9b5\",149:\"88792e0\",150:\"75d1f65\",151:\"7a8039e\",152:\"4095a3b\",153:\"f5450d6\",154:\"439b1b9\",156:\"31c4bae\",157:\"17b3754\",158:\"1a44504\",159:\"0372e8c\",160:\"473ceec\",161:\"5b57e4c\",162:\"3b04d5f\",163:\"70eedf5\",164:\"0eb944a\",165:\"20d227a\",166:\"413e875\",167:\"fe2f5c0\",168:\"558a78c\",169:\"5c68f23\",170:\"a18cd8b\",171:\"cfff4ac\",172:\"e660c08\",173:\"7f746f8\",174:\"58062bc\",175:\"23bcb19\",176:\"32fd7ba\",177:\"9495f00\",178:\"991bbc3\",179:\"1877044\",180:\"99fb804\",181:\"f0ebeea\",182:\"21352d4\",183:\"72237fd\",184:\"22d0754\",185:\"4f62af8\",186:\"5637577\",187:\"b10981d\",188:\"9e598a6\",189:\"10cea68\",190:\"eb9f2a2\",191:\"964dba6\",192:\"f4c4d23\",193:\"957e431\",194:\"b4a2552\",195:\"5535f03\",196:\"ce8d4ac\",197:\"381bd30\",198:\"94b1e8e\",199:\"91d8fed\",200:\"beff6e5\",201:\"dca168d\",202:\"89a891b\",203:\"9c73cb9\",204:\"e28517f\",205:\"89937cd\",206:\"142b428\",207:\"752544b\",208:\"2cafe5d\",209:\"dc585e6\",210:\"9a9be1b\",211:\"852f2d0\",212:\"19e0464\",213:\"7c26e80\",214:\"6f67d5a\",215:\"004f676\",216:\"93c5d7b\",217:\"3d7723f\",218:\"763f381\",219:\"730c47d\",220:\"ab3391e\",221:\"bb43023\",222:\"cd5506a\",2224:\"15319a9\",225:\"f5b4b2d\",226:\"6a847ee\",227:\"b1e047e\",228:\"7bd63c4\",229:\"1fd7d2e\",230:\"ddb37b1\",231:\"687a0b2\",232:\"cbe6d71\",233:\"d2146df\",234:\"85c233a\",235:\"ebc2016\",236:\"19ac401\",237:\"36e213d\",238:\"80010cb\",239:\"2f04e62\",240:\"996abde\",241:\"27f89d2\",242:\"f9ef213\",243:\"c9723ea\",244:\"63f2745\",245:\"a075162\",246:\"7b6dfbf\",247:\"bf22ff7\",248:\"f00d3e3\",249:\"3bf881e\",250:\"b593638\",251:\"be8b0ef\",252:\"e8859d5\",253:\"8841203\",254:\"aca1d7b\",255:\"3737836\",256:\"3fea037\",257:\"bce02e7\",258:\"a00b900\",259:\"a7d374d\",260:\"b371c07\",261:\"b6d17f2\",262:\"ed2d53a\",263:\"71d9fa6\",264:\"94b342d\",265:\"c165aa3\",266:\"c44457e\",267:\"fb81aa0\",268:\"62e75cc\"}[e]+\"5.js\"}(e);var l=new Error;r=function(n){i.onerror=i.onload=null,clearTimeout(c);var d=a[e];if(0!==d){if(d){var o=n&&(\"load\"===n.type?\"missing\":n.type),r=n&&n.target&&n.target.src;l.message=\"Loading chunk \"+e+\" failed.\\n(\"+o+\": \"+r+\")\",l.name=\"ChunkLoadError\",l.type=o,l.request=r,d[1](l)}a[e]=void 0}};var c=setTimeout((function(){r({type:\"timeout\",target:i})}),12e4);i.onerror=i.onload=r,document.head.appendChild(i)}return Promise.all(n)},t.m=e,t.c=o,t.d=function(e,n,d){t.o(e,n)||Object.defineProperty(e,n,{enumerable:!0,get:d})},t.r=function(e){\"undefined\"!=typeof Symbol&&Symbol.toStringTag&&Object.defineProperty(e,Symbol.toStringTag,{value:\"Module\"}),Object.defineProperty(e,\"__esModule\",{value:!0})},t.t=function(e,n){if(1&n&&(e=t(e)),8&n)return e;if(4&n&&\"object\"==typeof e&&e&&e.__esModule)return e;var d=Object.create(null);if(t.r(d),Object.defineProperty(d,\"default\",{enumerable:!0,value:e}),2&n&&\"string\"!=typeof e)for(var o in e)t.d(d,o,function(n){return e[n]}.bind(null,o));return d},t.n=function(e){var n=e&&e.__esModule?function(){return e.default}:function(){return e};return t.d(n,\"a\",n),n},t.o=function(e,n){return Object.prototype.hasOwnProperty.call(e,n)},t.p=\"https://abs.twimg.com/responsive-web/client-web-legacy/\",t.oe=function(e){throw e};var i=window.webpackJsonp=window.webpackJsonp||[],l=i.push.bind(i);i.push=n,i=i.slice();for(var c=0;c<i.length;c++)n(i[c]);var u=l;d()}([]),window.__SCRIPTS_LOADED__.runtime=!0;\n",
       "\n",
       "</script>\n",
       "<script charset=\"utf-8\" crossorigin=\"anonymous\" nonce=\"ODA4ZGRlYzItYjc1NS00OTkxLWFiYzYtZmMwOTVhNzU4NmQ5\" src=\"https://abs.twimg.com/responsive-web/client-web-legacy/polyfills.b0114665.js\" type=\"text/javascript\"></script>\n",
       "<script charset=\"utf-8\" crossorigin=\"anonymous\" nonce=\"ODA4ZGRlYzItYjc1NS00OTkxLWFiYzYtZmMwOTVhNzU4NmQ5\" src=\"https://abs.twimg.com/responsive-web/client-web-legacy/vendors~main.55c72055.js\" type=\"text/javascript\"></script>\n",
       "<script charset=\"utf-8\" crossorigin=\"anonymous\" nonce=\"ODA4ZGRlYzItYjc1NS00OTkxLWFiYzYtZmMwOTVhNzU4NmQ5\" src=\"https://abs.twimg.com/responsive-web/client-web-legacy/i18n/en.e9d84e15.js\" type=\"text/javascript\"></script>\n",
       "<script charset=\"utf-8\" crossorigin=\"anonymous\" nonce=\"ODA4ZGRlYzItYjc1NS00OTkxLWFiYzYtZmMwOTVhNzU4NmQ5\" src=\"https://abs.twimg.com/responsive-web/client-web-legacy/main.49426dd5.js\" type=\"text/javascript\"></script>\n",
       "<script nonce=\"ODA4ZGRlYzItYjc1NS00OTkxLWFiYzYtZmMwOTVhNzU4NmQ5\">\n",
       "  if (!window.__SCRIPTS_LOADED__['main']) {\n",
       "    document.getElementById('ScriptLoadFailure').style.display = 'block';\n",
       "    var criticalScripts = 'polyfills,vendors~main,i18n,main'.split(',');\n",
       "    for (let i = 0; i < criticalScripts.length; i++) {\n",
       "      var criticalScript = criticalScripts[i];\n",
       "      if (!window.__SCRIPTS_LOADED__[criticalScript]) {\n",
       "        document.getElementsByName('failedScript')[0].value = criticalScript\n",
       "        break;\n",
       "      }\n",
       "    }\n",
       "  }\n",
       "</script>\n",
       "</body>"
      ]
     },
     "execution_count": 191,
     "metadata": {},
     "output_type": "execute_result"
    }
   ],
   "source": []
  },
  {
   "cell_type": "markdown",
   "metadata": {
    "Collapsed": "false"
   },
   "source": [
    "#### Number of followers of a given twitter account\n",
    "Ask the user for the handle (@handle) of a twitter account. You will need to include a ***try/except block*** for account names not found. \n",
    "<br>***Hint:*** the program should count the followers for any provided account."
   ]
  },
  {
   "cell_type": "code",
   "execution_count": 192,
   "metadata": {
    "Collapsed": "false"
   },
   "outputs": [],
   "source": [
    "# This is the url you will scrape in this exercise \n",
    "# You will need to add the account credentials to this url\n",
    "url = 'https://twitter.com/'\n"
   ]
  },
  {
   "cell_type": "code",
   "execution_count": 154,
   "metadata": {
    "Collapsed": "false"
   },
   "outputs": [],
   "source": [
    "# your code here"
   ]
  },
  {
   "cell_type": "markdown",
   "metadata": {
    "Collapsed": "false"
   },
   "source": [
    "#### List all language names and number of related articles in the order they appear in wikipedia.org."
   ]
  },
  {
   "cell_type": "code",
   "execution_count": 155,
   "metadata": {
    "Collapsed": "false"
   },
   "outputs": [],
   "source": [
    "# This is the url you will scrape in this exercise\n",
    "url = 'https://www.wikipedia.org/'"
   ]
  },
  {
   "cell_type": "code",
   "execution_count": 156,
   "metadata": {
    "Collapsed": "false"
   },
   "outputs": [
    {
     "data": {
      "text/html": [
       "<div>\n",
       "<style scoped>\n",
       "    .dataframe tbody tr th:only-of-type {\n",
       "        vertical-align: middle;\n",
       "    }\n",
       "\n",
       "    .dataframe tbody tr th {\n",
       "        vertical-align: top;\n",
       "    }\n",
       "\n",
       "    .dataframe thead th {\n",
       "        text-align: right;\n",
       "    }\n",
       "</style>\n",
       "<table border=\"1\" class=\"dataframe\">\n",
       "  <thead>\n",
       "    <tr style=\"text-align: right;\">\n",
       "      <th></th>\n",
       "      <th>Articles</th>\n",
       "      <th>Language</th>\n",
       "    </tr>\n",
       "  </thead>\n",
       "  <tbody>\n",
       "    <tr>\n",
       "      <th>0</th>\n",
       "      <td>6 146 000+</td>\n",
       "      <td>English</td>\n",
       "    </tr>\n",
       "    <tr>\n",
       "      <th>1</th>\n",
       "      <td>1 224 000+</td>\n",
       "      <td>æ¥æ¬èª</td>\n",
       "    </tr>\n",
       "    <tr>\n",
       "      <th>2</th>\n",
       "      <td>1 620 000+</td>\n",
       "      <td>EspaÃ±ol</td>\n",
       "    </tr>\n",
       "    <tr>\n",
       "      <th>3</th>\n",
       "      <td>2 472 000+</td>\n",
       "      <td>Deutsch</td>\n",
       "    </tr>\n",
       "    <tr>\n",
       "      <th>4</th>\n",
       "      <td>2 244 000+</td>\n",
       "      <td>FranÃ§ais</td>\n",
       "    </tr>\n",
       "    <tr>\n",
       "      <th>5</th>\n",
       "      <td>1 654 000+</td>\n",
       "      <td>Ð ÑÑÑÐºÐ¸Ð¹</td>\n",
       "    </tr>\n",
       "    <tr>\n",
       "      <th>6</th>\n",
       "      <td>1 630 000+</td>\n",
       "      <td>Italiano</td>\n",
       "    </tr>\n",
       "    <tr>\n",
       "      <th>7</th>\n",
       "      <td>1 140 000+</td>\n",
       "      <td>ä¸­æ</td>\n",
       "    </tr>\n",
       "    <tr>\n",
       "      <th>8</th>\n",
       "      <td>1 042 000+</td>\n",
       "      <td>PortuguÃªs</td>\n",
       "    </tr>\n",
       "    <tr>\n",
       "      <th>9</th>\n",
       "      <td>1 424 000+</td>\n",
       "      <td>Polski</td>\n",
       "    </tr>\n",
       "  </tbody>\n",
       "</table>\n",
       "</div>"
      ],
      "text/plain": [
       "     Articles        Language\n",
       "0  6 146 000+         English\n",
       "1  1 224 000+       æ¥æ¬èª\n",
       "2  1 620 000+        EspaÃ±ol\n",
       "3  2 472 000+         Deutsch\n",
       "4  2 244 000+       FranÃ§ais\n",
       "5  1 654 000+  Ð ÑÑÑÐºÐ¸Ð¹\n",
       "6  1 630 000+        Italiano\n",
       "7  1 140 000+          ä¸­æ\n",
       "8  1 042 000+      PortuguÃªs\n",
       "9  1 424 000+          Polski"
      ]
     },
     "execution_count": 156,
     "metadata": {},
     "output_type": "execute_result"
    }
   ],
   "source": [
    "# your code here\n",
    "soup = BeautifulSoup(requests.get(url).text,'html.parser')\n",
    "df = pd.DataFrame()\n",
    "for row in soup.find_all('div', attrs={'dir':'ltr'}):\n",
    "    d = {'Language' : row.find('strong').text,\n",
    "         'Articles' : row.find('bdi').text,\n",
    "        }\n",
    "    df = df.append(d,ignore_index=True)\n",
    "df\n",
    "### Is there way to return normal signs?"
   ]
  },
  {
   "cell_type": "markdown",
   "metadata": {
    "Collapsed": "false"
   },
   "source": [
    "#### A list with the different kind of datasets available in data.gov.uk."
   ]
  },
  {
   "cell_type": "code",
   "execution_count": 157,
   "metadata": {
    "Collapsed": "false"
   },
   "outputs": [],
   "source": [
    "# This is the url you will scrape in this exercise\n",
    "url = 'https://data.gov.uk/'"
   ]
  },
  {
   "cell_type": "code",
   "execution_count": 158,
   "metadata": {
    "Collapsed": "false"
   },
   "outputs": [
    {
     "name": "stdout",
     "output_type": "stream",
     "text": [
      "['Business and economy', 'Crime and justice', 'Defence', 'Education', 'Environment', 'Government', 'Government spending', 'Health', 'Mapping', 'Society', 'Towns and cities', 'Transport']\n"
     ]
    }
   ],
   "source": [
    "# your code here\n",
    "soup = BeautifulSoup(requests.get(url).text,'html.parser').select('h3')\n",
    "lst =  [i.text for i in soup]\n",
    "print(lst)"
   ]
  },
  {
   "cell_type": "markdown",
   "metadata": {
    "Collapsed": "false"
   },
   "source": [
    "#### Display the top 10 languages by number of native speakers stored in a pandas dataframe."
   ]
  },
  {
   "cell_type": "code",
   "execution_count": 159,
   "metadata": {
    "Collapsed": "false"
   },
   "outputs": [],
   "source": [
    "# This is the url you will scrape in this exercise\n",
    "url = 'https://en.wikipedia.org/wiki/List_of_languages_by_number_of_native_speakers'"
   ]
  },
  {
   "cell_type": "code",
   "execution_count": 160,
   "metadata": {
    "Collapsed": "false"
   },
   "outputs": [
    {
     "data": {
      "text/plain": [
       "['Mandarin Chinese',\n",
       " 'Spanish',\n",
       " 'English',\n",
       " 'Hindi',\n",
       " 'Bengali',\n",
       " 'Portuguese',\n",
       " 'Russian',\n",
       " 'Japanese',\n",
       " 'Western Punjabi',\n",
       " 'Marathi']"
      ]
     },
     "execution_count": 160,
     "metadata": {},
     "output_type": "execute_result"
    }
   ],
   "source": [
    "# your code here\n",
    "lst = [x.find('a').text for x in BeautifulSoup(requests.get(url).text,'html.parser').find('tbody').find_all('tr')[1:11]]\n",
    "lst    "
   ]
  },
  {
   "cell_type": "markdown",
   "metadata": {
    "Collapsed": "false"
   },
   "source": [
    "#### Scrape a certain number of tweets of a given Twitter account."
   ]
  },
  {
   "cell_type": "code",
   "execution_count": 161,
   "metadata": {
    "Collapsed": "false"
   },
   "outputs": [],
   "source": [
    "# This is the url you will scrape in this exercise \n",
    "# You will need to add the account credentials to this url\n",
    "url = 'https://twitter.com/'"
   ]
  },
  {
   "cell_type": "code",
   "execution_count": 162,
   "metadata": {
    "Collapsed": "false"
   },
   "outputs": [],
   "source": [
    "# your code here"
   ]
  },
  {
   "cell_type": "markdown",
   "metadata": {
    "Collapsed": "false"
   },
   "source": [
    "#### Display IMDB's top 250 data (movie name, initial release, director name and stars) as a pandas dataframe."
   ]
  },
  {
   "cell_type": "code",
   "execution_count": 163,
   "metadata": {
    "Collapsed": "false"
   },
   "outputs": [],
   "source": [
    "# This is the url you will scrape in this exercise \n",
    "url = 'https://www.imdb.com/chart/top'"
   ]
  },
  {
   "cell_type": "code",
   "execution_count": 164,
   "metadata": {
    "Collapsed": "false"
   },
   "outputs": [
    {
     "data": {
      "text/html": [
       "<div>\n",
       "<style scoped>\n",
       "    .dataframe tbody tr th:only-of-type {\n",
       "        vertical-align: middle;\n",
       "    }\n",
       "\n",
       "    .dataframe tbody tr th {\n",
       "        vertical-align: top;\n",
       "    }\n",
       "\n",
       "    .dataframe thead th {\n",
       "        text-align: right;\n",
       "    }\n",
       "</style>\n",
       "<table border=\"1\" class=\"dataframe\">\n",
       "  <thead>\n",
       "    <tr style=\"text-align: right;\">\n",
       "      <th></th>\n",
       "      <th>Director</th>\n",
       "      <th>Rating</th>\n",
       "      <th>Title</th>\n",
       "      <th>Year</th>\n",
       "    </tr>\n",
       "  </thead>\n",
       "  <tbody>\n",
       "    <tr>\n",
       "      <th>0</th>\n",
       "      <td>Frank Darabont</td>\n",
       "      <td>9.2</td>\n",
       "      <td>The Shawshank Redemption</td>\n",
       "      <td>1994</td>\n",
       "    </tr>\n",
       "    <tr>\n",
       "      <th>1</th>\n",
       "      <td>Francis Ford Coppola</td>\n",
       "      <td>9.1</td>\n",
       "      <td>The Godfather</td>\n",
       "      <td>1972</td>\n",
       "    </tr>\n",
       "    <tr>\n",
       "      <th>2</th>\n",
       "      <td>Francis Ford Coppola</td>\n",
       "      <td>9.0</td>\n",
       "      <td>The Godfather: Part II</td>\n",
       "      <td>1974</td>\n",
       "    </tr>\n",
       "    <tr>\n",
       "      <th>3</th>\n",
       "      <td>Christopher Nolan</td>\n",
       "      <td>9.0</td>\n",
       "      <td>The Dark Knight</td>\n",
       "      <td>2008</td>\n",
       "    </tr>\n",
       "    <tr>\n",
       "      <th>4</th>\n",
       "      <td>Sidney Lumet</td>\n",
       "      <td>8.9</td>\n",
       "      <td>12 Angry Men</td>\n",
       "      <td>1957</td>\n",
       "    </tr>\n",
       "  </tbody>\n",
       "</table>\n",
       "</div>"
      ],
      "text/plain": [
       "                Director  Rating                     Title  Year\n",
       "0        Frank Darabont      9.2  The Shawshank Redemption  1994\n",
       "1  Francis Ford Coppola      9.1             The Godfather  1972\n",
       "2  Francis Ford Coppola      9.0    The Godfather: Part II  1974\n",
       "3     Christopher Nolan      9.0           The Dark Knight  2008\n",
       "4          Sidney Lumet      8.9              12 Angry Men  1957"
      ]
     },
     "execution_count": 164,
     "metadata": {},
     "output_type": "execute_result"
    }
   ],
   "source": [
    "# your code here\n",
    "titles = BeautifulSoup(requests.get(url).text,'html.parser').find('tbody').find_all('tr')\n",
    "\n",
    "df = pd.DataFrame()\n",
    "for title in titles:\n",
    "    columns = title.find_all('td')\n",
    "    d = {'Director' : columns[1].find('a')['title'].split(',')[0].replace('(dir.)',''),\n",
    "         'Title'    : columns[1].find('a').text.replace('\\n','').lstrip(),\n",
    "         'Year'     : re.sub(r'[()]','',str(columns[1].find('span').get_text())),\n",
    "         'Rating'   : float(columns[2].find('strong').get_text()),}\n",
    "    df = df.append(d,ignore_index=True)     \n",
    "         \n",
    "df.head(5)    "
   ]
  },
  {
   "cell_type": "markdown",
   "metadata": {
    "Collapsed": "false"
   },
   "source": [
    "#### Display the movie name, year and a brief summary of the top 10 random movies (IMDB) as a pandas dataframe."
   ]
  },
  {
   "cell_type": "code",
   "execution_count": 165,
   "metadata": {
    "Collapsed": "false"
   },
   "outputs": [
    {
     "data": {
      "text/html": [
       "<div>\n",
       "<style scoped>\n",
       "    .dataframe tbody tr th:only-of-type {\n",
       "        vertical-align: middle;\n",
       "    }\n",
       "\n",
       "    .dataframe tbody tr th {\n",
       "        vertical-align: top;\n",
       "    }\n",
       "\n",
       "    .dataframe thead th {\n",
       "        text-align: right;\n",
       "    }\n",
       "</style>\n",
       "<table border=\"1\" class=\"dataframe\">\n",
       "  <thead>\n",
       "    <tr style=\"text-align: right;\">\n",
       "      <th></th>\n",
       "      <th>summary</th>\n",
       "      <th>title</th>\n",
       "      <th>year</th>\n",
       "    </tr>\n",
       "  </thead>\n",
       "  <tbody>\n",
       "    <tr>\n",
       "      <th>0</th>\n",
       "      <td>In order to get out of the snobby clique that ...</td>\n",
       "      <td>Heathers</td>\n",
       "      <td>1989</td>\n",
       "    </tr>\n",
       "    <tr>\n",
       "      <th>1</th>\n",
       "      <td>In 1980 Miami, a determined Cuban immigrant ta...</td>\n",
       "      <td>Scarface</td>\n",
       "      <td>1983</td>\n",
       "    </tr>\n",
       "    <tr>\n",
       "      <th>2</th>\n",
       "      <td>An unconventional single mother relocates with...</td>\n",
       "      <td>Mermaids</td>\n",
       "      <td>1990</td>\n",
       "    </tr>\n",
       "    <tr>\n",
       "      <th>3</th>\n",
       "      <td>A committed dancer struggles to maintain her s...</td>\n",
       "      <td>Black Swan</td>\n",
       "      <td>2010</td>\n",
       "    </tr>\n",
       "    <tr>\n",
       "      <th>4</th>\n",
       "      <td>In the dead of a Wyoming winter, a bounty hunt...</td>\n",
       "      <td>The Hateful Eight</td>\n",
       "      <td>2015</td>\n",
       "    </tr>\n",
       "    <tr>\n",
       "      <th>5</th>\n",
       "      <td>With the help of a German bounty hunter, a fre...</td>\n",
       "      <td>Django Unchained</td>\n",
       "      <td>2012</td>\n",
       "    </tr>\n",
       "    <tr>\n",
       "      <th>6</th>\n",
       "      <td>In Nazi-occupied France during World War II, a...</td>\n",
       "      <td>Inglourious Basterds</td>\n",
       "      <td>2009</td>\n",
       "    </tr>\n",
       "    <tr>\n",
       "      <th>7</th>\n",
       "      <td>Two separate sets of voluptuous women are stal...</td>\n",
       "      <td>Death Proof</td>\n",
       "      <td>2007</td>\n",
       "    </tr>\n",
       "    <tr>\n",
       "      <th>8</th>\n",
       "      <td>After awakening from a four-year coma, a forme...</td>\n",
       "      <td>Kill Bill: Vol. 1</td>\n",
       "      <td>2003</td>\n",
       "    </tr>\n",
       "    <tr>\n",
       "      <th>9</th>\n",
       "      <td>Four interlocking tales that take place in a f...</td>\n",
       "      <td>Four Rooms</td>\n",
       "      <td>1995</td>\n",
       "    </tr>\n",
       "  </tbody>\n",
       "</table>\n",
       "</div>"
      ],
      "text/plain": [
       "                                             summary                 title  \\\n",
       "0  In order to get out of the snobby clique that ...              Heathers   \n",
       "1  In 1980 Miami, a determined Cuban immigrant ta...              Scarface   \n",
       "2  An unconventional single mother relocates with...              Mermaids   \n",
       "3  A committed dancer struggles to maintain her s...            Black Swan   \n",
       "4  In the dead of a Wyoming winter, a bounty hunt...     The Hateful Eight   \n",
       "5  With the help of a German bounty hunter, a fre...      Django Unchained   \n",
       "6  In Nazi-occupied France during World War II, a...  Inglourious Basterds   \n",
       "7  Two separate sets of voluptuous women are stal...           Death Proof   \n",
       "8  After awakening from a four-year coma, a forme...     Kill Bill: Vol. 1   \n",
       "9  Four interlocking tales that take place in a f...            Four Rooms   \n",
       "\n",
       "   year  \n",
       "0  1989  \n",
       "1  1983  \n",
       "2  1990  \n",
       "3  2010  \n",
       "4  2015  \n",
       "5  2012  \n",
       "6  2009  \n",
       "7  2007  \n",
       "8  2003  \n",
       "9  1995  "
      ]
     },
     "execution_count": 165,
     "metadata": {},
     "output_type": "execute_result"
    }
   ],
   "source": [
    "#This is the url you will scrape in this exercise\n",
    "# url = 'http://www.imdb.com/chart/top' #\n",
    "\n",
    "url = 'https://www.imdb.com/list/ls069248468/'\n",
    "soup = BeautifulSoup(requests.get(url).text,'html.parser').find('body')\n",
    "\n",
    "titles = soup.find_all('div',attrs={'class':'lister-item-content'})\n",
    "\n",
    "df = pd.DataFrame()\n",
    "\n",
    "for title in titles[:10]:\n",
    "    d = {'title': title.select('h3 a')[0].text,\n",
    "        'year' :  re.sub(r'[()]','',title.select('h3 span')[1].text),\n",
    "        'summary' : title.select('p')[1].get_text().replace('\\n','').strip(),\n",
    "        }\n",
    "    df = df.append(d,ignore_index=True)\n",
    "\n",
    "df"
   ]
  },
  {
   "cell_type": "markdown",
   "metadata": {
    "Collapsed": "false"
   },
   "source": [
    "#### Find the live weather report (temperature, wind speed, description and weather) of a given city."
   ]
  },
  {
   "cell_type": "code",
   "execution_count": 166,
   "metadata": {
    "Collapsed": "false"
   },
   "outputs": [],
   "source": [
    "#https://openweathermap.org/current\n",
    "# city = input('Enter the city: ')\n",
    "# url = 'http://api.openweathermap.org/data/2.5/weather?'+'q='+city+'&APPID=b35975e18dc93725acb092f7272cc6b8&units=metric'"
   ]
  },
  {
   "cell_type": "code",
   "execution_count": 167,
   "metadata": {},
   "outputs": [
    {
     "ename": "KeyboardInterrupt",
     "evalue": "Interrupted by user",
     "output_type": "error",
     "traceback": [
      "\u001b[1;31m---------------------------------------------------------------------------\u001b[0m",
      "\u001b[1;31mKeyboardInterrupt\u001b[0m                         Traceback (most recent call last)",
      "\u001b[1;32m<ipython-input-167-a15546dc394c>\u001b[0m in \u001b[0;36m<module>\u001b[1;34m\u001b[0m\n\u001b[0;32m     12\u001b[0m     \u001b[1;32mreturn\u001b[0m \u001b[0mdf\u001b[0m\u001b[1;33m.\u001b[0m\u001b[0mT\u001b[0m\u001b[1;33m\u001b[0m\u001b[1;33m\u001b[0m\u001b[0m\n\u001b[0;32m     13\u001b[0m \u001b[1;33m\u001b[0m\u001b[0m\n\u001b[1;32m---> 14\u001b[1;33m \u001b[0mget_weather\u001b[0m\u001b[1;33m(\u001b[0m\u001b[1;33m)\u001b[0m\u001b[1;33m\u001b[0m\u001b[1;33m\u001b[0m\u001b[0m\n\u001b[0m",
      "\u001b[1;32m<ipython-input-167-a15546dc394c>\u001b[0m in \u001b[0;36mget_weather\u001b[1;34m()\u001b[0m\n\u001b[0;32m      1\u001b[0m \u001b[1;32mdef\u001b[0m \u001b[0mget_weather\u001b[0m\u001b[1;33m(\u001b[0m\u001b[1;33m)\u001b[0m\u001b[1;33m:\u001b[0m\u001b[1;33m\u001b[0m\u001b[1;33m\u001b[0m\u001b[0m\n\u001b[0;32m      2\u001b[0m     \u001b[0mdf\u001b[0m \u001b[1;33m=\u001b[0m \u001b[0mpd\u001b[0m\u001b[1;33m.\u001b[0m\u001b[0mDataFrame\u001b[0m\u001b[1;33m(\u001b[0m\u001b[1;33m)\u001b[0m\u001b[1;33m\u001b[0m\u001b[1;33m\u001b[0m\u001b[0m\n\u001b[1;32m----> 3\u001b[1;33m     \u001b[0mcity\u001b[0m \u001b[1;33m=\u001b[0m \u001b[0minput\u001b[0m\u001b[1;33m(\u001b[0m\u001b[1;34m'Enter the city: '\u001b[0m\u001b[1;33m)\u001b[0m\u001b[1;33m\u001b[0m\u001b[1;33m\u001b[0m\u001b[0m\n\u001b[0m\u001b[0;32m      4\u001b[0m     \u001b[0murl\u001b[0m \u001b[1;33m=\u001b[0m \u001b[1;34m'http://api.openweathermap.org/data/2.5/weather?'\u001b[0m\u001b[1;33m+\u001b[0m\u001b[1;34m'q='\u001b[0m\u001b[1;33m+\u001b[0m\u001b[0mcity\u001b[0m\u001b[1;33m+\u001b[0m\u001b[1;34m'&APPID=b35975e18dc93725acb092f7272cc6b8&units=metric'\u001b[0m\u001b[1;33m\u001b[0m\u001b[1;33m\u001b[0m\u001b[0m\n\u001b[0;32m      5\u001b[0m     \u001b[0mresponse\u001b[0m \u001b[1;33m=\u001b[0m \u001b[0mrequests\u001b[0m\u001b[1;33m.\u001b[0m\u001b[0mget\u001b[0m\u001b[1;33m(\u001b[0m\u001b[0murl\u001b[0m\u001b[1;33m)\u001b[0m\u001b[1;33m.\u001b[0m\u001b[0mjson\u001b[0m\u001b[1;33m(\u001b[0m\u001b[1;33m)\u001b[0m\u001b[1;33m\u001b[0m\u001b[1;33m\u001b[0m\u001b[0m\n",
      "\u001b[1;32mc:\\python38\\lib\\site-packages\\ipykernel\\kernelbase.py\u001b[0m in \u001b[0;36mraw_input\u001b[1;34m(self, prompt)\u001b[0m\n\u001b[0;32m    858\u001b[0m                 \u001b[1;34m\"raw_input was called, but this frontend does not support input requests.\"\u001b[0m\u001b[1;33m\u001b[0m\u001b[1;33m\u001b[0m\u001b[0m\n\u001b[0;32m    859\u001b[0m             )\n\u001b[1;32m--> 860\u001b[1;33m         return self._input_request(str(prompt),\n\u001b[0m\u001b[0;32m    861\u001b[0m             \u001b[0mself\u001b[0m\u001b[1;33m.\u001b[0m\u001b[0m_parent_ident\u001b[0m\u001b[1;33m,\u001b[0m\u001b[1;33m\u001b[0m\u001b[1;33m\u001b[0m\u001b[0m\n\u001b[0;32m    862\u001b[0m             \u001b[0mself\u001b[0m\u001b[1;33m.\u001b[0m\u001b[0m_parent_header\u001b[0m\u001b[1;33m,\u001b[0m\u001b[1;33m\u001b[0m\u001b[1;33m\u001b[0m\u001b[0m\n",
      "\u001b[1;32mc:\\python38\\lib\\site-packages\\ipykernel\\kernelbase.py\u001b[0m in \u001b[0;36m_input_request\u001b[1;34m(self, prompt, ident, parent, password)\u001b[0m\n\u001b[0;32m    902\u001b[0m             \u001b[1;32mexcept\u001b[0m \u001b[0mKeyboardInterrupt\u001b[0m\u001b[1;33m:\u001b[0m\u001b[1;33m\u001b[0m\u001b[1;33m\u001b[0m\u001b[0m\n\u001b[0;32m    903\u001b[0m                 \u001b[1;31m# re-raise KeyboardInterrupt, to truncate traceback\u001b[0m\u001b[1;33m\u001b[0m\u001b[1;33m\u001b[0m\u001b[1;33m\u001b[0m\u001b[0m\n\u001b[1;32m--> 904\u001b[1;33m                 \u001b[1;32mraise\u001b[0m \u001b[0mKeyboardInterrupt\u001b[0m\u001b[1;33m(\u001b[0m\u001b[1;34m\"Interrupted by user\"\u001b[0m\u001b[1;33m)\u001b[0m \u001b[1;32mfrom\u001b[0m \u001b[1;32mNone\u001b[0m\u001b[1;33m\u001b[0m\u001b[1;33m\u001b[0m\u001b[0m\n\u001b[0m\u001b[0;32m    905\u001b[0m             \u001b[1;32mexcept\u001b[0m \u001b[0mException\u001b[0m \u001b[1;32mas\u001b[0m \u001b[0me\u001b[0m\u001b[1;33m:\u001b[0m\u001b[1;33m\u001b[0m\u001b[1;33m\u001b[0m\u001b[0m\n\u001b[0;32m    906\u001b[0m                 \u001b[0mself\u001b[0m\u001b[1;33m.\u001b[0m\u001b[0mlog\u001b[0m\u001b[1;33m.\u001b[0m\u001b[0mwarning\u001b[0m\u001b[1;33m(\u001b[0m\u001b[1;34m\"Invalid Message:\"\u001b[0m\u001b[1;33m,\u001b[0m \u001b[0mexc_info\u001b[0m\u001b[1;33m=\u001b[0m\u001b[1;32mTrue\u001b[0m\u001b[1;33m)\u001b[0m\u001b[1;33m\u001b[0m\u001b[1;33m\u001b[0m\u001b[0m\n",
      "\u001b[1;31mKeyboardInterrupt\u001b[0m: Interrupted by user"
     ]
    }
   ],
   "source": [
    "def get_weather():\n",
    "    df = pd.DataFrame()\n",
    "    city = input('Enter the city: ')\n",
    "    url = 'http://api.openweathermap.org/data/2.5/weather?'+'q='+city+'&APPID=b35975e18dc93725acb092f7272cc6b8&units=metric'\n",
    "    response = requests.get(url).json()\n",
    "    d = {'Wind':list(response['wind'].values())[0],\n",
    "         list(response['weather'][0].keys())[1]: list(response['weather'][0].values())[1],\n",
    "         list(response['weather'][0].keys())[2]: list(response['weather'][0].values())[2],\n",
    "         list(response['main'].keys())[0]:list(response['main'].values())[0],\n",
    "         }\n",
    "    df = df.append(d,ignore_index=True)\n",
    "    return df.T\n",
    "\n",
    "get_weather()"
   ]
  },
  {
   "cell_type": "markdown",
   "metadata": {
    "Collapsed": "false"
   },
   "source": [
    "#### Find the book name, price and stock availability as a pandas dataframe."
   ]
  },
  {
   "cell_type": "code",
   "execution_count": null,
   "metadata": {
    "Collapsed": "false"
   },
   "outputs": [],
   "source": [
    "# This is the url you will scrape in this exercise. \n",
    "# It is a fictional bookstore created to be scraped. \n",
    "url = 'http://books.toscrape.com/'\n",
    "books = BeautifulSoup(requests.get(url).text,'html.parser').find('body').find_all('article')\n",
    "\n",
    "df = pd.DataFrame()\n",
    "for book in books:\n",
    "    d = {'title' : book.find('h3').find('a')['title'],\n",
    "        'in_stock' :  book.find_all('p')[2].get_text().replace('\\n','').strip(),\n",
    "        'price' :  book.find_all('p')[1].text.replace('Â','')}\n",
    "    df = df.append(d,ignore_index=True)\n",
    "df"
   ]
  },
  {
   "cell_type": "code",
   "execution_count": null,
   "metadata": {},
   "outputs": [],
   "source": []
  }
 ],
 "metadata": {
  "kernelspec": {
   "display_name": "Python 3",
   "language": "python",
   "name": "python3"
  },
  "language_info": {
   "codemirror_mode": {
    "name": "ipython",
    "version": 3
   },
   "file_extension": ".py",
   "mimetype": "text/x-python",
   "name": "python",
   "nbconvert_exporter": "python",
   "pygments_lexer": "ipython3",
   "version": "3.8.3"
  }
 },
 "nbformat": 4,
 "nbformat_minor": 4
}
