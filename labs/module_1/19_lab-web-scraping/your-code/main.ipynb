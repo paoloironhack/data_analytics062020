{
 "cells": [
  {
   "cell_type": "markdown",
   "metadata": {
    "Collapsed": "false"
   },
   "source": [
    "# Web Scraping Lab\n",
    "\n",
    "You will find in this notebook some scrapy exercises to practise your scraping skills.\n",
    "\n",
    "**Tips:**\n",
    "\n",
    "- Check the response status code for each request to ensure you have obtained the intended content.\n",
    "- Print the response text in each request to understand the kind of info you are getting and its format.\n",
    "- Check for patterns in the response text to extract the data/info requested in each question.\n",
    "- Visit the urls below and take a look at their source code through Chrome DevTools. You'll need to identify the html tags, special class names, etc used in the html content you are expected to extract.\n",
    "\n",
    "**Resources**:\n",
    "- [Requests library](https://requests.readthedocs.io/en/master/user/quickstart/)\n",
    "- [Beautiful Soup Doc](https://www.crummy.com/software/BeautifulSoup/bs4/doc/)\n",
    "- [Urllib](https://docs.python.org/3/library/urllib.html#module-urllib)\n",
    "- [re lib](https://docs.python.org/3/library/re.html)\n",
    "- [lxml lib](https://lxml.de/)\n",
    "- [Scrapy](https://scrapy.org/)\n",
    "- [List of HTTP status codes](https://en.wikipedia.org/wiki/List_of_HTTP_status_codes)\n",
    "- [HTML basics](http://www.simplehtmlguide.com/cheatsheet.php)\n",
    "- [CSS basics](https://www.cssbasics.com/#page_start)"
   ]
  },
  {
   "cell_type": "markdown",
   "metadata": {
    "Collapsed": "false"
   },
   "source": [
    "#### Below are the libraries and modules you may need. `requests`,  `BeautifulSoup` and `pandas` are already imported for you. If you prefer to use additional libraries feel free to do it."
   ]
  },
  {
   "cell_type": "code",
   "execution_count": 1,
   "metadata": {
    "Collapsed": "false"
   },
   "outputs": [],
   "source": [
    "import requests\n",
    "from bs4 import BeautifulSoup\n",
    "import pandas as pd"
   ]
  },
  {
   "cell_type": "markdown",
   "metadata": {
    "Collapsed": "false"
   },
   "source": [
    "#### Download, parse (using BeautifulSoup), and print the content from the Trending Developers page from GitHub:"
   ]
  },
  {
   "cell_type": "code",
   "execution_count": 2,
   "metadata": {
    "Collapsed": "false"
   },
   "outputs": [],
   "source": [
    "# This is the url you will scrape in this exercise\n",
    "url = 'https://github.com/trending/developers'"
   ]
  },
  {
   "cell_type": "code",
   "execution_count": 3,
   "metadata": {
    "Collapsed": "false"
   },
   "outputs": [],
   "source": [
    "# your code here \n",
    "soup = BeautifulSoup(requests.get(url).text,'html.parser')"
   ]
  },
  {
   "cell_type": "markdown",
   "metadata": {
    "Collapsed": "false"
   },
   "source": [
    "#### Display the names of the trending developers retrieved in the previous step.\n",
    "\n",
    "Your output should be a Python list of developer names. Each name should not contain any html tag.\n",
    "\n",
    "**Instructions:**\n",
    "\n",
    "1. Find out the html tag and class names used for the developer names. You can achieve this using Chrome DevTools.\n",
    "\n",
    "1. Use BeautifulSoup to extract all the html elements that contain the developer names.\n",
    "\n",
    "1. Use string manipulation techniques to replace whitespaces and linebreaks (i.e. `\\n`) in the *text* of each html element. Use a list to store the clean names.\n",
    "\n",
    "1. Print the list of names.\n",
    "\n",
    "Your output should look like below:\n",
    "\n",
    "```\n",
    "['trimstray (@trimstray)',\n",
    " 'joewalnes (JoeWalnes)',\n",
    " 'charlax (Charles-AxelDein)',\n",
    " 'ForrestKnight (ForrestKnight)',\n",
    " 'revery-ui (revery-ui)',\n",
    " 'alibaba (Alibaba)',\n",
    " 'Microsoft (Microsoft)',\n",
    " 'github (GitHub)',\n",
    " 'facebook (Facebook)',\n",
    " 'boazsegev (Bo)',\n",
    " 'google (Google)',\n",
    " 'cloudfetch',\n",
    " 'sindresorhus (SindreSorhus)',\n",
    " 'tensorflow',\n",
    " 'apache (TheApacheSoftwareFoundation)',\n",
    " 'DevonCrawford (DevonCrawford)',\n",
    " 'ARMmbed (ArmMbed)',\n",
    " 'vuejs (vuejs)',\n",
    " 'fastai (fast.ai)',\n",
    " 'QiShaoXuan (Qi)',\n",
    " 'joelparkerhenderson (JoelParkerHenderson)',\n",
    " 'torvalds (LinusTorvalds)',\n",
    " 'CyC2018',\n",
    " 'komeiji-satori (神楽坂覚々)',\n",
    " 'script-8']\n",
    " ```"
   ]
  },
  {
   "cell_type": "code",
   "execution_count": 4,
   "metadata": {
    "Collapsed": "false"
   },
   "outputs": [
    {
     "name": "stdout",
     "output_type": "stream",
     "text": [
      "['Vinayak Mehta', 'Sebastián Ramírez', 'Michiel Borkent', 'Jinzhu', 'Stephan Dilly', 'Sébastien Lorber', 'Henrik Rydgård', 'Ayke', 'Jacob Hoffman-Andrews', 'Sindre Sorhus', 'Arvid Norberg', 'Paulus Schoutsen', 'Eddie Jaoude', 'Stefan Prodan', 'Francois Zaninotto', 'Raúl Gómez Acuña', 'Sergey Kamardin', 'hackerman', 'Jason Miller', 'Samuel Reed', 'Barry vd. Heuvel', 'Dominik Moritz', 'martinRenou', 'Diego Muracciole', 'Stephen Celis']\n"
     ]
    }
   ],
   "source": [
    "# your code here\n",
    "tables = soup.find_all('h1', attrs={'class':'h3 lh-condensed'})\n",
    "\n",
    "lst = [table.text.replace('\\n','').strip() for table in tables]\n",
    "print(lst)"
   ]
  },
  {
   "cell_type": "markdown",
   "metadata": {
    "Collapsed": "false"
   },
   "source": [
    "## Bonus Challenges\n",
    "\n",
    "Below, you'll find a number of bonus challenges. Feel free to do as many as you look. These challenges are useful if you want to bolster your web scraping skills, but are not a requirement. "
   ]
  },
  {
   "cell_type": "markdown",
   "metadata": {
    "Collapsed": "false"
   },
   "source": [
    "#### Display the trending Python repositories in GitHub.\n",
    "\n",
    "The steps to solve this problem is similar to the previous one except that you need to find out the repository names instead of developer names."
   ]
  },
  {
   "cell_type": "code",
   "execution_count": 5,
   "metadata": {
    "Collapsed": "false"
   },
   "outputs": [],
   "source": [
    "# This is the url you will scrape in this exercise\n",
    "url = 'https://github.com/trending/python?since=daily'"
   ]
  },
  {
   "cell_type": "code",
   "execution_count": 6,
   "metadata": {
    "Collapsed": "false"
   },
   "outputs": [
    {
     "name": "stdout",
     "output_type": "stream",
     "text": [
      "['present', 'Python', 'NeMo', '12306', 'jax', 'yolov5', 'Osintgram', 'handcalcs', 'Dango-Translator', 'learn-python', 'python-patterns', 'Hands-On-Artificial-Intelligence-for-Banking', 'hummingbot', 'howdy', 'Userge', 'mmdetection', 'Top2Vec', 'malwoverview', 'dagster', 'MONAI', 'nni', 'incubator-superset', 'pyinstaller', 'awesome-python', 'Pytorch-UNet']\n"
     ]
    }
   ],
   "source": [
    "# your code here\n",
    "soup = BeautifulSoup(requests.get(url).text,'html.parser')\n",
    "tables = soup.find_all('h1', attrs={'class':'h3 lh-condensed'})\n",
    "\n",
    "lst2 = [table.text.split('/')[1].replace('\\n','').strip() for table in tables]\n",
    "print(lst2)"
   ]
  },
  {
   "cell_type": "markdown",
   "metadata": {
    "Collapsed": "false"
   },
   "source": [
    "#### Display all the image links from Walt Disney wikipedia page."
   ]
  },
  {
   "cell_type": "code",
   "execution_count": 7,
   "metadata": {
    "Collapsed": "false"
   },
   "outputs": [],
   "source": [
    "# This is the url you will scrape in this exercise\n",
    "url = 'https://en.wikipedia.org/wiki/Walt_Disney'\n",
    "import urllib3\n",
    "import re"
   ]
  },
  {
   "cell_type": "code",
   "execution_count": 8,
   "metadata": {
    "Collapsed": "false"
   },
   "outputs": [
    {
     "name": "stdout",
     "output_type": "stream",
     "text": [
      "['//upload.wikimedia.org/wikipedia/commons/thumb/d/df/Walt_Disney_1946.JPG/220px-Walt_Disney_1946.JPG', '//upload.wikimedia.org/wikipedia/commons/thumb/8/87/Walt_Disney_1942_signature.svg/150px-Walt_Disney_1942_signature.svg.png', '//upload.wikimedia.org/wikipedia/commons/thumb/c/c4/Walt_Disney_envelope_ca._1921.jpg/220px-Walt_Disney_envelope_ca._1921.jpg', '//upload.wikimedia.org/wikipedia/commons/thumb/0/0d/Trolley_Troubles_poster.jpg/170px-Trolley_Troubles_poster.jpg', '//upload.wikimedia.org/wikipedia/commons/thumb/7/71/Walt_Disney_and_his_cartoon_creation_%22Mickey_Mouse%22_-_National_Board_of_Review_Magazine.jpg/170px-Walt_Disney_and_his_cartoon_creation_%22Mickey_Mouse%22_-_National_Board_of_Review_Magazine.jpg', '//upload.wikimedia.org/wikipedia/en/thumb/4/4e/Steamboat-willie.jpg/170px-Steamboat-willie.jpg', '//upload.wikimedia.org/wikipedia/commons/thumb/5/57/Walt_Disney_1935.jpg/170px-Walt_Disney_1935.jpg', '//upload.wikimedia.org/wikipedia/commons/thumb/c/cd/Walt_Disney_Snow_white_1937_trailer_screenshot_%2813%29.jpg/220px-Walt_Disney_Snow_white_1937_trailer_screenshot_%2813%29.jpg', '//upload.wikimedia.org/wikipedia/commons/thumb/1/15/Disney_drawing_goofy.jpg/170px-Disney_drawing_goofy.jpg', '//upload.wikimedia.org/wikipedia/commons/thumb/1/13/DisneySchiphol1951.jpg/220px-DisneySchiphol1951.jpg', '//upload.wikimedia.org/wikipedia/commons/thumb/8/8c/WaltDisneyplansDisneylandDec1954.jpg/220px-WaltDisneyplansDisneylandDec1954.jpg', '//upload.wikimedia.org/wikipedia/commons/thumb/f/ff/Walt_disney_portrait_right.jpg/170px-Walt_disney_portrait_right.jpg', '//upload.wikimedia.org/wikipedia/commons/thumb/1/1a/Walt_Disney_Grave.JPG/170px-Walt_Disney_Grave.JPG', '//upload.wikimedia.org/wikipedia/commons/thumb/2/2d/Roy_O._Disney_with_Company_at_Press_Conference.jpg/170px-Roy_O._Disney_with_Company_at_Press_Conference.jpg', '//upload.wikimedia.org/wikipedia/commons/thumb/a/a9/Disney_Display_Case.JPG/170px-Disney_Display_Case.JPG', '//upload.wikimedia.org/wikipedia/commons/thumb/6/6c/Disney1968.jpg/170px-Disney1968.jpg', '//upload.wikimedia.org/wikipedia/commons/thumb/4/44/The_Walt_Disney_Company_Logo.svg/120px-The_Walt_Disney_Company_Logo.svg.png', '//upload.wikimedia.org/wikipedia/commons/thumb/d/da/Animation_disc.svg/30px-Animation_disc.svg.png', '//upload.wikimedia.org/wikipedia/en/thumb/6/69/P_vip.svg/29px-P_vip.svg.png', '//upload.wikimedia.org/wikipedia/commons/thumb/1/1a/Magic_Kingdom_castle.jpg/24px-Magic_Kingdom_castle.jpg', '//upload.wikimedia.org/wikipedia/en/thumb/e/e7/Video-x-generic.svg/30px-Video-x-generic.svg.png', '//upload.wikimedia.org/wikipedia/commons/thumb/a/a3/Flag_of_Los_Angeles_County%2C_California.svg/30px-Flag_of_Los_Angeles_County%2C_California.svg.png', '//upload.wikimedia.org/wikipedia/commons/thumb/8/8c/Blank_television_set.svg/30px-Blank_television_set.svg.png', '//upload.wikimedia.org/wikipedia/en/thumb/a/a4/Flag_of_the_United_States.svg/30px-Flag_of_the_United_States.svg.png']\n"
     ]
    }
   ],
   "source": [
    "# your code here\n",
    "soup = BeautifulSoup(requests.get(url).text,'html.parser')\n",
    "tables = soup.find_all('a', attrs={'class':'image'})\n",
    "lst3 = [table.find('img')['src'] for table in tables]\n",
    "print(lst3)"
   ]
  },
  {
   "cell_type": "markdown",
   "metadata": {
    "Collapsed": "false"
   },
   "source": [
    "#### Retrieve an arbitary Wikipedia page of \"Python\" and create a list of links on that page."
   ]
  },
  {
   "cell_type": "code",
   "execution_count": 9,
   "metadata": {
    "Collapsed": "false"
   },
   "outputs": [],
   "source": [
    "# This is the url you will scrape in this exercise\n",
    "url ='https://en.wikipedia.org/wiki/Python'\n"
   ]
  },
  {
   "cell_type": "code",
   "execution_count": null,
   "metadata": {
    "Collapsed": "false"
   },
   "outputs": [],
   "source": []
  },
  {
   "cell_type": "code",
   "execution_count": 10,
   "metadata": {
    "Collapsed": "false"
   },
   "outputs": [
    {
     "name": "stdout",
     "output_type": "stream",
     "text": [
      "['/wiki/Pythonidae', '/wiki/Python_(genus)', '/wiki/Python_(genus)', '/wiki/Python_(mythology)', '/wiki/Python_of_Aenus', '/wiki/Python_(painter)', '/wiki/Python_of_Byzantium', '/wiki/Python_of_Catana', '/wiki/Python_(film)', '/wiki/Pythons_2', '/wiki/Pythons_2', '/wiki/Monty_Python', '/wiki/Python_(Monty)_Pictures', '/wiki/Python_(Monty)_Pictures', '/wiki/Python_(programming_language)', '/wiki/CPython', '/wiki/CPython', '/wiki/CMU_Common_Lisp', '/wiki/PERQ#PERQ_3', '/wiki/Python_(Busch_Gardens_Tampa_Bay)', '/wiki/Python_(Coney_Island,_Cincinnati,_Ohio)', '/wiki/Python_(Efteling)', '/wiki/Python_(automobile_maker)', '/wiki/Python_(Ford_prototype)', '/wiki/Colt_Python', '/wiki/Python_(missile)', '/wiki/Python_(nuclear_primary)', '/wiki/Python_Anghelo', '/wiki/PYTHON', '/wiki/Cython', '/wiki/Pyton']\n"
     ]
    }
   ],
   "source": [
    "# your code here\n",
    "soup = BeautifulSoup(requests.get(url).text,'html.parser').find('body').find_all('div',attrs={'class':'mw-parser-output'})\n",
    "links = BeautifulSoup(str(BeautifulSoup(str(soup),'html.parser').find_all('li')),'html.parser').find_all('a', attrs={'href':re.compile(\"/wiki/\")})\n",
    "lst = [link['href'] for link in links]\n",
    "print(lst) "
   ]
  },
  {
   "cell_type": "markdown",
   "metadata": {
    "Collapsed": "false"
   },
   "source": [
    "#### Find the number of titles that have changed in the United States Code since its last release point."
   ]
  },
  {
   "cell_type": "code",
   "execution_count": 11,
   "metadata": {
    "Collapsed": "false"
   },
   "outputs": [],
   "source": [
    "# This is the url you will scrape in this exercise\n",
    "url = 'http://uscode.house.gov/download/download.shtml'"
   ]
  },
  {
   "cell_type": "code",
   "execution_count": 12,
   "metadata": {
    "Collapsed": "false"
   },
   "outputs": [
    {
     "data": {
      "text/plain": [
       "['Title 34 - Crime Control and Law Enforcement',\n",
       " 'Title 42 - The Public Health and Welfare',\n",
       " 'Title 50 - War and National Defense']"
      ]
     },
     "execution_count": 12,
     "metadata": {},
     "output_type": "execute_result"
    }
   ],
   "source": [
    "# your code here\n",
    "soup = BeautifulSoup(requests.get(url).text,'html.parser')\n",
    "lst6 = [title.text.replace('\\n','').strip() for title in soup.find_all('div', attrs={'class':'usctitlechanged'})]\n",
    "lst6"
   ]
  },
  {
   "cell_type": "markdown",
   "metadata": {
    "Collapsed": "false"
   },
   "source": [
    "#### Find a Python list with the top ten FBI's Most Wanted names."
   ]
  },
  {
   "cell_type": "code",
   "execution_count": 13,
   "metadata": {
    "Collapsed": "false"
   },
   "outputs": [],
   "source": [
    "# This is the url you will scrape in this exercise\n",
    "url = 'https://www.fbi.gov/wanted/topten'"
   ]
  },
  {
   "cell_type": "code",
   "execution_count": 14,
   "metadata": {
    "Collapsed": "false"
   },
   "outputs": [
    {
     "data": {
      "text/plain": [
       "['JASON DEREK BROWN',\n",
       " 'YASER ABDEL SAID',\n",
       " 'ALEXIS FLORES',\n",
       " 'EUGENE PALMER',\n",
       " 'RAFAEL CARO-QUINTERO',\n",
       " 'ROBERT WILLIAM FISHER',\n",
       " 'BHADRESHKUMAR CHETANBHAI PATEL',\n",
       " 'ALEJANDRO ROSALES CASTILLO',\n",
       " 'ARNOLDO JIMENEZ',\n",
       " 'SANTIAGO VILLALBA MEDEROS']"
      ]
     },
     "execution_count": 14,
     "metadata": {},
     "output_type": "execute_result"
    }
   ],
   "source": [
    "# your code here\n",
    "soup = BeautifulSoup(requests.get(url).text,'html.parser')\n",
    "lst7 = [name.text.replace('\\n','') for name in soup.find_all('h3', attrs={'class':'title'})]\n",
    "lst7"
   ]
  },
  {
   "cell_type": "markdown",
   "metadata": {
    "Collapsed": "false"
   },
   "source": [
    "####  Display the 20 latest earthquakes info (date, time, latitude, longitude and region name) by the EMSC as a pandas dataframe."
   ]
  },
  {
   "cell_type": "code",
   "execution_count": 15,
   "metadata": {
    "Collapsed": "false"
   },
   "outputs": [],
   "source": [
    "# This is the url you will scrape in this exercise\n",
    "url = 'https://www.emsc-csem.org/Earthquake/'"
   ]
  },
  {
   "cell_type": "code",
   "execution_count": 16,
   "metadata": {
    "Collapsed": "false"
   },
   "outputs": [
    {
     "data": {
      "text/html": [
       "<div>\n",
       "<style scoped>\n",
       "    .dataframe tbody tr th:only-of-type {\n",
       "        vertical-align: middle;\n",
       "    }\n",
       "\n",
       "    .dataframe tbody tr th {\n",
       "        vertical-align: top;\n",
       "    }\n",
       "\n",
       "    .dataframe thead th {\n",
       "        text-align: right;\n",
       "    }\n",
       "</style>\n",
       "<table border=\"1\" class=\"dataframe\">\n",
       "  <thead>\n",
       "    <tr style=\"text-align: right;\">\n",
       "      <th></th>\n",
       "      <th>date</th>\n",
       "      <th>latitude</th>\n",
       "      <th>longitude</th>\n",
       "      <th>region name</th>\n",
       "      <th>time</th>\n",
       "    </tr>\n",
       "  </thead>\n",
       "  <tbody>\n",
       "    <tr>\n",
       "      <th>0</th>\n",
       "      <td>2020-09-01</td>\n",
       "      <td>38.44</td>\n",
       "      <td>39.24</td>\n",
       "      <td>EASTERN TURKEY</td>\n",
       "      <td>18:21:05.0</td>\n",
       "    </tr>\n",
       "    <tr>\n",
       "      <th>1</th>\n",
       "      <td>2020-09-01</td>\n",
       "      <td>39.47</td>\n",
       "      <td>26.22</td>\n",
       "      <td>NEAR THE COAST OF WESTERN TURKEY</td>\n",
       "      <td>18:20:39.6</td>\n",
       "    </tr>\n",
       "    <tr>\n",
       "      <th>2</th>\n",
       "      <td>2020-09-01</td>\n",
       "      <td>27.89</td>\n",
       "      <td>71.13</td>\n",
       "      <td>OFFSHORE ATACAMA, CHILE</td>\n",
       "      <td>18:10:31.0</td>\n",
       "    </tr>\n",
       "    <tr>\n",
       "      <th>3</th>\n",
       "      <td>2020-09-01</td>\n",
       "      <td>36.42</td>\n",
       "      <td>136.72</td>\n",
       "      <td>NEAR WEST COAST OF HONSHU, JAPAN</td>\n",
       "      <td>17:49:57.7</td>\n",
       "    </tr>\n",
       "    <tr>\n",
       "      <th>4</th>\n",
       "      <td>2020-09-01</td>\n",
       "      <td>23.91</td>\n",
       "      <td>67.30</td>\n",
       "      <td>SALTA, ARGENTINA</td>\n",
       "      <td>17:45:21.0</td>\n",
       "    </tr>\n",
       "    <tr>\n",
       "      <th>5</th>\n",
       "      <td>2020-09-01</td>\n",
       "      <td>17.93</td>\n",
       "      <td>66.95</td>\n",
       "      <td>PUERTO RICO REGION</td>\n",
       "      <td>17:41:37.8</td>\n",
       "    </tr>\n",
       "    <tr>\n",
       "      <th>6</th>\n",
       "      <td>2020-09-01</td>\n",
       "      <td>38.49</td>\n",
       "      <td>26.80</td>\n",
       "      <td>NEAR THE COAST OF WESTERN TURKEY</td>\n",
       "      <td>17:35:03.4</td>\n",
       "    </tr>\n",
       "    <tr>\n",
       "      <th>7</th>\n",
       "      <td>2020-09-01</td>\n",
       "      <td>19.41</td>\n",
       "      <td>155.29</td>\n",
       "      <td>ISLAND OF HAWAII, HAWAII</td>\n",
       "      <td>17:27:14.2</td>\n",
       "    </tr>\n",
       "    <tr>\n",
       "      <th>8</th>\n",
       "      <td>2020-09-01</td>\n",
       "      <td>23.44</td>\n",
       "      <td>179.86</td>\n",
       "      <td>SOUTH OF FIJI ISLANDS</td>\n",
       "      <td>17:25:31.9</td>\n",
       "    </tr>\n",
       "    <tr>\n",
       "      <th>9</th>\n",
       "      <td>2020-09-01</td>\n",
       "      <td>27.95</td>\n",
       "      <td>71.41</td>\n",
       "      <td>OFFSHORE ATACAMA, CHILE</td>\n",
       "      <td>17:17:56.0</td>\n",
       "    </tr>\n",
       "    <tr>\n",
       "      <th>10</th>\n",
       "      <td>2020-09-01</td>\n",
       "      <td>27.88</td>\n",
       "      <td>71.36</td>\n",
       "      <td>OFFSHORE ATACAMA, CHILE</td>\n",
       "      <td>17:13:20.2</td>\n",
       "    </tr>\n",
       "    <tr>\n",
       "      <th>11</th>\n",
       "      <td>2020-09-01</td>\n",
       "      <td>43.65</td>\n",
       "      <td>25.71</td>\n",
       "      <td>BULGARIA</td>\n",
       "      <td>17:12:33.4</td>\n",
       "    </tr>\n",
       "    <tr>\n",
       "      <th>12</th>\n",
       "      <td>2020-09-01</td>\n",
       "      <td>38.24</td>\n",
       "      <td>117.68</td>\n",
       "      <td>NEVADA</td>\n",
       "      <td>16:56:22.3</td>\n",
       "    </tr>\n",
       "    <tr>\n",
       "      <th>13</th>\n",
       "      <td>2020-09-01</td>\n",
       "      <td>28.09</td>\n",
       "      <td>71.23</td>\n",
       "      <td>OFFSHORE ATACAMA, CHILE</td>\n",
       "      <td>16:48:10.0</td>\n",
       "    </tr>\n",
       "    <tr>\n",
       "      <th>14</th>\n",
       "      <td>2020-09-01</td>\n",
       "      <td>27.98</td>\n",
       "      <td>71.32</td>\n",
       "      <td>OFFSHORE ATACAMA, CHILE</td>\n",
       "      <td>16:09:58.0</td>\n",
       "    </tr>\n",
       "    <tr>\n",
       "      <th>15</th>\n",
       "      <td>2020-09-01</td>\n",
       "      <td>21.17</td>\n",
       "      <td>69.81</td>\n",
       "      <td>TARAPACA, CHILE</td>\n",
       "      <td>15:51:05.0</td>\n",
       "    </tr>\n",
       "    <tr>\n",
       "      <th>16</th>\n",
       "      <td>2020-09-01</td>\n",
       "      <td>27.98</td>\n",
       "      <td>71.36</td>\n",
       "      <td>OFFSHORE ATACAMA, CHILE</td>\n",
       "      <td>15:29:01.0</td>\n",
       "    </tr>\n",
       "    <tr>\n",
       "      <th>17</th>\n",
       "      <td>2020-09-01</td>\n",
       "      <td>21.41</td>\n",
       "      <td>70.44</td>\n",
       "      <td>OFFSHORE ANTOFAGASTA, CHILE</td>\n",
       "      <td>15:19:35.0</td>\n",
       "    </tr>\n",
       "    <tr>\n",
       "      <th>18</th>\n",
       "      <td>2020-09-01</td>\n",
       "      <td>28.08</td>\n",
       "      <td>71.36</td>\n",
       "      <td>OFFSHORE ATACAMA, CHILE</td>\n",
       "      <td>15:16:13.0</td>\n",
       "    </tr>\n",
       "    <tr>\n",
       "      <th>19</th>\n",
       "      <td>2020-09-01</td>\n",
       "      <td>27.94</td>\n",
       "      <td>71.41</td>\n",
       "      <td>OFFSHORE ATACAMA, CHILE</td>\n",
       "      <td>14:56:45.0</td>\n",
       "    </tr>\n",
       "  </tbody>\n",
       "</table>\n",
       "</div>"
      ],
      "text/plain": [
       "          date latitude longitude                       region name  \\\n",
       "0   2020-09-01    38.44     39.24                    EASTERN TURKEY   \n",
       "1   2020-09-01    39.47     26.22  NEAR THE COAST OF WESTERN TURKEY   \n",
       "2   2020-09-01    27.89     71.13           OFFSHORE ATACAMA, CHILE   \n",
       "3   2020-09-01    36.42    136.72  NEAR WEST COAST OF HONSHU, JAPAN   \n",
       "4   2020-09-01    23.91     67.30                  SALTA, ARGENTINA   \n",
       "5   2020-09-01    17.93     66.95                PUERTO RICO REGION   \n",
       "6   2020-09-01    38.49     26.80  NEAR THE COAST OF WESTERN TURKEY   \n",
       "7   2020-09-01    19.41    155.29          ISLAND OF HAWAII, HAWAII   \n",
       "8   2020-09-01    23.44    179.86             SOUTH OF FIJI ISLANDS   \n",
       "9   2020-09-01    27.95     71.41           OFFSHORE ATACAMA, CHILE   \n",
       "10  2020-09-01    27.88     71.36           OFFSHORE ATACAMA, CHILE   \n",
       "11  2020-09-01    43.65     25.71                          BULGARIA   \n",
       "12  2020-09-01    38.24    117.68                            NEVADA   \n",
       "13  2020-09-01    28.09     71.23           OFFSHORE ATACAMA, CHILE   \n",
       "14  2020-09-01    27.98     71.32           OFFSHORE ATACAMA, CHILE   \n",
       "15  2020-09-01    21.17     69.81                   TARAPACA, CHILE   \n",
       "16  2020-09-01    27.98     71.36           OFFSHORE ATACAMA, CHILE   \n",
       "17  2020-09-01    21.41     70.44       OFFSHORE ANTOFAGASTA, CHILE   \n",
       "18  2020-09-01    28.08     71.36           OFFSHORE ATACAMA, CHILE   \n",
       "19  2020-09-01    27.94     71.41           OFFSHORE ATACAMA, CHILE   \n",
       "\n",
       "          time  \n",
       "0   18:21:05.0  \n",
       "1   18:20:39.6  \n",
       "2   18:10:31.0  \n",
       "3   17:49:57.7  \n",
       "4   17:45:21.0  \n",
       "5   17:41:37.8  \n",
       "6   17:35:03.4  \n",
       "7   17:27:14.2  \n",
       "8   17:25:31.9  \n",
       "9   17:17:56.0  \n",
       "10  17:13:20.2  \n",
       "11  17:12:33.4  \n",
       "12  16:56:22.3  \n",
       "13  16:48:10.0  \n",
       "14  16:09:58.0  \n",
       "15  15:51:05.0  \n",
       "16  15:29:01.0  \n",
       "17  15:19:35.0  \n",
       "18  15:16:13.0  \n",
       "19  14:56:45.0  "
      ]
     },
     "execution_count": 16,
     "metadata": {},
     "output_type": "execute_result"
    }
   ],
   "source": [
    "# your code here\n",
    "rows = BeautifulSoup(requests.get(url).text,'html.parser').find('tbody').find_all('tr')\n",
    "df = pd.DataFrame()\n",
    "\n",
    "for row in rows[:20]:\n",
    "    cells = row.find_all('td')\n",
    "    d = {'date' : cells[3].find('a').text.split('\\xa0\\xa0\\xa0')[0],\n",
    "    'time' : cells[3].find('a').text.split('\\xa0\\xa0\\xa0')[1],\n",
    "    'latitude' : cells[4].text.replace('\\xa0',''),\n",
    "    'longitude' : cells[6].text.replace('\\xa0',''),\n",
    "    'region name' : cells[11].text.replace('\\xa0',''),}\n",
    "    \n",
    "    df = df.append(d,ignore_index=True)\n",
    "    \n",
    "df.head(20)"
   ]
  },
  {
   "cell_type": "markdown",
   "metadata": {
    "Collapsed": "false"
   },
   "source": [
    "#### Count the number of tweets by a given Twitter account.\n",
    "Ask the user for the handle (@handle) of a twitter account. You will need to include a ***try/except block*** for account names not found. \n",
    "<br>***Hint:*** the program should count the number of tweets for any provided account."
   ]
  },
  {
   "cell_type": "code",
   "execution_count": 17,
   "metadata": {
    "Collapsed": "false"
   },
   "outputs": [],
   "source": [
    "# This is the url you will scrape in this exercise \n",
    "# You will need to add the account credentials to this url\n",
    "url = 'https://twitter.com/jeroenvdgulik/followers'"
   ]
  },
  {
   "cell_type": "code",
   "execution_count": 18,
   "metadata": {
    "Collapsed": "false"
   },
   "outputs": [],
   "source": [
    "# your code here\n"
   ]
  },
  {
   "cell_type": "code",
   "execution_count": null,
   "metadata": {
    "Collapsed": "false"
   },
   "outputs": [],
   "source": []
  },
  {
   "cell_type": "markdown",
   "metadata": {
    "Collapsed": "false"
   },
   "source": [
    "#### Number of followers of a given twitter account\n",
    "Ask the user for the handle (@handle) of a twitter account. You will need to include a ***try/except block*** for account names not found. \n",
    "<br>***Hint:*** the program should count the followers for any provided account."
   ]
  },
  {
   "cell_type": "code",
   "execution_count": 19,
   "metadata": {
    "Collapsed": "false"
   },
   "outputs": [],
   "source": [
    "# This is the url you will scrape in this exercise \n",
    "# You will need to add the account credentials to this url\n",
    "url = 'https://twitter.com/'\n"
   ]
  },
  {
   "cell_type": "code",
   "execution_count": 20,
   "metadata": {
    "Collapsed": "false"
   },
   "outputs": [],
   "source": [
    "# your code here"
   ]
  },
  {
   "cell_type": "markdown",
   "metadata": {
    "Collapsed": "false"
   },
   "source": [
    "#### List all language names and number of related articles in the order they appear in wikipedia.org."
   ]
  },
  {
   "cell_type": "code",
   "execution_count": 37,
   "metadata": {
    "Collapsed": "false"
   },
   "outputs": [],
   "source": [
    "# This is the url you will scrape in this exercise\n",
    "url = 'https://www.wikipedia.org/'"
   ]
  },
  {
   "cell_type": "code",
   "execution_count": 38,
   "metadata": {
    "Collapsed": "false"
   },
   "outputs": [
    {
     "data": {
      "text/html": [
       "<div>\n",
       "<style scoped>\n",
       "    .dataframe tbody tr th:only-of-type {\n",
       "        vertical-align: middle;\n",
       "    }\n",
       "\n",
       "    .dataframe tbody tr th {\n",
       "        vertical-align: top;\n",
       "    }\n",
       "\n",
       "    .dataframe thead th {\n",
       "        text-align: right;\n",
       "    }\n",
       "</style>\n",
       "<table border=\"1\" class=\"dataframe\">\n",
       "  <thead>\n",
       "    <tr style=\"text-align: right;\">\n",
       "      <th></th>\n",
       "      <th>Articles</th>\n",
       "      <th>Language</th>\n",
       "    </tr>\n",
       "  </thead>\n",
       "  <tbody>\n",
       "    <tr>\n",
       "      <th>0</th>\n",
       "      <td>6 146 000+</td>\n",
       "      <td>English</td>\n",
       "    </tr>\n",
       "    <tr>\n",
       "      <th>1</th>\n",
       "      <td>1 224 000+</td>\n",
       "      <td>æ¥æ¬èª</td>\n",
       "    </tr>\n",
       "    <tr>\n",
       "      <th>2</th>\n",
       "      <td>1 620 000+</td>\n",
       "      <td>EspaÃ±ol</td>\n",
       "    </tr>\n",
       "    <tr>\n",
       "      <th>3</th>\n",
       "      <td>2 472 000+</td>\n",
       "      <td>Deutsch</td>\n",
       "    </tr>\n",
       "    <tr>\n",
       "      <th>4</th>\n",
       "      <td>2 244 000+</td>\n",
       "      <td>FranÃ§ais</td>\n",
       "    </tr>\n",
       "    <tr>\n",
       "      <th>5</th>\n",
       "      <td>1 654 000+</td>\n",
       "      <td>Ð ÑÑÑÐºÐ¸Ð¹</td>\n",
       "    </tr>\n",
       "    <tr>\n",
       "      <th>6</th>\n",
       "      <td>1 630 000+</td>\n",
       "      <td>Italiano</td>\n",
       "    </tr>\n",
       "    <tr>\n",
       "      <th>7</th>\n",
       "      <td>1 140 000+</td>\n",
       "      <td>ä¸­æ</td>\n",
       "    </tr>\n",
       "    <tr>\n",
       "      <th>8</th>\n",
       "      <td>1 042 000+</td>\n",
       "      <td>PortuguÃªs</td>\n",
       "    </tr>\n",
       "    <tr>\n",
       "      <th>9</th>\n",
       "      <td>1 424 000+</td>\n",
       "      <td>Polski</td>\n",
       "    </tr>\n",
       "  </tbody>\n",
       "</table>\n",
       "</div>"
      ],
      "text/plain": [
       "     Articles        Language\n",
       "0  6 146 000+         English\n",
       "1  1 224 000+       æ¥æ¬èª\n",
       "2  1 620 000+        EspaÃ±ol\n",
       "3  2 472 000+         Deutsch\n",
       "4  2 244 000+       FranÃ§ais\n",
       "5  1 654 000+  Ð ÑÑÑÐºÐ¸Ð¹\n",
       "6  1 630 000+        Italiano\n",
       "7  1 140 000+          ä¸­æ\n",
       "8  1 042 000+      PortuguÃªs\n",
       "9  1 424 000+          Polski"
      ]
     },
     "execution_count": 38,
     "metadata": {},
     "output_type": "execute_result"
    }
   ],
   "source": [
    "# your code here\n",
    "soup = BeautifulSoup(requests.get(url).text,'html.parser')\n",
    "df = pd.DataFrame()\n",
    "for row in soup.find_all('div', attrs={'dir':'ltr'}):\n",
    "    d = {'Language' : row.find('strong').text,\n",
    "         'Articles' : row.find('bdi').text,\n",
    "        }\n",
    "    df = df.append(d,ignore_index=True)\n",
    "df\n",
    "### Is there way to return normal signs?\n",
    "#paolo: ok, check below"
   ]
  },
  {
   "cell_type": "code",
   "execution_count": 39,
   "metadata": {
    "Collapsed": "false"
   },
   "outputs": [
    {
     "name": "stdout",
     "output_type": "stream",
     "text": [
      "\n",
      "English\n",
      "6 146 000+ articles\n",
      "\n",
      "\n",
      "日本語\n",
      "1 224 000+ 記事\n",
      "\n",
      "\n",
      "Español\n",
      "1 620 000+ artículos\n",
      "\n",
      "\n",
      "Deutsch\n",
      "2 472 000+ Artikel\n",
      "\n",
      "\n",
      "Français\n",
      "2 244 000+ articles\n",
      "\n",
      "\n",
      "Русский\n",
      "1 654 000+ статей\n",
      "\n",
      "\n",
      "Italiano\n",
      "1 630 000+ voci\n",
      "\n",
      "\n",
      "中文\n",
      "1 140 000+ 條目\n",
      "\n",
      "\n",
      "Português\n",
      "1 042 000+ artigos\n",
      "\n",
      "\n",
      "Polski\n",
      "1 424 000+ haseł\n",
      "\n"
     ]
    }
   ],
   "source": [
    "#paolo: an alternative could be \n",
    "html = requests.get(url).content\n",
    "bs = BeautifulSoup(html, \"html.parser\")\n",
    "nameList = bs.findAll('a', {'class' : 'link-box'})\n",
    "for name in nameList:\n",
    "    print(name.get_text())"
   ]
  },
  {
   "cell_type": "markdown",
   "metadata": {
    "Collapsed": "false"
   },
   "source": [
    "#### A list with the different kind of datasets available in data.gov.uk."
   ]
  },
  {
   "cell_type": "code",
   "execution_count": 23,
   "metadata": {
    "Collapsed": "false"
   },
   "outputs": [],
   "source": [
    "# This is the url you will scrape in this exercise\n",
    "url = 'https://data.gov.uk/'"
   ]
  },
  {
   "cell_type": "code",
   "execution_count": 24,
   "metadata": {
    "Collapsed": "false"
   },
   "outputs": [
    {
     "name": "stdout",
     "output_type": "stream",
     "text": [
      "['Business and economy', 'Crime and justice', 'Defence', 'Education', 'Environment', 'Government', 'Government spending', 'Health', 'Mapping', 'Society', 'Towns and cities', 'Transport']\n"
     ]
    }
   ],
   "source": [
    "# your code here\n",
    "soup = BeautifulSoup(requests.get(url).text,'html.parser').select('h3')\n",
    "lst =  [i.text for i in soup]\n",
    "print(lst)"
   ]
  },
  {
   "cell_type": "markdown",
   "metadata": {
    "Collapsed": "false"
   },
   "source": [
    "#### Display the top 10 languages by number of native speakers stored in a pandas dataframe."
   ]
  },
  {
   "cell_type": "code",
   "execution_count": 25,
   "metadata": {
    "Collapsed": "false"
   },
   "outputs": [],
   "source": [
    "# This is the url you will scrape in this exercise\n",
    "url = 'https://en.wikipedia.org/wiki/List_of_languages_by_number_of_native_speakers'"
   ]
  },
  {
   "cell_type": "code",
   "execution_count": 26,
   "metadata": {
    "Collapsed": "false"
   },
   "outputs": [
    {
     "data": {
      "text/plain": [
       "['Mandarin Chinese',\n",
       " 'Spanish',\n",
       " 'English',\n",
       " 'Hindi',\n",
       " 'Bengali',\n",
       " 'Portuguese',\n",
       " 'Russian',\n",
       " 'Japanese',\n",
       " 'Western Punjabi',\n",
       " 'Marathi']"
      ]
     },
     "execution_count": 26,
     "metadata": {},
     "output_type": "execute_result"
    }
   ],
   "source": [
    "# your code here\n",
    "lst = [x.find('a').text for x in BeautifulSoup(requests.get(url).text,'html.parser').find('tbody').find_all('tr')[1:11]]\n",
    "lst    "
   ]
  },
  {
   "cell_type": "markdown",
   "metadata": {
    "Collapsed": "false"
   },
   "source": [
    "#### Scrape a certain number of tweets of a given Twitter account."
   ]
  },
  {
   "cell_type": "code",
   "execution_count": 27,
   "metadata": {
    "Collapsed": "false"
   },
   "outputs": [],
   "source": [
    "# This is the url you will scrape in this exercise \n",
    "# You will need to add the account credentials to this url\n",
    "url = 'https://twitter.com/'"
   ]
  },
  {
   "cell_type": "code",
   "execution_count": 28,
   "metadata": {
    "Collapsed": "false"
   },
   "outputs": [],
   "source": [
    "# your code here"
   ]
  },
  {
   "cell_type": "markdown",
   "metadata": {
    "Collapsed": "false"
   },
   "source": [
    "#### Display IMDB's top 250 data (movie name, initial release, director name and stars) as a pandas dataframe."
   ]
  },
  {
   "cell_type": "code",
   "execution_count": 29,
   "metadata": {
    "Collapsed": "false"
   },
   "outputs": [],
   "source": [
    "# This is the url you will scrape in this exercise \n",
    "url = 'https://www.imdb.com/chart/top'"
   ]
  },
  {
   "cell_type": "code",
   "execution_count": 30,
   "metadata": {
    "Collapsed": "false"
   },
   "outputs": [
    {
     "data": {
      "text/html": [
       "<div>\n",
       "<style scoped>\n",
       "    .dataframe tbody tr th:only-of-type {\n",
       "        vertical-align: middle;\n",
       "    }\n",
       "\n",
       "    .dataframe tbody tr th {\n",
       "        vertical-align: top;\n",
       "    }\n",
       "\n",
       "    .dataframe thead th {\n",
       "        text-align: right;\n",
       "    }\n",
       "</style>\n",
       "<table border=\"1\" class=\"dataframe\">\n",
       "  <thead>\n",
       "    <tr style=\"text-align: right;\">\n",
       "      <th></th>\n",
       "      <th>Director</th>\n",
       "      <th>Rating</th>\n",
       "      <th>Title</th>\n",
       "      <th>Year</th>\n",
       "    </tr>\n",
       "  </thead>\n",
       "  <tbody>\n",
       "    <tr>\n",
       "      <th>0</th>\n",
       "      <td>Frank Darabont</td>\n",
       "      <td>9.2</td>\n",
       "      <td>Le ali della libertà</td>\n",
       "      <td>1994</td>\n",
       "    </tr>\n",
       "    <tr>\n",
       "      <th>1</th>\n",
       "      <td>Francis Ford Coppola</td>\n",
       "      <td>9.1</td>\n",
       "      <td>Il padrino</td>\n",
       "      <td>1972</td>\n",
       "    </tr>\n",
       "    <tr>\n",
       "      <th>2</th>\n",
       "      <td>Francis Ford Coppola</td>\n",
       "      <td>9.0</td>\n",
       "      <td>Il padrino - Parte II</td>\n",
       "      <td>1974</td>\n",
       "    </tr>\n",
       "    <tr>\n",
       "      <th>3</th>\n",
       "      <td>Christopher Nolan</td>\n",
       "      <td>9.0</td>\n",
       "      <td>Il cavaliere oscuro</td>\n",
       "      <td>2008</td>\n",
       "    </tr>\n",
       "    <tr>\n",
       "      <th>4</th>\n",
       "      <td>Sidney Lumet</td>\n",
       "      <td>8.9</td>\n",
       "      <td>La parola ai giurati</td>\n",
       "      <td>1957</td>\n",
       "    </tr>\n",
       "  </tbody>\n",
       "</table>\n",
       "</div>"
      ],
      "text/plain": [
       "                Director  Rating                  Title  Year\n",
       "0        Frank Darabont      9.2   Le ali della libertà  1994\n",
       "1  Francis Ford Coppola      9.1             Il padrino  1972\n",
       "2  Francis Ford Coppola      9.0  Il padrino - Parte II  1974\n",
       "3     Christopher Nolan      9.0    Il cavaliere oscuro  2008\n",
       "4          Sidney Lumet      8.9   La parola ai giurati  1957"
      ]
     },
     "execution_count": 30,
     "metadata": {},
     "output_type": "execute_result"
    }
   ],
   "source": [
    "# your code here\n",
    "titles = BeautifulSoup(requests.get(url).text,'html.parser').find('tbody').find_all('tr')\n",
    "\n",
    "df = pd.DataFrame()\n",
    "for title in titles:\n",
    "    columns = title.find_all('td')\n",
    "    d = {'Director' : columns[1].find('a')['title'].split(',')[0].replace('(dir.)',''),\n",
    "         'Title'    : columns[1].find('a').text.replace('\\n','').lstrip(),\n",
    "         'Year'     : re.sub(r'[()]','',str(columns[1].find('span').get_text())),\n",
    "         'Rating'   : float(columns[2].find('strong').get_text()),}\n",
    "    df = df.append(d,ignore_index=True)     \n",
    "         \n",
    "df.head(5)    "
   ]
  },
  {
   "cell_type": "markdown",
   "metadata": {
    "Collapsed": "false"
   },
   "source": [
    "#### Display the movie name, year and a brief summary of the top 10 random movies (IMDB) as a pandas dataframe."
   ]
  },
  {
   "cell_type": "code",
   "execution_count": 31,
   "metadata": {
    "Collapsed": "false"
   },
   "outputs": [
    {
     "data": {
      "text/html": [
       "<div>\n",
       "<style scoped>\n",
       "    .dataframe tbody tr th:only-of-type {\n",
       "        vertical-align: middle;\n",
       "    }\n",
       "\n",
       "    .dataframe tbody tr th {\n",
       "        vertical-align: top;\n",
       "    }\n",
       "\n",
       "    .dataframe thead th {\n",
       "        text-align: right;\n",
       "    }\n",
       "</style>\n",
       "<table border=\"1\" class=\"dataframe\">\n",
       "  <thead>\n",
       "    <tr style=\"text-align: right;\">\n",
       "      <th></th>\n",
       "      <th>summary</th>\n",
       "      <th>title</th>\n",
       "      <th>year</th>\n",
       "    </tr>\n",
       "  </thead>\n",
       "  <tbody>\n",
       "    <tr>\n",
       "      <th>0</th>\n",
       "      <td>In order to get out of the snobby clique that ...</td>\n",
       "      <td>Schegge di follia</td>\n",
       "      <td>1989</td>\n",
       "    </tr>\n",
       "    <tr>\n",
       "      <th>1</th>\n",
       "      <td>In 1980 Miami, a determined Cuban immigrant ta...</td>\n",
       "      <td>Scarface</td>\n",
       "      <td>1983</td>\n",
       "    </tr>\n",
       "    <tr>\n",
       "      <th>2</th>\n",
       "      <td>An unconventional single mother relocates with...</td>\n",
       "      <td>Sirene</td>\n",
       "      <td>1990</td>\n",
       "    </tr>\n",
       "    <tr>\n",
       "      <th>3</th>\n",
       "      <td>A committed dancer struggles to maintain her s...</td>\n",
       "      <td>Il cigno nero</td>\n",
       "      <td>2010</td>\n",
       "    </tr>\n",
       "    <tr>\n",
       "      <th>4</th>\n",
       "      <td>In the dead of a Wyoming winter, a bounty hunt...</td>\n",
       "      <td>The Hateful Eight</td>\n",
       "      <td>2015</td>\n",
       "    </tr>\n",
       "    <tr>\n",
       "      <th>5</th>\n",
       "      <td>With the help of a German bounty hunter, a fre...</td>\n",
       "      <td>Django Unchained</td>\n",
       "      <td>2012</td>\n",
       "    </tr>\n",
       "    <tr>\n",
       "      <th>6</th>\n",
       "      <td>In Nazi-occupied France during World War II, a...</td>\n",
       "      <td>Bastardi senza gloria</td>\n",
       "      <td>2009</td>\n",
       "    </tr>\n",
       "    <tr>\n",
       "      <th>7</th>\n",
       "      <td>Two separate sets of voluptuous women are stal...</td>\n",
       "      <td>Grindhouse - A prova di morte</td>\n",
       "      <td>2007</td>\n",
       "    </tr>\n",
       "    <tr>\n",
       "      <th>8</th>\n",
       "      <td>After awakening from a four-year coma, a forme...</td>\n",
       "      <td>Kill Bill - Volume 1</td>\n",
       "      <td>2003</td>\n",
       "    </tr>\n",
       "    <tr>\n",
       "      <th>9</th>\n",
       "      <td>Four interlocking tales that take place in a f...</td>\n",
       "      <td>Four Rooms</td>\n",
       "      <td>1995</td>\n",
       "    </tr>\n",
       "  </tbody>\n",
       "</table>\n",
       "</div>"
      ],
      "text/plain": [
       "                                             summary  \\\n",
       "0  In order to get out of the snobby clique that ...   \n",
       "1  In 1980 Miami, a determined Cuban immigrant ta...   \n",
       "2  An unconventional single mother relocates with...   \n",
       "3  A committed dancer struggles to maintain her s...   \n",
       "4  In the dead of a Wyoming winter, a bounty hunt...   \n",
       "5  With the help of a German bounty hunter, a fre...   \n",
       "6  In Nazi-occupied France during World War II, a...   \n",
       "7  Two separate sets of voluptuous women are stal...   \n",
       "8  After awakening from a four-year coma, a forme...   \n",
       "9  Four interlocking tales that take place in a f...   \n",
       "\n",
       "                           title  year  \n",
       "0              Schegge di follia  1989  \n",
       "1                       Scarface  1983  \n",
       "2                         Sirene  1990  \n",
       "3                  Il cigno nero  2010  \n",
       "4              The Hateful Eight  2015  \n",
       "5               Django Unchained  2012  \n",
       "6          Bastardi senza gloria  2009  \n",
       "7  Grindhouse - A prova di morte  2007  \n",
       "8           Kill Bill - Volume 1  2003  \n",
       "9                     Four Rooms  1995  "
      ]
     },
     "execution_count": 31,
     "metadata": {},
     "output_type": "execute_result"
    }
   ],
   "source": [
    "#This is the url you will scrape in this exercise\n",
    "# url = 'http://www.imdb.com/chart/top' #\n",
    "\n",
    "url = 'https://www.imdb.com/list/ls069248468/'\n",
    "soup = BeautifulSoup(requests.get(url).text,'html.parser').find('body')\n",
    "\n",
    "titles = soup.find_all('div',attrs={'class':'lister-item-content'})\n",
    "\n",
    "df = pd.DataFrame()\n",
    "\n",
    "for title in titles[:10]:\n",
    "    d = {'title': title.select('h3 a')[0].text,\n",
    "        'year' :  re.sub(r'[()]','',title.select('h3 span')[1].text),\n",
    "        'summary' : title.select('p')[1].get_text().replace('\\n','').strip(),\n",
    "        }\n",
    "    df = df.append(d,ignore_index=True)\n",
    "\n",
    "df"
   ]
  },
  {
   "cell_type": "markdown",
   "metadata": {
    "Collapsed": "false"
   },
   "source": [
    "#### Find the live weather report (temperature, wind speed, description and weather) of a given city."
   ]
  },
  {
   "cell_type": "code",
   "execution_count": 32,
   "metadata": {
    "Collapsed": "false"
   },
   "outputs": [],
   "source": [
    "#https://openweathermap.org/current\n",
    "# city = input('Enter the city: ')\n",
    "# url = 'http://api.openweathermap.org/data/2.5/weather?'+'q='+city+'&APPID=b35975e18dc93725acb092f7272cc6b8&units=metric'"
   ]
  },
  {
   "cell_type": "code",
   "execution_count": 33,
   "metadata": {
    "Collapsed": "false"
   },
   "outputs": [
    {
     "name": "stdin",
     "output_type": "stream",
     "text": [
      "Enter the city:  rome\n"
     ]
    },
    {
     "data": {
      "text/html": [
       "<div>\n",
       "<style scoped>\n",
       "    .dataframe tbody tr th:only-of-type {\n",
       "        vertical-align: middle;\n",
       "    }\n",
       "\n",
       "    .dataframe tbody tr th {\n",
       "        vertical-align: top;\n",
       "    }\n",
       "\n",
       "    .dataframe thead th {\n",
       "        text-align: right;\n",
       "    }\n",
       "</style>\n",
       "<table border=\"1\" class=\"dataframe\">\n",
       "  <thead>\n",
       "    <tr style=\"text-align: right;\">\n",
       "      <th></th>\n",
       "      <th>0</th>\n",
       "    </tr>\n",
       "  </thead>\n",
       "  <tbody>\n",
       "    <tr>\n",
       "      <th>Wind</th>\n",
       "      <td>1.5</td>\n",
       "    </tr>\n",
       "    <tr>\n",
       "      <th>description</th>\n",
       "      <td>broken clouds</td>\n",
       "    </tr>\n",
       "    <tr>\n",
       "      <th>main</th>\n",
       "      <td>Clouds</td>\n",
       "    </tr>\n",
       "    <tr>\n",
       "      <th>temp</th>\n",
       "      <td>30.63</td>\n",
       "    </tr>\n",
       "  </tbody>\n",
       "</table>\n",
       "</div>"
      ],
      "text/plain": [
       "                         0\n",
       "Wind                   1.5\n",
       "description  broken clouds\n",
       "main                Clouds\n",
       "temp                 30.63"
      ]
     },
     "execution_count": 33,
     "metadata": {},
     "output_type": "execute_result"
    }
   ],
   "source": [
    "def get_weather():\n",
    "    df = pd.DataFrame()\n",
    "    city = input('Enter the city: ')\n",
    "    url = 'http://api.openweathermap.org/data/2.5/weather?'+'q='+city+'&APPID=b35975e18dc93725acb092f7272cc6b8&units=metric'\n",
    "    response = requests.get(url).json()\n",
    "    d = {'Wind':list(response['wind'].values())[0],\n",
    "         list(response['weather'][0].keys())[1]: list(response['weather'][0].values())[1],\n",
    "         list(response['weather'][0].keys())[2]: list(response['weather'][0].values())[2],\n",
    "         list(response['main'].keys())[0]:list(response['main'].values())[0],\n",
    "         }\n",
    "    df = df.append(d,ignore_index=True)\n",
    "    return df.T\n",
    "\n",
    "get_weather()"
   ]
  },
  {
   "cell_type": "markdown",
   "metadata": {
    "Collapsed": "false"
   },
   "source": [
    "#### Find the book name, price and stock availability as a pandas dataframe."
   ]
  },
  {
   "cell_type": "code",
   "execution_count": 34,
   "metadata": {
    "Collapsed": "false"
   },
   "outputs": [
    {
     "data": {
      "text/html": [
       "<div>\n",
       "<style scoped>\n",
       "    .dataframe tbody tr th:only-of-type {\n",
       "        vertical-align: middle;\n",
       "    }\n",
       "\n",
       "    .dataframe tbody tr th {\n",
       "        vertical-align: top;\n",
       "    }\n",
       "\n",
       "    .dataframe thead th {\n",
       "        text-align: right;\n",
       "    }\n",
       "</style>\n",
       "<table border=\"1\" class=\"dataframe\">\n",
       "  <thead>\n",
       "    <tr style=\"text-align: right;\">\n",
       "      <th></th>\n",
       "      <th>in_stock</th>\n",
       "      <th>price</th>\n",
       "      <th>title</th>\n",
       "    </tr>\n",
       "  </thead>\n",
       "  <tbody>\n",
       "    <tr>\n",
       "      <th>0</th>\n",
       "      <td>In stock</td>\n",
       "      <td>£51.77</td>\n",
       "      <td>A Light in the Attic</td>\n",
       "    </tr>\n",
       "    <tr>\n",
       "      <th>1</th>\n",
       "      <td>In stock</td>\n",
       "      <td>£53.74</td>\n",
       "      <td>Tipping the Velvet</td>\n",
       "    </tr>\n",
       "    <tr>\n",
       "      <th>2</th>\n",
       "      <td>In stock</td>\n",
       "      <td>£50.10</td>\n",
       "      <td>Soumission</td>\n",
       "    </tr>\n",
       "    <tr>\n",
       "      <th>3</th>\n",
       "      <td>In stock</td>\n",
       "      <td>£47.82</td>\n",
       "      <td>Sharp Objects</td>\n",
       "    </tr>\n",
       "    <tr>\n",
       "      <th>4</th>\n",
       "      <td>In stock</td>\n",
       "      <td>£54.23</td>\n",
       "      <td>Sapiens: A Brief History of Humankind</td>\n",
       "    </tr>\n",
       "    <tr>\n",
       "      <th>5</th>\n",
       "      <td>In stock</td>\n",
       "      <td>£22.65</td>\n",
       "      <td>The Requiem Red</td>\n",
       "    </tr>\n",
       "    <tr>\n",
       "      <th>6</th>\n",
       "      <td>In stock</td>\n",
       "      <td>£33.34</td>\n",
       "      <td>The Dirty Little Secrets of Getting Your Dream...</td>\n",
       "    </tr>\n",
       "    <tr>\n",
       "      <th>7</th>\n",
       "      <td>In stock</td>\n",
       "      <td>£17.93</td>\n",
       "      <td>The Coming Woman: A Novel Based on the Life of...</td>\n",
       "    </tr>\n",
       "    <tr>\n",
       "      <th>8</th>\n",
       "      <td>In stock</td>\n",
       "      <td>£22.60</td>\n",
       "      <td>The Boys in the Boat: Nine Americans and Their...</td>\n",
       "    </tr>\n",
       "    <tr>\n",
       "      <th>9</th>\n",
       "      <td>In stock</td>\n",
       "      <td>£52.15</td>\n",
       "      <td>The Black Maria</td>\n",
       "    </tr>\n",
       "    <tr>\n",
       "      <th>10</th>\n",
       "      <td>In stock</td>\n",
       "      <td>£13.99</td>\n",
       "      <td>Starving Hearts (Triangular Trade Trilogy, #1)</td>\n",
       "    </tr>\n",
       "    <tr>\n",
       "      <th>11</th>\n",
       "      <td>In stock</td>\n",
       "      <td>£20.66</td>\n",
       "      <td>Shakespeare's Sonnets</td>\n",
       "    </tr>\n",
       "    <tr>\n",
       "      <th>12</th>\n",
       "      <td>In stock</td>\n",
       "      <td>£17.46</td>\n",
       "      <td>Set Me Free</td>\n",
       "    </tr>\n",
       "    <tr>\n",
       "      <th>13</th>\n",
       "      <td>In stock</td>\n",
       "      <td>£52.29</td>\n",
       "      <td>Scott Pilgrim's Precious Little Life (Scott Pi...</td>\n",
       "    </tr>\n",
       "    <tr>\n",
       "      <th>14</th>\n",
       "      <td>In stock</td>\n",
       "      <td>£35.02</td>\n",
       "      <td>Rip it Up and Start Again</td>\n",
       "    </tr>\n",
       "    <tr>\n",
       "      <th>15</th>\n",
       "      <td>In stock</td>\n",
       "      <td>£57.25</td>\n",
       "      <td>Our Band Could Be Your Life: Scenes from the A...</td>\n",
       "    </tr>\n",
       "    <tr>\n",
       "      <th>16</th>\n",
       "      <td>In stock</td>\n",
       "      <td>£23.88</td>\n",
       "      <td>Olio</td>\n",
       "    </tr>\n",
       "    <tr>\n",
       "      <th>17</th>\n",
       "      <td>In stock</td>\n",
       "      <td>£37.59</td>\n",
       "      <td>Mesaerion: The Best Science Fiction Stories 18...</td>\n",
       "    </tr>\n",
       "    <tr>\n",
       "      <th>18</th>\n",
       "      <td>In stock</td>\n",
       "      <td>£51.33</td>\n",
       "      <td>Libertarianism for Beginners</td>\n",
       "    </tr>\n",
       "    <tr>\n",
       "      <th>19</th>\n",
       "      <td>In stock</td>\n",
       "      <td>£45.17</td>\n",
       "      <td>It's Only the Himalayas</td>\n",
       "    </tr>\n",
       "  </tbody>\n",
       "</table>\n",
       "</div>"
      ],
      "text/plain": [
       "    in_stock   price                                              title\n",
       "0   In stock  £51.77                               A Light in the Attic\n",
       "1   In stock  £53.74                                 Tipping the Velvet\n",
       "2   In stock  £50.10                                         Soumission\n",
       "3   In stock  £47.82                                      Sharp Objects\n",
       "4   In stock  £54.23              Sapiens: A Brief History of Humankind\n",
       "5   In stock  £22.65                                    The Requiem Red\n",
       "6   In stock  £33.34  The Dirty Little Secrets of Getting Your Dream...\n",
       "7   In stock  £17.93  The Coming Woman: A Novel Based on the Life of...\n",
       "8   In stock  £22.60  The Boys in the Boat: Nine Americans and Their...\n",
       "9   In stock  £52.15                                    The Black Maria\n",
       "10  In stock  £13.99     Starving Hearts (Triangular Trade Trilogy, #1)\n",
       "11  In stock  £20.66                              Shakespeare's Sonnets\n",
       "12  In stock  £17.46                                        Set Me Free\n",
       "13  In stock  £52.29  Scott Pilgrim's Precious Little Life (Scott Pi...\n",
       "14  In stock  £35.02                          Rip it Up and Start Again\n",
       "15  In stock  £57.25  Our Band Could Be Your Life: Scenes from the A...\n",
       "16  In stock  £23.88                                               Olio\n",
       "17  In stock  £37.59  Mesaerion: The Best Science Fiction Stories 18...\n",
       "18  In stock  £51.33                       Libertarianism for Beginners\n",
       "19  In stock  £45.17                            It's Only the Himalayas"
      ]
     },
     "execution_count": 34,
     "metadata": {},
     "output_type": "execute_result"
    }
   ],
   "source": [
    "# This is the url you will scrape in this exercise. \n",
    "# It is a fictional bookstore created to be scraped. \n",
    "url = 'http://books.toscrape.com/'\n",
    "books = BeautifulSoup(requests.get(url).text,'html.parser').find('body').find_all('article')\n",
    "\n",
    "df = pd.DataFrame()\n",
    "for book in books:\n",
    "    d = {'title' : book.find('h3').find('a')['title'],\n",
    "        'in_stock' :  book.find_all('p')[2].get_text().replace('\\n','').strip(),\n",
    "        'price' :  book.find_all('p')[1].text.replace('Â','')}\n",
    "    df = df.append(d,ignore_index=True)\n",
    "df"
   ]
  },
  {
   "cell_type": "code",
   "execution_count": 40,
   "metadata": {
    "Collapsed": "false"
   },
   "outputs": [],
   "source": [
    "#paolo: yes, with also the bonus challenges!"
   ]
  }
 ],
 "metadata": {
  "kernelspec": {
   "display_name": "Python 3",
   "language": "python",
   "name": "python3"
  },
  "language_info": {
   "codemirror_mode": {
    "name": "ipython",
    "version": 3
   },
   "file_extension": ".py",
   "mimetype": "text/x-python",
   "name": "python",
   "nbconvert_exporter": "python",
   "pygments_lexer": "ipython3",
   "version": "3.7.6"
  }
 },
 "nbformat": 4,
 "nbformat_minor": 4
}
