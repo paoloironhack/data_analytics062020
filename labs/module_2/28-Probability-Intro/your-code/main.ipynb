{
 "cells": [
  {
   "cell_type": "markdown",
   "metadata": {
    "Collapsed": "false"
   },
   "source": [
    "# Introduction To Probability\n",
    "## Challenge 1\n",
    "\n",
    "A and B are events of a probability space with $(\\omega, \\sigma, P)$ such that $P(A) = 0.3$, $P(B) = 0.6$ and $P(A \\cap B) = 0.1$\n",
    "\n",
    "Which of the following statements are false?\n",
    "* $P(A \\cup B) = 0.6$\n",
    "* $P(A \\cap B^{C}) = 0.2$\n",
    "* $P(A \\cap (B \\cup B^{C})) = 0.4$\n",
    "* $P(A^{C} \\cap B^{C}) = 0.3$\n",
    "* $P((A \\cap B)^{C}) = 0.9$"
   ]
  },
  {
   "cell_type": "code",
   "execution_count": 1,
   "metadata": {
    "Collapsed": "false"
   },
   "outputs": [
    {
     "data": {
      "text/plain": [
       "'\"\\n1. P(A ∪ B) = P(A) + P(B) - P(A ∩ B) = 0.8 -> FALSE\\n2. P(A ∩ B^c) = P(A) - P(A ∩ B) = 0.3 − 0.1 = 0.2 -> TRUE\\n3. P(A ∩ (B ∪ B^c)) = P(A ∩ B) + P(A ∩ B^c)= 0.1 + 0.2 = 0.3 -> FALSE\\n4. P(A^c ∩ B^c) = 1 − P(A ∪ B) = 1 − 0.8 = 0.2 -> FALSE\\n5. P((A ∩ B)^c) = 1 - P(A ∩ B) = 1 - 0.1 = 0.9 -> TRUE\\n\\n'"
      ]
     },
     "execution_count": 1,
     "metadata": {},
     "output_type": "execute_result"
    }
   ],
   "source": [
    "\"\"\"\"\n",
    "1. P(A ∪ B) = P(A) + P(B) - P(A ∩ B) = 0.8 -> FALSE\n",
    "2. P(A ∩ B^c) = P(A) - P(A ∩ B) = 0.3 − 0.1 = 0.2 -> TRUE\n",
    "3. P(A ∩ (B ∪ B^c)) = P(A ∩ B) + P(A ∩ B^c)= 0.1 + 0.2 = 0.3 -> FALSE\n",
    "4. P(A^c ∩ B^c) = 1 − P(A ∪ B) = 1 − 0.8 = 0.2 -> FALSE\n",
    "5. P((A ∩ B)^c) = 1 - P(A ∩ B) = 1 - 0.1 = 0.9 -> TRUE\n",
    "\n",
    "\"\"\"\n",
    "#paolo:great!"
   ]
  },
  {
   "cell_type": "markdown",
   "metadata": {
    "Collapsed": "false"
   },
   "source": [
    "## Challenge 2\n",
    "There is a box with 10 white balls, 12 red balls and 8 black balls. Calculate the probability of:\n",
    "* Taking a white ball out.\n",
    "* Taking a white ball out after taking a black ball out.\n",
    "* Taking a red ball out after taking a black and a red ball out.\n",
    "* Taking a red ball out after taking a black and a red ball out with reposition.\n",
    "\n",
    "**Hint**: Reposition means putting back the ball into the box after taking it out."
   ]
  },
  {
   "cell_type": "code",
   "execution_count": 2,
   "metadata": {
    "Collapsed": "false"
   },
   "outputs": [
    {
     "data": {
      "text/plain": [
       "' \\nΩ = 30 balls\\n1. Taking a white ball out: P = 10/30 = 0.333\\n2. Taking a white ball out after taking a black ball out: P = 8/30 * 10/29 = 0.267 * 0.345 = 0.092\\n3. Taking a red ball out after taking a black and a red ball out: P = 8/30 * 12/29 * 11/28 = 0.267 * 0.414 * 0.393 = 0.043\\n4. Taking a red ball out after taking a black and a red ball out with reposition: P = 8/30 * 12/30 * 12/30 = 0.267 * 0.4 * 0.4 = 0.043\\n\\n'"
      ]
     },
     "execution_count": 2,
     "metadata": {},
     "output_type": "execute_result"
    }
   ],
   "source": [
    "\"\"\" \n",
    "Ω = 30 balls\n",
    "1. Taking a white ball out: P = 10/30 = 0.333\n",
    "2. Taking a white ball out after taking a black ball out: P = 8/30 * 10/29 = 0.267 * 0.345 = 0.092\n",
    "3. Taking a red ball out after taking a black and a red ball out: P = 8/30 * 12/29 * 11/28 = 0.267 * 0.414 * 0.393 = 0.043\n",
    "4. Taking a red ball out after taking a black and a red ball out with reposition: P = 8/30 * 12/30 * 12/30 = 0.267 * 0.4 * 0.4 = 0.043\n",
    "\n",
    "\"\"\"\n",
    "#paolo: great"
   ]
  },
  {
   "cell_type": "markdown",
   "metadata": {
    "Collapsed": "false"
   },
   "source": [
    "## Challenge 3\n",
    "\n",
    "You are planning to go on a picnic today but the morning is cloudy. You hate rain so you don't know whether to go out or stay home! To help you make a decision, you gather the following data about rainy days:\n",
    "\n",
    "* 50% of all rainy days start off cloudy!\n",
    "* Cloudy mornings are common. About 40% of days start cloudy. \n",
    "* This month is usually dry so only 3 of 30 days (10%) tend to be rainy. \n",
    "\n",
    "What is the chance of rain during the day?"
   ]
  },
  {
   "cell_type": "code",
   "execution_count": 3,
   "metadata": {
    "Collapsed": "false"
   },
   "outputs": [
    {
     "data": {
      "text/plain": [
       "\"\\nP(A|B) = What is the probability that it will rain, given that it's cloudy?\\nP(A) = Probability that it will rain = 10%\\nP(B) = Probability that it's cloudy = 40%\\n\\nProbability that it's cloudy given that it rains = 50%\\n\\nP(A|B) = (0,5*0,1)/0,4 = 0,125\\n\\nAnswer: Chance of rain is 12,5%\\n\\n\""
      ]
     },
     "execution_count": 3,
     "metadata": {},
     "output_type": "execute_result"
    }
   ],
   "source": [
    "\"\"\"\n",
    "P(A|B) = What is the probability that it will rain, given that it's cloudy?\n",
    "P(A) = Probability that it will rain = 10%\n",
    "P(B) = Probability that it's cloudy = 40%\n",
    "\n",
    "Probability that it's cloudy given that it rains = 50%\n",
    "\n",
    "P(A|B) = (0,5*0,1)/0,4 = 0,125\n",
    "\n",
    "Answer: Chance of rain is 12,5%\n",
    "\n",
    "\"\"\"\n",
    "#paolo:yes!"
   ]
  },
  {
   "cell_type": "markdown",
   "metadata": {
    "Collapsed": "false"
   },
   "source": [
    "## Challenge 4\n",
    "\n",
    "One thousand people were asked through a telephone survey whether they thought more street lighting is needed at night or not.\n",
    "\n",
    "Out of the 480 men that answered the survey, 324 said yes and 156 said no. On the other hand, out of the 520 women that answered, 351 said yes and 169 said no. \n",
    "\n",
    "We wonder if men and women have a different opinions about the street lighting matter. Is gender relevant or irrelevant to the question?\n",
    "\n",
    "Consider the following events:\n",
    "- The answer is yes, so the person that answered thinks that more street lighting is needed.\n",
    "- The person who answered is a man.\n",
    "\n",
    "We want to know if these events are independent, that is, if the fact of wanting more light depends on whether one is male or female. Are these events independent or not?\n",
    "\n",
    "**Hint**: To clearly compare the answers by gender, it is best to place the data in a table."
   ]
  },
  {
   "cell_type": "code",
   "execution_count": 4,
   "metadata": {
    "Collapsed": "false"
   },
   "outputs": [
    {
     "data": {
      "text/html": [
       "<div>\n",
       "<style scoped>\n",
       "    .dataframe tbody tr th:only-of-type {\n",
       "        vertical-align: middle;\n",
       "    }\n",
       "\n",
       "    .dataframe tbody tr th {\n",
       "        vertical-align: top;\n",
       "    }\n",
       "\n",
       "    .dataframe thead th {\n",
       "        text-align: right;\n",
       "    }\n",
       "</style>\n",
       "<table border=\"1\" class=\"dataframe\">\n",
       "  <thead>\n",
       "    <tr style=\"text-align: right;\">\n",
       "      <th></th>\n",
       "      <th>gender</th>\n",
       "      <th>yes</th>\n",
       "      <th>no</th>\n",
       "      <th>total</th>\n",
       "      <th>% yes</th>\n",
       "      <th>% no</th>\n",
       "    </tr>\n",
       "  </thead>\n",
       "  <tbody>\n",
       "    <tr>\n",
       "      <th>0</th>\n",
       "      <td>men</td>\n",
       "      <td>324</td>\n",
       "      <td>156</td>\n",
       "      <td>480</td>\n",
       "      <td>0.675</td>\n",
       "      <td>0.325</td>\n",
       "    </tr>\n",
       "    <tr>\n",
       "      <th>1</th>\n",
       "      <td>women</td>\n",
       "      <td>351</td>\n",
       "      <td>169</td>\n",
       "      <td>520</td>\n",
       "      <td>0.675</td>\n",
       "      <td>0.325</td>\n",
       "    </tr>\n",
       "  </tbody>\n",
       "</table>\n",
       "</div>"
      ],
      "text/plain": [
       "  gender  yes   no  total  % yes   % no\n",
       "0    men  324  156    480  0.675  0.325\n",
       "1  women  351  169    520  0.675  0.325"
      ]
     },
     "execution_count": 4,
     "metadata": {},
     "output_type": "execute_result"
    }
   ],
   "source": [
    "# your code here\n",
    "import pandas as pd\n",
    "\n",
    "survey_dict = {'gender': ['men', 'women'],'yes': [324, 351],'no': [156, 169],'total': [480, 520], \n",
    "               '% yes':[(324/480),(351/520)], '% no':[(156/480),(169/520)]}\n",
    "\n",
    "survey_df = pd.DataFrame(survey_dict)\n",
    "\n",
    "survey_df"
   ]
  },
  {
   "cell_type": "code",
   "execution_count": 5,
   "metadata": {
    "Collapsed": "false"
   },
   "outputs": [
    {
     "data": {
      "text/plain": [
       "'\\nThese events are independent of gender as the chance that a person answers yes or no is the same for both men and women. \\n\\n'"
      ]
     },
     "execution_count": 5,
     "metadata": {},
     "output_type": "execute_result"
    }
   ],
   "source": [
    "\"\"\"\n",
    "These events are independent of gender as the chance that a person answers yes or no is the same for both men and women. \n",
    "\n",
    "\"\"\"\n",
    "#paolo: yes"
   ]
  },
  {
   "cell_type": "code",
   "execution_count": 1,
   "metadata": {},
   "outputs": [],
   "source": [
    "#paolo check -great work!"
   ]
  }
 ],
 "metadata": {
  "kernelspec": {
   "display_name": "Python 3",
   "language": "python",
   "name": "python3"
  },
  "language_info": {
   "codemirror_mode": {
    "name": "ipython",
    "version": 3
   },
   "file_extension": ".py",
   "mimetype": "text/x-python",
   "name": "python",
   "nbconvert_exporter": "python",
   "pygments_lexer": "ipython3",
   "version": "3.7.6"
  }
 },
 "nbformat": 4,
 "nbformat_minor": 4
}
