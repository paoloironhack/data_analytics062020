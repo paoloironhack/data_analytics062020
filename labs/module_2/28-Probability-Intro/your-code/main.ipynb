{
 "cells": [
  {
   "cell_type": "markdown",
   "metadata": {
    "Collapsed": "false"
   },
   "source": [
    "# Introduction To Probability\n",
    "## Challenge 1\n",
    "\n",
    "A and B are events of a probability space with $(\\omega, \\sigma, P)$ such that $P(A) = 0.3$, $P(B) = 0.6$ and $P(A \\cap B) = 0.1$\n",
    "\n",
    "Which of the following statements are false?\n",
    "* $P(A \\cup B) = 0.6$\n",
    "* $P(A \\cap B^{C}) = 0.2$\n",
    "* $P(A \\cap (B \\cup B^{C})) = 0.4$\n",
    "* $P(A^{C} \\cap B^{C}) = 0.3$\n",
    "* $P((A \\cap B)^{C}) = 0.9$"
   ]
  },
  {
   "cell_type": "markdown",
   "metadata": {
    "Collapsed": "false"
   },
   "source": [
    "𝑃(𝐴∩𝐵)  = intersection, events occur both  \n",
    "𝑃(𝐴∪𝐵)  = union, event A or B occurs  \n",
    "\n",
    "Statements:  \n",
    "1) FALSE because P(A) + P(B) - 𝑃(𝐴 ∩ 𝐵) = 0.3 + 0.6 - 0.1 = 0.8  \n",
    "2) TRUE  because P(A) - P(A ∪ B) = 0.3 - 0.1 = 0.2  \n",
    "3) FALSE because P(A ∩ 1.0) = P(A) = 0.3  \n",
    "4) FALSE because P(A^C ∩ B^C) = P(A ∩ B)^C = 1 - P(A ∪ B) = 1 - 0.8 = 0.2  \n",
    "5) TRUE  because 1 - 0.1 (𝑃(𝐴∩𝐵)) = 0.9  "
   ]
  },
  {
   "cell_type": "markdown",
   "metadata": {
    "Collapsed": "false"
   },
   "source": [
    "## Challenge 2\n",
    "There is a box with 10 white balls, 12 red balls and 8 black balls. Calculate the probability of:\n",
    "* Taking a white ball out.\n",
    "* Taking a white ball out after taking a black ball out.\n",
    "* Taking a red ball out after taking a black and a red ball out.\n",
    "* Taking a red ball out after taking a black and a red ball out with reposition.\n",
    "\n",
    "**Hint**: Reposition means putting back the ball into the box after taking it out."
   ]
  },
  {
   "cell_type": "code",
   "execution_count": 1,
   "metadata": {
    "Collapsed": "false"
   },
   "outputs": [
    {
     "data": {
      "text/plain": [
       "'\\nTaking a white ball out: 10/30 = 0.333 * 100 = 33.3%\\nTaking a white ball after taking a black: 8/30 * 10/29 = 0.267 * 0.345 = 0.092 * 100 = 9.2%\\nTaking a red ball after black ball & red ball: 8/30 * 12/29 * 11/28 = 0.267 * 0.414 * 0.393 = 0.043 * 100 = 4.3%\\nTaking a red ball after black ball & red ball with reposition: 12/30 * 8/30 * 12/30 = 0.4 * 0.4 * 0.267 =\\n0.043 * 100 = 4.3%\\n'"
      ]
     },
     "execution_count": 1,
     "metadata": {},
     "output_type": "execute_result"
    }
   ],
   "source": [
    "\"\"\"\n",
    "Taking a white ball out: 10/30 = 0.333 * 100 = 33.3%\n",
    "Taking a white ball after taking a black: 8/30 * 10/29 = 0.267 * 0.345 = 0.092 * 100 = 9.2%\n",
    "Taking a red ball after black ball & red ball: 8/30 * 12/29 * 11/28 = 0.267 * 0.414 * 0.393 = 0.043 * 100 = 4.3%\n",
    "Taking a red ball after black ball & red ball with reposition: 12/30 * 8/30 * 12/30 = 0.4 * 0.4 * 0.267 =\n",
    "0.043 * 100 = 4.3%\n",
    "\"\"\""
   ]
  },
  {
   "cell_type": "markdown",
   "metadata": {
    "Collapsed": "false"
   },
   "source": [
    "## Challenge 3\n",
    "\n",
    "You are planning to go on a picnic today but the morning is cloudy. You hate rain so you don't know whether to go out or stay home! To help you make a decision, you gather the following data about rainy days:\n",
    "\n",
    "* 50% of all rainy days start off cloudy!\n",
    "* Cloudy mornings are common. About 40% of days start cloudy. \n",
    "* This month is usually dry so only 3 of 30 days (10%) tend to be rainy. \n",
    "\n",
    "What is the chance of rain during the day?"
   ]
  },
  {
   "cell_type": "code",
   "execution_count": 6,
   "metadata": {
    "Collapsed": "false"
   },
   "outputs": [
    {
     "data": {
      "text/plain": [
       "'\\nP(A|B) = Probability that it will rain, given that morning is cloudy = ??\\nP(A)   = Probability that it will rain = 10%\\nP(B)   = Probability that it is cloudy = 40%\\nP(B|A) = Probability that it is cloudy given that it rains = 50%\\n\\nBayes Theorem\\n𝑃 (A∣B) = P(B|A) * P(A)/P(B) = 0.5 * 0.1/0.4 = 0.125\\n\\nAnswer: Chance of rain is 12,5%'"
      ]
     },
     "execution_count": 6,
     "metadata": {},
     "output_type": "execute_result"
    }
   ],
   "source": [
    "\"\"\"\n",
    "P(A|B) = Probability that it will rain, given that morning is cloudy = ??\n",
    "P(A)   = Probability that it will rain = 10%\n",
    "P(B)   = Probability that it is cloudy = 40%\n",
    "P(B|A) = Probability that it is cloudy given that it rains = 50%\n",
    "\n",
    "Bayes Theorem\n",
    "𝑃 (A∣B) = P(B|A) * P(A)/P(B) = 0.5 * 0.1/0.4 = 0.125\n",
    "\n",
    "Answer: Chance of rain is 12,5%\"\"\""
   ]
  },
  {
   "cell_type": "markdown",
   "metadata": {
    "Collapsed": "false"
   },
   "source": [
    "## Challenge 4\n",
    "\n",
    "One thousand people were asked through a telephone survey whether they thought more street lighting is needed at night or not.\n",
    "\n",
    "Out of the 480 men that answered the survey, 324 said yes and 156 said no. On the other hand, out of the 520 women that answered, 351 said yes and 169 said no. \n",
    "\n",
    "We wonder if men and women have a different opinions about the street lighting matter. Is gender relevant or irrelevant to the question?\n",
    "\n",
    "Consider the following events:\n",
    "- The answer is yes, so the person that answered thinks that more street lighting is needed.\n",
    "- The person who answered is a man.\n",
    "\n",
    "We want to know if these events are independent, that is, if the fact of wanting more light depends on whether one is male or female. Are these events independent or not?\n",
    "\n",
    "**Hint**: To clearly compare the answers by gender, it is best to place the data in a table."
   ]
  },
  {
   "cell_type": "code",
   "execution_count": 3,
   "metadata": {
    "Collapsed": "false"
   },
   "outputs": [],
   "source": [
    "# your code here"
   ]
  },
  {
   "cell_type": "code",
   "execution_count": 4,
   "metadata": {
    "Collapsed": "false"
   },
   "outputs": [
    {
     "data": {
      "text/plain": [
       "'\\nNo both men and women answer for 67.5% yes and 32.5% no. So independent\\n'"
      ]
     },
     "execution_count": 4,
     "metadata": {},
     "output_type": "execute_result"
    }
   ],
   "source": [
    "\"\"\"\n",
    "No both men and women answer for 67.5% yes and 32.5% no. So independent\n",
    "\"\"\""
   ]
  },
  {
   "cell_type": "code",
   "execution_count": 5,
   "metadata": {
    "Collapsed": "false"
   },
   "outputs": [],
   "source": [
    "#paolo: check yes-great work"
   ]
  }
 ],
 "metadata": {
  "kernelspec": {
   "display_name": "Python 3",
   "language": "python",
   "name": "python3"
  },
  "language_info": {
   "codemirror_mode": {
    "name": "ipython",
    "version": 3
   },
   "file_extension": ".py",
   "mimetype": "text/x-python",
   "name": "python",
   "nbconvert_exporter": "python",
   "pygments_lexer": "ipython3",
   "version": "3.7.6"
  }
 },
 "nbformat": 4,
 "nbformat_minor": 4
}
