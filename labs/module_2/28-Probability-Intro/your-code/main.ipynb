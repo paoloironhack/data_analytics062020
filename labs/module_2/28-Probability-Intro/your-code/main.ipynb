{
 "cells": [
  {
   "cell_type": "markdown",
   "metadata": {
    "Collapsed": "false"
   },
   "source": [
    "# Introduction To Probability\n",
    "## Challenge 1\n",
    "\n",
    "A and B are events of a probability space with $(\\omega, \\sigma, P)$ such that $P(A) = 0.3$, $P(B) = 0.6$ and $P(A \\cap B) = 0.1$\n",
    "\n",
    "Which of the following statements are false?\n",
    "* $P(A \\cup B) = 0.6$\n",
    "* $P(A \\cap B^{C}) = 0.2$\n",
    "* $P(A \\cap (B \\cup B^{C})) = 0.4$\n",
    "* $P(A^{C} \\cap B^{C}) = 0.3$\n",
    "* $P((A \\cap B)^{C}) = 0.9$"
   ]
  },
  {
   "cell_type": "markdown",
   "metadata": {
    "Collapsed": "false"
   },
   "source": [
    "False are:\n",
    "* $P(A \\cup B) = 0.6$\n",
    "* $P(A \\cap B^{C}) = 0.2$\n",
    "* $P(A \\cap (B \\cup B^{C})) = 0.4$\n",
    "* $P(A^{C} \\cap B^{C}) = 0.3$"
   ]
  },
  {
   "cell_type": "code",
   "execution_count": 50,
   "metadata": {
    "Collapsed": "false"
   },
   "outputs": [
    {
     "name": "stdout",
     "output_type": "stream",
     "text": [
      "If independent 0.18\n",
      "If dependent 0.09\n",
      "P(A) and P(B) are dependent\n"
     ]
    }
   ],
   "source": [
    "\"\"\"First question is: are P(A) and P(B) dependent or independent?\"\"\"\n",
    "pa = 0.3\n",
    "pb = 0.6\n",
    "pab = 0.1\n",
    "\n",
    "indep = pa * pb\n",
    "print('If independent', indep)\n",
    "\n",
    "dep = pa * (pa * pb /pb)\n",
    "print('If dependent', dep)\n",
    "\n",
    "print('P(A) and P(B) are dependent')\n",
    "\n",
    "\"\"\"𝑃(𝐴∩𝐵) = A and B\n",
    "𝑃(𝐴∪𝐵) = A or B\"\"\"\n",
    "\n",
    "PAandB = pa * (pa * pb / pb)\n",
    "PAorB = pa + pb - PAandB"
   ]
  },
  {
   "cell_type": "code",
   "execution_count": 51,
   "metadata": {
    "Collapsed": "false"
   },
   "outputs": [
    {
     "name": "stdout",
     "output_type": "stream",
     "text": [
      "0.8099999999999999\n"
     ]
    },
    {
     "data": {
      "text/plain": [
       "False"
      ]
     },
     "execution_count": 51,
     "metadata": {},
     "output_type": "execute_result"
    }
   ],
   "source": [
    "\"\"\"𝑃(𝐴∪𝐵)=0.6\"\"\"\n",
    "print(PAorB)\n",
    "(PAorB) == 0.6"
   ]
  },
  {
   "cell_type": "code",
   "execution_count": 52,
   "metadata": {
    "Collapsed": "false"
   },
   "outputs": [
    {
     "name": "stdout",
     "output_type": "stream",
     "text": [
      "0.09\n"
     ]
    },
    {
     "data": {
      "text/plain": [
       "False"
      ]
     },
     "execution_count": 52,
     "metadata": {},
     "output_type": "execute_result"
    }
   ],
   "source": [
    "\"\"\"𝑃(𝐴∩𝐵𝐶)=0.2\"\"\"\n",
    "print(pa * (pa * (1-pb) / (1-pb)))\n",
    "(pa * (pa * (1-pb) / (1-pb))) == 0.2"
   ]
  },
  {
   "cell_type": "code",
   "execution_count": 53,
   "metadata": {
    "Collapsed": "false"
   },
   "outputs": [
    {
     "name": "stdout",
     "output_type": "stream",
     "text": [
      "0.09\n"
     ]
    },
    {
     "data": {
      "text/plain": [
       "False"
      ]
     },
     "execution_count": 53,
     "metadata": {},
     "output_type": "execute_result"
    }
   ],
   "source": [
    "\"\"\"𝑃(𝐴∩(𝐵∪𝐵𝐶))=0.4\n",
    "(𝐵∪𝐵𝐶) = B or 1-B, so change 100%\"\"\"\n",
    "print((pa * (pa * 1 / 1)))\n",
    "(pa * (pa * 1 / 1)) == 0.4"
   ]
  },
  {
   "cell_type": "code",
   "execution_count": 54,
   "metadata": {
    "Collapsed": "false"
   },
   "outputs": [
    {
     "name": "stdout",
     "output_type": "stream",
     "text": [
      "0.4899999999999999\n"
     ]
    },
    {
     "data": {
      "text/plain": [
       "False"
      ]
     },
     "execution_count": 54,
     "metadata": {},
     "output_type": "execute_result"
    }
   ],
   "source": [
    "\"\"\"𝑃(𝐴𝐶∩𝐵𝐶)=0.3\"\"\"\n",
    "print((1-pa) * ((1-pa) * (1-pb) / (1-pb)))\n",
    "((1-pa) * ((1-pa) * (1-pb) / (1-pb))) == 0.3"
   ]
  },
  {
   "cell_type": "code",
   "execution_count": 55,
   "metadata": {
    "Collapsed": "false"
   },
   "outputs": [
    {
     "name": "stdout",
     "output_type": "stream",
     "text": [
      "0.91\n"
     ]
    },
    {
     "data": {
      "text/plain": [
       "False"
      ]
     },
     "execution_count": 55,
     "metadata": {},
     "output_type": "execute_result"
    }
   ],
   "source": [
    "\"\"\"𝑃((𝐴∩𝐵)𝐶)=0.9 FALSE due to rounding difference. So considered true.\"\"\"\n",
    "print(1-(PAandB))\n",
    "(1-(PAandB)) == 0.9"
   ]
  },
  {
   "cell_type": "code",
   "execution_count": null,
   "metadata": {
    "Collapsed": "false"
   },
   "outputs": [],
   "source": [
    "#paolo: this first challenge is not correct- have a look \n",
    "# at recap session or solutions. \n",
    "#paolo: one way could be to use Venn diagrams to visualize the different\n",
    "# situations to make it visual and more intuitive. For Example\n",
    "# try to draw  𝐴,B 𝐴∩𝐵, 𝐴∩𝐵C and then determine \n",
    "#  P(𝐴∩𝐵C) using what you know about the given probabilities"
   ]
  },
  {
   "cell_type": "markdown",
   "metadata": {
    "Collapsed": "false"
   },
   "source": [
    "## Challenge 2\n",
    "There is a box with 10 white balls, 12 red balls and 8 black balls. Calculate the probability of:\n",
    "* Taking a white ball out.\n",
    "* Taking a white ball out after taking a black ball out.\n",
    "* Taking a red ball out after taking a black and a red ball out.\n",
    "* Taking a red ball out after taking a black and a red ball out with reposition.\n",
    "\n",
    "**Hint**: Reposition means putting back the ball into the box after taking it out."
   ]
  },
  {
   "cell_type": "code",
   "execution_count": 60,
   "metadata": {
    "Collapsed": "false"
   },
   "outputs": [],
   "source": [
    "\"\"\"\n",
    "your solution here\n",
    "\"\"\"\n",
    "white = 10\n",
    "red = 12\n",
    "black = 8\n",
    "total = white + red + black"
   ]
  },
  {
   "cell_type": "code",
   "execution_count": 61,
   "metadata": {
    "Collapsed": "false"
   },
   "outputs": [
    {
     "name": "stdout",
     "output_type": "stream",
     "text": [
      "0.3333333333333333\n"
     ]
    }
   ],
   "source": [
    "\"\"\"Taking a white ball out\"\"\"\n",
    "print(white/total)"
   ]
  },
  {
   "cell_type": "code",
   "execution_count": 69,
   "metadata": {
    "Collapsed": "false"
   },
   "outputs": [
    {
     "name": "stdout",
     "output_type": "stream",
     "text": [
      "0.09195402298850575\n"
     ]
    }
   ],
   "source": [
    "\"\"\"Taking a white ball out after taking a black ball out\"\"\"\n",
    "print((black/total)*(white/(total-1)))"
   ]
  },
  {
   "cell_type": "code",
   "execution_count": 68,
   "metadata": {
    "Collapsed": "false"
   },
   "outputs": [
    {
     "name": "stdout",
     "output_type": "stream",
     "text": [
      "0.04334975369458128\n"
     ]
    }
   ],
   "source": [
    "\"\"\"Taking a red ball out after taking a black and a red ball out\"\"\"\n",
    "print((black/(total))*(red/(total-1))*((red-1)/(total-2)))"
   ]
  },
  {
   "cell_type": "code",
   "execution_count": 67,
   "metadata": {
    "Collapsed": "false"
   },
   "outputs": [
    {
     "name": "stdout",
     "output_type": "stream",
     "text": [
      "0.04266666666666667\n"
     ]
    }
   ],
   "source": [
    "\"\"\"Taking a red ball out after taking a black and a red ball out with reposition\"\"\"\n",
    "print((red/total)*(black/total)*(red/total))"
   ]
  },
  {
   "cell_type": "code",
   "execution_count": 1,
   "metadata": {},
   "outputs": [],
   "source": [
    "#paolo: yes!"
   ]
  },
  {
   "cell_type": "markdown",
   "metadata": {
    "Collapsed": "false"
   },
   "source": [
    "## Challenge 3\n",
    "\n",
    "You are planning to go on a picnic today but the morning is cloudy. You hate rain so you don't know whether to go out or stay home! To help you make a decision, you gather the following data about rainy days:\n",
    "\n",
    "* 50% of all rainy days start off cloudy!\n",
    "* Cloudy mornings are common. About 40% of days start cloudy. \n",
    "* This month is usually dry so only 3 of 30 days (10%) tend to be rainy. \n",
    "\n",
    "What is the chance of rain during the day?"
   ]
  },
  {
   "cell_type": "code",
   "execution_count": null,
   "metadata": {
    "Collapsed": "false"
   },
   "outputs": [],
   "source": [
    "\"\"\"\n",
    "The probability of event A given that event B had occured, is... = \n",
    "The probability that it will rain, given that the morning is cloudy, is...\n",
    "\n",
    "Bayes'Therem\n",
    "𝑃(A∣B) = 𝑃(𝐴∩𝐵)/ 𝑃(𝐵) = P(A) * P(B|A) / P(B)\"\"\""
   ]
  },
  {
   "cell_type": "code",
   "execution_count": 66,
   "metadata": {
    "Collapsed": "false"
   },
   "outputs": [
    {
     "name": "stdout",
     "output_type": "stream",
     "text": [
      "0.125\n"
     ]
    }
   ],
   "source": [
    "\"\"\"P(A) = it's a rainy day = 0.1\n",
    "P(B) = it's a cloudy morning = 0.4\"\"\"\n",
    "\n",
    "pa = 0.1\n",
    "pb = 0.4\n",
    "Pbgivena = 0.5\n",
    "\n",
    "print(pa * Pbgivena / pb)\n",
    "#paolo: yes, good application of  bayes theorem"
   ]
  },
  {
   "cell_type": "markdown",
   "metadata": {
    "Collapsed": "false"
   },
   "source": [
    "## Challenge 4\n",
    "\n",
    "One thousand people were asked through a telephone survey whether they thought more street lighting is needed at night or not.\n",
    "\n",
    "Out of the 480 men that answered the survey, 324 said yes and 156 said no. On the other hand, out of the 520 women that answered, 351 said yes and 169 said no. \n",
    "\n",
    "We wonder if men and women have a different opinions about the street lighting matter. Is gender relevant or irrelevant to the question?\n",
    "\n",
    "Consider the following events:\n",
    "- The answer is yes, so the person that answered thinks that more street lighting is needed.\n",
    "- The person who answered is a man.\n",
    "\n",
    "We want to know if these events are independent, that is, if the fact of wanting more light depends on whether one is male or female. Are these events independent or not?\n",
    "\n",
    "**Hint**: To clearly compare the answers by gender, it is best to place the data in a table."
   ]
  },
  {
   "cell_type": "code",
   "execution_count": 77,
   "metadata": {
    "Collapsed": "false"
   },
   "outputs": [],
   "source": [
    "\"\"\"\n",
    "your solution here\n",
    "\n",
    "No = no more light needed\n",
    "Yes = more light needed\n",
    "\"\"\"\n",
    "men = 480\n",
    "men_yes = 324\n",
    "men_no = 156\n",
    "\n",
    "women = 520\n",
    "women_yes = 351\n",
    "women_no = 169\n",
    "\n",
    "total = men + women\n",
    "total_yes = men_yes + women_yes\n",
    "total_no = men_no + women_no"
   ]
  },
  {
   "cell_type": "code",
   "execution_count": 80,
   "metadata": {
    "Collapsed": "false"
   },
   "outputs": [
    {
     "name": "stdout",
     "output_type": "stream",
     "text": [
      "0.675\n",
      "0.48\n"
     ]
    }
   ],
   "source": [
    "\"\"\"P(A) = answer is yes, more light needed\n",
    "P(B) = person who answerd is man\"\"\"\n",
    "\n",
    "pa = total_yes / total\n",
    "pb = men / total\n",
    "\n",
    "\"\"\"𝑃(𝐴∩𝐵) = A and B\"\"\""
   ]
  },
  {
   "cell_type": "code",
   "execution_count": 93,
   "metadata": {
    "Collapsed": "false"
   },
   "outputs": [
    {
     "name": "stdout",
     "output_type": "stream",
     "text": [
      "     Yes     No\n",
      "0  0.675  0.325\n",
      "1  0.675  0.325\n",
      "0 = man; 1 = woman\n"
     ]
    }
   ],
   "source": [
    "import pandas as pd\n",
    "\n",
    "df = {'Yes':  [(men_yes/men), (women_yes/women)],\n",
    "        'No': [(men_no/men), (women_no/women)],}\n",
    "\n",
    "df = pd.DataFrame (df, columns = ['Yes','No'])\n",
    "\n",
    "print (df)\n",
    "print('0 = man; 1 = woman')\n",
    "\n",
    "\"\"\"The percentages are the same, so it's NOT dependent on gender.\"\"\"\n",
    "#paolo: yes!"
   ]
  }
 ],
 "metadata": {
  "kernelspec": {
   "display_name": "Python 3",
   "language": "python",
   "name": "python3"
  },
  "language_info": {
   "codemirror_mode": {
    "name": "ipython",
    "version": 3
   },
   "file_extension": ".py",
   "mimetype": "text/x-python",
   "name": "python",
   "nbconvert_exporter": "python",
   "pygments_lexer": "ipython3",
   "version": "3.8.3"
  }
 },
 "nbformat": 4,
 "nbformat_minor": 4
}
