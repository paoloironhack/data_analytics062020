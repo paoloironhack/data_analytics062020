{
 "cells": [
  {
   "cell_type": "markdown",
   "metadata": {
    "Collapsed": "false"
   },
   "source": [
    "# Introduction To Probability\n",
    "## Challenge 1\n",
    "\n",
    "A and B are events of a probability space with $(\\omega, \\sigma, P)$ such that $P(A) = 0.3$, $P(B) = 0.6$ and $P(A \\cap B) = 0.1$\n",
    "\n",
    "Which of the following statements are false?\n",
    "* $P(A \\cup B) = 0.6$\n",
    "* $P(A \\cap B^{C}) = 0.2$\n",
    "* $P(A \\cap (B \\cup B^{C})) = 0.4$\n",
    "* $P(A^{C} \\cap B^{C}) = 0.3$\n",
    "* $P((A \\cap B)^{C}) = 0.9$"
   ]
  },
  {
   "cell_type": "markdown",
   "metadata": {
    "Collapsed": "false"
   },
   "source": [
    "\"\"\"\n",
    "* Answers:\n",
    "* First we check if A and B are dependent or independent\n",
    "* If independent,  P(A∩B) = P(A) * P(B) \n",
    "* For our case  P(A∩B) = 0.3*0.6=0.18 which is not equal to 0.1\n",
    "* so A and B are dependent events\n",
    "\n",
    "*this statement is false 𝑃(𝐴∪𝐵)=0.6  because correct answer is P(A∪B) = P(A) + P(B) - P(A∩B)=0.3+0.6-0.1=0.8\n",
    "\n",
    "*this statement is false $𝑃(𝐴∩𝐵^{C})=0.2$ because correct answer is 0.12\n",
    "\n",
    "*$P(𝐵^{C})=1-P(B)=1-0.6=0.4$ then $P(A \\cap B^{C})=0.3*0.4=0.12$\n",
    "\n",
    "*this statement is false  $P(A \\cap (B \\cup B^{C})) = 0.4$ because correct answer is 0.3 \n",
    "\n",
    "*$P(B \\cup B^{C}) = P(B) + P(B^{C})=0.6+0.4=0.10$\n",
    "* $P(A \\cap (B \\cup B^{C})) = P(A) * P(B \\cup B^{C})=0.3*0.1=0.3$\n",
    "\n",
    "*this statement is false $P(A^{C} \\cap B^{C}) = 0.3$ because correct answer is 0.28\n",
    "\n",
    "*$P(A^{C} )=1-P(A)=1-0.3=0.7$\n",
    "* $P(A^{C} \\cap B^{C})=0.7*0.4=0.28$ \n",
    "\n",
    "\n",
    "*this statement is correct $P((A \\cap B)^{C}) = 0.9$ \n",
    "* $(A \\cap B)^{C}=1-0.1=0.9$\n",
    " \n",
    "\"\"\""
   ]
  },
  {
   "cell_type": "code",
   "execution_count": 3,
   "metadata": {
    "Collapsed": "false"
   },
   "outputs": [],
   "source": [
    "#paolo: a few of above questions are not correct-check solutions \n",
    "# and/or lets talk about it\n",
    "#paolo:2nd statement true- third false, forth false, fifth true\n",
    "#paolo: suggestion is to draw the different situations"
   ]
  },
  {
   "cell_type": "markdown",
   "metadata": {
    "Collapsed": "false"
   },
   "source": [
    "## Challenge 2\n",
    "There is a box with 10 white balls, 12 red balls and 8 black balls. Calculate the probability of:\n",
    "* Taking a white ball out.\n",
    "* Taking a white ball out after taking a black ball out.\n",
    "* Taking a red ball out after taking a black and a red ball out.\n",
    "* Taking a red ball out after taking a black and a red ball out with reposition.\n",
    "\n",
    "**Hint**: Reposition means putting back the ball into the box after taking it out."
   ]
  },
  {
   "cell_type": "markdown",
   "metadata": {
    "Collapsed": "false"
   },
   "source": [
    "\n",
    "* Answers:\n",
    "* total number of balls = 30\n",
    "* Taking a white ball out.P(w)=10/30\n",
    "* P(r)=12/30\n",
    "* P(b)=8/30\n",
    "* Taking a white ball out after taking a black ball out. P(w|b)=8/30*10/29=0.26*0.34=0.0884\n",
    "* Taking a black and red ball out = P(b|r)=12/30*8/29=0.4*0.27=0.108\n",
    "* Taking a red ball out after taking a black and a red ball out. P(r)| P(b|r)=12/28*0.108=0.42*0.108=0.045\n",
    "* Taking a black and red ball out with reposition= P(b|r)=12/30*8/30=0.4*0.266=0.106\n",
    "* Taking a red ball out after taking a black and a red ball out with reposition. P(r)| P(b|r)=12/30*0.106=0.4*0.106=0.042\n"
   ]
  },
  {
   "cell_type": "code",
   "execution_count": null,
   "metadata": {
    "Collapsed": "false"
   },
   "outputs": [],
   "source": [
    "#paolo: a few of the results are not correct- lets talk about it \n",
    "# and/or check solutions\n",
    "#paolo: nice use of markdown"
   ]
  },
  {
   "cell_type": "markdown",
   "metadata": {
    "Collapsed": "false"
   },
   "source": [
    "## Challenge 3\n",
    "\n",
    "You are planning to go on a picnic today but the morning is cloudy. You hate rain so you don't know whether to go out or stay home! To help you make a decision, you gather the following data about rainy days:\n",
    "\n",
    "* 50% of all rainy days start off cloudy!\n",
    "* Cloudy mornings are common. About 40% of days start cloudy. \n",
    "* This month is usually dry so only 3 of 30 days (10%) tend to be rainy. \n",
    "\n",
    "What is the chance of rain during the day?"
   ]
  },
  {
   "cell_type": "markdown",
   "metadata": {
    "Collapsed": "false"
   },
   "source": [
    "\"\"\"\n",
    "* Answer:\n",
    "* P(Cloud|Rain)=probability of cloud given that rain happens = 1/2 rainy days start cloudy=0.5\n",
    "* P(cloud)=2/5 days have cloudy mornings=0.4\n",
    "* P(rain)=3/30 days rainy this month=0.1\n",
    "\n",
    "* P(Rain|Cloud)= probability of rain given that it is cloudy=(P(Rain)*P(Cloud/Rain))/P(Cloud)=(0.1*0.5)/0.4=0.05/0.4=0.125\n",
    "\n",
    "\"\"\"\n",
    "#paolo: yes!"
   ]
  },
  {
   "cell_type": "markdown",
   "metadata": {
    "Collapsed": "false"
   },
   "source": [
    "## Challenge 4\n",
    "\n",
    "One thousand people were asked through a telephone survey whether they thought more street lighting is needed at night or not.\n",
    "\n",
    "Out of the 480 men that answered the survey, 324 said yes and 156 said no. On the other hand, out of the 520 women that answered, 351 said yes and 169 said no. \n",
    "\n",
    "We wonder if men and women have a different opinions about the street lighting matter. Is gender relevant or irrelevant to the question?\n",
    "\n",
    "Consider the following events:\n",
    "- The answer is yes, so the person that answered thinks that more street lighting is needed.\n",
    "- The person who answered is a man.\n",
    "\n",
    "We want to know if these events are independent, that is, if the fact of wanting more light depends on whether one is male or female. Are these events independent or not?\n",
    "\n",
    "**Hint**: To clearly compare the answers by gender, it is best to place the data in a table."
   ]
  },
  {
   "cell_type": "code",
   "execution_count": 2,
   "metadata": {
    "Collapsed": "false"
   },
   "outputs": [
    {
     "data": {
      "text/html": [
       "<div>\n",
       "<style scoped>\n",
       "    .dataframe tbody tr th:only-of-type {\n",
       "        vertical-align: middle;\n",
       "    }\n",
       "\n",
       "    .dataframe tbody tr th {\n",
       "        vertical-align: top;\n",
       "    }\n",
       "\n",
       "    .dataframe thead th {\n",
       "        text-align: right;\n",
       "    }\n",
       "</style>\n",
       "<table border=\"1\" class=\"dataframe\">\n",
       "  <thead>\n",
       "    <tr style=\"text-align: right;\">\n",
       "      <th></th>\n",
       "      <th>Answer</th>\n",
       "      <th>Men</th>\n",
       "      <th>Women</th>\n",
       "      <th>Total</th>\n",
       "    </tr>\n",
       "  </thead>\n",
       "  <tbody>\n",
       "    <tr>\n",
       "      <th>0</th>\n",
       "      <td>Yes</td>\n",
       "      <td>324</td>\n",
       "      <td>351</td>\n",
       "      <td>675</td>\n",
       "    </tr>\n",
       "    <tr>\n",
       "      <th>1</th>\n",
       "      <td>No</td>\n",
       "      <td>156</td>\n",
       "      <td>169</td>\n",
       "      <td>325</td>\n",
       "    </tr>\n",
       "  </tbody>\n",
       "</table>\n",
       "</div>"
      ],
      "text/plain": [
       "  Answer  Men  Women  Total\n",
       "0    Yes  324    351    675\n",
       "1     No  156    169    325"
      ]
     },
     "execution_count": 2,
     "metadata": {},
     "output_type": "execute_result"
    }
   ],
   "source": [
    "# your code here\n",
    "#Bernoulli discrete random variable\n",
    "from pandas import DataFrame\n",
    "\n",
    "import pandas as pd\n",
    "men=[324,156]\n",
    "women=[351,169]\n",
    "column_names = [\"Men\", \"Women\"]\n",
    "df = pd.DataFrame(columns = column_names)\n",
    "df = pd.DataFrame(list(zip(men, women)), \n",
    "               columns =[\"Men\", \"Women\"]) \n",
    "df.insert(0, \"Answer\", ['Yes','No'], True) \n",
    "df['Total']=df['Men']+df['Women']\n",
    "df"
   ]
  },
  {
   "cell_type": "markdown",
   "metadata": {
    "Collapsed": "false"
   },
   "source": [
    "\"\"\"\n",
    "* P(m Yes)=324/1000=0.32\n",
    "* P(m No)=156/1000=0.15\n",
    "* P(w Yes)=351/1000=0.35\n",
    "* P(w No)=169/1000=0.17\n",
    "* P(m and w Yes)=(324+351)/1000=0.67\n",
    "\n",
    "* Events A and B are independent if the equation P(A∩B) = P(A) · P(B) holds true. \n",
    "* P(m Yes) * P (w Yes)=0.32*0.35=0.11\n",
    "* but before we saw that P(m and w Yes)=(324+351)/1000=0.67, the equation does not hold true, therefore the events are dependent\n",
    "\"\"\""
   ]
  },
  {
   "cell_type": "code",
   "execution_count": null,
   "metadata": {
    "Collapsed": "false"
   },
   "outputs": [],
   "source": [
    "#paolo: this result is not correct- you could check if the percentage of women \n",
    "# who say yes is the same as the percentage of men who say yes\n"
   ]
  }
 ],
 "metadata": {
  "kernelspec": {
   "display_name": "Python 3",
   "language": "python",
   "name": "python3"
  },
  "language_info": {
   "codemirror_mode": {
    "name": "ipython",
    "version": 3
   },
   "file_extension": ".py",
   "mimetype": "text/x-python",
   "name": "python",
   "nbconvert_exporter": "python",
   "pygments_lexer": "ipython3",
   "version": "3.7.6"
  }
 },
 "nbformat": 4,
 "nbformat_minor": 4
}
