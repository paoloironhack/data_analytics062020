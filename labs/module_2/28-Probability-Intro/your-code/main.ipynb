{
 "cells": [
  {
   "cell_type": "markdown",
   "metadata": {
    "Collapsed": "false"
   },
   "source": [
    "# Introduction To Probability\n",
    "## Challenge 1\n",
    "\n",
    "A and B are events of a probability space with $(\\omega, \\sigma, P)$ such that $P(A) = 0.3$, $P(B) = 0.6$ and $P(A \\cap B) = 0.1$\n",
    "\n",
    "Which of the following statements are false?\n",
    "* $P(A \\cup B) = 0.6$\n",
    "* $P(A \\cap B^{C}) = 0.2$\n",
    "* $P(A \\cap (B \\cup B^{C})) = 0.4$\n",
    "* $P(A^{C} \\cap B^{C}) = 0.3$\n",
    "* $P((A \\cap B)^{C}) = 0.9$"
   ]
  },
  {
   "cell_type": "code",
   "execution_count": 22,
   "metadata": {
    "Collapsed": "false"
   },
   "outputs": [
    {
     "name": "stdout",
     "output_type": "stream",
     "text": [
      "𝑃(𝐴∪𝐵)=0.6           False\n",
      "𝑃(𝐴∩𝐵𝐶)=0.2          False\n",
      "𝑃(𝐴∩(𝐵∪𝐵𝐶))=0.4      False\n",
      "𝑃(𝐴𝐶∩𝐵𝐶)=0.3          False\n",
      "𝑃((𝐴∩𝐵)𝐶)=0.9         False\n"
     ]
    }
   ],
   "source": [
    "A = 0.3\n",
    "B = 0.6\n",
    "A_int_B = 0.1\n",
    "B_c = 1 - B\n",
    "A_c = 1 - A\n",
    "\n",
    "print(\"𝑃(𝐴∪𝐵)=0.6          \",A+B+A_int_B == 0.6)\n",
    "print(\"𝑃(𝐴∩𝐵𝐶)=0.2         \", A*B_c == 0.2)\n",
    "print(\"𝑃(𝐴∩(𝐵∪𝐵𝐶))=0.4     \",  (A * (B + B_c)) == 0.4)\n",
    "print(\"𝑃(𝐴𝐶∩𝐵𝐶)=0.3         \", A_c * B_c == 0.3)\n",
    "print(\"𝑃((𝐴∩𝐵)𝐶)=0.9        \", 1-(A*B) == 0.9)"
   ]
  },
  {
   "cell_type": "markdown",
   "metadata": {
    "Collapsed": "false"
   },
   "source": [
    "## Challenge 2\n",
    "There is a box with 10 white balls, 12 red balls and 8 black balls. Calculate the probability of:\n",
    "* Taking a white ball out.\n",
    "* Taking a white ball out after taking a black ball out.\n",
    "* Taking a red ball out after taking a black and a red ball out.\n",
    "* Taking a red ball out after taking a black and a red ball out with reposition.\n",
    "\n",
    "**Hint**: Reposition means putting back the ball into the box after taking it out."
   ]
  },
  {
   "cell_type": "code",
   "execution_count": 41,
   "metadata": {
    "Collapsed": "false"
   },
   "outputs": [
    {
     "name": "stdout",
     "output_type": "stream",
     "text": [
      "Probability of taking a white ball out is : 0.3333333333333333\n",
      "Taking a white ball out after taking a black ball out is : 0.09195402298850575\n",
      "Taking a red ball out after taking a black and a red ball out is : 0.04334975369458128 \n",
      "Taking a red ball out after taking a black and a red ball out with reposition is: 0.04266666666666667\n"
     ]
    }
   ],
   "source": [
    "\"\"\"\n",
    "your solution here\n",
    "\"\"\"\n",
    "\n",
    "whites = [\"W\" for i in range(10)]\n",
    "reds = [\"R\" for i in range(12)]\n",
    "blacks = [\"B\" for i in range(8)]\n",
    "lw = len(whites)\n",
    "lr = len(reds)\n",
    "lb = len(blacks)\n",
    "lt = len(whites+reds+blacks)\n",
    "\n",
    "# Taking a white ball out\n",
    "print(f\"Probability of taking a white ball out is : {lw / lt}\")\n",
    "\n",
    "# Taking a white ball out after taking a black ball out.\n",
    "print(f\"Taking a white ball out after taking a black ball out is : {(lw/lt) * (lb/(lt-1))}\")\n",
    "\n",
    "# Taking a red ball out after taking a black and a red ball out.\n",
    "print(f\"Taking a red ball out after taking a black and a red ball out is : {(lr/lt) *(lb/(lt-1)) * ((lr-1)/(lt-2))} \")\n",
    "       \n",
    "# Taking a red ball out after taking a black and a red ball out with reposition.\n",
    "print(f\"Taking a red ball out after taking a black and a red ball out with reposition is: {(lr/lt)*(lb/lt)*(lr/lt)}\")"
   ]
  },
  {
   "cell_type": "markdown",
   "metadata": {
    "Collapsed": "false"
   },
   "source": [
    "## Challenge 3\n",
    "\n",
    "You are planning to go on a picnic today but the morning is cloudy. You hate rain so you don't know whether to go out or stay home! To help you make a decision, you gather the following data about rainy days:\n",
    "\n",
    "* 50% of all rainy days start off cloudy!\n",
    "* Cloudy mornings are common. About 40% of days start cloudy. \n",
    "* This month is usually dry so only 3 of 30 days (10%) tend to be rainy. \n",
    "\n",
    "What is the chance of rain during the day?"
   ]
  },
  {
   "cell_type": "code",
   "execution_count": 4,
   "metadata": {
    "Collapsed": "false"
   },
   "outputs": [
    {
     "name": "stdout",
     "output_type": "stream",
     "text": [
      "Chance of rain during the day is : 12.5\n"
     ]
    }
   ],
   "source": [
    "\"\"\"\n",
    "50% rainy days start cloudy \n",
    "40% days start cloudy\n",
    "10% this month rainy days prob\n",
    "\n",
    "(P(Rainy)*P(Rainy|Cloduy))/P(Cloud)\n",
    "\"\"\"\n",
    "\n",
    "Rainy_StartsCloudy = 0.5\n",
    "Day_Cloudy = 0.4\n",
    "Rain_Day= 0.10\n",
    "\n",
    "chance_rain = (Rain_Day * Rainy_StartsCloudy )/ Day_Cloudy\n",
    "per_rain = chance_rain *100\n",
    "print(f\"Chance of rain during the day is : {per_rain}\")"
   ]
  },
  {
   "cell_type": "markdown",
   "metadata": {
    "Collapsed": "false"
   },
   "source": [
    "## Challenge 4\n",
    "\n",
    "One thousand people were asked through a telephone survey whether they thought more street lighting is needed at night or not.\n",
    "\n",
    "Out of the 480 men that answered the survey, 324 said yes and 156 said no. On the other hand, out of the 520 women that answered, 351 said yes and 169 said no. \n",
    "\n",
    "We wonder if men and women have a different opinions about the street lighting matter. Is gender relevant or irrelevant to the question?\n",
    "\n",
    "Consider the following events:\n",
    "- The answer is yes, so the person that answered thinks that more street lighting is needed.\n",
    "- The person who answered is a man.\n",
    "\n",
    "We want to know if these events are independent, that is, if the fact of wanting more light depends on whether one is male or female. Are these events independent or not?\n",
    "\n",
    "**Hint**: To clearly compare the answers by gender, it is best to place the data in a table."
   ]
  },
  {
   "cell_type": "code",
   "execution_count": null,
   "metadata": {
    "Collapsed": "false"
   },
   "outputs": [],
   "source": [
    "# your code here"
   ]
  },
  {
   "cell_type": "code",
   "execution_count": 45,
   "metadata": {
    "Collapsed": "false"
   },
   "outputs": [
    {
     "name": "stdout",
     "output_type": "stream",
     "text": [
      "Since condition has met, those two events are independent.\n"
     ]
    },
    {
     "data": {
      "text/plain": [
       "True"
      ]
     },
     "execution_count": 45,
     "metadata": {},
     "output_type": "execute_result"
    }
   ],
   "source": [
    "'''\n",
    "                    YES         NO\n",
    "Men:   480          324         156\n",
    "Women: 520          351         169\n",
    "\n",
    "In order them to be independent below condition must met;\n",
    "\n",
    "P(M|W) = P(M)\n",
    "\n",
    "P(M|W) = ((P(M) * P(W)) / P(W)) == P(M) \n",
    "'''\n",
    "\n",
    "men_yes = 324\n",
    "men_no = 156\n",
    "men_total = men_yes + men_no\n",
    "women_yes = 351\n",
    "women_no = 169\n",
    "women_total = women_yes + women_no\n",
    "\n",
    "print(\"Since condition has met, those two events are independent.\")\n",
    "(((men_yes/men_total) * (women_yes/women_total)) / (women_yes/women_total)) == (women_yes/women_total)"
   ]
  },
  {
   "cell_type": "code",
   "execution_count": null,
   "metadata": {},
   "outputs": [],
   "source": []
  }
 ],
 "metadata": {
  "kernelspec": {
   "display_name": "Python 3",
   "language": "python",
   "name": "python3"
  },
  "language_info": {
   "codemirror_mode": {
    "name": "ipython",
    "version": 3
   },
   "file_extension": ".py",
   "mimetype": "text/x-python",
   "name": "python",
   "nbconvert_exporter": "python",
   "pygments_lexer": "ipython3",
   "version": "3.8.3"
  }
 },
 "nbformat": 4,
 "nbformat_minor": 4
}
