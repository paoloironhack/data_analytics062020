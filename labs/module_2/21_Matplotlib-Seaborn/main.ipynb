{
 "cells": [
  {
   "cell_type": "markdown",
   "metadata": {
    "Collapsed": "false"
   },
   "source": [
    "# Lab | Matplotlib & Seaborn"
   ]
  },
  {
   "cell_type": "markdown",
   "metadata": {
    "Collapsed": "false"
   },
   "source": [
    "#### Import all the libraries that are necessary."
   ]
  },
  {
   "cell_type": "code",
   "execution_count": 4,
   "metadata": {
    "Collapsed": "false"
   },
   "outputs": [],
   "source": [
    "import matplotlib.pyplot as plt\n",
    "import pandas as pd\n",
    "import numpy as np"
   ]
  },
  {
   "cell_type": "markdown",
   "metadata": {
    "Collapsed": "false"
   },
   "source": [
    "# Challenge 1"
   ]
  },
  {
   "cell_type": "markdown",
   "metadata": {
    "Collapsed": "false"
   },
   "source": [
    "#### Data"
   ]
  },
  {
   "cell_type": "code",
   "execution_count": 5,
   "metadata": {
    "Collapsed": "false"
   },
   "outputs": [],
   "source": [
    "x = np.arange(0,100)\n",
    "y = x*2\n",
    "z = x**2"
   ]
  },
  {
   "cell_type": "markdown",
   "metadata": {
    "Collapsed": "false"
   },
   "source": [
    "#### Plot (x,y) and (x,z) on the axes.\n",
    "There are 2 ways of doing this. Do in both ways.\n",
    "Hint: Check out the nrows, ncols, and index arguments of subplots.\n",
    "\n",
    "Also, play around with the linewidth and style. Use the ones you're most happy with."
   ]
  },
  {
   "cell_type": "code",
   "execution_count": 12,
   "metadata": {
    "Collapsed": "false"
   },
   "outputs": [
    {
     "data": {
      "image/png": "[encoded data removed]",
      "text/plain": [
       "<Figure size 432x288 with 1 Axes>"
      ]
     },
     "metadata": {},
     "output_type": "display_data"
    }
   ],
   "source": [
    "# OPTION 1\n",
    "# Create a figure of a fixed size\n",
    "plt.figure()\n",
    "\n",
    "# First plot\n",
    "plt.plot(x,y, linewidth=4)\n",
    "\n",
    "# Second plot\n",
    "plt.plot(x,z, linewidth=4)\n",
    "\n",
    "# Show the plot\n",
    "plt.show()"
   ]
  },
  {
   "cell_type": "markdown",
   "metadata": {
    "Collapsed": "false"
   },
   "source": [
    "#### Use plt.subplots(nrows=1, ncols=2) to create the plot below"
   ]
  },
  {
   "cell_type": "code",
   "execution_count": null,
   "metadata": {
    "Collapsed": "false"
   },
   "outputs": [],
   "source": [
    "# OPTION 2\n",
    "\n",
    "# Create a figure of a fixed size and axes\n",
    "\n",
    "\n",
    "# Plots\n",
    "\n",
    "\n",
    "# Show the plot\n"
   ]
  },
  {
   "cell_type": "markdown",
   "metadata": {
    "Collapsed": "false"
   },
   "source": [
    "#### Augmenting your previous code, resize your previous plot.\n",
    "Hint: Add the figsize argument in plt.subplots()"
   ]
  },
  {
   "cell_type": "code",
   "execution_count": null,
   "metadata": {
    "Collapsed": "false"
   },
   "outputs": [],
   "source": [
    "# ENHANCED VERSION to see more matplotlib features\n",
    "\n",
    "# Variables\n",
    "fs = 16 # fontsize\n",
    "fw = 700 # fontweight\n",
    "lw = 3 # lineweight\n",
    "y_rot = 0 # ylabel rotation\n",
    "\n",
    "# Create a figure of a fixed size and axes\n",
    "\n",
    "\n",
    "# First plot adding a title and x and y labels\n",
    "\n",
    "\n",
    "# Second plot adding a title and x and y labels\n",
    "\n",
    "\n",
    "# Show the plot\n"
   ]
  },
  {
   "cell_type": "markdown",
   "metadata": {
    "Collapsed": "false"
   },
   "source": [
    "#### Plot both y=x^2 and y=exp(x) in the same plot using normal and logarithmic scale.\n",
    "Hint: Use set_xscale and set_yscale"
   ]
  },
  {
   "cell_type": "code",
   "execution_count": null,
   "metadata": {
    "Collapsed": "false"
   },
   "outputs": [],
   "source": [
    "# Create a figure of a fixed size and axes\n",
    "\n",
    "\n",
    "# Normal plot\n",
    "\n",
    "\n",
    "# Logarithmic scale\n",
    "\n",
    "\n",
    "# Show plot\n"
   ]
  },
  {
   "cell_type": "code",
   "execution_count": null,
   "metadata": {
    "Collapsed": "false"
   },
   "outputs": [],
   "source": [
    "# ALTERNATIVE WITH LEGEND\n",
    "\n",
    "# Create a figure of a fixed size and axes\n",
    "\n",
    "\n",
    "# Normal plot\n",
    "\n",
    "\n",
    "# Logarithmic scale\n",
    "\n",
    "\n",
    "# Show plot\n"
   ]
  },
  {
   "cell_type": "markdown",
   "metadata": {
    "Collapsed": "false"
   },
   "source": [
    "# Challenge 2"
   ]
  },
  {
   "cell_type": "markdown",
   "metadata": {
    "Collapsed": "false"
   },
   "source": [
    "Import the Fitbit2.csv file and name your dataset fitbit. Download the data from [here](https://drive.google.com/file/d/17TW-w-izKuR7bLoa0Mnyp9YN9zEQNXq-/view?usp=sharing) and place it in the data folder. Access it through a relative path."
   ]
  },
  {
   "cell_type": "code",
   "execution_count": null,
   "metadata": {
    "Collapsed": "false"
   },
   "outputs": [],
   "source": [
    "# Read the data"
   ]
  },
  {
   "cell_type": "markdown",
   "metadata": {
    "Collapsed": "false"
   },
   "source": [
    "#### From the Fitbit data, we want to visually understand:\n",
    "\n",
    "How the average number of steps change by month. Use the appropriate visualization to show the median steps by month.\n",
    "Is Fitbitter more active on weekend or workdays?\n",
    "All plots must be in the same jupyter notebook cell.\n",
    "\n",
    "Hints:\n",
    "\n",
    "- Use Months_encoded and Week_or Weekend columns.\n",
    "- Use matplolib.pyplot object oriented API.\n",
    "- Set your size figure to 12,4\n",
    "- Explore plt.sca\n",
    "- Explore plt.xticks\n",
    "- Save your figures"
   ]
  },
  {
   "cell_type": "code",
   "execution_count": null,
   "metadata": {
    "Collapsed": "false"
   },
   "outputs": [],
   "source": [
    "# MEDIAN STEPS BY MONTH_ENCODED\n",
    "# Find the median steps for each month\n",
    "\n",
    "# Create a figure of a fixed size and axes\n",
    "\n",
    "# Set the current axes instance to ax[0] - Now plt methods will affect ax[0]\n",
    "\n",
    "# Plot the weekday steps in the current axes\n",
    "\n",
    "# Add labels, title, etc\n",
    "\n",
    "\n",
    "# Save the figure\n",
    "\n",
    "\n",
    "# MEDIAN STEPS BY WORK_OR_WEEKEND\n",
    "# Set the current axes instance to ax[1] - Now plt methods will affect ax[1]\n",
    "\n",
    "\n",
    "# Find the median steps for workdays and weekdays\n",
    "\n",
    "\n",
    "# Plot the workday and weekend steps in the current axes\n",
    "\n",
    "\n",
    "# Add labels, title, etc\n",
    "\n",
    "\n",
    "# Save the figure\n"
   ]
  },
  {
   "cell_type": "markdown",
   "metadata": {
    "Collapsed": "false"
   },
   "source": [
    "#### Write a loop to plot 3 scatter plots of the following features:\n",
    "\n",
    "Minutes Lightly Active vs Steps\n",
    "Minutes Very Active vs Steps\n",
    "Minutes Sedentary vs Steps"
   ]
  },
  {
   "cell_type": "code",
   "execution_count": null,
   "metadata": {
    "Collapsed": "false"
   },
   "outputs": [],
   "source": [
    "# ALTERNATIVE 1\n",
    "# Create a df with the columns we are interested in \n",
    "\n",
    "\n",
    "# Create a figure of a fixed size and axes\n",
    "\n",
    "\n",
    "# Iterate to draw each scatter plot\n"
   ]
  },
  {
   "cell_type": "code",
   "execution_count": null,
   "metadata": {
    "Collapsed": "false"
   },
   "outputs": [],
   "source": [
    "# ALTERNATIVE 2\n",
    "# Create a df with the columns we are interested in \n",
    "\n",
    "\n",
    "# Create a figure of a fixed size and axes\n",
    "\n",
    "\n",
    "# Iterate to draw each scatter plot\n"
   ]
  }
 ],
 "metadata": {
  "anaconda-cloud": {},
  "kernelspec": {
   "display_name": "Python 3",
   "language": "python",
   "name": "python3"
  },
  "language_info": {
   "codemirror_mode": {
    "name": "ipython",
    "version": 3
   },
   "file_extension": ".py",
   "mimetype": "text/x-python",
   "name": "python",
   "nbconvert_exporter": "python",
   "pygments_lexer": "ipython3",
   "version": "3.6.8"
  }
 },
 "nbformat": 4,
 "nbformat_minor": 4
}
