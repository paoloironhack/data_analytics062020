{
 "cells": [
  {
   "cell_type": "markdown",
   "metadata": {
    "Collapsed": "false"
   },
   "source": [
    "# Confidence Intervals"
   ]
  },
  {
   "cell_type": "code",
   "execution_count": 1,
   "metadata": {
    "Collapsed": "false"
   },
   "outputs": [],
   "source": [
    "# Libraries\n",
    "import math\n",
    "\n",
    "import numpy as np\n",
    "import pandas as pd\n",
    "import matplotlib.pyplot as plt\n",
    "import seaborn as sns\n",
    "%matplotlib inline\n",
    "\n",
    "import scipy.stats as stats\n",
    "from scipy.stats import norm\n",
    "from scipy.stats import t"
   ]
  },
  {
   "cell_type": "markdown",
   "metadata": {
    "Collapsed": "false"
   },
   "source": [
    "## Challenge 1\n",
    "We want to estimate the average size of the men of a country with a confidence level of 80%. Assuming that the standard deviation of the sizes in the population is 4, get the confidence interval with a sample of men selected randomly, whose heights are:\n",
    "\n",
    "````\n",
    "heights = [167, 167, 168, 168, 168, 169, 171, 172, 173, 175, 175, 175, 177, 182, 195]\n",
    "````\n",
    "\n",
    "**Hint**: function `stats.norm.interval` from `scipy` can help you get through this exercise. "
   ]
  },
  {
   "cell_type": "code",
   "execution_count": 2,
   "metadata": {
    "Collapsed": "false"
   },
   "outputs": [
    {
     "name": "stdout",
     "output_type": "stream",
     "text": [
      "Average size of the men with a confidence level of 80% is between 172.14308590115726 and 174.79024743217607.\n"
     ]
    }
   ],
   "source": [
    "# your code here\n",
    "heights = [167, 167, 168, 168, 168, 169, 171, 172, 173, 175, 175, 175, 177, 182, 195]\n",
    "\n",
    "# Computing variables\n",
    "\n",
    "std_dev = 4\n",
    "confidence_lvl = 0.8\n",
    "sample_mean = np.mean(heights)\n",
    "sample_size = np.size(heights)\n",
    "z = stats.norm.interval(confidence_lvl)[1]\n",
    "margin_of_error = std_dev / np.sqrt(sample_size)\n",
    "\n",
    "conf_int = [sample_mean-(z*margin_of_error),(sample_mean+(z*margin_of_error))]\n",
    "\n",
    "print(f\"Average size of the men with a confidence level of 80% is between {conf_int[0]} and {conf_int[1]}.\")"
   ]
  },
  {
   "cell_type": "markdown",
   "metadata": {
    "Collapsed": "false"
   },
   "source": [
    "## Challenge 2 \n",
    "In a sample of 105 shops selected randomly from an area, we note that 27 of them have had losses in this month. Get an interval for the proportion of businesses in the area with losses to a confidence level of 80% and a confidence level of 90%.\n",
    "\n",
    "**Hint**: function `stats.norm.interval` from `scipy` can help you get through this exercise. "
   ]
  },
  {
   "cell_type": "code",
   "execution_count": 3,
   "metadata": {
    "Collapsed": "false"
   },
   "outputs": [
    {
     "name": "stdout",
     "output_type": "stream",
     "text": [
      "Confidence interval with confidence level of 80% is in between 0.20248138545542083 and 0.3118043288302934.\n",
      "Confidence interval with confidence level of 90% is in between 0.18698561776452813 and 0.3273000965211861.\n"
     ]
    }
   ],
   "source": [
    "# your code here\n",
    "# Computing variables\n",
    "\n",
    "confidence_levels=[0.8,0.9]\n",
    "sample_size = 105\n",
    "losses = 27\n",
    "sample_prop = 27/105\n",
    "upper=[]\n",
    "lower=[]\n",
    "\n",
    "for i in range(0,len(confidence_levels)):\n",
    "    margin_of_error = (np.sqrt(sample_prop*(1-sample_prop)/sample_size))\n",
    "    z = stats.norm.interval(confidence_levels[i])[1]\n",
    "\n",
    "    upper.append(sample_prop + (z*margin_of_error))\n",
    "    lower.append(sample_prop - (z*margin_of_error))\n",
    "\n",
    "print(f\"Confidence interval with confidence level of 80% is in between {lower[0]} and {upper[0]}.\")\n",
    "print(f\"Confidence interval with confidence level of 90% is in between {lower[1]} and {upper[1]}.\")\n"
   ]
  },
  {
   "cell_type": "markdown",
   "metadata": {
    "Collapsed": "false"
   },
   "source": [
    "## Challenge 3 - More practice\n",
    "For the same example in challenge 1, calculate a confidence interval for the variance at 90% level.\n",
    "\n",
    "**Hint**: function `stats.chi2.interval` from `scipy` can help you get through this exercise. "
   ]
  },
  {
   "cell_type": "code",
   "execution_count": 4,
   "metadata": {
    "Collapsed": "false"
   },
   "outputs": [
    {
     "name": "stdout",
     "output_type": "stream",
     "text": [
      "Confidence interval with confidence level of 90% is in between 171.64759338043672 and 175.28573995289662.\n"
     ]
    }
   ],
   "source": [
    "# your code here\n",
    "# Computing variables\n",
    "\n",
    "sample_size = len(heights)\n",
    "sample_std = 4\n",
    "DoF = sample_size-1\n",
    "confidence_level = 0.9\n",
    "sample_mean=np.mean(heights)\n",
    "t_score_1 = stats.t.interval(confidence_level,DoF)[1]\n",
    "\n",
    "standard_error = sample_std/np.sqrt(sample_size)\n",
    "\n",
    "answer = ((sample_mean + (t_score_1*standard_error)),(sample_mean - (t_score_1*standard_error)))\n",
    "print(f\"Confidence interval with confidence level of 90% is in between {answer[1]} and {answer[0]}.\")"
   ]
  },
  {
   "cell_type": "markdown",
   "metadata": {
    "Collapsed": "false"
   },
   "source": [
    "## Challenge 4 - More practice\n",
    "The sulfuric acid content of 7 similar containers is 9.8, 10.2, 10.4, 9.8, 10.0, 10.2 and 9.6 liters. Calculate a 95% confidence interval for the average content of all containers assuming an approximately normal distribution.\n",
    "\n",
    "```\n",
    "acid = [9.8, 10.2, 10.4, 9.8, 10.0, 10.2, 9.6]\n",
    "```\n",
    "\n",
    "**Hint**: function `stats.t.interval` from `scipy` can help you get through this exercise. "
   ]
  },
  {
   "cell_type": "code",
   "execution_count": 5,
   "metadata": {
    "Collapsed": "false",
    "scrolled": true
   },
   "outputs": [
    {
     "name": "stdout",
     "output_type": "stream",
     "text": [
      "Confidence interval with confidence level of 90% is in between 9.757818534642887 and 10.242181465357113.\n"
     ]
    }
   ],
   "source": [
    "# your code here\n",
    "sample = [9.8, 10.2, 10.4, 9.8, 10.0, 10.2, 9.6]\n",
    "sample_size = len(sample)\n",
    "sample_mean = np.mean(sample)\n",
    "sample_std = np.std(sample)\n",
    "confidence_level = 0.95\n",
    "DoF = sample_size - 1\n",
    "t_score_2 = stats.t.interval(confidence_level,DoF)[1]\n",
    "\n",
    "\n",
    "standard_error = sample_std/np.sqrt(sample_size)\n",
    "\n",
    "answer = ((sample_mean + (t_score_2*standard_error)),(sample_mean - (t_score_2*standard_error)))\n",
    "print(f\"Confidence interval with confidence level of 90% is in between {answer[1]} and {answer[0]}.\")"
   ]
  },
  {
   "cell_type": "markdown",
   "metadata": {
    "Collapsed": "false"
   },
   "source": [
    "## Bonus Challenge\n",
    "The error level or sampling error for the first challenge is given by the following expression:\n",
    "$$Error = z_{\\frac{\\alpha}{2}}\\frac{\\sigma}{\\sqrt n}$$\n",
    "Where z represents the value for N(0,1)\n",
    "\n",
    "\n",
    "Suppose that with the previous data of challenge 1, and with a confidence level of\n",
    "99% (that is, almost certainly) we want to estimate the average population size, so that the error level committed is not greater than half a centimeter.\n",
    "\n",
    "#### 1.- Determine what size the selected sample of men should be."
   ]
  },
  {
   "cell_type": "code",
   "execution_count": null,
   "metadata": {},
   "outputs": [],
   "source": [
    "'''\n",
    "Hi Paolo, below ones might be wrong, I will check solutions once shared.\n",
    "'''"
   ]
  },
  {
   "cell_type": "code",
   "execution_count": 24,
   "metadata": {
    "Collapsed": "false"
   },
   "outputs": [
    {
     "name": "stdout",
     "output_type": "stream",
     "text": [
      "With sample size 65 margin of error equals to 0.49613893835683387.\n",
      "Confidence interval for sample size=65, with confidence level of 99% is in between 172.1886974506155 and 174.74463588271783.\n",
      "Q1 = 172.14308590115726 and 174.79024743217607.\n",
      "Q1 = 172.1886974506155 and 174.74463588271783.\n"
     ]
    },
    {
     "data": {
      "text/plain": [
       "\"\\nHi Paolo, I am not sure if my answer is true but I wonder while we are increasing the sample\\nsize in above code, we are always using the same sample mean from the heights list, however doesn't\\nalso mean needs to be changed as we increased the sample size? (Because we are adding heights in theory\\nwithout knowing its exact value..)\\n\\nOr are we predicting whatever sample we add while increasing the sample size, our sample's mean\\nvalue doesn't change with this increasement? That's what I understood.\\n\""
      ]
     },
     "execution_count": 24,
     "metadata": {},
     "output_type": "execute_result"
    }
   ],
   "source": [
    "# your code here\n",
    "heights = [167, 167, 168, 168, 168, 169, 171, 172, 173, 175, 175, 175, 177, 182, 195]\n",
    "\n",
    "'''\n",
    "margin_of_error = std_dev / np.sqrt(sample_size) < 0.5\n",
    "'''\n",
    "\n",
    "\n",
    "std_dev = 4\n",
    "confidence_lvl = 0.99\n",
    "sample_mean = np.mean(heights)             # This is always same??\n",
    "\n",
    "for sample_size in range(15,999):\n",
    "    margin_of_error = std_dev / np.sqrt(sample_size)\n",
    "    if margin_of_error < 0.5:\n",
    "        margin_of_error = std_dev / np.sqrt(sample_size)\n",
    "        print(f\"With sample size {sample_size} margin of error equals to {margin_of_error}.\")\n",
    "        break\n",
    "\n",
    "# checking intervals\n",
    "z = stats.norm.interval(confidence_lvl)[1]\n",
    "conf_int_99 = [sample_mean-(z*margin_of_error),(sample_mean+(z*margin_of_error))]\n",
    "print(f\"Confidence interval for sample size=65, with confidence level of 99% is in between {conf_int_99[0]} and {conf_int_99[1]}.\")\n",
    "\n",
    "'''\n",
    "Comparing with the result of first question;\n",
    "'''\n",
    "print(f\"Q1 = {conf_int[0]} and {conf_int[1]}.\")                    # Conf Lvl: 80% , SampleSize=15\n",
    "print(f\"Q1 = {conf_int_99[0]} and {conf_int_99[1]}.\")              # Conf Lvl: 99%, SampleSize=65\n",
    "'''\n",
    "Since we increased sample size in Q2, naturally there is lower margin of error + CL=99%, so we \n",
    "obtain relatively smaller interval which is better.\n",
    "'''\n",
    "\n",
    "\n",
    "'''\n",
    "Hi Paolo, I am not sure if my answer is true but I wonder while we are increasing the sample\n",
    "size in above code, we are always using the same sample mean from the heights list, however doesn't\n",
    "also mean needs to be changed as we increased the sample size? (Because we are adding heights in theory\n",
    "without knowing its exact value..)\n",
    "\n",
    "Or are we predicting whatever sample we add while increasing the sample size, our sample's mean\n",
    "value doesn't change with this increasement? That's what I understood.\n",
    "'''"
   ]
  },
  {
   "cell_type": "markdown",
   "metadata": {
    "Collapsed": "false"
   },
   "source": [
    "#### 2.- For the second challenge, we have the following error:\n",
    "$$ Error = z_{\\frac{\\alpha}{2}}\\sqrt{\\frac{p\\times q}{n}} $$\n",
    "#### Determine the sample size required to not exceed an error of 1% with a confidence of 80%."
   ]
  },
  {
   "cell_type": "code",
   "execution_count": 21,
   "metadata": {},
   "outputs": [
    {
     "name": "stdout",
     "output_type": "stream",
     "text": [
      "Required sample size for 1% margin of error with confidence of 80% is 506.\n",
      "\n",
      "Confident interval for the proportion with confidence level 80 % is 0.040555262675623996 and 0.0661641049133088.\n",
      "Confidence interval length for this question 0.02560884223768481\n",
      "Confidence interval length for Challenge 2:  0.10932294337487258\n"
     ]
    }
   ],
   "source": [
    "# your code here\n",
    "confidence_level=0.8\n",
    "#sample_size = 105\n",
    "losses = 27\n",
    "\n",
    "for sample_size in range(105,999):\n",
    "    sample_prop = 27/sample_size\n",
    "    margin_of_error = (np.sqrt(sample_prop*(1-sample_prop)/sample_size))\n",
    "    if margin_of_error < 0.01:\n",
    "        margin_of_error = (np.sqrt(sample_prop*(1-sample_prop)/sample_size))\n",
    "        print(f\"Required sample size for 1% margin of error with confidence of 80% is {sample_size}.\")\n",
    "        \n",
    "        # checking intervals\n",
    "        z = stats.norm.interval(confidence_level)[1]\n",
    "        answer = (sample_prop + (z*margin_of_error),(sample_prop - (z*margin_of_error)))\n",
    "        print()\n",
    "        print(f\"Confident interval for the proportion with confidence level 80 % is {answer[1]} and {answer[0]}.\")\n",
    "        break\n",
    "'''\n",
    "This might be wrong since below interval is different interval than the one in Challenge 2, however \n",
    "interval distance is much smaller than challenge two which is expected since sample size is much \n",
    "higher in this example.\n",
    "'''\n",
    "\n",
    "print(f\"Confidence interval length for this question {answer[0]-answer[1]}\")\n",
    "print(\"Confidence interval length for Challenge 2: \",0.3118043288302934 - 0.20248138545542083 )"
   ]
  },
  {
   "cell_type": "markdown",
   "metadata": {
    "Collapsed": "false"
   },
   "source": [
    "## Bonus Challenge\n",
    "\n",
    "Let's consider the following problem:\n",
    "\n",
    "Build a confidence interval of 94% for the real difference between the durations of two brands of spotlights, if a sample of 40 spotlights taken randomly from the first mark gave an average duration of 418 hours, and a sample of 50 bulbs of another brand gave a duration average of 402 hours. The standard deviations of the two\n",
    "populations are 26 hours and 22 hours, respectively.\n",
    "\n",
    "Sometimes, we will be interested in the difference of two different groups of random variables. We can also build a confidence interval for that! We have some different cases regarding the variance but for this specific case (the variance are different and known), we have that:\n",
    "\n",
    "$$\\overline{X} - \\overline{Y}  \\sim N(\\mu_{X} - \\mu_{Y} , \\sqrt{\\frac{\\sigma_{X}^2}{n_X}+\\frac{\\sigma_{Y}^2}{n_Y}})$$\n",
    "\n",
    "Solve the problem with this information."
   ]
  },
  {
   "cell_type": "code",
   "execution_count": 8,
   "metadata": {
    "Collapsed": "false"
   },
   "outputs": [],
   "source": [
    "# your code here"
   ]
  }
 ],
 "metadata": {
  "kernelspec": {
   "display_name": "Python 3",
   "language": "python",
   "name": "python3"
  },
  "language_info": {
   "codemirror_mode": {
    "name": "ipython",
    "version": 3
   },
   "file_extension": ".py",
   "mimetype": "text/x-python",
   "name": "python",
   "nbconvert_exporter": "python",
   "pygments_lexer": "ipython3",
   "version": "3.8.3"
  }
 },
 "nbformat": 4,
 "nbformat_minor": 4
}
