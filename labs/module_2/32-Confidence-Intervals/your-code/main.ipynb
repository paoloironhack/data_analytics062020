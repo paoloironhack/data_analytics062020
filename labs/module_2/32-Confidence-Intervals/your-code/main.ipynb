{
 "cells": [
  {
   "cell_type": "markdown",
   "metadata": {
    "Collapsed": "false"
   },
   "source": [
    "# Confidence Intervals"
   ]
  },
  {
   "cell_type": "code",
   "execution_count": 1,
   "metadata": {
    "Collapsed": "false"
   },
   "outputs": [],
   "source": [
    "# Libraries\n",
    "import math\n",
    "from scipy.stats import norm\n",
    "import matplotlib.pyplot as plt\n",
    "import numpy as np\n",
    "import seaborn as sns\n",
    "from scipy import stats\n",
    "import pandas as pd\n",
    "from scipy.stats import t\n",
    "sns.set_style(\"darkgrid\") \n",
    "\n",
    "%matplotlib inline"
   ]
  },
  {
   "cell_type": "markdown",
   "metadata": {
    "Collapsed": "false"
   },
   "source": [
    "## Challenge 1\n",
    "We want to estimate the average size of the men of a country with a confidence level of 80%. Assuming that the standard deviation of the sizes in the population is 4, get the confidence interval with a sample of men selected randomly, whose heights are:\n",
    "\n",
    "````\n",
    "heights = [167, 167, 168, 168, 168, 169, 171, 172, 173, 175, 175, 175, 177, 182, 195]\n",
    "````\n",
    "\n",
    "**Hint**: function `stats.norm.interval` from `scipy` can help you get through this exercise. "
   ]
  },
  {
   "cell_type": "code",
   "execution_count": 3,
   "metadata": {
    "Collapsed": "false"
   },
   "outputs": [
    {
     "name": "stdout",
     "output_type": "stream",
     "text": [
      "With 80.0% confidence, the true mean lies within the inverval: [172.14308590115726, 174.79024743217607]\n"
     ]
    }
   ],
   "source": [
    "# your code here\n",
    "\n",
    "#stdev\n",
    "stdev_heigts = 4\n",
    "\n",
    "#sample List of heights\n",
    "sample_heights = [167, 167, 168, 168, 168, 169, 171, 172, 173, 175, 175, 175, 177, 182, 195]\n",
    "\n",
    "#sample size\n",
    "sample_size = len(sample_heights)\n",
    "\n",
    "#compute the terms\n",
    "marg_of_error = stdev_heigts / np.sqrt(sample_size)\n",
    "confidence_level = 0.8\n",
    "z = stats.norm.interval(confidence_level)[1]\n",
    "sample_mean = np.mean(sample_heights)\n",
    "\n",
    "#compute confidence interval\n",
    "# Compute the confidence interval\n",
    "con_int = [sample_mean - (z * marg_of_error) , sample_mean + (z * marg_of_error)]\n",
    "print('With ' + str(confidence_level * 100) + '% confidence, the true mean lies within the inverval:', con_int)"
   ]
  },
  {
   "cell_type": "markdown",
   "metadata": {
    "Collapsed": "false"
   },
   "source": [
    "## Challenge 2 \n",
    "In a sample of 105 shops selected randomly from an area, we note that 27 of them have had losses in this month. Get an interval for the proportion of businesses in the area with losses to a confidence level of 80% and a confidence level of 90%.\n",
    "\n",
    "**Hint**: function `stats.norm.interval` from `scipy` can help you get through this exercise. "
   ]
  },
  {
   "cell_type": "code",
   "execution_count": 3,
   "metadata": {
    "Collapsed": "false"
   },
   "outputs": [
    {
     "data": {
      "text/plain": [
       "1.2815515655446004"
      ]
     },
     "execution_count": 3,
     "metadata": {},
     "output_type": "execute_result"
    }
   ],
   "source": [
    "# your code here\n",
    "sample_size = 105\n",
    "sample_losses = 27\n",
    "sample_proportion = 27/105\n",
    "\n",
    "#80% confidence level\n",
    "#find z-score\n",
    "confidence_level = 0.8\n",
    "z = stats.norm.interval(confidence_level)[1]\n",
    "z"
   ]
  },
  {
   "cell_type": "code",
   "execution_count": 4,
   "metadata": {
    "Collapsed": "false"
   },
   "outputs": [
    {
     "data": {
      "text/plain": [
       "0.042652572988124506"
      ]
     },
     "execution_count": 4,
     "metadata": {},
     "output_type": "execute_result"
    }
   ],
   "source": [
    "marg_of_error = np.sqrt((sample_proportion*(1-sample_proportion))/sample_size)\n",
    "marg_of_error"
   ]
  },
  {
   "cell_type": "code",
   "execution_count": 5,
   "metadata": {
    "Collapsed": "false"
   },
   "outputs": [
    {
     "name": "stdout",
     "output_type": "stream",
     "text": [
      "With 80.0% confidence, the true proportion of businesses in the area with losses lies within the inverval: [0.20248138545542083, 0.3118043288302934]\n"
     ]
    }
   ],
   "source": [
    "# Compute the confidence interval\n",
    "con_int = [sample_proportion - (z * marg_of_error) , sample_proportion + (z * marg_of_error)]\n",
    "print('With ' + str(confidence_level * 100) + '% confidence, the true proportion of businesses in the area with losses lies within the inverval:', con_int) "
   ]
  },
  {
   "cell_type": "code",
   "execution_count": 6,
   "metadata": {
    "Collapsed": "false"
   },
   "outputs": [
    {
     "name": "stdout",
     "output_type": "stream",
     "text": [
      "With 90.0% confidence, the true proportion of businesses in the area with losses lies within the inverval: [0.18698561776452813, 0.3273000965211861]\n"
     ]
    }
   ],
   "source": [
    "#90% confidence level\n",
    "#find z-score\n",
    "confidence_level = 0.9\n",
    "z = stats.norm.interval(confidence_level)[1]\n",
    "z\n",
    "\n",
    "# Compute the confidence interval\n",
    "con_int = [sample_proportion - (z * marg_of_error) , sample_proportion + (z * marg_of_error)]\n",
    "print('With ' + str(confidence_level * 100) + '% confidence, the true proportion of businesses in the area with losses lies within the inverval:', con_int) "
   ]
  },
  {
   "cell_type": "markdown",
   "metadata": {
    "Collapsed": "false"
   },
   "source": [
    "## Challenge 3 - More practice\n",
    "For the same example in challenge 1, calculate a confidence interval for the variance at 90% level.\n",
    "\n",
    "**Hint**: function `stats.chi2.interval` from `scipy` can help you get through this exercise. "
   ]
  },
  {
   "cell_type": "code",
   "execution_count": 38,
   "metadata": {
    "Collapsed": "false"
   },
   "outputs": [
    {
     "name": "stdout",
     "output_type": "stream",
     "text": [
      "With 90.0 % confidence, the true variance lies in the inverval: [31.99, 115.32]\n"
     ]
    }
   ],
   "source": [
    "# your code here\n",
    "\"\"\"## Challenge 1\n",
    "We want to estimate the average size of the men of a country with a \n",
    "confidence level of 80%. Assuming that the standard deviation of the sizes \n",
    "in the population is 4, get the confidence interval with a sample of men \n",
    "selected randomly, whose heights are:\n",
    "\n",
    "**Hint**: function `stats.norm.interval` from `scipy` can help you get \n",
    "through this exercise. \"\"\"\n",
    "\n",
    "#Given info\n",
    "heights_sample = [167, 167, 168, 168, 168, 169, 171, 172, 173, 175, 175, 175, 177, 182, 195]\n",
    "n = len(heights_sample)\n",
    "mean = np.mean(heights_sample)\n",
    "confidence_level = 0.9\n",
    "\n",
    "#terms\n",
    "df = n - 1\n",
    "var_sample = abs(np.sum((heights_sample - mean)**2) / (1-len(heights_sample)))\n",
    "chi_right = stats.chi2.interval(confidence_level, df)[0]\n",
    "chi_left = stats.chi2.interval(confidence_level, df)[1]\n",
    "\n",
    "#confidence interval\n",
    "conf_int = [ df * var_sample / chi_left, df * var_sample / chi_right]\n",
    "\n",
    "#rounding decimals\n",
    "conf_int = [round(num, 2) for num in conf_int]\n",
    "print('With', (confidence_level*100),'% confidence, the true variance lies in the inverval:', conf_int)"
   ]
  },
  {
   "cell_type": "markdown",
   "metadata": {
    "Collapsed": "false"
   },
   "source": [
    "## Challenge 4 - More practice\n",
    "The sulfuric acid content of 7 similar containers is 9.8, 10.2, 10.4, 9.8, 10.0, 10.2 and 9.6 liters. Calculate a 95% confidence interval for the average content of all containers assuming an approximately normal distribution.\n",
    "\n",
    "```\n",
    "acid = [9.8, 10.2, 10.4, 9.8, 10.0, 10.2, 9.6]\n",
    "```\n",
    "\n",
    "**Hint**: function `stats.t.interval` from `scipy` can help you get through this exercise. "
   ]
  },
  {
   "cell_type": "code",
   "execution_count": 27,
   "metadata": {
    "Collapsed": "false"
   },
   "outputs": [
    {
     "name": "stdout",
     "output_type": "stream",
     "text": [
      "With 95% confidence, the true mean lies in the inverval: [9.74, 10.26]\n"
     ]
    }
   ],
   "source": [
    "# your code here\n",
    "#sample, list, list to dataframe and \n",
    "acid = [9.8, 10.2, 10.4, 9.8, 10.0, 10.2, 9.6]\n",
    "sample_size = len(acid)\n",
    "dataf_acid = pd.DataFrame(acid, columns =['acid'])\n",
    "dataf_acid = dataf_acid['acid']\n",
    "\n",
    "#mean, degrees of freedom, t-score and standard error\n",
    "acid_mean = sum(dataf_acid) / len(acid)\n",
    "df = sample_size - 1\n",
    "t = stats.t.interval(0.95, df)[1]\n",
    "se = dataf_acid.std() / np.sqrt(len(dataf_acid))\n",
    "\n",
    "#confidence interval (incl rounding decimals)\n",
    "con_int = [acid_mean - (t * se) , acid_mean + (t * se)]\n",
    "con_int = [round(num, 2) for num in con_int]\n",
    "\n",
    "print('With 95% confidence, the true mean lies in the inverval:', con_int)"
   ]
  },
  {
   "cell_type": "code",
   "execution_count": null,
   "metadata": {
    "Collapsed": "false"
   },
   "outputs": [],
   "source": [
    "#paolo check yes!"
   ]
  },
  {
   "cell_type": "markdown",
   "metadata": {
    "Collapsed": "false"
   },
   "source": [
    "## Bonus Challenge\n",
    "The error level or sampling error for the first challenge is given by the following expression:\n",
    "$$Error = z_{\\frac{\\alpha}{2}}\\frac{\\sigma}{\\sqrt n}$$\n",
    "Where z represents the value for N(0,1)\n",
    "\n",
    "\n",
    "Suppose that with the previous data of challenge 1, and with a confidence level of\n",
    "99% (that is, almost certainly) we want to estimate the average population size, so that the error level committed is not greater than half a centimeter.\n",
    "\n",
    "#### 1.- Determine what size the selected sample of men should be."
   ]
  },
  {
   "cell_type": "code",
   "execution_count": 45,
   "metadata": {
    "Collapsed": "false"
   },
   "outputs": [],
   "source": [
    "# your code here"
   ]
  },
  {
   "cell_type": "markdown",
   "metadata": {
    "Collapsed": "false"
   },
   "source": [
    "#### 2.- For the second challenge, we have the following error:\n",
    "$$ Error = z_{\\frac{\\alpha}{2}}\\sqrt{\\frac{p\\times q}{n}} $$\n",
    "#### Determine the sample size required to not exceed an error of 1% with a confidence of 80%."
   ]
  },
  {
   "cell_type": "code",
   "execution_count": 10,
   "metadata": {
    "Collapsed": "false"
   },
   "outputs": [],
   "source": [
    "# your code here"
   ]
  },
  {
   "cell_type": "markdown",
   "metadata": {
    "Collapsed": "false"
   },
   "source": [
    "## Bonus Challenge\n",
    "\n",
    "Let's consider the following problem:\n",
    "\n",
    "Build a confidence interval of 94% for the real difference between the durations of two brands of spotlights, if a sample of 40 spotlights taken randomly from the first mark gave an average duration of 418 hours, and a sample of 50 bulbs of another brand gave a duration average of 402 hours. The standard deviations of the two\n",
    "populations are 26 hours and 22 hours, respectively.\n",
    "\n",
    "Sometimes, we will be interested in the difference of two different groups of random variables. We can also build a confidence interval for that! We have some different cases regarding the variance but for this specific case (the variance are different and known), we have that:\n",
    "\n",
    "$$\\overline{X} - \\overline{Y}  \\sim N(\\mu_{X} - \\mu_{Y} , \\sqrt{\\frac{\\sigma_{X}^2}{n_X}+\\frac{\\sigma_{Y}^2}{n_Y}})$$\n",
    "\n",
    "Solve the problem with this information."
   ]
  },
  {
   "cell_type": "code",
   "execution_count": 11,
   "metadata": {
    "Collapsed": "false"
   },
   "outputs": [],
   "source": [
    "# your code here"
   ]
  }
 ],
 "metadata": {
  "kernelspec": {
   "display_name": "Python 3",
   "language": "python",
   "name": "python3"
  },
  "language_info": {
   "codemirror_mode": {
    "name": "ipython",
    "version": 3
   },
   "file_extension": ".py",
   "mimetype": "text/x-python",
   "name": "python",
   "nbconvert_exporter": "python",
   "pygments_lexer": "ipython3",
   "version": "3.7.6"
  }
 },
 "nbformat": 4,
 "nbformat_minor": 4
}
