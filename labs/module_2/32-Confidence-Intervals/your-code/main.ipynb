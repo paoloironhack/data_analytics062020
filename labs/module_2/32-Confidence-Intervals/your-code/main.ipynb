{
 "cells": [
  {
   "cell_type": "markdown",
   "metadata": {
    "Collapsed": "false"
   },
   "source": [
    "# Confidence Intervals"
   ]
  },
  {
   "cell_type": "code",
   "execution_count": 83,
   "metadata": {
    "Collapsed": "false"
   },
   "outputs": [],
   "source": [
    "# Libraries\n",
    "import math\n",
    "from scipy.stats import norm\n",
    "import matplotlib.pyplot as plt\n",
    "import numpy as np\n",
    "import seaborn as sns\n",
    "from scipy import stats\n",
    "import pandas as pd\n",
    "sns.set_style(\"darkgrid\") \n",
    "import statistics\n",
    "\n",
    "%matplotlib inline"
   ]
  },
  {
   "cell_type": "code",
   "execution_count": 26,
   "metadata": {},
   "outputs": [],
   "source": [
    "from statsmodels.stats.proportion import proportion_confint"
   ]
  },
  {
   "cell_type": "markdown",
   "metadata": {
    "Collapsed": "false"
   },
   "source": [
    "## Challenge 1\n",
    "We want to estimate the average size of the men of a country with a confidence level of 80%. Assuming that the standard deviation of the sizes in the population is 4, get the confidence interval with a sample of men selected randomly, whose heights are:\n",
    "\n",
    "````\n",
    "heights = [167, 167, 168, 168, 168, 169, 171, 172, 173, 175, 175, 175, 177, 182, 195]\n",
    "````\n",
    "\n",
    "**Hint**: function `stats.norm.interval` from `scipy` can help you get through this exercise. "
   ]
  },
  {
   "cell_type": "code",
   "execution_count": 22,
   "metadata": {
    "Collapsed": "false"
   },
   "outputs": [
    {
     "name": "stdout",
     "output_type": "stream",
     "text": [
      "With 80.0% confidence, the true mean lies within the inverval: [0    171.032308\n",
      "dtype: float64, 0    175.901026\n",
      "dtype: float64]\n"
     ]
    }
   ],
   "source": [
    "#your code here\n",
    "heights_list = [167, 167, 168, 168, 168, 169, 171, 172, 173, 175, 175, 175, 177, 182, 195]\n",
    "heights = pd.DataFrame(heights_list)\n",
    "stdev_heights = heights.std()\n",
    "sample_size = len(heights)\n",
    "\n",
    "#calculate margin of error\n",
    "marg_of_error = stdev_heights / np.sqrt(sample_size)\n",
    "confidence_level = 0.80\n",
    "z = stats.norm.interval(confidence_level)[1] \n",
    "sample_mean = np.mean(heights)\n",
    "\n",
    "# Compute the confidence interval\n",
    "con_int = [sample_mean - (z * marg_of_error) , sample_mean + (z * marg_of_error)]\n",
    "print('With ' + str(confidence_level * 100) + '% confidence, the true mean lies within the inverval:', (con_int))"
   ]
  },
  {
   "cell_type": "markdown",
   "metadata": {
    "Collapsed": "false"
   },
   "source": [
    "## Challenge 2 \n",
    "In a sample of 105 shops selected randomly from an area, we note that 27 of them have had losses in this month. Get an interval for the proportion of businesses in the area with losses to a confidence level of 80% and a confidence level of 90%.\n",
    "\n",
    "**Hint**: function `stats.norm.interval` from `scipy` can help you get through this exercise. "
   ]
  },
  {
   "cell_type": "code",
   "execution_count": 75,
   "metadata": {
    "Collapsed": "false"
   },
   "outputs": [
    {
     "name": "stdout",
     "output_type": "stream",
     "text": [
      "With an 80% confidence level the lower CI is: 0.2025 the upper CI is: 0.3118\n",
      "With a 90% confidence level the lower CI is: 0.187 the upper CI is: 0.3273\n",
      "Check done with librabry, with 80% levels are: 0.2025 0.3118\n",
      "Check done with librabry, with 90% level are: 0.187 0.3273\n"
     ]
    }
   ],
   "source": [
    "# your code here\n",
    "n = 105\n",
    "x = 27\n",
    "# p' = x/n\n",
    "p = x/n\n",
    "#q' = 1 - p'\n",
    "q = 1 - p\n",
    "p_times_q = p*q\n",
    "\n",
    "# alpha = 1 - Confidence Interval of 80%\n",
    "alpha_80 = (1-0.80)/2 # = 0.2(a/2) = 0.1\n",
    "alpha_90 = (1-0.90)/2 # = 0.2(a/2) = 0.1\n",
    "\n",
    "# z(alpha)\n",
    "z_80 = stats.norm.interval(0.80)[1]\n",
    "z_90 = stats.norm.interval(0.90)[1]\n",
    "\n",
    "#Manual calculation: EBP = Zα2)(√p′q′/n)\n",
    "B_80 = z_80*(math.sqrt((p*q)/n))\n",
    "B_90 = z_90*(math.sqrt((p*q)/n))\n",
    "print(\"With an 80% confidence level the lower CI is:\", round(p-B_80,4), \"the upper CI is:\", round(p+B_80,4))\n",
    "print(\"With a 90% confidence level the lower CI is:\", round(p-B_90,4), \"the upper CI is:\", round(p+B_90,4))\n",
    "\n",
    "#Use statsmodels.stats.proportion proportion.confinterval to verify:\n",
    "ci_low, ci_upp = proportion_confint(27, 105, alpha=0.2, method='normal')\n",
    "print(\"Check done with librabry, with 80% levels are:\", round(ci_low,4), round(ci_upp,4))\n",
    "\n",
    "ci_low2, ci_upp2 = proportion_confint(27, 105, alpha=0.1, method='normal')\n",
    "print(\"Check done with librabry, with 90% level are:\", round(ci_low2,4), round(ci_upp2,4))"
   ]
  },
  {
   "cell_type": "markdown",
   "metadata": {
    "Collapsed": "false"
   },
   "source": [
    "## Challenge 3 - More practice\n",
    "For the same example in challenge 1, calculate a confidence interval for the variance at 90% level.\n",
    "\n",
    "**Hint**: function `stats.chi2.interval` from `scipy` can help you get through this exercise. "
   ]
  },
  {
   "cell_type": "code",
   "execution_count": 96,
   "metadata": {
    "Collapsed": "false"
   },
   "outputs": [
    {
     "name": "stdout",
     "output_type": "stream",
     "text": [
      "With 90 % confidence, the confidence interval for the variance is between: 0    155.6975\n",
      "dtype: float64 0    295.6057\n",
      "dtype: float64\n"
     ]
    }
   ],
   "source": [
    "# your code here\n",
    "from scipy.stats import chi\n",
    "\n",
    "n = len(heights)\n",
    "s2 = np.var(heights, ddof=1)\n",
    "alpha = 0.1\n",
    "df = n - 1\n",
    "\n",
    "upper = (n-1) * s2 / stats.chi.ppf(alpha / 2, df)\n",
    "lower = (n-1) * s2 / stats.chi.ppf(1 - alpha / 2, df)\n",
    "\n",
    "print('With 90 % confidence, the confidence interval for the variance is between:', round(lower,4), round(upper,4))"
   ]
  },
  {
   "cell_type": "markdown",
   "metadata": {
    "Collapsed": "false"
   },
   "source": [
    "## Challenge 4 - More practice\n",
    "The sulfuric acid content of 7 similar containers is 9.8, 10.2, 10.4, 9.8, 10.0, 10.2 and 9.6 liters. Calculate a 95% confidence interval for the average content of all containers assuming an approximately normal distribution.\n",
    "\n",
    "```\n",
    "acid = [9.8, 10.2, 10.4, 9.8, 10.0, 10.2, 9.6]\n",
    "```\n",
    "\n",
    "**Hint**: function `stats.t.interval` from `scipy` can help you get through this exercise. "
   ]
  },
  {
   "cell_type": "code",
   "execution_count": 88,
   "metadata": {
    "Collapsed": "false"
   },
   "outputs": [
    {
     "name": "stdout",
     "output_type": "stream",
     "text": [
      "With 95 % confidence, the average content lies in the inverval: [9.359248070515873, 10.640751929484127]\n"
     ]
    }
   ],
   "source": [
    "# your code here\n",
    "acid = [9.8, 10.2, 10.4, 9.8, 10.0, 10.2, 9.6]\n",
    "\n",
    "def Average(lst): \n",
    "    return sum(lst) / len(lst) \n",
    "\n",
    "#degrees of freedom\n",
    "df = len(acid) - 1\n",
    "\n",
    "#t-score\n",
    "t = stats.t.interval(0.95, df)[1]\n",
    "\n",
    "#X_bar\n",
    "sample_mean = Average(acid)\n",
    "standard_error = statistics.pstdev(acid)\n",
    "\n",
    "con_int = [sample_mean - (t * standard_error) , sample_mean + (t * standard_error)]\n",
    "print('With 95 % confidence, the average content lies in the inverval:', con_int)"
   ]
  },
  {
   "cell_type": "markdown",
   "metadata": {
    "Collapsed": "false"
   },
   "source": [
    "## Bonus Challenge\n",
    "The error level or sampling error for the first challenge is given by the following expression:\n",
    "$$Error = z_{\\frac{\\alpha}{2}}\\frac{\\sigma}{\\sqrt n}$$\n",
    "Where z represents the value for N(0,1)\n",
    "\n",
    "\n",
    "Suppose that with the previous data of challenge 1, and with a confidence level of\n",
    "99% (that is, almost certainly) we want to estimate the average population size, so that the error level committed is not greater than half a centimeter.\n",
    "\n",
    "#### 1.- Determine what size the selected sample of men should be."
   ]
  },
  {
   "cell_type": "code",
   "execution_count": null,
   "metadata": {
    "Collapsed": "false"
   },
   "outputs": [],
   "source": [
    "# your code here"
   ]
  },
  {
   "cell_type": "markdown",
   "metadata": {
    "Collapsed": "false"
   },
   "source": [
    "#### 2.- For the second challenge, we have the following error:\n",
    "$$ Error = z_{\\frac{\\alpha}{2}}\\sqrt{\\frac{p\\times q}{n}} $$\n",
    "#### Determine the sample size required to not exceed an error of 1% with a confidence of 80%."
   ]
  },
  {
   "cell_type": "code",
   "execution_count": null,
   "metadata": {
    "Collapsed": "false"
   },
   "outputs": [],
   "source": [
    "# your code here"
   ]
  },
  {
   "cell_type": "markdown",
   "metadata": {
    "Collapsed": "false"
   },
   "source": [
    "## Bonus Challenge\n",
    "\n",
    "Let's consider the following problem:\n",
    "\n",
    "Build a confidence interval of 94% for the real difference between the durations of two brands of spotlights, if a sample of 40 spotlights taken randomly from the first mark gave an average duration of 418 hours, and a sample of 50 bulbs of another brand gave a duration average of 402 hours. The standard deviations of the two\n",
    "populations are 26 hours and 22 hours, respectively.\n",
    "\n",
    "Sometimes, we will be interested in the difference of two different groups of random variables. We can also build a confidence interval for that! We have some different cases regarding the variance but for this specific case (the variance are different and known), we have that:\n",
    "\n",
    "$$\\overline{X} - \\overline{Y}  \\sim N(\\mu_{X} - \\mu_{Y} , \\sqrt{\\frac{\\sigma_{X}^2}{n_X}+\\frac{\\sigma_{Y}^2}{n_Y}})$$\n",
    "\n",
    "Solve the problem with this information."
   ]
  },
  {
   "cell_type": "code",
   "execution_count": null,
   "metadata": {
    "Collapsed": "false"
   },
   "outputs": [],
   "source": [
    "# your code here"
   ]
  }
 ],
 "metadata": {
  "kernelspec": {
   "display_name": "Python 3",
   "language": "python",
   "name": "python3"
  },
  "language_info": {
   "codemirror_mode": {
    "name": "ipython",
    "version": 3
   },
   "file_extension": ".py",
   "mimetype": "text/x-python",
   "name": "python",
   "nbconvert_exporter": "python",
   "pygments_lexer": "ipython3",
   "version": "3.7.4"
  }
 },
 "nbformat": 4,
 "nbformat_minor": 4
}
