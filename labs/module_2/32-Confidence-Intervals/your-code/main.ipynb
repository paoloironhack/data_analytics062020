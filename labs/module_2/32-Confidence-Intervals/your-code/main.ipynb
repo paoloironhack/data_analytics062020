{
 "cells": [
  {
   "cell_type": "markdown",
   "metadata": {
    "Collapsed": "false"
   },
   "source": [
    "# Confidence Intervals"
   ]
  },
  {
   "cell_type": "code",
   "execution_count": 1,
   "metadata": {
    "Collapsed": "false"
   },
   "outputs": [],
   "source": [
    "# Libraries\n",
    "import math\n",
    "from scipy.stats import norm\n",
    "import matplotlib.pyplot as plt\n",
    "import numpy as np\n",
    "import seaborn as sns\n",
    "from scipy import stats\n",
    "import pandas as pd\n",
    "sns.set_style(\"darkgrid\") \n",
    "\n",
    "%matplotlib inline"
   ]
  },
  {
   "cell_type": "markdown",
   "metadata": {
    "Collapsed": "false"
   },
   "source": [
    "## Challenge 1\n",
    "We want to estimate the average size of the men of a country with a confidence level of 80%. Assuming that the standard deviation of the sizes in the population is 4, get the confidence interval with a sample of men selected randomly, whose heights are:\n",
    "\n",
    "````\n",
    "heights = [167, 167, 168, 168, 168, 169, 171, 172, 173, 175, 175, 175, 177, 182, 195]\n",
    "````\n",
    "\n",
    "**Hint**: function `stats.norm.interval` from `scipy` can help you get through this exercise. "
   ]
  },
  {
   "cell_type": "code",
   "execution_count": 2,
   "metadata": {
    "Collapsed": "false"
   },
   "outputs": [
    {
     "name": "stdout",
     "output_type": "stream",
     "text": [
      "With 80.0% confidence, the true mean lies within the interval: [172.14308590115726, 174.79024743217607]\n"
     ]
    }
   ],
   "source": [
    "# your code here\n",
    "#confidence interval = sample mean +_ z-score*margin of error\n",
    "#margin_error = standard_deviation/np.sqrt(i)  where i is the sample size  \n",
    " \n",
    "confidence_level = 0.80\n",
    "heights = [167, 167, 168, 168, 168, 169, 171, 172, 173, 175, 175, 175, 177, 182, 195]\n",
    "\n",
    "#Calculate the sample mean\n",
    "sample_mean = np.mean(heights)\n",
    "\n",
    "\n",
    "std_dev = 4\n",
    "\n",
    "#Z-score computation\n",
    "z = stats.norm.interval(confidence_level)[1]\n",
    "\n",
    "\n",
    "margin_error = 4/np.sqrt(15)\n",
    "\n",
    "\n",
    "# Compute the confidence interval\n",
    "conf = [sample_mean - (z * margin_error) , sample_mean + (z * margin_error)]\n",
    "print('With ' + str(confidence_level * 100) + '% confidence, the true mean lies within the interval:', conf)\n",
    "#paolo:yes"
   ]
  },
  {
   "cell_type": "markdown",
   "metadata": {
    "Collapsed": "false"
   },
   "source": [
    "## Challenge 2 \n",
    "In a sample of 105 shops selected randomly from an area, we note that 27 of them have had losses in this month. Get an interval for the proportion of businesses in the area with losses to a confidence level of 80% and a confidence level of 90%.\n",
    "\n",
    "**Hint**: function `stats.norm.interval` from `scipy` can help you get through this exercise. "
   ]
  },
  {
   "cell_type": "code",
   "execution_count": 3,
   "metadata": {
    "Collapsed": "false"
   },
   "outputs": [
    {
     "name": "stdout",
     "output_type": "stream",
     "text": [
      "With 80.0% confidence, the true proportion of businesses with losses lies within the interval: [0.20248138545542083, 0.3118043288302934]\n",
      "With 90.0% confidence, the true proportion of businesses with losses lies within the interval: [0.18698561776452813, 0.3273000965211861]\n"
     ]
    }
   ],
   "source": [
    "# your code here\n",
    "\n",
    "conf_level = 0.80\n",
    "sample_size = 105\n",
    "\n",
    "#standard deviation of population is unknown.\n",
    "#no. of losses = 27\n",
    "sample_prop= 27/105 \n",
    "\n",
    "#compute z-score\n",
    "z = stats.norm.interval(conf_level)[1]\n",
    "\n",
    "#margin of error calculation for a sample proportion is different.\n",
    "marg_error = np.sqrt((sample_prop*(1-sample_prop))/(sample_size))\n",
    "\n",
    "#confidence interval computation\n",
    "conf = [sample_prop - (z * marg_error) , sample_prop + (z * marg_error)]\n",
    "print('With ' + str(conf_level * 100) + '% confidence, the true proportion of businesses with losses lies within the interval:', conf)\n",
    "\n",
    "conf_level = 0.90\n",
    "#compute z-score\n",
    "z = stats.norm.interval(conf_level)[1]\n",
    "\n",
    "marg_error =  np.sqrt((sample_prop*(1-sample_prop))/(sample_size))\n",
    "\n",
    "#confidence interval computation\n",
    "conf = [sample_prop - (z * marg_error) , sample_prop + (z * marg_error)]\n",
    "print('With ' + str(conf_level * 100) + '% confidence, the true proportion of businesses with losses lies within the interval:', conf)\n",
    "\n",
    "#paolo:yes"
   ]
  },
  {
   "cell_type": "markdown",
   "metadata": {
    "Collapsed": "false"
   },
   "source": [
    "## Challenge 3 - More practice\n",
    "For the same example in challenge 1, calculate a confidence interval for the variance at 90% level.\n",
    "\n",
    "**Hint**: function `stats.chi2.interval` from `scipy` can help you get through this exercise. "
   ]
  },
  {
   "cell_type": "code",
   "execution_count": 4,
   "metadata": {
    "Collapsed": "false"
   },
   "outputs": [
    {
     "name": "stdout",
     "output_type": "stream",
     "text": [
      "26.11894804503737\n",
      "13.664413228348872\n",
      "With 90.0% confidence, the true variance of heights of men lies within the interval: [8.576149376833737, 16.392946865459137]\n"
     ]
    }
   ],
   "source": [
    "# your code here\n",
    "\n",
    "sample_size = len(heights)\n",
    "df = sample_size - 1\n",
    "\n",
    "std_dev = 4\n",
    "conf_lvl = 0.9\n",
    "\n",
    "#computing values of upper and lower bound intervals. \n",
    "\n",
    "#finding critical value , alpha \n",
    "alpha = 1 - conf_lvl \n",
    "\n",
    "#calculation of chi2-values \n",
    "#The values falling within the resulting interval denotes the area of ch2 distribution.\n",
    "#For a two-tailed distribution ,\n",
    "\n",
    "lower_bound = alpha/2\n",
    "upper_bound = 1 - (alpha/2)\n",
    "chi2_values1 = stats.chi2.interval(upper_bound,df)[1]\n",
    "chi2_values2 = stats.chi2.interval(lower_bound,df)[1]\n",
    "print(chi2_values1)\n",
    "print(chi2_values2)\n",
    "\n",
    "sample_variance = std_dev**2\n",
    "\n",
    "#confidence interval for variance = ((n-1)*variance_of_the_sample)/(chi2_values) where chi2-values are the values of\n",
    "#the upper and lower bounds of the confidence interval distribution.\n",
    "\n",
    "\n",
    "conf_interval = [(df*sample_variance)/chi2_values1 , (df*sample_variance)/chi2_values2]\n",
    "print('With ' + str(conf_lvl * 100) + '% confidence, the true variance of heights of men lies within the interval:', conf_interval)\n",
    "#paolo: be careful, here the request of conf interv. is for the variance\n",
    "# not the mean"
   ]
  },
  {
   "cell_type": "markdown",
   "metadata": {
    "Collapsed": "false"
   },
   "source": [
    "## Challenge 4 - More practice\n",
    "The sulfuric acid content of 7 similar containers is 9.8, 10.2, 10.4, 9.8, 10.0, 10.2 and 9.6 liters. Calculate a 95% confidence interval for the average content of all containers assuming an approximately normal distribution.\n",
    "\n",
    "```\n",
    "acid = [9.8, 10.2, 10.4, 9.8, 10.0, 10.2, 9.6]\n",
    "```\n",
    "\n",
    "**Hint**: function `stats.t.interval` from `scipy` can help you get through this exercise. "
   ]
  },
  {
   "cell_type": "code",
   "execution_count": 5,
   "metadata": {
    "Collapsed": "false"
   },
   "outputs": [
    {
     "name": "stdout",
     "output_type": "stream",
     "text": [
      "With 95.0% confidence, the average content of all containers lies within the interval: [9.757818534642887, 10.242181465357113]\n"
     ]
    }
   ],
   "source": [
    "# your code here\n",
    "\n",
    "acid = [9.8, 10.2, 10.4, 9.8, 10.0, 10.2, 9.6]\n",
    "conf_lvl = 0.95\n",
    "\n",
    "sample_size = len(acid)\n",
    "df = sample_size - 1\n",
    "\n",
    "sample_mean = np.mean(acid)\n",
    "\n",
    "t_score = stats.t.interval(0.95,df)[1]\n",
    "std_error = np.std(acid)/np.sqrt(sample_size)\n",
    "\n",
    "conf_interval = [sample_mean - (t_score*std_error) , sample_mean + (t_score * std_error)]\n",
    "print('With ' + str(conf_lvl * 100) + '% confidence, the average content of all containers lies within the interval:', conf_interval)\n",
    "#paolo:ok"
   ]
  },
  {
   "cell_type": "markdown",
   "metadata": {
    "Collapsed": "false"
   },
   "source": [
    "## Bonus Challenge\n",
    "The error level or sampling error for the first challenge is given by the following expression:\n",
    "$$Error = z_{\\frac{\\alpha}{2}}\\frac{\\sigma}{\\sqrt n}$$\n",
    "Where z represents the value for N(0,1)\n",
    "\n",
    "\n",
    "Suppose that with the previous data of challenge 1, and with a confidence level of\n",
    "99% (that is, almost certainly) we want to estimate the average population size, so that the error level committed is not greater than half a centimeter.\n",
    "\n",
    "#### 1.- Determine what size the selected sample of men should be."
   ]
  },
  {
   "cell_type": "code",
   "execution_count": 6,
   "metadata": {
    "Collapsed": "false"
   },
   "outputs": [],
   "source": [
    "# your code here"
   ]
  },
  {
   "cell_type": "markdown",
   "metadata": {
    "Collapsed": "false"
   },
   "source": [
    "#### 2.- For the second challenge, we have the following error:\n",
    "$$ Error = z_{\\frac{\\alpha}{2}}\\sqrt{\\frac{p\\times q}{n}} $$\n",
    "#### Determine the sample size required to not exceed an error of 1% with a confidence of 80%."
   ]
  },
  {
   "cell_type": "code",
   "execution_count": 7,
   "metadata": {
    "Collapsed": "false"
   },
   "outputs": [],
   "source": [
    "# your code here"
   ]
  },
  {
   "cell_type": "markdown",
   "metadata": {
    "Collapsed": "false"
   },
   "source": [
    "## Bonus Challenge\n",
    "\n",
    "Let's consider the following problem:\n",
    "\n",
    "Build a confidence interval of 94% for the real difference between the durations of two brands of spotlights, if a sample of 40 spotlights taken randomly from the first mark gave an average duration of 418 hours, and a sample of 50 bulbs of another brand gave a duration average of 402 hours. The standard deviations of the two\n",
    "populations are 26 hours and 22 hours, respectively.\n",
    "\n",
    "Sometimes, we will be interested in the difference of two different groups of random variables. We can also build a confidence interval for that! We have some different cases regarding the variance but for this specific case (the variance are different and known), we have that:\n",
    "\n",
    "$$\\overline{X} - \\overline{Y}  \\sim N(\\mu_{X} - \\mu_{Y} , \\sqrt{\\frac{\\sigma_{X}^2}{n_X}+\\frac{\\sigma_{Y}^2}{n_Y}})$$\n",
    "\n",
    "Solve the problem with this information."
   ]
  },
  {
   "cell_type": "code",
   "execution_count": 8,
   "metadata": {
    "Collapsed": "false"
   },
   "outputs": [],
   "source": [
    "# your code here"
   ]
  }
 ],
 "metadata": {
  "kernelspec": {
   "display_name": "Python 3",
   "language": "python",
   "name": "python3"
  },
  "language_info": {
   "codemirror_mode": {
    "name": "ipython",
    "version": 3
   },
   "file_extension": ".py",
   "mimetype": "text/x-python",
   "name": "python",
   "nbconvert_exporter": "python",
   "pygments_lexer": "ipython3",
   "version": "3.7.6"
  }
 },
 "nbformat": 4,
 "nbformat_minor": 4
}
