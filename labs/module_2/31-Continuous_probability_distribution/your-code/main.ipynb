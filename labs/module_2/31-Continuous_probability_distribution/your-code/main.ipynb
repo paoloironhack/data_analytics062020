{
 "cells": [
  {
   "cell_type": "markdown",
   "metadata": {
    "Collapsed": "false"
   },
   "source": [
    "# Before your start:\n",
    "\n",
    "    Read the README.md file\n",
    "    Comment as much as you can and use the resources (README.md file)\n",
    "    Happy learning!"
   ]
  },
  {
   "cell_type": "markdown",
   "metadata": {
    "Collapsed": "false"
   },
   "source": [
    "In this exercise, we  will generate random numbers from the continuous disributions we learned in the lesson. There are two ways to generate random numbers:\n",
    "\n",
    "1. Using the numpy library \n",
    "1. using the Scipy library \n",
    "\n",
    "Use either or both of the lbraries in this exercise."
   ]
  },
  {
   "cell_type": "markdown",
   "metadata": {
    "Collapsed": "false"
   },
   "source": [
    "## Uniform Distribution\n",
    "\n",
    "To generate uniform random numbers between any two given values using scipy, we can either use the following code or the code that we have\n",
    "discussed in class:"
   ]
  },
  {
   "cell_type": "code",
   "execution_count": 1,
   "metadata": {
    "Collapsed": "false"
   },
   "outputs": [
    {
     "name": "stdout",
     "output_type": "stream",
     "text": [
<<<<<<< HEAD
      "[2.90734107 2.72962618 2.36590004 2.95526853 2.92573767 2.81304511\n",
      " 2.08329889 2.16545222 2.78725496 2.68945408]\n"
=======
      "[2.8178827  2.91532361 2.88262591 2.43331401 2.696689   2.03157497\n",
      " 2.61873316 2.0692237  2.49251045 2.95382813]\n"
>>>>>>> 14f9bfee4107737b6224e74ab6572f99d290d730
     ]
    }
   ],
   "source": [
    "from scipy.stats import uniform\n",
    "x = uniform.rvs(size=10)\n",
    "a = 2\n",
    "b = 3\n",
    "randoms  = a + (b-a)*x\n",
    "print(randoms)"
   ]
  },
  {
   "cell_type": "markdown",
   "metadata": {
    "Collapsed": "false"
   },
   "source": [
    "**Your task:**\n",
    "\n",
    "1. Based on the code above, write a function that generates uniformly distributed random numbers. There are several requirements for your function:\n",
    "    * It should accept 3 parameters: \n",
    "        * `bottom` - the lower boundary of the generated numbers\n",
    "        * `ceiling` - the upper boundary of the generated numbers\n",
    "        * `count` - how many numbers to generate\n",
    "    * It should return an array of uniformly distributed random numbers\n",
    "\n",
    "1. Call your function with 2 sets of params below:\n",
    "    * bottom=10, ceiling=15, count=100\n",
    "    * bottom=10, ceiling=60, count=1,000\n",
    "\n",
    "1. Plot the uniform distributions generated above using histograms, where x axis is the value and y axis is the count. Let the histogram's number of bins be 10.\n",
    "\n"
   ]
  },
  {
   "cell_type": "code",
   "execution_count": 2,
   "metadata": {
    "Collapsed": "false"
   },
   "outputs": [],
   "source": [
    "def generate_random_numbers(bottom, ceiling, count):\n",
    "    x = uniform.rvs(size = count)\n",
    "    randoms = bottom + (ceiling - bottom) * x\n",
    "    return randoms"
   ]
  },
  {
   "cell_type": "code",
   "execution_count": 3,
<<<<<<< HEAD
   "metadata": {},
=======
   "metadata": {
    "Collapsed": "false"
   },
>>>>>>> 14f9bfee4107737b6224e74ab6572f99d290d730
   "outputs": [],
   "source": [
    "distribution1 = generate_random_numbers(10, 15, 100)\n",
    "distribution2 = generate_random_numbers(10, 60, 1000)"
   ]
  },
  {
   "cell_type": "code",
   "execution_count": 4,
<<<<<<< HEAD
   "metadata": {},
=======
   "metadata": {
    "Collapsed": "false"
   },
>>>>>>> 14f9bfee4107737b6224e74ab6572f99d290d730
   "outputs": [
    {
     "name": "stderr",
     "output_type": "stream",
     "text": [
      "C:\\Users\\P. Scalia\\AppData\\Roaming\\Python\\Python37\\site-packages\\seaborn\\distributions.py:2551: FutureWarning: `distplot` is a deprecated function and will be removed in a future version. Please adapt your code to use either `displot` (a figure-level function with similar flexibility) or `histplot` (an axes-level function for histograms).\n",
      "  warnings.warn(msg, FutureWarning)\n"
     ]
    },
    {
     "data": {
<<<<<<< HEAD
      "image/png": "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\n",
=======
      "image/png": "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\n",
>>>>>>> 14f9bfee4107737b6224e74ab6572f99d290d730
      "text/plain": [
       "<Figure size 576x360 with 1 Axes>"
      ]
     },
     "metadata": {
      "needs_background": "light"
     },
     "output_type": "display_data"
    }
   ],
   "source": [
    "import seaborn as sns\n",
    "import matplotlib.pyplot as plt\n",
    "\n",
    "plt.figure(figsize = (8,5))\n",
    "sns.distplot(distribution1, kde=False, color = 'red', bins=10);"
   ]
  },
  {
   "cell_type": "code",
<<<<<<< HEAD
   "execution_count": 5,
   "metadata": {},
=======
   "execution_count": 18,
   "metadata": {
    "Collapsed": "false"
   },
>>>>>>> 14f9bfee4107737b6224e74ab6572f99d290d730
   "outputs": [
    {
     "data": {
      "image/png": "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\n",
      "text/plain": [
       "<Figure size 576x360 with 1 Axes>"
      ]
     },
     "metadata": {
      "needs_background": "light"
     },
     "output_type": "display_data"
    }
   ],
   "source": [
    "plt.figure(figsize = (8,5))\n",
    "sns.distplot(distribution2, kde=False, color = 'red', bins=10);"
   ]
  },
  {
   "cell_type": "markdown",
   "metadata": {
    "Collapsed": "false"
   },
   "source": [
    "How are the two distributions different?"
   ]
  },
  {
   "cell_type": "code",
<<<<<<< HEAD
   "execution_count": 6,
=======
   "execution_count": 5,
>>>>>>> 14f9bfee4107737b6224e74ab6572f99d290d730
   "metadata": {
    "Collapsed": "false"
   },
   "outputs": [],
   "source": [
    "#The second plot is more evenly distributed, because size is 10 times bigger"
   ]
  },
  {
   "cell_type": "markdown",
   "metadata": {
    "Collapsed": "false"
   },
   "source": [
    "## Normal Distribution\n",
    "\n",
    "1. In the same way in the Uniform Distribution challenge, write a function that generates normally distributed random numbers.\n",
    "1. Generate 1,000 normally distributed numbers with the average of 10 and standard deviation of 1\n",
    "1. Generate 1,000 normally distributed numbers with the average of 10 and standard deviation of 50\n",
    "2. Plot the distributions of the data generated.\n",
    "\n",
    "You can check the expected output [here](https://drive.google.com/file/d/1ULdYD411SqkrlR9CqJJ7H8_Rt5T2GjLe/view?usp=sharing)"
   ]
  },
  {
   "cell_type": "code",
   "execution_count": 7,
   "metadata": {
    "Collapsed": "false"
   },
   "outputs": [],
   "source": [
    "import numpy as np\n",
    "\n",
    "#example code: np.random.normal(loc=5,scale=3,size=1000)\n",
    "\n",
    "def generate_random_numbers(mean, stdev, size):\n",
    "    return np.random.normal(loc = mean, scale = stdev, size = size)"
   ]
  },
  {
   "cell_type": "code",
<<<<<<< HEAD
   "execution_count": 8,
   "metadata": {},
=======
   "execution_count": 22,
   "metadata": {
    "Collapsed": "false"
   },
>>>>>>> 14f9bfee4107737b6224e74ab6572f99d290d730
   "outputs": [],
   "source": [
    "normal1 = generate_random_numbers(10, 1, 1000)\n",
    "normal2 = generate_random_numbers(10, 50, 1000)"
   ]
  },
  {
   "cell_type": "code",
<<<<<<< HEAD
   "execution_count": 9,
   "metadata": {},
=======
   "execution_count": 36,
   "metadata": {
    "Collapsed": "false"
   },
>>>>>>> 14f9bfee4107737b6224e74ab6572f99d290d730
   "outputs": [
    {
     "data": {
      "image/png": "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\n",
      "text/plain": [
       "<Figure size 576x360 with 1 Axes>"
      ]
     },
     "metadata": {
      "needs_background": "light"
     },
     "output_type": "display_data"
    }
   ],
   "source": [
    "plt.figure(figsize = (8,5))\n",
    "sns.distplot(normal1, kde=False, color = 'red');"
   ]
  },
  {
   "cell_type": "code",
<<<<<<< HEAD
   "execution_count": 10,
   "metadata": {},
=======
   "execution_count": 37,
   "metadata": {
    "Collapsed": "false"
   },
>>>>>>> 14f9bfee4107737b6224e74ab6572f99d290d730
   "outputs": [
    {
     "data": {
      "image/png": "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\n",
      "text/plain": [
       "<Figure size 576x360 with 1 Axes>"
      ]
     },
     "metadata": {
      "needs_background": "light"
     },
     "output_type": "display_data"
    }
   ],
   "source": [
    "plt.figure(figsize = (8,5))\n",
    "sns.distplot(normal2, kde=False, color = 'red');"
   ]
  },
  {
   "cell_type": "markdown",
   "metadata": {
    "Collapsed": "false"
   },
   "source": [
    "How are the two distributions different?"
   ]
  },
  {
   "cell_type": "code",
   "execution_count": 11,
   "metadata": {
    "Collapsed": "false"
   },
   "outputs": [],
   "source": [
    "#Second one has a wider range because of higher stdev\n",
    "#paolo: yes- I like the color you chose!"
   ]
  },
  {
   "cell_type": "markdown",
   "metadata": {
    "Collapsed": "false"
   },
   "source": [
    "## Normal Distribution of Real Data\n",
    "\n",
    "In this challenge we are going to take a look the real data. We will use vehicles.csv file for this exercise"
   ]
  },
  {
   "cell_type": "markdown",
   "metadata": {
    "Collapsed": "false"
   },
   "source": [
    "First import `vehicles.csv` from [here](https://drive.google.com/file/d/1bNZgaQ-_Z9i3foO-OeB89x7kXJxm8xcC/view?usp=sharing), place it in the data folder and load it.\n"
   ]
  },
  {
   "cell_type": "code",
<<<<<<< HEAD
   "execution_count": 12,
=======
   "execution_count": 6,
>>>>>>> 14f9bfee4107737b6224e74ab6572f99d290d730
   "metadata": {
    "Collapsed": "false"
   },
   "outputs": [
    {
     "data": {
      "text/html": [
       "<div>\n",
       "<style scoped>\n",
       "    .dataframe tbody tr th:only-of-type {\n",
       "        vertical-align: middle;\n",
       "    }\n",
       "\n",
       "    .dataframe tbody tr th {\n",
       "        vertical-align: top;\n",
       "    }\n",
       "\n",
       "    .dataframe thead th {\n",
       "        text-align: right;\n",
       "    }\n",
       "</style>\n",
       "<table border=\"1\" class=\"dataframe\">\n",
       "  <thead>\n",
       "    <tr style=\"text-align: right;\">\n",
       "      <th></th>\n",
       "      <th>Make</th>\n",
       "      <th>Model</th>\n",
       "      <th>Year</th>\n",
       "      <th>Engine Displacement</th>\n",
       "      <th>Cylinders</th>\n",
       "      <th>Transmission</th>\n",
       "      <th>Drivetrain</th>\n",
       "      <th>Vehicle Class</th>\n",
       "      <th>Fuel Type</th>\n",
       "      <th>Fuel Barrels/Year</th>\n",
       "      <th>City MPG</th>\n",
       "      <th>Highway MPG</th>\n",
       "      <th>Combined MPG</th>\n",
       "      <th>CO2 Emission Grams/Mile</th>\n",
       "      <th>Fuel Cost/Year</th>\n",
       "    </tr>\n",
       "  </thead>\n",
       "  <tbody>\n",
       "    <tr>\n",
       "      <th>0</th>\n",
       "      <td>AM General</td>\n",
       "      <td>DJ Po Vehicle 2WD</td>\n",
       "      <td>1984</td>\n",
       "      <td>2.5</td>\n",
       "      <td>4.0</td>\n",
       "      <td>Automatic 3-spd</td>\n",
       "      <td>2-Wheel Drive</td>\n",
       "      <td>Special Purpose Vehicle 2WD</td>\n",
       "      <td>Regular</td>\n",
       "      <td>19.388824</td>\n",
       "      <td>18</td>\n",
       "      <td>17</td>\n",
       "      <td>17</td>\n",
       "      <td>522.764706</td>\n",
       "      <td>1950</td>\n",
       "    </tr>\n",
       "    <tr>\n",
       "      <th>1</th>\n",
       "      <td>AM General</td>\n",
       "      <td>FJ8c Post Office</td>\n",
       "      <td>1984</td>\n",
       "      <td>4.2</td>\n",
       "      <td>6.0</td>\n",
       "      <td>Automatic 3-spd</td>\n",
       "      <td>2-Wheel Drive</td>\n",
       "      <td>Special Purpose Vehicle 2WD</td>\n",
       "      <td>Regular</td>\n",
       "      <td>25.354615</td>\n",
       "      <td>13</td>\n",
       "      <td>13</td>\n",
       "      <td>13</td>\n",
       "      <td>683.615385</td>\n",
       "      <td>2550</td>\n",
       "    </tr>\n",
       "    <tr>\n",
       "      <th>2</th>\n",
       "      <td>AM General</td>\n",
       "      <td>Post Office DJ5 2WD</td>\n",
       "      <td>1985</td>\n",
       "      <td>2.5</td>\n",
       "      <td>4.0</td>\n",
       "      <td>Automatic 3-spd</td>\n",
       "      <td>Rear-Wheel Drive</td>\n",
       "      <td>Special Purpose Vehicle 2WD</td>\n",
       "      <td>Regular</td>\n",
       "      <td>20.600625</td>\n",
       "      <td>16</td>\n",
       "      <td>17</td>\n",
       "      <td>16</td>\n",
       "      <td>555.437500</td>\n",
       "      <td>2100</td>\n",
       "    </tr>\n",
       "    <tr>\n",
       "      <th>3</th>\n",
       "      <td>AM General</td>\n",
       "      <td>Post Office DJ8 2WD</td>\n",
       "      <td>1985</td>\n",
       "      <td>4.2</td>\n",
       "      <td>6.0</td>\n",
       "      <td>Automatic 3-spd</td>\n",
       "      <td>Rear-Wheel Drive</td>\n",
       "      <td>Special Purpose Vehicle 2WD</td>\n",
       "      <td>Regular</td>\n",
       "      <td>25.354615</td>\n",
       "      <td>13</td>\n",
       "      <td>13</td>\n",
       "      <td>13</td>\n",
       "      <td>683.615385</td>\n",
       "      <td>2550</td>\n",
       "    </tr>\n",
       "    <tr>\n",
       "      <th>4</th>\n",
       "      <td>ASC Incorporated</td>\n",
       "      <td>GNX</td>\n",
       "      <td>1987</td>\n",
       "      <td>3.8</td>\n",
       "      <td>6.0</td>\n",
       "      <td>Automatic 4-spd</td>\n",
       "      <td>Rear-Wheel Drive</td>\n",
       "      <td>Midsize Cars</td>\n",
       "      <td>Premium</td>\n",
       "      <td>20.600625</td>\n",
       "      <td>14</td>\n",
       "      <td>21</td>\n",
       "      <td>16</td>\n",
       "      <td>555.437500</td>\n",
       "      <td>2550</td>\n",
       "    </tr>\n",
       "  </tbody>\n",
       "</table>\n",
       "</div>"
      ],
      "text/plain": [
       "               Make                Model  Year  Engine Displacement  \\\n",
       "0        AM General    DJ Po Vehicle 2WD  1984                  2.5   \n",
       "1        AM General     FJ8c Post Office  1984                  4.2   \n",
       "2        AM General  Post Office DJ5 2WD  1985                  2.5   \n",
       "3        AM General  Post Office DJ8 2WD  1985                  4.2   \n",
       "4  ASC Incorporated                  GNX  1987                  3.8   \n",
       "\n",
       "   Cylinders     Transmission        Drivetrain                Vehicle Class  \\\n",
       "0        4.0  Automatic 3-spd     2-Wheel Drive  Special Purpose Vehicle 2WD   \n",
       "1        6.0  Automatic 3-spd     2-Wheel Drive  Special Purpose Vehicle 2WD   \n",
       "2        4.0  Automatic 3-spd  Rear-Wheel Drive  Special Purpose Vehicle 2WD   \n",
       "3        6.0  Automatic 3-spd  Rear-Wheel Drive  Special Purpose Vehicle 2WD   \n",
       "4        6.0  Automatic 4-spd  Rear-Wheel Drive                 Midsize Cars   \n",
       "\n",
       "  Fuel Type  Fuel Barrels/Year  City MPG  Highway MPG  Combined MPG  \\\n",
       "0   Regular          19.388824        18           17            17   \n",
       "1   Regular          25.354615        13           13            13   \n",
       "2   Regular          20.600625        16           17            16   \n",
       "3   Regular          25.354615        13           13            13   \n",
       "4   Premium          20.600625        14           21            16   \n",
       "\n",
       "   CO2 Emission Grams/Mile  Fuel Cost/Year  \n",
       "0               522.764706            1950  \n",
       "1               683.615385            2550  \n",
       "2               555.437500            2100  \n",
       "3               683.615385            2550  \n",
       "4               555.437500            2550  "
      ]
     },
<<<<<<< HEAD
     "execution_count": 12,
=======
     "execution_count": 6,
>>>>>>> 14f9bfee4107737b6224e74ab6572f99d290d730
     "metadata": {},
     "output_type": "execute_result"
    }
   ],
   "source": [
    "import pandas as pd\n",
    "vehicles = pd.read_csv('data/vehicles.csv')\n",
    "vehicles.head()"
   ]
  },
  {
   "cell_type": "markdown",
   "metadata": {
    "Collapsed": "false"
   },
   "source": [
    "Then plot the histograms for the following variables:\n",
    "1. Fuel Barrels/Year"
   ]
  },
  {
   "cell_type": "code",
   "execution_count": 13,
   "metadata": {
    "Collapsed": "false"
   },
   "outputs": [
    {
     "data": {
      "image/png": "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\n",
      "text/plain": [
       "<Figure size 576x360 with 1 Axes>"
      ]
     },
     "metadata": {
      "needs_background": "light"
     },
     "output_type": "display_data"
    }
   ],
   "source": [
    "plt.figure(figsize = (8,5))\n",
    "#vehicles['Fuel Barrels/Year'].hist();\n",
    "sns.distplot(vehicles['Fuel Barrels/Year'], kde = False);"
   ]
  },
  {
   "cell_type": "markdown",
   "metadata": {
    "Collapsed": "false"
   },
   "source": [
    "2. CO2 Emission Grams/Mile "
   ]
  },
  {
   "cell_type": "code",
   "execution_count": 14,
   "metadata": {
    "Collapsed": "false"
   },
   "outputs": [
    {
     "data": {
      "image/png": "iVBORw0KGgoAAAANSUhEUgAAAe0AAAE9CAYAAAAmijrUAAAAOXRFWHRTb2Z0d2FyZQBNYXRwbG90bGliIHZlcnNpb24zLjMuMSwgaHR0cHM6Ly9tYXRwbG90bGliLm9yZy/d3fzzAAAACXBIWXMAAAsTAAALEwEAmpwYAAAcCElEQVR4nO3df5Rf9V3n8eerCdDWagHJshhAaI26tLYBI0Gt2hYLAV1T91SldEvaxROrsNuq6wr+qm1lj+2qdXFberCkpFqK2J/ZGqWR4tZaSQmVBgJFpkAhOfxIDcVWFAt97x/3M/AlzmRmksmEz8zzcc73fO/93M+938+98515fe/9fuZ+UlVIkqSnvqcd6AZIkqTpMbQlSeqEoS1JUicMbUmSOmFoS5LUCUNbkqROLD7QDdiTI444oo477rgD3QxJkubMDTfc8KWqWjLRsqd0aB933HFs2bLlQDdDkqQ5k+SLky3z8rgkSZ0wtCVJ6oShLUlSJwxtSZI6YWhLktQJQ1uSpE4Y2pIkdcLQliSpE4a2JEmdMLQlSeqEoS1JUiee0vcelyZyxea797j87JXHzlFLJGlueaYtSVInDG1JkjphaEuS1AlDW5KkThjakiR1wtCWJKkThrYkSZ0wtCVJ6oShLUlSJwxtSZI6YWhLktQJQ1uSpE4Y2pIkdcLQliSpE1OGdpKnJ/lMks8l2ZbkTa388iR3JrmxPZa38iS5OMlYkq1JThrZ1pokt7fHmv22V5IkzUPTGU/7EeClVfXVJAcBn0ry523ZL1XVB3arfwawrD1WApcAK5McDrwRWAEUcEOSDVX14GzsiCRJ892UZ9o1+GqbPag9ag+rrAbe29a7Djg0yVHA6cCmqtrVgnoTsGrfmi9J0sIxre+0kyxKciPwAEPwbm6LLmqXwN+e5JBWthS4Z2T17a1ssnJJkjQN07k8TlU9BixPcijw4STPBy4E7gMOBi4Ffhl48742KMlaYC3Ascceu6+bk/aLKzbfvcflZ6/0vStp9s2o93hVfRm4FlhVVfe2S+CPAO8BTm7VdgDHjKx2dCubrHz317i0qlZU1YolS5bMpHmSJM1r0+k9vqSdYZPkGcDLgM+376lJEuDlwM1tlQ3AOa0X+SnAQ1V1L3A1cFqSw5IcBpzWyiRJ0jRM5/L4UcD6JIsYQv6qqvpYkk8kWQIEuBF4Xau/ETgTGAMeBl4LUFW7krwFuL7Ve3NV7Zq1PZEkaZ6bMrSraitw4gTlL52kfgHnTbJsHbBuhm2UJEl4RzRJkrphaEuS1AlDW5KkThjakiR1wtCWJKkThrYkSZ0wtCVJ6oShLUlSJwxtSZI6YWhLktQJQ1uSpE5MazxtqSdTjXUNjnctqU+eaUuS1AnPtKUJTOdsXZLmmmfakiR1wtCWJKkThrYkSZ0wtCVJ6oShLUlSJ+w9rgXJ3uGSeuSZtiRJnTC0JUnqhKEtSVInDG1JkjphaEuS1AlDW5KkTkwZ2kmenuQzST6XZFuSN7Xy45NsTjKW5E+SHNzKD2nzY235cSPburCV35bk9P22V5IkzUPTOdN+BHhpVb0QWA6sSnIK8Fbg7VX1bcCDwLmt/rnAg6387a0eSU4AzgKeB6wC3plk0SzuiyRJ89qUoV2Dr7bZg9qjgJcCH2jl64GXt+nVbZ62/NQkaeVXVtUjVXUnMAacPBs7IUnSQjCt77STLEpyI/AAsAn4AvDlqnq0VdkOLG3TS4F7ANryh4BvHi2fYJ3R11qbZEuSLTt37pzxDkmSNF9NK7Sr6rGqWg4czXB2/J37q0FVdWlVraiqFUuWLNlfLyNJUndm1Hu8qr4MXAt8L3BokvF7lx8N7GjTO4BjANryZwP/MFo+wTqSJGkK0+k9viTJoW36GcDLgFsZwvsVrdoa4KNtekObpy3/RFVVKz+r9S4/HlgGfGaW9kOSpHlvOqN8HQWsbz29nwZcVVUfS3ILcGWS3wL+Dris1b8M+KMkY8Auhh7jVNW2JFcBtwCPAudV1WOzuzuSJM1fU4Z2VW0FTpyg/A4m6P1dVf8C/MQk27oIuGjmzZQkSd4RTZKkThjakiR1wtCWJKkThrYkSZ0wtCVJ6oShLUlSJwxtSZI6YWhLktQJQ1uSpE4Y2pIkdcLQliSpE4a2JEmdMLQlSeqEoS1JUicMbUmSOmFoS5LUCUNbkqROGNqSJHXC0JYkqROGtiRJnTC0JUnqhKEtSVInDG1JkjphaEuS1AlDW5KkTkwZ2kmOSXJtkluSbEvy+lb+m0l2JLmxPc4cWefCJGNJbkty+kj5qlY2luSC/bNLkiTNT4unUedR4Ber6rNJvhG4IcmmtuztVfU7o5WTnACcBTwP+BbgL5N8e1v8DuBlwHbg+iQbquqW2dgRSZLmuylDu6ruBe5t019JciuwdA+rrAaurKpHgDuTjAEnt2VjVXUHQJIrW11DW5KkaZjRd9pJjgNOBDa3ovOTbE2yLslhrWwpcM/Iattb2WTlkiRpGqYd2kmeBXwQeENV/SNwCfBcYDnDmfjvzkaDkqxNsiXJlp07d87GJiVJmhemFdpJDmII7PdV1YcAqur+qnqsqr4O/CFPXALfARwzsvrRrWyy8iepqkurakVVrViyZMlM90eSpHlrOr3HA1wG3FpVvzdSftRItR8Hbm7TG4CzkhyS5HhgGfAZ4HpgWZLjkxzM0Fltw+zshiRJ8990eo9/P/Bq4KYkN7ayXwFemWQ5UMBdwM8AVNW2JFcxdDB7FDivqh4DSHI+cDWwCFhXVdtmbU8kSZrnptN7/FNAJli0cQ/rXARcNEH5xj2tJ0mSJucd0SRJ6oShLUlSJwxtSZI6YWhLktQJQ1uSpE4Y2pIkdcLQliSpE4a2JEmdMLQlSeqEoS1JUiemc+9xSTN0xea797j87JXHPqW3L+mpyTNtSZI6YWhLktQJQ1uSpE74nbbmnN/HTm2qYyRpYfJMW5KkThjakiR1wtCWJKkThrYkSZ0wtCVJ6oShLUlSJwxtSZI6YWhLktQJQ1uSpE4Y2pIkdWLK0E5yTJJrk9ySZFuS17fyw5NsSnJ7ez6slSfJxUnGkmxNctLItta0+rcnWbP/dkuSpPlnOmfajwK/WFUnAKcA5yU5AbgAuKaqlgHXtHmAM4Bl7bEWuASGkAfeCKwETgbeOB70kiRpalOGdlXdW1WfbdNfAW4FlgKrgfWt2nrg5W16NfDeGlwHHJrkKOB0YFNV7aqqB4FNwKrZ3BlJkuazGX2nneQ44ERgM3BkVd3bFt0HHNmmlwL3jKy2vZVNVi5JkqZh2qGd5FnAB4E3VNU/ji6rqgJqNhqUZG2SLUm27Ny5czY2KUnSvDCt0E5yEENgv6+qPtSK72+XvWnPD7TyHcAxI6sf3comK3+Sqrq0qlZU1YolS5bMZF8kSZrXptN7PMBlwK1V9XsjizYA4z3A1wAfHSk/p/UiPwV4qF1Gvxo4LclhrQPaaa1MkiRNw+Jp1Pl+4NXATUlubGW/Avw2cFWSc4EvAj/Zlm0EzgTGgIeB1wJU1a4kbwGub/XeXFW7ZmMnJElaCKYM7ar6FJBJFp86Qf0CzptkW+uAdTNpoKT944rNd+9x+dkrj52jlkiaLu+IJklSJwxtSZI6YWhLktQJQ1uSpE4Y2pIkdcLQliSpE4a2JEmdMLQlSeqEoS1JUiemcxtTaU5NdacuSVqoPNOWJKkThrYkSZ0wtCVJ6oShLUlSJwxtSZI6YWhLktQJQ1uSpE4Y2pIkdcLQliSpE4a2JEmdMLQlSeqEoS1JUicMbUmSOmFoS5LUCUNbkqROTBnaSdYleSDJzSNlv5lkR5Ib2+PMkWUXJhlLcluS00fKV7WysSQXzP6uSJI0v03nTPtyYNUE5W+vquXtsREgyQnAWcDz2jrvTLIoySLgHcAZwAnAK1tdSZI0TYunqlBVn0xy3DS3txq4sqoeAe5MMgac3JaNVdUdAEmubHVvmXmTJUlamPblO+3zk2xtl88Pa2VLgXtG6mxvZZOVS5Kkadrb0L4EeC6wHLgX+N3ZalCStUm2JNmyc+fO2dqsJEnd26vQrqr7q+qxqvo68Ic8cQl8B3DMSNWjW9lk5RNt+9KqWlFVK5YsWbI3zZMkaV7aq9BOctTI7I8D4z3LNwBnJTkkyfHAMuAzwPXAsiTHJzmYobPahr1vtiRJC8+UHdGSvB94MXBEku3AG4EXJ1kOFHAX8DMAVbUtyVUMHcweBc6rqsfads4HrgYWAeuqatts74wkSfPZdHqPv3KC4sv2UP8i4KIJyjcCG2fUOkmS9DjviCZJUicMbUmSOmFoS5LUCUNbkqROGNqSJHViyt7j0kxdsfnuA90ESZqXPNOWJKkThrYkSZ0wtCVJ6oShLUlSJwxtSZI6YWhLktQJQ1uSpE4Y2pIkdcKbq0jaK1PdROfslcfOUUukhcMzbUmSOmFoS5LUCUNbkqROGNqSJHXC0JYkqROGtiRJnTC0JUnqhKEtSVInDG1JkjphaEuS1AlvY6oZm+r2lZKk/WPKM+0k65I8kOTmkbLDk2xKcnt7PqyVJ8nFScaSbE1y0sg6a1r925Os2T+7I0nS/DWdy+OXA6t2K7sAuKaqlgHXtHmAM4Bl7bEWuASGkAfeCKwETgbeOB70kiRpeqYM7ar6JLBrt+LVwPo2vR54+Uj5e2twHXBokqOA04FNVbWrqh4ENvFvPwhIkqQ92NuOaEdW1b1t+j7gyDa9FLhnpN72VjZZ+b+RZG2SLUm27Ny5cy+bJ0nS/LPPvcerqoCahbaMb+/SqlpRVSuWLFkyW5uVJKl7exva97fL3rTnB1r5DuCYkXpHt7LJyiVJ0jTtbWhvAMZ7gK8BPjpSfk7rRX4K8FC7jH41cFqSw1oHtNNamSRJmqYp/087yfuBFwNHJNnO0Av8t4GrkpwLfBH4yVZ9I3AmMAY8DLwWoKp2JXkLcH2r9+aq2r1zmyRJ2oMpQ7uqXjnJolMnqFvAeZNsZx2wbkatkyRJj/M2ppIkdcLQliSpE4a2JEmdMLQlSeqEoS1JUicMbUmSOmFoS5LUCUNbkqROGNqSJHXC0JYkqROGtiRJnTC0JUnqhKEtSVInDG1Jkjox5dCckrQ/XLH57j0uP3vlsXPUEqkfnmlLktQJQ1uSpE4Y2pIkdcLQliSpE4a2JEmdMLQlSeqEoS1JUicMbUmSOmFoS5LUCUNbkqRO7FNoJ7kryU1JbkyypZUdnmRTktvb82GtPEkuTjKWZGuSk2ZjByRJWihm40z7JVW1vKpWtPkLgGuqahlwTZsHOANY1h5rgUtm4bUlSVow9sfl8dXA+ja9Hnj5SPl7a3AdcGiSo/bD60uSNC/ta2gX8PEkNyRZ28qOrKp72/R9wJFteilwz8i621uZJEmahn0dmvNFVbUjyb8DNiX5/OjCqqokNZMNtvBfC3DssQ7NJ0nSuH06066qHe35AeDDwMnA/eOXvdvzA636DuCYkdWPbmW7b/PSqlpRVSuWLFmyL82TJGle2evQTvINSb5xfBo4DbgZ2ACsadXWAB9t0xuAc1ov8lOAh0Yuo0uSpCnsy+XxI4EPJxnfzhVV9RdJrgeuSnIu8EXgJ1v9jcCZwBjwMPDafXht7UdXbL77QDdBkjSBvQ7tqroDeOEE5f8AnDpBeQHn7e3rSdJMTPXh8+yV9plRf7wjmiRJnTC0JUnqhKEtSVInDG1JkjphaEuS1AlDW5KkThjakiR1wtCWJKkThrYkSZ0wtCVJ6oShLUlSJwxtSZI6sS+jfEnaS46kJmlveKYtSVInDG1JkjphaEuS1AlDW5KkThjakiR1wt7j89BUPZPPXnnsHLVEkjSbDO0FyH83mv/8GUvzk6EtSXvJq1qaa36nLUlSJwxtSZI6YWhLktQJQ1uSpE7MeUe0JKuA/w0sAt5dVb89123omb2CJWnhmtPQTrIIeAfwMmA7cH2SDVV1y1y2Q9LU9vUDoh8w9z97ry88c32mfTIwVlV3ACS5ElgNGNqNf+gkzSd+sJhdcx3aS4F7Rua3AyvnsgH7+gba11D1DSrNDj/gai5M5302l3/XU1Vz92LJK4BVVfXTbf7VwMqqOn+kzlpgbZv9DuC2KTZ7BPCl/dDcnngMBh6Hgcdh4HEYeBwGPR2Hb62qJRMtmOsz7R3AMSPzR7eyx1XVpcCl091gki1VtWJ2mtcnj8HA4zDwOAw8DgOPw2C+HIe5/pev64FlSY5PcjBwFrBhjtsgSVKX5vRMu6oeTXI+cDXDv3ytq6ptc9kGSZJ6Nef/p11VG4GNs7jJaV9Kn8c8BgOPw8DjMPA4DDwOg3lxHOa0I5okSdp73sZUkqROdBvaSVYluS3JWJILDnR79qckxyS5NsktSbYleX0rPzzJpiS3t+fDWnmSXNyOzdYkJx3YPZg9SRYl+bskH2vzxyfZ3Pb1T1oHR5Ic0ubH2vLjDmjDZ1GSQ5N8IMnnk9ya5HsX6Hvh59vvw81J3p/k6Qvh/ZBkXZIHktw8Ujbjn3+SNa3+7UnWHIh92ReTHIf/1X4vtib5cJJDR5Zd2I7DbUlOHynvK0uqqrsHQye2LwDPAQ4GPgeccKDbtR/39yjgpDb9jcDfAycAbwMuaOUXAG9t02cCfw4EOAXYfKD3YRaPxS8AVwAfa/NXAWe16XcBP9umfw54V5s+C/iTA932WTwG64GfbtMHA4cutPcCw42a7gSeMfI+eM1CeD8APwicBNw8Ujajnz9wOHBHez6sTR92oPdtFo7DacDiNv3WkeNwQsuJQ4DjW34s6jFLej3Tfvx2qFX1r8D47VDnpaq6t6o+26a/AtzK8EdrNcMfcNrzy9v0auC9NbgOODTJUXPb6tmX5GjgR4B3t/kALwU+0KrsfgzGj80HgFNb/a4leTbDH6vLAKrqX6vqyyyw90KzGHhGksXAM4F7WQDvh6r6JLBrt+KZ/vxPBzZV1a6qehDYBKza742fRRMdh6r6eFU92mavY7gXCAzH4cqqeqSq7gTGGHKkuyzpNbQnuh3q0gPUljnVLuudCGwGjqyqe9ui+4Aj2/R8PT6/D/wP4Ott/puBL4/8ko7u5+PHoC1/qNXv3fHATuA97WuCdyf5BhbYe6GqdgC/A9zNENYPATew8N4P42b685+X74vd/BeGqwwwj45Dr6G9ICV5FvBB4A1V9Y+jy2q4BjRv/xUgyY8CD1TVDQe6LQfYYoZLgpdU1YnAPzFcDn3cfH8vALTvbFczfIj5FuAb6OxMcX9ZCD//qST5VeBR4H0Hui2zrdfQnvJ2qPNNkoMYAvt9VfWhVnz/+KXO9vxAK5+Px+f7gR9LchfDJayXMozLfmi7PApP3s/Hj0Fb/mzgH+aywfvJdmB7VW1u8x9gCPGF9F4A+GHgzqraWVVfAz7E8B5ZaO+HcTP9+c/X9wVJXgP8KPCq9gEG5tFx6DW0F9TtUNt3b5cBt1bV740s2gCM9/pcA3x0pPyc1nP0FOChkUtnXaqqC6vq6Ko6juHn/YmqehVwLfCKVm33YzB+bF7R6nd/9lFV9wH3JPmOVnQqw9C2C+a90NwNnJLkme33Y/w4LKj3w4iZ/vyvBk5Lcli7anFaK+taklUMX6H9WFU9PLJoA3BW+y+C44FlwGfoMUsOdE+4vX0w9Ir8e4aef796oNuzn/f1RQyXu7YCN7bHmQzfyV0D3A78JXB4qx/gHe3Y3ASsOND7MMvH48U80Xv8OQy/fGPAnwKHtPKnt/mxtvw5B7rds7j/y4Et7f3wEYbevwvuvQC8Cfg8cDPwRww9g+f9+wF4P8P3+F9juPJy7t78/Bm+8x1rj9ce6P2apeMwxvAd9fjfyXeN1P/VdhxuA84YKe8qS7wjmiRJnej18rgkSQuOoS1JUicMbUmSOmFoS5LUCUNbkqROGNrSJJL8+yRXJvlCkhuSbEzy7W3Z85J8oo0OdHuSXx+/l3WSV7VRhm5K8ukkL5xk+3e1Oje2x8UzbN+n92Kf3pzkh2e63iTbOjnJX7X9/2ySP0vyXbOx7Rm04aAkn23TleSPR5YtTrIzT4wI92Pjozgl+c0k/30u2yrNhsVTV5EWnhbAHwbWV9VZreyFwJFJ7mG4AcPPVtXHkzyT4W51P8fwP7F3Aj9UVQ8mOQO4FFg5yUu9pKq+tDdtrKrv24t1fmNvXmt3SY5kGFHr7Kr6dCt7EfBchv8HHq27uJ64H/hsexHwN236n4DnJ3lGVf0z8DJG7m5VVRt4qt84Q5qCZ9rSxF4CfK2q3jVeUFWfq6q/Bs4G/qaqPt7KHwbOp90DvKo+XcPISfDkkYampZ29vj3JlgzjZX9Pkg+1M9rfGqn31fZ8VJJPtrP1m5P8QIZxxy9v8zcl+flW9/Ikr2jTp7ZBR27KMDbxIa38riRvamfPNyX5zgmaeT7DB5rHz/ar6lNV9ZGR13lXks3A29pZ+d+21/v0+B3dkrwmyUcyjAF9V5Lzk/xCq3ddksNbvf+WYTz5rUmuHGnHKp4YFAJgI8NIcACvZLgBx/jxek2S/zPB8X5ukr9oV1P+epL9lZ4SDG1pYs9nGDVqIs/bfVlVfQF4VpJv2q3uuTw5VHZ37cjl8Z8fKf/XqlrBMCb0R4HzWptek2T30anOBq6uquXACxnuBLUcWFpVz6+q7wLeM7pCkqcDlwM/1ZYvBn52pMqXquok4BJgosvIzwM+u4f9guHDyvdV1S8w3LnsB2oY5OQ3gP85Uu/5wH8Cvge4CHi41ftb4JxW5wLgxKp6AfC6kXVfAvzVyPyVDLerfDrwAobR8KZyKfBfq+q7Gfb1ndNYRzogvDwu7SdJXsIQ2i/aQ7XJLo+PX8a9CdhW7X7hSe5gGOBgdLCL64F1GQaV+UhV3djqPSfJHwB/Bnx8t+1/B8OAG3/f5tczfDD4/TY/PijNDQyBukftjPqbgI9X1etb8Z9W1WNt+tnA+iTLGG7Je9DI6tfWME78V5I8BPzfkX1/QZveCrwvyUcYbt1KkqXArhq5x3RVbc0wfO0rGc66p2r3s4DvA/40TwyvfchU60kHimfa0sS2Ad89ybJbdl+W5DnAV6sNmZrkBcC7gdVVtTejST3Snr8+Mj0+/6QP21X1SeAHGb6/vTzJOe3y/AsZzkJf19qyN6//2O6v12xjGF1svA0rgV9nCOdx/zQy/RaGcH4+8B8Z7gW++2vBk/d3dF9/hKG/wEnA9RlG6lrFxINcbGAYa/v9Eyzb3dMYxuBePvL4D9NYTzogDG1pYp8ADkmydrwgyQuS/ADDGL0vGu+FneQZwMXA29r8sQxnqq8eOZPdb5J8K3B/Vf0hQziflOQI4GlV9UHg1xgJ2OY24Lgk39bmXw38vxm87DsYLtWPdoZ75h7qP5snOoW9ZgavQ5KnAcdU1bXAL7dtPYt/+332uHXAm6rqpgmWPUn7kHVnkp9or5VM0ttfeirw8rg0gaqqJD8O/H6SXwb+BbgLeENV/XOS1cAfJHkHsIhhlKnxTk6/wTDq0jvbJddH2/fTE7k2yfgl5K1Vdc4k9fbkxcAvJfka8FWG74GXAu9pgQdw4W779y9JXstwWXgxwyX2dzFNVXVfkp8C3touUz8AfAl48ySrvI3h8vivMVyun4lFwB8neTbDqFUXA18Bvq2qPj9B27a3OtP1KuCS1raDGL4X/9wM2yjNCUf5ktSd9u9l/7mqXjdlZWkeMbQlSeqE32lLktQJQ1uSpE4Y2pIkdcLQliSpE4a2JEmdMLQlSeqEoS1JUif+P/qZoHtDyLJhAAAAAElFTkSuQmCC\n",
      "text/plain": [
       "<Figure size 576x360 with 1 Axes>"
      ]
     },
     "metadata": {
      "needs_background": "light"
     },
     "output_type": "display_data"
    }
   ],
   "source": [
    "plt.figure(figsize = (8,5))\n",
    "sns.distplot(vehicles['CO2 Emission Grams/Mile'], kde = False);"
   ]
  },
  {
   "cell_type": "markdown",
   "metadata": {
    "Collapsed": "false"
   },
   "source": [
    "3. Combined MPG"
   ]
  },
  {
   "cell_type": "code",
   "execution_count": 15,
   "metadata": {
    "Collapsed": "false"
   },
   "outputs": [
    {
     "data": {
      "image/png": "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\n",
      "text/plain": [
       "<Figure size 576x360 with 1 Axes>"
      ]
     },
     "metadata": {
      "needs_background": "light"
     },
     "output_type": "display_data"
    }
   ],
   "source": [
    "plt.figure(figsize = (8,5))\n",
    "sns.distplot(vehicles['Combined MPG'], kde = False);"
   ]
  },
  {
   "cell_type": "markdown",
   "metadata": {
    "Collapsed": "false"
   },
   "source": [
    "Which one(s) of the variables are nearly normally distributed? How do you know?"
   ]
  },
  {
   "cell_type": "code",
   "execution_count": 16,
   "metadata": {
    "Collapsed": "false"
   },
   "outputs": [
    {
     "name": "stdout",
     "output_type": "stream",
     "text": [
      "17.609055502328133\n",
      "475.3163392572124\n",
      "19.92932242990654\n"
     ]
    }
   ],
   "source": [
    "print(vehicles['Fuel Barrels/Year'].mean())\n",
    "print(vehicles['CO2 Emission Grams/Mile'].mean())\n",
    "print(vehicles['Combined MPG'].mean())\n",
    "\n",
    "#Fuels Barrels per year is close to normal distribution, mean seems to be in middle of distribution\n",
    "#paolo: by eyeballing it yes"
   ]
  },
  {
   "cell_type": "markdown",
   "metadata": {
    "Collapsed": "false"
   },
   "source": [
    "## Exponential Distribution"
   ]
  },
  {
   "cell_type": "markdown",
   "metadata": {
    "Collapsed": "false"
   },
   "source": [
    "1. Using `numpy.random.exponential`, create a function that returns a list of numbers exponentially distributed with the mean of 10. \n",
    "\n",
    "1. Use the function to generate two number sequences with the size of 1 and 100.\n",
    "\n",
    "1. Plot the distributions as histograms with the nubmer of bins as 100.\n",
    "\n"
   ]
  },
  {
   "cell_type": "code",
   "execution_count": 17,
   "metadata": {
    "Collapsed": "false"
   },
   "outputs": [],
   "source": [
    "def generate_random_numbers(size):\n",
    "    return np.random.exponential(scale = 10, size = size)"
   ]
  },
  {
   "cell_type": "code",
<<<<<<< HEAD
   "execution_count": 18,
   "metadata": {},
=======
   "execution_count": 46,
   "metadata": {
    "Collapsed": "false"
   },
>>>>>>> 14f9bfee4107737b6224e74ab6572f99d290d730
   "outputs": [],
   "source": [
    "exp1 = generate_random_numbers(1)\n",
    "exp2 = generate_random_numbers(100)"
   ]
  },
  {
   "cell_type": "code",
<<<<<<< HEAD
   "execution_count": 19,
   "metadata": {},
=======
   "execution_count": 47,
   "metadata": {
    "Collapsed": "false"
   },
>>>>>>> 14f9bfee4107737b6224e74ab6572f99d290d730
   "outputs": [
    {
     "data": {
      "image/png": "iVBORw0KGgoAAAANSUhEUgAAAeoAAAEvCAYAAACKSII9AAAAOXRFWHRTb2Z0d2FyZQBNYXRwbG90bGliIHZlcnNpb24zLjMuMSwgaHR0cHM6Ly9tYXRwbG90bGliLm9yZy/d3fzzAAAACXBIWXMAAAsTAAALEwEAmpwYAAAPkUlEQVR4nO3df6jdd33H8dfbZp1s1h8z1x9rkqVjKRjcULlUhzA7rJD6Rzpwc80ms6M04FYZVIQORyf1n6nMwaCbdlP8AVqrMBcw0m2uIogpjVTL0lKN1dnUbo21KwzRWvbeH+eo1+tN7mnuyb2f9DwecOn5fs8n57z5cC/PnHNPvq3uDgAwpqdt9QAAwKkJNQAMTKgBYGBCDQADE2oAGJhQA8DAtm3VE2/fvr137969VU8PAJvqS1/60ne6e+nJ/rktC/Xu3btz9OjRrXp6ANhUVfWfZ/LnvPUNAAMTagAYmFADwMCEGgAGJtQAMDChBoCBCTUADGzdUFfVB6rq4ar6j1PcX1X1t1V1vKrurqqXzX9MAFhMs7yi/mCSfae5//Ike6ZfB5P8/cbHAgCSGULd3Z9P8t3TLLkiyYd74kiSZ1fVC+c1IAAssnn8jvrCJA+sOD4xPQcAbNCmXuu7qg5m8vZ4du3atZlPDUx99I5vzf0x/+Dlfp7hbJnHK+oHk+xccbxjeu5ndPfN3b3c3ctLS0/6fyACAAtnHqE+lOSPpp/+fkWSx7r7oTk8LgAsvHXf+q6qjyW5NMn2qjqR5C+T/FySdPd7kxxO8tokx5N8L8kfn61hAWDRrBvq7j6wzv2d5E/nNhEA8GOuTAYAAxNqABiYUAPAwIQaAAYm1AAwMKEGgIEJNQAMTKgBYGBCDQADE2oAGJhQA8DAhBoABibUADAwoQaAgQk1AAxMqAFgYEINAAMTagAYmFADwMCEGgAGJtQAMDChBoCBCTUADEyoAWBgQg0AAxNqABiYUAPAwIQaAAYm1AAwMKEGgIEJNQAMTKgBYGBCDQADE2oAGJhQA8DAhBoABibUADAwoQaAgQk1AAxMqAFgYEINAAMTagAYmFADwMBmCnVV7auq+6rqeFVdv8b9u6rq9qq6q6rurqrXzn9UAFg864a6qs5LclOSy5PsTXKgqvauWvYXSW7t7pcmuTLJ3817UABYRLO8or4kyfHuvr+7H09yS5IrVq3pJM+c3n5Wkm/Pb0QAWFzbZlhzYZIHVhyfSPLyVWvenuRfqurNSX4xyWVzmQ4AFty8Pkx2IMkHu3tHktcm+UhV/cxjV9XBqjpaVUdPnjw5p6cGgKeuWUL9YJKdK453TM+tdHWSW5Oku7+Y5OlJtq9+oO6+ubuXu3t5aWnpzCYGgAUyS6jvTLKnqi6qqvMz+bDYoVVrvpXk1UlSVS/KJNReMgPABq0b6u5+Ism1SW5Lcm8mn+4+VlU3VtX+6bK3JLmmqr6S5GNJruruPltDA8CimOXDZOnuw0kOrzp3w4rb9yR55XxHAwBcmQwABibUADAwoQaAgQk1AAxMqAFgYEINAAMTagAYmFADwMCEGgAGJtQAMDChBoCBCTUADEyoAWBgQg0AAxNqABiYUAPAwIQaAAYm1AAwMKEGgIEJNQAMTKgBYGBCDQADE2oAGJhQA8DAhBoABibUADAwoQaAgQk1AAxMqAFgYEINAAMTagAYmFADwMCEGgAGJtQAMDChBoCBCTUADEyoAWBgQg0AAxNqABiYUAPAwIQaAAYm1AAwMKEGgIHNFOqq2ldV91XV8aq6/hRrXl9V91TVsar66HzHBIDFtG29BVV1XpKbkrwmyYkkd1bVoe6+Z8WaPUn+PMkru/vRqnre2RoYABbJLK+oL0lyvLvv7+7Hk9yS5IpVa65JclN3P5ok3f3wfMcEgMU0S6gvTPLAiuMT03MrXZzk4qr6QlUdqap9az1QVR2sqqNVdfTkyZNnNjEALJB5fZhsW5I9SS5NciDJP1TVs1cv6u6bu3u5u5eXlpbm9NQA8NQ1S6gfTLJzxfGO6bmVTiQ51N0/7O5vJPlqJuEGADZgllDfmWRPVV1UVecnuTLJoVVrPpXJq+lU1fZM3gq/f35jAsBiWjfU3f1EkmuT3Jbk3iS3dvexqrqxqvZPl92W5JGquifJ7Une2t2PnK2hAWBRrPvPs5Kkuw8nObzq3A0rbneS66ZfAMCcuDIZAAxMqAFgYEINAAMTagAYmFADwMCEGgAGJtQAMDChBoCBCTUADEyoAWBgQg0AAxNqABiYUAPAwIQaAAYm1AAwMKEGgIEJNQAMTKgBYGBCDQADE2oAGJhQA8DAhBoABibUADAwoQaAgQk1AAxMqAFgYEINAAMTagAYmFADwMCEGgAGJtQAMDChBoCBCTUADEyoAWBgQg0AAxNqABiYUAPAwIQaAAYm1AAwMKEGgIEJNQAMTKgBYGAzhbqq9lXVfVV1vKquP82611VVV9Xy/EYEgMW1bqir6rwkNyW5PMneJAeqau8a6y5I8mdJ7pj3kACwqGZ5RX1JkuPdfX93P57kliRXrLHuHUnemeT7c5wPABbaLKG+MMkDK45PTM/9WFW9LMnO7v70HGcDgIW34Q+TVdXTkrwnyVtmWHuwqo5W1dGTJ09u9KkB4ClvllA/mGTniuMd03M/ckGSFyf5XFV9M8krkhxa6wNl3X1zdy939/LS0tKZTw0AC2KWUN+ZZE9VXVRV5ye5MsmhH93Z3Y919/bu3t3du5McSbK/u4+elYkBYIGsG+rufiLJtUluS3Jvklu7+1hV3VhV+8/2gACwyLbNsqi7Dyc5vOrcDadYe+nGxwIAElcmA4ChCTUADEyoAWBgQg0AAxNqABiYUAPAwIQaAAYm1AAwMKEGgIEJNQAMTKgBYGBCDQADE2oAGJhQA8DAhBoABibUADAwoQaAgQk1AAxMqAFgYEINAAMTagAYmFADwMCEGgAGJtQAMDChBoCBCTUADEyoAWBgQg0AAxNqABiYUAPAwIQaAAYm1AAwMKEGgIEJNQAMTKgBYGBCDQADE2oAGJhQA8DAhBoABibUADAwoQaAgQk1AAxMqAFgYDOFuqr2VdV9VXW8qq5f4/7rquqeqrq7qj5bVb8y/1EBYPGsG+qqOi/JTUkuT7I3yYGq2rtq2V1Jlrv7N5J8Msm75j0oACyiWV5RX5LkeHff392PJ7klyRUrF3T37d39venhkSQ75jsmACymWUJ9YZIHVhyfmJ47lauTfGYjQwEAE9vm+WBV9YYky0ledYr7DyY5mCS7du2a51MDwFPSLK+oH0yyc8Xxjum5n1JVlyV5W5L93f2DtR6ou2/u7uXuXl5aWjqTeQFgocwS6juT7Kmqi6rq/CRXJjm0ckFVvTTJ+zKJ9MPzHxMAFtO6oe7uJ5Jcm+S2JPcmubW7j1XVjVW1f7rs3UmekeQTVfXlqjp0iocDAJ6EmX5H3d2Hkxxede6GFbcvm/NcAEBcmQwAhibUADAwoQaAgQk1AAxMqAFgYEINAAMTagAYmFADwMCEGgAGJtQAMDChBoCBCTUADEyoAWBgQg0AAxNqABiYUAPAwIQaAAYm1AAwMKEGgIEJNQAMTKgBYGBCDQADE2oAGJhQA8DAhBoABibUADAwoQaAgQk1AAxMqAFgYEINAAMTagAYmFADwMCEGgAGJtQAMDChBoCBCTUADEyoAWBgQg0AAxNqABiYUAPAwIQaAAYm1AAwMKEGgIHNFOqq2ldV91XV8aq6fo37f76qPj69/46q2j33SQFgAa0b6qo6L8lNSS5PsjfJgarau2rZ1Uke7e5fS/I3Sd4570EBYBHN8or6kiTHu/v+7n48yS1Jrli15ookH5re/mSSV1dVzW9MAFhMs4T6wiQPrDg+MT235prufiLJY0meO48BAWCRbdvMJ6uqg0kOTg//t6ru28znfxK2J/nOVg9xjrOH83FO7OMfbvUAp3dO7OHg7OHGbU/yK2fyB2cJ9YNJdq443jE9t9aaE1W1Lcmzkjyy+oG6++YkN5/JoJupqo529/JWz3Eus4fzYR83zh5unD3cuOke7j6TPzvLW993JtlTVRdV1flJrkxyaNWaQ0neOL39u0n+vbv7TAYCAH5i3VfU3f1EVV2b5LYk5yX5QHcfq6obkxzt7kNJ3p/kI1V1PMl3M4k5ALBBM/2OursPJzm86twNK25/P8nvzXe0LTX82/PnAHs4H/Zx4+zhxtnDjTvjPSzvUAPAuFxCFAAGJtRJquqXqupfq+pr0/8+Z401L6mqL1bVsaq6u6p+fytmHY3Ly27cDHt4XVXdM/2++2xVndE/8XgqW28PV6x7XVV1VfkE8xpm2ceqev30+/FYVX10s2cc3Qw/z7uq6vaqumv6M/3adR+0uxf+K8m7klw/vX19kneusebiJHumt385yUNJnr3Vs2/xvp2X5OtJfjXJ+Um+kmTvqjV/kuS909tXJvn4Vs890teMe/jbSX5hevtN9vDJ7+F03QVJPp/kSJLlrZ57tK8Zvxf3JLkryXOmx8/b6rlH+ppxD29O8qbp7b1Jvrne43pFPbHyEqgfSvI7qxd091e7+2vT299O8nCSpc0acFAuL7tx6+5hd9/e3d+bHh7J5FoG/MQs34dJ8o5M/j8E39/M4c4hs+zjNUlu6u5Hk6S7H97kGUc3yx52kmdObz8rybfXe1Chnnh+dz80vf1fSZ5/usVVdUkmf1v6+tkebHAuL7txs+zhSlcn+cxZnejcs+4eVtXLkuzs7k9v5mDnmFm+Fy9OcnFVfaGqjlTVvk2b7twwyx6+PckbqupEJv+a6s3rPeimXkJ0K1XVvyV5wRp3vW3lQXd3VZ3yo/BV9cIkH0nyxu7+v/lOCadWVW9IspzkVVs9y7mkqp6W5D1JrtriUZ4KtmXy9velmbyz8/mq+vXu/p+tHOoccyDJB7v7r6vqNzO5BsmLT9eThQl1d192qvuq6r+r6oXd/dA0xGu+nVNVz0zy6SRv6+4jZ2nUc8ncLi+7wGbZw1TVZZn8pfJV3f2DTZrtXLHeHl6Q5MVJPjf9rcsLkhyqqv3dfXTTphzfLN+LJ5Lc0d0/TPKNqvpqJuG+c3NGHN4se3h1kn1J0t1frKqnZ3Id8FP+GsFb3xMrL4H6xiT/vHrB9PKp/5Tkw939yU2cbWQuL7tx6+5hVb00yfuS7Pc7wTWddg+7+7Hu3t7du3tyreUjmeylSP+0WX6eP5XJq+lU1fZM3gq/fxNnHN0se/itJK9Okqp6UZKnJzl5ugcV6om/SvKaqvpaksumx6mq5ar6x+ma1yf5rSRXVdWXp18v2ZJpBzH9nfOPLi97b5Jbe3p52araP132/iTPnV5e9rpMPlXP1Ix7+O4kz0jyien33eof/IU24x6yjhn38bYkj1TVPUluT/LW7vYO2dSMe/iWJNdU1VeSfCzJVeu9eHFlMgAYmFfUADAwoQaAgQk1AAxMqAFgYEINAAMTagAYmFADwMCEGgAG9v8wWMI1n6o1JwAAAABJRU5ErkJggg==\n",
      "text/plain": [
       "<Figure size 576x360 with 1 Axes>"
      ]
     },
     "metadata": {
      "needs_background": "light"
     },
     "output_type": "display_data"
    }
   ],
   "source": [
    "plt.figure(figsize = (8,5))\n",
    "sns.distplot(exp1, kde = False, bins = 20);"
   ]
  },
  {
   "cell_type": "code",
<<<<<<< HEAD
   "execution_count": 20,
   "metadata": {},
=======
   "execution_count": 48,
   "metadata": {
    "Collapsed": "false"
   },
>>>>>>> 14f9bfee4107737b6224e74ab6572f99d290d730
   "outputs": [
    {
     "data": {
      "image/png": "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\n",
      "text/plain": [
       "<Figure size 576x360 with 1 Axes>"
      ]
     },
     "metadata": {
      "needs_background": "light"
     },
     "output_type": "display_data"
    }
   ],
   "source": [
    "plt.figure(figsize = (8,5))\n",
    "sns.distplot(exp2, kde = False, bins = 20);"
   ]
  },
  {
   "cell_type": "markdown",
   "metadata": {
    "Collapsed": "false"
   },
   "source": [
    "How are the two distributions different?"
   ]
  },
  {
   "cell_type": "code",
<<<<<<< HEAD
   "execution_count": 21,
=======
   "execution_count": 7,
>>>>>>> 14f9bfee4107737b6224e74ab6572f99d290d730
   "metadata": {
    "Collapsed": "false"
   },
   "outputs": [],
   "source": [
    "# First one has 1 value and therefore no distribution. Second one is decreasing exponential distribution\n",
    "#paolo:ok"
   ]
  },
  {
   "cell_type": "markdown",
   "metadata": {
    "Collapsed": "false"
   },
   "source": [
    "## Exponential Distribution in the Bank\n",
    "\n",
    "Suppose that the amount of time one spends in a bank is exponentially distributed with a mean of 10 minutes (i.e. λ = 1/10). What is the probability that a customer will spend less than fifteen minutes in the bank? \n",
    "\n",
    "Write a code in python to solve this problem"
   ]
  },
  {
   "cell_type": "code",
<<<<<<< HEAD
   "execution_count": 22,
=======
   "execution_count": 17,
>>>>>>> 14f9bfee4107737b6224e74ab6572f99d290d730
   "metadata": {
    "Collapsed": "false"
   },
   "outputs": [
    {
     "data": {
      "text/plain": [
       "0.9999996619256516"
      ]
     },
<<<<<<< HEAD
     "execution_count": 22,
=======
     "execution_count": 17,
>>>>>>> 14f9bfee4107737b6224e74ab6572f99d290d730
     "metadata": {},
     "output_type": "execute_result"
    }
   ],
   "source": [
    "from scipy.stats import expon\n",
    "expdist = expon(loc= 1/10)\n",
    "expdist.cdf(15)\n",
    "#paolo: good approach to use the cdf but the right formula for the\n",
    "# exponential distrb is obtained using the aprameter scale=10\n",
    "#paolo: expdist = expon(scale=10)\n",
    "#paolo: check here https://docs.scipy.org/doc/scipy/reference/generated/scipy.stats.expon.html"
   ]
  },
  {
   "cell_type": "markdown",
   "metadata": {
    "Collapsed": "false"
   },
   "source": [
    "What is the probability that the customer will spend more than 15 minutes"
   ]
  },
  {
   "cell_type": "code",
<<<<<<< HEAD
   "execution_count": 23,
=======
   "execution_count": 16,
>>>>>>> 14f9bfee4107737b6224e74ab6572f99d290d730
   "metadata": {
    "Collapsed": "false"
   },
   "outputs": [
    {
     "data": {
      "text/plain": [
       "0.2231301601484298"
      ]
     },
<<<<<<< HEAD
     "execution_count": 23,
=======
     "execution_count": 16,
>>>>>>> 14f9bfee4107737b6224e74ab6572f99d290d730
     "metadata": {},
     "output_type": "execute_result"
    }
   ],
   "source": [
    "1 - expdist.cdf(15)"
   ]
  },
  {
   "cell_type": "markdown",
   "metadata": {
    "Collapsed": "false"
   },
   "source": [
    "# Bonus\n",
    "\n",
    "A delivery company needs 35 minutes to deliver a package, with a standard deviation of 8 minutes. Suppose that in one day, they deliver 200 packages.\n",
    "\n",
    "**Hint**: `stats.norm.cdf` can help you find the answers.\n",
    "\n",
    "#### Step 1: What is the probability that the mean delivery time today is between 30 and 35 minutes?"
   ]
  },
  {
   "cell_type": "code",
   "execution_count": 24,
   "metadata": {
    "Collapsed": "false"
   },
   "outputs": [],
   "source": [
    "# your code here"
   ]
  },
  {
   "cell_type": "markdown",
   "metadata": {
    "Collapsed": "false"
   },
   "source": [
    "#### Step 2: What is the probability that in total, it takes more than 115 hours to deliver all 200 packages?"
   ]
  },
  {
   "cell_type": "code",
   "execution_count": 25,
   "metadata": {
    "Collapsed": "false"
   },
   "outputs": [],
   "source": [
    "# your code here"
   ]
  }
 ],
 "metadata": {
  "kernelspec": {
   "display_name": "Python 3",
   "language": "python",
   "name": "python3"
  },
  "language_info": {
   "codemirror_mode": {
    "name": "ipython",
    "version": 3
   },
   "file_extension": ".py",
   "mimetype": "text/x-python",
   "name": "python",
   "nbconvert_exporter": "python",
   "pygments_lexer": "ipython3",
   "version": "3.7.6"
  }
 },
 "nbformat": 4,
 "nbformat_minor": 4
}
