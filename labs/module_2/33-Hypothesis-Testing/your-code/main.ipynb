{
 "cells": [
  {
   "cell_type": "markdown",
   "metadata": {
    "Collapsed": "false"
   },
   "source": [
    "# Before your start:\n",
    "- Read the README.md file\n",
    "- Comment as much as you can and use the resources (README.md file)\n",
    "- Happy learning!"
   ]
  },
  {
   "cell_type": "code",
   "execution_count": 177,
   "metadata": {
    "Collapsed": "false"
   },
   "outputs": [],
   "source": [
    "import pandas as pd\n",
    "import numpy as np\n",
    "import matplotlib.pyplot as plt\n",
    "%matplotlib inline\n",
    "import seaborn as sns\n",
    "import scipy\n",
    "from scipy import stats\n",
    "from scipy.stats import norm\n",
    "from scipy.stats import t\n",
    "from scipy.stats import ttest_1samp\n",
    "from sklearn.metrics import auc"
   ]
  },
  {
   "cell_type": "markdown",
   "metadata": {
    "Collapsed": "false"
   },
   "source": [
    "# Challenge 1 - Exploring the Data\n",
    "\n",
    "In this challenge, we will examine all salaries of employees of the City of Chicago. We will start by loading the dataset and examining its contents. Load the data from [here](https://drive.google.com/file/d/1AmdvTSj5Fl86i4uHiOnZPFg8S8mAIreA/view?usp=sharing) and place it in the data folder"
   ]
  },
  {
   "cell_type": "code",
   "execution_count": 143,
   "metadata": {
    "Collapsed": "false",
    "scrolled": true
   },
   "outputs": [
    {
     "data": {
      "text/html": [
       "<div>\n",
       "<style scoped>\n",
       "    .dataframe tbody tr th:only-of-type {\n",
       "        vertical-align: middle;\n",
       "    }\n",
       "\n",
       "    .dataframe tbody tr th {\n",
       "        vertical-align: top;\n",
       "    }\n",
       "\n",
       "    .dataframe thead th {\n",
       "        text-align: right;\n",
       "    }\n",
       "</style>\n",
       "<table border=\"1\" class=\"dataframe\">\n",
       "  <thead>\n",
       "    <tr style=\"text-align: right;\">\n",
       "      <th></th>\n",
       "      <th>Name</th>\n",
       "      <th>Job Titles</th>\n",
       "      <th>Department</th>\n",
       "      <th>Full or Part-Time</th>\n",
       "      <th>Salary or Hourly</th>\n",
       "      <th>Typical Hours</th>\n",
       "      <th>Annual Salary</th>\n",
       "      <th>Hourly Rate</th>\n",
       "    </tr>\n",
       "  </thead>\n",
       "  <tbody>\n",
       "    <tr>\n",
       "      <th>0</th>\n",
       "      <td>AARON,  JEFFERY M</td>\n",
       "      <td>SERGEANT</td>\n",
       "      <td>POLICE</td>\n",
       "      <td>F</td>\n",
       "      <td>Salary</td>\n",
       "      <td>NaN</td>\n",
       "      <td>101442.0</td>\n",
       "      <td>NaN</td>\n",
       "    </tr>\n",
       "    <tr>\n",
       "      <th>1</th>\n",
       "      <td>AARON,  KARINA</td>\n",
       "      <td>POLICE OFFICER (ASSIGNED AS DETECTIVE)</td>\n",
       "      <td>POLICE</td>\n",
       "      <td>F</td>\n",
       "      <td>Salary</td>\n",
       "      <td>NaN</td>\n",
       "      <td>94122.0</td>\n",
       "      <td>NaN</td>\n",
       "    </tr>\n",
       "    <tr>\n",
       "      <th>2</th>\n",
       "      <td>AARON,  KIMBERLEI R</td>\n",
       "      <td>CHIEF CONTRACT EXPEDITER</td>\n",
       "      <td>GENERAL SERVICES</td>\n",
       "      <td>F</td>\n",
       "      <td>Salary</td>\n",
       "      <td>NaN</td>\n",
       "      <td>101592.0</td>\n",
       "      <td>NaN</td>\n",
       "    </tr>\n",
       "    <tr>\n",
       "      <th>3</th>\n",
       "      <td>ABAD JR,  VICENTE M</td>\n",
       "      <td>CIVIL ENGINEER IV</td>\n",
       "      <td>WATER MGMNT</td>\n",
       "      <td>F</td>\n",
       "      <td>Salary</td>\n",
       "      <td>NaN</td>\n",
       "      <td>110064.0</td>\n",
       "      <td>NaN</td>\n",
       "    </tr>\n",
       "    <tr>\n",
       "      <th>4</th>\n",
       "      <td>ABASCAL,  REECE E</td>\n",
       "      <td>TRAFFIC CONTROL AIDE-HOURLY</td>\n",
       "      <td>OEMC</td>\n",
       "      <td>P</td>\n",
       "      <td>Hourly</td>\n",
       "      <td>20.0</td>\n",
       "      <td>NaN</td>\n",
       "      <td>19.86</td>\n",
       "    </tr>\n",
       "  </tbody>\n",
       "</table>\n",
       "</div>"
      ],
      "text/plain": [
       "                  Name                              Job Titles  \\\n",
       "0    AARON,  JEFFERY M                                SERGEANT   \n",
       "1      AARON,  KARINA   POLICE OFFICER (ASSIGNED AS DETECTIVE)   \n",
       "2  AARON,  KIMBERLEI R                CHIEF CONTRACT EXPEDITER   \n",
       "3  ABAD JR,  VICENTE M                       CIVIL ENGINEER IV   \n",
       "4    ABASCAL,  REECE E             TRAFFIC CONTROL AIDE-HOURLY   \n",
       "\n",
       "         Department Full or Part-Time Salary or Hourly  Typical Hours  \\\n",
       "0            POLICE                 F           Salary            NaN   \n",
       "1            POLICE                 F           Salary            NaN   \n",
       "2  GENERAL SERVICES                 F           Salary            NaN   \n",
       "3       WATER MGMNT                 F           Salary            NaN   \n",
       "4              OEMC                 P           Hourly           20.0   \n",
       "\n",
       "   Annual Salary  Hourly Rate  \n",
       "0       101442.0          NaN  \n",
       "1        94122.0          NaN  \n",
       "2       101592.0          NaN  \n",
       "3       110064.0          NaN  \n",
       "4            NaN        19.86  "
      ]
     },
     "execution_count": 143,
     "metadata": {},
     "output_type": "execute_result"
    }
   ],
   "source": [
    "# Your code here:\n",
    "salaries = pd.read_csv(\"../data/Current_Employee_Names__Salaries__and_Position_Titles.csv\",sep=\",\")\n",
    "salaries.head()"
   ]
  },
  {
   "cell_type": "markdown",
   "metadata": {
    "Collapsed": "false"
   },
   "source": [
    "We see from looking at the `head` function that there is quite a bit of missing data. Let's examine how much missing data is in each column. Produce this output in the cell below"
   ]
  },
  {
   "cell_type": "code",
   "execution_count": 145,
   "metadata": {
    "Collapsed": "false"
   },
   "outputs": [
    {
     "name": "stdout",
     "output_type": "stream",
     "text": [
      "Name                  0.000000\n",
      "Job Titles            0.000000\n",
      "Department            0.000000\n",
      "Full or Part-Time     0.000000\n",
      "Salary or Hourly      0.000000\n",
      "Typical Hours        75.824971\n",
      "Annual Salary        24.175029\n",
      "Hourly Rate          75.824971\n",
      "dtype: float64\n"
     ]
    }
   ],
   "source": [
    "# Your code here:\n",
    "missing_percentages=(salaries.isnull().sum()/len(salaries))*100\n",
    "print(missing_percentages)"
   ]
  },
  {
   "cell_type": "markdown",
   "metadata": {
    "Collapsed": "false"
   },
   "source": [
    "Let's also look at the count of hourly vs. salaried employees. Write the code in the cell below"
   ]
  },
  {
   "cell_type": "code",
   "execution_count": 144,
   "metadata": {},
   "outputs": [
    {
     "data": {
      "text/plain": [
       "(33183, 8)"
      ]
     },
     "execution_count": 144,
     "metadata": {},
     "output_type": "execute_result"
    }
   ],
   "source": [
    "salaries.shape"
   ]
  },
  {
   "cell_type": "code",
   "execution_count": 146,
   "metadata": {
    "Collapsed": "false"
   },
   "outputs": [
    {
     "name": "stdout",
     "output_type": "stream",
     "text": [
      "Salaried employees #: 25161 \n",
      "Hourly Employees #: 8022\n"
     ]
    },
    {
     "data": {
      "text/plain": [
       "True"
      ]
     },
     "execution_count": 146,
     "metadata": {},
     "output_type": "execute_result"
    }
   ],
   "source": [
    "# Your code here:\n",
    "salary_len = len(salaries[salaries[\"Salary or Hourly\"]==\"Salary\"])\n",
    "salary = salaries.loc[salaries[\"Salary or Hourly\"]==\"Salary\"]\n",
    "hourly_len = len(salaries[salaries[\"Salary or Hourly\"]==\"Hourly\"])\n",
    "hourly = salaries.loc[salaries[\"Salary or Hourly\"]==\"Hourly\"]\n",
    "print(f\"Salaried employees #: {salary_len} \\nHourly Employees #: {hourly_len}\")\n",
    "\n",
    "# Quick check\n",
    "salary_len + hourly_len == salaries.shape[0]"
   ]
  },
  {
   "cell_type": "markdown",
   "metadata": {
    "Collapsed": "false"
   },
   "source": [
    "What this information indicates is that the table contains information about two types of employees - salaried and hourly. Some columns apply only to one type of employee while other columns only apply to another kind. This is why there are so many missing values. Therefore, we will not do anything to handle the missing values."
   ]
  },
  {
   "cell_type": "markdown",
   "metadata": {
    "Collapsed": "false"
   },
   "source": [
    "There are different departments in the city. List all departments and the count of employees in each department."
   ]
  },
  {
   "cell_type": "code",
   "execution_count": 155,
   "metadata": {
    "Collapsed": "false"
   },
   "outputs": [
    {
     "data": {
      "text/html": [
       "<div>\n",
       "<style scoped>\n",
       "    .dataframe tbody tr th:only-of-type {\n",
       "        vertical-align: middle;\n",
       "    }\n",
       "\n",
       "    .dataframe tbody tr th {\n",
       "        vertical-align: top;\n",
       "    }\n",
       "\n",
       "    .dataframe thead th {\n",
       "        text-align: right;\n",
       "    }\n",
       "</style>\n",
       "<table border=\"1\" class=\"dataframe\">\n",
       "  <thead>\n",
       "    <tr style=\"text-align: right;\">\n",
       "      <th></th>\n",
       "      <th>Name</th>\n",
       "    </tr>\n",
       "    <tr>\n",
       "      <th>Department</th>\n",
       "      <th></th>\n",
       "    </tr>\n",
       "  </thead>\n",
       "  <tbody>\n",
       "    <tr>\n",
       "      <th>POLICE</th>\n",
       "      <td>13414</td>\n",
       "    </tr>\n",
       "    <tr>\n",
       "      <th>FIRE</th>\n",
       "      <td>4641</td>\n",
       "    </tr>\n",
       "    <tr>\n",
       "      <th>STREETS &amp; SAN</th>\n",
       "      <td>2198</td>\n",
       "    </tr>\n",
       "    <tr>\n",
       "      <th>OEMC</th>\n",
       "      <td>2102</td>\n",
       "    </tr>\n",
       "    <tr>\n",
       "      <th>WATER MGMNT</th>\n",
       "      <td>1879</td>\n",
       "    </tr>\n",
       "    <tr>\n",
       "      <th>AVIATION</th>\n",
       "      <td>1629</td>\n",
       "    </tr>\n",
       "    <tr>\n",
       "      <th>TRANSPORTN</th>\n",
       "      <td>1140</td>\n",
       "    </tr>\n",
       "    <tr>\n",
       "      <th>PUBLIC LIBRARY</th>\n",
       "      <td>1015</td>\n",
       "    </tr>\n",
       "    <tr>\n",
       "      <th>GENERAL SERVICES</th>\n",
       "      <td>980</td>\n",
       "    </tr>\n",
       "    <tr>\n",
       "      <th>FAMILY &amp; SUPPORT</th>\n",
       "      <td>615</td>\n",
       "    </tr>\n",
       "    <tr>\n",
       "      <th>FINANCE</th>\n",
       "      <td>560</td>\n",
       "    </tr>\n",
       "    <tr>\n",
       "      <th>HEALTH</th>\n",
       "      <td>488</td>\n",
       "    </tr>\n",
       "    <tr>\n",
       "      <th>CITY COUNCIL</th>\n",
       "      <td>411</td>\n",
       "    </tr>\n",
       "    <tr>\n",
       "      <th>LAW</th>\n",
       "      <td>407</td>\n",
       "    </tr>\n",
       "    <tr>\n",
       "      <th>BUILDINGS</th>\n",
       "      <td>269</td>\n",
       "    </tr>\n",
       "    <tr>\n",
       "      <th>COMMUNITY DEVELOPMENT</th>\n",
       "      <td>207</td>\n",
       "    </tr>\n",
       "    <tr>\n",
       "      <th>BUSINESS AFFAIRS</th>\n",
       "      <td>171</td>\n",
       "    </tr>\n",
       "    <tr>\n",
       "      <th>COPA</th>\n",
       "      <td>116</td>\n",
       "    </tr>\n",
       "    <tr>\n",
       "      <th>BOARD OF ELECTION</th>\n",
       "      <td>107</td>\n",
       "    </tr>\n",
       "    <tr>\n",
       "      <th>DoIT</th>\n",
       "      <td>99</td>\n",
       "    </tr>\n",
       "    <tr>\n",
       "      <th>PROCUREMENT</th>\n",
       "      <td>92</td>\n",
       "    </tr>\n",
       "    <tr>\n",
       "      <th>INSPECTOR GEN</th>\n",
       "      <td>87</td>\n",
       "    </tr>\n",
       "    <tr>\n",
       "      <th>MAYOR'S OFFICE</th>\n",
       "      <td>85</td>\n",
       "    </tr>\n",
       "    <tr>\n",
       "      <th>CITY CLERK</th>\n",
       "      <td>84</td>\n",
       "    </tr>\n",
       "    <tr>\n",
       "      <th>ANIMAL CONTRL</th>\n",
       "      <td>81</td>\n",
       "    </tr>\n",
       "    <tr>\n",
       "      <th>HUMAN RESOURCES</th>\n",
       "      <td>79</td>\n",
       "    </tr>\n",
       "    <tr>\n",
       "      <th>CULTURAL AFFAIRS</th>\n",
       "      <td>65</td>\n",
       "    </tr>\n",
       "    <tr>\n",
       "      <th>BUDGET &amp; MGMT</th>\n",
       "      <td>46</td>\n",
       "    </tr>\n",
       "    <tr>\n",
       "      <th>ADMIN HEARNG</th>\n",
       "      <td>39</td>\n",
       "    </tr>\n",
       "    <tr>\n",
       "      <th>DISABILITIES</th>\n",
       "      <td>28</td>\n",
       "    </tr>\n",
       "    <tr>\n",
       "      <th>TREASURER</th>\n",
       "      <td>22</td>\n",
       "    </tr>\n",
       "    <tr>\n",
       "      <th>HUMAN RELATIONS</th>\n",
       "      <td>16</td>\n",
       "    </tr>\n",
       "    <tr>\n",
       "      <th>BOARD OF ETHICS</th>\n",
       "      <td>8</td>\n",
       "    </tr>\n",
       "    <tr>\n",
       "      <th>POLICE BOARD</th>\n",
       "      <td>2</td>\n",
       "    </tr>\n",
       "    <tr>\n",
       "      <th>LICENSE APPL COMM</th>\n",
       "      <td>1</td>\n",
       "    </tr>\n",
       "  </tbody>\n",
       "</table>\n",
       "</div>"
      ],
      "text/plain": [
       "                        Name\n",
       "Department                  \n",
       "POLICE                 13414\n",
       "FIRE                    4641\n",
       "STREETS & SAN           2198\n",
       "OEMC                    2102\n",
       "WATER MGMNT             1879\n",
       "AVIATION                1629\n",
       "TRANSPORTN              1140\n",
       "PUBLIC LIBRARY          1015\n",
       "GENERAL SERVICES         980\n",
       "FAMILY & SUPPORT         615\n",
       "FINANCE                  560\n",
       "HEALTH                   488\n",
       "CITY COUNCIL             411\n",
       "LAW                      407\n",
       "BUILDINGS                269\n",
       "COMMUNITY DEVELOPMENT    207\n",
       "BUSINESS AFFAIRS         171\n",
       "COPA                     116\n",
       "BOARD OF ELECTION        107\n",
       "DoIT                      99\n",
       "PROCUREMENT               92\n",
       "INSPECTOR GEN             87\n",
       "MAYOR'S OFFICE            85\n",
       "CITY CLERK                84\n",
       "ANIMAL CONTRL             81\n",
       "HUMAN RESOURCES           79\n",
       "CULTURAL AFFAIRS          65\n",
       "BUDGET & MGMT             46\n",
       "ADMIN HEARNG              39\n",
       "DISABILITIES              28\n",
       "TREASURER                 22\n",
       "HUMAN RELATIONS           16\n",
       "BOARD OF ETHICS            8\n",
       "POLICE BOARD               2\n",
       "LICENSE APPL COMM          1"
      ]
     },
     "execution_count": 155,
     "metadata": {},
     "output_type": "execute_result"
    }
   ],
   "source": [
    "# Your code here:\n",
    "employee_per_dpt = pd.pivot_table(salaries,values=\"Name\",index=\"Department\",aggfunc=\"count\").sort_values(by=\"Name\",ascending=False)\n",
    "                                \n",
    "\n",
    "#employee_per_dpt = salaries.groupby([\"Department\"])[[\"Name\"]].count().sort_values(by=\"Name\",\n",
    "#                                                                                  ascending=False)\n",
    "employee_per_dpt"
   ]
  },
  {
   "cell_type": "markdown",
   "metadata": {
    "Collapsed": "false"
   },
   "source": [
    "# Challenge 2 - Hypothesis Tests\n",
    "\n",
    "In this section of the lab, we will test whether the hourly wage of all hourly workers is significantly different from $30/hr. Import the correct one sample test function from scipy and perform the hypothesis test for a 95% two sided confidence interval."
   ]
  },
  {
   "cell_type": "code",
   "execution_count": 195,
   "metadata": {
    "Collapsed": "false"
   },
   "outputs": [
    {
     "name": "stdout",
     "output_type": "stream",
     "text": [
      "z_score:  41.93735781905334\n",
      "Alpha Left Tail:  -1.9599639845400545\n",
      "Alpha Right Tail:  1.959963984540054\n",
      "t-value:  20.6198057854942\n",
      "p-value:  4.3230240486229894e-92\n"
     ]
    },
    {
     "data": {
      "text/plain": [
       "'\\nIndeed, since the p-value is extremely low, we can reject the null hypothesis.\\n'"
      ]
     },
     "execution_count": 195,
     "metadata": {},
     "output_type": "execute_result"
    },
    {
     "data": {
      "image/png": "[encoded data removed]",
      "text/plain": [
       "<Figure size 432x288 with 1 Axes>"
      ]
     },
     "metadata": {
      "needs_background": "light"
     },
     "output_type": "display_data"
    }
   ],
   "source": [
    "# Your code here:\n",
    "'''\n",
    "Hypothesis 0: 1 hour = 30$\n",
    "Hypothesis 1: 1 hour != 30$\n",
    "'''\n",
    "salaries_hourly_rate = hourly.loc[:,\"Hourly Rate\"]\n",
    "\n",
    "# computing variables\n",
    "confidence_level = 0.95\n",
    "alpha = 1 - confidence_level\n",
    "mu = 30\n",
    "sample_mean = salaries_hourly_rate.mean()\n",
    "sample_std = salaries[\"Hourly Rate\"].std()\n",
    "sample_size = len(salaries[\"Hourly Rate\"])\n",
    "margin_of_error = sample_std/np.sqrt(sample_size)\n",
    "\n",
    "# computing z-score\n",
    "z_score = (sample_mean - null_mean) / margin_of_error\n",
    "print(\"z_score: \",z_score)\n",
    "\n",
    "# Two-sided hypothesis testing\n",
    "alpha_left = 0.025\n",
    "alpha_left = normal.ppf(alpha_left)\n",
    "print(\"Alpha Left Tail: \",alpha_left)\n",
    "\n",
    "alpha_right = 1 - 0.025\n",
    "alpha_right = normal.ppf(alpha_right)\n",
    "print('Alpha Right Tail: ', alpha_right) \n",
    "\n",
    "#drawing the graph\n",
    "\n",
    "normal = norm(loc = 0, scale = 1) \n",
    "fig, ax = plt.subplots(1,1)\n",
    "x = np.linspace(-3,3,1000)\n",
    "y = normal.pdf(x)\n",
    "ax.plot(x,y)\n",
    "plt.plot([alpha_right, alpha_right], [0, 0.4], 'k--', lw=4, color='g',label=\"critical_values\")\n",
    "plt.legend(loc=\"center\")\n",
    "plt.plot([alpha_left, alpha_left], [0, 0.4], 'k--', lw=4, color='g')\n",
    "plt.fill_between(x,y, where = x >= alpha_right, color='r')\n",
    "plt.fill_between(x,y, where = x <=alpha_left, color='r')\n",
    "\n",
    "'''\n",
    "Seeing that Z-score is way further than critical values in with-in rejection area, we can safely \n",
    "say that there is enough evidence to reject null hypothesis and accept alternative hypothesis.\n",
    "\n",
    "Which means that e hourly wage of all hourly workers is not equal to $30/h\n",
    "'''\n",
    "\n",
    "# Double checking\n",
    "t,p = stats.ttest_1samp(salaries_hourly_rate, mu)\n",
    "print(\"t-value: \",t)\n",
    "print(\"p-value: \",p)\n",
    "'''\n",
    "Indeed, since the p-value is extremely low, we can reject the null hypothesis.\n",
    "'''"
   ]
  },
  {
   "cell_type": "markdown",
   "metadata": {
    "Collapsed": "false"
   },
   "source": [
    "We are also curious about salaries in the police force. The chief of police in Chicago claimed in a press briefing that salaries this year are higher than last year's mean of $86000/year a year for all salaried employees. Test this one sided hypothesis using a 95% confidence interval.\n",
    "\n",
    "Hint: A one tailed test has a p-value that is half of the two tailed p-value. If our hypothesis is greater than, then to reject, the test statistic must also be positive."
   ]
  },
  {
   "cell_type": "code",
   "execution_count": 221,
   "metadata": {
    "Collapsed": "false"
   },
   "outputs": [
    {
     "name": "stdout",
     "output_type": "stream",
     "text": [
      "z_score:  3.081997005712994\n",
      "alpha: 1.6448536269514722\n",
      "t-value:  3.081997005712994\n",
      "p-value:  0.0010301701775482569\n"
     ]
    },
    {
     "data": {
      "text/plain": [
       "\"\\nWell, according to t-test results, since p-value (0.02) is much smaller than confidence level (0.05),\\nwe will reject Null Hypothesis and will accept Alternative Hypothesis which is implying that\\npolice officers annually mean salary is higher than 86.000.\\n\\nBut I don't understand why z-score is with-in non-rejection region in this case. It should be with-in \\nthe red area..\\n\""
      ]
     },
     "execution_count": 221,
     "metadata": {},
     "output_type": "execute_result"
    },
    {
     "data": {
      "image/png": "[encoded data removed]",
      "text/plain": [
       "<Figure size 432x288 with 1 Axes>"
      ]
     },
     "metadata": {
      "needs_background": "light"
     },
     "output_type": "display_data"
    }
   ],
   "source": [
    "'''\n",
    "Null Hypo: mean salaries = 86.000\n",
    "Alt. Hypo: mean salaries > 86.000\n",
    "'''\n",
    "# Your code here:\n",
    "\n",
    "police_dpt = salaries[(salaries[\"Department\"]==\"POLICE\")&(salaries[\"Salary or Hourly\"]==\"Salary\")]\n",
    "police_dpt_salaries = police_dpt.loc[:,\"Annual Salary\"]\n",
    "alpha = 0.05\n",
    "mu = 86000\n",
    "sample_mean = police_dpt_salaries.mean()\n",
    "sample_std = police_dpt_salaries.std()\n",
    "sample_size = len(police_dpt_salaries)\n",
    "margin_of_error = sample_std / np.sqrt(sample_size)\n",
    "\n",
    "#calculating z-score\n",
    "z_score = (sample_mean - mu) / margin_of_error\n",
    "print(\"z_score: \",z_score)\n",
    "\n",
    "\n",
    "# One-sided Hypothesis testing\n",
    "alpha = 1 - alpha\n",
    "alpha = norm.ppf(alpha)\n",
    "print(\"alpha:\",alpha)\n",
    "\n",
    "# Drawing Graph\n",
    "normal = norm(loc = 0, scale = 1) \n",
    "fig, ax = plt.subplots(1,1)\n",
    "x = np.linspace(-3,3,1000)\n",
    "y = normal.pdf(x)\n",
    "ax.plot(x,y)\n",
    "\n",
    "plt.plot([alpha, alpha], [0, 0.4], 'k--', lw=4, color='g',label=\"critical_value\")\n",
    "plt.fill_between(x,y, where = x >alpha, color='r')\n",
    "plt.legend()\n",
    "\n",
    "'''\n",
    "Well, our z-score(3.081) is with-in rejection area (red area) since rejection area starts with\n",
    "critical value of 1.64. Therefore, we can say that we have enough evidence to reject null hypothesis\n",
    "and accept alternative hypothesis.\n",
    "'''\n",
    "\n",
    "# Double checking\n",
    "t,p = stats.ttest_1samp(police_dpt_salaries, mu)\n",
    "print(\"t-value: \",t)\n",
    "print(\"p-value: \",p/2) # Divide by two since one-tailed.\n",
    "\n",
    "'''\n",
    "Well, according to t-test results, since p-value (0.02) is much smaller than confidence level (0.05),\n",
    "we will reject Null Hypothesis and will accept Alternative Hypothesis which is implying that\n",
    "police officers annually mean salary is higher than 86.000.\n",
    "'''"
   ]
  },
  {
   "cell_type": "markdown",
   "metadata": {
    "Collapsed": "false"
   },
   "source": [
    "Using the `crosstab` function, find the department that has the most hourly workers. "
   ]
  },
  {
   "cell_type": "code",
   "execution_count": 10,
   "metadata": {
    "Collapsed": "false"
   },
   "outputs": [
    {
     "name": "stdout",
     "output_type": "stream",
     "text": [
      "STREETS & SAN has the most hourly employees\n"
     ]
    }
   ],
   "source": [
    "# Your code here:\n",
    "\n",
    "c_tab = pd.crosstab(index=salaries[\"Department\"],\n",
    "            columns=salaries[\"Salary or Hourly\"]).sort_values(by=\"Hourly\",ascending=False)\n",
    "\n",
    "#pd.pivot_table(salaries,columns=\"Department\",values=\"Name\",aggfunc=\"count\").T\n",
    "\n",
    "print(f\"{c_tab.reset_index().iloc[0,0]} has the most hourly employees\")"
   ]
  },
  {
   "cell_type": "markdown",
   "metadata": {
    "Collapsed": "false"
   },
   "source": [
    "The workers from the department with the most hourly workers have complained that their hourly wage is less than $35/hour. Using a one sample t-test, test this one-sided hypothesis at the 95% confidence level."
   ]
  },
  {
   "cell_type": "code",
   "execution_count": 222,
   "metadata": {
    "Collapsed": "false"
   },
   "outputs": [
    {
     "name": "stdout",
     "output_type": "stream",
     "text": [
      "t-value :  -9.567447887848152\n",
      "alpha: -1.6448536269514729\n",
      "\n",
      "\n",
      "t: -9.567447887848152\n",
      "p 1.6689265282353859e-21\n"
     ]
    }
   ],
   "source": [
    "'''\n",
    "Null Hypo: hourly wage = 35\n",
    "Alt. Hypo: hourly wage < 35\n",
    "'''\n",
    "# Your code here:\n",
    "streets_san=salaries.loc[(salaries[\"Department\"]==\"STREETS & SAN\") & \n",
    "                         (salaries[\"Salary or Hourly\"]==\"Hourly\")]\n",
    "\n",
    "streets_san_hourly =salaries.loc[(salaries[\"Department\"]==\"STREETS & SAN\") & \n",
    "                         (salaries[\"Salary or Hourly\"]==\"Hourly\")][\"Hourly Rate\"]\n",
    "\n",
    "mu = 35\n",
    "sample_mean = streets_san[\"Hourly Rate\"].mean()\n",
    "sample_std = streets_san[\"Hourly Rate\"].std()\n",
    "sample_size= len(streets_san)\n",
    "DoF = sample_size - 1 \n",
    "error = sample_std / np.sqrt(sample_size)\n",
    "alpha = 1 - 0.95  # for 95% confidence level\n",
    "\n",
    "# computing t-value\n",
    "t_value = (sample_mean - mu) / (sample_std/np.sqrt(sample_size))\n",
    "print(\"t-value : \",t_value)\n",
    "\n",
    "\n",
    "# One-sided Hypothesis testing\n",
    "alpha =  0.05\n",
    "alpha = norm.ppf(alpha)\n",
    "print(\"alpha:\",alpha)\n",
    "\n",
    "'''\n",
    "Since t-value is with-in the rejection region with score of -9.56, we can say that we have enough\n",
    "evidence to reject null hypothesis & accept alternative hypothesis.\n",
    "Our critical value starts from -1.64 for rejection area.\n",
    "'''\n",
    "\n",
    "print('\\n')\n",
    "# Double checking\n",
    "t,p = stats.ttest_1samp(streets_san_hourly,mu)\n",
    "print(\"t:\",t)\n",
    "print(\"p\",p/2)"
   ]
  },
  {
   "cell_type": "markdown",
   "metadata": {
    "Collapsed": "false"
   },
   "source": [
    "# Challenge 3: To practice - Constructing Confidence Intervals\n",
    "\n",
    "While testing our hypothesis is a great way to gather empirical evidence for accepting or rejecting the hypothesis, another way to gather evidence is by creating a confidence interval. A confidence interval gives us information about the true mean of the population. So for a 95% confidence interval, we are 95% sure that the mean of the population is within the confidence interval. \n",
    ").\n",
    "\n",
    "To read more about confidence intervals, click [here](https://en.wikipedia.org/wiki/Confidence_interval).\n",
    "\n",
    "\n",
    "In the cell below, we will construct a 95% confidence interval for the mean hourly wage of all hourly workers. \n",
    "\n",
    "The confidence interval is computed in SciPy using the `t.interval` function. You can read more about this function [here](https://docs.scipy.org/doc/scipy-0.14.0/reference/generated/scipy.stats.t.html).\n",
    "\n",
    "To compute the confidence interval of the hourly wage, use the 0.95 for the confidence level, number of rows - 1 for degrees of freedom, the mean of the sample for the location parameter and the standard error for the scale. The standard error can be computed using [this](https://docs.scipy.org/doc/scipy/reference/generated/scipy.stats.sem.html) function in SciPy."
   ]
  },
  {
   "cell_type": "code",
   "execution_count": 254,
   "metadata": {
    "Collapsed": "false"
   },
   "outputs": [
    {
     "name": "stdout",
     "output_type": "stream",
     "text": [
      "With cofidence level of 95%, confidence interval for the hourly wage of employees are in between 32.52345834488425 and 33.05365708767623.\n"
     ]
    }
   ],
   "source": [
    "# Your code here:\n",
    "# computing variables\n",
    "data_hourly = salaries[salaries[\"Salary or Hourly\"]==\"Hourly\"]\n",
    "data = data_hourly[\"Hourly Rate\"]\n",
    "\n",
    "confidence_level = 0.95\n",
    "DoF = len(data)-1\n",
    "sample_mean = data.mean()\n",
    "sample_std = data.std()\n",
    "\n",
    "standard_error = stats.sem(data)\n",
    "t = stats.t.interval(confidence_level,DoF)[1]\n",
    "\n",
    "lower,upper = ((sample_mean - (t * standard_error)),(sample_mean + (t*standard_error)))\n",
    "print(f\"With cofidence level of 95%, confidence interval for the hourly wage of employees are in between {lower} and {upper}.\")"
   ]
  },
  {
   "cell_type": "markdown",
   "metadata": {
    "Collapsed": "false"
   },
   "source": [
    "Now construct the 95% confidence interval for all salaried employeed in the police in the cell below."
   ]
  },
  {
   "cell_type": "code",
   "execution_count": 259,
   "metadata": {
    "Collapsed": "false"
   },
   "outputs": [
    {
     "name": "stdout",
     "output_type": "stream",
     "text": [
      "With cofidence level of 95%, confidence interval for the hourly wage of employees are in between 86177.05631531784 and 86795.77269094894.\n"
     ]
    }
   ],
   "source": [
    "# Your code here:\n",
    "# below ones are alrady filtered above.\n",
    "police_dpt = salaries[(salaries[\"Department\"]==\"POLICE\") & (salaries[\"Salary or Hourly\"]==\"Salary\")]\n",
    "police_dpt_salaries = police_dpt.loc[:,\"Annual Salary\"]\n",
    "data = police_dpt_salaries\n",
    "\n",
    "#computing variables\n",
    "confidence_level = 0.95\n",
    "DoF = len(data)-1\n",
    "sample_mean = data.mean()\n",
    "sample_std = data.std()\n",
    "\n",
    "standard_error = stats.sem(data)\n",
    "t = stats.t.interval(confidence_level,DoF)[1]\n",
    "\n",
    "lower,upper = ((sample_mean - (t * standard_error)),(sample_mean + (t*standard_error)))\n",
    "print(f\"With cofidence level of 95%, confidence interval for the hourly wage of employees are in between {lower} and {upper}.\")"
   ]
  },
  {
   "cell_type": "code",
   "execution_count": null,
   "metadata": {},
   "outputs": [],
   "source": [
    "'''\n",
    "After watching & reading more than 15 hours about statistics this week :D I believe I finally\n",
    "understood the logic ofconfidence intervals, hypothesis tests, z/t values etc. I will double check \n",
    "solutions if any point is wrong. \n",
    "\n",
    "Thanks Paolo!\n",
    "'''"
   ]
  },
  {
   "cell_type": "markdown",
   "metadata": {
    "Collapsed": "false"
   },
   "source": [
    "# Bonus Challenge - Hypothesis Tests of Proportions\n",
    "\n",
    "Another type of one sample test is a hypothesis test of proportions. In this test, we examine whether the proportion of a group in our sample is significantly different than a fraction. \n",
    "\n",
    "You can read more about one sample proportion tests [here](http://sphweb.bumc.bu.edu/otlt/MPH-Modules/BS/SAS/SAS6-CategoricalData/SAS6-CategoricalData2.html).\n",
    "\n",
    "In the cell below, use the `proportions_ztest` function from `statsmodels` to perform a hypothesis test that will determine whether the number of hourly workers in the City of Chicago is significantly different from 25% at the 95% confidence level."
   ]
  },
  {
   "cell_type": "code",
   "execution_count": 268,
   "metadata": {
    "Collapsed": "false"
   },
   "outputs": [
    {
     "name": "stdout",
     "output_type": "stream",
     "text": [
      "-3.470528924426208\n",
      "alpha_left:  -1.9599639845400545\n",
      "alpha_right:  1.959963984540054\n"
     ]
    }
   ],
   "source": [
    "# Your code here:\n",
    "'''\n",
    "Null hypothesis: hourly workers = 25%\n",
    "Alt. hypothesis: hourly workers != 25%\n",
    "'''\n",
    "data = salaries[(salaries[\"Salary or Hourly\"]==\"Hourly\")]\n",
    "sample_proportion = len(data)/len(salaries)  #where salaries is the whole dataset.\n",
    "hypo_proportion = 0.25\n",
    "sample_size = len(salaries)\n",
    "\n",
    "z_score = (sample_proportion - hypo_proportion) / np.sqrt((0.25*0.75)/sample_size)\n",
    "print(z_score)\n",
    "\n",
    "# Two tail hypothesis testing\n",
    "\n",
    "normal = norm(loc=0,scale=1)\n",
    "alpha = 0.05\n",
    "alpha_left = 0.05/2\n",
    "alpha_left = normal.ppf(alpha_left)\n",
    "print(\"alpha_left: \",alpha_left)\n",
    "alpha_right = 1 - 0.025\n",
    "alpha_right = normal.ppf(alpha_right)\n",
    "print(\"alpha_right: \",alpha_right)\n",
    "\n",
    "'''\n",
    "Since our z-score is beyond the critical alpha right value, it is with-in rejection area, therefore\n",
    "we can say that we have enough evidence to reject null hypothesis and accept alternative hypothesis.\n",
    "\n",
    "As a result, hourly workers in City of Chicago is different than 25% at 95% confidence level.\n",
    "'''"
   ]
  },
  {
   "cell_type": "code",
   "execution_count": null,
   "metadata": {},
   "outputs": [],
   "source": []
  }
 ],
 "metadata": {
  "kernelspec": {
   "display_name": "Python 3",
   "language": "python",
   "name": "python3"
  },
  "language_info": {
   "codemirror_mode": {
    "name": "ipython",
    "version": 3
   },
   "file_extension": ".py",
   "mimetype": "text/x-python",
   "name": "python",
   "nbconvert_exporter": "python",
   "pygments_lexer": "ipython3",
   "version": "3.8.3"
  }
 },
 "nbformat": 4,
 "nbformat_minor": 4
}
