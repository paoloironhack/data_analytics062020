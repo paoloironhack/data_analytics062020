{
 "cells": [
  {
   "cell_type": "markdown",
   "metadata": {
    "Collapsed": "false"
   },
   "source": [
    "# Before your start:\n",
    "\n",
    "    Read the README.md file\n",
    "    Comment as much as you can and use the resources (README.md file)\n",
    "    Happy learning!\n",
    "\n",
    "*Notes:* \n",
    "\n",
    "- Solve the questions with python.\n",
    "\n",
    "- Round the final answer to three decimal places."
   ]
  },
  {
   "cell_type": "code",
   "execution_count": 1,
   "metadata": {},
   "outputs": [],
   "source": [
    "import numpy as np \n",
    "import pandas as pd\n",
    "import matplotlib.pyplot as plt\n",
    "%matplotlib inline\n",
    "import seaborn as sns\n",
    "from scipy import stats\n",
    "from scipy.stats import norm\n",
    "from scipy.stats import bernoulli\n",
    "from scipy.stats import binom\n",
    "import math"
   ]
  },
  {
   "cell_type": "markdown",
   "metadata": {
    "Collapsed": "false"
   },
   "source": [
    "## Bernoulli's Distribution\n",
    "\n",
    "In a basket containing 100 fruits, there are 60 apples and 40 oranges. \n",
    "\n",
    "A fruit is picked randomly from the basket. \n",
    "\n",
    "1. **What is the probability that the fruit is apple?**\n",
    "1. **What is the probability that it is an orange?**"
   ]
  },
  {
   "cell_type": "code",
   "execution_count": 2,
   "metadata": {
    "Collapsed": "false"
   },
   "outputs": [],
   "source": [
    "\"\"\"\n",
    "Calculate:\n",
    "p = probability that the fruit is an apple \n",
    "q = probability that the fruit is an orange\n",
    "\"\"\"\n",
    "\n",
    "# your code here\n",
    "p = 1 - 0.4 \n",
    "\n",
    "q = 1 - 0.6"
   ]
  },
  {
   "cell_type": "markdown",
   "metadata": {
    "Collapsed": "false"
   },
   "source": [
    "Now we take a random sample of 20 fruits from the basket. After each fruit is taken, a new fruit of the same type is replaced in the basket. Therefore, every time we are taking 1 fruit from 100 fruits. \n",
    "\n",
    "1. **What is the probability that the first 5 fruits are all apples?**\n",
    "\n",
    "1. **What is the probability that the first 5 fruits are all apples and the next 15 fruits are all oranges?**\n",
    "\n",
    "You can include the `p` and `q` probabilities you previous calculated in your solution."
   ]
  },
  {
   "cell_type": "code",
   "execution_count": 3,
   "metadata": {
    "Collapsed": "false"
   },
   "outputs": [
    {
     "name": "stdout",
     "output_type": "stream",
     "text": [
      "first five fruits are apples probability is 0.078\n",
      "first five fruits are apples and the next 15 are organges probability is 0.000\n"
     ]
    }
   ],
   "source": [
    "# your code here\n",
    "\"\"\"The appropriate distribution is a Bernoulli distribution\"\"\"\n",
    "\n",
    "five_apples = (p)**5\n",
    "\n",
    "print('first five fruits are apples probability is {:0.3f}'.format(five_apples))\n",
    "\n",
    "five_apple_fifteen_oranges = ((p)**5)  * ((q)**15)\n",
    "print('first five fruits are apples and the next 15 are organges probability is {:0.3f}'.format(five_apple_fifteen_oranges))"
   ]
  },
  {
   "cell_type": "markdown",
   "metadata": {
    "Collapsed": "false"
   },
   "source": [
    "## Binomial Distribution\n",
    "\n",
    "Similar to the above problem, this time again we randomly sample 20 fruits.\n",
    "\n",
    "**What is the probability that this time the sample contains 5 apples and 15 oranges?**\n",
    "\n",
    "Please note that this time the order of the fruits being picked does not matter."
   ]
  },
  {
   "cell_type": "code",
   "execution_count": 4,
   "metadata": {
    "Collapsed": "false"
   },
   "outputs": [
    {
     "name": "stdout",
     "output_type": "stream",
     "text": [
      "Samples contains five apples and fifteen oranges in random order 0.001\n"
     ]
    }
   ],
   "source": [
    "# your code here\n",
    "p_not_ordered =  ((20*19*18*17*16) / (5*4*3*2*1)) * five_apple_fifteen_oranges\n",
    "print('Samples contains five apples and fifteen oranges in random order {:0.3f}'.format(p_not_ordered))"
   ]
  },
  {
   "cell_type": "markdown",
   "metadata": {
    "Collapsed": "false"
   },
   "source": [
    "In the lesson we also discussed CDF (cumulative distribution function). In the context of the above problem, **what is the probability that less than 5 fruits picked are apples?**\n",
    "\n",
    "Write the formula and calculate the probability below."
   ]
  },
  {
   "cell_type": "code",
   "execution_count": 5,
   "metadata": {
    "Collapsed": "false"
   },
   "outputs": [
    {
     "name": "stdout",
     "output_type": "stream",
     "text": [
      "Samples contains less than five apples: 0.032\n"
     ]
    }
   ],
   "source": [
    "# your code here\n",
    "\n",
    "'''\n",
    "CDF = Sum of probabilities up to 4 fruits are apple.\n",
    "'''\n",
    "\n",
    "k = 4       # We can all the probabilities where we have less than five apples \n",
    "p = 0.6     # success rate of picking an apple\n",
    "n = 20      # Number of fruits that are taken \n",
    "\n",
    "\n",
    "print('Samples contains less than five apples: {:0.3f}'.format(binom.cdf(n=20,k=4,p=0.6) * 100) )"
   ]
  },
  {
   "cell_type": "markdown",
   "metadata": {
    "Collapsed": "false"
   },
   "source": [
    "**Plot the PDF (probability distributiom function) for the above binomial distribution.**\n",
    "\n",
    "*Hint: The range of x in a binomial distribution is from `0` to `n`.*"
   ]
  },
  {
   "cell_type": "code",
   "execution_count": 6,
   "metadata": {
    "Collapsed": "false"
   },
   "outputs": [],
   "source": [
    "# your code here\n",
    "# Please label the axes and give a title to the plot    "
   ]
  },
  {
   "cell_type": "code",
   "execution_count": 7,
   "metadata": {},
   "outputs": [
    {
     "data": {
      "image/png": "[encoded data removed]",
      "text/plain": [
       "<Figure size 648x504 with 1 Axes>"
      ]
     },
     "metadata": {
      "needs_background": "light"
     },
     "output_type": "display_data"
    }
   ],
   "source": [
    "lst = np.arange(0,20)\n",
    "n = 20        \n",
    "p = 0.6   \n",
    "plt.rcParams[\"font.family\"] = \"agency fb\" #Snatched this font type from Gorkem :)\n",
    "\n",
    "fig, ax = plt.subplots(1, 1)\n",
    "fig.set_size_inches(9, 7)\n",
    "\n",
    "x = [binom.pmf(k,n,p) for k in range(n)]\n",
    "\n",
    "ax.bar(lst, x,color=\"tomato\",label=\"Probabilities\")\n",
    "ax.set_xlabel(\"Apples drawn\",size=15)\n",
    "ax.set_ylabel(\"Probability\",size=15)\n",
    "ax.set_title(\"Binominal Distribution\",size=20)\n",
    "ax.set_xticks(np.arange(20))\n",
    "ax.set_xticklabels([i for i in range(n+1)])\n",
    "plt.legend(loc=\"upper left\",prop={\"size\":20})\n",
    "plt.grid(True)\n",
    "plt.show()"
   ]
  },
  {
   "cell_type": "code",
   "execution_count": 8,
   "metadata": {},
   "outputs": [
    {
     "data": {
      "text/plain": [
       "True"
      ]
     },
     "execution_count": 8,
     "metadata": {},
     "output_type": "execute_result"
    }
   ],
   "source": [
    "## If I did this correct the outcome of the previous questions should equal the \n",
    "\n",
    "lst = [binom.pmf(k,n,p) for k in range(1,5)]\n",
    "\n",
    "round(sum(lst)*100,4) == round(binom.cdf(n=20,k=4,p=0.6) * 100,4)"
   ]
  },
  {
   "cell_type": "markdown",
   "metadata": {
    "Collapsed": "false"
   },
   "source": [
    "## Poisson Distribution\n",
    "\n",
    "In this challenge you are required to use the Math library in python to solve the problems.\n",
    "\n",
    "In the UEFA champions league tournament, the average number of goals scored in a match is 2.3. \n",
    "\n",
    "**What is the probability that the number of goals scored in a match is 5?**\n",
    "\n",
    "*Hint: Use the exp() in the math library*\n",
    "\n",
    "And to calculate the factorial, you can use the following code:\n",
    "\n",
    "```python\n",
    "import math\n",
    "math.factorial(n) # n is the number you want to find the factorial of\n",
    "```"
   ]
  },
  {
   "cell_type": "code",
   "execution_count": 9,
   "metadata": {
    "Collapsed": "false"
   },
   "outputs": [
    {
     "data": {
      "text/plain": [
       "0.053775025581946814"
      ]
     },
     "execution_count": 9,
     "metadata": {},
     "output_type": "execute_result"
    }
   ],
   "source": [
    "# your code here \n",
    "import math\n",
    "%matplotlib inline \n",
    "from scipy import stats\n",
    "from scipy.stats import poisson\n",
    "\n",
    "lambda_possoin = 2.3\n",
    "poisson = stats.poisson(lambda_possoin)\n",
    "\n",
    "poisson.pmf(5)"
   ]
  },
  {
   "cell_type": "markdown",
   "metadata": {
    "Collapsed": "false"
   },
   "source": [
    "**Draw a poisson probability distribution plot for the number of goals to be between 0 to 10.**"
   ]
  },
  {
   "cell_type": "code",
   "execution_count": 10,
   "metadata": {
    "Collapsed": "false",
    "scrolled": true
   },
   "outputs": [
    {
     "data": {
      "image/png": "[encoded data removed]",
      "text/plain": [
       "<Figure size 648x504 with 1 Axes>"
      ]
     },
     "metadata": {
      "needs_background": "light"
     },
     "output_type": "display_data"
    }
   ],
   "source": [
    "# your code here\n",
    "# Please label the axes and give a title to the plot \n",
    "\n",
    "x = np.arange(0,10)\n",
    "fig, ax = plt.subplots(1, 1)\n",
    "fig.set_size_inches(9, 7)\n",
    "ax.plot(x, poisson.pmf(x),color='darkorange')\n",
    "#Plot axis vertical lines\n",
    "ax.vlines(x, 0, poisson.pmf(x), colors='royalblue', lw=25, alpha=1)\n",
    "ax.set_title('Poisson Distribution plot',size=20)\n",
    "ax.set_xlabel('Number of Goals by Game',size=16)\n",
    "ax.set_ylabel('Probabilityies',size=16)\n",
    "plt.grid(True)\n",
    "plt.show()"
   ]
  }
 ],
 "metadata": {
  "kernelspec": {
   "display_name": "Python 3",
   "language": "python",
   "name": "python3"
  },
  "language_info": {
   "codemirror_mode": {
    "name": "ipython",
    "version": 3
   },
   "file_extension": ".py",
   "mimetype": "text/x-python",
   "name": "python",
   "nbconvert_exporter": "python",
   "pygments_lexer": "ipython3",
   "version": "3.8.3"
  }
 },
 "nbformat": 4,
 "nbformat_minor": 4
}
