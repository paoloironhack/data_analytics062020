{
 "cells": [
  {
   "cell_type": "markdown",
   "metadata": {
    "Collapsed": "false"
   },
   "source": [
    "# Before your start:\n",
    "\n",
    "    Read the README.md file\n",
    "    Comment as much as you can and use the resources (README.md file)\n",
    "    Happy learning!\n",
    "\n",
    "*Notes:* \n",
    "\n",
    "- Solve the questions with python.\n",
    "\n",
    "- Round the final answer to three decimal places."
   ]
  },
  {
   "cell_type": "code",
   "execution_count": 1,
   "metadata": {
    "Collapsed": "false"
   },
   "outputs": [],
   "source": [
    "import numpy as np \n",
    "import pandas as pd\n",
    "import matplotlib.pyplot as plt\n",
    "%matplotlib inline\n",
    "import seaborn as sns\n",
    "from scipy import stats\n",
    "from scipy.stats import norm\n",
    "from scipy.stats import bernoulli\n",
    "from scipy.stats import binom\n",
    "import math"
   ]
  },
  {
   "cell_type": "markdown",
   "metadata": {
    "Collapsed": "false"
   },
   "source": [
    "## Bernoulli's Distribution\n",
    "\n",
    "In a basket containing 100 fruits, there are 60 apples and 40 oranges. \n",
    "\n",
    "A fruit is picked randomly from the basket. \n",
    "\n",
    "1. **What is the probability that the fruit is apple?**\n",
    "1. **What is the probability that it is an orange?**"
   ]
  },
  {
   "cell_type": "code",
   "execution_count": 2,
   "metadata": {
    "Collapsed": "false"
   },
   "outputs": [],
   "source": [
    "'''\n",
    "Calculate:\n",
    "p = probability that the fruit is an apple \n",
    "q = probability that the fruit is an orange\n",
    "\n",
    "p = 60/100 = 0.6\n",
    "q = 40/100 = 0.4\n",
    "'''\n",
    "# your code here\n",
    "\n",
    "p = 0.6\n",
    "q = 0.4"
   ]
  },
  {
   "cell_type": "markdown",
   "metadata": {
    "Collapsed": "false"
   },
   "source": [
    "Now we take a random sample of 20 fruits from the basket. After each fruit is taken, a new fruit of the same type is replaced in the basket. Therefore, every time we are taking 1 fruit from 100 fruits. \n",
    "\n",
    "1. **What is the probability that the first 5 fruits are all apples?**\n",
    "\n",
    "1. **What is the probability that the first 5 fruits are all apples and the next 15 fruits are all oranges?**\n",
    "\n",
    "You can include the `p` and `q` probabilities you previous calculated in your solution."
   ]
  },
  {
   "cell_type": "code",
   "execution_count": 3,
   "metadata": {
    "Collapsed": "false"
   },
   "outputs": [
    {
     "name": "stdout",
     "output_type": "stream",
     "text": [
      "Probability that the first 5 fruits are all apples is: 0.078\n",
      "Probability that the first 5 fruits are all apples and rest is orange is: 8.349416423424006e-08\n"
     ]
    }
   ],
   "source": [
    "'''\n",
    "1. First 5 fruits have to be either all apples or statement is false. Therefore, Bernoulli Distri-\n",
    "bution can be applied in there.\n",
    "\n",
    "Probability does not change even to event so p = 0.6 and q = 0.4\n",
    "'''\n",
    "\n",
    "# Question 1 \n",
    "first_5_apple = round((p)**5,3)\n",
    "print(f\"Probability that the first 5 fruits are all apples is: {first_5_apple}\")\n",
    "\n",
    "\n",
    "# Question 2 \n",
    "five_A_15_O = ((p)**5) * ((q)**15)\n",
    "print(f\"Probability that the first 5 fruits are all apples and rest is orange is: {five_A_15_O}\")"
   ]
  },
  {
   "cell_type": "code",
   "execution_count": 4,
   "metadata": {
    "Collapsed": "false"
   },
   "outputs": [
    {
     "data": {
      "text/plain": [
       "0.078"
      ]
     },
     "execution_count": 4,
     "metadata": {},
     "output_type": "execute_result"
    }
   ],
   "source": [
    "round(first_5_apple,3)"
   ]
  },
  {
   "cell_type": "markdown",
   "metadata": {
    "Collapsed": "false"
   },
   "source": [
    "### Binomial Distribution\n",
    "\n",
    "Similar to the above problem, this time again we randomly sample 20 fruits.\n",
    "\n",
    "**What is the probability that this time the sample contains 5 apples and 15 oranges?**\n",
    "\n",
    "Please note that this time the order of the fruits being picked does not matter."
   ]
  },
  {
   "cell_type": "code",
   "execution_count": 5,
   "metadata": {
    "Collapsed": "false"
   },
   "outputs": [
    {
     "name": "stdout",
     "output_type": "stream",
     "text": [
      "Probability that sample contains 5 apples and 15 oranges is: 0.0012944935222876579\n"
     ]
    }
   ],
   "source": [
    "'''\n",
    "n: number of events -- > 20\n",
    "x: success -- > 5 APPLE and 15 ORANGE\n",
    "p: probability -- > p = 0.6 , q= 0.4\n",
    "\n",
    "A O A O ...\n",
    "A A A O ...\n",
    ".\n",
    ".\n",
    ".\n",
    "\n",
    "So actually, we already calculate this probability but since this time order does not matter\n",
    "we have to multiply by their combination since we'll have that many outcomes in this case.\n",
    "\n",
    "nCx = 20!/(15!*5!)\n",
    "P(X=x) = nCx * p^(x) * (1-p)^(n-x)\n",
    "'''\n",
    "\n",
    "p_not_ordered =  ((20*19*18*17*16) / (5*4*3*2*1)) * five_A_15_O \n",
    "print(f\"Probability that sample contains 5 apples and 15 oranges is: {p_not_ordered}\")\n",
    "#paolo: yes- here you are using the fomula for the binomial distribution directly"
   ]
  },
  {
   "cell_type": "markdown",
   "metadata": {
    "Collapsed": "false"
   },
   "source": [
    "In the lesson we also discussed CDF (cumulative distribution function). In the context of the above problem, **what is the probability that less than 5 fruits picked are apples?**\n",
    "\n",
    "Write the formula and calculate the probability below."
   ]
  },
  {
   "cell_type": "code",
   "execution_count": 6,
   "metadata": {
    "Collapsed": "false"
   },
   "outputs": [],
   "source": [
    "#binomial = binom(20,0.6).pmf([i for i in range(20)])"
   ]
  },
  {
   "cell_type": "code",
   "execution_count": 7,
   "metadata": {
    "Collapsed": "false"
   },
   "outputs": [
    {
     "name": "stdout",
     "output_type": "stream",
     "text": [
      "Probability that less than 5 fruits are apples is: 0.0317%\n"
     ]
    }
   ],
   "source": [
    "'''\n",
    "CDF = Sum of probabilities up to 4 fruits are apple.\n",
    "'''\n",
    "n = 20      # number of events\n",
    "k = 4       # events up to 4 (1st+2nd+3rd+4th) - in other words area under pmf graph up to 4\n",
    "p = 0.6     # success rate\n",
    "\n",
    "cdf_4apple= binom.cdf(n=20,k=4,p=0.6)\n",
    "cdf_4apple_perc = round((binom.cdf(n=20,k=4,p=0.6))*100,4)\n",
    "print(f\"Probability that less than 5 fruits are apples is: {cdf_4apple_perc}%\")"
   ]
  },
  {
   "cell_type": "markdown",
   "metadata": {
    "Collapsed": "false"
   },
   "source": [
    "**Plot the PDF (probability distributiom function) for the above binomial distribution.**\n",
    "\n",
    "*Hint: The range of x in a binomial distribution is from `0` to `n`.*"
   ]
  },
  {
   "cell_type": "code",
   "execution_count": 8,
   "metadata": {
    "Collapsed": "false"
   },
   "outputs": [
    {
     "data": {
      "image/png": "[encoded data removed]",
      "text/plain": [
       "<Figure size 432x288 with 1 Axes>"
      ]
     },
     "metadata": {
      "needs_background": "light"
     },
     "output_type": "display_data"
    },
    {
     "data": {
      "text/plain": [
       "\"\\nTRUE!\\n\\nThanks a lot Paolo. It's much more clear in my head now, indeed I need to create a loop to plot each\\npossibility for each separate cases below. \\n\\nAnd their sum (first four cases) is equal to CMF of 4 which in the same line with our expectations.\\n\""
      ]
     },
     "execution_count": 8,
     "metadata": {},
     "output_type": "execute_result"
    }
   ],
   "source": [
    "# your code here\n",
    "# Please label the axes and give a title to the plot\n",
    "x = np.arange(0,20)\n",
    "n = 20         # Number of events\n",
    "p = 0.6        # Success rate\n",
    "\n",
    "# k is defined below for each cases by using list comprehension.\n",
    "\n",
    "plt.rcParams[\"font.family\"] = \"agency fb\"\n",
    "fig, ax = plt.subplots(1, 1)\n",
    "probs = [binom.pmf(k,n,p) for k in range(20)]\n",
    "ax.bar(x, probs,color=\"darkorange\",label=\"Probability of total apples\")\n",
    "ax.grid(False)\n",
    "ax.set_xlabel(\"Number of fruits (Separate Cases)\",size=15)\n",
    "ax.set_ylabel(\"Probability\",size=15)\n",
    "ax.set_title(\"Probabily Distribution\",fontweight=\"bold\",size=15,pad=10)\n",
    "ax.set_xticks(np.arange(20))\n",
    "ax.set_xticklabels([i for i in range(1,21)])\n",
    "plt.legend(loc=\"upper left\",edgecolor=\"k\")\n",
    "plt.show()\n",
    "\n",
    "'''\n",
    "Quick check if sum of first 4 cases equals to CMF above which is 0.0317%;\n",
    "'''\n",
    "lst = []\n",
    "for k in range(1,5):\n",
    "    prob_case = binom.pmf(k,n,p)\n",
    "    lst.append(prob_case)\n",
    "result = sum(lst)\n",
    "\n",
    "round((result)*100,4) == cdf_4apple_perc\n",
    "\n",
    "'''\n",
    "TRUE!\n",
    "\n",
    "Thanks a lot Paolo. It's much more clear in my head now, indeed I need to create a loop to plot each\n",
    "possibility for each separate cases below. \n",
    "\n",
    "And their sum (first four cases) is equal to CMF of 4 which in the same line with our expectations.\n",
    "'''"
   ]
  },
  {
   "cell_type": "code",
   "execution_count": 10,
   "metadata": {
    "Collapsed": "false"
   },
   "outputs": [],
   "source": [
    "#paolo: great plot!"
   ]
  },
  {
   "cell_type": "markdown",
   "metadata": {
    "Collapsed": "false"
   },
   "source": [
    "## Poisson Distribution\n",
    "\n",
    "In this challenge you are required to use the Math library in python to solve the problems.\n",
    "\n",
    "In the UEFA champions league tournament, the average number of goals scored in a match is 2.3. \n",
    "\n",
    "**What is the probability that the number of goals scored in a match is 5?**\n",
    "\n",
    "*Hint: Use the exp() in the math library*\n",
    "\n",
    "And to calculate the factorial, you can use the following code:\n",
    "\n",
    "```python\n",
    "import math\n",
    "math.factorial(n) # n is the number you want to find the factorial of\n",
    "```"
   ]
  },
  {
   "cell_type": "code",
   "execution_count": 9,
   "metadata": {
    "Collapsed": "false"
   },
   "outputs": [
    {
     "ename": "NameError",
     "evalue": "name 'lambda_poisson' is not defined",
     "output_type": "error",
     "traceback": [
      "\u001b[1;31m---------------------------------------------------------------------------\u001b[0m",
      "\u001b[1;31mNameError\u001b[0m                                 Traceback (most recent call last)",
      "\u001b[1;32m<ipython-input-9-f6995746081b>\u001b[0m in \u001b[0;36m<module>\u001b[1;34m\u001b[0m\n\u001b[1;32m----> 1\u001b[1;33m \u001b[0mprint\u001b[0m\u001b[1;33m(\u001b[0m\u001b[1;33m(\u001b[0m\u001b[1;33m(\u001b[0m\u001b[0mlambda_poisson\u001b[0m\u001b[1;33m**\u001b[0m\u001b[1;36m3\u001b[0m\u001b[1;33m)\u001b[0m\u001b[1;33m*\u001b[0m\u001b[1;33m(\u001b[0m\u001b[1;33m(\u001b[0m\u001b[0mnp\u001b[0m\u001b[1;33m.\u001b[0m\u001b[0mexp\u001b[0m\u001b[1;33m(\u001b[0m\u001b[1;36m1\u001b[0m\u001b[1;33m)\u001b[0m\u001b[1;33m)\u001b[0m\u001b[1;33m**\u001b[0m\u001b[1;33m(\u001b[0m\u001b[1;33m-\u001b[0m\u001b[1;36m3\u001b[0m\u001b[1;33m)\u001b[0m\u001b[1;33m)\u001b[0m\u001b[1;33m)\u001b[0m\u001b[1;33m/\u001b[0m\u001b[1;33m(\u001b[0m\u001b[1;36m3\u001b[0m\u001b[1;33m*\u001b[0m\u001b[1;36m2\u001b[0m\u001b[1;33m*\u001b[0m\u001b[1;36m1\u001b[0m\u001b[1;33m)\u001b[0m\u001b[1;33m)\u001b[0m\u001b[1;33m\u001b[0m\u001b[1;33m\u001b[0m\u001b[0m\n\u001b[0m\u001b[0;32m      2\u001b[0m \u001b[1;31m#paolo: be careful here I think you forgot to remove this cell\u001b[0m\u001b[1;33m\u001b[0m\u001b[1;33m\u001b[0m\u001b[1;33m\u001b[0m\u001b[0m\n\u001b[0;32m      3\u001b[0m \u001b[1;31m#it gives error\u001b[0m\u001b[1;33m\u001b[0m\u001b[1;33m\u001b[0m\u001b[1;33m\u001b[0m\u001b[0m\n\u001b[0;32m      4\u001b[0m \u001b[1;33m\u001b[0m\u001b[0m\n\u001b[0;32m      5\u001b[0m \u001b[0mlambda_poisson\u001b[0m \u001b[1;33m=\u001b[0m \u001b[1;36m2.3\u001b[0m \u001b[1;33m*\u001b[0m \u001b[1;36m2\u001b[0m\u001b[1;33m\u001b[0m\u001b[1;33m\u001b[0m\u001b[0m\n",
      "\u001b[1;31mNameError\u001b[0m: name 'lambda_poisson' is not defined"
     ]
    }
   ],
   "source": [
    "print(((lambda_poisson**3)*((np.exp(1))**(-3)))/(3*2*1))\n",
    "#paolo: be careful here I think you forgot to remove this cell\n",
    "#it gives error because lambda_poisson is not defined- remember to cleanup and run notebook top to bottom before submitting it\n",
    "# see checklist on trello\n",
    "\n",
    "lambda_poisson = 2.3 * 2 \n",
    "poisson = stats.poisson(lambda_poisson)\n",
    "poisson.pmf(3)"
   ]
  },
  {
   "cell_type": "code",
   "execution_count": 12,
   "metadata": {
    "Collapsed": "false"
   },
   "outputs": [
    {
     "data": {
      "text/plain": [
       "2.718281828459045"
      ]
     },
     "execution_count": 12,
     "metadata": {},
     "output_type": "execute_result"
    }
   ],
   "source": [
    "np.exp(1)"
   ]
  },
  {
   "cell_type": "code",
   "execution_count": 13,
   "metadata": {
    "Collapsed": "false"
   },
   "outputs": [
    {
     "data": {
      "text/plain": [
       "0.053775025581946814"
      ]
     },
     "execution_count": 13,
     "metadata": {},
     "output_type": "execute_result"
    }
   ],
   "source": [
    "'''\n",
    "lambda (l) = mean\n",
    "x = number of occurency\n",
    "\n",
    "Poisson's probability dist func = ( (l^(x)) * (e^(-l)) ) /  x!\n",
    "'''\n",
    "l = 2.3   # mean\n",
    "x = 5     # probability of 5 goals\n",
    "\n",
    "lambda_poisson = 2.3 \n",
    "poisson = stats.poisson(lambda_poisson)\n",
    "poisson.pmf(5)"
   ]
  },
  {
   "cell_type": "markdown",
   "metadata": {
    "Collapsed": "false"
   },
   "source": [
    "**Draw a poisson probability distribution plot for the number of goals to be between 0 to 10.**"
   ]
  },
  {
   "cell_type": "code",
   "execution_count": 14,
   "metadata": {
    "Collapsed": "false"
   },
   "outputs": [
    {
     "data": {
      "text/plain": [
       "0.053775025581946814"
      ]
     },
     "execution_count": 14,
     "metadata": {},
     "output_type": "execute_result"
    }
   ],
   "source": [
    "poisson.pmf(5)"
   ]
  },
  {
   "cell_type": "code",
   "execution_count": 15,
   "metadata": {
    "Collapsed": "false"
   },
   "outputs": [],
   "source": [
    "#paolo:yes"
   ]
  },
  {
   "cell_type": "code",
   "execution_count": 16,
   "metadata": {
    "Collapsed": "false"
   },
   "outputs": [
    {
     "data": {
      "image/png": "[encoded data removed]",
      "text/plain": [
       "<Figure size 432x288 with 1 Axes>"
      ]
     },
     "metadata": {
      "needs_background": "light"
     },
     "output_type": "display_data"
    }
   ],
   "source": [
    "# your code here\n",
    "# Please label the axes and give a title to the plot \n",
    "\n",
    "x= np.arange(0,10)\n",
    "fig, ax = plt.subplots(1, 1)\n",
    "ax.plot(x, poisson.pmf(x),'g')#,ms=1,label='poisson pmf')\n",
    "ax.vlines(x, 0, poisson.pmf(x), colors='g', lw=3, alpha=0.3)\n",
    "ax.set_xlabel('Number of goals')\n",
    "ax.set_ylabel('Probability')\n",
    "ax.set_title(\"Poisson Probability Distribution\",size=15,fontweight=\"bold\",pad=12)\n",
    "ax.set_xticks(np.arange(0,10))\n",
    "#ax.set_xticklabels([i for i in range(1,11)])\n",
    "#paolo: be careful here, I had to comment out the previous line because it would give you the wrong values for the number of goals\n",
    "# you had the wrong pairing for number of goals-probability\n",
    "#paolo: I like the style of your  plot! Maybe make it a bit bigger\n",
    "plt.show\n",
    "plt.grid(True)"
   ]
  },
  {
   "cell_type": "code",
   "execution_count": 18,
   "metadata": {
    "Collapsed": "false"
   },
   "outputs": [],
   "source": [
    "#paolo: very good work with probability Gorkem!-(remember to clean-up and run notebook from top to bottom before submitting it)"
   ]
  }
 ],
 "metadata": {
  "kernelspec": {
   "display_name": "Python 3",
   "language": "python",
   "name": "python3"
  },
  "language_info": {
   "codemirror_mode": {
    "name": "ipython",
    "version": 3
   },
   "file_extension": ".py",
   "mimetype": "text/x-python",
   "name": "python",
   "nbconvert_exporter": "python",
   "pygments_lexer": "ipython3",
   "version": "3.7.6"
  }
 },
 "nbformat": 4,
 "nbformat_minor": 4
}
