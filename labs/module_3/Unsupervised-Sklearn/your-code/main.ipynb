{
 "cells": [
  {
   "cell_type": "markdown",
   "metadata": {
    "Collapsed": "false"
   },
   "source": [
    "# Before your start:\n",
    "- Read the README.md file\n",
    "- Comment as much as you can and use the resources in the README.md file\n",
    "- Happy learning!\n"
   ]
  },
  {
   "cell_type": "code",
   "execution_count": 1,
   "metadata": {
    "Collapsed": "false"
   },
   "outputs": [],
   "source": [
    "#Import your libraries\n",
    "import numpy as np\n",
    "import pandas as pd\n",
    "from matplotlib import pyplot as plt \n",
    "import sklearn\n",
    "from sklearn import datasets\n",
    "from sklearn import preprocessing"
   ]
  },
  {
   "cell_type": "markdown",
   "metadata": {
    "Collapsed": "false"
   },
   "source": [
    "# Challenge 1 -  Explore the Internal Dataset\n",
    "\n",
    "In this lab, we will start off by working with the wine dataset in scikit-learn. We will select the wine dataset and use a clustering algorithm to learn more about the functionalities of this library. \n",
    "\n",
    "We start off by loading the dataset using the `load_wine` function ([documentation](https://scikit-learn.org/stable/modules/generated/sklearn.datasets.load_wine.html)). In the cell below, we will import the function from scikit-learn."
   ]
  },
  {
   "cell_type": "code",
   "execution_count": 2,
   "metadata": {
    "Collapsed": "false"
   },
   "outputs": [],
   "source": [
    "from sklearn.datasets import load_wine"
   ]
  },
  {
   "cell_type": "markdown",
   "metadata": {
    "Collapsed": "false"
   },
   "source": [
    "In the cell below, use the `load_wine` function and assign the wine dataset to a variable called `wine`."
   ]
  },
  {
   "cell_type": "code",
   "execution_count": 3,
   "metadata": {
    "Collapsed": "false"
   },
   "outputs": [],
   "source": [
    "# Your code here:\n",
    "wine=sklearn.datasets.load_wine()"
   ]
  },
  {
   "cell_type": "markdown",
   "metadata": {
    "Collapsed": "false"
   },
   "source": [
    "In the next step, list the keys of the variable `wine` to examine its contents. Note that the `load_wine` function does not return dataframes. It returns you a Python dictionary."
   ]
  },
  {
   "cell_type": "code",
   "execution_count": 4,
   "metadata": {
    "Collapsed": "false"
   },
   "outputs": [
    {
     "data": {
      "text/plain": [
       "dict_keys(['data', 'target', 'frame', 'target_names', 'DESCR', 'feature_names'])"
      ]
     },
     "execution_count": 4,
     "metadata": {},
     "output_type": "execute_result"
    }
   ],
   "source": [
    "# Your code here:\n",
    "wine.keys()"
   ]
  },
  {
   "cell_type": "markdown",
   "metadata": {
    "Collapsed": "false"
   },
   "source": [
    "Next, list the feature names. These are the different characteristics of the wine. "
   ]
  },
  {
   "cell_type": "code",
   "execution_count": 5,
   "metadata": {
    "Collapsed": "false"
   },
   "outputs": [
    {
     "data": {
      "text/plain": [
       "['alcohol',\n",
       " 'malic_acid',\n",
       " 'ash',\n",
       " 'alcalinity_of_ash',\n",
       " 'magnesium',\n",
       " 'total_phenols',\n",
       " 'flavanoids',\n",
       " 'nonflavanoid_phenols',\n",
       " 'proanthocyanins',\n",
       " 'color_intensity',\n",
       " 'hue',\n",
       " 'od280/od315_of_diluted_wines',\n",
       " 'proline']"
      ]
     },
     "execution_count": 5,
     "metadata": {},
     "output_type": "execute_result"
    }
   ],
   "source": [
    "# Your code here:\n",
    "wine['feature_names']"
   ]
  },
  {
   "cell_type": "code",
   "execution_count": 6,
   "metadata": {
    "Collapsed": "false"
   },
   "outputs": [
    {
     "data": {
      "text/plain": [
       "array([[1.423e+01, 1.710e+00, 2.430e+00, ..., 1.040e+00, 3.920e+00,\n",
       "        1.065e+03],\n",
       "       [1.320e+01, 1.780e+00, 2.140e+00, ..., 1.050e+00, 3.400e+00,\n",
       "        1.050e+03],\n",
       "       [1.316e+01, 2.360e+00, 2.670e+00, ..., 1.030e+00, 3.170e+00,\n",
       "        1.185e+03],\n",
       "       ...,\n",
       "       [1.327e+01, 4.280e+00, 2.260e+00, ..., 5.900e-01, 1.560e+00,\n",
       "        8.350e+02],\n",
       "       [1.317e+01, 2.590e+00, 2.370e+00, ..., 6.000e-01, 1.620e+00,\n",
       "        8.400e+02],\n",
       "       [1.413e+01, 4.100e+00, 2.740e+00, ..., 6.100e-01, 1.600e+00,\n",
       "        5.600e+02]])"
      ]
     },
     "execution_count": 6,
     "metadata": {},
     "output_type": "execute_result"
    }
   ],
   "source": [
    "wine['data']"
   ]
  },
  {
   "cell_type": "code",
   "execution_count": 7,
   "metadata": {
    "Collapsed": "false"
   },
   "outputs": [],
   "source": [
    "#result = wine.items()  \n",
    "#data = list(result) \n",
    "#Wine = np.array(data) \n",
    "#print(Wine)"
   ]
  },
  {
   "cell_type": "markdown",
   "metadata": {
    "Collapsed": "false"
   },
   "source": [
    "Print the description of the dataset in the cell below using the `DESCR` attribute of the `wine` variable.\n",
    "\n",
    "*Hint: If your output is ill-formatted by displaying linebreaks as `\\n`, it means you are not using the print function.*"
   ]
  },
  {
   "cell_type": "code",
   "execution_count": 8,
   "metadata": {
    "Collapsed": "false"
   },
   "outputs": [
    {
     "name": "stdout",
     "output_type": "stream",
     "text": [
      ".. _wine_dataset:\n",
      "\n",
      "Wine recognition dataset\n",
      "------------------------\n",
      "\n",
      "**Data Set Characteristics:**\n",
      "\n",
      "    :Number of Instances: 178 (50 in each of three classes)\n",
      "    :Number of Attributes: 13 numeric, predictive attributes and the class\n",
      "    :Attribute Information:\n",
      " \t\t- Alcohol\n",
      " \t\t- Malic acid\n",
      " \t\t- Ash\n",
      "\t\t- Alcalinity of ash  \n",
      " \t\t- Magnesium\n",
      "\t\t- Total phenols\n",
      " \t\t- Flavanoids\n",
      " \t\t- Nonflavanoid phenols\n",
      " \t\t- Proanthocyanins\n",
      "\t\t- Color intensity\n",
      " \t\t- Hue\n",
      " \t\t- OD280/OD315 of diluted wines\n",
      " \t\t- Proline\n",
      "\n",
      "    - class:\n",
      "            - class_0\n",
      "            - class_1\n",
      "            - class_2\n",
      "\t\t\n",
      "    :Summary Statistics:\n",
      "    \n",
      "    ============================= ==== ===== ======= =====\n",
      "                                   Min   Max   Mean     SD\n",
      "    ============================= ==== ===== ======= =====\n",
      "    Alcohol:                      11.0  14.8    13.0   0.8\n",
      "    Malic Acid:                   0.74  5.80    2.34  1.12\n",
      "    Ash:                          1.36  3.23    2.36  0.27\n",
      "    Alcalinity of Ash:            10.6  30.0    19.5   3.3\n",
      "    Magnesium:                    70.0 162.0    99.7  14.3\n",
      "    Total Phenols:                0.98  3.88    2.29  0.63\n",
      "    Flavanoids:                   0.34  5.08    2.03  1.00\n",
      "    Nonflavanoid Phenols:         0.13  0.66    0.36  0.12\n",
      "    Proanthocyanins:              0.41  3.58    1.59  0.57\n",
      "    Colour Intensity:              1.3  13.0     5.1   2.3\n",
      "    Hue:                          0.48  1.71    0.96  0.23\n",
      "    OD280/OD315 of diluted wines: 1.27  4.00    2.61  0.71\n",
      "    Proline:                       278  1680     746   315\n",
      "    ============================= ==== ===== ======= =====\n",
      "\n",
      "    :Missing Attribute Values: None\n",
      "    :Class Distribution: class_0 (59), class_1 (71), class_2 (48)\n",
      "    :Creator: R.A. Fisher\n",
      "    :Donor: Michael Marshall (MARSHALL%PLU@io.arc.nasa.gov)\n",
      "    :Date: July, 1988\n",
      "\n",
      "This is a copy of UCI ML Wine recognition datasets.\n",
      "https://archive.ics.uci.edu/ml/machine-learning-databases/wine/wine.data\n",
      "\n",
      "The data is the results of a chemical analysis of wines grown in the same\n",
      "region in Italy by three different cultivators. There are thirteen different\n",
      "measurements taken for different constituents found in the three types of\n",
      "wine.\n",
      "\n",
      "Original Owners: \n",
      "\n",
      "Forina, M. et al, PARVUS - \n",
      "An Extendible Package for Data Exploration, Classification and Correlation. \n",
      "Institute of Pharmaceutical and Food Analysis and Technologies,\n",
      "Via Brigata Salerno, 16147 Genoa, Italy.\n",
      "\n",
      "Citation:\n",
      "\n",
      "Lichman, M. (2013). UCI Machine Learning Repository\n",
      "[https://archive.ics.uci.edu/ml]. Irvine, CA: University of California,\n",
      "School of Information and Computer Science. \n",
      "\n",
      ".. topic:: References\n",
      "\n",
      "  (1) S. Aeberhard, D. Coomans and O. de Vel, \n",
      "  Comparison of Classifiers in High Dimensional Settings, \n",
      "  Tech. Rep. no. 92-02, (1992), Dept. of Computer Science and Dept. of  \n",
      "  Mathematics and Statistics, James Cook University of North Queensland. \n",
      "  (Also submitted to Technometrics). \n",
      "\n",
      "  The data was used with many others for comparing various \n",
      "  classifiers. The classes are separable, though only RDA \n",
      "  has achieved 100% correct classification. \n",
      "  (RDA : 100%, QDA 99.4%, LDA 98.9%, 1NN 96.1% (z-transformed data)) \n",
      "  (All results using the leave-one-out technique) \n",
      "\n",
      "  (2) S. Aeberhard, D. Coomans and O. de Vel, \n",
      "  \"THE CLASSIFICATION PERFORMANCE OF RDA\" \n",
      "  Tech. Rep. no. 92-01, (1992), Dept. of Computer Science and Dept. of \n",
      "  Mathematics and Statistics, James Cook University of North Queensland. \n",
      "  (Also submitted to Journal of Chemometrics).\n",
      "\n"
     ]
    }
   ],
   "source": [
    "# Your code here:\n",
    "wine.DESCR\n",
    "print(wine.DESCR)"
   ]
  },
  {
   "cell_type": "markdown",
   "metadata": {
    "Collapsed": "false"
   },
   "source": [
    "#### From the description, we see that all columns are numeric. We also know that there is no missing data \n",
    "\n",
    "Let's plot the alcohol content histogram. Recall that we are working with a numpy array and will need to use a matplotlib function to produce a histogram. "
   ]
  },
  {
   "cell_type": "code",
   "execution_count": 9,
   "metadata": {
    "Collapsed": "false"
   },
   "outputs": [],
   "source": [
    "# imports"
   ]
  },
  {
   "cell_type": "code",
   "execution_count": 10,
   "metadata": {
    "Collapsed": "false"
   },
   "outputs": [],
   "source": [
    "data = load_wine().data\n",
    "wine1 = pd.DataFrame(data,columns = wine['feature_names'])"
   ]
  },
  {
   "cell_type": "code",
   "execution_count": 11,
   "metadata": {
    "Collapsed": "false"
   },
   "outputs": [
    {
     "data": {
      "image/png": "[encoded data removed]",
      "text/plain": [
       "<Figure size 432x288 with 1 Axes>"
      ]
     },
     "metadata": {
      "needs_background": "light"
     },
     "output_type": "display_data"
    }
   ],
   "source": [
    "# Your code here:\n",
    "x = wine1['alcohol']\n",
    "plt.hist(x)\n",
    "plt.xlabel('Alcohol Content')\n",
    "plt.ylabel('Count')\n",
    "plt.show()"
   ]
  },
  {
   "cell_type": "markdown",
   "metadata": {
    "Collapsed": "false"
   },
   "source": [
    "# Challenge 2 - Clustering the Internal Dataset\n",
    "\n",
    "In this portion of the lab, we will cluster the data to find common traits between the different wines. We will use the k-means clustering algorithm to achieve this goal.\n",
    "\n",
    "#### We start by importing k-means from scikit-learn and then proceed to create 4 clusters."
   ]
  },
  {
   "cell_type": "code",
   "execution_count": 12,
   "metadata": {
    "Collapsed": "false"
   },
   "outputs": [],
   "source": [
    "# imports\n",
    "from sklearn.cluster import KMeans"
   ]
  },
  {
   "cell_type": "code",
   "execution_count": 13,
   "metadata": {
    "Collapsed": "false"
   },
   "outputs": [],
   "source": [
    "# Your code here:\n",
    "X = wine1\n",
    "kmeans = KMeans(n_clusters=4, random_state=0).fit(X)"
   ]
  },
  {
   "cell_type": "markdown",
   "metadata": {
    "Collapsed": "false"
   },
   "source": [
    "#### Print the cluster labels."
   ]
  },
  {
   "cell_type": "code",
   "execution_count": 14,
   "metadata": {
    "Collapsed": "false"
   },
   "outputs": [
    {
     "data": {
      "text/plain": [
       "array([2, 2, 0, 0, 1, 0, 0, 0, 2, 2, 0, 0, 0, 2, 0, 0, 0, 2, 0, 2, 1, 1,\n",
       "       2, 2, 2, 2, 0, 0, 2, 2, 0, 0, 2, 0, 2, 2, 2, 2, 2, 1, 1, 2, 2, 1,\n",
       "       2, 2, 2, 2, 2, 0, 2, 0, 0, 0, 2, 2, 2, 0, 0, 3, 1, 3, 1, 3, 3, 1,\n",
       "       3, 3, 1, 1, 2, 3, 3, 2, 2, 3, 3, 3, 1, 3, 3, 1, 1, 3, 3, 3, 3, 1,\n",
       "       1, 1, 3, 3, 3, 3, 3, 2, 1, 3, 1, 3, 1, 1, 3, 3, 1, 3, 3, 3, 3, 1,\n",
       "       1, 3, 1, 3, 3, 3, 3, 3, 3, 1, 1, 3, 3, 3, 3, 3, 3, 3, 3, 1, 1, 3,\n",
       "       1, 1, 1, 1, 1, 3, 1, 1, 1, 1, 3, 1, 2, 2, 3, 1, 1, 1, 3, 3, 3, 1,\n",
       "       1, 1, 3, 2, 1, 1, 3, 1, 1, 1, 1, 3, 1, 1, 1, 1, 3, 3, 1, 1, 1, 2,\n",
       "       2, 1])"
      ]
     },
     "execution_count": 14,
     "metadata": {},
     "output_type": "execute_result"
    }
   ],
   "source": [
    "# Your code here:\n",
    "kmeans.labels_"
   ]
  },
  {
   "cell_type": "markdown",
   "metadata": {
    "Collapsed": "false"
   },
   "source": [
    "#### Compute the size of each cluster. This can be done by counting the number of occurrences of each unique label in the list above.\n",
    "\n",
    "Which is the largest cluster of the 4?"
   ]
  },
  {
   "cell_type": "code",
   "execution_count": 15,
   "metadata": {
    "Collapsed": "false"
   },
   "outputs": [
    {
     "name": "stdout",
     "output_type": "stream",
     "text": [
      "[[ 0 23]\n",
      " [ 1 59]\n",
      " [ 2 39]\n",
      " [ 3 57]]\n"
     ]
    }
   ],
   "source": [
    "# Your code here:\n",
    "kmeans.labels_\n",
    "(unique, counts) = np.unique(kmeans.labels_, return_counts=True)\n",
    "frequencies = np.asarray((unique, counts)).T\n",
    "print(frequencies)"
   ]
  },
  {
   "cell_type": "code",
   "execution_count": 16,
   "metadata": {
    "Collapsed": "false"
   },
   "outputs": [],
   "source": [
    "# Your answer here:\n",
    "#Cluster 0 has the most occurences, with 66 items"
   ]
  },
  {
   "cell_type": "markdown",
   "metadata": {
    "Collapsed": "false"
   },
   "source": [
    "#### Inspect the shape of `wine['data']`"
   ]
  },
  {
   "cell_type": "code",
   "execution_count": 17,
   "metadata": {
    "Collapsed": "false"
   },
   "outputs": [
    {
     "data": {
      "text/plain": [
       "(178, 13)"
      ]
     },
     "execution_count": 17,
     "metadata": {},
     "output_type": "execute_result"
    }
   ],
   "source": [
    "# Your code here:\n",
    "wine['data'].shape"
   ]
  },
  {
   "cell_type": "markdown",
   "metadata": {
    "Collapsed": "false"
   },
   "source": [
    "#### Inspect the first 5 records in `wine['data']`"
   ]
  },
  {
   "cell_type": "code",
   "execution_count": 18,
   "metadata": {
    "Collapsed": "false"
   },
   "outputs": [
    {
     "data": {
      "text/plain": [
       "array([[1.423e+01, 1.710e+00, 2.430e+00, 1.560e+01, 1.270e+02, 2.800e+00,\n",
       "        3.060e+00, 2.800e-01, 2.290e+00, 5.640e+00, 1.040e+00, 3.920e+00,\n",
       "        1.065e+03],\n",
       "       [1.320e+01, 1.780e+00, 2.140e+00, 1.120e+01, 1.000e+02, 2.650e+00,\n",
       "        2.760e+00, 2.600e-01, 1.280e+00, 4.380e+00, 1.050e+00, 3.400e+00,\n",
       "        1.050e+03],\n",
       "       [1.316e+01, 2.360e+00, 2.670e+00, 1.860e+01, 1.010e+02, 2.800e+00,\n",
       "        3.240e+00, 3.000e-01, 2.810e+00, 5.680e+00, 1.030e+00, 3.170e+00,\n",
       "        1.185e+03],\n",
       "       [1.437e+01, 1.950e+00, 2.500e+00, 1.680e+01, 1.130e+02, 3.850e+00,\n",
       "        3.490e+00, 2.400e-01, 2.180e+00, 7.800e+00, 8.600e-01, 3.450e+00,\n",
       "        1.480e+03],\n",
       "       [1.324e+01, 2.590e+00, 2.870e+00, 2.100e+01, 1.180e+02, 2.800e+00,\n",
       "        2.690e+00, 3.900e-01, 1.820e+00, 4.320e+00, 1.040e+00, 2.930e+00,\n",
       "        7.350e+02]])"
      ]
     },
     "execution_count": 18,
     "metadata": {},
     "output_type": "execute_result"
    }
   ],
   "source": [
    "# Your code here:\n",
    "wine['data'][:5]"
   ]
  },
  {
   "cell_type": "markdown",
   "metadata": {
    "Collapsed": "false"
   },
   "source": [
    "You now know the data object is a 2-dimensional array in which there are 178 rows and 13 columns. Each row is a data record and each column is a feature.\n",
    "\n",
    "#### What is the average ash content for each cluster? \n",
    "\n",
    "*Hints:* \n",
    "\n",
    "* *Ash* is the 3rd column.\n",
    "\n",
    "* The data object is not a Pandas dataframe so you can't apply `pandas.DataFrame.groupby`. Instead, you can use `np.average`."
   ]
  },
  {
   "cell_type": "code",
   "execution_count": 19,
   "metadata": {
    "Collapsed": "false"
   },
   "outputs": [
    {
     "name": "stdout",
     "output_type": "stream",
     "text": [
      "126.96076923076923\n"
     ]
    }
   ],
   "source": [
    "# Your code here:\n",
    "averageAsh = np.average(wine['data'][3])\n",
    "print(averageAsh)"
   ]
  },
  {
   "cell_type": "code",
   "execution_count": 50,
   "metadata": {
    "Collapsed": "false"
   },
   "outputs": [
    {
     "name": "stdout",
     "output_type": "stream",
     "text": [
      "Cluster 0 Average: 2.5069565217391307\n",
      "Cluster 1 Average: 2.3793220338983043\n",
      "Cluster 2 Average: 2.390769230769231\n",
      "Cluster 3 Average: 2.28\n"
     ]
    }
   ],
   "source": [
    "#paolo: here the idea was to look for a valueper cluster\n",
    "unique , _ = np.unique(kmeans.labels_, return_counts=True)\n",
    "# Your code here:\n",
    "for u in unique:\n",
    "    print(\"Cluster\",u, \"Average:\", np.average(wine.data[:,2][np.where(kmeans.labels_ == u)]))"
   ]
  },
  {
   "cell_type": "markdown",
   "metadata": {
    "Collapsed": "false"
   },
   "source": [
    "# Challenge 3 - Load and Explore an External Dataset\n",
    "\n",
    "We will now load an external dataset using Pandas and use scikit learn to explore the data. In this portion of the lab, we will use a [patient dataset from Kaggle](https://www.kaggle.com/miles99/patient-admission-dataset-for-learning-data-mining). Download it from [here](https://drive.google.com/file/d/1jIGrckDaQ7_rtCSzqyuTiCyAhmliyBAS/view?usp=sharing) and place it in the data folder"
   ]
  },
  {
   "cell_type": "code",
   "execution_count": 20,
   "metadata": {
    "Collapsed": "false"
   },
   "outputs": [],
   "source": [
    "patient=pd.read_csv('../data/patient-admission-dataset-for-learning-data-mining.csv')"
   ]
  },
  {
   "cell_type": "markdown",
   "metadata": {
    "Collapsed": "false"
   },
   "source": [
    "In the next cell, print the first five rows of the data using the `head()` function."
   ]
  },
  {
   "cell_type": "code",
   "execution_count": 21,
   "metadata": {
    "Collapsed": "false"
   },
   "outputs": [
    {
     "data": {
      "text/html": [
       "<div>\n",
       "<style scoped>\n",
       "    .dataframe tbody tr th:only-of-type {\n",
       "        vertical-align: middle;\n",
       "    }\n",
       "\n",
       "    .dataframe tbody tr th {\n",
       "        vertical-align: top;\n",
       "    }\n",
       "\n",
       "    .dataframe thead th {\n",
       "        text-align: right;\n",
       "    }\n",
       "</style>\n",
       "<table border=\"1\" class=\"dataframe\">\n",
       "  <thead>\n",
       "    <tr style=\"text-align: right;\">\n",
       "      <th></th>\n",
       "      <th>id</th>\n",
       "      <th>patient_name</th>\n",
       "      <th>patient_email</th>\n",
       "      <th>doctor_phone</th>\n",
       "      <th>patient_gender</th>\n",
       "      <th>patient_dob</th>\n",
       "      <th>patient_diabetic</th>\n",
       "      <th>patient_allergic</th>\n",
       "      <th>patient_weight_kg</th>\n",
       "      <th>patient_height_sm</th>\n",
       "      <th>patient_nhs_number</th>\n",
       "      <th>doctor_name</th>\n",
       "      <th>appointment_date</th>\n",
       "      <th>patient_show</th>\n",
       "      <th>is_regular_visit</th>\n",
       "      <th>prescribed_medicines</th>\n",
       "      <th>diagnosis</th>\n",
       "    </tr>\n",
       "  </thead>\n",
       "  <tbody>\n",
       "    <tr>\n",
       "      <th>0</th>\n",
       "      <td>1</td>\n",
       "      <td>Celestyna Dillimore</td>\n",
       "      <td>cdillimore0@dion.ne.jp</td>\n",
       "      <td>674-914-1212</td>\n",
       "      <td>Female</td>\n",
       "      <td>10/18/2018</td>\n",
       "      <td>False</td>\n",
       "      <td>True</td>\n",
       "      <td>59</td>\n",
       "      <td>176</td>\n",
       "      <td>8.200152e+09</td>\n",
       "      <td>Sarena Waliszek</td>\n",
       "      <td>5/1/2018</td>\n",
       "      <td>True</td>\n",
       "      <td>True</td>\n",
       "      <td>triamcinolone acetonide</td>\n",
       "      <td>I669</td>\n",
       "    </tr>\n",
       "    <tr>\n",
       "      <th>1</th>\n",
       "      <td>2</td>\n",
       "      <td>Meta Michieli</td>\n",
       "      <td>mmichieli1@loc.gov</td>\n",
       "      <td>172-580-3586</td>\n",
       "      <td>Female</td>\n",
       "      <td>2/8/2018</td>\n",
       "      <td>False</td>\n",
       "      <td>True</td>\n",
       "      <td>77</td>\n",
       "      <td>186</td>\n",
       "      <td>NaN</td>\n",
       "      <td>Farris Robinet</td>\n",
       "      <td>12/7/2017</td>\n",
       "      <td>True</td>\n",
       "      <td>True</td>\n",
       "      <td>NaN</td>\n",
       "      <td>NaN</td>\n",
       "    </tr>\n",
       "    <tr>\n",
       "      <th>2</th>\n",
       "      <td>3</td>\n",
       "      <td>Cordie Sancto</td>\n",
       "      <td>csancto2@cafepress.com</td>\n",
       "      <td>794-222-5085</td>\n",
       "      <td>Female</td>\n",
       "      <td>10/9/2018</td>\n",
       "      <td>True</td>\n",
       "      <td>True</td>\n",
       "      <td>90</td>\n",
       "      <td>177</td>\n",
       "      <td>6.145594e+09</td>\n",
       "      <td>Kaspar Spitaro</td>\n",
       "      <td>10/5/2018</td>\n",
       "      <td>False</td>\n",
       "      <td>False</td>\n",
       "      <td>NaN</td>\n",
       "      <td>NaN</td>\n",
       "    </tr>\n",
       "    <tr>\n",
       "      <th>3</th>\n",
       "      <td>4</td>\n",
       "      <td>Josh De Ambrosis</td>\n",
       "      <td>jde3@amazon.co.jp</td>\n",
       "      <td>856-540-5195</td>\n",
       "      <td>Male</td>\n",
       "      <td>9/10/2018</td>\n",
       "      <td>True</td>\n",
       "      <td>True</td>\n",
       "      <td>70</td>\n",
       "      <td>150</td>\n",
       "      <td>NaN</td>\n",
       "      <td>Rafferty Fowls</td>\n",
       "      <td>10/21/2018</td>\n",
       "      <td>False</td>\n",
       "      <td>True</td>\n",
       "      <td>NaN</td>\n",
       "      <td>NaN</td>\n",
       "    </tr>\n",
       "    <tr>\n",
       "      <th>4</th>\n",
       "      <td>5</td>\n",
       "      <td>Delinda Alfonsini</td>\n",
       "      <td>dalfonsini4@opensource.org</td>\n",
       "      <td>938-978-1131</td>\n",
       "      <td>Female</td>\n",
       "      <td>2/26/2018</td>\n",
       "      <td>False</td>\n",
       "      <td>True</td>\n",
       "      <td>82</td>\n",
       "      <td>140</td>\n",
       "      <td>4.804758e+08</td>\n",
       "      <td>Glenna MacNeachtain</td>\n",
       "      <td>11/15/2018</td>\n",
       "      <td>False</td>\n",
       "      <td>False</td>\n",
       "      <td>NaN</td>\n",
       "      <td>NaN</td>\n",
       "    </tr>\n",
       "  </tbody>\n",
       "</table>\n",
       "</div>"
      ],
      "text/plain": [
       "   id         patient_name               patient_email  doctor_phone  \\\n",
       "0   1  Celestyna Dillimore      cdillimore0@dion.ne.jp  674-914-1212   \n",
       "1   2        Meta Michieli          mmichieli1@loc.gov  172-580-3586   \n",
       "2   3        Cordie Sancto      csancto2@cafepress.com  794-222-5085   \n",
       "3   4     Josh De Ambrosis           jde3@amazon.co.jp  856-540-5195   \n",
       "4   5    Delinda Alfonsini  dalfonsini4@opensource.org  938-978-1131   \n",
       "\n",
       "  patient_gender patient_dob  patient_diabetic  patient_allergic  \\\n",
       "0         Female  10/18/2018             False              True   \n",
       "1         Female    2/8/2018             False              True   \n",
       "2         Female   10/9/2018              True              True   \n",
       "3           Male   9/10/2018              True              True   \n",
       "4         Female   2/26/2018             False              True   \n",
       "\n",
       "   patient_weight_kg  patient_height_sm  patient_nhs_number  \\\n",
       "0                 59                176        8.200152e+09   \n",
       "1                 77                186                 NaN   \n",
       "2                 90                177        6.145594e+09   \n",
       "3                 70                150                 NaN   \n",
       "4                 82                140        4.804758e+08   \n",
       "\n",
       "           doctor_name appointment_date  patient_show  is_regular_visit  \\\n",
       "0      Sarena Waliszek         5/1/2018          True              True   \n",
       "1       Farris Robinet        12/7/2017          True              True   \n",
       "2       Kaspar Spitaro        10/5/2018         False             False   \n",
       "3       Rafferty Fowls       10/21/2018         False              True   \n",
       "4  Glenna MacNeachtain       11/15/2018         False             False   \n",
       "\n",
       "      prescribed_medicines diagnosis  \n",
       "0  triamcinolone acetonide      I669  \n",
       "1                      NaN       NaN  \n",
       "2                      NaN       NaN  \n",
       "3                      NaN       NaN  \n",
       "4                      NaN       NaN  "
      ]
     },
     "execution_count": 21,
     "metadata": {},
     "output_type": "execute_result"
    }
   ],
   "source": [
    "# Your code here:\n",
    "patient.head()"
   ]
  },
  {
   "cell_type": "markdown",
   "metadata": {
    "Collapsed": "false"
   },
   "source": [
    "Next, print the column types and check which columns have been misclassified by pandas."
   ]
  },
  {
   "cell_type": "code",
   "execution_count": 22,
   "metadata": {
    "Collapsed": "false"
   },
   "outputs": [
    {
     "data": {
      "text/plain": [
       "id                        int64\n",
       "patient_name             object\n",
       "patient_email            object\n",
       "doctor_phone             object\n",
       "patient_gender           object\n",
       "patient_dob              object\n",
       "patient_diabetic           bool\n",
       "patient_allergic           bool\n",
       "patient_weight_kg         int64\n",
       "patient_height_sm         int64\n",
       "patient_nhs_number      float64\n",
       "doctor_name              object\n",
       "appointment_date         object\n",
       "patient_show               bool\n",
       "is_regular_visit           bool\n",
       "prescribed_medicines     object\n",
       "diagnosis                object\n",
       "dtype: object"
      ]
     },
     "execution_count": 22,
     "metadata": {},
     "output_type": "execute_result"
    }
   ],
   "source": [
    "# Your code here:\n",
    "patient.dtypes"
   ]
  },
  {
   "cell_type": "markdown",
   "metadata": {
    "Collapsed": "false"
   },
   "source": [
    "#### We can see that none of the date columns have been correctly classified. Also, some columns contain qualitative data that can be dropped.\n",
    "\n",
    "First, transform the `patient_dob` and `appointment_date` columns to datetime using the `pd.to_datetime` function."
   ]
  },
  {
   "cell_type": "code",
   "execution_count": 23,
   "metadata": {
    "Collapsed": "false"
   },
   "outputs": [],
   "source": [
    "# Your code here:\n",
    "patient[[\"patient_dob\", \"appointment_date\"]] = patient[[\"patient_dob\", \"appointment_date\"]].apply(pd.to_datetime)"
   ]
  },
  {
   "cell_type": "code",
   "execution_count": 24,
   "metadata": {
    "Collapsed": "false"
   },
   "outputs": [
    {
     "data": {
      "text/plain": [
       "id                               int64\n",
       "patient_name                    object\n",
       "patient_email                   object\n",
       "doctor_phone                    object\n",
       "patient_gender                  object\n",
       "patient_dob             datetime64[ns]\n",
       "patient_diabetic                  bool\n",
       "patient_allergic                  bool\n",
       "patient_weight_kg                int64\n",
       "patient_height_sm                int64\n",
       "patient_nhs_number             float64\n",
       "doctor_name                     object\n",
       "appointment_date        datetime64[ns]\n",
       "patient_show                      bool\n",
       "is_regular_visit                  bool\n",
       "prescribed_medicines            object\n",
       "diagnosis                       object\n",
       "dtype: object"
      ]
     },
     "execution_count": 24,
     "metadata": {},
     "output_type": "execute_result"
    }
   ],
   "source": [
    "patient.dtypes"
   ]
  },
  {
   "cell_type": "markdown",
   "metadata": {
    "Collapsed": "false"
   },
   "source": [
    "Next, drop the `id`, `patient_name`, `patient_email`, `patient_nhs_number`, and `doctor_phone` columns. These are not quantitative columns and will not contribute to our analysis."
   ]
  },
  {
   "cell_type": "code",
   "execution_count": 25,
   "metadata": {
    "Collapsed": "false"
   },
   "outputs": [],
   "source": [
    "# Your code here:\n",
    "patient.drop(['id','patient_name','patient_email','patient_nhs_number','doctor_phone'], axis = 1, inplace=True)"
   ]
  },
  {
   "cell_type": "markdown",
   "metadata": {
    "Collapsed": "false"
   },
   "source": [
    "Now we work on the missing data. Most ML algorithms will not perform as intended if there are missing data.\n",
    "\n",
    "In the cell below, count how many rows contain missing data in each column. You should see three columns contain missing data:\n",
    "\n",
    "* `doctor_name`: 58 missing data\n",
    "* `prescribed_medicines`: 488 missing data\n",
    "* `diagnosis`: 488 missing data"
   ]
  },
  {
   "cell_type": "code",
   "execution_count": 26,
   "metadata": {
    "Collapsed": "false"
   },
   "outputs": [
    {
     "data": {
      "text/plain": [
       "patient_gender            0\n",
       "patient_dob               0\n",
       "patient_diabetic          0\n",
       "patient_allergic          0\n",
       "patient_weight_kg         0\n",
       "patient_height_sm         0\n",
       "doctor_name              58\n",
       "appointment_date          0\n",
       "patient_show              0\n",
       "is_regular_visit          0\n",
       "prescribed_medicines    488\n",
       "diagnosis               488\n",
       "dtype: int64"
      ]
     },
     "execution_count": 26,
     "metadata": {},
     "output_type": "execute_result"
    }
   ],
   "source": [
    "# Your code here:\n",
    "patient.isna().sum()"
   ]
  },
  {
   "cell_type": "markdown",
   "metadata": {
    "Collapsed": "false"
   },
   "source": [
    "The main issues are found in the `prescribed_medicines` and `diagnosis` columns. Can we simply drop these rows?\n",
    "\n",
    "The answer is not yet. Because when there are missing data in these columns, it doesn't mean the data records are broken. Instead, it means no medication was prescribed and no diagnosis was recorded. Therefore, once we fill in the missing data these columns will be fine. But we'll revisit these columns and decide whether we will eventually drop them when we look at how many unique values are there in these categorical columns.  \n",
    "\n",
    "For the `prescribed_medicines` column, fill the missing values with the value `no prescription`. For the `diagnosis` column, fill the missing values with `no diagnosis`.\n",
    "\n",
    "*Hint: Use [`pandas.DataFrame.fillna`](https://pandas.pydata.org/pandas-docs/stable/generated/pandas.DataFrame.fillna.html).*"
   ]
  },
  {
   "cell_type": "code",
   "execution_count": 27,
   "metadata": {
    "Collapsed": "false"
   },
   "outputs": [],
   "source": [
    "# Your code here:\n",
    "patient[\"prescribed_medicines\"].fillna(\"no prescription\", inplace = True) \n",
    "patient[\"diagnosis\"].fillna(\"no diagnosis\", inplace = True) "
   ]
  },
  {
   "cell_type": "markdown",
   "metadata": {
    "Collapsed": "false"
   },
   "source": [
    "How about `doctor_name`? Since a doctor visit without a doctor name might not be meaningful, we will drop these rows."
   ]
  },
  {
   "cell_type": "code",
   "execution_count": 28,
   "metadata": {
    "Collapsed": "false"
   },
   "outputs": [],
   "source": [
    "# Your code here:\n",
    "patient.dropna(subset=['doctor_name'],inplace=True)"
   ]
  },
  {
   "cell_type": "markdown",
   "metadata": {
    "Collapsed": "false"
   },
   "source": [
    "#### Another step in preprocessing that can be performed by scikit-learn is label encoding. \n",
    "\n",
    "We have 4 columns that are of `bool` type. We would like to convert them to an integer column containing either zero or one. We can do this using [scikit-learn's label encoder](https://scikit-learn.org/stable/modules/generated/sklearn.preprocessing.LabelEncoder.html).\n",
    "\n",
    "In the cell below, import the label encoder and encode the 4 boolean columns (*patient_diabetic*, *patient_allergic*, *patient_show*, *is_regular_visit*) with `0` and `1`. "
   ]
  },
  {
   "cell_type": "code",
   "execution_count": 29,
   "metadata": {
    "Collapsed": "false"
   },
   "outputs": [],
   "source": [
    "# Your code here:\n",
    "from sklearn import preprocessing\n",
    "lab_enc = preprocessing.LabelEncoder()\n",
    "lab_enc.fit(patient['patient_diabetic'])\n",
    "variable1 = lab_enc.transform(patient['patient_diabetic'])\n",
    "patient['patient_diabetic'] = variable1"
   ]
  },
  {
   "cell_type": "code",
   "execution_count": 30,
   "metadata": {
    "Collapsed": "false"
   },
   "outputs": [],
   "source": [
    "lab_enc = preprocessing.LabelEncoder()\n",
    "lab_enc.fit(patient['patient_allergic'])\n",
    "variable2 = lab_enc.transform(patient['patient_allergic'])\n",
    "patient['patient_allergic'] = variable2"
   ]
  },
  {
   "cell_type": "code",
   "execution_count": 31,
   "metadata": {
    "Collapsed": "false"
   },
   "outputs": [],
   "source": [
    "lab_enc = preprocessing.LabelEncoder()\n",
    "lab_enc.fit(patient['patient_show'])\n",
    "variable3 = lab_enc.transform(patient['patient_show'])\n",
    "patient['patient_show'] = variable3"
   ]
  },
  {
   "cell_type": "code",
   "execution_count": 32,
   "metadata": {
    "Collapsed": "false"
   },
   "outputs": [],
   "source": [
    "lab_enc = preprocessing.LabelEncoder()\n",
    "lab_enc.fit(patient['is_regular_visit'])\n",
    "variable4 = lab_enc.transform(patient['is_regular_visit'])\n",
    "patient['is_regular_visit'] = variable4"
   ]
  },
  {
   "cell_type": "markdown",
   "metadata": {
    "Collapsed": "false"
   },
   "source": [
    "Print the data dtypes to confirm those four `bool` columns are converted to `int64`."
   ]
  },
  {
   "cell_type": "code",
   "execution_count": 33,
   "metadata": {
    "Collapsed": "false"
   },
   "outputs": [
    {
     "data": {
      "text/plain": [
       "patient_gender                  object\n",
       "patient_dob             datetime64[ns]\n",
       "patient_diabetic                 int64\n",
       "patient_allergic                 int64\n",
       "patient_weight_kg                int64\n",
       "patient_height_sm                int64\n",
       "doctor_name                     object\n",
       "appointment_date        datetime64[ns]\n",
       "patient_show                     int64\n",
       "is_regular_visit                 int64\n",
       "prescribed_medicines            object\n",
       "diagnosis                       object\n",
       "dtype: object"
      ]
     },
     "execution_count": 33,
     "metadata": {},
     "output_type": "execute_result"
    }
   ],
   "source": [
    "# Your code here:\n",
    "patient.dtypes"
   ]
  },
  {
   "cell_type": "markdown",
   "metadata": {
    "Collapsed": "false"
   },
   "source": [
    "#### The last step is to handle the `object` data.\n",
    "\n",
    "There are 4 `object` columns now: `patient_gender`, `doctor_name`, `prescribed_medicines`, and `diagnosis`. The gender columns\n",
    "\n",
    "In the next cell, check the unique values of each of the `object` columns using `value_counts()`."
   ]
  },
  {
   "cell_type": "code",
   "execution_count": 34,
   "metadata": {
    "Collapsed": "false"
   },
   "outputs": [
    {
     "data": {
      "text/plain": [
       "Female    476\n",
       "Male      466\n",
       "Name: patient_gender, dtype: int64"
      ]
     },
     "execution_count": 34,
     "metadata": {},
     "output_type": "execute_result"
    }
   ],
   "source": [
    "# Your code here:\n",
    "patient['patient_gender'].value_counts()"
   ]
  },
  {
   "cell_type": "code",
   "execution_count": 35,
   "metadata": {
    "Collapsed": "false"
   },
   "outputs": [
    {
     "data": {
      "text/plain": [
       "Sarena Waliszek           74\n",
       "Cissy Markey              57\n",
       "Farris Robinet            55\n",
       "Flossy Canlin             55\n",
       "Jilly McGrill             53\n",
       "Gabie Brafield            53\n",
       "Glenna MacNeachtain       53\n",
       "Nerte Elmer               51\n",
       "Oralie Swaffer            49\n",
       "Kaspar Spitaro            48\n",
       "Wyn Grassett              47\n",
       "Humfried Cartmel          47\n",
       "Carly SperaJillie Katt    47\n",
       "Madelina Scurrell         46\n",
       "Rafferty Fowls            45\n",
       "Dulce McKerley            42\n",
       "Rouvin McKinstry          42\n",
       "Ryley Swallow             40\n",
       "Hermina Domeny            38\n",
       "Name: doctor_name, dtype: int64"
      ]
     },
     "execution_count": 35,
     "metadata": {},
     "output_type": "execute_result"
    }
   ],
   "source": [
    "patient['doctor_name'].value_counts()"
   ]
  },
  {
   "cell_type": "code",
   "execution_count": 36,
   "metadata": {
    "Collapsed": "false"
   },
   "outputs": [
    {
     "data": {
      "text/plain": [
       "no prescription                                 457\n",
       "ALCOHOL                                           8\n",
       "Ibuprofen                                         6\n",
       "Acetaminophen                                     5\n",
       "Triclosan                                         5\n",
       "                                               ... \n",
       "HYDROQUINONE                                      1\n",
       "amlodipine besylate and atorvastatin calcium      1\n",
       "Calcium carbonate and Magnesium hydroxide         1\n",
       "CEFTAZIDIME                                       1\n",
       "ACETAMINOPHEN                                     1\n",
       "Name: prescribed_medicines, Length: 395, dtype: int64"
      ]
     },
     "execution_count": 36,
     "metadata": {},
     "output_type": "execute_result"
    }
   ],
   "source": [
    "patient['prescribed_medicines'].value_counts()"
   ]
  },
  {
   "cell_type": "code",
   "execution_count": 37,
   "metadata": {
    "Collapsed": "false"
   },
   "outputs": [
    {
     "data": {
      "text/plain": [
       "no diagnosis    457\n",
       "T2169             2\n",
       "T618X2D           1\n",
       "S82422J           1\n",
       "A669              1\n",
       "               ... \n",
       "A928              1\n",
       "V00811A           1\n",
       "I159              1\n",
       "S72445D           1\n",
       "T80212S           1\n",
       "Name: diagnosis, Length: 485, dtype: int64"
      ]
     },
     "execution_count": 37,
     "metadata": {},
     "output_type": "execute_result"
    }
   ],
   "source": [
    "patient['diagnosis'].value_counts()"
   ]
  },
  {
   "cell_type": "markdown",
   "metadata": {
    "Collapsed": "false"
   },
   "source": [
    "#### The number of unique values is large for all three columns except `patient_gender`. We will handle these columns differently.\n",
    "\n",
    "For `diagnosis`, there are too many unique values which will make ML difficult. However, we can re-encode the values to either with or without diagnosis. Remember at an earlier step we filled in the missing values of this column with *no diagnosis*? We can re-encode *no diagnosis* to `0` and all other values to `1`. In this way we can tremendously simply this column.\n",
    "\n",
    "For `prescribed_medicines`, we can drop this column because it is perfectly correlated with `diagnosis`. Whenever there is no diagnosis, there is no prescribed medicine. So we don't need to keep this duplicated data.\n",
    "\n",
    "How about `doctor_name`? There are not excessive unique values but still quite many (19). We may either drop or keep it but keeping it will make the analysis more complicated. So due to the length of this lab let's drop it.\n",
    "\n",
    "How about `gender`? This one is easy. Just like re-encoding the boolean values, we can re-encode gender to `0` and `1` because there are only 2 unique values.\n",
    "\n",
    "In the next cells, do the following:\n",
    "\n",
    "1. Create a new column called `diagnosis_int` that has `0` and `1` based on the values in `diagnosis`.\n",
    "\n",
    "1. Create a new column called `patient_gender_int` that has `0` and `1` based on the values in `patient_gender`.\n",
    "\n",
    "1. Drop the following columns: `doctor_name`, `diagnosis`, `prescribed_medicines`, and `patient_gender`."
   ]
  },
  {
   "cell_type": "code",
   "execution_count": 38,
   "metadata": {
    "Collapsed": "false"
   },
   "outputs": [],
   "source": [
    "# Your code here:\n",
    "patient['diagnosis_int'] = lab_enc.fit_transform(~patient['diagnosis'].str.contains(\"no diagnosis\"))"
   ]
  },
  {
   "cell_type": "code",
   "execution_count": 39,
   "metadata": {
    "Collapsed": "false"
   },
   "outputs": [],
   "source": [
    "lab_enc = preprocessing.LabelEncoder()\n",
    "lab_enc.fit(patient['patient_gender'])\n",
    "variable_gender = lab_enc.transform(patient['patient_gender'])\n",
    "patient['patient_gender_int'] = variable_gender"
   ]
  },
  {
   "cell_type": "code",
   "execution_count": 40,
   "metadata": {
    "Collapsed": "false"
   },
   "outputs": [],
   "source": [
    "patient.drop(['prescribed_medicines','doctor_name','diagnosis','patient_gender'], axis = 1, inplace=True)"
   ]
  },
  {
   "cell_type": "markdown",
   "metadata": {
    "Collapsed": "false"
   },
   "source": [
    "Let's look at the head again to ensure the re-encoding and dropping are successful:"
   ]
  },
  {
   "cell_type": "code",
   "execution_count": 41,
   "metadata": {
    "Collapsed": "false"
   },
   "outputs": [
    {
     "data": {
      "text/html": [
       "<div>\n",
       "<style scoped>\n",
       "    .dataframe tbody tr th:only-of-type {\n",
       "        vertical-align: middle;\n",
       "    }\n",
       "\n",
       "    .dataframe tbody tr th {\n",
       "        vertical-align: top;\n",
       "    }\n",
       "\n",
       "    .dataframe thead th {\n",
       "        text-align: right;\n",
       "    }\n",
       "</style>\n",
       "<table border=\"1\" class=\"dataframe\">\n",
       "  <thead>\n",
       "    <tr style=\"text-align: right;\">\n",
       "      <th></th>\n",
       "      <th>patient_dob</th>\n",
       "      <th>patient_diabetic</th>\n",
       "      <th>patient_allergic</th>\n",
       "      <th>patient_weight_kg</th>\n",
       "      <th>patient_height_sm</th>\n",
       "      <th>appointment_date</th>\n",
       "      <th>patient_show</th>\n",
       "      <th>is_regular_visit</th>\n",
       "      <th>diagnosis_int</th>\n",
       "      <th>patient_gender_int</th>\n",
       "    </tr>\n",
       "  </thead>\n",
       "  <tbody>\n",
       "    <tr>\n",
       "      <th>0</th>\n",
       "      <td>2018-10-18</td>\n",
       "      <td>0</td>\n",
       "      <td>1</td>\n",
       "      <td>59</td>\n",
       "      <td>176</td>\n",
       "      <td>2018-05-01</td>\n",
       "      <td>1</td>\n",
       "      <td>1</td>\n",
       "      <td>1</td>\n",
       "      <td>0</td>\n",
       "    </tr>\n",
       "    <tr>\n",
       "      <th>1</th>\n",
       "      <td>2018-02-08</td>\n",
       "      <td>0</td>\n",
       "      <td>1</td>\n",
       "      <td>77</td>\n",
       "      <td>186</td>\n",
       "      <td>2017-12-07</td>\n",
       "      <td>1</td>\n",
       "      <td>1</td>\n",
       "      <td>0</td>\n",
       "      <td>0</td>\n",
       "    </tr>\n",
       "    <tr>\n",
       "      <th>2</th>\n",
       "      <td>2018-10-09</td>\n",
       "      <td>1</td>\n",
       "      <td>1</td>\n",
       "      <td>90</td>\n",
       "      <td>177</td>\n",
       "      <td>2018-10-05</td>\n",
       "      <td>0</td>\n",
       "      <td>0</td>\n",
       "      <td>0</td>\n",
       "      <td>0</td>\n",
       "    </tr>\n",
       "    <tr>\n",
       "      <th>3</th>\n",
       "      <td>2018-09-10</td>\n",
       "      <td>1</td>\n",
       "      <td>1</td>\n",
       "      <td>70</td>\n",
       "      <td>150</td>\n",
       "      <td>2018-10-21</td>\n",
       "      <td>0</td>\n",
       "      <td>1</td>\n",
       "      <td>0</td>\n",
       "      <td>1</td>\n",
       "    </tr>\n",
       "    <tr>\n",
       "      <th>4</th>\n",
       "      <td>2018-02-26</td>\n",
       "      <td>0</td>\n",
       "      <td>1</td>\n",
       "      <td>82</td>\n",
       "      <td>140</td>\n",
       "      <td>2018-11-15</td>\n",
       "      <td>0</td>\n",
       "      <td>0</td>\n",
       "      <td>0</td>\n",
       "      <td>0</td>\n",
       "    </tr>\n",
       "  </tbody>\n",
       "</table>\n",
       "</div>"
      ],
      "text/plain": [
       "  patient_dob  patient_diabetic  patient_allergic  patient_weight_kg  \\\n",
       "0  2018-10-18                 0                 1                 59   \n",
       "1  2018-02-08                 0                 1                 77   \n",
       "2  2018-10-09                 1                 1                 90   \n",
       "3  2018-09-10                 1                 1                 70   \n",
       "4  2018-02-26                 0                 1                 82   \n",
       "\n",
       "   patient_height_sm appointment_date  patient_show  is_regular_visit  \\\n",
       "0                176       2018-05-01             1                 1   \n",
       "1                186       2017-12-07             1                 1   \n",
       "2                177       2018-10-05             0                 0   \n",
       "3                150       2018-10-21             0                 1   \n",
       "4                140       2018-11-15             0                 0   \n",
       "\n",
       "   diagnosis_int  patient_gender_int  \n",
       "0              1                   0  \n",
       "1              0                   0  \n",
       "2              0                   0  \n",
       "3              0                   1  \n",
       "4              0                   0  "
      ]
     },
     "execution_count": 41,
     "metadata": {},
     "output_type": "execute_result"
    }
   ],
   "source": [
    "# Your code here:\n",
    "patient.head()"
   ]
  },
  {
   "cell_type": "markdown",
   "metadata": {
    "Collapsed": "false"
   },
   "source": [
    "An interesting observation is that all patients are no older than 2 years. However, their weights and heights indicate that they are adults. This cannot be true. Therefore, we can either trust the weight and height columns or the DOB column. Since there are other columns that indicate that these are adults (they have emails, some have diabetes) we will drop the `patient_dob` column. We will also drop the `appointment_date` column since it has too many unique values to transform to a dummy variable. Drop the two columns in the cell below."
   ]
  },
  {
   "cell_type": "code",
   "execution_count": 42,
   "metadata": {
    "Collapsed": "false"
   },
   "outputs": [],
   "source": [
    "# Your code here:\n",
    "patient.drop(['patient_dob','appointment_date'], axis = 1, inplace=True)"
   ]
  },
  {
   "cell_type": "markdown",
   "metadata": {
    "Collapsed": "false"
   },
   "source": [
    "#### Our data is now ready for clustering. Let's use k-means again.\n",
    "\n",
    "We start by initializing and fitting a model in the cell below. Call this model patients_cluster."
   ]
  },
  {
   "cell_type": "code",
   "execution_count": 43,
   "metadata": {
    "Collapsed": "false"
   },
   "outputs": [
    {
     "data": {
      "text/plain": [
       "KMeans(n_clusters=4)"
      ]
     },
     "execution_count": 43,
     "metadata": {},
     "output_type": "execute_result"
    }
   ],
   "source": [
    "# Your code here:\n",
    "patients_cluster = KMeans(n_clusters=4)\n",
    "patients_cluster.fit(patient)"
   ]
  },
  {
   "cell_type": "markdown",
   "metadata": {
    "Collapsed": "false"
   },
   "source": [
    "Attach the labels to the dataframe. Do this by accessing the `labels_` in the `patients_cluster` model and assign them to a new column in `patients` that you will call `labels`."
   ]
  },
  {
   "cell_type": "code",
   "execution_count": 44,
   "metadata": {
    "Collapsed": "false"
   },
   "outputs": [],
   "source": [
    "# Your code here:\n",
    "patient['labels'] = patients_cluster.labels_"
   ]
  },
  {
   "cell_type": "markdown",
   "metadata": {
    "Collapsed": "false"
   },
   "source": [
    "Now using a `groupby`, find the mean of every variable in `patients` and group by the `labels` column. This summary will allow us to see how the patients differ between the clusters. Your output should look similar to the image below [groupby mean](https://drive.google.com/file/d/1-YU2i7KrwXuBohkOKT2gR4HbUvM7nJAt/view?usp=sharing)\n",
    "\n",
    "Additionally, add a comment to describe which columns have the largest difference between clusters."
   ]
  },
  {
   "cell_type": "code",
   "execution_count": 45,
   "metadata": {
    "Collapsed": "false"
   },
   "outputs": [
    {
     "data": {
      "text/html": [
       "<div>\n",
       "<style scoped>\n",
       "    .dataframe tbody tr th:only-of-type {\n",
       "        vertical-align: middle;\n",
       "    }\n",
       "\n",
       "    .dataframe tbody tr th {\n",
       "        vertical-align: top;\n",
       "    }\n",
       "\n",
       "    .dataframe thead th {\n",
       "        text-align: right;\n",
       "    }\n",
       "</style>\n",
       "<table border=\"1\" class=\"dataframe\">\n",
       "  <thead>\n",
       "    <tr style=\"text-align: right;\">\n",
       "      <th></th>\n",
       "      <th>patient_diabetic</th>\n",
       "      <th>patient_allergic</th>\n",
       "      <th>patient_weight_kg</th>\n",
       "      <th>patient_height_sm</th>\n",
       "      <th>patient_show</th>\n",
       "      <th>is_regular_visit</th>\n",
       "      <th>diagnosis_int</th>\n",
       "      <th>patient_gender_int</th>\n",
       "    </tr>\n",
       "    <tr>\n",
       "      <th>labels</th>\n",
       "      <th></th>\n",
       "      <th></th>\n",
       "      <th></th>\n",
       "      <th></th>\n",
       "      <th></th>\n",
       "      <th></th>\n",
       "      <th></th>\n",
       "      <th></th>\n",
       "    </tr>\n",
       "  </thead>\n",
       "  <tbody>\n",
       "    <tr>\n",
       "      <th>0</th>\n",
       "      <td>0.506494</td>\n",
       "      <td>0.493506</td>\n",
       "      <td>65.432900</td>\n",
       "      <td>152.354978</td>\n",
       "      <td>0.510823</td>\n",
       "      <td>0.558442</td>\n",
       "      <td>0.506494</td>\n",
       "      <td>0.554113</td>\n",
       "    </tr>\n",
       "    <tr>\n",
       "      <th>1</th>\n",
       "      <td>0.492063</td>\n",
       "      <td>0.488095</td>\n",
       "      <td>94.063492</td>\n",
       "      <td>178.686508</td>\n",
       "      <td>0.503968</td>\n",
       "      <td>0.531746</td>\n",
       "      <td>0.511905</td>\n",
       "      <td>0.456349</td>\n",
       "    </tr>\n",
       "    <tr>\n",
       "      <th>2</th>\n",
       "      <td>0.508333</td>\n",
       "      <td>0.533333</td>\n",
       "      <td>62.900000</td>\n",
       "      <td>176.954167</td>\n",
       "      <td>0.475000</td>\n",
       "      <td>0.495833</td>\n",
       "      <td>0.454167</td>\n",
       "      <td>0.454167</td>\n",
       "    </tr>\n",
       "    <tr>\n",
       "      <th>3</th>\n",
       "      <td>0.552511</td>\n",
       "      <td>0.525114</td>\n",
       "      <td>97.557078</td>\n",
       "      <td>153.319635</td>\n",
       "      <td>0.488584</td>\n",
       "      <td>0.502283</td>\n",
       "      <td>0.593607</td>\n",
       "      <td>0.520548</td>\n",
       "    </tr>\n",
       "  </tbody>\n",
       "</table>\n",
       "</div>"
      ],
      "text/plain": [
       "        patient_diabetic  patient_allergic  patient_weight_kg  \\\n",
       "labels                                                          \n",
       "0               0.506494          0.493506          65.432900   \n",
       "1               0.492063          0.488095          94.063492   \n",
       "2               0.508333          0.533333          62.900000   \n",
       "3               0.552511          0.525114          97.557078   \n",
       "\n",
       "        patient_height_sm  patient_show  is_regular_visit  diagnosis_int  \\\n",
       "labels                                                                     \n",
       "0              152.354978      0.510823          0.558442       0.506494   \n",
       "1              178.686508      0.503968          0.531746       0.511905   \n",
       "2              176.954167      0.475000          0.495833       0.454167   \n",
       "3              153.319635      0.488584          0.502283       0.593607   \n",
       "\n",
       "        patient_gender_int  \n",
       "labels                      \n",
       "0                 0.554113  \n",
       "1                 0.456349  \n",
       "2                 0.454167  \n",
       "3                 0.520548  "
      ]
     },
     "execution_count": 45,
     "metadata": {},
     "output_type": "execute_result"
    }
   ],
   "source": [
    "# Your code here:\n",
    "patient.groupby(['labels']).mean()"
   ]
  },
  {
   "cell_type": "code",
   "execution_count": 46,
   "metadata": {
    "Collapsed": "false"
   },
   "outputs": [
    {
     "data": {
      "text/html": [
       "<div>\n",
       "<style scoped>\n",
       "    .dataframe tbody tr th:only-of-type {\n",
       "        vertical-align: middle;\n",
       "    }\n",
       "\n",
       "    .dataframe tbody tr th {\n",
       "        vertical-align: top;\n",
       "    }\n",
       "\n",
       "    .dataframe thead th {\n",
       "        text-align: right;\n",
       "    }\n",
       "</style>\n",
       "<table border=\"1\" class=\"dataframe\">\n",
       "  <thead>\n",
       "    <tr style=\"text-align: right;\">\n",
       "      <th></th>\n",
       "      <th>patient_diabetic</th>\n",
       "      <th>patient_allergic</th>\n",
       "      <th>patient_weight_kg</th>\n",
       "      <th>patient_height_sm</th>\n",
       "      <th>patient_show</th>\n",
       "      <th>is_regular_visit</th>\n",
       "      <th>diagnosis_int</th>\n",
       "      <th>patient_gender_int</th>\n",
       "      <th>labels</th>\n",
       "    </tr>\n",
       "  </thead>\n",
       "  <tbody>\n",
       "    <tr>\n",
       "      <th>0</th>\n",
       "      <td>0</td>\n",
       "      <td>1</td>\n",
       "      <td>59</td>\n",
       "      <td>176</td>\n",
       "      <td>1</td>\n",
       "      <td>1</td>\n",
       "      <td>1</td>\n",
       "      <td>0</td>\n",
       "      <td>2</td>\n",
       "    </tr>\n",
       "    <tr>\n",
       "      <th>1</th>\n",
       "      <td>0</td>\n",
       "      <td>1</td>\n",
       "      <td>77</td>\n",
       "      <td>186</td>\n",
       "      <td>1</td>\n",
       "      <td>1</td>\n",
       "      <td>0</td>\n",
       "      <td>0</td>\n",
       "      <td>2</td>\n",
       "    </tr>\n",
       "    <tr>\n",
       "      <th>2</th>\n",
       "      <td>1</td>\n",
       "      <td>1</td>\n",
       "      <td>90</td>\n",
       "      <td>177</td>\n",
       "      <td>0</td>\n",
       "      <td>0</td>\n",
       "      <td>0</td>\n",
       "      <td>0</td>\n",
       "      <td>1</td>\n",
       "    </tr>\n",
       "    <tr>\n",
       "      <th>3</th>\n",
       "      <td>1</td>\n",
       "      <td>1</td>\n",
       "      <td>70</td>\n",
       "      <td>150</td>\n",
       "      <td>0</td>\n",
       "      <td>1</td>\n",
       "      <td>0</td>\n",
       "      <td>1</td>\n",
       "      <td>0</td>\n",
       "    </tr>\n",
       "    <tr>\n",
       "      <th>4</th>\n",
       "      <td>0</td>\n",
       "      <td>1</td>\n",
       "      <td>82</td>\n",
       "      <td>140</td>\n",
       "      <td>0</td>\n",
       "      <td>0</td>\n",
       "      <td>0</td>\n",
       "      <td>0</td>\n",
       "      <td>3</td>\n",
       "    </tr>\n",
       "  </tbody>\n",
       "</table>\n",
       "</div>"
      ],
      "text/plain": [
       "   patient_diabetic  patient_allergic  patient_weight_kg  patient_height_sm  \\\n",
       "0                 0                 1                 59                176   \n",
       "1                 0                 1                 77                186   \n",
       "2                 1                 1                 90                177   \n",
       "3                 1                 1                 70                150   \n",
       "4                 0                 1                 82                140   \n",
       "\n",
       "   patient_show  is_regular_visit  diagnosis_int  patient_gender_int  labels  \n",
       "0             1                 1              1                   0       2  \n",
       "1             1                 1              0                   0       2  \n",
       "2             0                 0              0                   0       1  \n",
       "3             0                 1              0                   1       0  \n",
       "4             0                 0              0                   0       3  "
      ]
     },
     "execution_count": 46,
     "metadata": {},
     "output_type": "execute_result"
    }
   ],
   "source": [
    "# Your comment here:\n",
    "patient.head()"
   ]
  },
  {
   "cell_type": "code",
   "execution_count": null,
   "metadata": {
    "Collapsed": "false"
   },
   "outputs": [],
   "source": [
    "#paolo: good work- my advice is to also do the bonus challenge and visualize the clusters"
   ]
  },
  {
   "cell_type": "markdown",
   "metadata": {
    "Collapsed": "false"
   },
   "source": [
    "# Bonus Challenge: Visualize K-Means Clusters\n",
    "\n",
    "How did k-means cluster the data? You can obtain an intuitive view with a scatter plot. Generate a 2-d cluster plot below using `matplotlib`. You need to choose 2 of the features from your cleaned and transformed dataset, and use color to represent the cluster label generated from k-means.\n",
    "\n",
    "If the scatter plot does not make any sense to you, it means the features you chose to visualize are not the right ones. You should be able to see 4 clear clusters with different colors in your visualization that suggests how k-means had clustered your data.\n",
    "\n",
    "[Cluster Visualization](https://drive.google.com/file/d/1J-LvaSnS--6Zz8wYfsb3k-2CA4KcyQfm/view?usp=sharing)"
   ]
  },
  {
   "cell_type": "code",
   "execution_count": 47,
   "metadata": {
    "Collapsed": "false"
   },
   "outputs": [],
   "source": [
    "# Your code here:\n"
   ]
  },
  {
   "cell_type": "markdown",
   "metadata": {
    "Collapsed": "false"
   },
   "source": [
    "Additionally, you can visualize the clusters in 3-D scatter plot. Give it a try below."
   ]
  },
  {
   "cell_type": "code",
   "execution_count": 48,
   "metadata": {
    "Collapsed": "false"
   },
   "outputs": [],
   "source": [
    "# Your code here:\n"
   ]
  }
 ],
 "metadata": {
  "kernelspec": {
   "display_name": "Python 3",
   "language": "python",
   "name": "python3"
  },
  "language_info": {
   "codemirror_mode": {
    "name": "ipython",
    "version": 3
   },
   "file_extension": ".py",
   "mimetype": "text/x-python",
   "name": "python",
   "nbconvert_exporter": "python",
   "pygments_lexer": "ipython3",
   "version": "3.7.6"
  }
 },
 "nbformat": 4,
 "nbformat_minor": 4
}
