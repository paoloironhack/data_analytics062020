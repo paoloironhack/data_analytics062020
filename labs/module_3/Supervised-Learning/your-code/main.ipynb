{
 "cells": [
  {
   "cell_type": "markdown",
   "metadata": {
    "Collapsed": "false"
   },
   "source": [
    "# Before you start:\n",
    "- Read the README.md file\n",
    "- Comment as much as you can and use the resources in the README.md file\n",
    "- Happy learning!"
   ]
  },
  {
   "cell_type": "code",
   "execution_count": 80,
   "metadata": {
    "Collapsed": "false"
   },
   "outputs": [],
   "source": [
    "# Import your libraries:\n",
    "\n",
    "%matplotlib inline\n",
    "import matplotlib.pyplot as plt\n",
    "import numpy as np\n",
    "import pandas as pd\n",
    "import re\n",
    "import seaborn as sns\n",
    "pd.set_option('display.max_columns', None)"
   ]
  },
  {
   "cell_type": "markdown",
   "metadata": {
    "Collapsed": "false"
   },
   "source": [
    "In this lab, we will explore a dataset that describes websites with different features and label them either benign or malicious . We will use supervised learning algorithms to figure out what feature patterns malicious websites are likely to have and use our model to predict malicious websites.\n",
    "\n",
    "# Challenge 1 - Explore The Dataset\n",
    "\n",
    "Let's start by exploring the dataset. First load the dataset from [here](https://drive.google.com/file/d/18LRRR60T-7NbUeZPCSI1crjo8O3LeGhc/view?usp=sharing), place it in the data folder and load it in variable `websites`"
   ]
  },
  {
   "cell_type": "code",
   "execution_count": 81,
   "metadata": {
    "Collapsed": "false"
   },
   "outputs": [],
   "source": [
    "websites = pd.read_csv('../data/website.csv')"
   ]
  },
  {
   "cell_type": "markdown",
   "metadata": {
    "Collapsed": "false"
   },
   "source": [
    "#### Explore the data from an bird's-eye view.\n",
    "\n",
    "You should already been very familiar with the procedures now so we won't provide the instructions step by step. Reflect on what you did in the previous labs and explore the dataset.\n",
    "\n",
    "Things you'll be looking for:\n",
    "\n",
    "* What the dataset looks like?\n",
    "* What are the data types?\n",
    "* Which columns contain the features of the websites?\n",
    "* Which column contains the feature we will predict? What is the code standing for benign vs malicious websites?\n",
    "* Do we need to transform any of the columns from categorical to ordinal values? If so what are these columns?\n",
    "\n",
    "Feel free to add additional cells for more exploration. Make sure to comment what you find!"
   ]
  },
  {
   "cell_type": "code",
   "execution_count": 82,
   "metadata": {
    "Collapsed": "false"
   },
   "outputs": [
    {
     "data": {
      "text/html": [
       "<div>\n",
       "<style scoped>\n",
       "    .dataframe tbody tr th:only-of-type {\n",
       "        vertical-align: middle;\n",
       "    }\n",
       "\n",
       "    .dataframe tbody tr th {\n",
       "        vertical-align: top;\n",
       "    }\n",
       "\n",
       "    .dataframe thead th {\n",
       "        text-align: right;\n",
       "    }\n",
       "</style>\n",
       "<table border=\"1\" class=\"dataframe\">\n",
       "  <thead>\n",
       "    <tr style=\"text-align: right;\">\n",
       "      <th></th>\n",
       "      <th>URL</th>\n",
       "      <th>URL_LENGTH</th>\n",
       "      <th>NUMBER_SPECIAL_CHARACTERS</th>\n",
       "      <th>CHARSET</th>\n",
       "      <th>SERVER</th>\n",
       "      <th>CONTENT_LENGTH</th>\n",
       "      <th>WHOIS_COUNTRY</th>\n",
       "      <th>WHOIS_STATEPRO</th>\n",
       "      <th>WHOIS_REGDATE</th>\n",
       "      <th>WHOIS_UPDATED_DATE</th>\n",
       "      <th>TCP_CONVERSATION_EXCHANGE</th>\n",
       "      <th>DIST_REMOTE_TCP_PORT</th>\n",
       "      <th>REMOTE_IPS</th>\n",
       "      <th>APP_BYTES</th>\n",
       "      <th>SOURCE_APP_PACKETS</th>\n",
       "      <th>REMOTE_APP_PACKETS</th>\n",
       "      <th>SOURCE_APP_BYTES</th>\n",
       "      <th>REMOTE_APP_BYTES</th>\n",
       "      <th>APP_PACKETS</th>\n",
       "      <th>DNS_QUERY_TIMES</th>\n",
       "      <th>Type</th>\n",
       "    </tr>\n",
       "  </thead>\n",
       "  <tbody>\n",
       "    <tr>\n",
       "      <th>0</th>\n",
       "      <td>M0_109</td>\n",
       "      <td>16</td>\n",
       "      <td>7</td>\n",
       "      <td>iso-8859-1</td>\n",
       "      <td>nginx</td>\n",
       "      <td>263.0</td>\n",
       "      <td>None</td>\n",
       "      <td>None</td>\n",
       "      <td>10/10/2015 18:21</td>\n",
       "      <td>None</td>\n",
       "      <td>7</td>\n",
       "      <td>0</td>\n",
       "      <td>2</td>\n",
       "      <td>700</td>\n",
       "      <td>9</td>\n",
       "      <td>10</td>\n",
       "      <td>1153</td>\n",
       "      <td>832</td>\n",
       "      <td>9</td>\n",
       "      <td>2.0</td>\n",
       "      <td>1</td>\n",
       "    </tr>\n",
       "    <tr>\n",
       "      <th>1</th>\n",
       "      <td>B0_2314</td>\n",
       "      <td>16</td>\n",
       "      <td>6</td>\n",
       "      <td>UTF-8</td>\n",
       "      <td>Apache/2.4.10</td>\n",
       "      <td>15087.0</td>\n",
       "      <td>None</td>\n",
       "      <td>None</td>\n",
       "      <td>None</td>\n",
       "      <td>None</td>\n",
       "      <td>17</td>\n",
       "      <td>7</td>\n",
       "      <td>4</td>\n",
       "      <td>1230</td>\n",
       "      <td>17</td>\n",
       "      <td>19</td>\n",
       "      <td>1265</td>\n",
       "      <td>1230</td>\n",
       "      <td>17</td>\n",
       "      <td>0.0</td>\n",
       "      <td>0</td>\n",
       "    </tr>\n",
       "    <tr>\n",
       "      <th>2</th>\n",
       "      <td>B0_911</td>\n",
       "      <td>16</td>\n",
       "      <td>6</td>\n",
       "      <td>us-ascii</td>\n",
       "      <td>Microsoft-HTTPAPI/2.0</td>\n",
       "      <td>324.0</td>\n",
       "      <td>None</td>\n",
       "      <td>None</td>\n",
       "      <td>None</td>\n",
       "      <td>None</td>\n",
       "      <td>0</td>\n",
       "      <td>0</td>\n",
       "      <td>0</td>\n",
       "      <td>0</td>\n",
       "      <td>0</td>\n",
       "      <td>0</td>\n",
       "      <td>0</td>\n",
       "      <td>0</td>\n",
       "      <td>0</td>\n",
       "      <td>0.0</td>\n",
       "      <td>0</td>\n",
       "    </tr>\n",
       "    <tr>\n",
       "      <th>3</th>\n",
       "      <td>B0_113</td>\n",
       "      <td>17</td>\n",
       "      <td>6</td>\n",
       "      <td>ISO-8859-1</td>\n",
       "      <td>nginx</td>\n",
       "      <td>162.0</td>\n",
       "      <td>US</td>\n",
       "      <td>AK</td>\n",
       "      <td>7/10/1997 4:00</td>\n",
       "      <td>12/09/2013 0:45</td>\n",
       "      <td>31</td>\n",
       "      <td>22</td>\n",
       "      <td>3</td>\n",
       "      <td>3812</td>\n",
       "      <td>39</td>\n",
       "      <td>37</td>\n",
       "      <td>18784</td>\n",
       "      <td>4380</td>\n",
       "      <td>39</td>\n",
       "      <td>8.0</td>\n",
       "      <td>0</td>\n",
       "    </tr>\n",
       "    <tr>\n",
       "      <th>4</th>\n",
       "      <td>B0_403</td>\n",
       "      <td>17</td>\n",
       "      <td>6</td>\n",
       "      <td>UTF-8</td>\n",
       "      <td>None</td>\n",
       "      <td>124140.0</td>\n",
       "      <td>US</td>\n",
       "      <td>TX</td>\n",
       "      <td>12/05/1996 0:00</td>\n",
       "      <td>11/04/2017 0:00</td>\n",
       "      <td>57</td>\n",
       "      <td>2</td>\n",
       "      <td>5</td>\n",
       "      <td>4278</td>\n",
       "      <td>61</td>\n",
       "      <td>62</td>\n",
       "      <td>129889</td>\n",
       "      <td>4586</td>\n",
       "      <td>61</td>\n",
       "      <td>4.0</td>\n",
       "      <td>0</td>\n",
       "    </tr>\n",
       "    <tr>\n",
       "      <th>...</th>\n",
       "      <td>...</td>\n",
       "      <td>...</td>\n",
       "      <td>...</td>\n",
       "      <td>...</td>\n",
       "      <td>...</td>\n",
       "      <td>...</td>\n",
       "      <td>...</td>\n",
       "      <td>...</td>\n",
       "      <td>...</td>\n",
       "      <td>...</td>\n",
       "      <td>...</td>\n",
       "      <td>...</td>\n",
       "      <td>...</td>\n",
       "      <td>...</td>\n",
       "      <td>...</td>\n",
       "      <td>...</td>\n",
       "      <td>...</td>\n",
       "      <td>...</td>\n",
       "      <td>...</td>\n",
       "      <td>...</td>\n",
       "      <td>...</td>\n",
       "    </tr>\n",
       "    <tr>\n",
       "      <th>1776</th>\n",
       "      <td>M4_48</td>\n",
       "      <td>194</td>\n",
       "      <td>16</td>\n",
       "      <td>UTF-8</td>\n",
       "      <td>Apache</td>\n",
       "      <td>NaN</td>\n",
       "      <td>ES</td>\n",
       "      <td>Barcelona</td>\n",
       "      <td>17/09/2008 0:00</td>\n",
       "      <td>2/09/2016 0:00</td>\n",
       "      <td>0</td>\n",
       "      <td>0</td>\n",
       "      <td>0</td>\n",
       "      <td>0</td>\n",
       "      <td>0</td>\n",
       "      <td>3</td>\n",
       "      <td>186</td>\n",
       "      <td>0</td>\n",
       "      <td>0</td>\n",
       "      <td>0.0</td>\n",
       "      <td>1</td>\n",
       "    </tr>\n",
       "    <tr>\n",
       "      <th>1777</th>\n",
       "      <td>M4_41</td>\n",
       "      <td>198</td>\n",
       "      <td>17</td>\n",
       "      <td>UTF-8</td>\n",
       "      <td>Apache</td>\n",
       "      <td>NaN</td>\n",
       "      <td>ES</td>\n",
       "      <td>Barcelona</td>\n",
       "      <td>17/09/2008 0:00</td>\n",
       "      <td>2/09/2016 0:00</td>\n",
       "      <td>0</td>\n",
       "      <td>0</td>\n",
       "      <td>0</td>\n",
       "      <td>0</td>\n",
       "      <td>0</td>\n",
       "      <td>2</td>\n",
       "      <td>124</td>\n",
       "      <td>0</td>\n",
       "      <td>0</td>\n",
       "      <td>0.0</td>\n",
       "      <td>1</td>\n",
       "    </tr>\n",
       "    <tr>\n",
       "      <th>1778</th>\n",
       "      <td>B0_162</td>\n",
       "      <td>201</td>\n",
       "      <td>34</td>\n",
       "      <td>utf-8</td>\n",
       "      <td>Apache/2.2.16 (Debian)</td>\n",
       "      <td>8904.0</td>\n",
       "      <td>US</td>\n",
       "      <td>FL</td>\n",
       "      <td>15/02/1999 0:00</td>\n",
       "      <td>15/07/2015 0:00</td>\n",
       "      <td>83</td>\n",
       "      <td>2</td>\n",
       "      <td>6</td>\n",
       "      <td>6631</td>\n",
       "      <td>87</td>\n",
       "      <td>89</td>\n",
       "      <td>132181</td>\n",
       "      <td>6945</td>\n",
       "      <td>87</td>\n",
       "      <td>4.0</td>\n",
       "      <td>0</td>\n",
       "    </tr>\n",
       "    <tr>\n",
       "      <th>1779</th>\n",
       "      <td>B0_1152</td>\n",
       "      <td>234</td>\n",
       "      <td>34</td>\n",
       "      <td>ISO-8859-1</td>\n",
       "      <td>cloudflare-nginx</td>\n",
       "      <td>NaN</td>\n",
       "      <td>US</td>\n",
       "      <td>CA</td>\n",
       "      <td>1/04/1998 0:00</td>\n",
       "      <td>9/12/2016 0:00</td>\n",
       "      <td>0</td>\n",
       "      <td>0</td>\n",
       "      <td>0</td>\n",
       "      <td>0</td>\n",
       "      <td>0</td>\n",
       "      <td>0</td>\n",
       "      <td>0</td>\n",
       "      <td>0</td>\n",
       "      <td>0</td>\n",
       "      <td>0.0</td>\n",
       "      <td>0</td>\n",
       "    </tr>\n",
       "    <tr>\n",
       "      <th>1780</th>\n",
       "      <td>B0_676</td>\n",
       "      <td>249</td>\n",
       "      <td>40</td>\n",
       "      <td>utf-8</td>\n",
       "      <td>Microsoft-IIS/8.5</td>\n",
       "      <td>24435.0</td>\n",
       "      <td>US</td>\n",
       "      <td>Wisconsin</td>\n",
       "      <td>14/11/2008 0:00</td>\n",
       "      <td>20/11/2013 0:00</td>\n",
       "      <td>19</td>\n",
       "      <td>6</td>\n",
       "      <td>11</td>\n",
       "      <td>2314</td>\n",
       "      <td>25</td>\n",
       "      <td>28</td>\n",
       "      <td>3039</td>\n",
       "      <td>2776</td>\n",
       "      <td>25</td>\n",
       "      <td>6.0</td>\n",
       "      <td>0</td>\n",
       "    </tr>\n",
       "  </tbody>\n",
       "</table>\n",
       "<p>1781 rows × 21 columns</p>\n",
       "</div>"
      ],
      "text/plain": [
       "          URL  URL_LENGTH  NUMBER_SPECIAL_CHARACTERS     CHARSET  \\\n",
       "0      M0_109          16                          7  iso-8859-1   \n",
       "1     B0_2314          16                          6       UTF-8   \n",
       "2      B0_911          16                          6    us-ascii   \n",
       "3      B0_113          17                          6  ISO-8859-1   \n",
       "4      B0_403          17                          6       UTF-8   \n",
       "...       ...         ...                        ...         ...   \n",
       "1776    M4_48         194                         16       UTF-8   \n",
       "1777    M4_41         198                         17       UTF-8   \n",
       "1778   B0_162         201                         34       utf-8   \n",
       "1779  B0_1152         234                         34  ISO-8859-1   \n",
       "1780   B0_676         249                         40       utf-8   \n",
       "\n",
       "                      SERVER  CONTENT_LENGTH WHOIS_COUNTRY WHOIS_STATEPRO  \\\n",
       "0                      nginx           263.0          None           None   \n",
       "1              Apache/2.4.10         15087.0          None           None   \n",
       "2      Microsoft-HTTPAPI/2.0           324.0          None           None   \n",
       "3                      nginx           162.0            US             AK   \n",
       "4                       None        124140.0            US             TX   \n",
       "...                      ...             ...           ...            ...   \n",
       "1776                  Apache             NaN            ES      Barcelona   \n",
       "1777                  Apache             NaN            ES      Barcelona   \n",
       "1778  Apache/2.2.16 (Debian)          8904.0            US             FL   \n",
       "1779        cloudflare-nginx             NaN            US             CA   \n",
       "1780       Microsoft-IIS/8.5         24435.0            US      Wisconsin   \n",
       "\n",
       "         WHOIS_REGDATE WHOIS_UPDATED_DATE  TCP_CONVERSATION_EXCHANGE  \\\n",
       "0     10/10/2015 18:21               None                          7   \n",
       "1                 None               None                         17   \n",
       "2                 None               None                          0   \n",
       "3       7/10/1997 4:00    12/09/2013 0:45                         31   \n",
       "4      12/05/1996 0:00    11/04/2017 0:00                         57   \n",
       "...                ...                ...                        ...   \n",
       "1776   17/09/2008 0:00     2/09/2016 0:00                          0   \n",
       "1777   17/09/2008 0:00     2/09/2016 0:00                          0   \n",
       "1778   15/02/1999 0:00    15/07/2015 0:00                         83   \n",
       "1779    1/04/1998 0:00     9/12/2016 0:00                          0   \n",
       "1780   14/11/2008 0:00    20/11/2013 0:00                         19   \n",
       "\n",
       "      DIST_REMOTE_TCP_PORT  REMOTE_IPS  APP_BYTES  SOURCE_APP_PACKETS  \\\n",
       "0                        0           2        700                   9   \n",
       "1                        7           4       1230                  17   \n",
       "2                        0           0          0                   0   \n",
       "3                       22           3       3812                  39   \n",
       "4                        2           5       4278                  61   \n",
       "...                    ...         ...        ...                 ...   \n",
       "1776                     0           0          0                   0   \n",
       "1777                     0           0          0                   0   \n",
       "1778                     2           6       6631                  87   \n",
       "1779                     0           0          0                   0   \n",
       "1780                     6          11       2314                  25   \n",
       "\n",
       "      REMOTE_APP_PACKETS  SOURCE_APP_BYTES  REMOTE_APP_BYTES  APP_PACKETS  \\\n",
       "0                     10              1153               832            9   \n",
       "1                     19              1265              1230           17   \n",
       "2                      0                 0                 0            0   \n",
       "3                     37             18784              4380           39   \n",
       "4                     62            129889              4586           61   \n",
       "...                  ...               ...               ...          ...   \n",
       "1776                   3               186                 0            0   \n",
       "1777                   2               124                 0            0   \n",
       "1778                  89            132181              6945           87   \n",
       "1779                   0                 0                 0            0   \n",
       "1780                  28              3039              2776           25   \n",
       "\n",
       "      DNS_QUERY_TIMES  Type  \n",
       "0                 2.0     1  \n",
       "1                 0.0     0  \n",
       "2                 0.0     0  \n",
       "3                 8.0     0  \n",
       "4                 4.0     0  \n",
       "...               ...   ...  \n",
       "1776              0.0     1  \n",
       "1777              0.0     1  \n",
       "1778              4.0     0  \n",
       "1779              0.0     0  \n",
       "1780              6.0     0  \n",
       "\n",
       "[1781 rows x 21 columns]"
      ]
     },
     "execution_count": 82,
     "metadata": {},
     "output_type": "execute_result"
    }
   ],
   "source": [
    "# Your code here\n",
    "websites"
   ]
  },
  {
   "cell_type": "code",
   "execution_count": 83,
   "metadata": {
    "Collapsed": "false"
   },
   "outputs": [],
   "source": [
    "# Your comment here\n",
    "#The dataset contains a list of urls / websites with certain features related to the url / server and the content \n",
    "#on the website  \n",
    "\n",
    "#There is a mix of categorical and numerical data\n",
    "\n",
    "# \n",
    "\n",
    "# the column type is the target / the feature we would like to predict. "
   ]
  },
  {
   "cell_type": "markdown",
   "metadata": {
    "Collapsed": "false"
   },
   "source": [
    "#### Next, evaluate if the columns in this dataset are strongly correlated.\n",
    "\n",
    "In class, we discussed that we are concerned if our dataset has strongly correlated columns because if this is the case we need to choose certain ML algorithms instead of others. We need to evaluate this for our dataset now.\n",
    "\n",
    "Luckily, most of the columns in this dataset are ordinal which makes things a lot easier for us. In the cells below, evaluate the level of collinearity of the data.\n",
    "\n",
    "We provide some general directions for you to consult in order to complete this step:\n",
    "\n",
    "1. You will create a correlation matrix using the numeric columns in the dataset.\n",
    "\n",
    "1. Create a heatmap using `seaborn` to visualize which columns have high collinearity.\n",
    "\n",
    "1. Comment on which columns you might need to remove due to high collinearity."
   ]
  },
  {
   "cell_type": "code",
   "execution_count": 84,
   "metadata": {
    "Collapsed": "false"
   },
   "outputs": [
    {
     "data": {
      "image/png": "[encoded data removed]",
      "text/plain": [
       "<Figure size 1440x720 with 2 Axes>"
      ]
     },
     "metadata": {
      "needs_background": "light"
     },
     "output_type": "display_data"
    }
   ],
   "source": [
    "# Your code here websites.\n",
    "# website_numeric = websites._get_numeric_data() \n",
    "\n",
    "plt.figure(figsize=(20,10))\n",
    "sns.heatmap(websites._get_numeric_data().fillna(0).corr() ,annot = True)\n",
    "plt.show()"
   ]
  },
  {
   "cell_type": "code",
   "execution_count": 85,
   "metadata": {
    "Collapsed": "false"
   },
   "outputs": [],
   "source": [
    "# Your comment here\n",
    "\n",
    "# We need to remove to make sure that there is no strong correlation between the predictor variablesas \n",
    "# this will negatively effect the outcome of prediction"
   ]
  },
  {
   "cell_type": "markdown",
   "metadata": {
    "Collapsed": "false"
   },
   "source": [
    "# Challenge 2 - Remove Column Collinearity.\n",
    "\n",
    "From the heatmap you created, you should have seen at least 3 columns that can be removed due to high collinearity. Remove these columns from the dataset.\n",
    "\n",
    "Note that you should remove as few columns as you can. You don't have to remove all the columns at once. But instead, try removing one column, then produce the heatmap again to determine if additional columns should be removed. As long as the dataset no longer contains columns that are correlated for over 90%, you can stop. Also, keep in mind when two columns have high collinearity, you only need to remove one of them but not both.\n",
    "\n",
    "In the cells below, remove as few columns as you can to eliminate the high collinearity in the dataset. Make sure to comment on your way so that the instructional team can learn about your thinking process which allows them to give feedback. At the end, print the heatmap again."
   ]
  },
  {
   "cell_type": "code",
   "execution_count": 86,
   "metadata": {},
   "outputs": [
    {
     "name": "stdout",
     "output_type": "stream",
     "text": [
      "\n",
      "\n",
      "- I remove one of the features from URL length and strange characters. They are highly correlated which makes sense as \n",
      "  long URLs have probably more strange characters  \n",
      "\n",
      "- Furthermore I remove all the items which correlated to \"TCP_CONVERSATION_EXCHANGE\" which are \n",
      "  \"SOURCE_APP_PACKETS\" , \"REMOTE_APP_PACKETS\" , \"APP_PACKETS\"\n",
      "\n",
      "\n"
     ]
    }
   ],
   "source": [
    "print(\n",
    "\"\"\"\n",
    "\n",
    "- I remove one of the features from URL length and strange characters. They are highly correlated which makes sense as \n",
    "  long URLs have probably more strange characters  \n",
    "\n",
    "- Furthermore I remove all the items which correlated to \"TCP_CONVERSATION_EXCHANGE\" which are \n",
    "  \"SOURCE_APP_PACKETS\" , \"REMOTE_APP_PACKETS\" , \"APP_PACKETS\"\n",
    "\n",
    "\"\"\"\n",
    "\n",
    ")"
   ]
  },
  {
   "cell_type": "code",
   "execution_count": 87,
   "metadata": {},
   "outputs": [],
   "source": [
    "col_stay = ['NUMBER_SPECIAL_CHARACTERS', \n",
    "       'CONTENT_LENGTH',\n",
    "       'TCP_CONVERSATION_EXCHANGE',\n",
    "       'APP_BYTES',\n",
    "       'REMOTE_IPS',\n",
    "       'DIST_REMOTE_TCP_PORT',  \n",
    "       'DNS_QUERY_TIMES', 'Type'\n",
    "       ]\n",
    "\n",
    "\n",
    "col_drop = [i for i in websites._get_numeric_data().columns if i not in col_stay]"
   ]
  },
  {
   "cell_type": "code",
   "execution_count": 88,
   "metadata": {
    "Collapsed": "false"
   },
   "outputs": [],
   "source": [
    "# Your code here\n",
    "\n",
    "websites_lean = websites.drop(columns = col_drop)\n"
   ]
  },
  {
   "cell_type": "code",
   "execution_count": 89,
   "metadata": {
    "Collapsed": "false"
   },
   "outputs": [
    {
     "name": "stdout",
     "output_type": "stream",
     "text": [
      "\n",
      "- I remove one of the features from URL length and strange characters. They are highly correlated which makes sense as \n",
      "  long URLs have probably more strange characters  \n",
      "\n",
      "- Furthermore I remove all the items which correlated to \"TCP_CONVERSATION_EXCHANGE\" which are \n",
      "  \"SOURCE_APP_PACKETS\" , \"REMOTE_APP_PACKETS\" , \"APP_PACKETS\"\n",
      "  \n",
      "- Personally I also think I should remove columns \"APP_BYTES\" as the correlation score of 0.78 is still high \n",
      "\n",
      "\n"
     ]
    }
   ],
   "source": [
    "# Your comment here\n",
    "print(\n",
    "\"\"\"\n",
    "- I remove one of the features from URL length and strange characters. They are highly correlated which makes sense as \n",
    "  long URLs have probably more strange characters  \n",
    "\n",
    "- Furthermore I remove all the items which correlated to \"TCP_CONVERSATION_EXCHANGE\" which are \n",
    "  \"SOURCE_APP_PACKETS\" , \"REMOTE_APP_PACKETS\" , \"APP_PACKETS\"\n",
    "  \n",
    "- Personally I also think I should remove columns \"APP_BYTES\" as the correlation score of 0.78 is still high \n",
    "\n",
    "\"\"\"\n",
    ")"
   ]
  },
  {
   "cell_type": "code",
   "execution_count": 90,
   "metadata": {
    "Collapsed": "false"
   },
   "outputs": [
    {
     "data": {
      "image/png": "[encoded data removed]",
      "text/plain": [
       "<Figure size 1440x720 with 2 Axes>"
      ]
     },
     "metadata": {
      "needs_background": "light"
     },
     "output_type": "display_data"
    }
   ],
   "source": [
    "# Print heatmap again\n",
    "plt.figure(figsize=(20,10))\n",
    "sns.heatmap(\n",
    "            websites[col_stay]._get_numeric_data().fillna(0).corr()           \n",
    "            ,annot = True)\n",
    "plt.show()"
   ]
  },
  {
   "cell_type": "markdown",
   "metadata": {
    "Collapsed": "false"
   },
   "source": [
    "# Challenge 3 - Handle Missing Values\n",
    "\n",
    "The next step would be handling missing values. **We start by examining the number of missing values in each column, which you will do in the next cell.**"
   ]
  },
  {
   "cell_type": "code",
   "execution_count": 91,
   "metadata": {
    "Collapsed": "false"
   },
   "outputs": [
    {
     "data": {
      "text/plain": [
       "URL                            0\n",
       "NUMBER_SPECIAL_CHARACTERS      0\n",
       "CHARSET                        0\n",
       "SERVER                         1\n",
       "CONTENT_LENGTH               812\n",
       "WHOIS_COUNTRY                  0\n",
       "WHOIS_STATEPRO                 0\n",
       "WHOIS_REGDATE                  0\n",
       "WHOIS_UPDATED_DATE             0\n",
       "TCP_CONVERSATION_EXCHANGE      0\n",
       "DIST_REMOTE_TCP_PORT           0\n",
       "REMOTE_IPS                     0\n",
       "APP_BYTES                      0\n",
       "DNS_QUERY_TIMES                1\n",
       "Type                           0\n",
       "dtype: int64"
      ]
     },
     "execution_count": 91,
     "metadata": {},
     "output_type": "execute_result"
    }
   ],
   "source": [
    "# Your code here\n",
    "websites_lean.isna().sum()"
   ]
  },
  {
   "cell_type": "markdown",
   "metadata": {
    "Collapsed": "false"
   },
   "source": [
    "If you remember in the previous labs, we drop a column if the column contains a high proportion of missing values. After dropping those problematic columns, we drop the rows with missing values.\n",
    "\n",
    "#### In the cells below, handle the missing values from the dataset. Remember to comment the rationale of your decisions."
   ]
  },
  {
   "cell_type": "code",
   "execution_count": 92,
   "metadata": {
    "Collapsed": "false"
   },
   "outputs": [],
   "source": [
    "# Your code here\n",
    "missing_values_percentage = websites_lean.CONTENT_LENGTH.isna().sum() / len(websites_lean)\n",
    "missing_values_percentage\n",
    "\n",
    "websites_lean.drop(columns='CONTENT_LENGTH',inplace = True)\n"
   ]
  },
  {
   "cell_type": "code",
   "execution_count": 93,
   "metadata": {
    "Collapsed": "false"
   },
   "outputs": [
    {
     "name": "stdout",
     "output_type": "stream",
     "text": [
      "\n",
      "- I remove the column \"CONTENT_LENGTH\" from my dataset as 45.59% of the rows have no data\n",
      "\n",
      "\n"
     ]
    }
   ],
   "source": [
    "# Your comment here\n",
    "print(\n",
    "\"\"\"\n",
    "- I remove the column \"CONTENT_LENGTH\" from my dataset as {0:.2f}% of the rows have no data\n",
    "\n",
    "\"\"\".format(missing_values_percentage *100\n",
    "\n",
    "\n",
    ")\n",
    ")"
   ]
  },
  {
   "cell_type": "markdown",
   "metadata": {
    "Collapsed": "false"
   },
   "source": [
    "#### Again, examine the number of missing values in each column. \n",
    "\n",
    "If all cleaned, proceed. Otherwise, go back and do more cleaning."
   ]
  },
  {
   "cell_type": "code",
   "execution_count": 94,
   "metadata": {},
   "outputs": [
    {
     "data": {
      "text/html": [
       "<div>\n",
       "<style scoped>\n",
       "    .dataframe tbody tr th:only-of-type {\n",
       "        vertical-align: middle;\n",
       "    }\n",
       "\n",
       "    .dataframe tbody tr th {\n",
       "        vertical-align: top;\n",
       "    }\n",
       "\n",
       "    .dataframe thead th {\n",
       "        text-align: right;\n",
       "    }\n",
       "</style>\n",
       "<table border=\"1\" class=\"dataframe\">\n",
       "  <thead>\n",
       "    <tr style=\"text-align: right;\">\n",
       "      <th></th>\n",
       "      <th>URL</th>\n",
       "      <th>NUMBER_SPECIAL_CHARACTERS</th>\n",
       "      <th>CHARSET</th>\n",
       "      <th>SERVER</th>\n",
       "      <th>WHOIS_COUNTRY</th>\n",
       "      <th>WHOIS_STATEPRO</th>\n",
       "      <th>WHOIS_REGDATE</th>\n",
       "      <th>WHOIS_UPDATED_DATE</th>\n",
       "      <th>TCP_CONVERSATION_EXCHANGE</th>\n",
       "      <th>DIST_REMOTE_TCP_PORT</th>\n",
       "      <th>REMOTE_IPS</th>\n",
       "      <th>APP_BYTES</th>\n",
       "      <th>DNS_QUERY_TIMES</th>\n",
       "      <th>Type</th>\n",
       "    </tr>\n",
       "  </thead>\n",
       "  <tbody>\n",
       "    <tr>\n",
       "      <th>4</th>\n",
       "      <td>B0_403</td>\n",
       "      <td>6</td>\n",
       "      <td>UTF-8</td>\n",
       "      <td>None</td>\n",
       "      <td>US</td>\n",
       "      <td>TX</td>\n",
       "      <td>12/05/1996 0:00</td>\n",
       "      <td>11/04/2017 0:00</td>\n",
       "      <td>57</td>\n",
       "      <td>2</td>\n",
       "      <td>5</td>\n",
       "      <td>4278</td>\n",
       "      <td>4.0</td>\n",
       "      <td>0</td>\n",
       "    </tr>\n",
       "    <tr>\n",
       "      <th>12</th>\n",
       "      <td>B0_22</td>\n",
       "      <td>7</td>\n",
       "      <td>utf-8</td>\n",
       "      <td>None</td>\n",
       "      <td>GB</td>\n",
       "      <td>None</td>\n",
       "      <td>11/10/2002 0:00</td>\n",
       "      <td>6/10/2016 0:00</td>\n",
       "      <td>16</td>\n",
       "      <td>6</td>\n",
       "      <td>8</td>\n",
       "      <td>1492</td>\n",
       "      <td>4.0</td>\n",
       "      <td>0</td>\n",
       "    </tr>\n",
       "    <tr>\n",
       "      <th>33</th>\n",
       "      <td>B0_2217</td>\n",
       "      <td>6</td>\n",
       "      <td>ISO-8859-1</td>\n",
       "      <td>None</td>\n",
       "      <td>US</td>\n",
       "      <td>Arizona</td>\n",
       "      <td>31/12/1999 0:00</td>\n",
       "      <td>9/04/2017 0:00</td>\n",
       "      <td>7</td>\n",
       "      <td>4</td>\n",
       "      <td>5</td>\n",
       "      <td>630</td>\n",
       "      <td>0.0</td>\n",
       "      <td>0</td>\n",
       "    </tr>\n",
       "    <tr>\n",
       "      <th>35</th>\n",
       "      <td>B0_23</td>\n",
       "      <td>6</td>\n",
       "      <td>None</td>\n",
       "      <td>None</td>\n",
       "      <td>US</td>\n",
       "      <td>TX</td>\n",
       "      <td>30/07/1996 0:00</td>\n",
       "      <td>4/07/2016 0:00</td>\n",
       "      <td>19</td>\n",
       "      <td>7</td>\n",
       "      <td>6</td>\n",
       "      <td>2404</td>\n",
       "      <td>4.0</td>\n",
       "      <td>0</td>\n",
       "    </tr>\n",
       "    <tr>\n",
       "      <th>36</th>\n",
       "      <td>B0_241</td>\n",
       "      <td>6</td>\n",
       "      <td>UTF-8</td>\n",
       "      <td>None</td>\n",
       "      <td>GB</td>\n",
       "      <td>None</td>\n",
       "      <td>9/05/2008 0:00</td>\n",
       "      <td>27/11/2015 0:00</td>\n",
       "      <td>19</td>\n",
       "      <td>14</td>\n",
       "      <td>6</td>\n",
       "      <td>1980</td>\n",
       "      <td>4.0</td>\n",
       "      <td>0</td>\n",
       "    </tr>\n",
       "    <tr>\n",
       "      <th>...</th>\n",
       "      <td>...</td>\n",
       "      <td>...</td>\n",
       "      <td>...</td>\n",
       "      <td>...</td>\n",
       "      <td>...</td>\n",
       "      <td>...</td>\n",
       "      <td>...</td>\n",
       "      <td>...</td>\n",
       "      <td>...</td>\n",
       "      <td>...</td>\n",
       "      <td>...</td>\n",
       "      <td>...</td>\n",
       "      <td>...</td>\n",
       "      <td>...</td>\n",
       "    </tr>\n",
       "    <tr>\n",
       "      <th>1744</th>\n",
       "      <td>B0_834</td>\n",
       "      <td>43</td>\n",
       "      <td>utf-8</td>\n",
       "      <td>None</td>\n",
       "      <td>None</td>\n",
       "      <td>None</td>\n",
       "      <td>14/12/1999 0:00</td>\n",
       "      <td>27/05/2016 0:00</td>\n",
       "      <td>0</td>\n",
       "      <td>0</td>\n",
       "      <td>0</td>\n",
       "      <td>0</td>\n",
       "      <td>0.0</td>\n",
       "      <td>0</td>\n",
       "    </tr>\n",
       "    <tr>\n",
       "      <th>1759</th>\n",
       "      <td>B0_216</td>\n",
       "      <td>31</td>\n",
       "      <td>UTF-8</td>\n",
       "      <td>None</td>\n",
       "      <td>US</td>\n",
       "      <td>NY</td>\n",
       "      <td>10/08/1995 0:00</td>\n",
       "      <td>5/08/2016 0:00</td>\n",
       "      <td>10</td>\n",
       "      <td>3</td>\n",
       "      <td>3</td>\n",
       "      <td>1354</td>\n",
       "      <td>8.0</td>\n",
       "      <td>0</td>\n",
       "    </tr>\n",
       "    <tr>\n",
       "      <th>1763</th>\n",
       "      <td>B0_1361</td>\n",
       "      <td>23</td>\n",
       "      <td>ISO-8859-1</td>\n",
       "      <td>None</td>\n",
       "      <td>CA</td>\n",
       "      <td>Quebec</td>\n",
       "      <td>8/01/1997 0:00</td>\n",
       "      <td>2/06/2009 0:00</td>\n",
       "      <td>0</td>\n",
       "      <td>0</td>\n",
       "      <td>0</td>\n",
       "      <td>0</td>\n",
       "      <td>0.0</td>\n",
       "      <td>0</td>\n",
       "    </tr>\n",
       "    <tr>\n",
       "      <th>1766</th>\n",
       "      <td>B0_755</td>\n",
       "      <td>21</td>\n",
       "      <td>UTF-8</td>\n",
       "      <td>None</td>\n",
       "      <td>US</td>\n",
       "      <td>UT</td>\n",
       "      <td>29/07/1998 4:00</td>\n",
       "      <td>17/03/2016 4:34</td>\n",
       "      <td>33</td>\n",
       "      <td>10</td>\n",
       "      <td>8</td>\n",
       "      <td>3764</td>\n",
       "      <td>8.0</td>\n",
       "      <td>0</td>\n",
       "    </tr>\n",
       "    <tr>\n",
       "      <th>1768</th>\n",
       "      <td>B0_62</td>\n",
       "      <td>29</td>\n",
       "      <td>UTF-8</td>\n",
       "      <td>None</td>\n",
       "      <td>US</td>\n",
       "      <td>CA</td>\n",
       "      <td>14/08/1997 0:00</td>\n",
       "      <td>14/06/2016 0:00</td>\n",
       "      <td>19</td>\n",
       "      <td>3</td>\n",
       "      <td>7</td>\n",
       "      <td>2402</td>\n",
       "      <td>6.0</td>\n",
       "      <td>0</td>\n",
       "    </tr>\n",
       "  </tbody>\n",
       "</table>\n",
       "<p>175 rows × 14 columns</p>\n",
       "</div>"
      ],
      "text/plain": [
       "          URL  NUMBER_SPECIAL_CHARACTERS     CHARSET SERVER WHOIS_COUNTRY  \\\n",
       "4      B0_403                          6       UTF-8   None            US   \n",
       "12      B0_22                          7       utf-8   None            GB   \n",
       "33    B0_2217                          6  ISO-8859-1   None            US   \n",
       "35      B0_23                          6        None   None            US   \n",
       "36     B0_241                          6       UTF-8   None            GB   \n",
       "...       ...                        ...         ...    ...           ...   \n",
       "1744   B0_834                         43       utf-8   None          None   \n",
       "1759   B0_216                         31       UTF-8   None            US   \n",
       "1763  B0_1361                         23  ISO-8859-1   None            CA   \n",
       "1766   B0_755                         21       UTF-8   None            US   \n",
       "1768    B0_62                         29       UTF-8   None            US   \n",
       "\n",
       "     WHOIS_STATEPRO    WHOIS_REGDATE WHOIS_UPDATED_DATE  \\\n",
       "4                TX  12/05/1996 0:00    11/04/2017 0:00   \n",
       "12             None  11/10/2002 0:00     6/10/2016 0:00   \n",
       "33          Arizona  31/12/1999 0:00     9/04/2017 0:00   \n",
       "35               TX  30/07/1996 0:00     4/07/2016 0:00   \n",
       "36             None   9/05/2008 0:00    27/11/2015 0:00   \n",
       "...             ...              ...                ...   \n",
       "1744           None  14/12/1999 0:00    27/05/2016 0:00   \n",
       "1759             NY  10/08/1995 0:00     5/08/2016 0:00   \n",
       "1763         Quebec   8/01/1997 0:00     2/06/2009 0:00   \n",
       "1766             UT  29/07/1998 4:00    17/03/2016 4:34   \n",
       "1768             CA  14/08/1997 0:00    14/06/2016 0:00   \n",
       "\n",
       "      TCP_CONVERSATION_EXCHANGE  DIST_REMOTE_TCP_PORT  REMOTE_IPS  APP_BYTES  \\\n",
       "4                            57                     2           5       4278   \n",
       "12                           16                     6           8       1492   \n",
       "33                            7                     4           5        630   \n",
       "35                           19                     7           6       2404   \n",
       "36                           19                    14           6       1980   \n",
       "...                         ...                   ...         ...        ...   \n",
       "1744                          0                     0           0          0   \n",
       "1759                         10                     3           3       1354   \n",
       "1763                          0                     0           0          0   \n",
       "1766                         33                    10           8       3764   \n",
       "1768                         19                     3           7       2402   \n",
       "\n",
       "      DNS_QUERY_TIMES  Type  \n",
       "4                 4.0     0  \n",
       "12                4.0     0  \n",
       "33                0.0     0  \n",
       "35                4.0     0  \n",
       "36                4.0     0  \n",
       "...               ...   ...  \n",
       "1744              0.0     0  \n",
       "1759              8.0     0  \n",
       "1763              0.0     0  \n",
       "1766              8.0     0  \n",
       "1768              6.0     0  \n",
       "\n",
       "[175 rows x 14 columns]"
      ]
     },
     "execution_count": 94,
     "metadata": {},
     "output_type": "execute_result"
    }
   ],
   "source": [
    "websites_lean.loc[websites_lean.SERVER == 'None']"
   ]
  },
  {
   "cell_type": "code",
   "execution_count": 95,
   "metadata": {
    "Collapsed": "false"
   },
   "outputs": [
    {
     "name": "stdout",
     "output_type": "stream",
     "text": [
      "URL                          0\n",
      "NUMBER_SPECIAL_CHARACTERS    0\n",
      "CHARSET                      0\n",
      "SERVER                       1\n",
      "WHOIS_COUNTRY                0\n",
      "WHOIS_STATEPRO               0\n",
      "WHOIS_REGDATE                0\n",
      "WHOIS_UPDATED_DATE           0\n",
      "TCP_CONVERSATION_EXCHANGE    0\n",
      "DIST_REMOTE_TCP_PORT         0\n",
      "REMOTE_IPS                   0\n",
      "APP_BYTES                    0\n",
      "DNS_QUERY_TIMES              1\n",
      "Type                         0\n",
      "dtype: int64\n",
      "\n",
      "- I will the blanks for column \"DNS_QUERY_TIMES\"              \n",
      "\n",
      "\n"
     ]
    },
    {
     "data": {
      "text/plain": [
       "URL                          0\n",
       "NUMBER_SPECIAL_CHARACTERS    0\n",
       "CHARSET                      0\n",
       "SERVER                       0\n",
       "WHOIS_COUNTRY                0\n",
       "WHOIS_STATEPRO               0\n",
       "WHOIS_REGDATE                0\n",
       "WHOIS_UPDATED_DATE           0\n",
       "TCP_CONVERSATION_EXCHANGE    0\n",
       "DIST_REMOTE_TCP_PORT         0\n",
       "REMOTE_IPS                   0\n",
       "APP_BYTES                    0\n",
       "DNS_QUERY_TIMES              0\n",
       "Type                         0\n",
       "dtype: int64"
      ]
     },
     "execution_count": 95,
     "metadata": {},
     "output_type": "execute_result"
    }
   ],
   "source": [
    "# Examine missing values in each column\n",
    "print(websites_lean.isna().sum())\n",
    "    \n",
    "print(\n",
    "\"\"\"\n",
    "- I will the blanks for column \"DNS_QUERY_TIMES\"              \n",
    "\n",
    "\"\"\")\n",
    "\n",
    "websites_lean.dropna(inplace=True)\n",
    "websites_lean.isna().sum()"
   ]
  },
  {
   "cell_type": "markdown",
   "metadata": {
    "Collapsed": "false"
   },
   "source": [
    "# Challenge 4 - Handle `WHOIS_*` Categorical Data"
   ]
  },
  {
   "cell_type": "markdown",
   "metadata": {
    "Collapsed": "false"
   },
   "source": [
    "There are several categorical columns we need to handle. These columns are:\n",
    "\n",
    "* `URL`\n",
    "* `CHARSET`\n",
    "* `SERVER`\n",
    "* `WHOIS_COUNTRY`\n",
    "* `WHOIS_STATEPRO`\n",
    "* `WHOIS_REGDATE`\n",
    "* `WHOIS_UPDATED_DATE`\n",
    "\n",
    "How to handle string columns is always case by case. Let's start by working on `WHOIS_COUNTRY`. Your steps are:\n",
    "\n",
    "1. List out the unique values of `WHOIS_COUNTRY`.\n",
    "1. Consolidate the country values with consistent country codes. For example, the following values refer to the same country and should use consistent country code:\n",
    "    * `CY` and `Cyprus`\n",
    "    * `US` and `us`\n",
    "    * `SE` and `se`\n",
    "    * `GB`, `United Kingdom`, and `[u'GB'; u'UK']`\n",
    "\n",
    "#### In the cells below, fix the country values as intructed above."
   ]
  },
  {
   "cell_type": "code",
   "execution_count": 96,
   "metadata": {},
   "outputs": [
    {
     "name": "stdout",
     "output_type": "stream",
     "text": [
      "These are the unique values : ['None' 'US' 'SC' 'GB' 'UK' 'RU' 'AU' 'CA' 'PA' 'se' 'IN' 'LU' 'TH'\n",
      " \"[u'GB'; u'UK']\" 'FR' 'NL' 'UG' 'JP' 'CN' 'SE' 'SI' 'IL' 'ru' 'KY' 'AT'\n",
      " 'CZ' 'PH' 'BE' 'NO' 'TR' 'LV' 'DE' 'ES' 'BR' 'us' 'KR' 'HK' 'UA' 'CH'\n",
      " 'United Kingdom' 'BS' 'PK' 'IT' 'Cyprus' 'BY' 'AE' 'IE' 'UY' 'KG']\n"
     ]
    }
   ],
   "source": [
    "print(\n",
    "    \"These are the unique values :\" , \n",
    "    \n",
    "    websites_lean.WHOIS_COUNTRY.unique())"
   ]
  },
  {
   "cell_type": "code",
   "execution_count": 97,
   "metadata": {
    "Collapsed": "false"
   },
   "outputs": [
    {
     "data": {
      "text/plain": [
       "0       None\n",
       "1       None\n",
       "2       None\n",
       "3         US\n",
       "4         US\n",
       "        ... \n",
       "1776      ES\n",
       "1777      ES\n",
       "1778      US\n",
       "1779      US\n",
       "1780      US\n",
       "Name: WHOIS_COUNTRY, Length: 1779, dtype: object"
      ]
     },
     "execution_count": 97,
     "metadata": {},
     "output_type": "execute_result"
    }
   ],
   "source": [
    "# Your code here\n",
    "def fix_country_codes(x):\n",
    "    \n",
    "    def check_uk(x):\n",
    "        \n",
    "        if x.upper() == 'UK' :\n",
    "            y = 'GB'\n",
    "        else:\n",
    "            y = x\n",
    "        \n",
    "        return y\n",
    "\n",
    "\n",
    "    if len(x) == 2:\n",
    "        z = x.upper() \n",
    "        \n",
    "\n",
    "    elif x != 'None' :\n",
    "        y = ''.join(re.findall(r\"[A-Z]\",x))\n",
    "        \n",
    "        if len(y) > 1:\n",
    "            z = ''.join(re.findall(r\"[A-Z]\",x))[:2]    \n",
    "\n",
    "        else:  \n",
    "            z = x[:2].upper()\n",
    "\n",
    "    else: \n",
    "        z = 'None'\n",
    "        \n",
    "    return check_uk(z)\n",
    "\n",
    "\n",
    "websites_lean.WHOIS_COUNTRY.apply(fix_country_codes)"
   ]
  },
  {
   "cell_type": "markdown",
   "metadata": {
    "Collapsed": "false"
   },
   "source": [
    "Since we have fixed the country values, can we convert this column to ordinal now?\n",
    "\n",
    "Not yet. If you reflect on the previous labs how we handle categorical columns, you probably remember we ended up dropping a lot of those columns because there are too many unique values. Too many unique values in a column is not desirable in machine learning because it makes prediction inaccurate. But there are workarounds under certain conditions. One of the fixable conditions is:\n",
    "\n",
    "#### If a limited number of values account for the majority of data, we can retain these top values and re-label all other rare values.\n",
    "\n",
    "The `WHOIS_COUNTRY` column happens to be this case. You can verify it by print a bar chart of the `value_counts` in the next cell to verify:"
   ]
  },
  {
   "cell_type": "code",
   "execution_count": 98,
   "metadata": {
    "Collapsed": "false"
   },
   "outputs": [],
   "source": [
    "# Your code here\n",
    "websites_lean.WHOIS_COUNTRY = websites_lean.WHOIS_COUNTRY.apply(fix_country_codes)"
   ]
  },
  {
   "cell_type": "markdown",
   "metadata": {
    "Collapsed": "false"
   },
   "source": [
    "#### After verifying, now let's keep the top 10 values of the column and re-label other columns with `OTHER`."
   ]
  },
  {
   "cell_type": "code",
   "execution_count": 99,
   "metadata": {},
   "outputs": [],
   "source": [
    "example = ['test1','test2', 'test3']"
   ]
  },
  {
   "cell_type": "code",
   "execution_count": 100,
   "metadata": {
    "Collapsed": "false"
   },
   "outputs": [],
   "source": [
    "# Your code here\n",
    "# I set the None country to other\n",
    "top_ten = websites_lean.WHOIS_COUNTRY.value_counts()[:10].reset_index()['index'].to_list()\n",
    "\n",
    "\n",
    "\n",
    "websites_lean.WHOIS_COUNTRY = websites_lean.WHOIS_COUNTRY.apply(lambda x : x if x in top_ten else 'Other' )"
   ]
  },
  {
   "cell_type": "markdown",
   "metadata": {
    "Collapsed": "false"
   },
   "source": [
    "Now since `WHOIS_COUNTRY` has been re-labelled, we don't need `WHOIS_STATEPRO` any more because the values of the states or provinces may not be relevant any more. We'll drop this column.\n",
    "\n",
    "In addition, we will also drop `WHOIS_REGDATE` and `WHOIS_UPDATED_DATE`. These are the registration and update dates of the website domains. Not of our concerns.\n",
    "\n",
    "#### In the next cell, drop `['WHOIS_STATEPRO', 'WHOIS_REGDATE', 'WHOIS_UPDATED_DATE']`."
   ]
  },
  {
   "cell_type": "code",
   "execution_count": 101,
   "metadata": {
    "Collapsed": "false"
   },
   "outputs": [],
   "source": [
    "# Your code here\n",
    "websites_lean.drop(columns = ['WHOIS_STATEPRO', 'WHOIS_REGDATE', 'WHOIS_UPDATED_DATE'] , inplace = True)"
   ]
  },
  {
   "cell_type": "markdown",
   "metadata": {
    "Collapsed": "false"
   },
   "source": [
    "# Challenge 5 - Handle Remaining Categorical Data & Convert to Ordinal\n",
    "\n",
    "Now print the `dtypes` of the data again. Besides `WHOIS_COUNTRY` which we already fixed, there should be 3 categorical columns left: `URL`, `CHARSET`, and `SERVER`."
   ]
  },
  {
   "cell_type": "code",
   "execution_count": 102,
   "metadata": {
    "Collapsed": "false"
   },
   "outputs": [
    {
     "data": {
      "text/plain": [
       "URL                           object\n",
       "NUMBER_SPECIAL_CHARACTERS      int64\n",
       "CHARSET                       object\n",
       "SERVER                        object\n",
       "WHOIS_COUNTRY                 object\n",
       "TCP_CONVERSATION_EXCHANGE      int64\n",
       "DIST_REMOTE_TCP_PORT           int64\n",
       "REMOTE_IPS                     int64\n",
       "APP_BYTES                      int64\n",
       "DNS_QUERY_TIMES              float64\n",
       "Type                           int64\n",
       "dtype: object"
      ]
     },
     "execution_count": 102,
     "metadata": {},
     "output_type": "execute_result"
    }
   ],
   "source": [
    "# Your code here\n",
    "websites_lean.dtypes"
   ]
  },
  {
   "cell_type": "markdown",
   "metadata": {
    "Collapsed": "false"
   },
   "source": [
    "#### `URL` is easy. We'll simply drop it because it has too many unique values that there's no way for us to consolidate."
   ]
  },
  {
   "cell_type": "code",
   "execution_count": 103,
   "metadata": {
    "Collapsed": "false"
   },
   "outputs": [],
   "source": [
    "# Your code here\n",
    "websites_lean.drop(columns = 'URL',inplace = True)"
   ]
  },
  {
   "cell_type": "markdown",
   "metadata": {
    "Collapsed": "false"
   },
   "source": [
    "#### Print the unique value counts of `CHARSET`. You see there are only a few unique values. So we can keep it as it is."
   ]
  },
  {
   "cell_type": "code",
   "execution_count": 104,
   "metadata": {
    "Collapsed": "false"
   },
   "outputs": [
    {
     "name": "stdout",
     "output_type": "stream",
     "text": [
      "['iso-8859-1' 'UTF-8' 'us-ascii' 'ISO-8859-1' 'utf-8' 'None'\n",
      " 'windows-1251' 'ISO-8859' 'windows-1252']\n"
     ]
    }
   ],
   "source": [
    "# Your code here\n",
    "print(websites_lean.CHARSET.unique())"
   ]
  },
  {
   "cell_type": "markdown",
   "metadata": {
    "Collapsed": "false"
   },
   "source": [
    "`SERVER` is a little more complicated. Print its unique values and think about how you can consolidate those values.\n",
    "\n",
    "#### Before you think of your own solution, don't read the instructions that come next."
   ]
  },
  {
   "cell_type": "code",
   "execution_count": 105,
   "metadata": {
    "Collapsed": "false"
   },
   "outputs": [
    {
     "name": "stdout",
     "output_type": "stream",
     "text": [
      "['nginx' 'Apache/2.4.10' 'Microsoft-HTTPAPI/2.0' 'None' 'Apache/2'\n",
      " 'nginx/1.10.1' 'Apache' 'Apache/2.2.15 (Red Hat)'\n",
      " 'Apache/2.4.23 (Unix) OpenSSL/1.0.1e-fips mod_bwlimited/1.4'\n",
      " 'openresty/1.11.2.1' 'Apache/2.2.22' 'Apache/2.4.7 (Ubuntu)'\n",
      " 'nginx/1.12.0'\n",
      " 'Apache/2.4.12 (Unix) OpenSSL/1.0.1e-fips mod_bwlimited/1.4'\n",
      " 'Oracle-iPlanet-Web-Server/7.0' 'cloudflare-nginx' 'nginx/1.6.2'\n",
      " 'openresty' 'Heptu web server' 'Pepyaka/1.11.3' 'nginx/1.8.0'\n",
      " 'nginx/1.10.1 + Phusion Passenger 5.0.30' 'Apache/2.2.29 (Amazon)'\n",
      " 'Microsoft-IIS/7.5' 'LiteSpeed'\n",
      " 'Apache/2.4.25 (cPanel) OpenSSL/1.0.1e-fips mod_bwlimited/1.4' 'tsa_c'\n",
      " 'Apache/2.2.0 (Fedora)' 'Apache/2.2.22 (Debian)' 'Apache/2.2.15 (CentOS)'\n",
      " 'Apache/2.4.25' 'Apache/2.4.25 (Amazon) PHP/7.0.14' 'GSE'\n",
      " 'Apache/2.4.23 (Unix) OpenSSL/0.9.8e-fips-rhel5 mod_bwlimited/1.4'\n",
      " 'Apache/2.4.25 (Amazon) OpenSSL/1.0.1k-fips' 'Apache/2.2.22 (Ubuntu)'\n",
      " 'Tengine'\n",
      " 'Apache/2.4.18 (Unix) OpenSSL/0.9.8e-fips-rhel5 mod_bwlimited/1.4'\n",
      " 'Apache/2.4.10 (Debian)' 'Apache/2.4.6 (CentOS) PHP/5.6.8'\n",
      " 'Sun-ONE-Web-Server/6.1'\n",
      " 'Apache/2.4.18 (Unix) OpenSSL/1.0.2e Communique/4.1.10' 'AmazonS3'\n",
      " 'Apache/1.3.37 (Unix) mod_perl/1.29 mod_ssl/2.8.28 OpenSSL/0.9.7e-p1'\n",
      " 'ATS' 'Apache/2.2.27 (CentOS)'\n",
      " 'Apache/2.2.29 (Unix) mod_ssl/2.2.29 OpenSSL/1.0.1e-fips DAV/2 mod_bwlimited/1.4'\n",
      " 'CherryPy/3.6.0' 'Server' 'KHL'\n",
      " 'Apache/2.4.6 (CentOS) OpenSSL/1.0.1e-fips mod_fcgid/2.3.9 PHP/5.4.16 mod_jk/1.2.40'\n",
      " 'Apache/2.2.3 (CentOS)' 'Apache/2.4'\n",
      " 'Apache/1.3.27 (Unix)  (Red-Hat/Linux) mod_perl/1.26 PHP/4.3.3 FrontPage/5.0.2 mod_ssl/2.8.12 OpenSSL/0.9.6b'\n",
      " 'mw2114.codfw.wmnet'\n",
      " 'Apache/2.2.31 (Unix) mod_ssl/2.2.31 OpenSSL/1.0.1e-fips mod_bwlimited/1.4 mod_perl/2.0.8 Perl/v5.10.1'\n",
      " 'Apache/1.3.34 (Unix) PHP/4.4.4' 'Apache/2.2.31 (Amazon)'\n",
      " 'Jetty(9.0.z-SNAPSHOT)' 'Apache/2.2.31 (CentOS)' 'Apache/2.4.12 (Ubuntu)'\n",
      " 'HTTPDaemon'\n",
      " 'Apache/2.2.29 (Unix) mod_ssl/2.2.29 OpenSSL/1.0.1e-fips mod_bwlimited/1.4'\n",
      " 'MediaFire' 'DOSarrest' 'mw2232.codfw.wmnet' 'Sucuri/Cloudproxy'\n",
      " 'Apache/2.4.23 (Unix)' 'nginx/0.7.65' 'mw2260.codfw.wmnet'\n",
      " 'Apache/2.2.32' 'mw2239.codfw.wmnet' 'DPS/1.1.8'\n",
      " 'Apache/2.0.52 (Red Hat)'\n",
      " 'Apache/2.2.25 (Unix) mod_ssl/2.2.25 OpenSSL/0.9.8e-fips-rhel5 mod_bwlimited/1.4'\n",
      " 'Apache/1.3.31 (Unix) PHP/4.3.9 mod_perl/1.29 rus/PL30.20'\n",
      " 'Apache/2.2.13 (Unix) mod_ssl/2.2.13 OpenSSL/0.9.8e-fips-rhel5 mod_auth_passthrough/2.1 mod_bwlimited/1.4 PHP/5.2.10'\n",
      " 'nginx/1.1.19' 'ATS/5.3.0' 'Apache/2.2.3 (Red Hat)' 'nginx/1.4.3'\n",
      " 'Apache/2.2.29 (Unix) mod_ssl/2.2.29 OpenSSL/1.0.1e-fips mod_bwlimited/1.4 PHP/5.4.35'\n",
      " 'Apache/2.2.14 (FreeBSD) mod_ssl/2.2.14 OpenSSL/0.9.8y DAV/2 PHP/5.2.12 with Suhosin-Patch'\n",
      " 'Apache/2.2.14 (Unix) mod_ssl/2.2.14 OpenSSL/0.9.8e-fips-rhel5'\n",
      " 'Apache/1.3.39 (Unix) PHP/5.2.5 mod_auth_passthrough/1.8 mod_bwlimited/1.4 mod_log_bytes/1.2 mod_gzip/1.3.26.1a FrontPage/5.0.2.2635 DAV/1.0.3 mod_ssl/2.8.30 OpenSSL/0.9.7a'\n",
      " 'SSWS' 'Microsoft-IIS/8.0' 'Apache/2.4.18 (Ubuntu)'\n",
      " 'Apache/2.4.6 (CentOS) OpenSSL/1.0.1e-fips PHP/5.4.16 mod_apreq2-20090110/2.8.0 mod_perl/2.0.10 Perl/v5.24.1'\n",
      " 'Apache/2.2.20 (Unix)' 'YouTubeFrontEnd' 'nginx/1.11.3' 'nginx/1.11.2'\n",
      " 'nginx/1.10.0 (Ubuntu)' 'nginx/1.8.1' 'nginx/1.11.10'\n",
      " 'Squeegit/1.2.5 (3_sir)'\n",
      " 'Virtuoso/07.20.3217 (Linux) i686-generic-linux-glibc212-64  VDB'\n",
      " 'Apache-Coyote/1.1' 'Yippee-Ki-Yay' 'mw2165.codfw.wmnet'\n",
      " 'mw2192.codfw.wmnet' 'Apache/2.2.23 (Amazon)' 'nginx/1.4.6 (Ubuntu)'\n",
      " 'nginx + Phusion Passenger' 'Proxy Pandeiro UOL' 'mw2231.codfw.wmnet'\n",
      " 'openresty/1.11.2.2' 'mw2109.codfw.wmnet' 'nginx/0.8.54' 'Apache/2.4.6'\n",
      " 'mw2225.codfw.wmnet' 'Apache/1.3.27 (Unix) PHP/4.4.1'\n",
      " 'mw2236.codfw.wmnet' 'mw2101.codfw.wmnet' 'Varnish' 'Resin/3.1.8'\n",
      " 'mw2164.codfw.wmnet' 'Microsoft-IIS/8.5' 'mw2242.codfw.wmnet'\n",
      " 'Apache/2.4.6 (CentOS) OpenSSL/1.0.1e-fips PHP/5.5.38'\n",
      " 'mw2175.codfw.wmnet' 'mw2107.codfw.wmnet' 'mw2190.codfw.wmnet'\n",
      " 'Apache/2.4.6 (CentOS)' 'nginx/1.13.0' 'barista/5.1.3'\n",
      " 'mw2103.codfw.wmnet' 'Apache/2.4.25 (Debian)' 'ECD (fll/0790)'\n",
      " 'Pagely Gateway/1.5.1' 'nginx/1.10.3'\n",
      " 'Apache/2.4.25 (FreeBSD) OpenSSL/1.0.1s-freebsd PHP/5.6.30'\n",
      " 'mw2097.codfw.wmnet' 'mw2233.codfw.wmnet' 'fbs' 'mw2199.codfw.wmnet'\n",
      " 'mw2255.codfw.wmnet' 'mw2228.codfw.wmnet'\n",
      " 'Apache/2.2.31 (Unix) mod_ssl/2.2.31 OpenSSL/1.0.1e-fips mod_bwlimited/1.4 mod_fcgid/2.3.9'\n",
      " 'gunicorn/19.7.1'\n",
      " 'Apache/2.2.31 (Unix) mod_ssl/2.2.31 OpenSSL/0.9.8e-fips-rhel5 mod_bwlimited/1.4'\n",
      " 'Apache/2.4.6 (CentOS) OpenSSL/1.0.1e-fips PHP/5.4.16'\n",
      " 'mw2241.codfw.wmnet'\n",
      " 'Apache/1.3.33 (Unix) mod_ssl/2.8.24 OpenSSL/0.9.7e-p1 PHP/4.4.8'\n",
      " 'lighttpd' 'mw2230.codfw.wmnet'\n",
      " 'Apache/2.4.6 (CentOS) OpenSSL/1.0.1e-fips' 'AkamaiGHost'\n",
      " 'mw2240.codfw.wmnet' 'nginx/1.10.2' 'PWS/8.2.0.7' 'nginx/1.2.1' 'nxfps'\n",
      " 'Apache/2.2.16 (Unix) mod_ssl/2.2.16 OpenSSL/0.9.8e-fips-rhel5 mod_auth_passthrough/2.1 mod_bwlimited/1.4'\n",
      " 'Play' 'mw2185.codfw.wmnet' 'Apache/2.4.10 (Unix) OpenSSL/1.0.1k'\n",
      " 'Apache/Not telling (Unix) AuthTDS/1.1' 'Apache/2.2.11 (Unix) PHP/5.2.6'\n",
      " 'Scratch Web Server' 'marrakesh 1.12.2' 'nginx/0.8.35'\n",
      " 'mw2182.codfw.wmnet' 'squid/3.3.8' 'nginx/1.10.0' 'Nginx (OpenBSD)'\n",
      " 'Zope/(2.13.16; python 2.6.8; linux2) ZServer/1.1'\n",
      " 'Apache/2.2.26 (Unix) mod_ssl/2.2.26 OpenSSL/0.9.8e-fips-rhel5 mod_bwlimited/1.4 PHP/5.4.26'\n",
      " 'Apache/2.2.21 (Unix) mod_ssl/2.2.21 OpenSSL/0.9.8e-fips-rhel5 PHP/5.3.10'\n",
      " 'Apache/2.2.27 (Unix) OpenAM Web Agent/4.0.1-1 mod_ssl/2.2.27 OpenSSL/1.0.1p PHP/5.3.28'\n",
      " 'mw2104.codfw.wmnet' '.V01 Apache' 'mw2110.codfw.wmnet'\n",
      " 'Apache/2.4.6 (Unix) mod_jk/1.2.37 PHP/5.5.1 OpenSSL/1.0.1g mod_fcgid/2.3.9'\n",
      " 'mw2176.codfw.wmnet' 'mw2187.codfw.wmnet' 'mw2106.codfw.wmnet'\n",
      " 'Microsoft-IIS/7.0'\n",
      " 'Apache/1.3.42 Ben-SSL/1.60 (Unix) mod_gzip/1.3.26.1a mod_fastcgi/2.4.6 mod_throttle/3.1.2 Chili!Soft-ASP/3.6.2 FrontPage/5.0.2.2635 mod_perl/1.31 PHP/4.4.9'\n",
      " 'Aeria Games & Entertainment' 'nginx/1.6.3 + Phusion Passenger'\n",
      " 'Apache/2.4.10 (Debian) PHP/5.6.30-0+deb8u1 mod_perl/2.0.9dev Perl/v5.20.2'\n",
      " 'mw2173.codfw.wmnet'\n",
      " 'Apache/2.4.6 (Red Hat Enterprise Linux) OpenSSL/1.0.1e-fips mod_fcgid/2.3.9 Communique/4.2.0'\n",
      " 'Apache/2.2.15 (CentOS) DAV/2 mod_ssl/2.2.15 OpenSSL/1.0.1e-fips PHP/5.3.3'\n",
      " 'Apache/2.4.6 (CentOS) OpenSSL/1.0.1e-fips PHP/7.0.14'\n",
      " 'mw2198.codfw.wmnet' 'mw2172.codfw.wmnet' 'nginx/1.2.6'\n",
      " 'Apache/2.4.6 (Unix) mod_jk/1.2.37'\n",
      " 'Apache/2.4.25 (Unix) OpenSSL/1.0.1e-fips mod_bwlimited/1.4'\n",
      " 'nginx/1.4.4' 'Cowboy' 'mw2113.codfw.wmnet'\n",
      " 'Apache/2.2.14 (Unix) mod_ssl/2.2.14 OpenSSL/0.9.8a'\n",
      " 'Apache/2.4.10 (Ubuntu)' 'mw2224.codfw.wmnet' 'mw2171.codfw.wmnet'\n",
      " 'mw2257.codfw.wmnet' 'mw2226.codfw.wmnet' 'DMS/1.0.42' 'nginx/1.6.3'\n",
      " 'Application-Server' 'Apache/2.4.6 (CentOS) mod_fcgid/2.3.9 PHP/5.6.30'\n",
      " 'mw2177.codfw.wmnet' 'lighttpd/1.4.28' 'mw2197.codfw.wmnet'\n",
      " 'Apache/2.2.31 (FreeBSD) PHP/5.4.15 mod_ssl/2.2.31 OpenSSL/1.0.2d DAV/2'\n",
      " 'Apache/2.2.26 (Unix) mod_ssl/2.2.26 OpenSSL/1.0.1e-fips DAV/2 mod_bwlimited/1.4'\n",
      " 'Apache/2.2.24 (Unix) DAV/2 PHP/5.3.26 mod_ssl/2.2.24 OpenSSL/0.9.8y'\n",
      " 'mw2178.codfw.wmnet' '294' 'Microsoft-IIS/6.0' 'nginx/1.7.4'\n",
      " 'Apache/2.2.22 (Debian) mod_python/3.3.1 Python/2.7.3 mod_ssl/2.2.22 OpenSSL/1.0.1t'\n",
      " 'Apache/2.4.16 (Ubuntu)' 'www.lexisnexis.com  9999' 'nginx/0.8.38'\n",
      " 'mw2238.codfw.wmnet' 'Pizza/pepperoni' 'XXXXXXXXXXXXXXXXXXXXXX' 'MI'\n",
      " 'Roxen/5.4.98-r2'\n",
      " 'Apache/2.2.31 (Unix) mod_ssl/2.2.31 OpenSSL/1.0.1e-fips mod_bwlimited/1.4'\n",
      " 'nginx/1.9.13' 'mw2180.codfw.wmnet' 'Apache/2.2.14 (Ubuntu)'\n",
      " 'ebay server' 'nginx/0.8.55' 'Apache/2.2.10 (Linux/SUSE)' 'nginx/1.7.12'\n",
      " 'Apache/2.0.63 (Unix) mod_ssl/2.0.63 OpenSSL/0.9.8e-fips-rhel5 mod_auth_passthrough/2.1 mod_bwlimited/1.4 PHP/5.3.6'\n",
      " 'Boston.com Frontend' 'My Arse' 'IdeaWebServer/v0.80'\n",
      " 'Apache/2.4.17 (Unix) OpenSSL/1.0.1e-fips PHP/5.6.19'\n",
      " 'Microsoft-IIS/7.5; litigation_essentials.lexisnexis.com  9999'\n",
      " 'Apache/2.2.16 (Debian)']\n"
     ]
    }
   ],
   "source": [
    "# Your code here\n",
    "print(websites_lean.SERVER.unique())"
   ]
  },
  {
   "cell_type": "code",
   "execution_count": 106,
   "metadata": {
    "Collapsed": "false"
   },
   "outputs": [
    {
     "name": "stdout",
     "output_type": "stream",
     "text": [
      "There are a lot of different versions but some names appear frequently such as apache and nginx\n"
     ]
    }
   ],
   "source": [
    "# Your comment here\n",
    "print(\n",
    "\"\"\"There are a lot of different versions but some names appear frequently such as apache and nginx\"\"\")"
   ]
  },
  {
   "cell_type": "markdown",
   "metadata": {
    "Collapsed": "false"
   },
   "source": [
    "Although there are so many unique values in the `SERVER` column, there are actually only 3 main server types: `Microsoft`, `Apache`, and `nginx`. Just check if each `SERVER` value contains any of those server types and re-label them. For `SERVER` values that don't contain any of those substrings, label with `Other`.\n",
    "\n",
    "At the end, your `SERVER` column should only contain 4 unique values: `Microsoft`, `Apache`, `nginx`, and `Other`."
   ]
  },
  {
   "cell_type": "code",
   "execution_count": 107,
   "metadata": {},
   "outputs": [],
   "source": [
    "# Your code here\n",
    "\n",
    "def find_server(x):\n",
    "    values = ['Microsoft', 'Apache', 'nginx']\n",
    "    for i in values:\n",
    "        if str(x).find(i) >= 0:\n",
    "            y = i\n",
    "            return y\n",
    "        else: \n",
    "            continue\n",
    "    return 'Other'\n",
    "\n",
    "websites_lean.SERVER = websites_lean.SERVER.apply(find_server)\n"
   ]
  },
  {
   "cell_type": "code",
   "execution_count": 108,
   "metadata": {
    "Collapsed": "false"
   },
   "outputs": [
    {
     "data": {
      "text/plain": [
       "Apache       642\n",
       "Other        504\n",
       "nginx        435\n",
       "Microsoft    198\n",
       "Name: SERVER, dtype: int64"
      ]
     },
     "execution_count": 108,
     "metadata": {},
     "output_type": "execute_result"
    }
   ],
   "source": [
    "# Count `SERVER` value counts here\n",
    "websites_lean.SERVER.value_counts()"
   ]
  },
  {
   "cell_type": "markdown",
   "metadata": {
    "Collapsed": "false"
   },
   "source": [
    "OK, all our categorical data are fixed now. **Let's convert them to ordinal data using Pandas' `get_dummies` function ([documentation](https://pandas.pydata.org/pandas-docs/stable/generated/pandas.get_dummies.html)).** Make sure you drop the categorical columns by passing `drop_first=True` to `get_dummies` as we don't need them any more. **Also, assign the data with dummy values to a new variable `website_dummy`.**"
   ]
  },
  {
   "cell_type": "code",
   "execution_count": 109,
   "metadata": {
    "Collapsed": "false"
   },
   "outputs": [
    {
     "data": {
      "text/html": [
       "<div>\n",
       "<style scoped>\n",
       "    .dataframe tbody tr th:only-of-type {\n",
       "        vertical-align: middle;\n",
       "    }\n",
       "\n",
       "    .dataframe tbody tr th {\n",
       "        vertical-align: top;\n",
       "    }\n",
       "\n",
       "    .dataframe thead th {\n",
       "        text-align: right;\n",
       "    }\n",
       "</style>\n",
       "<table border=\"1\" class=\"dataframe\">\n",
       "  <thead>\n",
       "    <tr style=\"text-align: right;\">\n",
       "      <th></th>\n",
       "      <th>NUMBER_SPECIAL_CHARACTERS</th>\n",
       "      <th>TCP_CONVERSATION_EXCHANGE</th>\n",
       "      <th>DIST_REMOTE_TCP_PORT</th>\n",
       "      <th>REMOTE_IPS</th>\n",
       "      <th>APP_BYTES</th>\n",
       "      <th>DNS_QUERY_TIMES</th>\n",
       "      <th>Type</th>\n",
       "      <th>CHARSET_ISO-8859-1</th>\n",
       "      <th>CHARSET_None</th>\n",
       "      <th>CHARSET_UTF-8</th>\n",
       "      <th>CHARSET_iso-8859-1</th>\n",
       "      <th>CHARSET_us-ascii</th>\n",
       "      <th>CHARSET_utf-8</th>\n",
       "      <th>CHARSET_windows-1251</th>\n",
       "      <th>CHARSET_windows-1252</th>\n",
       "      <th>SERVER_Microsoft</th>\n",
       "      <th>SERVER_Other</th>\n",
       "      <th>SERVER_nginx</th>\n",
       "      <th>WHOIS_COUNTRY_CA</th>\n",
       "      <th>WHOIS_COUNTRY_CN</th>\n",
       "      <th>WHOIS_COUNTRY_ES</th>\n",
       "      <th>WHOIS_COUNTRY_GB</th>\n",
       "      <th>WHOIS_COUNTRY_IN</th>\n",
       "      <th>WHOIS_COUNTRY_JP</th>\n",
       "      <th>WHOIS_COUNTRY_None</th>\n",
       "      <th>WHOIS_COUNTRY_Other</th>\n",
       "      <th>WHOIS_COUNTRY_PA</th>\n",
       "      <th>WHOIS_COUNTRY_US</th>\n",
       "    </tr>\n",
       "  </thead>\n",
       "  <tbody>\n",
       "    <tr>\n",
       "      <th>0</th>\n",
       "      <td>7</td>\n",
       "      <td>7</td>\n",
       "      <td>0</td>\n",
       "      <td>2</td>\n",
       "      <td>700</td>\n",
       "      <td>2.0</td>\n",
       "      <td>1</td>\n",
       "      <td>0</td>\n",
       "      <td>0</td>\n",
       "      <td>0</td>\n",
       "      <td>1</td>\n",
       "      <td>0</td>\n",
       "      <td>0</td>\n",
       "      <td>0</td>\n",
       "      <td>0</td>\n",
       "      <td>0</td>\n",
       "      <td>0</td>\n",
       "      <td>1</td>\n",
       "      <td>0</td>\n",
       "      <td>0</td>\n",
       "      <td>0</td>\n",
       "      <td>0</td>\n",
       "      <td>0</td>\n",
       "      <td>0</td>\n",
       "      <td>1</td>\n",
       "      <td>0</td>\n",
       "      <td>0</td>\n",
       "      <td>0</td>\n",
       "    </tr>\n",
       "    <tr>\n",
       "      <th>1</th>\n",
       "      <td>6</td>\n",
       "      <td>17</td>\n",
       "      <td>7</td>\n",
       "      <td>4</td>\n",
       "      <td>1230</td>\n",
       "      <td>0.0</td>\n",
       "      <td>0</td>\n",
       "      <td>0</td>\n",
       "      <td>0</td>\n",
       "      <td>1</td>\n",
       "      <td>0</td>\n",
       "      <td>0</td>\n",
       "      <td>0</td>\n",
       "      <td>0</td>\n",
       "      <td>0</td>\n",
       "      <td>0</td>\n",
       "      <td>0</td>\n",
       "      <td>0</td>\n",
       "      <td>0</td>\n",
       "      <td>0</td>\n",
       "      <td>0</td>\n",
       "      <td>0</td>\n",
       "      <td>0</td>\n",
       "      <td>0</td>\n",
       "      <td>1</td>\n",
       "      <td>0</td>\n",
       "      <td>0</td>\n",
       "      <td>0</td>\n",
       "    </tr>\n",
       "    <tr>\n",
       "      <th>2</th>\n",
       "      <td>6</td>\n",
       "      <td>0</td>\n",
       "      <td>0</td>\n",
       "      <td>0</td>\n",
       "      <td>0</td>\n",
       "      <td>0.0</td>\n",
       "      <td>0</td>\n",
       "      <td>0</td>\n",
       "      <td>0</td>\n",
       "      <td>0</td>\n",
       "      <td>0</td>\n",
       "      <td>1</td>\n",
       "      <td>0</td>\n",
       "      <td>0</td>\n",
       "      <td>0</td>\n",
       "      <td>1</td>\n",
       "      <td>0</td>\n",
       "      <td>0</td>\n",
       "      <td>0</td>\n",
       "      <td>0</td>\n",
       "      <td>0</td>\n",
       "      <td>0</td>\n",
       "      <td>0</td>\n",
       "      <td>0</td>\n",
       "      <td>1</td>\n",
       "      <td>0</td>\n",
       "      <td>0</td>\n",
       "      <td>0</td>\n",
       "    </tr>\n",
       "    <tr>\n",
       "      <th>3</th>\n",
       "      <td>6</td>\n",
       "      <td>31</td>\n",
       "      <td>22</td>\n",
       "      <td>3</td>\n",
       "      <td>3812</td>\n",
       "      <td>8.0</td>\n",
       "      <td>0</td>\n",
       "      <td>1</td>\n",
       "      <td>0</td>\n",
       "      <td>0</td>\n",
       "      <td>0</td>\n",
       "      <td>0</td>\n",
       "      <td>0</td>\n",
       "      <td>0</td>\n",
       "      <td>0</td>\n",
       "      <td>0</td>\n",
       "      <td>0</td>\n",
       "      <td>1</td>\n",
       "      <td>0</td>\n",
       "      <td>0</td>\n",
       "      <td>0</td>\n",
       "      <td>0</td>\n",
       "      <td>0</td>\n",
       "      <td>0</td>\n",
       "      <td>0</td>\n",
       "      <td>0</td>\n",
       "      <td>0</td>\n",
       "      <td>1</td>\n",
       "    </tr>\n",
       "    <tr>\n",
       "      <th>4</th>\n",
       "      <td>6</td>\n",
       "      <td>57</td>\n",
       "      <td>2</td>\n",
       "      <td>5</td>\n",
       "      <td>4278</td>\n",
       "      <td>4.0</td>\n",
       "      <td>0</td>\n",
       "      <td>0</td>\n",
       "      <td>0</td>\n",
       "      <td>1</td>\n",
       "      <td>0</td>\n",
       "      <td>0</td>\n",
       "      <td>0</td>\n",
       "      <td>0</td>\n",
       "      <td>0</td>\n",
       "      <td>0</td>\n",
       "      <td>1</td>\n",
       "      <td>0</td>\n",
       "      <td>0</td>\n",
       "      <td>0</td>\n",
       "      <td>0</td>\n",
       "      <td>0</td>\n",
       "      <td>0</td>\n",
       "      <td>0</td>\n",
       "      <td>0</td>\n",
       "      <td>0</td>\n",
       "      <td>0</td>\n",
       "      <td>1</td>\n",
       "    </tr>\n",
       "    <tr>\n",
       "      <th>...</th>\n",
       "      <td>...</td>\n",
       "      <td>...</td>\n",
       "      <td>...</td>\n",
       "      <td>...</td>\n",
       "      <td>...</td>\n",
       "      <td>...</td>\n",
       "      <td>...</td>\n",
       "      <td>...</td>\n",
       "      <td>...</td>\n",
       "      <td>...</td>\n",
       "      <td>...</td>\n",
       "      <td>...</td>\n",
       "      <td>...</td>\n",
       "      <td>...</td>\n",
       "      <td>...</td>\n",
       "      <td>...</td>\n",
       "      <td>...</td>\n",
       "      <td>...</td>\n",
       "      <td>...</td>\n",
       "      <td>...</td>\n",
       "      <td>...</td>\n",
       "      <td>...</td>\n",
       "      <td>...</td>\n",
       "      <td>...</td>\n",
       "      <td>...</td>\n",
       "      <td>...</td>\n",
       "      <td>...</td>\n",
       "      <td>...</td>\n",
       "    </tr>\n",
       "    <tr>\n",
       "      <th>1776</th>\n",
       "      <td>16</td>\n",
       "      <td>0</td>\n",
       "      <td>0</td>\n",
       "      <td>0</td>\n",
       "      <td>0</td>\n",
       "      <td>0.0</td>\n",
       "      <td>1</td>\n",
       "      <td>0</td>\n",
       "      <td>0</td>\n",
       "      <td>1</td>\n",
       "      <td>0</td>\n",
       "      <td>0</td>\n",
       "      <td>0</td>\n",
       "      <td>0</td>\n",
       "      <td>0</td>\n",
       "      <td>0</td>\n",
       "      <td>0</td>\n",
       "      <td>0</td>\n",
       "      <td>0</td>\n",
       "      <td>0</td>\n",
       "      <td>1</td>\n",
       "      <td>0</td>\n",
       "      <td>0</td>\n",
       "      <td>0</td>\n",
       "      <td>0</td>\n",
       "      <td>0</td>\n",
       "      <td>0</td>\n",
       "      <td>0</td>\n",
       "    </tr>\n",
       "    <tr>\n",
       "      <th>1777</th>\n",
       "      <td>17</td>\n",
       "      <td>0</td>\n",
       "      <td>0</td>\n",
       "      <td>0</td>\n",
       "      <td>0</td>\n",
       "      <td>0.0</td>\n",
       "      <td>1</td>\n",
       "      <td>0</td>\n",
       "      <td>0</td>\n",
       "      <td>1</td>\n",
       "      <td>0</td>\n",
       "      <td>0</td>\n",
       "      <td>0</td>\n",
       "      <td>0</td>\n",
       "      <td>0</td>\n",
       "      <td>0</td>\n",
       "      <td>0</td>\n",
       "      <td>0</td>\n",
       "      <td>0</td>\n",
       "      <td>0</td>\n",
       "      <td>1</td>\n",
       "      <td>0</td>\n",
       "      <td>0</td>\n",
       "      <td>0</td>\n",
       "      <td>0</td>\n",
       "      <td>0</td>\n",
       "      <td>0</td>\n",
       "      <td>0</td>\n",
       "    </tr>\n",
       "    <tr>\n",
       "      <th>1778</th>\n",
       "      <td>34</td>\n",
       "      <td>83</td>\n",
       "      <td>2</td>\n",
       "      <td>6</td>\n",
       "      <td>6631</td>\n",
       "      <td>4.0</td>\n",
       "      <td>0</td>\n",
       "      <td>0</td>\n",
       "      <td>0</td>\n",
       "      <td>0</td>\n",
       "      <td>0</td>\n",
       "      <td>0</td>\n",
       "      <td>1</td>\n",
       "      <td>0</td>\n",
       "      <td>0</td>\n",
       "      <td>0</td>\n",
       "      <td>0</td>\n",
       "      <td>0</td>\n",
       "      <td>0</td>\n",
       "      <td>0</td>\n",
       "      <td>0</td>\n",
       "      <td>0</td>\n",
       "      <td>0</td>\n",
       "      <td>0</td>\n",
       "      <td>0</td>\n",
       "      <td>0</td>\n",
       "      <td>0</td>\n",
       "      <td>1</td>\n",
       "    </tr>\n",
       "    <tr>\n",
       "      <th>1779</th>\n",
       "      <td>34</td>\n",
       "      <td>0</td>\n",
       "      <td>0</td>\n",
       "      <td>0</td>\n",
       "      <td>0</td>\n",
       "      <td>0.0</td>\n",
       "      <td>0</td>\n",
       "      <td>1</td>\n",
       "      <td>0</td>\n",
       "      <td>0</td>\n",
       "      <td>0</td>\n",
       "      <td>0</td>\n",
       "      <td>0</td>\n",
       "      <td>0</td>\n",
       "      <td>0</td>\n",
       "      <td>0</td>\n",
       "      <td>0</td>\n",
       "      <td>1</td>\n",
       "      <td>0</td>\n",
       "      <td>0</td>\n",
       "      <td>0</td>\n",
       "      <td>0</td>\n",
       "      <td>0</td>\n",
       "      <td>0</td>\n",
       "      <td>0</td>\n",
       "      <td>0</td>\n",
       "      <td>0</td>\n",
       "      <td>1</td>\n",
       "    </tr>\n",
       "    <tr>\n",
       "      <th>1780</th>\n",
       "      <td>40</td>\n",
       "      <td>19</td>\n",
       "      <td>6</td>\n",
       "      <td>11</td>\n",
       "      <td>2314</td>\n",
       "      <td>6.0</td>\n",
       "      <td>0</td>\n",
       "      <td>0</td>\n",
       "      <td>0</td>\n",
       "      <td>0</td>\n",
       "      <td>0</td>\n",
       "      <td>0</td>\n",
       "      <td>1</td>\n",
       "      <td>0</td>\n",
       "      <td>0</td>\n",
       "      <td>1</td>\n",
       "      <td>0</td>\n",
       "      <td>0</td>\n",
       "      <td>0</td>\n",
       "      <td>0</td>\n",
       "      <td>0</td>\n",
       "      <td>0</td>\n",
       "      <td>0</td>\n",
       "      <td>0</td>\n",
       "      <td>0</td>\n",
       "      <td>0</td>\n",
       "      <td>0</td>\n",
       "      <td>1</td>\n",
       "    </tr>\n",
       "  </tbody>\n",
       "</table>\n",
       "<p>1779 rows × 28 columns</p>\n",
       "</div>"
      ],
      "text/plain": [
       "      NUMBER_SPECIAL_CHARACTERS  TCP_CONVERSATION_EXCHANGE  \\\n",
       "0                             7                          7   \n",
       "1                             6                         17   \n",
       "2                             6                          0   \n",
       "3                             6                         31   \n",
       "4                             6                         57   \n",
       "...                         ...                        ...   \n",
       "1776                         16                          0   \n",
       "1777                         17                          0   \n",
       "1778                         34                         83   \n",
       "1779                         34                          0   \n",
       "1780                         40                         19   \n",
       "\n",
       "      DIST_REMOTE_TCP_PORT  REMOTE_IPS  APP_BYTES  DNS_QUERY_TIMES  Type  \\\n",
       "0                        0           2        700              2.0     1   \n",
       "1                        7           4       1230              0.0     0   \n",
       "2                        0           0          0              0.0     0   \n",
       "3                       22           3       3812              8.0     0   \n",
       "4                        2           5       4278              4.0     0   \n",
       "...                    ...         ...        ...              ...   ...   \n",
       "1776                     0           0          0              0.0     1   \n",
       "1777                     0           0          0              0.0     1   \n",
       "1778                     2           6       6631              4.0     0   \n",
       "1779                     0           0          0              0.0     0   \n",
       "1780                     6          11       2314              6.0     0   \n",
       "\n",
       "      CHARSET_ISO-8859-1  CHARSET_None  CHARSET_UTF-8  CHARSET_iso-8859-1  \\\n",
       "0                      0             0              0                   1   \n",
       "1                      0             0              1                   0   \n",
       "2                      0             0              0                   0   \n",
       "3                      1             0              0                   0   \n",
       "4                      0             0              1                   0   \n",
       "...                  ...           ...            ...                 ...   \n",
       "1776                   0             0              1                   0   \n",
       "1777                   0             0              1                   0   \n",
       "1778                   0             0              0                   0   \n",
       "1779                   1             0              0                   0   \n",
       "1780                   0             0              0                   0   \n",
       "\n",
       "      CHARSET_us-ascii  CHARSET_utf-8  CHARSET_windows-1251  \\\n",
       "0                    0              0                     0   \n",
       "1                    0              0                     0   \n",
       "2                    1              0                     0   \n",
       "3                    0              0                     0   \n",
       "4                    0              0                     0   \n",
       "...                ...            ...                   ...   \n",
       "1776                 0              0                     0   \n",
       "1777                 0              0                     0   \n",
       "1778                 0              1                     0   \n",
       "1779                 0              0                     0   \n",
       "1780                 0              1                     0   \n",
       "\n",
       "      CHARSET_windows-1252  SERVER_Microsoft  SERVER_Other  SERVER_nginx  \\\n",
       "0                        0                 0             0             1   \n",
       "1                        0                 0             0             0   \n",
       "2                        0                 1             0             0   \n",
       "3                        0                 0             0             1   \n",
       "4                        0                 0             1             0   \n",
       "...                    ...               ...           ...           ...   \n",
       "1776                     0                 0             0             0   \n",
       "1777                     0                 0             0             0   \n",
       "1778                     0                 0             0             0   \n",
       "1779                     0                 0             0             1   \n",
       "1780                     0                 1             0             0   \n",
       "\n",
       "      WHOIS_COUNTRY_CA  WHOIS_COUNTRY_CN  WHOIS_COUNTRY_ES  WHOIS_COUNTRY_GB  \\\n",
       "0                    0                 0                 0                 0   \n",
       "1                    0                 0                 0                 0   \n",
       "2                    0                 0                 0                 0   \n",
       "3                    0                 0                 0                 0   \n",
       "4                    0                 0                 0                 0   \n",
       "...                ...               ...               ...               ...   \n",
       "1776                 0                 0                 1                 0   \n",
       "1777                 0                 0                 1                 0   \n",
       "1778                 0                 0                 0                 0   \n",
       "1779                 0                 0                 0                 0   \n",
       "1780                 0                 0                 0                 0   \n",
       "\n",
       "      WHOIS_COUNTRY_IN  WHOIS_COUNTRY_JP  WHOIS_COUNTRY_None  \\\n",
       "0                    0                 0                   1   \n",
       "1                    0                 0                   1   \n",
       "2                    0                 0                   1   \n",
       "3                    0                 0                   0   \n",
       "4                    0                 0                   0   \n",
       "...                ...               ...                 ...   \n",
       "1776                 0                 0                   0   \n",
       "1777                 0                 0                   0   \n",
       "1778                 0                 0                   0   \n",
       "1779                 0                 0                   0   \n",
       "1780                 0                 0                   0   \n",
       "\n",
       "      WHOIS_COUNTRY_Other  WHOIS_COUNTRY_PA  WHOIS_COUNTRY_US  \n",
       "0                       0                 0                 0  \n",
       "1                       0                 0                 0  \n",
       "2                       0                 0                 0  \n",
       "3                       0                 0                 1  \n",
       "4                       0                 0                 1  \n",
       "...                   ...               ...               ...  \n",
       "1776                    0                 0                 0  \n",
       "1777                    0                 0                 0  \n",
       "1778                    0                 0                 1  \n",
       "1779                    0                 0                 1  \n",
       "1780                    0                 0                 1  \n",
       "\n",
       "[1779 rows x 28 columns]"
      ]
     },
     "execution_count": 109,
     "metadata": {},
     "output_type": "execute_result"
    }
   ],
   "source": [
    "# Your code here\n",
    "website_dummy = pd.get_dummies(websites_lean\n",
    "                               ,drop_first=True)\n",
    "website_dummy"
   ]
  },
  {
   "cell_type": "markdown",
   "metadata": {
    "Collapsed": "false"
   },
   "source": [
    "Now, inspect `website_dummy` to make sure the data and types are intended - there shouldn't be any categorical columns at this point."
   ]
  },
  {
   "cell_type": "code",
   "execution_count": 110,
   "metadata": {
    "Collapsed": "false"
   },
   "outputs": [
    {
     "data": {
      "text/plain": [
       "NUMBER_SPECIAL_CHARACTERS      int64\n",
       "TCP_CONVERSATION_EXCHANGE      int64\n",
       "DIST_REMOTE_TCP_PORT           int64\n",
       "REMOTE_IPS                     int64\n",
       "APP_BYTES                      int64\n",
       "DNS_QUERY_TIMES              float64\n",
       "Type                           int64\n",
       "CHARSET_ISO-8859-1             uint8\n",
       "CHARSET_None                   uint8\n",
       "CHARSET_UTF-8                  uint8\n",
       "CHARSET_iso-8859-1             uint8\n",
       "CHARSET_us-ascii               uint8\n",
       "CHARSET_utf-8                  uint8\n",
       "CHARSET_windows-1251           uint8\n",
       "CHARSET_windows-1252           uint8\n",
       "SERVER_Microsoft               uint8\n",
       "SERVER_Other                   uint8\n",
       "SERVER_nginx                   uint8\n",
       "WHOIS_COUNTRY_CA               uint8\n",
       "WHOIS_COUNTRY_CN               uint8\n",
       "WHOIS_COUNTRY_ES               uint8\n",
       "WHOIS_COUNTRY_GB               uint8\n",
       "WHOIS_COUNTRY_IN               uint8\n",
       "WHOIS_COUNTRY_JP               uint8\n",
       "WHOIS_COUNTRY_None             uint8\n",
       "WHOIS_COUNTRY_Other            uint8\n",
       "WHOIS_COUNTRY_PA               uint8\n",
       "WHOIS_COUNTRY_US               uint8\n",
       "dtype: object"
      ]
     },
     "execution_count": 110,
     "metadata": {},
     "output_type": "execute_result"
    }
   ],
   "source": [
    "# Your code here\n",
    "website_dummy.dtypes"
   ]
  },
  {
   "cell_type": "markdown",
   "metadata": {
    "Collapsed": "false"
   },
   "source": [
    "# Challenge 6 - Modeling, Prediction, and Evaluation\n",
    "\n",
    "We'll start off this section by splitting the data to train and test. **Name your 4 variables `X_train`, `X_test`, `y_train`, and `y_test`. Select 80% of the data for training and 20% for testing.**"
   ]
  },
  {
   "cell_type": "code",
   "execution_count": 125,
   "metadata": {},
   "outputs": [],
   "source": [
    "y = website_dummy[\"Type\"]\n",
    "X = website_dummy.drop(\"Type\",axis=1)"
   ]
  },
  {
   "cell_type": "code",
   "execution_count": 126,
   "metadata": {
    "Collapsed": "false"
   },
   "outputs": [],
   "source": [
    "from sklearn.model_selection import train_test_split\n",
    "\n",
    "# Your code here:\n",
    "X_train, X_test, y_train, y_test = train_test_split(X, y, test_size=0.20)"
   ]
  },
  {
   "cell_type": "markdown",
   "metadata": {
    "Collapsed": "false"
   },
   "source": [
    "#### In this lab, we will try two different models and compare our results.\n",
    "\n",
    "The first model we will use in this lab is logistic regression. We have previously learned about logistic regression as a classification algorithm. In the cell below, load `LogisticRegression` from scikit-learn and initialize the model."
   ]
  },
  {
   "cell_type": "code",
   "execution_count": 127,
   "metadata": {
    "Collapsed": "false"
   },
   "outputs": [],
   "source": [
    "# Your code here:\n",
    "from sklearn.linear_model import LogisticRegression \n",
    "\n",
    "model = LogisticRegression()\n"
   ]
  },
  {
   "cell_type": "markdown",
   "metadata": {
    "Collapsed": "false"
   },
   "source": [
    "Next, fit the model to our training data. We have already separated our data into 4 parts. Use those in your model."
   ]
  },
  {
   "cell_type": "code",
   "execution_count": 128,
   "metadata": {
    "Collapsed": "false"
   },
   "outputs": [
    {
     "name": "stderr",
     "output_type": "stream",
     "text": [
      "c:\\python38\\lib\\site-packages\\sklearn\\linear_model\\_logistic.py:762: ConvergenceWarning: lbfgs failed to converge (status=1):\n",
      "STOP: TOTAL NO. of ITERATIONS REACHED LIMIT.\n",
      "\n",
      "Increase the number of iterations (max_iter) or scale the data as shown in:\n",
      "    https://scikit-learn.org/stable/modules/preprocessing.html\n",
      "Please also refer to the documentation for alternative solver options:\n",
      "    https://scikit-learn.org/stable/modules/linear_model.html#logistic-regression\n",
      "  n_iter_i = _check_optimize_result(\n"
     ]
    },
    {
     "data": {
      "text/plain": [
       "LogisticRegression()"
      ]
     },
     "execution_count": 128,
     "metadata": {},
     "output_type": "execute_result"
    }
   ],
   "source": [
    "# Your code here:\n",
    "model.fit(X_train, y_train)"
   ]
  },
  {
   "cell_type": "markdown",
   "metadata": {
    "Collapsed": "false"
   },
   "source": [
    "finally, import `confusion_matrix` and `accuracy_score` from `sklearn.metrics` and fit our testing data. Assign the fitted data to `y_pred` and print the confusion matrix as well as the accuracy score"
   ]
  },
  {
   "cell_type": "code",
   "execution_count": 129,
   "metadata": {
    "Collapsed": "false"
   },
   "outputs": [],
   "source": [
    "# Your code here:\n",
    "from sklearn.metrics import confusion_matrix, accuracy_score"
   ]
  },
  {
   "cell_type": "markdown",
   "metadata": {
    "Collapsed": "false"
   },
   "source": [
    "What are your thoughts on the performance of the model? Write your conclusions below."
   ]
  },
  {
   "cell_type": "code",
   "execution_count": 130,
   "metadata": {
    "Collapsed": "false"
   },
   "outputs": [
    {
     "data": {
      "text/plain": [
       "array([[304,   9],\n",
       "       [ 18,  25]], dtype=int64)"
      ]
     },
     "execution_count": 130,
     "metadata": {},
     "output_type": "execute_result"
    }
   ],
   "source": [
    "# Your conclusions here:\n",
    "y_pred = model.predict(X_test)\n",
    "pd.DataFrame({'test':y_test, 'predicted':y_pred})\n",
    "\n",
    "confusion_matrix(y_test, y_pred)"
   ]
  },
  {
   "cell_type": "code",
   "execution_count": 131,
   "metadata": {},
   "outputs": [
    {
     "name": "stdout",
     "output_type": "stream",
     "text": [
      "The accuracy score is 0.92 which is a pretty accurate model\n"
     ]
    }
   ],
   "source": [
    "print(\"\"\"The accuracy score is {0:.2f} which is a pretty accurate model\"\"\".format(\n",
    "    accuracy_score(y_test, y_pred)))"
   ]
  },
  {
   "cell_type": "markdown",
   "metadata": {
    "Collapsed": "false"
   },
   "source": [
    "#### Our second algorithm is is K-Nearest Neighbors. \n",
    "\n",
    "Though is it not required, we will fit a model using the training data and then test the performance of the model using the testing data. Start by loading `KNeighborsClassifier` from scikit-learn and then initializing and fitting the model. We'll start off with a model where k=3."
   ]
  },
  {
   "cell_type": "code",
   "execution_count": 132,
   "metadata": {
    "Collapsed": "false"
   },
   "outputs": [
    {
     "data": {
      "text/plain": [
       "KNeighborsClassifier(n_neighbors=3)"
      ]
     },
     "execution_count": 132,
     "metadata": {},
     "output_type": "execute_result"
    }
   ],
   "source": [
    "# Your code here:\n",
    "from sklearn.neighbors import KNeighborsClassifier\n",
    "# y = website_dummy[\"Type\"]\n",
    "# X = website_dummy.drop(\"Type\",axis=1)\n",
    "# X_train, X_test, y_train, y_test = train_test_split(X, y, test_size=0.20)\n",
    "\n",
    "model = KNeighborsClassifier(n_neighbors=3)\n",
    "model.fit(X_train, y_train)\n"
   ]
  },
  {
   "cell_type": "markdown",
   "metadata": {
    "Collapsed": "false"
   },
   "source": [
    "To test your model, compute the predicted values for the testing sample and print the confusion matrix as well as the accuracy score."
   ]
  },
  {
   "cell_type": "code",
   "execution_count": 133,
   "metadata": {
    "Collapsed": "false"
   },
   "outputs": [
    {
     "name": "stdout",
     "output_type": "stream",
     "text": [
      "[[300  13]\n",
      " [ 20  23]]\n",
      "\n",
      "\n",
      "0.9073033707865169\n"
     ]
    }
   ],
   "source": [
    "# Your code here:\n",
    "y_pred = model.predict(X_test)\n",
    "print(confusion_matrix(y_test, y_pred))\n",
    "print('\\n')\n",
    "print(accuracy_score(y_test, y_pred))\n"
   ]
  },
  {
   "cell_type": "markdown",
   "metadata": {
    "Collapsed": "false"
   },
   "source": [
    "#### We'll create another K-Nearest Neighbors model with k=5. \n",
    "\n",
    "Initialize and fit the model below and print the confusion matrix and the accuracy score."
   ]
  },
  {
   "cell_type": "code",
   "execution_count": 134,
   "metadata": {
    "Collapsed": "false"
   },
   "outputs": [
    {
     "name": "stdout",
     "output_type": "stream",
     "text": [
      "[[306   7]\n",
      " [ 24  19]]\n",
      "\n",
      "\n",
      "0.9129213483146067\n"
     ]
    }
   ],
   "source": [
    "# Your code here:\n",
    "\n",
    "model = KNeighborsClassifier(n_neighbors=5)\n",
    "model.fit(X_train, y_train)\n",
    "\n",
    "y_pred = model.predict(X_test)\n",
    "print(confusion_matrix(y_test, y_pred))\n",
    "print('\\n')\n",
    "print(accuracy_score(y_test, y_pred))\n"
   ]
  },
  {
   "cell_type": "markdown",
   "metadata": {
    "Collapsed": "false"
   },
   "source": [
    "Did you see an improvement in the confusion matrix when increasing k to 5? Did you see an improvement in the accuracy score? Write your conclusions below."
   ]
  },
  {
   "cell_type": "code",
   "execution_count": 136,
   "metadata": {
    "Collapsed": "false"
   },
   "outputs": [
    {
     "name": "stdout",
     "output_type": "stream",
     "text": [
      "The below number of ks give me the best score\n"
     ]
    },
    {
     "data": {
      "text/html": [
       "<div>\n",
       "<style scoped>\n",
       "    .dataframe tbody tr th:only-of-type {\n",
       "        vertical-align: middle;\n",
       "    }\n",
       "\n",
       "    .dataframe tbody tr th {\n",
       "        vertical-align: top;\n",
       "    }\n",
       "\n",
       "    .dataframe thead th {\n",
       "        text-align: right;\n",
       "    }\n",
       "</style>\n",
       "<table border=\"1\" class=\"dataframe\">\n",
       "  <thead>\n",
       "    <tr style=\"text-align: right;\">\n",
       "      <th></th>\n",
       "      <th>accuracy_score</th>\n",
       "      <th>k</th>\n",
       "    </tr>\n",
       "  </thead>\n",
       "  <tbody>\n",
       "    <tr>\n",
       "      <th>1</th>\n",
       "      <td>0.91573</td>\n",
       "      <td>2.0</td>\n",
       "    </tr>\n",
       "    <tr>\n",
       "      <th>3</th>\n",
       "      <td>0.91573</td>\n",
       "      <td>4.0</td>\n",
       "    </tr>\n",
       "    <tr>\n",
       "      <th>6</th>\n",
       "      <td>0.91573</td>\n",
       "      <td>7.0</td>\n",
       "    </tr>\n",
       "    <tr>\n",
       "      <th>9</th>\n",
       "      <td>0.91573</td>\n",
       "      <td>10.0</td>\n",
       "    </tr>\n",
       "    <tr>\n",
       "      <th>10</th>\n",
       "      <td>0.91573</td>\n",
       "      <td>11.0</td>\n",
       "    </tr>\n",
       "  </tbody>\n",
       "</table>\n",
       "</div>"
      ],
      "text/plain": [
       "    accuracy_score     k\n",
       "1          0.91573   2.0\n",
       "3          0.91573   4.0\n",
       "6          0.91573   7.0\n",
       "9          0.91573  10.0\n",
       "10         0.91573  11.0"
      ]
     },
     "execution_count": 136,
     "metadata": {},
     "output_type": "execute_result"
    }
   ],
   "source": [
    "# Your conclusions here:\n",
    "\n",
    "# There is a slight increase in accuracy when we increase the number of k to 5. \n",
    "df = pd.DataFrame()\n",
    "for i in range(1,20):\n",
    "    model = KNeighborsClassifier(n_neighbors=i)\n",
    "    model.fit(X_train, y_train)\n",
    "\n",
    "    y_pred = model.predict(X_test)\n",
    "    d = {'k': i,\n",
    "         'accuracy_score' : accuracy_score(y_test, y_pred)}\n",
    "    \n",
    "    df = df.append(d, ignore_index = True)\n",
    "\n",
    "print('The below number of ks give me the best score')\n",
    "df.loc[df.accuracy_score == df.accuracy_score.max()]"
   ]
  },
  {
   "cell_type": "markdown",
   "metadata": {
    "Collapsed": "false"
   },
   "source": [
    "# Bonus Challenge - Feature Scaling\n",
    "\n",
    "Problem-solving in machine learning is iterative. You can improve your model prediction with various techniques (there is a sweetspot for the time you spend and the improvement you receive though). Now you've completed only one iteration of ML analysis. There are more iterations you can conduct to make improvements. In order to be able to do that, you will need deeper knowledge in statistics and master more data analysis techniques. In this bootcamp, we don't have time to achieve that advanced goal. But you will make constant efforts after the bootcamp to eventually get there.\n",
    "\n",
    "However, now we do want you to learn one of the advanced techniques which is called *feature scaling*. The idea of feature scaling is to standardize/normalize the range of independent variables or features of the data. This can make the outliers more apparent so that you can remove them. This step needs to happen during Challenge 6 after you split the training and test data because you don't want to split the data again which makes it impossible to compare your results with and without feature scaling. For general concepts about feature scaling, click [here](https://en.wikipedia.org/wiki/Feature_scaling). To read deeper, click [here](https://medium.com/greyatom/why-how-and-when-to-scale-your-features-4b30ab09db5e).\n",
    "\n",
    "In the next cell, attempt to improve your model prediction accuracy by means of feature scaling. A library you can utilize is `sklearn.preprocessing.RobustScaler` ([documentation](https://scikit-learn.org/stable/modules/generated/sklearn.preprocessing.RobustScaler.html)). You'll use the `RobustScaler` to fit and transform your `X_train`, then transform `X_test`. You will use logistic regression to fit and predict your transformed data and obtain the accuracy score in the same way. Compare the accuracy score with your normalized data with the previous accuracy data. Is there an improvement?"
   ]
  },
  {
   "cell_type": "code",
   "execution_count": 137,
   "metadata": {
    "Collapsed": "false"
   },
   "outputs": [],
   "source": [
    "# Your code here\n",
    "from  sklearn.preprocessing import RobustScaler\n",
    "\n",
    "scaler = RobustScaler()\n",
    "scaled_x_train = scaler.fit_transform(X_train)\n",
    "scaled_x_train = pd.DataFrame(scaled_x_train)\n",
    "\n",
    "scaled_x_test = scaler.fit_transform(X_test)\n",
    "scaled_x_test = pd.DataFrame(scaled_x_test)"
   ]
  },
  {
   "cell_type": "code",
   "execution_count": 138,
   "metadata": {},
   "outputs": [
    {
     "name": "stdout",
     "output_type": "stream",
     "text": [
      "[[309   4]\n",
      " [ 18  25]]\n",
      "\n",
      "\n",
      "0.9382022471910112\n",
      "The model slightly improves\n"
     ]
    }
   ],
   "source": [
    "model = KNeighborsClassifier(n_neighbors=5)\n",
    "model.fit(scaled_x_train, y_train)\n",
    "\n",
    "y_pred = model.predict(scaled_x_test)\n",
    "print(confusion_matrix(y_test, y_pred))\n",
    "print('\\n')\n",
    "print(accuracy_score(y_test, y_pred))\n",
    "\n",
    "print(\"\"\"The model slightly improves\"\"\")"
   ]
  }
 ],
 "metadata": {
  "kernelspec": {
   "display_name": "Python 3",
   "language": "python",
   "name": "python3"
  },
  "language_info": {
   "codemirror_mode": {
    "name": "ipython",
    "version": 3
   },
   "file_extension": ".py",
   "mimetype": "text/x-python",
   "name": "python",
   "nbconvert_exporter": "python",
   "pygments_lexer": "ipython3",
   "version": "3.8.3"
  }
 },
 "nbformat": 4,
 "nbformat_minor": 4
}
