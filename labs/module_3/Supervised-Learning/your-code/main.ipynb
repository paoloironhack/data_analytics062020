{
 "cells": [
  {
   "cell_type": "markdown",
   "metadata": {
    "Collapsed": "false"
   },
   "source": [
    "# Before you start:\n",
    "- Read the README.md file\n",
    "- Comment as much as you can and use the resources in the README.md file\n",
    "- Happy learning!"
   ]
  },
  {
   "cell_type": "code",
   "execution_count": 1,
   "metadata": {
    "Collapsed": "false"
   },
   "outputs": [],
   "source": [
    "# Import your libraries:\n",
    "\n",
    "%matplotlib inline\n",
    "import matplotlib.pyplot as plt\n",
    "import seaborn as sns\n",
    "import numpy as np\n",
    "import pandas as pd"
   ]
  },
  {
   "cell_type": "markdown",
   "metadata": {
    "Collapsed": "false"
   },
   "source": [
    "In this lab, we will explore a dataset that describes websites with different features and label them either benign or malicious . We will use supervised learning algorithms to figure out what feature patterns malicious websites are likely to have and use our model to predict malicious websites.\n",
    "\n",
    "# Challenge 1 - Explore The Dataset\n",
    "\n",
    "Let's start by exploring the dataset. First load the dataset from [here](https://drive.google.com/file/d/18LRRR60T-7NbUeZPCSI1crjo8O3LeGhc/view?usp=sharing), place it in the data folder and load it in variable `websites`"
   ]
  },
  {
   "cell_type": "code",
   "execution_count": 2,
   "metadata": {
    "Collapsed": "false"
   },
   "outputs": [],
   "source": [
    "websites = pd.read_csv('../data/website.csv')"
   ]
  },
  {
   "cell_type": "markdown",
   "metadata": {
    "Collapsed": "false"
   },
   "source": [
    "#### Explore the data from an bird's-eye view.\n",
    "\n",
    "You should already been very familiar with the procedures now so we won't provide the instructions step by step. Reflect on what you did in the previous labs and explore the dataset.\n",
    "\n",
    "Things you'll be looking for:\n",
    "\n",
    "* What the dataset looks like?\n",
    "* What are the data types?\n",
    "* Which columns contain the features of the websites?\n",
    "* Which column contains the feature we will predict? What is the code standing for benign vs malicious websites?\n",
    "* Do we need to transform any of the columns from categorical to ordinal values? If so what are these columns?\n",
    "\n",
    "Feel free to add additional cells for more exploration. Make sure to comment what you find!"
   ]
  },
  {
   "cell_type": "code",
   "execution_count": 3,
   "metadata": {
    "Collapsed": "false"
   },
   "outputs": [
    {
     "name": "stdout",
     "output_type": "stream",
     "text": [
      "<class 'pandas.core.frame.DataFrame'>\n",
      "RangeIndex: 1781 entries, 0 to 1780\n",
      "Data columns (total 21 columns):\n",
      " #   Column                     Non-Null Count  Dtype  \n",
      "---  ------                     --------------  -----  \n",
      " 0   URL                        1781 non-null   object \n",
      " 1   URL_LENGTH                 1781 non-null   int64  \n",
      " 2   NUMBER_SPECIAL_CHARACTERS  1781 non-null   int64  \n",
      " 3   CHARSET                    1781 non-null   object \n",
      " 4   SERVER                     1780 non-null   object \n",
      " 5   CONTENT_LENGTH             969 non-null    float64\n",
      " 6   WHOIS_COUNTRY              1781 non-null   object \n",
      " 7   WHOIS_STATEPRO             1781 non-null   object \n",
      " 8   WHOIS_REGDATE              1781 non-null   object \n",
      " 9   WHOIS_UPDATED_DATE         1781 non-null   object \n",
      " 10  TCP_CONVERSATION_EXCHANGE  1781 non-null   int64  \n",
      " 11  DIST_REMOTE_TCP_PORT       1781 non-null   int64  \n",
      " 12  REMOTE_IPS                 1781 non-null   int64  \n",
      " 13  APP_BYTES                  1781 non-null   int64  \n",
      " 14  SOURCE_APP_PACKETS         1781 non-null   int64  \n",
      " 15  REMOTE_APP_PACKETS         1781 non-null   int64  \n",
      " 16  SOURCE_APP_BYTES           1781 non-null   int64  \n",
      " 17  REMOTE_APP_BYTES           1781 non-null   int64  \n",
      " 18  APP_PACKETS                1781 non-null   int64  \n",
      " 19  DNS_QUERY_TIMES            1780 non-null   float64\n",
      " 20  Type                       1781 non-null   int64  \n",
      "dtypes: float64(2), int64(12), object(7)\n",
      "memory usage: 292.3+ KB\n"
     ]
    }
   ],
   "source": [
    "# Your code here\n",
    "websites.info()"
   ]
  },
  {
   "cell_type": "code",
   "execution_count": 4,
   "metadata": {
    "Collapsed": "false"
   },
   "outputs": [
    {
     "data": {
      "text/html": [
       "<div>\n",
       "<style scoped>\n",
       "    .dataframe tbody tr th:only-of-type {\n",
       "        vertical-align: middle;\n",
       "    }\n",
       "\n",
       "    .dataframe tbody tr th {\n",
       "        vertical-align: top;\n",
       "    }\n",
       "\n",
       "    .dataframe thead th {\n",
       "        text-align: right;\n",
       "    }\n",
       "</style>\n",
       "<table border=\"1\" class=\"dataframe\">\n",
       "  <thead>\n",
       "    <tr style=\"text-align: right;\">\n",
       "      <th></th>\n",
       "      <th>URL</th>\n",
       "      <th>URL_LENGTH</th>\n",
       "      <th>NUMBER_SPECIAL_CHARACTERS</th>\n",
       "      <th>CHARSET</th>\n",
       "      <th>SERVER</th>\n",
       "      <th>CONTENT_LENGTH</th>\n",
       "      <th>WHOIS_COUNTRY</th>\n",
       "      <th>WHOIS_STATEPRO</th>\n",
       "      <th>WHOIS_REGDATE</th>\n",
       "      <th>WHOIS_UPDATED_DATE</th>\n",
       "      <th>...</th>\n",
       "      <th>DIST_REMOTE_TCP_PORT</th>\n",
       "      <th>REMOTE_IPS</th>\n",
       "      <th>APP_BYTES</th>\n",
       "      <th>SOURCE_APP_PACKETS</th>\n",
       "      <th>REMOTE_APP_PACKETS</th>\n",
       "      <th>SOURCE_APP_BYTES</th>\n",
       "      <th>REMOTE_APP_BYTES</th>\n",
       "      <th>APP_PACKETS</th>\n",
       "      <th>DNS_QUERY_TIMES</th>\n",
       "      <th>Type</th>\n",
       "    </tr>\n",
       "  </thead>\n",
       "  <tbody>\n",
       "    <tr>\n",
       "      <th>0</th>\n",
       "      <td>M0_109</td>\n",
       "      <td>16</td>\n",
       "      <td>7</td>\n",
       "      <td>iso-8859-1</td>\n",
       "      <td>nginx</td>\n",
       "      <td>263.0</td>\n",
       "      <td>None</td>\n",
       "      <td>None</td>\n",
       "      <td>10/10/2015 18:21</td>\n",
       "      <td>None</td>\n",
       "      <td>...</td>\n",
       "      <td>0</td>\n",
       "      <td>2</td>\n",
       "      <td>700</td>\n",
       "      <td>9</td>\n",
       "      <td>10</td>\n",
       "      <td>1153</td>\n",
       "      <td>832</td>\n",
       "      <td>9</td>\n",
       "      <td>2.0</td>\n",
       "      <td>1</td>\n",
       "    </tr>\n",
       "    <tr>\n",
       "      <th>1</th>\n",
       "      <td>B0_2314</td>\n",
       "      <td>16</td>\n",
       "      <td>6</td>\n",
       "      <td>UTF-8</td>\n",
       "      <td>Apache/2.4.10</td>\n",
       "      <td>15087.0</td>\n",
       "      <td>None</td>\n",
       "      <td>None</td>\n",
       "      <td>None</td>\n",
       "      <td>None</td>\n",
       "      <td>...</td>\n",
       "      <td>7</td>\n",
       "      <td>4</td>\n",
       "      <td>1230</td>\n",
       "      <td>17</td>\n",
       "      <td>19</td>\n",
       "      <td>1265</td>\n",
       "      <td>1230</td>\n",
       "      <td>17</td>\n",
       "      <td>0.0</td>\n",
       "      <td>0</td>\n",
       "    </tr>\n",
       "    <tr>\n",
       "      <th>2</th>\n",
       "      <td>B0_911</td>\n",
       "      <td>16</td>\n",
       "      <td>6</td>\n",
       "      <td>us-ascii</td>\n",
       "      <td>Microsoft-HTTPAPI/2.0</td>\n",
       "      <td>324.0</td>\n",
       "      <td>None</td>\n",
       "      <td>None</td>\n",
       "      <td>None</td>\n",
       "      <td>None</td>\n",
       "      <td>...</td>\n",
       "      <td>0</td>\n",
       "      <td>0</td>\n",
       "      <td>0</td>\n",
       "      <td>0</td>\n",
       "      <td>0</td>\n",
       "      <td>0</td>\n",
       "      <td>0</td>\n",
       "      <td>0</td>\n",
       "      <td>0.0</td>\n",
       "      <td>0</td>\n",
       "    </tr>\n",
       "    <tr>\n",
       "      <th>3</th>\n",
       "      <td>B0_113</td>\n",
       "      <td>17</td>\n",
       "      <td>6</td>\n",
       "      <td>ISO-8859-1</td>\n",
       "      <td>nginx</td>\n",
       "      <td>162.0</td>\n",
       "      <td>US</td>\n",
       "      <td>AK</td>\n",
       "      <td>7/10/1997 4:00</td>\n",
       "      <td>12/09/2013 0:45</td>\n",
       "      <td>...</td>\n",
       "      <td>22</td>\n",
       "      <td>3</td>\n",
       "      <td>3812</td>\n",
       "      <td>39</td>\n",
       "      <td>37</td>\n",
       "      <td>18784</td>\n",
       "      <td>4380</td>\n",
       "      <td>39</td>\n",
       "      <td>8.0</td>\n",
       "      <td>0</td>\n",
       "    </tr>\n",
       "    <tr>\n",
       "      <th>4</th>\n",
       "      <td>B0_403</td>\n",
       "      <td>17</td>\n",
       "      <td>6</td>\n",
       "      <td>UTF-8</td>\n",
       "      <td>None</td>\n",
       "      <td>124140.0</td>\n",
       "      <td>US</td>\n",
       "      <td>TX</td>\n",
       "      <td>12/05/1996 0:00</td>\n",
       "      <td>11/04/2017 0:00</td>\n",
       "      <td>...</td>\n",
       "      <td>2</td>\n",
       "      <td>5</td>\n",
       "      <td>4278</td>\n",
       "      <td>61</td>\n",
       "      <td>62</td>\n",
       "      <td>129889</td>\n",
       "      <td>4586</td>\n",
       "      <td>61</td>\n",
       "      <td>4.0</td>\n",
       "      <td>0</td>\n",
       "    </tr>\n",
       "  </tbody>\n",
       "</table>\n",
       "<p>5 rows × 21 columns</p>\n",
       "</div>"
      ],
      "text/plain": [
       "       URL  URL_LENGTH  NUMBER_SPECIAL_CHARACTERS     CHARSET  \\\n",
       "0   M0_109          16                          7  iso-8859-1   \n",
       "1  B0_2314          16                          6       UTF-8   \n",
       "2   B0_911          16                          6    us-ascii   \n",
       "3   B0_113          17                          6  ISO-8859-1   \n",
       "4   B0_403          17                          6       UTF-8   \n",
       "\n",
       "                  SERVER  CONTENT_LENGTH WHOIS_COUNTRY WHOIS_STATEPRO  \\\n",
       "0                  nginx           263.0          None           None   \n",
       "1          Apache/2.4.10         15087.0          None           None   \n",
       "2  Microsoft-HTTPAPI/2.0           324.0          None           None   \n",
       "3                  nginx           162.0            US             AK   \n",
       "4                   None        124140.0            US             TX   \n",
       "\n",
       "      WHOIS_REGDATE WHOIS_UPDATED_DATE  ...  DIST_REMOTE_TCP_PORT  REMOTE_IPS  \\\n",
       "0  10/10/2015 18:21               None  ...                     0           2   \n",
       "1              None               None  ...                     7           4   \n",
       "2              None               None  ...                     0           0   \n",
       "3    7/10/1997 4:00    12/09/2013 0:45  ...                    22           3   \n",
       "4   12/05/1996 0:00    11/04/2017 0:00  ...                     2           5   \n",
       "\n",
       "   APP_BYTES  SOURCE_APP_PACKETS  REMOTE_APP_PACKETS  SOURCE_APP_BYTES  \\\n",
       "0        700                   9                  10              1153   \n",
       "1       1230                  17                  19              1265   \n",
       "2          0                   0                   0                 0   \n",
       "3       3812                  39                  37             18784   \n",
       "4       4278                  61                  62            129889   \n",
       "\n",
       "   REMOTE_APP_BYTES  APP_PACKETS  DNS_QUERY_TIMES  Type  \n",
       "0               832            9              2.0     1  \n",
       "1              1230           17              0.0     0  \n",
       "2                 0            0              0.0     0  \n",
       "3              4380           39              8.0     0  \n",
       "4              4586           61              4.0     0  \n",
       "\n",
       "[5 rows x 21 columns]"
      ]
     },
     "execution_count": 4,
     "metadata": {},
     "output_type": "execute_result"
    }
   ],
   "source": [
    "websites.head(5)"
   ]
  },
  {
   "cell_type": "code",
   "execution_count": 5,
   "metadata": {
    "Collapsed": "false"
   },
   "outputs": [],
   "source": [
    "# Your comment here\n",
    "#The majority of columns in dataset are of numerical data types.The WHOIS fields , URL,CHARSET and SERVER are object types.\n",
    "#The features of the website are all those columns except Type.\n",
    "#We need to come up with the most relevant features useful to predict the target variable.\n",
    "#The column \"Type\" is the predictor. Type holds binary values :1 if for malicious and 0 for the benign websites.\n"
   ]
  },
  {
   "cell_type": "markdown",
   "metadata": {
    "Collapsed": "false"
   },
   "source": [
    "#### Next, evaluate if the columns in this dataset are strongly correlated.\n",
    "\n",
    "In class, we discussed that we are concerned if our dataset has strongly correlated columns because if this is the case we need to choose certain ML algorithms instead of others. We need to evaluate this for our dataset now.\n",
    "\n",
    "Luckily, most of the columns in this dataset are ordinal which makes things a lot easier for us. In the cells below, evaluate the level of collinearity of the data.\n",
    "\n",
    "We provide some general directions for you to consult in order to complete this step:\n",
    "\n",
    "1. You will create a correlation matrix using the numeric columns in the dataset.\n",
    "\n",
    "1. Create a heatmap using `seaborn` to visualize which columns have high collinearity.\n",
    "\n",
    "1. Comment on which columns you might need to remove due to high collinearity."
   ]
  },
  {
   "cell_type": "code",
   "execution_count": 6,
   "metadata": {
    "Collapsed": "false"
   },
   "outputs": [
    {
     "data": {
      "image/png": "[encoded data removed]",
      "text/plain": [
       "<Figure size 1080x720 with 2 Axes>"
      ]
     },
     "metadata": {
      "needs_background": "light"
     },
     "output_type": "display_data"
    }
   ],
   "source": [
    "# Your code here\n",
    "#Create a correlation matrix for the dataset\n",
    "corrMatrix = websites.corr()\n",
    "plt.figure(figsize = (15,10))\n",
    "sns.heatmap(corrMatrix,linewidths=2, annot=True)\n",
    "plt.show()"
   ]
  },
  {
   "cell_type": "code",
   "execution_count": 7,
   "metadata": {
    "Collapsed": "false"
   },
   "outputs": [],
   "source": [
    "# Your comment here\n",
    "#From the heatmap above,there are few columns which show a very high correlation of 0.99 and 0.92\n",
    "#The columns under consideration for removal due to high collinearity are \n",
    "#REMOTE_APP_PACKETS, SOURCE_APP_PACKETS, APP_PACKETS, TCP_CONVERSATION_EXCHANGE ,URL_LENGTH and NUMBER_SPECIAL_CHARACTERS."
   ]
  },
  {
   "cell_type": "markdown",
   "metadata": {
    "Collapsed": "false"
   },
   "source": [
    "# Challenge 2 - Remove Column Collinearity.\n",
    "\n",
    "From the heatmap you created, you should have seen at least 3 columns that can be removed due to high collinearity. Remove these columns from the dataset.\n",
    "\n",
    "Note that you should remove as few columns as you can. You don't have to remove all the columns at once. But instead, try removing one column, then produce the heatmap again to determine if additional columns should be removed. As long as the dataset no longer contains columns that are correlated for over 90%, you can stop. Also, keep in mind when two columns have high collinearity, you only need to remove one of them but not both.\n",
    "\n",
    "In the cells below, remove as few columns as you can to eliminate the high collinearity in the dataset. Make sure to comment on your way so that the instructional team can learn about your thinking process which allows them to give feedback. At the end, print the heatmap again."
   ]
  },
  {
   "cell_type": "code",
   "execution_count": 8,
   "metadata": {
    "Collapsed": "false"
   },
   "outputs": [
    {
     "data": {
      "text/html": [
       "<div>\n",
       "<style scoped>\n",
       "    .dataframe tbody tr th:only-of-type {\n",
       "        vertical-align: middle;\n",
       "    }\n",
       "\n",
       "    .dataframe tbody tr th {\n",
       "        vertical-align: top;\n",
       "    }\n",
       "\n",
       "    .dataframe thead th {\n",
       "        text-align: right;\n",
       "    }\n",
       "</style>\n",
       "<table border=\"1\" class=\"dataframe\">\n",
       "  <thead>\n",
       "    <tr style=\"text-align: right;\">\n",
       "      <th></th>\n",
       "      <th>URL</th>\n",
       "      <th>URL_LENGTH</th>\n",
       "      <th>CHARSET</th>\n",
       "      <th>SERVER</th>\n",
       "      <th>CONTENT_LENGTH</th>\n",
       "      <th>WHOIS_COUNTRY</th>\n",
       "      <th>WHOIS_STATEPRO</th>\n",
       "      <th>WHOIS_REGDATE</th>\n",
       "      <th>WHOIS_UPDATED_DATE</th>\n",
       "      <th>DIST_REMOTE_TCP_PORT</th>\n",
       "      <th>REMOTE_IPS</th>\n",
       "      <th>APP_BYTES</th>\n",
       "      <th>SOURCE_APP_PACKETS</th>\n",
       "      <th>REMOTE_APP_PACKETS</th>\n",
       "      <th>SOURCE_APP_BYTES</th>\n",
       "      <th>REMOTE_APP_BYTES</th>\n",
       "      <th>DNS_QUERY_TIMES</th>\n",
       "      <th>Type</th>\n",
       "    </tr>\n",
       "  </thead>\n",
       "  <tbody>\n",
       "    <tr>\n",
       "      <th>0</th>\n",
       "      <td>M0_109</td>\n",
       "      <td>16</td>\n",
       "      <td>iso-8859-1</td>\n",
       "      <td>nginx</td>\n",
       "      <td>263.0</td>\n",
       "      <td>None</td>\n",
       "      <td>None</td>\n",
       "      <td>10/10/2015 18:21</td>\n",
       "      <td>None</td>\n",
       "      <td>0</td>\n",
       "      <td>2</td>\n",
       "      <td>700</td>\n",
       "      <td>9</td>\n",
       "      <td>10</td>\n",
       "      <td>1153</td>\n",
       "      <td>832</td>\n",
       "      <td>2.0</td>\n",
       "      <td>1</td>\n",
       "    </tr>\n",
       "    <tr>\n",
       "      <th>1</th>\n",
       "      <td>B0_2314</td>\n",
       "      <td>16</td>\n",
       "      <td>UTF-8</td>\n",
       "      <td>Apache/2.4.10</td>\n",
       "      <td>15087.0</td>\n",
       "      <td>None</td>\n",
       "      <td>None</td>\n",
       "      <td>None</td>\n",
       "      <td>None</td>\n",
       "      <td>7</td>\n",
       "      <td>4</td>\n",
       "      <td>1230</td>\n",
       "      <td>17</td>\n",
       "      <td>19</td>\n",
       "      <td>1265</td>\n",
       "      <td>1230</td>\n",
       "      <td>0.0</td>\n",
       "      <td>0</td>\n",
       "    </tr>\n",
       "    <tr>\n",
       "      <th>2</th>\n",
       "      <td>B0_911</td>\n",
       "      <td>16</td>\n",
       "      <td>us-ascii</td>\n",
       "      <td>Microsoft-HTTPAPI/2.0</td>\n",
       "      <td>324.0</td>\n",
       "      <td>None</td>\n",
       "      <td>None</td>\n",
       "      <td>None</td>\n",
       "      <td>None</td>\n",
       "      <td>0</td>\n",
       "      <td>0</td>\n",
       "      <td>0</td>\n",
       "      <td>0</td>\n",
       "      <td>0</td>\n",
       "      <td>0</td>\n",
       "      <td>0</td>\n",
       "      <td>0.0</td>\n",
       "      <td>0</td>\n",
       "    </tr>\n",
       "    <tr>\n",
       "      <th>3</th>\n",
       "      <td>B0_113</td>\n",
       "      <td>17</td>\n",
       "      <td>ISO-8859-1</td>\n",
       "      <td>nginx</td>\n",
       "      <td>162.0</td>\n",
       "      <td>US</td>\n",
       "      <td>AK</td>\n",
       "      <td>7/10/1997 4:00</td>\n",
       "      <td>12/09/2013 0:45</td>\n",
       "      <td>22</td>\n",
       "      <td>3</td>\n",
       "      <td>3812</td>\n",
       "      <td>39</td>\n",
       "      <td>37</td>\n",
       "      <td>18784</td>\n",
       "      <td>4380</td>\n",
       "      <td>8.0</td>\n",
       "      <td>0</td>\n",
       "    </tr>\n",
       "    <tr>\n",
       "      <th>4</th>\n",
       "      <td>B0_403</td>\n",
       "      <td>17</td>\n",
       "      <td>UTF-8</td>\n",
       "      <td>None</td>\n",
       "      <td>124140.0</td>\n",
       "      <td>US</td>\n",
       "      <td>TX</td>\n",
       "      <td>12/05/1996 0:00</td>\n",
       "      <td>11/04/2017 0:00</td>\n",
       "      <td>2</td>\n",
       "      <td>5</td>\n",
       "      <td>4278</td>\n",
       "      <td>61</td>\n",
       "      <td>62</td>\n",
       "      <td>129889</td>\n",
       "      <td>4586</td>\n",
       "      <td>4.0</td>\n",
       "      <td>0</td>\n",
       "    </tr>\n",
       "  </tbody>\n",
       "</table>\n",
       "</div>"
      ],
      "text/plain": [
       "       URL  URL_LENGTH     CHARSET                 SERVER  CONTENT_LENGTH  \\\n",
       "0   M0_109          16  iso-8859-1                  nginx           263.0   \n",
       "1  B0_2314          16       UTF-8          Apache/2.4.10         15087.0   \n",
       "2   B0_911          16    us-ascii  Microsoft-HTTPAPI/2.0           324.0   \n",
       "3   B0_113          17  ISO-8859-1                  nginx           162.0   \n",
       "4   B0_403          17       UTF-8                   None        124140.0   \n",
       "\n",
       "  WHOIS_COUNTRY WHOIS_STATEPRO     WHOIS_REGDATE WHOIS_UPDATED_DATE  \\\n",
       "0          None           None  10/10/2015 18:21               None   \n",
       "1          None           None              None               None   \n",
       "2          None           None              None               None   \n",
       "3            US             AK    7/10/1997 4:00    12/09/2013 0:45   \n",
       "4            US             TX   12/05/1996 0:00    11/04/2017 0:00   \n",
       "\n",
       "   DIST_REMOTE_TCP_PORT  REMOTE_IPS  APP_BYTES  SOURCE_APP_PACKETS  \\\n",
       "0                     0           2        700                   9   \n",
       "1                     7           4       1230                  17   \n",
       "2                     0           0          0                   0   \n",
       "3                    22           3       3812                  39   \n",
       "4                     2           5       4278                  61   \n",
       "\n",
       "   REMOTE_APP_PACKETS  SOURCE_APP_BYTES  REMOTE_APP_BYTES  DNS_QUERY_TIMES  \\\n",
       "0                  10              1153               832              2.0   \n",
       "1                  19              1265              1230              0.0   \n",
       "2                   0                 0                 0              0.0   \n",
       "3                  37             18784              4380              8.0   \n",
       "4                  62            129889              4586              4.0   \n",
       "\n",
       "   Type  \n",
       "0     1  \n",
       "1     0  \n",
       "2     0  \n",
       "3     0  \n",
       "4     0  "
      ]
     },
     "execution_count": 8,
     "metadata": {},
     "output_type": "execute_result"
    }
   ],
   "source": [
    "# Your code here\n",
    "#Following the previous comment on high collinearity , removing 2 columns (out of 6)\n",
    "#APP_PACKETS(correlation of 0.99) and NUMBER_OF_SPECIAL_CHARACTERS (Correlation 0.92)\n",
    "\n",
    "websites.drop(columns = {'APP_PACKETS','TCP_CONVERSATION_EXCHANGE','NUMBER_SPECIAL_CHARACTERS'} , inplace=True)\n",
    "websites.head(5)"
   ]
  },
  {
   "cell_type": "code",
   "execution_count": 9,
   "metadata": {
    "Collapsed": "false"
   },
   "outputs": [],
   "source": [
    "# Your comment here"
   ]
  },
  {
   "cell_type": "code",
   "execution_count": 10,
   "metadata": {
    "Collapsed": "false"
   },
   "outputs": [
    {
     "data": {
      "image/png": "[encoded data removed]",
      "text/plain": [
       "<Figure size 1080x720 with 2 Axes>"
      ]
     },
     "metadata": {
      "needs_background": "light"
     },
     "output_type": "display_data"
    }
   ],
   "source": [
    "# Print heatmap again\n",
    "corrMatrix = websites.corr()\n",
    "plt.figure(figsize = (15,10))\n",
    "sns.heatmap(corrMatrix,linewidths=2, annot=True)\n",
    "plt.show()"
   ]
  },
  {
   "cell_type": "code",
   "execution_count": 11,
   "metadata": {
    "Collapsed": "false"
   },
   "outputs": [
    {
     "data": {
      "image/png": "[encoded data removed]",
      "text/plain": [
       "<Figure size 1080x720 with 2 Axes>"
      ]
     },
     "metadata": {
      "needs_background": "light"
     },
     "output_type": "display_data"
    }
   ],
   "source": [
    "#We still have 2 columns with high correlation of 0.99,so removing one of them.\n",
    "websites.drop(columns = 'REMOTE_APP_PACKETS',inplace=True)\n",
    "\n",
    "#Print the heatmap and check again\n",
    "corrMatrix = websites.corr()\n",
    "plt.figure(figsize = (15,10))\n",
    "sns.heatmap(corrMatrix,linewidths=2, annot=True)\n",
    "plt.show()"
   ]
  },
  {
   "cell_type": "markdown",
   "metadata": {
    "Collapsed": "false"
   },
   "source": [
    "# Challenge 3 - Handle Missing Values\n",
    "\n",
    "The next step would be handling missing values. **We start by examining the number of missing values in each column, which you will do in the next cell.**"
   ]
  },
  {
   "cell_type": "code",
   "execution_count": 12,
   "metadata": {
    "Collapsed": "false"
   },
   "outputs": [
    {
     "data": {
      "text/plain": [
       "URL                       0\n",
       "URL_LENGTH                0\n",
       "CHARSET                   0\n",
       "SERVER                    1\n",
       "CONTENT_LENGTH          812\n",
       "WHOIS_COUNTRY             0\n",
       "WHOIS_STATEPRO            0\n",
       "WHOIS_REGDATE             0\n",
       "WHOIS_UPDATED_DATE        0\n",
       "DIST_REMOTE_TCP_PORT      0\n",
       "REMOTE_IPS                0\n",
       "APP_BYTES                 0\n",
       "SOURCE_APP_PACKETS        0\n",
       "SOURCE_APP_BYTES          0\n",
       "REMOTE_APP_BYTES          0\n",
       "DNS_QUERY_TIMES           1\n",
       "Type                      0\n",
       "dtype: int64"
      ]
     },
     "execution_count": 12,
     "metadata": {},
     "output_type": "execute_result"
    }
   ],
   "source": [
    "# Your code here\n",
    "websites.isna().sum()"
   ]
  },
  {
   "cell_type": "markdown",
   "metadata": {
    "Collapsed": "false"
   },
   "source": [
    "If you remember in the previous labs, we drop a column if the column contains a high proportion of missing values. After dropping those problematic columns, we drop the rows with missing values.\n",
    "\n",
    "#### In the cells below, handle the missing values from the dataset. Remember to comment the rationale of your decisions."
   ]
  },
  {
   "cell_type": "code",
   "execution_count": 13,
   "metadata": {
    "Collapsed": "false"
   },
   "outputs": [
    {
     "name": "stdout",
     "output_type": "stream",
     "text": [
      "The proportion of missing values in Content_length is 45.5924%\n"
     ]
    }
   ],
   "source": [
    "# Your code here\n",
    "#Only the column Content_length has a high number of missing values.\n",
    "\n",
    "miss_prop = (websites['CONTENT_LENGTH'].isna().sum() / len(websites['CONTENT_LENGTH'])* 100)\n",
    "print(\"The proportion of missing values in Content_length is {0:.4f}%\".format(miss_prop))\n"
   ]
  },
  {
   "cell_type": "code",
   "execution_count": 14,
   "metadata": {
    "Collapsed": "false"
   },
   "outputs": [],
   "source": [
    "# Your comment here\n",
    "#That is a whopping high proportion of missing values for Content_length column and can be dropped from our further analysis.\n",
    "websites.drop(columns = 'CONTENT_LENGTH',inplace=True)"
   ]
  },
  {
   "cell_type": "markdown",
   "metadata": {
    "Collapsed": "false"
   },
   "source": [
    "#### Again, examine the number of missing values in each column. \n",
    "\n",
    "If all cleaned, proceed. Otherwise, go back and do more cleaning."
   ]
  },
  {
   "cell_type": "code",
   "execution_count": 15,
   "metadata": {
    "Collapsed": "false"
   },
   "outputs": [
    {
     "data": {
      "text/plain": [
       "URL                     0\n",
       "URL_LENGTH              0\n",
       "CHARSET                 0\n",
       "SERVER                  1\n",
       "WHOIS_COUNTRY           0\n",
       "WHOIS_STATEPRO          0\n",
       "WHOIS_REGDATE           0\n",
       "WHOIS_UPDATED_DATE      0\n",
       "DIST_REMOTE_TCP_PORT    0\n",
       "REMOTE_IPS              0\n",
       "APP_BYTES               0\n",
       "SOURCE_APP_PACKETS      0\n",
       "SOURCE_APP_BYTES        0\n",
       "REMOTE_APP_BYTES        0\n",
       "DNS_QUERY_TIMES         1\n",
       "Type                    0\n",
       "dtype: int64"
      ]
     },
     "execution_count": 15,
     "metadata": {},
     "output_type": "execute_result"
    }
   ],
   "source": [
    "# Examine missing values in each column\n",
    "websites.isna().sum()\n",
    "#SERVER and DNS_QUERY_TIMES have 1 missing value each, so dropping those rows."
   ]
  },
  {
   "cell_type": "code",
   "execution_count": 16,
   "metadata": {
    "Collapsed": "false"
   },
   "outputs": [
    {
     "data": {
      "text/plain": [
       "URL                     0\n",
       "URL_LENGTH              0\n",
       "CHARSET                 0\n",
       "SERVER                  0\n",
       "WHOIS_COUNTRY           0\n",
       "WHOIS_STATEPRO          0\n",
       "WHOIS_REGDATE           0\n",
       "WHOIS_UPDATED_DATE      0\n",
       "DIST_REMOTE_TCP_PORT    0\n",
       "REMOTE_IPS              0\n",
       "APP_BYTES               0\n",
       "SOURCE_APP_PACKETS      0\n",
       "SOURCE_APP_BYTES        0\n",
       "REMOTE_APP_BYTES        0\n",
       "DNS_QUERY_TIMES         0\n",
       "Type                    0\n",
       "dtype: int64"
      ]
     },
     "execution_count": 16,
     "metadata": {},
     "output_type": "execute_result"
    }
   ],
   "source": [
    "websites.dropna(axis=0, how='any',inplace=True)\n",
    "websites.isnull().sum()"
   ]
  },
  {
   "cell_type": "markdown",
   "metadata": {
    "Collapsed": "false"
   },
   "source": [
    "# Challenge 4 - Handle `WHOIS_*` Categorical Data"
   ]
  },
  {
   "cell_type": "markdown",
   "metadata": {
    "Collapsed": "false"
   },
   "source": [
    "There are several categorical columns we need to handle. These columns are:\n",
    "\n",
    "* `URL`\n",
    "* `CHARSET`\n",
    "* `SERVER`\n",
    "* `WHOIS_COUNTRY`\n",
    "* `WHOIS_STATEPRO`\n",
    "* `WHOIS_REGDATE`\n",
    "* `WHOIS_UPDATED_DATE`\n",
    "\n",
    "How to handle string columns is always case by case. Let's start by working on `WHOIS_COUNTRY`. Your steps are:\n",
    "\n",
    "1. List out the unique values of `WHOIS_COUNTRY`.\n",
    "1. Consolidate the country values with consistent country codes. For example, the following values refer to the same country and should use consistent country code:\n",
    "    * `CY` and `Cyprus`\n",
    "    * `US` and `us`\n",
    "    * `SE` and `se`\n",
    "    * `GB`, `United Kingdom`, and `[u'GB'; u'UK']`\n",
    "\n",
    "#### In the cells below, fix the country values as intructed above."
   ]
  },
  {
   "cell_type": "code",
   "execution_count": 17,
   "metadata": {
    "Collapsed": "false"
   },
   "outputs": [
    {
     "data": {
      "text/plain": [
       "array(['None', 'US', 'SC', 'GB', 'UK', 'RU', 'AU', 'CA', 'PA', 'se', 'IN',\n",
       "       'LU', 'TH', \"[u'GB'; u'UK']\", 'FR', 'NL', 'UG', 'JP', 'CN', 'SE',\n",
       "       'SI', 'IL', 'ru', 'KY', 'AT', 'CZ', 'PH', 'BE', 'NO', 'TR', 'LV',\n",
       "       'DE', 'ES', 'BR', 'us', 'KR', 'HK', 'UA', 'CH', 'United Kingdom',\n",
       "       'BS', 'PK', 'IT', 'Cyprus', 'BY', 'AE', 'IE', 'UY', 'KG'],\n",
       "      dtype=object)"
      ]
     },
     "execution_count": 17,
     "metadata": {},
     "output_type": "execute_result"
    }
   ],
   "source": [
    "# Your code here\n",
    "#list the unique values in WHOIS_COUNTRY\n",
    "websites['WHOIS_COUNTRY'].unique()"
   ]
  },
  {
   "cell_type": "code",
   "execution_count": 18,
   "metadata": {
    "Collapsed": "false"
   },
   "outputs": [
    {
     "data": {
      "text/plain": [
       "array(['NONE', 'US', 'SC', 'UK', 'RU', 'AU', 'CA', 'PA', 'SE', 'IN', 'LU',\n",
       "       'TH', 'FR', 'NL', 'UG', 'JP', 'CN', 'SI', 'IL', 'KY', 'AT', 'CZ',\n",
       "       'PH', 'BE', 'NO', 'TR', 'LV', 'DE', 'ES', 'BR', 'KR', 'HK', 'UA',\n",
       "       'CH', 'BS', 'PK', 'IT', 'CY', 'BY', 'AE', 'IE', 'UY', 'KG'],\n",
       "      dtype=object)"
      ]
     },
     "execution_count": 18,
     "metadata": {},
     "output_type": "execute_result"
    }
   ],
   "source": [
    "websites['WHOIS_COUNTRY']= websites['WHOIS_COUNTRY'].apply(lambda x: x.upper())\n",
    "websites.loc[:,'WHOIS_COUNTRY'] = websites.loc[:,'WHOIS_COUNTRY'].str.replace(\"CYPRUS\",\"CY\")\n",
    "websites[['WHOIS_COUNTRY']]= websites[['WHOIS_COUNTRY']].replace(dict.fromkeys([\"UNITED KINGDOM\",\"GB\",\"[U'GB'; U'UK']\"],\"UK\"))\n",
    "websites['WHOIS_COUNTRY'].unique()"
   ]
  },
  {
   "cell_type": "markdown",
   "metadata": {
    "Collapsed": "false"
   },
   "source": [
    "Since we have fixed the country values, can we convert this column to ordinal now?\n",
    "\n",
    "Not yet. If you reflect on the previous labs how we handle categorical columns, you probably remember we ended up dropping a lot of those columns because there are too many unique values. Too many unique values in a column is not desirable in machine learning because it makes prediction inaccurate. But there are workarounds under certain conditions. One of the fixable conditions is:\n",
    "\n",
    "#### If a limited number of values account for the majority of data, we can retain these top values and re-label all other rare values.\n",
    "\n",
    "The `WHOIS_COUNTRY` column happens to be this case. You can verify it by print a bar chart of the `value_counts` in the next cell to verify:"
   ]
  },
  {
   "cell_type": "code",
   "execution_count": 19,
   "metadata": {
    "Collapsed": "false"
   },
   "outputs": [
    {
     "data": {
      "text/plain": [
       "US      1105\n",
       "NONE     306\n",
       "CA        83\n",
       "ES        63\n",
       "UK        35\n",
       "AU        35\n",
       "PA        21\n",
       "JP        11\n",
       "CN        10\n",
       "IN        10\n",
       "CZ         9\n",
       "FR         9\n",
       "NL         6\n",
       "CH         6\n",
       "RU         6\n",
       "KR         5\n",
       "AT         4\n",
       "BS         4\n",
       "SE         4\n",
       "PH         4\n",
       "TR         3\n",
       "BE         3\n",
       "SC         3\n",
       "HK         3\n",
       "DE         3\n",
       "KY         3\n",
       "BR         2\n",
       "NO         2\n",
       "SI         2\n",
       "IL         2\n",
       "CY         2\n",
       "UA         2\n",
       "UY         2\n",
       "KG         2\n",
       "IE         1\n",
       "PK         1\n",
       "BY         1\n",
       "LU         1\n",
       "AE         1\n",
       "TH         1\n",
       "IT         1\n",
       "LV         1\n",
       "UG         1\n",
       "Name: WHOIS_COUNTRY, dtype: int64"
      ]
     },
     "execution_count": 19,
     "metadata": {},
     "output_type": "execute_result"
    },
    {
     "data": {
      "text/plain": [
       "<Figure size 576x288 with 0 Axes>"
      ]
     },
     "metadata": {},
     "output_type": "display_data"
    }
   ],
   "source": [
    "# Your code here\n",
    "plt.figure(figsize = (8,4))\n",
    "country_data = websites['WHOIS_COUNTRY'].value_counts()\n",
    "country_data"
   ]
  },
  {
   "cell_type": "code",
   "execution_count": 20,
   "metadata": {
    "Collapsed": "false"
   },
   "outputs": [
    {
     "name": "stderr",
     "output_type": "stream",
     "text": [
      "C:\\Users\\P. Scalia\\AppData\\Roaming\\Python\\Python37\\site-packages\\seaborn\\_decorators.py:43: FutureWarning: Pass the following variable as a keyword arg: x. From version 0.12, the only valid positional argument will be `data`, and passing other arguments without an explicit keyword will result in an error or misinterpretation.\n",
      "  FutureWarning\n"
     ]
    },
    {
     "data": {
      "text/plain": [
       "<AxesSubplot:xlabel='WHOIS_COUNTRY', ylabel='count'>"
      ]
     },
     "execution_count": 20,
     "metadata": {},
     "output_type": "execute_result"
    },
    {
     "data": {
      "image/png": "[encoded data removed]",
      "text/plain": [
       "<Figure size 432x288 with 1 Axes>"
      ]
     },
     "metadata": {
      "needs_background": "light"
     },
     "output_type": "display_data"
    }
   ],
   "source": [
    "sns.countplot(country_data)\n"
   ]
  },
  {
   "cell_type": "markdown",
   "metadata": {
    "Collapsed": "false"
   },
   "source": [
    "#### After verifying, now let's keep the top 10 values of the column and re-label other columns with `OTHER`."
   ]
  },
  {
   "cell_type": "code",
   "execution_count": 21,
   "metadata": {
    "Collapsed": "false"
   },
   "outputs": [
    {
     "data": {
      "text/plain": [
       "array(['NONE', 'US', 'Other', 'UK', 'AU', 'CA', 'PA', 'IN', 'JP', 'CN',\n",
       "       'ES'], dtype=object)"
      ]
     },
     "execution_count": 21,
     "metadata": {},
     "output_type": "execute_result"
    }
   ],
   "source": [
    "# Your code here\n",
    "named_countries = ['US','NONE','CA','ES','AU','UK','PA','JP','CN','IN']  \n",
    "\n",
    "def rename_countries(x):\n",
    "    if x not in named_countries:\n",
    "        x = 'Other'\n",
    "    return x\n",
    "\n",
    "websites['WHOIS_COUNTRY'] = websites['WHOIS_COUNTRY'].apply(rename_countries)\n",
    "websites['WHOIS_COUNTRY'].unique()"
   ]
  },
  {
   "cell_type": "markdown",
   "metadata": {
    "Collapsed": "false"
   },
   "source": [
    "Now since `WHOIS_COUNTRY` has been re-labelled, we don't need `WHOIS_STATEPRO` any more because the values of the states or provinces may not be relevant any more. We'll drop this column.\n",
    "\n",
    "In addition, we will also drop `WHOIS_REGDATE` and `WHOIS_UPDATED_DATE`. These are the registration and update dates of the website domains. Not of our concerns.\n",
    "\n",
    "#### In the next cell, drop `['WHOIS_STATEPRO', 'WHOIS_REGDATE', 'WHOIS_UPDATED_DATE']`."
   ]
  },
  {
   "cell_type": "code",
   "execution_count": 22,
   "metadata": {
    "Collapsed": "false"
   },
   "outputs": [],
   "source": [
    "# Your code here\n",
    "websites.drop(columns = ['WHOIS_STATEPRO', 'WHOIS_REGDATE', 'WHOIS_UPDATED_DATE'],inplace=True)\n"
   ]
  },
  {
   "cell_type": "markdown",
   "metadata": {
    "Collapsed": "false"
   },
   "source": [
    "# Challenge 5 - Handle Remaining Categorical Data & Convert to Ordinal\n",
    "\n",
    "Now print the `dtypes` of the data again. Besides `WHOIS_COUNTRY` which we already fixed, there should be 3 categorical columns left: `URL`, `CHARSET`, and `SERVER`."
   ]
  },
  {
   "cell_type": "code",
   "execution_count": 23,
   "metadata": {
    "Collapsed": "false"
   },
   "outputs": [
    {
     "data": {
      "text/plain": [
       "URL                      object\n",
       "URL_LENGTH                int64\n",
       "CHARSET                  object\n",
       "SERVER                   object\n",
       "WHOIS_COUNTRY            object\n",
       "DIST_REMOTE_TCP_PORT      int64\n",
       "REMOTE_IPS                int64\n",
       "APP_BYTES                 int64\n",
       "SOURCE_APP_PACKETS        int64\n",
       "SOURCE_APP_BYTES          int64\n",
       "REMOTE_APP_BYTES          int64\n",
       "DNS_QUERY_TIMES         float64\n",
       "Type                      int64\n",
       "dtype: object"
      ]
     },
     "execution_count": 23,
     "metadata": {},
     "output_type": "execute_result"
    }
   ],
   "source": [
    "# Your code here\n",
    "websites.dtypes"
   ]
  },
  {
   "cell_type": "markdown",
   "metadata": {
    "Collapsed": "false"
   },
   "source": [
    "#### `URL` is easy. We'll simply drop it because it has too many unique values that there's no way for us to consolidate."
   ]
  },
  {
   "cell_type": "code",
   "execution_count": 24,
   "metadata": {
    "Collapsed": "false"
   },
   "outputs": [],
   "source": [
    "# Your code here\n",
    "websites.drop(columns = ['URL'],inplace=True)"
   ]
  },
  {
   "cell_type": "markdown",
   "metadata": {
    "Collapsed": "false"
   },
   "source": [
    "#### Print the unique value counts of `CHARSET`. You see there are only a few unique values. So we can keep it as it is."
   ]
  },
  {
   "cell_type": "code",
   "execution_count": 25,
   "metadata": {
    "Collapsed": "false"
   },
   "outputs": [
    {
     "data": {
      "text/plain": [
       "array(['iso-8859-1', 'UTF-8', 'us-ascii', 'ISO-8859-1', 'utf-8', 'None',\n",
       "       'windows-1251', 'ISO-8859', 'windows-1252'], dtype=object)"
      ]
     },
     "execution_count": 25,
     "metadata": {},
     "output_type": "execute_result"
    }
   ],
   "source": [
    "# Your code here\n",
    "websites['CHARSET'].unique()"
   ]
  },
  {
   "cell_type": "markdown",
   "metadata": {
    "Collapsed": "false"
   },
   "source": [
    "`SERVER` is a little more complicated. Print its unique values and think about how you can consolidate those values.\n",
    "\n",
    "#### Before you think of your own solution, don't read the instructions that come next."
   ]
  },
  {
   "cell_type": "code",
   "execution_count": 26,
   "metadata": {
    "Collapsed": "false"
   },
   "outputs": [
    {
     "data": {
      "text/plain": [
       "array(['nginx', 'Apache/2.4.10', 'Microsoft-HTTPAPI/2.0', 'None',\n",
       "       'Apache/2', 'nginx/1.10.1', 'Apache', 'Apache/2.2.15 (Red Hat)',\n",
       "       'Apache/2.4.23 (Unix) OpenSSL/1.0.1e-fips mod_bwlimited/1.4',\n",
       "       'openresty/1.11.2.1', 'Apache/2.2.22', 'Apache/2.4.7 (Ubuntu)',\n",
       "       'nginx/1.12.0',\n",
       "       'Apache/2.4.12 (Unix) OpenSSL/1.0.1e-fips mod_bwlimited/1.4',\n",
       "       'Oracle-iPlanet-Web-Server/7.0', 'cloudflare-nginx', 'nginx/1.6.2',\n",
       "       'openresty', 'Heptu web server', 'Pepyaka/1.11.3', 'nginx/1.8.0',\n",
       "       'nginx/1.10.1 + Phusion Passenger 5.0.30',\n",
       "       'Apache/2.2.29 (Amazon)', 'Microsoft-IIS/7.5', 'LiteSpeed',\n",
       "       'Apache/2.4.25 (cPanel) OpenSSL/1.0.1e-fips mod_bwlimited/1.4',\n",
       "       'tsa_c', 'Apache/2.2.0 (Fedora)', 'Apache/2.2.22 (Debian)',\n",
       "       'Apache/2.2.15 (CentOS)', 'Apache/2.4.25',\n",
       "       'Apache/2.4.25 (Amazon) PHP/7.0.14', 'GSE',\n",
       "       'Apache/2.4.23 (Unix) OpenSSL/0.9.8e-fips-rhel5 mod_bwlimited/1.4',\n",
       "       'Apache/2.4.25 (Amazon) OpenSSL/1.0.1k-fips',\n",
       "       'Apache/2.2.22 (Ubuntu)', 'Tengine',\n",
       "       'Apache/2.4.18 (Unix) OpenSSL/0.9.8e-fips-rhel5 mod_bwlimited/1.4',\n",
       "       'Apache/2.4.10 (Debian)', 'Apache/2.4.6 (CentOS) PHP/5.6.8',\n",
       "       'Sun-ONE-Web-Server/6.1',\n",
       "       'Apache/2.4.18 (Unix) OpenSSL/1.0.2e Communique/4.1.10',\n",
       "       'AmazonS3',\n",
       "       'Apache/1.3.37 (Unix) mod_perl/1.29 mod_ssl/2.8.28 OpenSSL/0.9.7e-p1',\n",
       "       'ATS', 'Apache/2.2.27 (CentOS)',\n",
       "       'Apache/2.2.29 (Unix) mod_ssl/2.2.29 OpenSSL/1.0.1e-fips DAV/2 mod_bwlimited/1.4',\n",
       "       'CherryPy/3.6.0', 'Server', 'KHL',\n",
       "       'Apache/2.4.6 (CentOS) OpenSSL/1.0.1e-fips mod_fcgid/2.3.9 PHP/5.4.16 mod_jk/1.2.40',\n",
       "       'Apache/2.2.3 (CentOS)', 'Apache/2.4',\n",
       "       'Apache/1.3.27 (Unix)  (Red-Hat/Linux) mod_perl/1.26 PHP/4.3.3 FrontPage/5.0.2 mod_ssl/2.8.12 OpenSSL/0.9.6b',\n",
       "       'mw2114.codfw.wmnet',\n",
       "       'Apache/2.2.31 (Unix) mod_ssl/2.2.31 OpenSSL/1.0.1e-fips mod_bwlimited/1.4 mod_perl/2.0.8 Perl/v5.10.1',\n",
       "       'Apache/1.3.34 (Unix) PHP/4.4.4', 'Apache/2.2.31 (Amazon)',\n",
       "       'Jetty(9.0.z-SNAPSHOT)', 'Apache/2.2.31 (CentOS)',\n",
       "       'Apache/2.4.12 (Ubuntu)', 'HTTPDaemon',\n",
       "       'Apache/2.2.29 (Unix) mod_ssl/2.2.29 OpenSSL/1.0.1e-fips mod_bwlimited/1.4',\n",
       "       'MediaFire', 'DOSarrest', 'mw2232.codfw.wmnet',\n",
       "       'Sucuri/Cloudproxy', 'Apache/2.4.23 (Unix)', 'nginx/0.7.65',\n",
       "       'mw2260.codfw.wmnet', 'Apache/2.2.32', 'mw2239.codfw.wmnet',\n",
       "       'DPS/1.1.8', 'Apache/2.0.52 (Red Hat)',\n",
       "       'Apache/2.2.25 (Unix) mod_ssl/2.2.25 OpenSSL/0.9.8e-fips-rhel5 mod_bwlimited/1.4',\n",
       "       'Apache/1.3.31 (Unix) PHP/4.3.9 mod_perl/1.29 rus/PL30.20',\n",
       "       'Apache/2.2.13 (Unix) mod_ssl/2.2.13 OpenSSL/0.9.8e-fips-rhel5 mod_auth_passthrough/2.1 mod_bwlimited/1.4 PHP/5.2.10',\n",
       "       'nginx/1.1.19', 'ATS/5.3.0', 'Apache/2.2.3 (Red Hat)',\n",
       "       'nginx/1.4.3',\n",
       "       'Apache/2.2.29 (Unix) mod_ssl/2.2.29 OpenSSL/1.0.1e-fips mod_bwlimited/1.4 PHP/5.4.35',\n",
       "       'Apache/2.2.14 (FreeBSD) mod_ssl/2.2.14 OpenSSL/0.9.8y DAV/2 PHP/5.2.12 with Suhosin-Patch',\n",
       "       'Apache/2.2.14 (Unix) mod_ssl/2.2.14 OpenSSL/0.9.8e-fips-rhel5',\n",
       "       'Apache/1.3.39 (Unix) PHP/5.2.5 mod_auth_passthrough/1.8 mod_bwlimited/1.4 mod_log_bytes/1.2 mod_gzip/1.3.26.1a FrontPage/5.0.2.2635 DAV/1.0.3 mod_ssl/2.8.30 OpenSSL/0.9.7a',\n",
       "       'SSWS', 'Microsoft-IIS/8.0', 'Apache/2.4.18 (Ubuntu)',\n",
       "       'Apache/2.4.6 (CentOS) OpenSSL/1.0.1e-fips PHP/5.4.16 mod_apreq2-20090110/2.8.0 mod_perl/2.0.10 Perl/v5.24.1',\n",
       "       'Apache/2.2.20 (Unix)', 'YouTubeFrontEnd', 'nginx/1.11.3',\n",
       "       'nginx/1.11.2', 'nginx/1.10.0 (Ubuntu)', 'nginx/1.8.1',\n",
       "       'nginx/1.11.10', 'Squeegit/1.2.5 (3_sir)',\n",
       "       'Virtuoso/07.20.3217 (Linux) i686-generic-linux-glibc212-64  VDB',\n",
       "       'Apache-Coyote/1.1', 'Yippee-Ki-Yay', 'mw2165.codfw.wmnet',\n",
       "       'mw2192.codfw.wmnet', 'Apache/2.2.23 (Amazon)',\n",
       "       'nginx/1.4.6 (Ubuntu)', 'nginx + Phusion Passenger',\n",
       "       'Proxy Pandeiro UOL', 'mw2231.codfw.wmnet', 'openresty/1.11.2.2',\n",
       "       'mw2109.codfw.wmnet', 'nginx/0.8.54', 'Apache/2.4.6',\n",
       "       'mw2225.codfw.wmnet', 'Apache/1.3.27 (Unix) PHP/4.4.1',\n",
       "       'mw2236.codfw.wmnet', 'mw2101.codfw.wmnet', 'Varnish',\n",
       "       'Resin/3.1.8', 'mw2164.codfw.wmnet', 'Microsoft-IIS/8.5',\n",
       "       'mw2242.codfw.wmnet',\n",
       "       'Apache/2.4.6 (CentOS) OpenSSL/1.0.1e-fips PHP/5.5.38',\n",
       "       'mw2175.codfw.wmnet', 'mw2107.codfw.wmnet', 'mw2190.codfw.wmnet',\n",
       "       'Apache/2.4.6 (CentOS)', 'nginx/1.13.0', 'barista/5.1.3',\n",
       "       'mw2103.codfw.wmnet', 'Apache/2.4.25 (Debian)', 'ECD (fll/0790)',\n",
       "       'Pagely Gateway/1.5.1', 'nginx/1.10.3',\n",
       "       'Apache/2.4.25 (FreeBSD) OpenSSL/1.0.1s-freebsd PHP/5.6.30',\n",
       "       'mw2097.codfw.wmnet', 'mw2233.codfw.wmnet', 'fbs',\n",
       "       'mw2199.codfw.wmnet', 'mw2255.codfw.wmnet', 'mw2228.codfw.wmnet',\n",
       "       'Apache/2.2.31 (Unix) mod_ssl/2.2.31 OpenSSL/1.0.1e-fips mod_bwlimited/1.4 mod_fcgid/2.3.9',\n",
       "       'gunicorn/19.7.1',\n",
       "       'Apache/2.2.31 (Unix) mod_ssl/2.2.31 OpenSSL/0.9.8e-fips-rhel5 mod_bwlimited/1.4',\n",
       "       'Apache/2.4.6 (CentOS) OpenSSL/1.0.1e-fips PHP/5.4.16',\n",
       "       'mw2241.codfw.wmnet',\n",
       "       'Apache/1.3.33 (Unix) mod_ssl/2.8.24 OpenSSL/0.9.7e-p1 PHP/4.4.8',\n",
       "       'lighttpd', 'mw2230.codfw.wmnet',\n",
       "       'Apache/2.4.6 (CentOS) OpenSSL/1.0.1e-fips', 'AkamaiGHost',\n",
       "       'mw2240.codfw.wmnet', 'nginx/1.10.2', 'PWS/8.2.0.7', 'nginx/1.2.1',\n",
       "       'nxfps',\n",
       "       'Apache/2.2.16 (Unix) mod_ssl/2.2.16 OpenSSL/0.9.8e-fips-rhel5 mod_auth_passthrough/2.1 mod_bwlimited/1.4',\n",
       "       'Play', 'mw2185.codfw.wmnet',\n",
       "       'Apache/2.4.10 (Unix) OpenSSL/1.0.1k',\n",
       "       'Apache/Not telling (Unix) AuthTDS/1.1',\n",
       "       'Apache/2.2.11 (Unix) PHP/5.2.6', 'Scratch Web Server',\n",
       "       'marrakesh 1.12.2', 'nginx/0.8.35', 'mw2182.codfw.wmnet',\n",
       "       'squid/3.3.8', 'nginx/1.10.0', 'Nginx (OpenBSD)',\n",
       "       'Zope/(2.13.16; python 2.6.8; linux2) ZServer/1.1',\n",
       "       'Apache/2.2.26 (Unix) mod_ssl/2.2.26 OpenSSL/0.9.8e-fips-rhel5 mod_bwlimited/1.4 PHP/5.4.26',\n",
       "       'Apache/2.2.21 (Unix) mod_ssl/2.2.21 OpenSSL/0.9.8e-fips-rhel5 PHP/5.3.10',\n",
       "       'Apache/2.2.27 (Unix) OpenAM Web Agent/4.0.1-1 mod_ssl/2.2.27 OpenSSL/1.0.1p PHP/5.3.28',\n",
       "       'mw2104.codfw.wmnet', '.V01 Apache', 'mw2110.codfw.wmnet',\n",
       "       'Apache/2.4.6 (Unix) mod_jk/1.2.37 PHP/5.5.1 OpenSSL/1.0.1g mod_fcgid/2.3.9',\n",
       "       'mw2176.codfw.wmnet', 'mw2187.codfw.wmnet', 'mw2106.codfw.wmnet',\n",
       "       'Microsoft-IIS/7.0',\n",
       "       'Apache/1.3.42 Ben-SSL/1.60 (Unix) mod_gzip/1.3.26.1a mod_fastcgi/2.4.6 mod_throttle/3.1.2 Chili!Soft-ASP/3.6.2 FrontPage/5.0.2.2635 mod_perl/1.31 PHP/4.4.9',\n",
       "       'Aeria Games & Entertainment', 'nginx/1.6.3 + Phusion Passenger',\n",
       "       'Apache/2.4.10 (Debian) PHP/5.6.30-0+deb8u1 mod_perl/2.0.9dev Perl/v5.20.2',\n",
       "       'mw2173.codfw.wmnet',\n",
       "       'Apache/2.4.6 (Red Hat Enterprise Linux) OpenSSL/1.0.1e-fips mod_fcgid/2.3.9 Communique/4.2.0',\n",
       "       'Apache/2.2.15 (CentOS) DAV/2 mod_ssl/2.2.15 OpenSSL/1.0.1e-fips PHP/5.3.3',\n",
       "       'Apache/2.4.6 (CentOS) OpenSSL/1.0.1e-fips PHP/7.0.14',\n",
       "       'mw2198.codfw.wmnet', 'mw2172.codfw.wmnet', 'nginx/1.2.6',\n",
       "       'Apache/2.4.6 (Unix) mod_jk/1.2.37',\n",
       "       'Apache/2.4.25 (Unix) OpenSSL/1.0.1e-fips mod_bwlimited/1.4',\n",
       "       'nginx/1.4.4', 'Cowboy', 'mw2113.codfw.wmnet',\n",
       "       'Apache/2.2.14 (Unix) mod_ssl/2.2.14 OpenSSL/0.9.8a',\n",
       "       'Apache/2.4.10 (Ubuntu)', 'mw2224.codfw.wmnet',\n",
       "       'mw2171.codfw.wmnet', 'mw2257.codfw.wmnet', 'mw2226.codfw.wmnet',\n",
       "       'DMS/1.0.42', 'nginx/1.6.3', 'Application-Server',\n",
       "       'Apache/2.4.6 (CentOS) mod_fcgid/2.3.9 PHP/5.6.30',\n",
       "       'mw2177.codfw.wmnet', 'lighttpd/1.4.28', 'mw2197.codfw.wmnet',\n",
       "       'Apache/2.2.31 (FreeBSD) PHP/5.4.15 mod_ssl/2.2.31 OpenSSL/1.0.2d DAV/2',\n",
       "       'Apache/2.2.26 (Unix) mod_ssl/2.2.26 OpenSSL/1.0.1e-fips DAV/2 mod_bwlimited/1.4',\n",
       "       'Apache/2.2.24 (Unix) DAV/2 PHP/5.3.26 mod_ssl/2.2.24 OpenSSL/0.9.8y',\n",
       "       'mw2178.codfw.wmnet', '294', 'Microsoft-IIS/6.0', 'nginx/1.7.4',\n",
       "       'Apache/2.2.22 (Debian) mod_python/3.3.1 Python/2.7.3 mod_ssl/2.2.22 OpenSSL/1.0.1t',\n",
       "       'Apache/2.4.16 (Ubuntu)', 'www.lexisnexis.com  9999',\n",
       "       'nginx/0.8.38', 'mw2238.codfw.wmnet', 'Pizza/pepperoni',\n",
       "       'XXXXXXXXXXXXXXXXXXXXXX', 'MI', 'Roxen/5.4.98-r2',\n",
       "       'Apache/2.2.31 (Unix) mod_ssl/2.2.31 OpenSSL/1.0.1e-fips mod_bwlimited/1.4',\n",
       "       'nginx/1.9.13', 'mw2180.codfw.wmnet', 'Apache/2.2.14 (Ubuntu)',\n",
       "       'ebay server', 'nginx/0.8.55', 'Apache/2.2.10 (Linux/SUSE)',\n",
       "       'nginx/1.7.12',\n",
       "       'Apache/2.0.63 (Unix) mod_ssl/2.0.63 OpenSSL/0.9.8e-fips-rhel5 mod_auth_passthrough/2.1 mod_bwlimited/1.4 PHP/5.3.6',\n",
       "       'Boston.com Frontend', 'My Arse', 'IdeaWebServer/v0.80',\n",
       "       'Apache/2.4.17 (Unix) OpenSSL/1.0.1e-fips PHP/5.6.19',\n",
       "       'Microsoft-IIS/7.5; litigation_essentials.lexisnexis.com  9999',\n",
       "       'Apache/2.2.16 (Debian)'], dtype=object)"
      ]
     },
     "execution_count": 26,
     "metadata": {},
     "output_type": "execute_result"
    }
   ],
   "source": [
    "# Your code here\n",
    "websites['SERVER'].unique()"
   ]
  },
  {
   "cell_type": "code",
   "execution_count": 27,
   "metadata": {
    "Collapsed": "false"
   },
   "outputs": [
    {
     "data": {
      "text/plain": [
       "Apache                                                                                385\n",
       "nginx                                                                                 211\n",
       "None                                                                                  175\n",
       "Microsoft-HTTPAPI/2.0                                                                 113\n",
       "cloudflare-nginx                                                                       94\n",
       "                                                                                     ... \n",
       "KHL                                                                                     1\n",
       "nxfps                                                                                   1\n",
       "nginx/1.10.0 (Ubuntu)                                                                   1\n",
       "Apache/2.4.6 (CentOS) OpenSSL/1.0.1e-fips mod_fcgid/2.3.9 PHP/5.4.16 mod_jk/1.2.40      1\n",
       "lighttpd/1.4.28                                                                         1\n",
       "Name: SERVER, Length: 239, dtype: int64"
      ]
     },
     "execution_count": 27,
     "metadata": {},
     "output_type": "execute_result"
    }
   ],
   "source": [
    "websites['SERVER'].value_counts()"
   ]
  },
  {
   "cell_type": "code",
   "execution_count": 28,
   "metadata": {
    "Collapsed": "false"
   },
   "outputs": [],
   "source": [
    "# Your comment here\n",
    "# Though there are a lot of unique values , they seem to be the detailed specifications of Apache and some of them of nginx.\n",
    "# This can be verified from the output of value_counts()shown above.\n",
    "#So they can be broadly put into 4 main classes : Apache , nginx, Microsoft and the Miscalleneous."
   ]
  },
  {
   "cell_type": "markdown",
   "metadata": {
    "Collapsed": "false"
   },
   "source": [
    "Although there are so many unique values in the `SERVER` column, there are actually only 3 main server types: `Microsoft`, `Apache`, and `nginx`. Just check if each `SERVER` value contains any of those server types and re-label them. For `SERVER` values that don't contain any of those substrings, label with `Other`.\n",
    "\n",
    "At the end, your `SERVER` column should only contain 4 unique values: `Microsoft`, `Apache`, `nginx`, and `Other`."
   ]
  },
  {
   "cell_type": "code",
   "execution_count": 29,
   "metadata": {
    "Collapsed": "false"
   },
   "outputs": [
    {
     "data": {
      "text/plain": [
       "array(['nginx', 'Apache', 'Microsoft', 'Other'], dtype=object)"
      ]
     },
     "execution_count": 29,
     "metadata": {},
     "output_type": "execute_result"
    }
   ],
   "source": [
    "# Your code here\n",
    "def server_cat(x):\n",
    "    if 'Microsoft' in x:\n",
    "        x = 'Microsoft'\n",
    "    elif 'Apache' in x:\n",
    "        x = 'Apache'\n",
    "    elif 'nginx' in x:\n",
    "        x = 'nginx'\n",
    "    else:\n",
    "        x = 'Other'\n",
    "    return x\n",
    "\n",
    "websites['SERVER'] = websites['SERVER'].apply(server_cat)\n",
    "websites['SERVER'].unique()"
   ]
  },
  {
   "cell_type": "code",
   "execution_count": 43,
   "metadata": {
    "Collapsed": "false"
   },
   "outputs": [
    {
     "data": {
      "text/plain": [
       "Apache       642\n",
       "Other        504\n",
       "nginx        435\n",
       "Microsoft    198\n",
       "Name: SERVER, dtype: int64"
      ]
     },
     "execution_count": 43,
     "metadata": {},
     "output_type": "execute_result"
    }
   ],
   "source": [
    "websites['SERVER'].value_counts()"
   ]
  },
  {
   "cell_type": "markdown",
   "metadata": {
    "Collapsed": "false"
   },
   "source": [
    "OK, all our categorical data are fixed now. **Let's convert them to ordinal data using Pandas' `get_dummies` function ([documentation](https://pandas.pydata.org/pandas-docs/stable/generated/pandas.get_dummies.html)).** Make sure you drop the categorical columns by passing `drop_first=True` to `get_dummies` as we don't need them any more. **Also, assign the data with dummy values to a new variable `website_dummy`.**"
   ]
  },
  {
   "cell_type": "code",
   "execution_count": 31,
   "metadata": {
    "Collapsed": "false"
   },
   "outputs": [
    {
     "data": {
      "text/html": [
       "<div>\n",
       "<style scoped>\n",
       "    .dataframe tbody tr th:only-of-type {\n",
       "        vertical-align: middle;\n",
       "    }\n",
       "\n",
       "    .dataframe tbody tr th {\n",
       "        vertical-align: top;\n",
       "    }\n",
       "\n",
       "    .dataframe thead th {\n",
       "        text-align: right;\n",
       "    }\n",
       "</style>\n",
       "<table border=\"1\" class=\"dataframe\">\n",
       "  <thead>\n",
       "    <tr style=\"text-align: right;\">\n",
       "      <th></th>\n",
       "      <th>URL_LENGTH</th>\n",
       "      <th>DIST_REMOTE_TCP_PORT</th>\n",
       "      <th>REMOTE_IPS</th>\n",
       "      <th>APP_BYTES</th>\n",
       "      <th>SOURCE_APP_PACKETS</th>\n",
       "      <th>SOURCE_APP_BYTES</th>\n",
       "      <th>REMOTE_APP_BYTES</th>\n",
       "      <th>DNS_QUERY_TIMES</th>\n",
       "      <th>Type</th>\n",
       "      <th>CHARSET_ISO-8859-1</th>\n",
       "      <th>...</th>\n",
       "      <th>WHOIS_COUNTRY_CA</th>\n",
       "      <th>WHOIS_COUNTRY_CN</th>\n",
       "      <th>WHOIS_COUNTRY_ES</th>\n",
       "      <th>WHOIS_COUNTRY_IN</th>\n",
       "      <th>WHOIS_COUNTRY_JP</th>\n",
       "      <th>WHOIS_COUNTRY_NONE</th>\n",
       "      <th>WHOIS_COUNTRY_Other</th>\n",
       "      <th>WHOIS_COUNTRY_PA</th>\n",
       "      <th>WHOIS_COUNTRY_UK</th>\n",
       "      <th>WHOIS_COUNTRY_US</th>\n",
       "    </tr>\n",
       "  </thead>\n",
       "  <tbody>\n",
       "    <tr>\n",
       "      <th>0</th>\n",
       "      <td>16</td>\n",
       "      <td>0</td>\n",
       "      <td>2</td>\n",
       "      <td>700</td>\n",
       "      <td>9</td>\n",
       "      <td>1153</td>\n",
       "      <td>832</td>\n",
       "      <td>2.0</td>\n",
       "      <td>1</td>\n",
       "      <td>0</td>\n",
       "      <td>...</td>\n",
       "      <td>0</td>\n",
       "      <td>0</td>\n",
       "      <td>0</td>\n",
       "      <td>0</td>\n",
       "      <td>0</td>\n",
       "      <td>1</td>\n",
       "      <td>0</td>\n",
       "      <td>0</td>\n",
       "      <td>0</td>\n",
       "      <td>0</td>\n",
       "    </tr>\n",
       "    <tr>\n",
       "      <th>1</th>\n",
       "      <td>16</td>\n",
       "      <td>7</td>\n",
       "      <td>4</td>\n",
       "      <td>1230</td>\n",
       "      <td>17</td>\n",
       "      <td>1265</td>\n",
       "      <td>1230</td>\n",
       "      <td>0.0</td>\n",
       "      <td>0</td>\n",
       "      <td>0</td>\n",
       "      <td>...</td>\n",
       "      <td>0</td>\n",
       "      <td>0</td>\n",
       "      <td>0</td>\n",
       "      <td>0</td>\n",
       "      <td>0</td>\n",
       "      <td>1</td>\n",
       "      <td>0</td>\n",
       "      <td>0</td>\n",
       "      <td>0</td>\n",
       "      <td>0</td>\n",
       "    </tr>\n",
       "    <tr>\n",
       "      <th>2</th>\n",
       "      <td>16</td>\n",
       "      <td>0</td>\n",
       "      <td>0</td>\n",
       "      <td>0</td>\n",
       "      <td>0</td>\n",
       "      <td>0</td>\n",
       "      <td>0</td>\n",
       "      <td>0.0</td>\n",
       "      <td>0</td>\n",
       "      <td>0</td>\n",
       "      <td>...</td>\n",
       "      <td>0</td>\n",
       "      <td>0</td>\n",
       "      <td>0</td>\n",
       "      <td>0</td>\n",
       "      <td>0</td>\n",
       "      <td>1</td>\n",
       "      <td>0</td>\n",
       "      <td>0</td>\n",
       "      <td>0</td>\n",
       "      <td>0</td>\n",
       "    </tr>\n",
       "    <tr>\n",
       "      <th>3</th>\n",
       "      <td>17</td>\n",
       "      <td>22</td>\n",
       "      <td>3</td>\n",
       "      <td>3812</td>\n",
       "      <td>39</td>\n",
       "      <td>18784</td>\n",
       "      <td>4380</td>\n",
       "      <td>8.0</td>\n",
       "      <td>0</td>\n",
       "      <td>1</td>\n",
       "      <td>...</td>\n",
       "      <td>0</td>\n",
       "      <td>0</td>\n",
       "      <td>0</td>\n",
       "      <td>0</td>\n",
       "      <td>0</td>\n",
       "      <td>0</td>\n",
       "      <td>0</td>\n",
       "      <td>0</td>\n",
       "      <td>0</td>\n",
       "      <td>1</td>\n",
       "    </tr>\n",
       "    <tr>\n",
       "      <th>4</th>\n",
       "      <td>17</td>\n",
       "      <td>2</td>\n",
       "      <td>5</td>\n",
       "      <td>4278</td>\n",
       "      <td>61</td>\n",
       "      <td>129889</td>\n",
       "      <td>4586</td>\n",
       "      <td>4.0</td>\n",
       "      <td>0</td>\n",
       "      <td>0</td>\n",
       "      <td>...</td>\n",
       "      <td>0</td>\n",
       "      <td>0</td>\n",
       "      <td>0</td>\n",
       "      <td>0</td>\n",
       "      <td>0</td>\n",
       "      <td>0</td>\n",
       "      <td>0</td>\n",
       "      <td>0</td>\n",
       "      <td>0</td>\n",
       "      <td>1</td>\n",
       "    </tr>\n",
       "    <tr>\n",
       "      <th>...</th>\n",
       "      <td>...</td>\n",
       "      <td>...</td>\n",
       "      <td>...</td>\n",
       "      <td>...</td>\n",
       "      <td>...</td>\n",
       "      <td>...</td>\n",
       "      <td>...</td>\n",
       "      <td>...</td>\n",
       "      <td>...</td>\n",
       "      <td>...</td>\n",
       "      <td>...</td>\n",
       "      <td>...</td>\n",
       "      <td>...</td>\n",
       "      <td>...</td>\n",
       "      <td>...</td>\n",
       "      <td>...</td>\n",
       "      <td>...</td>\n",
       "      <td>...</td>\n",
       "      <td>...</td>\n",
       "      <td>...</td>\n",
       "      <td>...</td>\n",
       "    </tr>\n",
       "    <tr>\n",
       "      <th>1776</th>\n",
       "      <td>194</td>\n",
       "      <td>0</td>\n",
       "      <td>0</td>\n",
       "      <td>0</td>\n",
       "      <td>0</td>\n",
       "      <td>186</td>\n",
       "      <td>0</td>\n",
       "      <td>0.0</td>\n",
       "      <td>1</td>\n",
       "      <td>0</td>\n",
       "      <td>...</td>\n",
       "      <td>0</td>\n",
       "      <td>0</td>\n",
       "      <td>1</td>\n",
       "      <td>0</td>\n",
       "      <td>0</td>\n",
       "      <td>0</td>\n",
       "      <td>0</td>\n",
       "      <td>0</td>\n",
       "      <td>0</td>\n",
       "      <td>0</td>\n",
       "    </tr>\n",
       "    <tr>\n",
       "      <th>1777</th>\n",
       "      <td>198</td>\n",
       "      <td>0</td>\n",
       "      <td>0</td>\n",
       "      <td>0</td>\n",
       "      <td>0</td>\n",
       "      <td>124</td>\n",
       "      <td>0</td>\n",
       "      <td>0.0</td>\n",
       "      <td>1</td>\n",
       "      <td>0</td>\n",
       "      <td>...</td>\n",
       "      <td>0</td>\n",
       "      <td>0</td>\n",
       "      <td>1</td>\n",
       "      <td>0</td>\n",
       "      <td>0</td>\n",
       "      <td>0</td>\n",
       "      <td>0</td>\n",
       "      <td>0</td>\n",
       "      <td>0</td>\n",
       "      <td>0</td>\n",
       "    </tr>\n",
       "    <tr>\n",
       "      <th>1778</th>\n",
       "      <td>201</td>\n",
       "      <td>2</td>\n",
       "      <td>6</td>\n",
       "      <td>6631</td>\n",
       "      <td>87</td>\n",
       "      <td>132181</td>\n",
       "      <td>6945</td>\n",
       "      <td>4.0</td>\n",
       "      <td>0</td>\n",
       "      <td>0</td>\n",
       "      <td>...</td>\n",
       "      <td>0</td>\n",
       "      <td>0</td>\n",
       "      <td>0</td>\n",
       "      <td>0</td>\n",
       "      <td>0</td>\n",
       "      <td>0</td>\n",
       "      <td>0</td>\n",
       "      <td>0</td>\n",
       "      <td>0</td>\n",
       "      <td>1</td>\n",
       "    </tr>\n",
       "    <tr>\n",
       "      <th>1779</th>\n",
       "      <td>234</td>\n",
       "      <td>0</td>\n",
       "      <td>0</td>\n",
       "      <td>0</td>\n",
       "      <td>0</td>\n",
       "      <td>0</td>\n",
       "      <td>0</td>\n",
       "      <td>0.0</td>\n",
       "      <td>0</td>\n",
       "      <td>1</td>\n",
       "      <td>...</td>\n",
       "      <td>0</td>\n",
       "      <td>0</td>\n",
       "      <td>0</td>\n",
       "      <td>0</td>\n",
       "      <td>0</td>\n",
       "      <td>0</td>\n",
       "      <td>0</td>\n",
       "      <td>0</td>\n",
       "      <td>0</td>\n",
       "      <td>1</td>\n",
       "    </tr>\n",
       "    <tr>\n",
       "      <th>1780</th>\n",
       "      <td>249</td>\n",
       "      <td>6</td>\n",
       "      <td>11</td>\n",
       "      <td>2314</td>\n",
       "      <td>25</td>\n",
       "      <td>3039</td>\n",
       "      <td>2776</td>\n",
       "      <td>6.0</td>\n",
       "      <td>0</td>\n",
       "      <td>0</td>\n",
       "      <td>...</td>\n",
       "      <td>0</td>\n",
       "      <td>0</td>\n",
       "      <td>0</td>\n",
       "      <td>0</td>\n",
       "      <td>0</td>\n",
       "      <td>0</td>\n",
       "      <td>0</td>\n",
       "      <td>0</td>\n",
       "      <td>0</td>\n",
       "      <td>1</td>\n",
       "    </tr>\n",
       "  </tbody>\n",
       "</table>\n",
       "<p>1779 rows × 30 columns</p>\n",
       "</div>"
      ],
      "text/plain": [
       "      URL_LENGTH  DIST_REMOTE_TCP_PORT  REMOTE_IPS  APP_BYTES  \\\n",
       "0             16                     0           2        700   \n",
       "1             16                     7           4       1230   \n",
       "2             16                     0           0          0   \n",
       "3             17                    22           3       3812   \n",
       "4             17                     2           5       4278   \n",
       "...          ...                   ...         ...        ...   \n",
       "1776         194                     0           0          0   \n",
       "1777         198                     0           0          0   \n",
       "1778         201                     2           6       6631   \n",
       "1779         234                     0           0          0   \n",
       "1780         249                     6          11       2314   \n",
       "\n",
       "      SOURCE_APP_PACKETS  SOURCE_APP_BYTES  REMOTE_APP_BYTES  DNS_QUERY_TIMES  \\\n",
       "0                      9              1153               832              2.0   \n",
       "1                     17              1265              1230              0.0   \n",
       "2                      0                 0                 0              0.0   \n",
       "3                     39             18784              4380              8.0   \n",
       "4                     61            129889              4586              4.0   \n",
       "...                  ...               ...               ...              ...   \n",
       "1776                   0               186                 0              0.0   \n",
       "1777                   0               124                 0              0.0   \n",
       "1778                  87            132181              6945              4.0   \n",
       "1779                   0                 0                 0              0.0   \n",
       "1780                  25              3039              2776              6.0   \n",
       "\n",
       "      Type  CHARSET_ISO-8859-1  ...  WHOIS_COUNTRY_CA  WHOIS_COUNTRY_CN  \\\n",
       "0        1                   0  ...                 0                 0   \n",
       "1        0                   0  ...                 0                 0   \n",
       "2        0                   0  ...                 0                 0   \n",
       "3        0                   1  ...                 0                 0   \n",
       "4        0                   0  ...                 0                 0   \n",
       "...    ...                 ...  ...               ...               ...   \n",
       "1776     1                   0  ...                 0                 0   \n",
       "1777     1                   0  ...                 0                 0   \n",
       "1778     0                   0  ...                 0                 0   \n",
       "1779     0                   1  ...                 0                 0   \n",
       "1780     0                   0  ...                 0                 0   \n",
       "\n",
       "      WHOIS_COUNTRY_ES  WHOIS_COUNTRY_IN  WHOIS_COUNTRY_JP  \\\n",
       "0                    0                 0                 0   \n",
       "1                    0                 0                 0   \n",
       "2                    0                 0                 0   \n",
       "3                    0                 0                 0   \n",
       "4                    0                 0                 0   \n",
       "...                ...               ...               ...   \n",
       "1776                 1                 0                 0   \n",
       "1777                 1                 0                 0   \n",
       "1778                 0                 0                 0   \n",
       "1779                 0                 0                 0   \n",
       "1780                 0                 0                 0   \n",
       "\n",
       "      WHOIS_COUNTRY_NONE  WHOIS_COUNTRY_Other  WHOIS_COUNTRY_PA  \\\n",
       "0                      1                    0                 0   \n",
       "1                      1                    0                 0   \n",
       "2                      1                    0                 0   \n",
       "3                      0                    0                 0   \n",
       "4                      0                    0                 0   \n",
       "...                  ...                  ...               ...   \n",
       "1776                   0                    0                 0   \n",
       "1777                   0                    0                 0   \n",
       "1778                   0                    0                 0   \n",
       "1779                   0                    0                 0   \n",
       "1780                   0                    0                 0   \n",
       "\n",
       "      WHOIS_COUNTRY_UK  WHOIS_COUNTRY_US  \n",
       "0                    0                 0  \n",
       "1                    0                 0  \n",
       "2                    0                 0  \n",
       "3                    0                 1  \n",
       "4                    0                 1  \n",
       "...                ...               ...  \n",
       "1776                 0                 0  \n",
       "1777                 0                 0  \n",
       "1778                 0                 1  \n",
       "1779                 0                 1  \n",
       "1780                 0                 1  \n",
       "\n",
       "[1779 rows x 30 columns]"
      ]
     },
     "execution_count": 31,
     "metadata": {},
     "output_type": "execute_result"
    }
   ],
   "source": [
    "# Your code here\n",
    "website_dummy= pd.get_dummies(websites, drop_first=True)\n",
    "website_dummy"
   ]
  },
  {
   "cell_type": "markdown",
   "metadata": {
    "Collapsed": "false"
   },
   "source": [
    "Now, inspect `website_dummy` to make sure the data and types are intended - there shouldn't be any categorical columns at this point."
   ]
  },
  {
   "cell_type": "code",
   "execution_count": 32,
   "metadata": {
    "Collapsed": "false"
   },
   "outputs": [
    {
     "data": {
      "text/plain": [
       "URL_LENGTH                int64\n",
       "DIST_REMOTE_TCP_PORT      int64\n",
       "REMOTE_IPS                int64\n",
       "APP_BYTES                 int64\n",
       "SOURCE_APP_PACKETS        int64\n",
       "SOURCE_APP_BYTES          int64\n",
       "REMOTE_APP_BYTES          int64\n",
       "DNS_QUERY_TIMES         float64\n",
       "Type                      int64\n",
       "CHARSET_ISO-8859-1        uint8\n",
       "CHARSET_None              uint8\n",
       "CHARSET_UTF-8             uint8\n",
       "CHARSET_iso-8859-1        uint8\n",
       "CHARSET_us-ascii          uint8\n",
       "CHARSET_utf-8             uint8\n",
       "CHARSET_windows-1251      uint8\n",
       "CHARSET_windows-1252      uint8\n",
       "SERVER_Microsoft          uint8\n",
       "SERVER_Other              uint8\n",
       "SERVER_nginx              uint8\n",
       "WHOIS_COUNTRY_CA          uint8\n",
       "WHOIS_COUNTRY_CN          uint8\n",
       "WHOIS_COUNTRY_ES          uint8\n",
       "WHOIS_COUNTRY_IN          uint8\n",
       "WHOIS_COUNTRY_JP          uint8\n",
       "WHOIS_COUNTRY_NONE        uint8\n",
       "WHOIS_COUNTRY_Other       uint8\n",
       "WHOIS_COUNTRY_PA          uint8\n",
       "WHOIS_COUNTRY_UK          uint8\n",
       "WHOIS_COUNTRY_US          uint8\n",
       "dtype: object"
      ]
     },
     "execution_count": 32,
     "metadata": {},
     "output_type": "execute_result"
    }
   ],
   "source": [
    "# Your code here\n",
    "website_dummy.dtypes"
   ]
  },
  {
   "cell_type": "markdown",
   "metadata": {
    "Collapsed": "false"
   },
   "source": [
    "# Challenge 6 - Modeling, Prediction, and Evaluation\n",
    "\n",
    "We'll start off this section by splitting the data to train and test. **Name your 4 variables `X_train`, `X_test`, `y_train`, and `y_test`. Select 80% of the data for training and 20% for testing.**"
   ]
  },
  {
   "cell_type": "code",
   "execution_count": 33,
   "metadata": {
    "Collapsed": "false"
   },
   "outputs": [],
   "source": [
    "from sklearn.model_selection import train_test_split\n",
    "X = website_dummy.drop('Type', axis=1)  \n",
    "y = website_dummy['Type']\n",
    "\n",
    "# Your code here:\n",
    "X_train, X_test, y_train, y_test = train_test_split(X, y, test_size=0.20)"
   ]
  },
  {
   "cell_type": "markdown",
   "metadata": {
    "Collapsed": "false"
   },
   "source": [
    "#### In this lab, we will try two different models and compare our results.\n",
    "\n",
    "The first model we will use in this lab is logistic regression. We have previously learned about logistic regression as a classification algorithm. In the cell below, load `LogisticRegression` from scikit-learn and initialize the model."
   ]
  },
  {
   "cell_type": "code",
   "execution_count": 34,
   "metadata": {
    "Collapsed": "false"
   },
   "outputs": [],
   "source": [
    "# Your code here:\n",
    "from sklearn.linear_model import LogisticRegression \n",
    "\n",
    "# Trying to Standardize the dataset so that the individual features will resemble more or less a standard normally distributed data\n",
    "#Without scaling the feature,I had received a warning message that total no.of iterations reached limit.\n",
    "#paolo: good idea- you can also try to increase the number of iterations by hand\n",
    "from sklearn import preprocessing\n",
    "\n",
    "X_train = preprocessing.scale(X_train)\n",
    "model = LogisticRegression()"
   ]
  },
  {
   "cell_type": "markdown",
   "metadata": {
    "Collapsed": "false"
   },
   "source": [
    "Next, fit the model to our training data. We have already separated our data into 4 parts. Use those in your model."
   ]
  },
  {
   "cell_type": "code",
   "execution_count": 35,
   "metadata": {
    "Collapsed": "false"
   },
   "outputs": [
    {
     "data": {
      "text/plain": [
       "LogisticRegression()"
      ]
     },
     "execution_count": 35,
     "metadata": {},
     "output_type": "execute_result"
    }
   ],
   "source": [
    "# Your code here:\n",
    "model.fit(X_train, y_train)"
   ]
  },
  {
   "cell_type": "markdown",
   "metadata": {
    "Collapsed": "false"
   },
   "source": [
    "finally, import `confusion_matrix` and `accuracy_score` from `sklearn.metrics` and fit our testing data. Assign the fitted data to `y_pred` and print the confusion matrix as well as the accuracy score"
   ]
  },
  {
   "cell_type": "code",
   "execution_count": 36,
   "metadata": {
    "Collapsed": "false"
   },
   "outputs": [
    {
     "name": "stdout",
     "output_type": "stream",
     "text": [
      "[[313   0]\n",
      " [ 43   0]]\n",
      "0.8792134831460674\n"
     ]
    }
   ],
   "source": [
    "# Your code here:\n",
    "from sklearn.metrics import confusion_matrix, accuracy_score\n",
    "y_pred = model.predict(X_test)\n",
    "pd.DataFrame({'test':y_test, 'predicted':y_pred})\n",
    "print(confusion_matrix(y_test, y_pred))\n",
    "print(accuracy_score(y_test, y_pred))"
   ]
  },
  {
   "cell_type": "markdown",
   "metadata": {
    "Collapsed": "false"
   },
   "source": [
    "What are your thoughts on the performance of the model? Write your conclusions below."
   ]
  },
  {
   "cell_type": "code",
   "execution_count": 37,
   "metadata": {
    "Collapsed": "false"
   },
   "outputs": [],
   "source": [
    "# Your conclusions here:\n",
    "# The accuracy score - 0.87 of the model is good . Also , a fair number of true positives and true negatives."
   ]
  },
  {
   "cell_type": "markdown",
   "metadata": {
    "Collapsed": "false"
   },
   "source": [
    "#### Our second algorithm is is K-Nearest Neighbors. \n",
    "\n",
    "Though is it not required, we will fit a model using the training data and then test the performance of the model using the testing data. Start by loading `KNeighborsClassifier` from scikit-learn and then initializing and fitting the model. We'll start off with a model where k=3."
   ]
  },
  {
   "cell_type": "code",
   "execution_count": 38,
   "metadata": {
    "Collapsed": "false"
   },
   "outputs": [
    {
     "data": {
      "text/plain": [
       "KNeighborsClassifier(n_neighbors=3)"
      ]
     },
     "execution_count": 38,
     "metadata": {},
     "output_type": "execute_result"
    }
   ],
   "source": [
    "# Your code here:\n",
    "from sklearn.neighbors import KNeighborsClassifier\n",
    "\n",
    "X = website_dummy.drop('Type', axis=1)  \n",
    "y = website_dummy['Type'] \n",
    "X_train, X_test, y_train, y_test = train_test_split(X, y, test_size=0.20)\n",
    "\n",
    "model = KNeighborsClassifier(n_neighbors=3)\n",
    "model.fit(X_train, y_train)"
   ]
  },
  {
   "cell_type": "markdown",
   "metadata": {
    "Collapsed": "false"
   },
   "source": [
    "To test your model, compute the predicted values for the testing sample and print the confusion matrix as well as the accuracy score."
   ]
  },
  {
   "cell_type": "code",
   "execution_count": 39,
   "metadata": {
    "Collapsed": "false"
   },
   "outputs": [
    {
     "name": "stdout",
     "output_type": "stream",
     "text": [
      "[[310  12]\n",
      " [ 11  23]]\n",
      "0.9353932584269663\n"
     ]
    }
   ],
   "source": [
    "# Your code here:\n",
    "y_pred = model.predict(X_test)\n",
    "print(confusion_matrix(y_test, y_pred))\n",
    "print(accuracy_score(y_test, y_pred))\n"
   ]
  },
  {
   "cell_type": "markdown",
   "metadata": {
    "Collapsed": "false"
   },
   "source": [
    "#### We'll create another K-Nearest Neighbors model with k=5. \n",
    "\n",
    "Initialize and fit the model below and print the confusion matrix and the accuracy score."
   ]
  },
  {
   "cell_type": "code",
   "execution_count": 40,
   "metadata": {
    "Collapsed": "false"
   },
   "outputs": [
    {
     "name": "stdout",
     "output_type": "stream",
     "text": [
      "[[308  14]\n",
      " [ 12  22]]\n",
      "0.9269662921348315\n"
     ]
    }
   ],
   "source": [
    "# Your code here:\n",
    "model = KNeighborsClassifier(n_neighbors=5)\n",
    "model.fit(X_train, y_train)\n",
    "\n",
    "#Test the model\n",
    "y_pred = model.predict(X_test)\n",
    "print(confusion_matrix(y_test, y_pred))\n",
    "print(accuracy_score(y_test, y_pred))\n"
   ]
  },
  {
   "cell_type": "markdown",
   "metadata": {
    "Collapsed": "false"
   },
   "source": [
    "Did you see an improvement in the confusion matrix when increasing k to 5? Did you see an improvement in the accuracy score? Write your conclusions below."
   ]
  },
  {
   "cell_type": "code",
   "execution_count": 41,
   "metadata": {
    "Collapsed": "false"
   },
   "outputs": [],
   "source": [
    "# Your conclusions here:\n",
    "#In this case ,the accuracy score and confusion matrix did improve by a very small margin (0.921 to 0.924 )when the no. of neighbors were increased from 3 to 5.\n",
    "#But I think, this need not be the case always.\n",
    "#paolo: yes, notice that each time you call the train_test_split function you split the data differently\n",
    "# so when you compare the models the data are not in general the same"
   ]
  },
  {
   "cell_type": "markdown",
   "metadata": {
    "Collapsed": "false"
   },
   "source": [
    "# Bonus Challenge - Feature Scaling\n",
    "\n",
    "Problem-solving in machine learning is iterative. You can improve your model prediction with various techniques (there is a sweetspot for the time you spend and the improvement you receive though). Now you've completed only one iteration of ML analysis. There are more iterations you can conduct to make improvements. In order to be able to do that, you will need deeper knowledge in statistics and master more data analysis techniques. In this bootcamp, we don't have time to achieve that advanced goal. But you will make constant efforts after the bootcamp to eventually get there.\n",
    "\n",
    "However, now we do want you to learn one of the advanced techniques which is called *feature scaling*. The idea of feature scaling is to standardize/normalize the range of independent variables or features of the data. This can make the outliers more apparent so that you can remove them. This step needs to happen during Challenge 6 after you split the training and test data because you don't want to split the data again which makes it impossible to compare your results with and without feature scaling. For general concepts about feature scaling, click [here](https://en.wikipedia.org/wiki/Feature_scaling). To read deeper, click [here](https://medium.com/greyatom/why-how-and-when-to-scale-your-features-4b30ab09db5e).\n",
    "\n",
    "In the next cell, attempt to improve your model prediction accuracy by means of feature scaling. A library you can utilize is `sklearn.preprocessing.RobustScaler` ([documentation](https://scikit-learn.org/stable/modules/generated/sklearn.preprocessing.RobustScaler.html)). You'll use the `RobustScaler` to fit and transform your `X_train`, then transform `X_test`. You will use logistic regression to fit and predict your transformed data and obtain the accuracy score in the same way. Compare the accuracy score with your normalized data with the previous accuracy data. Is there an improvement?"
   ]
  },
  {
   "cell_type": "code",
   "execution_count": null,
   "metadata": {
    "Collapsed": "false"
   },
   "outputs": [],
   "source": []
  },
  {
   "cell_type": "code",
   "execution_count": null,
   "metadata": {
    "Collapsed": "false"
   },
   "outputs": [],
   "source": []
  }
 ],
 "metadata": {
  "celltoolbar": "Tags",
  "kernelspec": {
   "display_name": "Python 3",
   "language": "python",
   "name": "python3"
  },
  "language_info": {
   "codemirror_mode": {
    "name": "ipython",
    "version": 3
   },
   "file_extension": ".py",
   "mimetype": "text/x-python",
   "name": "python",
   "nbconvert_exporter": "python",
   "pygments_lexer": "ipython3",
   "version": "3.7.6"
  }
 },
 "nbformat": 4,
 "nbformat_minor": 4
}
