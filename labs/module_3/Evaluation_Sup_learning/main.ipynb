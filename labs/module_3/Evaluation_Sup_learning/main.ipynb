{
 "cells": [
  {
   "cell_type": "markdown",
   "metadata": {
    "Collapsed": "false"
   },
   "source": [
    "# Model Evaluation & Fitting\n",
    "## Predicting Boston Housing Prices"
   ]
  },
  {
   "cell_type": "code",
   "execution_count": 1,
   "metadata": {
    "Collapsed": "false"
   },
   "outputs": [],
   "source": [
    "# import libraries  here\n",
    "import pandas as pd\n",
    "import numpy as np\n",
    "import seaborn as sns\n",
    "import matplotlib.pyplot as plt\n",
    "%matplotlib inline"
   ]
  },
  {
   "cell_type": "markdown",
   "metadata": {
    "Collapsed": "false"
   },
   "source": [
    "## Getting Started\n",
    "In this project, you will use the Boston Housing Prices dataset to build several models to predict the prices of homes with particular qualities from the suburbs of Boston, MA.\n",
    "We will build models with several different parameters, which will change the goodness of fit for each. "
   ]
  },
  {
   "cell_type": "markdown",
   "metadata": {
    "Collapsed": "false"
   },
   "source": [
    "---\n",
    "## 1- Data Exploration\n",
    " "
   ]
  },
  {
   "cell_type": "markdown",
   "metadata": {
    "Collapsed": "false"
   },
   "source": [
    "### Import and explore the data. Clean the data for outliers and missing values. "
   ]
  },
  {
   "cell_type": "markdown",
   "metadata": {
    "Collapsed": "false"
   },
   "source": [
    "Download the Boston dataset from [here](https://drive.google.com/file/d/1Bux3hwVYr6BuFbdUIK2db1lOY6EqghfD/view?usp=sharing) , place it in the data folder and import it as dataframe. **The features in the dataset are described [here](https://www.kaggle.com/prasadperera/the-boston-housing-dataset)** \n",
    "<br> Since we want to predict the value of houses, the **target variable**, `'MEDV'`, will be the variable we seek to predict. "
   ]
  },
  {
   "cell_type": "code",
   "execution_count": 2,
   "metadata": {
    "Collapsed": "false"
   },
   "outputs": [
    {
     "data": {
      "text/html": [
       "<div>\n",
       "<style scoped>\n",
       "    .dataframe tbody tr th:only-of-type {\n",
       "        vertical-align: middle;\n",
       "    }\n",
       "\n",
       "    .dataframe tbody tr th {\n",
       "        vertical-align: top;\n",
       "    }\n",
       "\n",
       "    .dataframe thead th {\n",
       "        text-align: right;\n",
       "    }\n",
       "</style>\n",
       "<table border=\"1\" class=\"dataframe\">\n",
       "  <thead>\n",
       "    <tr style=\"text-align: right;\">\n",
       "      <th></th>\n",
       "      <th>crim</th>\n",
       "      <th>zn</th>\n",
       "      <th>indus</th>\n",
       "      <th>chas</th>\n",
       "      <th>nox</th>\n",
       "      <th>rm</th>\n",
       "      <th>age</th>\n",
       "      <th>dis</th>\n",
       "      <th>rad</th>\n",
       "      <th>tax</th>\n",
       "      <th>ptratio</th>\n",
       "      <th>black</th>\n",
       "      <th>lstat</th>\n",
       "      <th>medv</th>\n",
       "    </tr>\n",
       "  </thead>\n",
       "  <tbody>\n",
       "    <tr>\n",
       "      <th>0</th>\n",
       "      <td>0.00632</td>\n",
       "      <td>18.0</td>\n",
       "      <td>2.31</td>\n",
       "      <td>0</td>\n",
       "      <td>0.538</td>\n",
       "      <td>6.575</td>\n",
       "      <td>65.2</td>\n",
       "      <td>4.0900</td>\n",
       "      <td>1</td>\n",
       "      <td>296</td>\n",
       "      <td>15.3</td>\n",
       "      <td>396.90</td>\n",
       "      <td>4.98</td>\n",
       "      <td>24.0</td>\n",
       "    </tr>\n",
       "    <tr>\n",
       "      <th>1</th>\n",
       "      <td>0.02731</td>\n",
       "      <td>0.0</td>\n",
       "      <td>7.07</td>\n",
       "      <td>0</td>\n",
       "      <td>0.469</td>\n",
       "      <td>6.421</td>\n",
       "      <td>78.9</td>\n",
       "      <td>4.9671</td>\n",
       "      <td>2</td>\n",
       "      <td>242</td>\n",
       "      <td>17.8</td>\n",
       "      <td>396.90</td>\n",
       "      <td>9.14</td>\n",
       "      <td>21.6</td>\n",
       "    </tr>\n",
       "    <tr>\n",
       "      <th>2</th>\n",
       "      <td>0.02729</td>\n",
       "      <td>0.0</td>\n",
       "      <td>7.07</td>\n",
       "      <td>0</td>\n",
       "      <td>0.469</td>\n",
       "      <td>7.185</td>\n",
       "      <td>61.1</td>\n",
       "      <td>4.9671</td>\n",
       "      <td>2</td>\n",
       "      <td>242</td>\n",
       "      <td>17.8</td>\n",
       "      <td>392.83</td>\n",
       "      <td>4.03</td>\n",
       "      <td>34.7</td>\n",
       "    </tr>\n",
       "    <tr>\n",
       "      <th>3</th>\n",
       "      <td>0.03237</td>\n",
       "      <td>0.0</td>\n",
       "      <td>2.18</td>\n",
       "      <td>0</td>\n",
       "      <td>0.458</td>\n",
       "      <td>6.998</td>\n",
       "      <td>45.8</td>\n",
       "      <td>6.0622</td>\n",
       "      <td>3</td>\n",
       "      <td>222</td>\n",
       "      <td>18.7</td>\n",
       "      <td>394.63</td>\n",
       "      <td>2.94</td>\n",
       "      <td>33.4</td>\n",
       "    </tr>\n",
       "    <tr>\n",
       "      <th>4</th>\n",
       "      <td>0.06905</td>\n",
       "      <td>0.0</td>\n",
       "      <td>2.18</td>\n",
       "      <td>0</td>\n",
       "      <td>0.458</td>\n",
       "      <td>7.147</td>\n",
       "      <td>54.2</td>\n",
       "      <td>6.0622</td>\n",
       "      <td>3</td>\n",
       "      <td>222</td>\n",
       "      <td>18.7</td>\n",
       "      <td>396.90</td>\n",
       "      <td>5.33</td>\n",
       "      <td>36.2</td>\n",
       "    </tr>\n",
       "  </tbody>\n",
       "</table>\n",
       "</div>"
      ],
      "text/plain": [
       "      crim    zn  indus  chas    nox     rm   age     dis  rad  tax  ptratio  \\\n",
       "0  0.00632  18.0   2.31     0  0.538  6.575  65.2  4.0900    1  296     15.3   \n",
       "1  0.02731   0.0   7.07     0  0.469  6.421  78.9  4.9671    2  242     17.8   \n",
       "2  0.02729   0.0   7.07     0  0.469  7.185  61.1  4.9671    2  242     17.8   \n",
       "3  0.03237   0.0   2.18     0  0.458  6.998  45.8  6.0622    3  222     18.7   \n",
       "4  0.06905   0.0   2.18     0  0.458  7.147  54.2  6.0622    3  222     18.7   \n",
       "\n",
       "    black  lstat  medv  \n",
       "0  396.90   4.98  24.0  \n",
       "1  396.90   9.14  21.6  \n",
       "2  392.83   4.03  34.7  \n",
       "3  394.63   2.94  33.4  \n",
       "4  396.90   5.33  36.2  "
      ]
     },
     "execution_count": 2,
     "metadata": {},
     "output_type": "execute_result"
    }
   ],
   "source": [
    "#your code here\n",
    "data = pd.read_csv(\"Boston.csv\",sep=\",\")\n",
    "data.drop(columns=\"Unnamed: 0\",inplace=True)\n",
    "data.head()"
   ]
  },
  {
   "cell_type": "code",
   "execution_count": 3,
   "metadata": {
    "Collapsed": "false"
   },
   "outputs": [
    {
     "name": "stdout",
     "output_type": "stream",
     "text": [
      "<class 'pandas.core.frame.DataFrame'>\n",
      "RangeIndex: 506 entries, 0 to 505\n",
      "Data columns (total 14 columns):\n",
      " #   Column   Non-Null Count  Dtype  \n",
      "---  ------   --------------  -----  \n",
      " 0   crim     506 non-null    float64\n",
      " 1   zn       506 non-null    float64\n",
      " 2   indus    506 non-null    float64\n",
      " 3   chas     506 non-null    int64  \n",
      " 4   nox      506 non-null    float64\n",
      " 5   rm       506 non-null    float64\n",
      " 6   age      506 non-null    float64\n",
      " 7   dis      506 non-null    float64\n",
      " 8   rad      506 non-null    int64  \n",
      " 9   tax      506 non-null    int64  \n",
      " 10  ptratio  506 non-null    float64\n",
      " 11  black    506 non-null    float64\n",
      " 12  lstat    506 non-null    float64\n",
      " 13  medv     506 non-null    float64\n",
      "dtypes: float64(11), int64(3)\n",
      "memory usage: 55.5 KB\n"
     ]
    }
   ],
   "source": [
    "data.info()"
   ]
  },
  {
   "cell_type": "code",
   "execution_count": 4,
   "metadata": {
    "Collapsed": "false"
   },
   "outputs": [
    {
     "data": {
      "text/plain": [
       "\"\\nCRIM - per capita crime rate by town\\nZN - proportion of residential land zoned for lots over 25,000 sq.ft.\\nINDUS - proportion of non-retail business acres per town.\\nCHAS - Charles River dummy variable (1 if tract bounds river; 0 otherwise)\\nNOX - nitric oxides concentration (parts per 10 million)\\nRM - average number of rooms per dwelling\\nAGE - proportion of owner-occupied units built prior to 1940\\nDIS - weighted distances to five Boston employment centres\\nRAD - index of accessibility to radial highways\\nTAX - full-value property-tax rate per $10,000\\nPTRATIO - pupil-teacher ratio by town\\nB - 1000(Bk - 0.63)^2 where Bk is the proportion of blacks by town\\nLSTAT - % lower status of the population\\nMEDV - Median value of owner-occupied homes in $1000's\\n\""
      ]
     },
     "execution_count": 4,
     "metadata": {},
     "output_type": "execute_result"
    }
   ],
   "source": [
    "'''\n",
    "CRIM - per capita crime rate by town\n",
    "ZN - proportion of residential land zoned for lots over 25,000 sq.ft.\n",
    "INDUS - proportion of non-retail business acres per town.\n",
    "CHAS - Charles River dummy variable (1 if tract bounds river; 0 otherwise)\n",
    "NOX - nitric oxides concentration (parts per 10 million)\n",
    "RM - average number of rooms per dwelling\n",
    "AGE - proportion of owner-occupied units built prior to 1940\n",
    "DIS - weighted distances to five Boston employment centres\n",
    "RAD - index of accessibility to radial highways\n",
    "TAX - full-value property-tax rate per $10,000\n",
    "PTRATIO - pupil-teacher ratio by town\n",
    "B - 1000(Bk - 0.63)^2 where Bk is the proportion of blacks by town\n",
    "LSTAT - % lower status of the population\n",
    "MEDV - Median value of owner-occupied homes in $1000's\n",
    "'''"
   ]
  },
  {
   "cell_type": "markdown",
   "metadata": {
    "Collapsed": "false"
   },
   "source": [
    "### Next, we want to explore the data. Pick several variables you think will be most correlated with the prices of homes in Boston, and create plots that show the data dispersion as well as the regression line of best fit."
   ]
  },
  {
   "cell_type": "code",
   "execution_count": 5,
   "metadata": {
    "Collapsed": "false"
   },
   "outputs": [
    {
     "name": "stdout",
     "output_type": "stream",
     "text": [
      "Correlation between medv and  crim is  -0.3883046085868115\n",
      "Correlation between medv and  zn is  0.36044534245054344\n",
      "Correlation between medv and  indus is  -0.4837251600283736\n",
      "Correlation between medv and  chas is  0.17526017719029863\n",
      "Correlation between medv and  nox is  -0.4273207723732825\n",
      "Correlation between medv and  rm is  0.6953599470715391\n",
      "Correlation between medv and  age is  -0.37695456500459623\n",
      "Correlation between medv and  dis is  0.24992873408590388\n",
      "Correlation between medv and  rad is  -0.38162623063977763\n",
      "Correlation between medv and  tax is  -0.46853593356776685\n",
      "Correlation between medv and  ptratio is  -0.5077866855375616\n",
      "Correlation between medv and  black is  0.33346081965706653\n",
      "Correlation between medv and  lstat is  -0.7376627261740151\n",
      "Correlation between medv and  medv is  1.0\n"
     ]
    }
   ],
   "source": [
    "for col in data.columns:\n",
    "    print(\"Correlation between medv and \",col,\"is \", data[\"medv\"].corr(data[col]))\n",
    "# Looks like;\n",
    "# rm:0,69\n",
    "# lstat: -0,73\n",
    "# ptratio: -0,507 are most correlated columns with house pricing column (target col.) medv.\n",
    "\n",
    "# Moderate correlations\n",
    "# indus: -0.48\n",
    "# nox: -0.42\n",
    "# tax: -0.46\n",
    "# zn: 0.36"
   ]
  },
  {
   "cell_type": "code",
   "execution_count": 6,
   "metadata": {
    "Collapsed": "false"
   },
   "outputs": [
    {
     "name": "stdout",
     "output_type": "stream",
     "text": [
      "corr between rm and lstat is :  -0.613808271866395\n",
      "corr between rm and ptratio is :  -0.35550149455908464\n",
      "corr between lstat and ptratio is :  0.37404431671467575\n"
     ]
    }
   ],
   "source": [
    "# Checking correlations between strong corr variables in order to avoid multi-collinearity problem\n",
    "print(\"corr between rm and lstat is : \", data[\"rm\"].corr(data[\"lstat\"]))\n",
    "print(\"corr between rm and ptratio is : \", data[\"rm\"].corr(data[\"ptratio\"]))\n",
    "print(\"corr between lstat and ptratio is : \", data[\"lstat\"].corr(data[\"ptratio\"]))\n",
    "\n",
    "# Looks like there is a negative moderate collinearity between rm and lstat, considering their des-\n",
    "# criptions I will keep rm for further analysis which is average number of rooms per dwelling."
   ]
  },
  {
   "cell_type": "code",
   "execution_count": 7,
   "metadata": {
    "Collapsed": "false"
   },
   "outputs": [
    {
     "name": "stdout",
     "output_type": "stream",
     "text": [
      "corr between indus and nox is :  0.7636514469209139\n",
      "corr between indus and tax is :  0.7207601799515443\n",
      "corr between indus and zn is :  -0.5338281863044718\n",
      "corr between nox and tax is :  0.6680232004030222\n",
      "corr between nox and zn is :  -0.5166037078279845\n",
      "corr between tax and zn is :  -0.3145633246775982\n"
     ]
    }
   ],
   "source": [
    "# Checking correlations between moderate corr variables in order to avoid multi-collinearity problem\n",
    "print(\"corr between indus and nox is : \", data[\"indus\"].corr(data[\"nox\"]))\n",
    "print(\"corr between indus and tax is : \", data[\"indus\"].corr(data[\"tax\"]))\n",
    "print(\"corr between indus and zn is : \", data[\"indus\"].corr(data[\"zn\"]))\n",
    "print(\"corr between nox and tax is : \", data[\"nox\"].corr(data[\"tax\"]))\n",
    "print(\"corr between nox and zn is : \", data[\"nox\"].corr(data[\"zn\"]))\n",
    "print(\"corr between tax and zn is : \", data[\"tax\"].corr(data[\"zn\"]))\n",
    "# looks like multi-collinearity could be a problem here."
   ]
  },
  {
   "cell_type": "code",
   "execution_count": 8,
   "metadata": {
    "Collapsed": "false"
   },
   "outputs": [
    {
     "name": "stdout",
     "output_type": "stream",
     "text": [
      "corr between nox and tax is :  0.6680232004030222\n",
      "corr between nox and zn is :  -0.5166037078279845\n",
      "corr between tax and zn is :  -0.3145633246775982\n"
     ]
    }
   ],
   "source": [
    "# First dropping indus since it has higher effect on correlations with others.\n",
    "print(\"corr between nox and tax is : \", data[\"nox\"].corr(data[\"tax\"]))\n",
    "print(\"corr between nox and zn is : \", data[\"nox\"].corr(data[\"zn\"]))\n",
    "print(\"corr between tax and zn is : \", data[\"tax\"].corr(data[\"zn\"]))\n",
    "\n",
    "# I'll go further and drop Nox as well since its correlation with price is only 0.42 and also\n",
    "# causes multicollinearity problem in our dataset."
   ]
  },
  {
   "cell_type": "code",
   "execution_count": 9,
   "metadata": {
    "Collapsed": "false"
   },
   "outputs": [
    {
     "name": "stdout",
     "output_type": "stream",
     "text": [
      "corr between nox and zn is :  -0.5166037078279845\n",
      "corr between tax and zn is :  -0.3145633246775982\n"
     ]
    }
   ],
   "source": [
    "print(\"corr between nox and zn is : \", data[\"nox\"].corr(data[\"zn\"]))\n",
    "print(\"corr between tax and zn is : \", data[\"tax\"].corr(data[\"zn\"]))\n",
    "# For now corr 0.51 between variables is fine I believe, if needed we will go back and revise this part"
   ]
  },
  {
   "cell_type": "code",
   "execution_count": 10,
   "metadata": {
    "Collapsed": "false"
   },
   "outputs": [],
   "source": [
    "# After dropping lstat, I'll further check correlations between remaining variables (strong + moderate\n",
    "# correlations all togeher)"
   ]
  },
  {
   "cell_type": "code",
   "execution_count": 11,
   "metadata": {
    "Collapsed": "false"
   },
   "outputs": [
    {
     "data": {
      "text/plain": [
       "<AxesSubplot:>"
      ]
     },
     "execution_count": 11,
     "metadata": {},
     "output_type": "execute_result"
    },
    {
     "data": {
      "image/png": "[encoded data removed]",
      "text/plain": [
       "<Figure size 1152x648 with 2 Axes>"
      ]
     },
     "metadata": {
      "needs_background": "light"
     },
     "output_type": "display_data"
    }
   ],
   "source": [
    "# your plots here\n",
    "\n",
    "# Checking multi-collinearity heatmap - all looks OK - no moderate-strong corr between variables.\n",
    "plt.rcParams[\"figure.figsize\"]=(16,9)\n",
    "mask = np.zeros_like(data[[\"rm\",\"ptratio\",\"tax\",\"zn\"]].corr())\n",
    "mask[np.triu_indices_from(mask)] = True\n",
    "sns.heatmap(data[[\"rm\",\"ptratio\",\"tax\",\"zn\"]].corr(),annot=True,mask=mask)"
   ]
  },
  {
   "cell_type": "code",
   "execution_count": 12,
   "metadata": {
    "Collapsed": "false"
   },
   "outputs": [
    {
     "data": {
      "text/plain": [
       "Text(0.5, 1.0, 'proportion of residential land zoned for lots over 25.000 sq.ft.')"
      ]
     },
     "execution_count": 12,
     "metadata": {},
     "output_type": "execute_result"
    },
    {
     "data": {
      "image/png": "[encoded data removed]",
      "text/plain": [
       "<Figure size 1152x648 with 4 Axes>"
      ]
     },
     "metadata": {
      "needs_background": "light"
     },
     "output_type": "display_data"
    }
   ],
   "source": [
    "fig, ax = plt.subplots(4,1)\n",
    "plt.rcParams[\"figure.figsize\"] = (16,40)\n",
    "sns.regplot(data=data,x=\"rm\",y=\"medv\",ax=ax[0]) # average number of rooms per dwelling\n",
    "ax[0].set_title(\"average number of rooms per dwelling vs house price\",size=20,fontweight=\"bold\")\n",
    "sns.regplot(data=data,x=\"ptratio\",y=\"medv\",ax=ax[1]) # pupil-teacher ratio by town\n",
    "ax[1].set_title(\"pupil-teacher ratio by town vs house price\",size=20,fontweight=\"bold\")\n",
    "sns.regplot(data=data,x=\"tax\",y=\"medv\",ax=ax[2]) # full-value property-tax rate per $10,000\n",
    "ax[2].set_title(\"full-value property-tax rate per $10,000\",size=20,fontweight=\"bold\")\n",
    "sns.regplot(data=data,x=\"zn\",y=\"medv\",ax=ax[3]) # proportion of residential land zoned for lots over 25,000 sq.ft.\n",
    "ax[3].set_title(\"proportion of residential land zoned for lots over 25.000 sq.ft.\",\n",
    "                size=30,fontweight=\"bold\")"
   ]
  },
  {
   "cell_type": "markdown",
   "metadata": {
    "Collapsed": "false"
   },
   "source": [
    "### What do these plots tell you about the relationships between these variables and the prices of homes in Boston? Are these the relationships you expected to see in these variables? \n",
    "- Reference: https://www.kaggle.com/c/boston-housing"
   ]
  },
  {
   "cell_type": "code",
   "execution_count": 13,
   "metadata": {
    "Collapsed": "false"
   },
   "outputs": [],
   "source": [
    "### Your response here\n",
    "# Yes, they are pretty much expected since we already new the correlations.\n",
    "# Numbers of rooms have really strong effect on house prices, in positive way.\n",
    "# I believe pupil-teacher ratio indicates how educated is the neighborhood.\n",
    "# prop of residential land zone has weak positiv corr which is around 0.3x , it can also be obsvered."
   ]
  },
  {
   "cell_type": "markdown",
   "metadata": {
    "Collapsed": "false"
   },
   "source": [
    "### Make a heatmap of the remaining variables. Are there any variables that you did not consider that have very high correlations? What are they?"
   ]
  },
  {
   "cell_type": "code",
   "execution_count": 14,
   "metadata": {
    "Collapsed": "false"
   },
   "outputs": [
    {
     "data": {
      "text/plain": [
       "Index(['crim', 'zn', 'indus', 'chas', 'nox', 'rm', 'age', 'dis', 'rad', 'tax',\n",
       "       'ptratio', 'black', 'lstat', 'medv'],\n",
       "      dtype='object')"
      ]
     },
     "execution_count": 14,
     "metadata": {},
     "output_type": "execute_result"
    }
   ],
   "source": [
    "data.columns"
   ]
  },
  {
   "cell_type": "code",
   "execution_count": 15,
   "metadata": {
    "Collapsed": "false"
   },
   "outputs": [
    {
     "data": {
      "text/plain": [
       "<AxesSubplot:>"
      ]
     },
     "execution_count": 15,
     "metadata": {},
     "output_type": "execute_result"
    },
    {
     "data": {
      "image/png": "[encoded data removed]",
      "text/plain": [
       "<Figure size 1152x648 with 2 Axes>"
      ]
     },
     "metadata": {
      "needs_background": "light"
     },
     "output_type": "display_data"
    }
   ],
   "source": [
    "#your code here\n",
    "plt.rcParams[\"figure.figsize\"] = (16,9)\n",
    "mask = np.zeros_like(data[['crim', 'chas', 'age', 'dis', 'rad','ptratio', 'black', 'medv']].corr())\n",
    "mask[np.triu_indices_from(mask)] = True\n",
    "sns.heatmap(data[['crim', 'chas', 'age', 'dis', 'rad','ptratio', 'black', 'medv']].corr(),\n",
    "            mask=mask,annot=True)"
   ]
  },
  {
   "cell_type": "markdown",
   "metadata": {
    "Collapsed": "false"
   },
   "source": [
    "#### Significant correlations\n"
   ]
  },
  {
   "cell_type": "code",
   "execution_count": 16,
   "metadata": {
    "Collapsed": "false"
   },
   "outputs": [],
   "source": [
    "#your code here\n",
    "# There are some strong corr. between some features but since those features are not highly corr.\n",
    "# with house pricing, I guess we don't need to consider them."
   ]
  },
  {
   "cell_type": "markdown",
   "metadata": {
    "Collapsed": "false"
   },
   "source": [
    "### Calculate Statistics\n",
    "Calculate descriptive statistics for housing price. Include the minimum, maximum, mean, median, and standard deviation. "
   ]
  },
  {
   "cell_type": "code",
   "execution_count": 17,
   "metadata": {
    "Collapsed": "false"
   },
   "outputs": [
    {
     "data": {
      "text/html": [
       "<div>\n",
       "<style scoped>\n",
       "    .dataframe tbody tr th:only-of-type {\n",
       "        vertical-align: middle;\n",
       "    }\n",
       "\n",
       "    .dataframe tbody tr th {\n",
       "        vertical-align: top;\n",
       "    }\n",
       "\n",
       "    .dataframe thead th {\n",
       "        text-align: right;\n",
       "    }\n",
       "</style>\n",
       "<table border=\"1\" class=\"dataframe\">\n",
       "  <thead>\n",
       "    <tr style=\"text-align: right;\">\n",
       "      <th></th>\n",
       "      <th>medv</th>\n",
       "    </tr>\n",
       "  </thead>\n",
       "  <tbody>\n",
       "    <tr>\n",
       "      <th>count</th>\n",
       "      <td>506.000000</td>\n",
       "    </tr>\n",
       "    <tr>\n",
       "      <th>mean</th>\n",
       "      <td>22.532806</td>\n",
       "    </tr>\n",
       "    <tr>\n",
       "      <th>std</th>\n",
       "      <td>9.197104</td>\n",
       "    </tr>\n",
       "    <tr>\n",
       "      <th>min</th>\n",
       "      <td>5.000000</td>\n",
       "    </tr>\n",
       "    <tr>\n",
       "      <th>25%</th>\n",
       "      <td>17.025000</td>\n",
       "    </tr>\n",
       "    <tr>\n",
       "      <th>50%</th>\n",
       "      <td>21.200000</td>\n",
       "    </tr>\n",
       "    <tr>\n",
       "      <th>75%</th>\n",
       "      <td>25.000000</td>\n",
       "    </tr>\n",
       "    <tr>\n",
       "      <th>max</th>\n",
       "      <td>50.000000</td>\n",
       "    </tr>\n",
       "  </tbody>\n",
       "</table>\n",
       "</div>"
      ],
      "text/plain": [
       "             medv\n",
       "count  506.000000\n",
       "mean    22.532806\n",
       "std      9.197104\n",
       "min      5.000000\n",
       "25%     17.025000\n",
       "50%     21.200000\n",
       "75%     25.000000\n",
       "max     50.000000"
      ]
     },
     "execution_count": 17,
     "metadata": {},
     "output_type": "execute_result"
    }
   ],
   "source": [
    "# Your code here\n",
    "data[[\"medv\"]].describe()"
   ]
  },
  {
   "cell_type": "markdown",
   "metadata": {
    "Collapsed": "false"
   },
   "source": [
    "----\n",
    "\n",
    "## 2- Developing a Model"
   ]
  },
  {
   "cell_type": "markdown",
   "metadata": {
    "Collapsed": "false"
   },
   "source": [
    "### Implementation: Shuffle and Split Data\n",
    "Split the data into the testing and training datasets. Shuffle the data as well to remove any bias in selecting the traing and test. "
   ]
  },
  {
   "cell_type": "code",
   "execution_count": 18,
   "metadata": {
    "Collapsed": "false"
   },
   "outputs": [],
   "source": [
    "#your code here\n",
    "from sklearn.model_selection import train_test_split\n",
    "from sklearn.utils import shuffle\n",
    "\n",
    "data = shuffle(data)\n",
    "y = data[\"medv\"]\n",
    "X = data.drop(columns=\"medv\")\n",
    "X_train, X_test, y_train, y_test = train_test_split(X,y,test_size=0.2)\n",
    "#paolo: consider setting the random state for reproducible results"
   ]
  },
  {
   "cell_type": "markdown",
   "metadata": {
    "Collapsed": "false"
   },
   "source": [
    "----\n",
    "\n",
    "## 3- Analyzing Model Performance\n",
    "Next, we are going to build a Random Forest Regressor, and test its performance with several different parameter settings."
   ]
  },
  {
   "cell_type": "markdown",
   "metadata": {
    "Collapsed": "false"
   },
   "source": [
    "### Learning Curves\n",
    "Lets build the different models. Set the max_depth parameter to 2, 4, 6, 8, and 10 respectively. "
   ]
  },
  {
   "cell_type": "code",
   "execution_count": 19,
   "metadata": {
    "Collapsed": "false"
   },
   "outputs": [
    {
     "data": {
      "text/plain": [
       "RandomForestRegressor(max_depth=10)"
      ]
     },
     "execution_count": 19,
     "metadata": {},
     "output_type": "execute_result"
    }
   ],
   "source": [
    "#your code here\n",
    "from sklearn.ensemble import RandomForestRegressor\n",
    "from sklearn.metrics import r2_score,mean_squared_error,mean_absolute_error\n",
    "\n",
    "RandomForestRegModel2 = RandomForestRegressor(max_depth=2)\n",
    "RandomForestRegModel4 = RandomForestRegressor(max_depth=4)\n",
    "RandomForestRegModel6 = RandomForestRegressor(max_depth=6)\n",
    "RandomForestRegModel8 = RandomForestRegressor(max_depth=8)\n",
    "RandomForestRegModel10 = RandomForestRegressor(max_depth=10)\n",
    "\n",
    "RandomForestRegModel2.fit(X_train,y_train)\n",
    "RandomForestRegModel4.fit(X_train,y_train)\n",
    "RandomForestRegModel6.fit(X_train,y_train)\n",
    "RandomForestRegModel8.fit(X_train,y_train)\n",
    "RandomForestRegModel10.fit(X_train,y_train)"
   ]
  },
  {
   "cell_type": "markdown",
   "metadata": {
    "Collapsed": "false"
   },
   "source": [
    "Now, plot the score for each tree on the training set and on the testing set."
   ]
  },
  {
   "cell_type": "code",
   "execution_count": 20,
   "metadata": {
    "Collapsed": "false"
   },
   "outputs": [],
   "source": [
    "# Produce a plot with the score for the testing and training for the different max depths\n",
    "\n",
    "#your code here\n",
    "\n",
    "# test predictions\n",
    "y_pred2 = RandomForestRegModel2.predict(X_test)\n",
    "y_pred4 = RandomForestRegModel4.predict(X_test)\n",
    "y_pred6 = RandomForestRegModel6.predict(X_test)\n",
    "y_pred8 = RandomForestRegModel8.predict(X_test)\n",
    "y_pred10 = RandomForestRegModel10.predict(X_test)\n",
    "\n",
    "# training predictions\n",
    "y_pred2_train= RandomForestRegModel2.predict(X_train)\n",
    "y_pred4_train = RandomForestRegModel4.predict(X_train)\n",
    "y_pred6_train = RandomForestRegModel6.predict(X_train)\n",
    "y_pred8_train = RandomForestRegModel8.predict(X_train)\n",
    "y_pred10_train = RandomForestRegModel10.predict(X_train)"
   ]
  },
  {
   "cell_type": "markdown",
   "metadata": {
    "Collapsed": "false"
   },
   "source": [
    "### Model Evaluation"
   ]
  },
  {
   "cell_type": "code",
   "execution_count": 21,
   "metadata": {
    "Collapsed": "false"
   },
   "outputs": [
    {
     "name": "stdout",
     "output_type": "stream",
     "text": [
      "rmse2:  5.689681736960808\n",
      "rmse4:  4.479195504125908\n",
      "rmse6:  4.432113870745344\n",
      "rmse8:  4.276016844736841\n",
      "rmse10:  4.251206962365277\n"
     ]
    }
   ],
   "source": [
    "# test data RMSE\n",
    "mse2 = mean_squared_error(y_test,y_pred2)\n",
    "rmse2 = np.sqrt(mse2)\n",
    "print(\"rmse2: \",rmse2)\n",
    "\n",
    "mse4 = mean_squared_error(y_test,y_pred4)\n",
    "rmse4 = np.sqrt(mse4)\n",
    "print(\"rmse4: \",rmse4)\n",
    "\n",
    "mse6 = mean_squared_error(y_test,y_pred6)\n",
    "rmse6 = np.sqrt(mse6)\n",
    "print(\"rmse6: \",rmse6)\n",
    "\n",
    "mse8 = mean_squared_error(y_test,y_pred8)\n",
    "rmse8 = np.sqrt(mse8)\n",
    "print(\"rmse8: \",rmse8)\n",
    "\n",
    "mse10 = mean_squared_error(y_test,y_pred10)\n",
    "rmse10 = np.sqrt(mse10)\n",
    "print(\"rmse10: \",rmse10)"
   ]
  },
  {
   "cell_type": "code",
   "execution_count": 22,
   "metadata": {
    "Collapsed": "false"
   },
   "outputs": [
    {
     "name": "stdout",
     "output_type": "stream",
     "text": [
      "rmse2:  4.069424429028173\n",
      "rmse4:  2.543975927394108\n",
      "rmse6:  1.852745072460724\n",
      "rmse8:  1.4396591705619568\n",
      "rmse10:  1.2425015929914696\n"
     ]
    }
   ],
   "source": [
    "# training data RMSE\n",
    "mse2 = mean_squared_error(y_train,y_pred2_train)\n",
    "rmse2 = np.sqrt(mse2)\n",
    "print(\"rmse2: \",rmse2)\n",
    "\n",
    "mse4 = mean_squared_error(y_train,y_pred4_train)\n",
    "rmse4 = np.sqrt(mse4)\n",
    "print(\"rmse4: \",rmse4)\n",
    "\n",
    "mse6 = mean_squared_error(y_train,y_pred6_train)\n",
    "rmse6 = np.sqrt(mse6)\n",
    "print(\"rmse6: \",rmse6)\n",
    "\n",
    "mse8 = mean_squared_error(y_train,y_pred8_train)\n",
    "rmse8 = np.sqrt(mse8)\n",
    "print(\"rmse8: \",rmse8)\n",
    "\n",
    "mse10 = mean_squared_error(y_train,y_pred10_train)\n",
    "rmse10 = np.sqrt(mse10)\n",
    "print(\"rmse10: \",rmse10)"
   ]
  },
  {
   "cell_type": "code",
   "execution_count": 23,
   "metadata": {
    "Collapsed": "false"
   },
   "outputs": [
    {
     "data": {
      "text/plain": [
       "22.532806324110716"
      ]
     },
     "execution_count": 23,
     "metadata": {},
     "output_type": "execute_result"
    }
   ],
   "source": [
    "data[\"medv\"].mean()"
   ]
  },
  {
   "cell_type": "code",
   "execution_count": 24,
   "metadata": {
    "Collapsed": "false"
   },
   "outputs": [],
   "source": [
    "# For score of 22, i am not sure how to interpret rmse score. i found somewhere saying that if rmse\n",
    "# value of training dataset and testing dataset is close, thank it is a good model.\n",
    "\n",
    "# Considering overfit problem, and difference rmse values between training and testing datasets\n",
    "# for depth 10, depth of 10 might not be the best model in here."
   ]
  },
  {
   "cell_type": "markdown",
   "metadata": {
    "Collapsed": "false"
   },
   "source": [
    "#### R2 scores"
   ]
  },
  {
   "cell_type": "code",
   "execution_count": 25,
   "metadata": {
    "Collapsed": "false",
    "scrolled": true
   },
   "outputs": [
    {
     "name": "stdout",
     "output_type": "stream",
     "text": [
      "0.7108839333343893\n",
      "0.8208172011705834\n",
      "0.8245642497307444\n",
      "0.8367041703562252\n",
      "0.8385935909547217\n"
     ]
    }
   ],
   "source": [
    "# test scores\n",
    "print(r2_score(y_test,y_pred2))\n",
    "print(r2_score(y_test,y_pred4))\n",
    "print(r2_score(y_test,y_pred6))\n",
    "print(r2_score(y_test,y_pred8))\n",
    "print(r2_score(y_test,y_pred10))"
   ]
  },
  {
   "cell_type": "code",
   "execution_count": 26,
   "metadata": {
    "Collapsed": "false"
   },
   "outputs": [
    {
     "name": "stdout",
     "output_type": "stream",
     "text": [
      "0.7853560085711977\n",
      "0.9161160727601145\n",
      "0.9555077781794006\n",
      "0.973135909860148\n",
      "0.9799900193622941\n"
     ]
    },
    {
     "data": {
      "text/plain": [
       "'\\nWith score of 0.98 with depth of 10 on training dataset, there is a huge chance of over-fit issue.\\n'"
      ]
     },
     "execution_count": 26,
     "metadata": {},
     "output_type": "execute_result"
    }
   ],
   "source": [
    "# training scores\n",
    "print(r2_score(y_train,y_pred2_train))\n",
    "print(r2_score(y_train,y_pred4_train))\n",
    "print(r2_score(y_train,y_pred6_train))\n",
    "print(r2_score(y_train,y_pred8_train))\n",
    "print(r2_score(y_train,y_pred10_train))\n",
    "\n",
    "'''\n",
    "With score of 0.98 with depth of 10 on training dataset, there is a huge chance of over-fit issue.\n",
    "'''\n",
    "#paolo: ok but consider using for loops for these type of tasks, much cleaner "
   ]
  },
  {
   "cell_type": "markdown",
   "metadata": {
    "Collapsed": "false"
   },
   "source": [
    "What do these results tell you about the effect of the depth of the trees on the performance of the model?\n"
   ]
  },
  {
   "cell_type": "code",
   "execution_count": 27,
   "metadata": {
    "Collapsed": "false"
   },
   "outputs": [],
   "source": [
    "# Your response here\n",
    "# The deeper the model is the lower the RMSE score which is good I think but we have to be careful\n",
    "# for over-fitting.\n",
    "\n",
    "# Also we can see the increasement in R2 score for higher depths. However, looks like there might\n",
    "# be an overfit problem for depth of 10 - as it can seen in training scores."
   ]
  },
  {
   "cell_type": "markdown",
   "metadata": {
    "Collapsed": "false"
   },
   "source": [
    "### Bias-Variance Tradeoff\n",
    "When the model is trained with a maximum depth of 1, does the model suffer from high bias or from high variance? How about when the model is trained with a maximum depth of 10?"
   ]
  },
  {
   "cell_type": "code",
   "execution_count": 28,
   "metadata": {
    "Collapsed": "false"
   },
   "outputs": [],
   "source": [
    "# Your response here\n",
    "# Imo, when max depth is set to 10, tree will have too many branches which might cause ML to overfit\n",
    "# training data. In other words, when max depth is deeper, there will be low biases since model\n",
    "# will over-fit to training data so on testing set we will observe high variance.\n",
    "\n",
    "# On the other hand, if we set max depth to one, besides the probability of under-fit, bias between\n",
    "# data points and training model will be high, however on the testing data set, we will observe\n",
    "# less variance.\n",
    "#paolo: good reasoning"
   ]
  },
  {
   "cell_type": "markdown",
   "metadata": {
    "Collapsed": "false"
   },
   "source": [
    "### Best-Guess Optimal Model\n",
    "What is the max_depth parameter that you think would optimize the model? Based on your previous results run your model and explain its performance."
   ]
  },
  {
   "cell_type": "markdown",
   "metadata": {
    "Collapsed": "false"
   },
   "source": [
    "#### Train the Random forest regressor model with the optimal value for max_depth"
   ]
  },
  {
   "cell_type": "code",
   "execution_count": 29,
   "metadata": {
    "Collapsed": "false"
   },
   "outputs": [],
   "source": [
    "#your code here\n",
    "# If there is no overfit issue in this example, I'd go with depth of 10 model since it\n",
    "# gives us the best R2, MSE scores. Looking test data scores, 0.879 for depth of 10 is not proof of\n",
    "# overfit I believe..\n",
    "#paolo: What does the comparison train/test error tell you about  overfitting? Consider using learning curves\n"
   ]
  },
  {
   "cell_type": "markdown",
   "metadata": {
    "Collapsed": "false"
   },
   "source": [
    "#### Use the mean absolute error (MAE) to calculate the performance of the model"
   ]
  },
  {
   "cell_type": "code",
   "execution_count": 30,
   "metadata": {
    "Collapsed": "false"
   },
   "outputs": [
    {
     "name": "stdout",
     "output_type": "stream",
     "text": [
      "mae10:  2.7280588661568683\n"
     ]
    }
   ],
   "source": [
    "#your code here\n",
    "mae10 = mean_absolute_error(y_test,y_pred10)\n",
    "print(\"mae10: \",mae10)"
   ]
  },
  {
   "cell_type": "markdown",
   "metadata": {
    "Collapsed": "false"
   },
   "source": [
    "#### Use the root mean squared error (RMSE) to calculate the performance of the model"
   ]
  },
  {
   "cell_type": "code",
   "execution_count": 31,
   "metadata": {
    "Collapsed": "false"
   },
   "outputs": [
    {
     "name": "stdout",
     "output_type": "stream",
     "text": [
      "rmse10:  4.251206962365277\n"
     ]
    }
   ],
   "source": [
    "#your code here\n",
    "mse10 = mean_squared_error(y_test,y_pred10)\n",
    "rmse10 = np.sqrt(mse10)\n",
    "print(\"rmse10: \",rmse10)"
   ]
  },
  {
   "cell_type": "markdown",
   "metadata": {
    "Collapsed": "false"
   },
   "source": [
    "#### Create a function that calculates  and returns the r2 score as performance metric"
   ]
  },
  {
   "cell_type": "code",
   "execution_count": 32,
   "metadata": {
    "Collapsed": "false"
   },
   "outputs": [],
   "source": [
    "#your code here"
   ]
  },
  {
   "cell_type": "markdown",
   "metadata": {
    "Collapsed": "false"
   },
   "source": [
    "#### Calculate the r2 score of the model using the function defined above"
   ]
  },
  {
   "cell_type": "code",
   "execution_count": 33,
   "metadata": {
    "Collapsed": "false"
   },
   "outputs": [
    {
     "data": {
      "text/plain": [
       "0.8385935909547217"
      ]
     },
     "execution_count": 33,
     "metadata": {},
     "output_type": "execute_result"
    }
   ],
   "source": [
    "#your code here\n",
    "r2_score(y_test,y_pred10)"
   ]
  },
  {
   "cell_type": "markdown",
   "metadata": {
    "Collapsed": "false"
   },
   "source": [
    "#### Bonus question\n",
    "Read [this article](https://medium.com/human-in-a-machine-world/mae-and-rmse-which-metric-is-better-e60ac3bde13d) \n",
    "about the differences between MAE and RMSE. Do you think that one of the two types of error is more appropriate for this problem, and why?"
   ]
  },
  {
   "cell_type": "code",
   "execution_count": 34,
   "metadata": {
    "Collapsed": "false"
   },
   "outputs": [],
   "source": [
    "#your answer here"
   ]
  },
  {
   "cell_type": "markdown",
   "metadata": {
    "Collapsed": "false"
   },
   "source": [
    "### 4 - Applicability\n",
    "*In a few sentences, discuss whether the constructed model should or should not be used in a real-world setting.*  \n",
    "**Hint:** Some questions to answering:\n",
    "- *How relevant today is data that was collected from 1978?*\n",
    "- *Are the features present in the data sufficient to describe a home?*\n",
    "- *Is the model robust enough to make consistent predictions?*\n",
    "- *Would data collected in an urban city like Boston be applicable in a rural city?*"
   ]
  },
  {
   "cell_type": "code",
   "execution_count": 35,
   "metadata": {
    "Collapsed": "false"
   },
   "outputs": [],
   "source": [
    "#Your response here\n",
    "#paolo: what about these questions?:)"
   ]
  }
 ],
 "metadata": {
  "anaconda-cloud": {},
  "kernelspec": {
   "display_name": "Python 3",
   "language": "python",
   "name": "python3"
  },
  "language_info": {
   "codemirror_mode": {
    "name": "ipython",
    "version": 3
   },
   "file_extension": ".py",
   "mimetype": "text/x-python",
   "name": "python",
   "nbconvert_exporter": "python",
   "pygments_lexer": "ipython3",
   "version": "3.7.6"
  }
 },
 "nbformat": 4,
 "nbformat_minor": 4
}
