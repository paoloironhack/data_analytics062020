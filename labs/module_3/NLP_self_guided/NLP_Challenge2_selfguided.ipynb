{
 "cells": [
  {
   "cell_type": "markdown",
   "metadata": {
    "Collapsed": "false"
   },
   "source": [
    "# Challenge 2: Sentiment Analysis\n",
    "\n",
    "In this challenge we will learn sentiment analysis and practice performing sentiment analysis on Twitter tweets. \n",
    "\n",
    "## Introduction\n",
    "\n",
    "Sentiment analysis is to *systematically identify, extract, quantify, and study affective states and subjective information* based on texts ([reference](https://en.wikipedia.org/wiki/Sentiment_analysis)). In simple words, it's to understand whether a person is happy or unhappy in producing the piece of text. Why we (or rather, companies) care about sentiment in texts? It's because by understanding the sentiments in texts, we will be able to know if our customers are happy or unhappy about our products and services. If they are unhappy, the subsequent action is to figure out what have caused the unhappiness and make improvements.\n",
    "\n",
    "Basic sentiment analysis only understands the *positive* or *negative* (sometimes *neutral* too) polarities of the sentiment. More advanced sentiment analysis will also consider dimensions such as agreement, subjectivity, confidence, irony, and so on. In this challenge we will conduct the basic positive vs negative sentiment analysis based on real Twitter tweets.\n",
    "\n",
    "NLTK comes with a [sentiment analysis package](https://www.nltk.org/api/nltk.sentiment.html). This package is great for dummies to perform sentiment analysis because it requires only the textual data to make predictions. For example:\n",
    "\n",
    "```python\n",
    ">>> from nltk.sentiment.vader import SentimentIntensityAnalyzer\n",
    ">>> txt = \"Ironhack is a Global Tech School ranked num 2 worldwide.  ",
    " ",
    "Our mission is to help people transform their careers and join a thriving community of tech professionals that love what they do.\"\n",
    ">>> analyzer = SentimentIntensityAnalyzer()\n",
    ">>> analyzer.polarity_scores(txt)\n",
    "{'neg': 0.0, 'neu': 0.741, 'pos': 0.259, 'compound': 0.8442}\n",
    "```\n",
    "\n",
    "In this challenge, however, you will not use NLTK's sentiment analysis package because in your Machine Learning training in the past 2 weeks you have learned how to make predictions more accurate than that. The [tweets data](https://www.kaggle.com/kazanova/sentiment140) we will be using today are already coded for the positive/negative sentiment. You will be able to use the Naïve Bayes classifier you learned in the lesson to predict the sentiment of tweets based on the labels."
   ]
  },
  {
   "cell_type": "markdown",
   "metadata": {
    "Collapsed": "false"
   },
   "source": [
    "## Conducting Sentiment Analysis\n",
    "\n",
    "### Loading and Exploring Data\n",
    "\n",
    "The dataset we'll be using today is `Sentiment140.csv.zip` and is located  [here](https://drive.google.com/open?id=1yFnoviM3Gjt34lW4FgTKT7hnoW5WbGMz), download it, unzip it and place it in the data folder.\n",
    "Then in the cell below, load and explore the data.\n",
    "\n",
    "*Notes:* \n",
    "\n",
    "* The dataset was downloaded from [Kaggle](https://www.kaggle.com/kazanova/sentiment140). We made a slight change on the original data so that each column has a label.\n",
    "\n",
    "* The dataset is huuuuge (1.6m tweets). When you develop your data analysis codes, you can sample a subset of the data (e.g. 20k records) so that you will save a lot of time when you test your codes."
   ]
  },
  {
   "cell_type": "code",
   "execution_count": 2,
   "metadata": {
    "Collapsed": "false"
   },
   "outputs": [],
   "source": [
    "# your code here\n",
    "import re\n",
    "import nltk\n",
    "from nltk.corpus import stopwords\n",
    "from nltk.stem import WordNetLemmatizer\n",
    "from nltk.stem import PorterStemmer\n",
    "import random\n",
    "\n",
    "\n",
    "def clean_up(s):    \n",
    "    \"\"\"\n",
    "    Cleans up numbers, URLs, and special characters from a string.\n",
    "    \n",
    "    Args:\n",
    "        s: The string to be cleaned up.\n",
    "\n",
    "    Returns:\n",
    "        A string that has been cleaned up.\n",
    "    \"\"\"\n",
    "    # Step 1 - Remove all digits\n",
    "    s_1 = re.sub('\\d', '', s)\n",
    "    # Step 2 - Remove http:// refererences\n",
    "    s_2 = re.sub('(http|https)://([^\\s]+)', '', s_1)\n",
    "    # Step 3 - Remove all special chars\n",
    "    s_3 = re.sub('\\W', ' ', s_2 )\n",
    "    # Step 4 - to lower and split to list\n",
    "    s_4 = (s_3.lower())\n",
    "    return s_4\n",
    "\n",
    "\n",
    "def tokenize(s):    \n",
    "    \"\"\"\n",
    "    Tokenize a string.\n",
    "\n",
    "    Args:\n",
    "        s: String to be tokenized.\n",
    "\n",
    "    Returns:\n",
    "        A list of words as the result of tokenization.\n",
    "    \"\"\"\n",
    "    return nltk.word_tokenize(s)\n",
    "\n",
    "\n",
    "def stem_and_lemmatize(l):\n",
    "    \"\"\"\n",
    "    Perform stemming and lemmatization on a list of words.\n",
    "\n",
    "    Args:\n",
    "        l: A list of strings.\n",
    "\n",
    "    Returns:\n",
    "        A list of strings after being stemmed and lemmatized.\n",
    "    \"\"\"\n",
    "    lemmatizer = WordNetLemmatizer()\n",
    "    ps = PorterStemmer()\n",
    "    result = []\n",
    "    for w in l:\n",
    "        result.append(lemmatizer.lemmatize(ps.stem(w)))\n",
    "    return result\n",
    "\n",
    "\n",
    "def remove_stopwords(l):\n",
    "    \n",
    "    \"\"\"\n",
    "    Remove English stopwords from a list of strings.\n",
    "    \n",
    "    Args:\n",
    "        l: A list of strings.\n",
    "\n",
    "    Returns:\n",
    "        A list of strings after stop words are removed.\n",
    "    \"\"\"\n",
    "    stop_words = stopwords.words('english') \n",
    "    return [word for word in l if word not in stop_words]"
   ]
  },
  {
   "cell_type": "code",
   "execution_count": 3,
   "metadata": {
    "Collapsed": "false"
   },
   "outputs": [],
   "source": [
    "import pandas as pd\n",
    "import numpy as np\n",
    "import warnings\n",
    "warnings.filterwarnings(\"ignore\")"
   ]
  },
  {
   "cell_type": "code",
   "execution_count": 4,
   "metadata": {
    "Collapsed": "false"
   },
   "outputs": [],
   "source": [
    "data = pd.read_csv('./data/Sentiment140.csv')"
   ]
  },
  {
   "cell_type": "code",
   "execution_count": 5,
   "metadata": {
    "Collapsed": "false"
   },
   "outputs": [
    {
     "data": {
      "text/plain": [
       "(1600000, 6)"
      ]
     },
     "execution_count": 5,
     "metadata": {},
     "output_type": "execute_result"
    }
   ],
   "source": [
    "data.shape"
   ]
  },
  {
   "cell_type": "code",
   "execution_count": 6,
   "metadata": {
    "Collapsed": "false"
   },
   "outputs": [
    {
     "data": {
      "text/plain": [
       "(20000, 6)"
      ]
     },
     "execution_count": 6,
     "metadata": {},
     "output_type": "execute_result"
    }
   ],
   "source": [
    "# split data to allow faster load times. split on the middle to have both sentiments (target)\n",
    "data_sample = data[790000:810000]\n",
    "data_sample.shape"
   ]
  },
  {
   "cell_type": "code",
   "execution_count": 7,
   "metadata": {
    "Collapsed": "false"
   },
   "outputs": [
    {
     "data": {
      "text/plain": [
       "4    800000\n",
       "0    800000\n",
       "Name: target, dtype: int64"
      ]
     },
     "execution_count": 7,
     "metadata": {},
     "output_type": "execute_result"
    }
   ],
   "source": [
    "data['target'].value_counts()"
   ]
  },
  {
   "cell_type": "code",
   "execution_count": 8,
   "metadata": {
    "Collapsed": "false",
    "scrolled": true
   },
   "outputs": [
    {
     "data": {
      "text/plain": [
       "4    10000\n",
       "0    10000\n",
       "Name: target, dtype: int64"
      ]
     },
     "execution_count": 8,
     "metadata": {},
     "output_type": "execute_result"
    }
   ],
   "source": [
    "data_sample['target'].value_counts()"
   ]
  },
  {
   "cell_type": "code",
   "execution_count": 9,
   "metadata": {
    "Collapsed": "false"
   },
   "outputs": [
    {
     "data": {
      "text/html": [
       "<div>\n",
       "<style scoped>\n",
       "    .dataframe tbody tr th:only-of-type {\n",
       "        vertical-align: middle;\n",
       "    }\n",
       "\n",
       "    .dataframe tbody tr th {\n",
       "        vertical-align: top;\n",
       "    }\n",
       "\n",
       "    .dataframe thead th {\n",
       "        text-align: right;\n",
       "    }\n",
       "</style>\n",
       "<table border=\"1\" class=\"dataframe\">\n",
       "  <thead>\n",
       "    <tr style=\"text-align: right;\">\n",
       "      <th></th>\n",
       "      <th>target</th>\n",
       "      <th>id</th>\n",
       "      <th>date</th>\n",
       "      <th>flag</th>\n",
       "      <th>user</th>\n",
       "      <th>text</th>\n",
       "    </tr>\n",
       "  </thead>\n",
       "  <tbody>\n",
       "    <tr>\n",
       "      <th>790000</th>\n",
       "      <td>0</td>\n",
       "      <td>2325540224</td>\n",
       "      <td>Thu Jun 25 05:38:16 PDT 2009</td>\n",
       "      <td>NO_QUERY</td>\n",
       "      <td>Kain292</td>\n",
       "      <td>Virpi's last day.  Busy as tits.</td>\n",
       "    </tr>\n",
       "    <tr>\n",
       "      <th>790001</th>\n",
       "      <td>0</td>\n",
       "      <td>2325540629</td>\n",
       "      <td>Thu Jun 25 05:38:19 PDT 2009</td>\n",
       "      <td>NO_QUERY</td>\n",
       "      <td>dean_b</td>\n",
       "      <td>@SherilynMoon unfortunate then that I have no ...</td>\n",
       "    </tr>\n",
       "    <tr>\n",
       "      <th>790002</th>\n",
       "      <td>0</td>\n",
       "      <td>2325540730</td>\n",
       "      <td>Thu Jun 25 05:38:20 PDT 2009</td>\n",
       "      <td>NO_QUERY</td>\n",
       "      <td>volleygalore</td>\n",
       "      <td>just dropped off the car to get the brakes loo...</td>\n",
       "    </tr>\n",
       "    <tr>\n",
       "      <th>790003</th>\n",
       "      <td>0</td>\n",
       "      <td>2325540825</td>\n",
       "      <td>Thu Jun 25 05:38:20 PDT 2009</td>\n",
       "      <td>NO_QUERY</td>\n",
       "      <td>shOrtyyxx</td>\n",
       "      <td>Colin Kelly on Clyde1 Should get One Republic ...</td>\n",
       "    </tr>\n",
       "    <tr>\n",
       "      <th>790004</th>\n",
       "      <td>0</td>\n",
       "      <td>2325540910</td>\n",
       "      <td>Thu Jun 25 05:38:21 PDT 2009</td>\n",
       "      <td>NO_QUERY</td>\n",
       "      <td>DLPsYks</td>\n",
       "      <td>just a little upset i had a chance to take 4 o...</td>\n",
       "    </tr>\n",
       "  </tbody>\n",
       "</table>\n",
       "</div>"
      ],
      "text/plain": [
       "        target          id                          date      flag  \\\n",
       "790000       0  2325540224  Thu Jun 25 05:38:16 PDT 2009  NO_QUERY   \n",
       "790001       0  2325540629  Thu Jun 25 05:38:19 PDT 2009  NO_QUERY   \n",
       "790002       0  2325540730  Thu Jun 25 05:38:20 PDT 2009  NO_QUERY   \n",
       "790003       0  2325540825  Thu Jun 25 05:38:20 PDT 2009  NO_QUERY   \n",
       "790004       0  2325540910  Thu Jun 25 05:38:21 PDT 2009  NO_QUERY   \n",
       "\n",
       "                user                                               text  \n",
       "790000       Kain292                   Virpi's last day.  Busy as tits.  \n",
       "790001        dean_b  @SherilynMoon unfortunate then that I have no ...  \n",
       "790002  volleygalore  just dropped off the car to get the brakes loo...  \n",
       "790003     shOrtyyxx  Colin Kelly on Clyde1 Should get One Republic ...  \n",
       "790004       DLPsYks  just a little upset i had a chance to take 4 o...  "
      ]
     },
     "execution_count": 9,
     "metadata": {},
     "output_type": "execute_result"
    }
   ],
   "source": [
    "data_sample.head()"
   ]
  },
  {
   "cell_type": "markdown",
   "metadata": {
    "Collapsed": "false"
   },
   "source": [
    "### Prepare Textual Data for Sentiment Analysis\n",
    "\n",
    "Now, apply the functions you have written in Challenge 1 to your whole data set. These functions include:\n",
    "\n",
    "* `clean_up()`\n",
    "\n",
    "* `tokenize()`\n",
    "\n",
    "* `stem_and_lemmatize()`\n",
    "\n",
    "* `remove_stopwords()`\n",
    "\n",
    "Create a new column called `text_processed` in the dataframe to contain the processed data. At the end, your `text_processed` column should contain lists of word tokens that are cleaned up. Your data should look like [this](https://drive.google.com/open?id=1ygk0Je3ViMhnyojQqz1BqdjFjwnnzzXd)"
   ]
  },
  {
   "cell_type": "code",
   "execution_count": 10,
   "metadata": {
    "Collapsed": "false"
   },
   "outputs": [],
   "source": [
    "# your code here\n",
    "data_sample['text_processed'] = data_sample.apply(lambda x: clean_up(x['text']), axis=1)\n",
    "data_sample['text_processed'] = data_sample.apply(lambda x: tokenize(x['text_processed']), axis=1)\n",
    "data_sample['text_processed'] = data_sample.apply(lambda x: stem_and_lemmatize(x['text_processed']), axis=1)\n",
    "data_sample['text_processed'] = data_sample.apply(lambda x: remove_stopwords(x['text_processed']), axis=1)"
   ]
  },
  {
   "cell_type": "code",
   "execution_count": 12,
   "metadata": {
    "Collapsed": "false"
   },
   "outputs": [
    {
     "data": {
      "text/html": [
       "<div>\n",
       "<style scoped>\n",
       "    .dataframe tbody tr th:only-of-type {\n",
       "        vertical-align: middle;\n",
       "    }\n",
       "\n",
       "    .dataframe tbody tr th {\n",
       "        vertical-align: top;\n",
       "    }\n",
       "\n",
       "    .dataframe thead th {\n",
       "        text-align: right;\n",
       "    }\n",
       "</style>\n",
       "<table border=\"1\" class=\"dataframe\">\n",
       "  <thead>\n",
       "    <tr style=\"text-align: right;\">\n",
       "      <th></th>\n",
       "      <th>target</th>\n",
       "      <th>id</th>\n",
       "      <th>date</th>\n",
       "      <th>flag</th>\n",
       "      <th>user</th>\n",
       "      <th>text</th>\n",
       "      <th>text_processed</th>\n",
       "    </tr>\n",
       "  </thead>\n",
       "  <tbody>\n",
       "    <tr>\n",
       "      <th>790000</th>\n",
       "      <td>0</td>\n",
       "      <td>2325540224</td>\n",
       "      <td>Thu Jun 25 05:38:16 PDT 2009</td>\n",
       "      <td>NO_QUERY</td>\n",
       "      <td>Kain292</td>\n",
       "      <td>Virpi's last day.  Busy as tits.</td>\n",
       "      <td>[virpi, last, day, busi, tit]</td>\n",
       "    </tr>\n",
       "    <tr>\n",
       "      <th>790001</th>\n",
       "      <td>0</td>\n",
       "      <td>2325540629</td>\n",
       "      <td>Thu Jun 25 05:38:19 PDT 2009</td>\n",
       "      <td>NO_QUERY</td>\n",
       "      <td>dean_b</td>\n",
       "      <td>@SherilynMoon unfortunate then that I have no ...</td>\n",
       "      <td>[sherilynmoon, unfortun, signal, tweet, photo,...</td>\n",
       "    </tr>\n",
       "    <tr>\n",
       "      <th>790002</th>\n",
       "      <td>0</td>\n",
       "      <td>2325540730</td>\n",
       "      <td>Thu Jun 25 05:38:20 PDT 2009</td>\n",
       "      <td>NO_QUERY</td>\n",
       "      <td>volleygalore</td>\n",
       "      <td>just dropped off the car to get the brakes loo...</td>\n",
       "      <td>[drop, car, get, brake, look, hope, thi, cost,...</td>\n",
       "    </tr>\n",
       "    <tr>\n",
       "      <th>790003</th>\n",
       "      <td>0</td>\n",
       "      <td>2325540825</td>\n",
       "      <td>Thu Jun 25 05:38:20 PDT 2009</td>\n",
       "      <td>NO_QUERY</td>\n",
       "      <td>shOrtyyxx</td>\n",
       "      <td>Colin Kelly on Clyde1 Should get One Republic ...</td>\n",
       "      <td>[colin, kelli, clyde, get, one, republ, neyo, ...</td>\n",
       "    </tr>\n",
       "    <tr>\n",
       "      <th>790004</th>\n",
       "      <td>0</td>\n",
       "      <td>2325540910</td>\n",
       "      <td>Thu Jun 25 05:38:21 PDT 2009</td>\n",
       "      <td>NO_QUERY</td>\n",
       "      <td>DLPsYks</td>\n",
       "      <td>just a little upset i had a chance to take 4 o...</td>\n",
       "      <td>[littl, upset, chanc, take, realli, cool, pict...</td>\n",
       "    </tr>\n",
       "  </tbody>\n",
       "</table>\n",
       "</div>"
      ],
      "text/plain": [
       "        target          id                          date      flag  \\\n",
       "790000       0  2325540224  Thu Jun 25 05:38:16 PDT 2009  NO_QUERY   \n",
       "790001       0  2325540629  Thu Jun 25 05:38:19 PDT 2009  NO_QUERY   \n",
       "790002       0  2325540730  Thu Jun 25 05:38:20 PDT 2009  NO_QUERY   \n",
       "790003       0  2325540825  Thu Jun 25 05:38:20 PDT 2009  NO_QUERY   \n",
       "790004       0  2325540910  Thu Jun 25 05:38:21 PDT 2009  NO_QUERY   \n",
       "\n",
       "                user                                               text  \\\n",
       "790000       Kain292                   Virpi's last day.  Busy as tits.   \n",
       "790001        dean_b  @SherilynMoon unfortunate then that I have no ...   \n",
       "790002  volleygalore  just dropped off the car to get the brakes loo...   \n",
       "790003     shOrtyyxx  Colin Kelly on Clyde1 Should get One Republic ...   \n",
       "790004       DLPsYks  just a little upset i had a chance to take 4 o...   \n",
       "\n",
       "                                           text_processed  \n",
       "790000                      [virpi, last, day, busi, tit]  \n",
       "790001  [sherilynmoon, unfortun, signal, tweet, photo,...  \n",
       "790002  [drop, car, get, brake, look, hope, thi, cost,...  \n",
       "790003  [colin, kelli, clyde, get, one, republ, neyo, ...  \n",
       "790004  [littl, upset, chanc, take, realli, cool, pict...  "
      ]
     },
     "execution_count": 12,
     "metadata": {},
     "output_type": "execute_result"
    }
   ],
   "source": [
    "data_sample.head()"
   ]
  },
  {
   "cell_type": "markdown",
   "metadata": {
    "Collapsed": "false"
   },
   "source": [
    "### Creating Bag of Words\n",
    "\n",
    "The purpose of this step is to create a [bag of words](https://en.wikipedia.org/wiki/Bag-of-words_model) from the processed data. The bag of words contains all the unique words in your whole text body (a.k.a. *corpus*) with the number of occurrence of each word. It will allow you to understand which words are the most important features across the whole corpus.\n",
    "\n",
    "Also, you can imagine you will have a massive set of words. The less important words (i.e. those of very low number of occurrence) do not contribute much to the sentiment. Therefore, you only need to use the most important words to build your feature set in the next step. In our case, we will use the top 5,000 words with the highest frequency to build the features.\n",
    "\n",
    "In the cell below, combine all the words in `text_processed` and calculate the frequency distribution of all words. A convenient library to calculate the term frequency distribution is NLTK's `FreqDist` class ([documentation](https://www.nltk.org/api/nltk.html#module-nltk.probability)). Then select the top 5,000 words from the frequency distribution."
   ]
  },
  {
   "cell_type": "code",
   "execution_count": 13,
   "metadata": {
    "Collapsed": "false"
   },
   "outputs": [],
   "source": [
    "# your code here\n",
    "from nltk.probability import FreqDist\n",
    "# Iterating over each list on text processed to extract all the words\n",
    "words = [w for lst in data_sample['text_processed'] for w in lst]\n",
    "# Passing the previous variable to FreqDist function\n",
    "fdist = FreqDist(words)\n",
    "# Using the .most_common function to extract the top 5000 words\n",
    "# After running it, modify this value to 100 to be able to run it\n",
    "top5000 = fdist.most_common(100)\n",
    "# The previous variable returns a tuple containing the word and the freq, we are now extracting all the words\n",
    "top_words = [w[0] for w in top5000]"
   ]
  },
  {
   "cell_type": "markdown",
   "metadata": {
    "Collapsed": "false"
   },
   "source": [
    "### Building Features\n",
    "\n",
    "Now let's build the features. Using the top 5,000 words, create a 2-dimensional matrix to record whether each of those words is contained in each document (tweet). Then you also have an output column to indicate whether the sentiment in each tweet is positive. For example, assuming your bag of words has 5 items (`['one', 'two', 'three', 'four', 'five']`) out of 4 documents (`['A', 'B', 'C', 'D']`), your feature set is essentially:\n",
    "\n",
    "| Doc | one | two | three | four | five | is_positive |\n",
    "|---|---|---|---|---|---|---|\n",
    "| A | True | False | False | True | False | True |\n",
    "| B | False | False | False | True | True | False |\n",
    "| C | False | True | False | False | False | True |\n",
    "| D | True | False | False | False | True | False|\n",
    "\n",
    "However, because the `nltk.NaiveBayesClassifier.train` class we will use in the next step does not work with Pandas dataframe, the structure of your feature set should be converted to the Python list looking like below:\n",
    "\n",
    "```python\n",
    "[\n",
    "\t({\n",
    "\t\t'one': True,\n",
    "\t\t'two': False,\n",
    "\t\t'three': False,\n",
    "\t\t'four': True,\n",
    "\t\t'five': False\n",
    "\t}, True),\n",
    "\t({\n",
    "\t\t'one': False,\n",
    "\t\t'two': False,\n",
    "\t\t'three': False,\n",
    "\t\t'four': True,\n",
    "\t\t'five': True\n",
    "\t}, False),\n",
    "\t({\n",
    "\t\t'one': False,\n",
    "\t\t'two': True,\n",
    "\t\t'three': False,\n",
    "\t\t'four': False,\n",
    "\t\t'five': False\n",
    "\t}, True),\n",
    "\t({\n",
    "\t\t'one': True,\n",
    "\t\t'two': False,\n",
    "\t\t'three': False,\n",
    "\t\t'four': False,\n",
    "\t\t'five': True\n",
    "\t}, False)\n",
    "]\n",
    "```\n",
    "\n",
    "To help you in this step, watch the [following video](https://www.youtube.com/watch?v=-vVskDsHcVc) to learn how to build the feature set with Python and NLTK. The source code in this video can be found [here](https://pythonprogramming.net/words-as-features-nltk-tutorial/)."
   ]
  },
  {
   "cell_type": "code",
   "execution_count": 14,
   "metadata": {
    "Collapsed": "false"
   },
   "outputs": [],
   "source": [
    "# your code here\n",
    "#Creating final list\n",
    "final_data = []\n",
    "#iterrows returns index + row \n",
    "#Sliced the dataframe otherwise is heavy to run\n",
    "for i, r in data_sample[8000:12000].iterrows():\n",
    "    #One dict per row\n",
    "    result = {}\n",
    "    # Iterating over the top5000 words and then checking if the word in word500 is in the column 'text_processed'\n",
    "    for w in top_words:\n",
    "        result[w] = (w in r['text_processed'])\n",
    "    # If the value on the column target for each row is 0 means it is negative, otherwise (4) is positive\n",
    "    if r['target'] == 0:\n",
    "        # Negative\n",
    "        sentiment = False \n",
    "    else:\n",
    "        # positive\n",
    "        sentiment = True\n",
    "    #Saving per each row the dict and the sentiment\n",
    "    final_data.append((result, sentiment))"
   ]
  },
  {
   "cell_type": "code",
   "execution_count": 15,
   "metadata": {
    "Collapsed": "false"
   },
   "outputs": [
    {
     "data": {
      "text/plain": [
       "({'go': False,\n",
       "  'day': False,\n",
       "  'work': True,\n",
       "  'get': False,\n",
       "  'good': False,\n",
       "  'thi': True,\n",
       "  'wa': False,\n",
       "  'today': False,\n",
       "  'like': False,\n",
       "  'quot': False,\n",
       "  'time': False,\n",
       "  'love': False,\n",
       "  'got': False,\n",
       "  'one': False,\n",
       "  'u': False,\n",
       "  'want': False,\n",
       "  'thank': False,\n",
       "  'know': False,\n",
       "  'think': False,\n",
       "  'miss': False,\n",
       "  'back': False,\n",
       "  'morn': False,\n",
       "  'feel': False,\n",
       "  'lol': False,\n",
       "  'realli': False,\n",
       "  'need': False,\n",
       "  'ha': False,\n",
       "  'new': False,\n",
       "  'hope': False,\n",
       "  'well': False,\n",
       "  'look': False,\n",
       "  'see': False,\n",
       "  'make': False,\n",
       "  'amp': False,\n",
       "  'twitter': False,\n",
       "  'night': False,\n",
       "  'still': False,\n",
       "  'sad': False,\n",
       "  'im': False,\n",
       "  'farrah': False,\n",
       "  'last': False,\n",
       "  'oh': False,\n",
       "  'much': False,\n",
       "  'come': False,\n",
       "  'home': False,\n",
       "  'na': False,\n",
       "  'wish': False,\n",
       "  'great': False,\n",
       "  'watch': False,\n",
       "  'sleep': False,\n",
       "  'tri': False,\n",
       "  'whi': False,\n",
       "  'onli': False,\n",
       "  'week': True,\n",
       "  'veri': False,\n",
       "  'wait': False,\n",
       "  'fawcett': False,\n",
       "  'say': False,\n",
       "  'haha': False,\n",
       "  'take': False,\n",
       "  'thing': False,\n",
       "  'would': False,\n",
       "  'bad': False,\n",
       "  'hi': False,\n",
       "  'tomorrow': False,\n",
       "  'sorri': False,\n",
       "  'right': False,\n",
       "  'though': False,\n",
       "  'way': False,\n",
       "  'better': False,\n",
       "  'nice': False,\n",
       "  'could': False,\n",
       "  'peopl': False,\n",
       "  'friend': False,\n",
       "  'happi': False,\n",
       "  'hour': False,\n",
       "  'follow': False,\n",
       "  'start': False,\n",
       "  'fun': False,\n",
       "  'ye': False,\n",
       "  'even': False,\n",
       "  'yeah': False,\n",
       "  'tonight': False,\n",
       "  'tweet': False,\n",
       "  'gon': False,\n",
       "  'hate': False,\n",
       "  'use': False,\n",
       "  'school': False,\n",
       "  'ani': False,\n",
       "  'first': False,\n",
       "  'die': False,\n",
       "  'ok': False,\n",
       "  'long': False,\n",
       "  'bed': False,\n",
       "  'guy': False,\n",
       "  'plea': False,\n",
       "  'year': False,\n",
       "  'alreadi': False,\n",
       "  'show': False,\n",
       "  'someth': False},\n",
       " False)"
      ]
     },
     "execution_count": 15,
     "metadata": {},
     "output_type": "execute_result"
    }
   ],
   "source": [
    "final_data[0]"
   ]
  },
  {
   "cell_type": "markdown",
   "metadata": {
    "Collapsed": "false"
   },
   "source": [
    "### Building and Traininng Naive Bayes Model\n",
    "\n",
    "In this step you will split your feature set into a training and a test set. Then you will create a Bayes classifier instance using `nltk.NaiveBayesClassifier.train` ([example](https://www.nltk.org/book/ch06.html)) to train with the training dataset.\n",
    "\n",
    "After training the model, call `classifier.show_most_informative_features()` to inspect the most important features. The output will look like:\n",
    "\n",
    "```\n",
    "Most Informative Features\n",
    "\t    snow = True            False : True   =     34.3 : 1.0\n",
    "\t  easter = True            False : True   =     26.2 : 1.0\n",
    "\t headach = True            False : True   =     20.9 : 1.0\n",
    "\t    argh = True            False : True   =     17.6 : 1.0\n",
    "\tunfortun = True            False : True   =     16.9 : 1.0\n",
    "\t    jona = True             True : False  =     16.2 : 1.0\n",
    "\t     ach = True            False : True   =     14.9 : 1.0\n",
    "\t     sad = True            False : True   =     13.0 : 1.0\n",
    "\t  parent = True            False : True   =     12.9 : 1.0\n",
    "\t  spring = True            False : True   =     12.7 : 1.0\n",
    "```\n",
    "\n",
    "The [following video](https://www.youtube.com/watch?v=rISOsUaTrO4) will help you complete this step. The source code in this video can be found [here](https://pythonprogramming.net/naive-bayes-classifier-nltk-tutorial/)."
   ]
  },
  {
   "cell_type": "code",
   "execution_count": 16,
   "metadata": {
    "Collapsed": "false"
   },
   "outputs": [
    {
     "name": "stdout",
     "output_type": "stream",
     "text": [
      "4000\n"
     ]
    }
   ],
   "source": [
    "print(len(final_data))"
   ]
  },
  {
   "cell_type": "code",
   "execution_count": 17,
   "metadata": {
    "Collapsed": "false"
   },
   "outputs": [],
   "source": [
    "# your code here\n",
    "# Shuffle list\n",
    "random.shuffle(final_data)\n",
    "\n",
    "# Split 80/20\n",
    "training_data = final_data[:3200]\n",
    "test_data = final_data[3200:]"
   ]
  },
  {
   "cell_type": "code",
   "execution_count": 18,
   "metadata": {
    "Collapsed": "false"
   },
   "outputs": [],
   "source": [
    "classifier = nltk.NaiveBayesClassifier.train(training_data)"
   ]
  },
  {
   "cell_type": "code",
   "execution_count": 19,
   "metadata": {
    "Collapsed": "false"
   },
   "outputs": [
    {
     "name": "stdout",
     "output_type": "stream",
     "text": [
      "Most Informative Features\n",
      "                     sad = True            False : True   =     31.1 : 1.0\n",
      "                     die = True            False : True   =     17.1 : 1.0\n",
      "                  follow = True             True : False  =      8.0 : 1.0\n",
      "                   thank = True             True : False  =      6.3 : 1.0\n",
      "                    nice = True             True : False  =      5.5 : 1.0\n",
      "                    miss = True            False : True   =      5.4 : 1.0\n",
      "                    hate = True            False : True   =      5.4 : 1.0\n",
      "                     bed = True             True : False  =      4.6 : 1.0\n",
      "                      ok = True             True : False  =      4.2 : 1.0\n",
      "                   night = True             True : False  =      3.9 : 1.0\n"
     ]
    }
   ],
   "source": [
    "classifier.show_most_informative_features(10)"
   ]
  },
  {
   "cell_type": "markdown",
   "metadata": {
    "Collapsed": "false"
   },
   "source": [
    "### Testing Naive Bayes Model\n",
    "\n",
    "Now we'll test our classifier with the test dataset. This is done by calling `nltk.classify.accuracy(classifier, test)`.\n",
    "\n",
    "As mentioned in one of the tutorial videos, a Naive Bayes model is considered OK if your accuracy score is over 0.6. If your accuracy score is over 0.7, you've done a great job!"
   ]
  },
  {
   "cell_type": "code",
   "execution_count": 22,
   "metadata": {
    "Collapsed": "false"
   },
   "outputs": [
    {
     "name": "stdout",
     "output_type": "stream",
     "text": [
      "Accuracy score: 0.7325\n"
     ]
    }
   ],
   "source": [
    "# your code here\n",
    "print(\"Accuracy score:\", nltk.classify.accuracy(classifier, test_data))"
   ]
  }
 ],
 "metadata": {
  "kernelspec": {
   "display_name": "Python 3",
   "language": "python",
   "name": "python3"
  },
  "language_info": {
   "codemirror_mode": {
    "name": "ipython",
    "version": 3
   },
   "file_extension": ".py",
   "mimetype": "text/x-python",
   "name": "python",
   "nbconvert_exporter": "python",
   "pygments_lexer": "ipython3",
   "version": "3.7.6"
  }
 },
 "nbformat": 4,
 "nbformat_minor": 4
}
