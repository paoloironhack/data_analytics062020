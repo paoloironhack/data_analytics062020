{
 "cells": [
  {
   "cell_type": "markdown",
   "metadata": {
    "Collapsed": "false"
   },
   "source": [
    "# Bonus Challenge 1 - T-test\n",
    "\n",
    "In statistics, t-test is used to test if two data samples have a significant difference between their means. There are two types of t-test:\n",
    "\n",
    "* **Student's t-test** (a.k.a. independent or uncorrelated t-test). This type of t-test is to compare the samples of **two independent populations** (e.g. test scores of students in two different classes). `scipy` provides the [`ttest_ind`](https://docs.scipy.org/doc/scipy-0.15.1/reference/generated/scipy.stats.ttest_ind.html) method to conduct student's t-test.\n",
    "\n",
    "* **Paired t-test** (a.k.a. dependent or correlated t-test). This type of t-test is to compare the samples of **the same population** (e.g. scores of different tests of students in the same class). `scipy` provides the [`ttest_rel`](https://docs.scipy.org/doc/scipy-0.15.1/reference/generated/scipy.stats.ttest_rel.html) method to conduct paired t-test.\n",
    "\n",
    "Both types of t-tests return a number which is called the **p-value**. If p-value is below 0.05, we can confidently declare the null-hypothesis is rejected and the difference is significant. If p-value is between 0.05 and 0.1, we may also declare the null-hypothesis is rejected but we are not highly confident. If p-value is above 0.1 we do not reject the null-hypothesis.\n",
    "\n",
    "Read more about the t-test in [this article](http://b.link/test50) and [this Quora](http://b.link/unpaired97). Make sure you understand when to use which type of t-test. "
   ]
  },
  {
   "cell_type": "code",
   "execution_count": 1,
   "metadata": {
    "Collapsed": "false"
   },
   "outputs": [],
   "source": [
    "# Import libraries\n",
    "import pandas as pd;"
   ]
  },
  {
   "cell_type": "markdown",
   "metadata": {
    "Collapsed": "false"
   },
   "source": [
    "#### Import dataset\n",
    "\n",
    "In this challenge we will work on the Pokemon dataset you have used last week. The goal is to test whether different groups of pokemon (e.g. Legendary vs Normal, Generation 1 vs 2, single-type vs dual-type) have different stats (e.g. HP, Attack, Defense, etc)."
   ]
  },
  {
   "cell_type": "code",
   "execution_count": 2,
   "metadata": {
    "Collapsed": "false"
   },
   "outputs": [],
   "source": [
    "# Read the data\n",
    "pokemon = pd.read_csv('./data/Pokemon.csv')"
   ]
  },
  {
   "cell_type": "markdown",
   "metadata": {
    "Collapsed": "false"
   },
   "source": [
    "#### First we want to define a function with which we can test the means of a feature set of two samples. \n",
    "\n",
    "In the next cell you'll see the annotations of the Python function that explains what this function does and its arguments and returned value. This type of annotation is called **docstring** which is a convention used among Python developers. The docstring convention allows developers to write consistent tech documentations for their codes so that others can read. It also allows some websites to automatically parse the docstrings and display user-friendly documentations.\n",
    "\n",
    "Follow the specifications of the docstring and complete the function."
   ]
  },
  {
   "cell_type": "code",
   "execution_count": 3,
   "metadata": {
    "Collapsed": "false"
   },
   "outputs": [],
   "source": [
    "# This is a two-sided test for the null hypothesis that 2 independent \n",
    "# samples have identical average (expected) values. This test assumes \n",
    "# that the populations have identical variances by default.\n",
    "from scipy.stats import ttest_ind"
   ]
  },
  {
   "cell_type": "code",
   "execution_count": 4,
   "metadata": {
    "Collapsed": "false"
   },
   "outputs": [],
   "source": [
    "def t_test_features(s1, s2, features=['HP', 'Attack', 'Defense', 'Sp. Atk', 'Sp. Def', 'Speed', 'Total']):\n",
    "    \"\"\"Test means of a feature set of two samples\n",
    "    \n",
    "    Args:\n",
    "        s1 (dataframe): sample 1\n",
    "        s2 (dataframe): sample 2\n",
    "        features (list): an array of features to test\n",
    "    \n",
    "    Returns:\n",
    "        dict: a dictionary of t-test scores for each feature where the feature name is the key and the p-value is the value\n",
    "    \"\"\"\n",
    "\n",
    "    results = {}\n",
    "    \n",
    "    for feature in features:\n",
    "        results[feature] = ttest_ind(s1[feature], s2[feature], equal_var = False).pvalue\n",
    "    \n",
    "    return results"
   ]
  },
  {
   "cell_type": "markdown",
   "metadata": {
    "Collapsed": "false"
   },
   "source": [
    "#### Using the `t_test_features` function, conduct t-test for Lengendary vs non-Legendary pokemons.\n",
    "\n",
    "*Hint: your output should look like below:*\n",
    "\n",
    "```\n",
    "{'HP': 1.0026911708035284e-13,\n",
    " 'Attack': 2.520372449236646e-16,\n",
    " 'Defense': 4.8269984949193316e-11,\n",
    " 'Sp. Atk': 1.5514614112239812e-21,\n",
    " 'Sp. Def': 2.2949327864052826e-15,\n",
    " 'Speed': 1.049016311882451e-18,\n",
    " 'Total': 9.357954335957446e-47}\n",
    " ```"
   ]
  },
  {
   "cell_type": "code",
   "execution_count": 5,
   "metadata": {
    "Collapsed": "false"
   },
   "outputs": [],
   "source": [
    "# Variables\n",
    "alpha = 0.05\n",
    "\n",
    "# Find legendary and normal pokemon\n",
    "legendary = pokemon[pokemon['Legendary'] == True]\n",
    "normal = pokemon[pokemon['Legendary'] == False]"
   ]
  },
  {
   "cell_type": "code",
   "execution_count": 6,
   "metadata": {
    "Collapsed": "false"
   },
   "outputs": [
    {
     "data": {
      "text/plain": [
       "{'HP': 1.0026911708035284e-13,\n",
       " 'Attack': 2.520372449236646e-16,\n",
       " 'Defense': 4.8269984949193316e-11,\n",
       " 'Sp. Atk': 1.5514614112239812e-21,\n",
       " 'Sp. Def': 2.2949327864052826e-15,\n",
       " 'Speed': 1.049016311882451e-18,\n",
       " 'Total': 9.357954335957446e-47}"
      ]
     },
     "execution_count": 6,
     "metadata": {},
     "output_type": "execute_result"
    }
   ],
   "source": [
    "# T-test Features Function\n",
    "## Ho: legendary pokemon have identical average values to normal pokemon\n",
    "## Ha: legendary pokemon have different average values to normal pokemon\n",
    "test_results = t_test_features(legendary, normal)\n",
    "test_results"
   ]
  },
  {
   "cell_type": "code",
   "execution_count": 7,
   "metadata": {
    "Collapsed": "false",
    "scrolled": true
   },
   "outputs": [
    {
     "name": "stdout",
     "output_type": "stream",
     "text": [
      "->  HP\n",
      "Null hypothesis rejected\n",
      "->  Attack\n",
      "Null hypothesis rejected\n",
      "->  Defense\n",
      "Null hypothesis rejected\n",
      "->  Sp. Atk\n",
      "Null hypothesis rejected\n",
      "->  Sp. Def\n",
      "Null hypothesis rejected\n",
      "->  Speed\n",
      "Null hypothesis rejected\n",
      "->  Total\n",
      "Null hypothesis rejected\n"
     ]
    }
   ],
   "source": [
    "# Can we reject the null hypothesis?\n",
    "for feature in test_results:\n",
    "    p = test_results[feature]\n",
    "    print('-> ', feature)\n",
    "    print(\"Null hypothesis rejected\") if p < alpha else print(\"Null hypothesis can't be rejected\")"
   ]
  },
  {
   "cell_type": "markdown",
   "metadata": {
    "Collapsed": "false"
   },
   "source": [
    "#### From the test results above, what conclusion can you make? Do Legendary and non-Legendary pokemons have significantly different stats on each feature?"
   ]
  },
  {
   "cell_type": "markdown",
   "metadata": {
    "Collapsed": "false"
   },
   "source": [
    "~~~~~\n",
    "Legendary and normal pokemon have significantly different means on each feature.\n",
    "~~~~~"
   ]
  },
  {
   "cell_type": "markdown",
   "metadata": {
    "Collapsed": "false"
   },
   "source": [
    "#### Next, conduct t-test for Generation 1 and Generation 2 pokemons."
   ]
  },
  {
   "cell_type": "code",
   "execution_count": 8,
   "metadata": {
    "Collapsed": "false"
   },
   "outputs": [],
   "source": [
    "# Variables\n",
    "alpha = 0.05\n",
    "\n",
    "# Find generation 1 and generation 2 pokemon\n",
    "gen_one = pokemon[pokemon['Generation'] == 1]\n",
    "gen_two = pokemon[pokemon['Generation'] == 2]"
   ]
  },
  {
   "cell_type": "code",
   "execution_count": 9,
   "metadata": {
    "Collapsed": "false"
   },
   "outputs": [
    {
     "data": {
      "text/plain": [
       "{'HP': 0.14551697834219623,\n",
       " 'Attack': 0.24721958967217725,\n",
       " 'Defense': 0.5677711011725426,\n",
       " 'Sp. Atk': 0.12332165977104394,\n",
       " 'Sp. Def': 0.18829872292645752,\n",
       " 'Speed': 0.00239265937312135,\n",
       " 'Total': 0.5631377907941676}"
      ]
     },
     "execution_count": 9,
     "metadata": {},
     "output_type": "execute_result"
    }
   ],
   "source": [
    "# T-test Features Function\n",
    "## Ho: generation 1 pokemon have identical average values to generation 2 pokemon\n",
    "## Ha: generation 1 pokemon have different average values to generation 2 pokemon\n",
    "test_results = t_test_features(gen_one, gen_two)\n",
    "test_results"
   ]
  },
  {
   "cell_type": "code",
   "execution_count": 10,
   "metadata": {
    "Collapsed": "false"
   },
   "outputs": [
    {
     "name": "stdout",
     "output_type": "stream",
     "text": [
      "->  HP\n",
      "Null hypothesis can't be rejected\n",
      "->  Attack\n",
      "Null hypothesis can't be rejected\n",
      "->  Defense\n",
      "Null hypothesis can't be rejected\n",
      "->  Sp. Atk\n",
      "Null hypothesis can't be rejected\n",
      "->  Sp. Def\n",
      "Null hypothesis can't be rejected\n",
      "->  Speed\n",
      "Null hypothesis rejected\n",
      "->  Total\n",
      "Null hypothesis can't be rejected\n"
     ]
    }
   ],
   "source": [
    "# Can we reject the null hypothesis?\n",
    "for feature in test_results:\n",
    "    p = test_results[feature]\n",
    "    print('-> ', feature)\n",
    "    print(\"Null hypothesis rejected\") if p < alpha else print(\"Null hypothesis can't be rejected\")"
   ]
  },
  {
   "cell_type": "markdown",
   "metadata": {
    "Collapsed": "false"
   },
   "source": [
    "#### What conclusions can you make?"
   ]
  },
  {
   "cell_type": "markdown",
   "metadata": {
    "Collapsed": "false"
   },
   "source": [
    "~~~~~\n",
    "We can't say that generation 1 and generation 2 pokemon have significantly \n",
    "different means on each feature, except for speed.\n",
    "~~~~~"
   ]
  },
  {
   "cell_type": "markdown",
   "metadata": {
    "Collapsed": "false"
   },
   "source": [
    "#### Compare pokemons who have single type vs those having two types."
   ]
  },
  {
   "cell_type": "code",
   "execution_count": 11,
   "metadata": {
    "Collapsed": "false"
   },
   "outputs": [],
   "source": [
    "# Variables\n",
    "alpha = 0.05\n",
    "\n",
    "# Find single-type and two-type pokemon\n",
    "one_type = pokemon[pokemon['Type 2'].isnull()]\n",
    "two_type = pokemon[pokemon['Type 2'].notnull()]"
   ]
  },
  {
   "cell_type": "code",
   "execution_count": 12,
   "metadata": {
    "Collapsed": "false"
   },
   "outputs": [
    {
     "data": {
      "text/plain": [
       "{'HP': 0.11314389855379421,\n",
       " 'Attack': 0.00014932578145948305,\n",
       " 'Defense': 2.7978540411514693e-08,\n",
       " 'Sp. Atk': 0.00013876216585667842,\n",
       " 'Sp. Def': 0.00010730610934512779,\n",
       " 'Speed': 0.02421703281819094,\n",
       " 'Total': 1.1157056505229961e-07}"
      ]
     },
     "execution_count": 12,
     "metadata": {},
     "output_type": "execute_result"
    }
   ],
   "source": [
    "# T-test Features Function\n",
    "## Ho: single-type pokemon have identical average values to two-type 2 pokemon\n",
    "## Ha: single-type pokemon have different average values to two-type 2 pokemon\n",
    "test_results = t_test_features(one_type, two_type)\n",
    "test_results"
   ]
  },
  {
   "cell_type": "code",
   "execution_count": 13,
   "metadata": {
    "Collapsed": "false"
   },
   "outputs": [
    {
     "name": "stdout",
     "output_type": "stream",
     "text": [
      "->  HP\n",
      "Null hypothesis can't be rejected\n",
      "->  Attack\n",
      "Null hypothesis rejected\n",
      "->  Defense\n",
      "Null hypothesis rejected\n",
      "->  Sp. Atk\n",
      "Null hypothesis rejected\n",
      "->  Sp. Def\n",
      "Null hypothesis rejected\n",
      "->  Speed\n",
      "Null hypothesis rejected\n",
      "->  Total\n",
      "Null hypothesis rejected\n"
     ]
    }
   ],
   "source": [
    "# Can we reject the null hypothesis?\n",
    "for feature in test_results:\n",
    "    p = test_results[feature]\n",
    "    print('-> ', feature)\n",
    "    print(\"Null hypothesis rejected\") if p < alpha else print(\"Null hypothesis can't be rejected\")"
   ]
  },
  {
   "cell_type": "markdown",
   "metadata": {
    "Collapsed": "false"
   },
   "source": [
    "#### What conclusions can you make?"
   ]
  },
  {
   "cell_type": "markdown",
   "metadata": {
    "Collapsed": "false"
   },
   "source": [
    "~~~~~\n",
    "Single-type and two-type pokemon have significantly different means on each feature, \n",
    "except for HP, for which we can't reject that they have equal means. \n",
    "~~~~~"
   ]
  },
  {
   "cell_type": "markdown",
   "metadata": {
    "Collapsed": "false"
   },
   "source": [
    "#### Now, we want to compare whether there are significant differences of `Attack` vs `Defense`  and  `Sp. Atk` vs `Sp. Def` of all pokemons. Please write your code below.\n",
    "\n",
    "*Hint: are you comparing different populations or the same population?*"
   ]
  },
  {
   "cell_type": "code",
   "execution_count": 14,
   "metadata": {
    "Collapsed": "false"
   },
   "outputs": [],
   "source": [
    "# We are comparing the same population, so we are going to use the ttest_rel function.\n",
    "# This is a two-sided test for the null hypothesis that 2 related or repeated samples \n",
    "# have identical average (expected) values.\n",
    "from scipy.stats import ttest_rel"
   ]
  },
  {
   "cell_type": "code",
   "execution_count": 15,
   "metadata": {
    "Collapsed": "false"
   },
   "outputs": [],
   "source": [
    "# Variables\n",
    "alpha = 0.05"
   ]
  },
  {
   "cell_type": "code",
   "execution_count": 16,
   "metadata": {
    "Collapsed": "false"
   },
   "outputs": [],
   "source": [
    "# Test on two related samples\n",
    "## Ho: pokemon's defense has identical average values to pokemon's attack\n",
    "## Ha: pokemon's defense has different average values to pokemon's attack\n",
    "att_def_p = ttest_rel(pokemon['Attack'], pokemon['Defense']).pvalue"
   ]
  },
  {
   "cell_type": "code",
   "execution_count": 17,
   "metadata": {
    "Collapsed": "false"
   },
   "outputs": [],
   "source": [
    "## Ho: pokemon's special defense has identical average values to pokemon's special attack\n",
    "## Ha: pokemon's special defense has different average values to pokemon's special attack\n",
    "sp_att_def_p = ttest_rel(pokemon['Sp. Atk'], pokemon['Sp. Def']).pvalue"
   ]
  },
  {
   "cell_type": "code",
   "execution_count": 18,
   "metadata": {
    "Collapsed": "false"
   },
   "outputs": [
    {
     "data": {
      "text/plain": [
       "{'Attack - Defense': 1.7140303479358558e-05,\n",
       " 'Special Attack - Special Defense': 0.3933685997548122}"
      ]
     },
     "execution_count": 18,
     "metadata": {},
     "output_type": "execute_result"
    }
   ],
   "source": [
    "test_results = {'Attack - Defense': att_def_p, 'Special Attack - Special Defense': sp_att_def_p}\n",
    "test_results"
   ]
  },
  {
   "cell_type": "code",
   "execution_count": 19,
   "metadata": {
    "Collapsed": "false"
   },
   "outputs": [
    {
     "name": "stdout",
     "output_type": "stream",
     "text": [
      "->  Attack - Defense\n",
      "Null hypothesis rejected\n",
      "->  Special Attack - Special Defense\n",
      "Null hypothesis can't be rejected\n"
     ]
    }
   ],
   "source": [
    "# Can we reject the null hypothesis?\n",
    "for features in test_results:\n",
    "    p = test_results[features]\n",
    "    print('-> ', features)\n",
    "    print(\"Null hypothesis rejected\") if p < alpha else print(\"Null hypothesis can't be rejected\")"
   ]
  },
  {
   "cell_type": "markdown",
   "metadata": {
    "Collapsed": "false"
   },
   "source": [
    "#### What conclusions can you make?"
   ]
  },
  {
   "cell_type": "markdown",
   "metadata": {
    "Collapsed": "false"
   },
   "source": [
    "~~~~~\n",
    "Pokemon's attack and defense have significantly different means. However, we \n",
    "can't reject that special attack and special defense have equal means.\n",
    "~~~~~"
   ]
  }
 ],
 "metadata": {
  "kernelspec": {
   "display_name": "Python 3",
   "language": "python",
   "name": "python3"
  },
  "language_info": {
   "codemirror_mode": {
    "name": "ipython",
    "version": 3
   },
   "file_extension": ".py",
   "mimetype": "text/x-python",
   "name": "python",
   "nbconvert_exporter": "python",
   "pygments_lexer": "ipython3",
   "version": "3.8.5"
  }
 },
 "nbformat": 4,
 "nbformat_minor": 4
}
