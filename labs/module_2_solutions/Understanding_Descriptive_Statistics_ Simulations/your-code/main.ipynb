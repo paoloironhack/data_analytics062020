{
 "cells": [
  {
   "cell_type": "markdown",
   "metadata": {
    "Collapsed": "false"
   },
   "source": [
    "# Understanding Descriptive Statistics\n",
    "\n",
    "Import the necessary libraries here:"
   ]
  },
  {
   "cell_type": "code",
   "execution_count": 1,
   "metadata": {
    "Collapsed": "false"
   },
   "outputs": [],
   "source": [
    "# Libraries\n",
    "import random\n",
    "import pandas as pd\n",
    "import matplotlib.pyplot as plt"
   ]
  },
  {
   "cell_type": "markdown",
   "metadata": {
    "Collapsed": "false"
   },
   "source": [
    "## Challenge 1\n",
    "#### 1.- Define a function that simulates rolling a dice 10 times. Save the information in a dataframe.\n",
    "**Hint**: you can use the *choices* function from module *random* to help you with the simulation."
   ]
  },
  {
   "cell_type": "code",
   "execution_count": 2,
   "metadata": {
    "Collapsed": "false"
   },
   "outputs": [
    {
     "data": {
      "text/html": [
       "<div>\n",
       "<style scoped>\n",
       "    .dataframe tbody tr th:only-of-type {\n",
       "        vertical-align: middle;\n",
       "    }\n",
       "\n",
       "    .dataframe tbody tr th {\n",
       "        vertical-align: top;\n",
       "    }\n",
       "\n",
       "    .dataframe thead th {\n",
       "        text-align: right;\n",
       "    }\n",
       "</style>\n",
       "<table border=\"1\" class=\"dataframe\">\n",
       "  <thead>\n",
       "    <tr style=\"text-align: right;\">\n",
       "      <th></th>\n",
       "      <th>value</th>\n",
       "    </tr>\n",
       "  </thead>\n",
       "  <tbody>\n",
       "    <tr>\n",
       "      <th>0</th>\n",
       "      <td>6</td>\n",
       "    </tr>\n",
       "    <tr>\n",
       "      <th>1</th>\n",
       "      <td>1</td>\n",
       "    </tr>\n",
       "    <tr>\n",
       "      <th>2</th>\n",
       "      <td>4</td>\n",
       "    </tr>\n",
       "    <tr>\n",
       "      <th>3</th>\n",
       "      <td>6</td>\n",
       "    </tr>\n",
       "    <tr>\n",
       "      <th>4</th>\n",
       "      <td>1</td>\n",
       "    </tr>\n",
       "    <tr>\n",
       "      <th>5</th>\n",
       "      <td>5</td>\n",
       "    </tr>\n",
       "    <tr>\n",
       "      <th>6</th>\n",
       "      <td>1</td>\n",
       "    </tr>\n",
       "    <tr>\n",
       "      <th>7</th>\n",
       "      <td>5</td>\n",
       "    </tr>\n",
       "    <tr>\n",
       "      <th>8</th>\n",
       "      <td>5</td>\n",
       "    </tr>\n",
       "    <tr>\n",
       "      <th>9</th>\n",
       "      <td>2</td>\n",
       "    </tr>\n",
       "  </tbody>\n",
       "</table>\n",
       "</div>"
      ],
      "text/plain": [
       "   value\n",
       "0      6\n",
       "1      1\n",
       "2      4\n",
       "3      6\n",
       "4      1\n",
       "5      5\n",
       "6      1\n",
       "7      5\n",
       "8      5\n",
       "9      2"
      ]
     },
     "execution_count": 2,
     "metadata": {},
     "output_type": "execute_result"
    }
   ],
   "source": [
    "# Variables\n",
    "times = 10\n",
    "column = 'value'\n",
    "\n",
    "# Define a function that simulates rolling a dice 10 times. \n",
    "def roll_the_dice(times):\n",
    "    return random.choices(range(1,7), k=times)\n",
    "\n",
    "# Store the information in a dataframe\n",
    "dice_results = pd.DataFrame({column: roll_the_dice(times)})\n",
    "dice_results"
   ]
  },
  {
   "cell_type": "markdown",
   "metadata": {
    "Collapsed": "false"
   },
   "source": [
    "#### 2.- Plot the results sorted by value."
   ]
  },
  {
   "cell_type": "code",
   "execution_count": 3,
   "metadata": {
    "Collapsed": "false"
   },
   "outputs": [
    {
     "data": {
      "text/html": [
       "<div>\n",
       "<style scoped>\n",
       "    .dataframe tbody tr th:only-of-type {\n",
       "        vertical-align: middle;\n",
       "    }\n",
       "\n",
       "    .dataframe tbody tr th {\n",
       "        vertical-align: top;\n",
       "    }\n",
       "\n",
       "    .dataframe thead th {\n",
       "        text-align: right;\n",
       "    }\n",
       "</style>\n",
       "<table border=\"1\" class=\"dataframe\">\n",
       "  <thead>\n",
       "    <tr style=\"text-align: right;\">\n",
       "      <th></th>\n",
       "      <th>value</th>\n",
       "    </tr>\n",
       "  </thead>\n",
       "  <tbody>\n",
       "    <tr>\n",
       "      <th>1</th>\n",
       "      <td>1</td>\n",
       "    </tr>\n",
       "    <tr>\n",
       "      <th>4</th>\n",
       "      <td>1</td>\n",
       "    </tr>\n",
       "    <tr>\n",
       "      <th>6</th>\n",
       "      <td>1</td>\n",
       "    </tr>\n",
       "    <tr>\n",
       "      <th>9</th>\n",
       "      <td>2</td>\n",
       "    </tr>\n",
       "    <tr>\n",
       "      <th>2</th>\n",
       "      <td>4</td>\n",
       "    </tr>\n",
       "    <tr>\n",
       "      <th>5</th>\n",
       "      <td>5</td>\n",
       "    </tr>\n",
       "    <tr>\n",
       "      <th>7</th>\n",
       "      <td>5</td>\n",
       "    </tr>\n",
       "    <tr>\n",
       "      <th>8</th>\n",
       "      <td>5</td>\n",
       "    </tr>\n",
       "    <tr>\n",
       "      <th>0</th>\n",
       "      <td>6</td>\n",
       "    </tr>\n",
       "    <tr>\n",
       "      <th>3</th>\n",
       "      <td>6</td>\n",
       "    </tr>\n",
       "  </tbody>\n",
       "</table>\n",
       "</div>"
      ],
      "text/plain": [
       "   value\n",
       "1      1\n",
       "4      1\n",
       "6      1\n",
       "9      2\n",
       "2      4\n",
       "5      5\n",
       "7      5\n",
       "8      5\n",
       "0      6\n",
       "3      6"
      ]
     },
     "execution_count": 3,
     "metadata": {},
     "output_type": "execute_result"
    }
   ],
   "source": [
    "# Sort the results by value\n",
    "sorted_dice_results = dice_results.sort_values(column)\n",
    "sorted_dice_results"
   ]
  },
  {
   "cell_type": "code",
   "execution_count": 4,
   "metadata": {
    "Collapsed": "false"
   },
   "outputs": [
    {
     "data": {
      "image/png": "[encoded data removed]",
      "text/plain": [
       "<Figure size 432x288 with 1 Axes>"
      ]
     },
     "metadata": {
      "needs_background": "light"
     },
     "output_type": "display_data"
    }
   ],
   "source": [
    "# Plot the sorted values.\n",
    "sorted_dice_results[column].plot(kind='bar', legend=None, rot=0)\n",
    "plt.xlabel('Roll Index')\n",
    "plt.ylabel('Dice Value')\n",
    "plt.title('Sorted dice value per roll')\n",
    "plt.show()"
   ]
  },
  {
   "cell_type": "markdown",
   "metadata": {
    "Collapsed": "false"
   },
   "source": [
    "#### 3.- Calculate the frequency distribution and plot it. What is the relation between this plot and the plot above? Describe it with words."
   ]
  },
  {
   "cell_type": "code",
   "execution_count": 5,
   "metadata": {
    "Collapsed": "false"
   },
   "outputs": [
    {
     "data": {
      "text/plain": [
       "1    3\n",
       "2    1\n",
       "4    1\n",
       "5    3\n",
       "6    2\n",
       "Name: value, dtype: int64"
      ]
     },
     "execution_count": 5,
     "metadata": {},
     "output_type": "execute_result"
    }
   ],
   "source": [
    "# Calculate the frequency distribution\n",
    "frequency = sorted_dice_results[column].value_counts(sort=False)\n",
    "frequency"
   ]
  },
  {
   "cell_type": "code",
   "execution_count": 6,
   "metadata": {
    "Collapsed": "false"
   },
   "outputs": [
    {
     "data": {
      "image/png": "[encoded data removed]",
      "text/plain": [
       "<Figure size 432x288 with 1 Axes>"
      ]
     },
     "metadata": {
      "needs_background": "light"
     },
     "output_type": "display_data"
    }
   ],
   "source": [
    "# Frequency distribution plot\n",
    "bins = [n + 0.5 for n in range(0,7)]\n",
    "dice_results.hist(bins=bins, grid=False)\n",
    "plt.xlabel('Dice Value')\n",
    "plt.ylabel('Value Count')\n",
    "plt.title('Frequency Distribution')\n",
    "plt.show()"
   ]
  },
  {
   "cell_type": "markdown",
   "metadata": {
    "Collapsed": "false"
   },
   "source": [
    "**```Comments```**\n",
    "\n",
    "Both plots show how many times a number has been rolled. \n",
    "The frequency distribution uses the dice values as x-axis. \n",
    "The height of the bar indicates how many times that particular value has appeared in the 10 rolls. \n",
    "However, the first plot uses the roll index sorted by dice value as x-axis. \n",
    "The height of each bar indicates the dice value for that particular roll. If we count the bars at each height,\n",
    "we get the number of times that a dice value has appeared in the 10 rolls. "
   ]
  },
  {
   "cell_type": "markdown",
   "metadata": {
    "Collapsed": "false"
   },
   "source": [
    "## Challenge 2\n",
    "Now, using the dice results obtained in *challenge 1*, you are going to define some functions that will help you calculate the mean of your data in two different ways, the median and the four quartiles. \n",
    "\n",
    "#### 1.- Define a function that computes the mean by summing all the observations and dividing by the total number of observations. You are not allowed to use any methods or functions that directly calculate the mean value. "
   ]
  },
  {
   "cell_type": "code",
   "execution_count": 7,
   "metadata": {
    "Collapsed": "false"
   },
   "outputs": [
    {
     "name": "stdout",
     "output_type": "stream",
     "text": [
      "- Computed mean: 3.6\n",
      "- True mean: 3.6\n"
     ]
    }
   ],
   "source": [
    "def mean_calculation_method_one(df, column):\n",
    "    return float(df[column].sum() / len(df[column]))\n",
    "\n",
    "# Test\n",
    "print(f\"- Computed mean: {mean_calculation_method_one(dice_results, column)}\")\n",
    "print(f\"- True mean: {dice_results.mean()[column]}\")"
   ]
  },
  {
   "cell_type": "markdown",
   "metadata": {
    "Collapsed": "false"
   },
   "source": [
    "#### 2.- First, calculate the frequency distribution. Then, calculate the mean using the values of the frequency distribution you've just computed. You are not allowed to use any methods or functions that directly calculate the mean value. "
   ]
  },
  {
   "cell_type": "code",
   "execution_count": 8,
   "metadata": {
    "Collapsed": "false"
   },
   "outputs": [
    {
     "name": "stdout",
     "output_type": "stream",
     "text": [
      "- Computed mean: 3.6\n",
      "- True mean: 3.6\n"
     ]
    }
   ],
   "source": [
    "def mean_calculation_method_two(df, column):\n",
    "    values_df = df[column].value_counts()\n",
    "    frequency = values_df.values\n",
    "    dice_value = values_df.index\n",
    "    return float(sum(dice_value * frequency) / len(df[column]))\n",
    "\n",
    "# Test\n",
    "print(f\"- Computed mean: {mean_calculation_method_two(dice_results, column)}\")\n",
    "print(f\"- True mean: {dice_results.mean()[column]}\")"
   ]
  },
  {
   "cell_type": "markdown",
   "metadata": {
    "Collapsed": "false"
   },
   "source": [
    "#### 3.- Define a function to calculate the median. You are not allowed to use any methods or functions that directly calculate the median value. \n",
    "**Hint**: you might need to define two computation cases depending on the number of observations used to calculate the median."
   ]
  },
  {
   "cell_type": "code",
   "execution_count": 9,
   "metadata": {
    "Collapsed": "false"
   },
   "outputs": [
    {
     "name": "stdout",
     "output_type": "stream",
     "text": [
      "- Computed median: 4.5\n",
      "- True median: 4.5\n"
     ]
    }
   ],
   "source": [
    "def median_calculation(df, column):\n",
    "    df = df.sort_values(column)\n",
    "    df = df.reset_index(drop=True)\n",
    "    n_elem = len(df[column])\n",
    "    index = n_elem // 2\n",
    "    if not n_elem % 2:\n",
    "        first_element = df[column][index - 1]\n",
    "        second_element = df[column][index]\n",
    "        return float((first_element + second_element) / 2)\n",
    "    return float(df[column][index])\n",
    "\n",
    "# Test\n",
    "print(f\"- Computed median: {median_calculation(dice_results, column)}\")\n",
    "print(f\"- True median: {dice_results.median()[column]}\")"
   ]
  },
  {
   "cell_type": "markdown",
   "metadata": {
    "Collapsed": "false"
   },
   "source": [
    "#### 4.- Define a function to calculate the four quartiles. You can use the function you defined above to compute the median but you are not allowed to use any methods or functions that directly calculate the quartiles. "
   ]
  },
  {
   "cell_type": "code",
   "execution_count": 10,
   "metadata": {
    "Collapsed": "false"
   },
   "outputs": [],
   "source": [
    "# There are many ways to compute the quartiles: https://en.wikipedia.org/wiki/Quartile\n",
    "# We are creating a function in which you can decide which of the 3 methods defined in Wikipedia to use.\n",
    "\n",
    "def quartiles_calculation(df, column, method):\n",
    "    Q2 = median_calculation(df, column)\n",
    "    Q4 = float(max(df[column]))\n",
    "    n_elem = len(df[column])\n",
    "    index = n_elem // 2\n",
    "    if not n_elem % 2:\n",
    "        lower_df = df.iloc[0:index]\n",
    "        upper_df = df.iloc[index:]\n",
    "    else:\n",
    "        if method == 1:\n",
    "            lower_df = df.iloc[0:index]\n",
    "            upper_df = df.iloc[index+1:]\n",
    "        elif method == 2:\n",
    "            lower_df = df.iloc[0:index+1]\n",
    "            upper_df = df.iloc[index:]\n",
    "        elif method == 3:\n",
    "            Q1, Q3 = method_three_odd_data(df, column, n_elem)\n",
    "            return Q1, Q2, Q3, Q4\n",
    "    Q1 = median_calculation(lower_df, column)\n",
    "    Q3 = median_calculation(upper_df, column)\n",
    "    return Q1, Q2, Q3, Q4\n",
    "\n",
    "def method_three_odd_data(df, column, n_elem):\n",
    "    n_case_1 = (n_elem - 1) / 4\n",
    "    if not n_case_1 % 1:\n",
    "        n_case_1 = int(n_case_1)\n",
    "        Q1 = (0.25 * df.iloc[n_case_1-1] + 0.75 * df.iloc[n_case_1])[column]\n",
    "        Q3 = (0.25 * df.iloc[3*n_case_1+1] + 0.75 * df.iloc[3*n_case_1])[column]\n",
    "    else:\n",
    "        n_case_2 = int((n_elem - 3) / 4)\n",
    "        Q1 = (0.25 * df.iloc[n_case_2+1] + 0.75 * df.iloc[n_case_2])[column]\n",
    "        Q3 = (0.25 * df.iloc[3*n_case_2+1] + 0.75 * df.iloc[3*n_case_2+2])[column]\n",
    "    return Q1, Q3"
   ]
  },
  {
   "cell_type": "code",
   "execution_count": 11,
   "metadata": {
    "Collapsed": "false"
   },
   "outputs": [
    {
     "data": {
      "text/html": [
       "<div>\n",
       "<style scoped>\n",
       "    .dataframe tbody tr th:only-of-type {\n",
       "        vertical-align: middle;\n",
       "    }\n",
       "\n",
       "    .dataframe tbody tr th {\n",
       "        vertical-align: top;\n",
       "    }\n",
       "\n",
       "    .dataframe thead th {\n",
       "        text-align: right;\n",
       "    }\n",
       "</style>\n",
       "<table border=\"1\" class=\"dataframe\">\n",
       "  <thead>\n",
       "    <tr style=\"text-align: right;\">\n",
       "      <th></th>\n",
       "      <th>method 1</th>\n",
       "      <th>method 2</th>\n",
       "      <th>method 3</th>\n",
       "      <th>nearest</th>\n",
       "      <th>midpoint</th>\n",
       "    </tr>\n",
       "  </thead>\n",
       "  <tbody>\n",
       "    <tr>\n",
       "      <th>Q1</th>\n",
       "      <td>1.0</td>\n",
       "      <td>1.0</td>\n",
       "      <td>1.0</td>\n",
       "      <td>1.0</td>\n",
       "      <td>1.5</td>\n",
       "    </tr>\n",
       "    <tr>\n",
       "      <th>Q2</th>\n",
       "      <td>4.5</td>\n",
       "      <td>4.5</td>\n",
       "      <td>4.5</td>\n",
       "      <td>4.0</td>\n",
       "      <td>4.5</td>\n",
       "    </tr>\n",
       "    <tr>\n",
       "      <th>Q3</th>\n",
       "      <td>5.0</td>\n",
       "      <td>5.0</td>\n",
       "      <td>5.0</td>\n",
       "      <td>5.0</td>\n",
       "      <td>5.0</td>\n",
       "    </tr>\n",
       "    <tr>\n",
       "      <th>Q4</th>\n",
       "      <td>6.0</td>\n",
       "      <td>6.0</td>\n",
       "      <td>6.0</td>\n",
       "      <td>6.0</td>\n",
       "      <td>6.0</td>\n",
       "    </tr>\n",
       "  </tbody>\n",
       "</table>\n",
       "</div>"
      ],
      "text/plain": [
       "    method 1  method 2  method 3  nearest  midpoint\n",
       "Q1       1.0       1.0       1.0      1.0       1.5\n",
       "Q2       4.5       4.5       4.5      4.0       4.5\n",
       "Q3       5.0       5.0       5.0      5.0       5.0\n",
       "Q4       6.0       6.0       6.0      6.0       6.0"
      ]
     },
     "execution_count": 11,
     "metadata": {},
     "output_type": "execute_result"
    }
   ],
   "source": [
    "# Comparison between our calculations and pandas results using the quantile method \n",
    "# and different types of interpolation\n",
    "\n",
    "results = {}\n",
    "our_methods = ['method 1', 'method 2', 'method 3']\n",
    "pandas_methods = ['nearest', 'midpoint']\n",
    "\n",
    "for index, method in enumerate(our_methods):\n",
    "    results[method] = quartiles_calculation(sorted_dice_results, column, index + 1)\n",
    "\n",
    "for method in pandas_methods:\n",
    "    results[method] = sorted_dice_results.quantile([0.25, 0.5, 0.75, 1], interpolation=method)[column].astype('float')\n",
    "\n",
    "results_df = pd.DataFrame(results)\n",
    "results_df.index = ['Q1', 'Q2', 'Q3', 'Q4']\n",
    "results_df"
   ]
  },
  {
   "cell_type": "markdown",
   "metadata": {
    "Collapsed": "false"
   },
   "source": [
    "## Challenge 3\n",
    "Read the csv `roll_the_dice_hundred.csv` from the `data` folder.\n",
    "#### 1.- Sort the values and plot them. What do you see?"
   ]
  },
  {
   "cell_type": "code",
   "execution_count": 12,
   "metadata": {
    "Collapsed": "false"
   },
   "outputs": [
    {
     "data": {
      "image/png": "[encoded data removed]",
      "text/plain": [
       "<Figure size 432x288 with 1 Axes>"
      ]
     },
     "metadata": {
      "needs_background": "light"
     },
     "output_type": "display_data"
    }
   ],
   "source": [
    "# Read the csv\n",
    "roll_the_dice_hundred = pd.read_csv('../data/roll_the_dice_hundred.csv', usecols=[1,2], index_col=0)\n",
    "\n",
    "# Sort the values\n",
    "sorted_roll_the_dice_hundred = roll_the_dice_hundred.sort_values(column)\n",
    "\n",
    "# Plot the sorted values\n",
    "sorted_roll_the_dice_hundred[column].plot(kind='bar', legend=None, rot=0)\n",
    "plt.xticks([])\n",
    "plt.xlabel('Roll Index')\n",
    "plt.ylabel('Dice Value')\n",
    "plt.title('Sorted dice value per roll')\n",
    "plt.show()"
   ]
  },
  {
   "cell_type": "markdown",
   "metadata": {
    "Collapsed": "false"
   },
   "source": [
    "**```Comments```**\n",
    "\n",
    "We can see if a number was rolled more times than another one."
   ]
  },
  {
   "cell_type": "markdown",
   "metadata": {
    "Collapsed": "false"
   },
   "source": [
    "#### 2.- Using the functions you defined in *challenge 2*, calculate the mean value of the hundred dice rolls."
   ]
  },
  {
   "cell_type": "code",
   "execution_count": 13,
   "metadata": {
    "Collapsed": "false"
   },
   "outputs": [
    {
     "name": "stdout",
     "output_type": "stream",
     "text": [
      "Mean Method 1: 3.74\n",
      "Mean Method 2: 3.74\n"
     ]
    }
   ],
   "source": [
    "df = roll_the_dice_hundred\n",
    "print(f\"Mean Method 1: {mean_calculation_method_one(df, column)}\")\n",
    "print(f\"Mean Method 2: {mean_calculation_method_two(df, column)}\")"
   ]
  },
  {
   "cell_type": "markdown",
   "metadata": {
    "Collapsed": "false"
   },
   "source": [
    "#### 3.- Now, calculate the frequency distribution.\n"
   ]
  },
  {
   "cell_type": "code",
   "execution_count": 14,
   "metadata": {
    "Collapsed": "false"
   },
   "outputs": [
    {
     "data": {
      "text/plain": [
       "1    12\n",
       "2    17\n",
       "3    14\n",
       "4    22\n",
       "5    12\n",
       "6    23\n",
       "Name: value, dtype: int64"
      ]
     },
     "execution_count": 14,
     "metadata": {},
     "output_type": "execute_result"
    }
   ],
   "source": [
    "# Calculate the frequency distribution\n",
    "frequency = roll_the_dice_hundred[column].value_counts(sort=False)\n",
    "frequency"
   ]
  },
  {
   "cell_type": "markdown",
   "metadata": {
    "Collapsed": "false"
   },
   "source": [
    "#### 4.- Plot the histogram. What do you see (shape, values...) ? How can you connect the mean value to the histogram? "
   ]
  },
  {
   "cell_type": "code",
   "execution_count": 15,
   "metadata": {
    "Collapsed": "false"
   },
   "outputs": [
    {
     "data": {
      "image/png": "[encoded data removed]",
      "text/plain": [
       "<Figure size 432x288 with 1 Axes>"
      ]
     },
     "metadata": {
      "needs_background": "light"
     },
     "output_type": "display_data"
    }
   ],
   "source": [
    "# Frequency distribution plot\n",
    "bins = [n + 0.5 for n in range(0,7)]\n",
    "roll_the_dice_hundred[column].hist(bins=bins, grid=False)\n",
    "plt.xlabel('Dice Value')\n",
    "plt.ylabel('Value Count')\n",
    "plt.title('Frequency Distribution ')\n",
    "plt.show()"
   ]
  },
  {
   "cell_type": "markdown",
   "metadata": {
    "Collapsed": "false"
   },
   "source": [
    "**```Comments```**\n",
    "\n",
    "We know that the probability of rolling each number is the same (1/6), so the frequency of each value should be similar (unless the dice is rigged). We expect to see a uniform frequency distribution as the number of observations in our sample increases. The population mean value of a discrete uniform distribution is:\n",
    "\n",
    "$\\mu = \\frac{a+b}{2}$\n",
    "\n",
    "In our case, this value is:\n",
    "\n",
    "$\\mu = \\frac{a+b}{2} = \\frac{1+6}{2} = 3.5$\n",
    "\n",
    "However, we can see that the distribution of our sample is not uniform at all. The most repeated dice values in the sample are 4 and 6. For that reason, we expect the sample mean value to be higher than the theoretical one and in fact, it is:\n",
    "\n",
    "$3.74 \\gt 3.5$  "
   ]
  },
  {
   "cell_type": "markdown",
   "metadata": {
    "Collapsed": "false"
   },
   "source": [
    "#### 5.- Read the `roll_the_dice_thousand.csv` from the `data` folder. Plot the frequency distribution as you did before. Has anything changed? Why do you think it changed?"
   ]
  },
  {
   "cell_type": "code",
   "execution_count": 16,
   "metadata": {
    "Collapsed": "false"
   },
   "outputs": [
    {
     "data": {
      "image/png": "[encoded data removed]",
      "text/plain": [
       "<Figure size 432x288 with 1 Axes>"
      ]
     },
     "metadata": {
      "needs_background": "light"
     },
     "output_type": "display_data"
    }
   ],
   "source": [
    "# Read the csv.\n",
    "roll_the_dice_thousand = pd.read_csv('../data/roll_the_dice_thousand.csv', usecols=[1,2], index_col=0)\n",
    "\n",
    "# Calculate the frequency distribution\n",
    "bins = [n + 0.5 for n in range(0,7)]\n",
    "roll_the_dice_thousand[column].hist(bins=bins, grid=False)\n",
    "plt.xlabel('Dice Value')\n",
    "plt.ylabel('Value Count')\n",
    "plt.title('Frequency Distribution')\n",
    "plt.show()"
   ]
  },
  {
   "cell_type": "markdown",
   "metadata": {
    "Collapsed": "false"
   },
   "source": [
    "**```Comments```**\n",
    "\n",
    "As commented above, we expect the population to have a discrete uniform distribution. The sample we used before had ten times less observations than the one we are using now. The bigger the sample is, the better it will approximate the behaviour of the population. For that reason, the last plot looks a lot more like the distribution we expect to see. \n",
    "\n",
    "If we compute the mean value using the present sample, it will surely be a more accurate estimation of the population mean. Let's check:"
   ]
  },
  {
   "cell_type": "code",
   "execution_count": 17,
   "metadata": {
    "Collapsed": "false"
   },
   "outputs": [
    {
     "name": "stdout",
     "output_type": "stream",
     "text": [
      "Mean Method 1: 3.447\n",
      "Mean Method 2: 3.447\n"
     ]
    }
   ],
   "source": [
    "df = roll_the_dice_thousand\n",
    "print(f\"Mean Method 1: {mean_calculation_method_one(df, column)}\")\n",
    "print(f\"Mean Method 2: {mean_calculation_method_two(df, column)}\")"
   ]
  },
  {
   "cell_type": "markdown",
   "metadata": {
    "Collapsed": "false"
   },
   "source": [
    "## Challenge 4\n",
    "In the `data` folder of this repository you will find three different files with the prefix `ages_population`. These files contain information about a poll answered by a thousand people regarding their age. Each file corresponds to the poll answers in different neighbourhoods of Barcelona.\n",
    "\n",
    "#### 1.- Read the file `ages_population.csv`. Calculate the frequency distribution and plot it as we did during the lesson. Try to guess the range in which the mean and the standard deviation will be by looking at the plot. "
   ]
  },
  {
   "cell_type": "code",
   "execution_count": 18,
   "metadata": {
    "Collapsed": "false"
   },
   "outputs": [],
   "source": [
    "# Read the csv\n",
    "ages_population = pd.read_csv('../data/ages_population.csv')"
   ]
  },
  {
   "cell_type": "code",
   "execution_count": 19,
   "metadata": {
    "Collapsed": "false"
   },
   "outputs": [
    {
     "data": {
      "text/plain": [
       "39.0    45\n",
       "41.0    36\n",
       "30.0    34\n",
       "35.0    33\n",
       "43.0    32\n",
       "        ..\n",
       "70.0     1\n",
       "71.0     1\n",
       "7.0      1\n",
       "69.0     1\n",
       "73.0     1\n",
       "Name: observation, Length: 72, dtype: int64"
      ]
     },
     "execution_count": 19,
     "metadata": {},
     "output_type": "execute_result"
    }
   ],
   "source": [
    "# Calculate the frequency distribution\n",
    "column = 'observation'\n",
    "frequency = ages_population[column].value_counts()\n",
    "frequency"
   ]
  },
  {
   "cell_type": "code",
   "execution_count": 20,
   "metadata": {
    "Collapsed": "false"
   },
   "outputs": [
    {
     "data": {
      "image/png": "[encoded data removed]",
      "text/plain": [
       "<Figure size 432x288 with 1 Axes>"
      ]
     },
     "metadata": {
      "needs_background": "light"
     },
     "output_type": "display_data"
    }
   ],
   "source": [
    "# Frequency distribution plot\n",
    "max_range = int(ages_population[column].max()) + 1\n",
    "min_range = int(ages_population[column].min())\n",
    "bins = [n + 0.5 for n in range(min_range, max_range)]\n",
    "ages_population[column].hist(bins=bins, grid=False)\n",
    "plt.xlabel('Age')\n",
    "plt.ylabel('Count')\n",
    "plt.title('Frequency Distribution')\n",
    "plt.show()"
   ]
  },
  {
   "cell_type": "markdown",
   "metadata": {
    "Collapsed": "false"
   },
   "source": [
    "**`Comments`**\n",
    "\n",
    "As the distribution looks normal, the mean should be around $35\\pm5$ years and the standard deviation should be around $10\\pm5$ years."
   ]
  },
  {
   "cell_type": "markdown",
   "metadata": {
    "Collapsed": "false"
   },
   "source": [
    "#### 2.- Calculate the exact mean and standard deviation and compare them with your guesses. Do they fall inside the ranges you guessed?"
   ]
  },
  {
   "cell_type": "code",
   "execution_count": 21,
   "metadata": {
    "Collapsed": "false"
   },
   "outputs": [
    {
     "data": {
      "text/plain": [
       "count    1000.0000\n",
       "mean       36.5600\n",
       "std        12.8165\n",
       "min         1.0000\n",
       "25%        28.0000\n",
       "50%        37.0000\n",
       "75%        45.0000\n",
       "max        82.0000\n",
       "Name: observation, dtype: float64"
      ]
     },
     "execution_count": 21,
     "metadata": {},
     "output_type": "execute_result"
    }
   ],
   "source": [
    "ages_population[column].describe()"
   ]
  },
  {
   "cell_type": "markdown",
   "metadata": {
    "Collapsed": "false"
   },
   "source": [
    "**`Comments`**\n",
    "\n",
    "Yes, the exact results are inside the expected range."
   ]
  },
  {
   "cell_type": "markdown",
   "metadata": {
    "Collapsed": "false"
   },
   "source": [
    "#### 3.- Now read the file `ages_population2.csv` . Calculate the frequency distribution and plot it."
   ]
  },
  {
   "cell_type": "code",
   "execution_count": 22,
   "metadata": {
    "Collapsed": "false"
   },
   "outputs": [],
   "source": [
    "# Read the csv\n",
    "ages_population_2 = pd.read_csv('../data/ages_population2.csv')"
   ]
  },
  {
   "cell_type": "code",
   "execution_count": 23,
   "metadata": {
    "Collapsed": "false"
   },
   "outputs": [
    {
     "data": {
      "text/plain": [
       "28.0    139\n",
       "27.0    125\n",
       "26.0    120\n",
       "29.0    115\n",
       "25.0     98\n",
       "30.0     90\n",
       "24.0     78\n",
       "31.0     61\n",
       "23.0     41\n",
       "22.0     35\n",
       "32.0     31\n",
       "33.0     22\n",
       "21.0     17\n",
       "20.0     13\n",
       "34.0      7\n",
       "35.0      3\n",
       "19.0      3\n",
       "36.0      2\n",
       "Name: observation, dtype: int64"
      ]
     },
     "execution_count": 23,
     "metadata": {},
     "output_type": "execute_result"
    }
   ],
   "source": [
    "# Calculate the frequency distribution\n",
    "frequency = ages_population_2[column].value_counts()\n",
    "frequency"
   ]
  },
  {
   "cell_type": "code",
   "execution_count": 24,
   "metadata": {
    "Collapsed": "false"
   },
   "outputs": [
    {
     "data": {
      "image/png": "[encoded data removed]",
      "text/plain": [
       "<Figure size 432x288 with 1 Axes>"
      ]
     },
     "metadata": {
      "needs_background": "light"
     },
     "output_type": "display_data"
    }
   ],
   "source": [
    "# Frequency distribution plot\n",
    "max_range = int(ages_population_2[column].max()) + 1\n",
    "min_range = int(ages_population_2[column].min())\n",
    "bins = [n + 0.5 for n in range(min_range, max_range)]\n",
    "ages_population_2[column].hist(bins=bins, grid=False)\n",
    "plt.xlabel('Age')\n",
    "plt.ylabel('Count')\n",
    "plt.title('Frequency Distribution')\n",
    "plt.show()"
   ]
  },
  {
   "cell_type": "markdown",
   "metadata": {
    "Collapsed": "false"
   },
   "source": [
    "####  4.- What do you see? Is there any difference with the frequency distribution in step 1?"
   ]
  },
  {
   "cell_type": "markdown",
   "metadata": {
    "Collapsed": "false"
   },
   "source": [
    "**`Comments`**\n",
    "\n",
    "This distribution looks normal. It seems that this particular neighbourhood is populated by young people, as we can see that the age range does not include children, teenagers and people older than 40 years old.   \n",
    "\n",
    "This time the mean value should be around $27\\pm 2.5$ years and the standard deviation around $2\\pm1$ years.\n",
    "\n",
    "As opposed to the present distribution, the distribution in step 1 includes a wider range of ages with observations that include from babies to old people. So now we expect to observe a lower mean in the present distribution, as it only includes young people, and a lower standard deviation, as the age range is narrower."
   ]
  },
  {
   "cell_type": "markdown",
   "metadata": {
    "Collapsed": "false"
   },
   "source": [
    "#### 5.- Calculate the mean and standard deviation. Compare the results with the mean and standard deviation in step 2. What do you think?"
   ]
  },
  {
   "cell_type": "code",
   "execution_count": 25,
   "metadata": {
    "Collapsed": "false"
   },
   "outputs": [
    {
     "data": {
      "text/plain": [
       "count    1000.000000\n",
       "mean       27.155000\n",
       "std         2.969814\n",
       "min        19.000000\n",
       "25%        25.000000\n",
       "50%        27.000000\n",
       "75%        29.000000\n",
       "max        36.000000\n",
       "Name: observation, dtype: float64"
      ]
     },
     "execution_count": 25,
     "metadata": {},
     "output_type": "execute_result"
    }
   ],
   "source": [
    "ages_population_2[column].describe()"
   ]
  },
  {
   "cell_type": "markdown",
   "metadata": {
    "Collapsed": "false"
   },
   "source": [
    "**`Comments`**\n",
    "\n",
    "As commented above, we expect to observe a lower mean and standard deviation in the present distribution than in step 2, as now we only have observations of young people and the age range is narrower.\n",
    "\n",
    "The exact results are inside the expected range."
   ]
  },
  {
   "cell_type": "markdown",
   "metadata": {
    "Collapsed": "false"
   },
   "source": [
    "## Challenge 5\n",
    "Now is the turn of `ages_population3.csv`.\n",
    "\n",
    "#### 1.- Read the file `ages_population3.csv`. Calculate the frequency distribution and plot it."
   ]
  },
  {
   "cell_type": "code",
   "execution_count": 26,
   "metadata": {
    "Collapsed": "false"
   },
   "outputs": [],
   "source": [
    "# Read the csv\n",
    "ages_population_3 = pd.read_csv('../data/ages_population3.csv')"
   ]
  },
  {
   "cell_type": "code",
   "execution_count": 27,
   "metadata": {
    "Collapsed": "false"
   },
   "outputs": [
    {
     "data": {
      "text/plain": [
       "32.0    37\n",
       "35.0    31\n",
       "37.0    31\n",
       "39.0    29\n",
       "36.0    26\n",
       "        ..\n",
       "76.0     1\n",
       "9.0      1\n",
       "1.0      1\n",
       "5.0      1\n",
       "7.0      1\n",
       "Name: observation, Length: 75, dtype: int64"
      ]
     },
     "execution_count": 27,
     "metadata": {},
     "output_type": "execute_result"
    }
   ],
   "source": [
    "# Calculate the frequency distribution\n",
    "frequency = ages_population_3[column].value_counts()\n",
    "frequency"
   ]
  },
  {
   "cell_type": "code",
   "execution_count": 28,
   "metadata": {
    "Collapsed": "false"
   },
   "outputs": [
    {
     "data": {
      "image/png": "[encoded data removed]",
      "text/plain": [
       "<Figure size 432x288 with 1 Axes>"
      ]
     },
     "metadata": {
      "needs_background": "light"
     },
     "output_type": "display_data"
    }
   ],
   "source": [
    "# Frequency distribution plot\n",
    "max_range = int(ages_population_3[column].max()) + 1\n",
    "min_range = int(ages_population_3[column].min())\n",
    "bins = [n + 0.5 for n in range(min_range, max_range)]\n",
    "ages_population_3[column].hist(bins=bins, grid=False)\n",
    "plt.xlabel('Age')\n",
    "plt.ylabel('Count')\n",
    "plt.title('Frequency Distribution')\n",
    "plt.show()"
   ]
  },
  {
   "cell_type": "markdown",
   "metadata": {
    "Collapsed": "false"
   },
   "source": [
    "#### 2.- Calculate the mean and standard deviation. Compare the results with the plot in step 1. What is happening?"
   ]
  },
  {
   "cell_type": "code",
   "execution_count": 29,
   "metadata": {
    "Collapsed": "false"
   },
   "outputs": [
    {
     "data": {
      "text/plain": [
       "count    1000.000000\n",
       "mean       41.989000\n",
       "std        16.144706\n",
       "min         1.000000\n",
       "25%        30.000000\n",
       "50%        40.000000\n",
       "75%        53.000000\n",
       "max        77.000000\n",
       "Name: observation, dtype: float64"
      ]
     },
     "execution_count": 29,
     "metadata": {},
     "output_type": "execute_result"
    }
   ],
   "source": [
    "ages_population_3[column].describe()"
   ]
  },
  {
   "cell_type": "markdown",
   "metadata": {
    "Collapsed": "false"
   },
   "source": [
    "**`Comments`**\n",
    "\n",
    "The frequency distribution looks like a bimodal normal distribution, which means that it is the sum of two normal distributions, in this case, with different means and standard deviations.  \n",
    "\n",
    "The first normal is approximately centered at 37 and the second one at 68. In addition, the first normal has a wider age range than the second one, so it has a greater standard deviation. \n",
    "\n",
    "When computing the mean and standard deviation of the bimodal distribution, the first normal will have more weight on the calculations as it is formed by more observations than the second normal. Then, we expect the mean and standard deviation of the bimodal distribution to be similar or close to the mean and standard deviation of the first normal. \n",
    "\n",
    "However, the second normal will increase the expected mean and standard deviation values. Why? \n",
    "\n",
    "Because the observations of the second normal all belong to a narrower range of higher age values. For that reason, the bimodal distribution will have a higher mean value (41.98) than the first normal mean (37). \n",
    "Regarding the standard deviation, it measures how close the observations are to the mean (dispersion). The values of the second normal are all far from the bimodal mean value, which will make the dispersion of data higher. "
   ]
  },
  {
   "cell_type": "markdown",
   "metadata": {
    "Collapsed": "false"
   },
   "source": [
    "#### 3.- Calculate the four quartiles. Use the results to explain your reasoning for question in step 2. How much of a difference is there between the median and the mean?"
   ]
  },
  {
   "cell_type": "code",
   "execution_count": 30,
   "metadata": {
    "Collapsed": "false"
   },
   "outputs": [
    {
     "data": {
      "text/plain": [
       "count    1000.000000\n",
       "mean       41.989000\n",
       "std        16.144706\n",
       "min         1.000000\n",
       "25%        30.000000\n",
       "50%        40.000000\n",
       "75%        53.000000\n",
       "max        77.000000\n",
       "Name: observation, dtype: float64"
      ]
     },
     "execution_count": 30,
     "metadata": {},
     "output_type": "execute_result"
    }
   ],
   "source": [
    "ages_population_3[column].describe()"
   ]
  },
  {
   "cell_type": "markdown",
   "metadata": {
    "Collapsed": "false"
   },
   "source": [
    "**`Comments`**\n",
    "\n",
    "If we take a look at the quartiles, we can see that 75% of the observations have a value lower or equal to 53, which means they are part of the first normal. So the second normal is formed by less than the 25% of the total samples.\n",
    "\n",
    "Then we can confirm that the first normal will have more weight in the calculation of the mean and standard deviation of the bimodal distribution.\n",
    "\n",
    "The mean (41.98) and the median (40) have a difference of almost two years. The main reason is that the median is a much more robust metric than the mean, which means that it is less affected by extreme values. The value of the median is lower because it is not as affected by the second normal higher age values as the mean. "
   ]
  },
  {
   "cell_type": "markdown",
   "metadata": {
    "Collapsed": "false"
   },
   "source": [
    "#### 4.- Calculate other percentiles that might be useful to give more arguments to your reasoning."
   ]
  },
  {
   "cell_type": "code",
   "execution_count": 31,
   "metadata": {
    "Collapsed": "false"
   },
   "outputs": [
    {
     "data": {
      "text/plain": [
       "64.0"
      ]
     },
     "execution_count": 31,
     "metadata": {},
     "output_type": "execute_result"
    }
   ],
   "source": [
    "ages_population_3['observation'].quantile(0.85)"
   ]
  },
  {
   "cell_type": "markdown",
   "metadata": {
    "Collapsed": "false"
   },
   "source": [
    "**`Comments`**\n",
    "\n",
    "If we check the 85% percentile, we can see that 15% of the observations are greater or equal than 64, which is approximately the limit between both normals. So we can say that the first normal is formed by approximately 85% of the observations while the second is formed by 15% of the observations.\n",
    "\n",
    "To test that these are the weights that measure how much each normal contributes to the bimodal mean and standard deviation calculation, we can try to compute an approximation of the bimodal mean using the weighted approximate means of both normals.\n",
    "\n",
    "$\\hat{\\mu} = 0.85*\\hat{\\mu}_1 + .15*\\hat{\\mu}_2 = 0.85*37 + 0.15*68 = 41.65 \\cong 41.98 = \\mu$\n",
    "\n",
    "We get similar values so we can say that we have found good contribution percentages. "
   ]
  },
  {
   "cell_type": "markdown",
   "metadata": {
    "Collapsed": "false"
   },
   "source": [
    "## Bonus challenge\n",
    "Compare the information about the three neighbourhoods. Prepare a report about the three of them. Remember to find out which are their similarities and their differences backing your arguments in basic statistics."
   ]
  },
  {
   "cell_type": "code",
   "execution_count": 32,
   "metadata": {
    "Collapsed": "false"
   },
   "outputs": [
    {
     "data": {
      "text/html": [
       "<div>\n",
       "<style scoped>\n",
       "    .dataframe tbody tr th:only-of-type {\n",
       "        vertical-align: middle;\n",
       "    }\n",
       "\n",
       "    .dataframe tbody tr th {\n",
       "        vertical-align: top;\n",
       "    }\n",
       "\n",
       "    .dataframe thead th {\n",
       "        text-align: right;\n",
       "    }\n",
       "</style>\n",
       "<table border=\"1\" class=\"dataframe\">\n",
       "  <thead>\n",
       "    <tr style=\"text-align: right;\">\n",
       "      <th></th>\n",
       "      <th>population 1</th>\n",
       "      <th>population_2</th>\n",
       "      <th>population_3</th>\n",
       "    </tr>\n",
       "  </thead>\n",
       "  <tbody>\n",
       "    <tr>\n",
       "      <th>count</th>\n",
       "      <td>1000.0000</td>\n",
       "      <td>1000.000000</td>\n",
       "      <td>1000.000000</td>\n",
       "    </tr>\n",
       "    <tr>\n",
       "      <th>mean</th>\n",
       "      <td>36.5600</td>\n",
       "      <td>27.155000</td>\n",
       "      <td>41.989000</td>\n",
       "    </tr>\n",
       "    <tr>\n",
       "      <th>std</th>\n",
       "      <td>12.8165</td>\n",
       "      <td>2.969814</td>\n",
       "      <td>16.144706</td>\n",
       "    </tr>\n",
       "    <tr>\n",
       "      <th>min</th>\n",
       "      <td>1.0000</td>\n",
       "      <td>19.000000</td>\n",
       "      <td>1.000000</td>\n",
       "    </tr>\n",
       "    <tr>\n",
       "      <th>25%</th>\n",
       "      <td>28.0000</td>\n",
       "      <td>25.000000</td>\n",
       "      <td>30.000000</td>\n",
       "    </tr>\n",
       "    <tr>\n",
       "      <th>50%</th>\n",
       "      <td>37.0000</td>\n",
       "      <td>27.000000</td>\n",
       "      <td>40.000000</td>\n",
       "    </tr>\n",
       "    <tr>\n",
       "      <th>75%</th>\n",
       "      <td>45.0000</td>\n",
       "      <td>29.000000</td>\n",
       "      <td>53.000000</td>\n",
       "    </tr>\n",
       "    <tr>\n",
       "      <th>max</th>\n",
       "      <td>82.0000</td>\n",
       "      <td>36.000000</td>\n",
       "      <td>77.000000</td>\n",
       "    </tr>\n",
       "  </tbody>\n",
       "</table>\n",
       "</div>"
      ],
      "text/plain": [
       "       population 1  population_2  population_3\n",
       "count     1000.0000   1000.000000   1000.000000\n",
       "mean        36.5600     27.155000     41.989000\n",
       "std         12.8165      2.969814     16.144706\n",
       "min          1.0000     19.000000      1.000000\n",
       "25%         28.0000     25.000000     30.000000\n",
       "50%         37.0000     27.000000     40.000000\n",
       "75%         45.0000     29.000000     53.000000\n",
       "max         82.0000     36.000000     77.000000"
      ]
     },
     "execution_count": 32,
     "metadata": {},
     "output_type": "execute_result"
    }
   ],
   "source": [
    "sumamry_df = pd.concat([ages_population[column], \n",
    "                        ages_population_2[column], \n",
    "                        ages_population_3[column]], \n",
    "                        axis=1, keys=['population 1', 'population_2', 'population_3'])\n",
    "sumamry_df.describe()"
   ]
  },
  {
   "cell_type": "markdown",
   "metadata": {
    "Collapsed": "false"
   },
   "source": [
    "**`Comments`**\n",
    "\n",
    "Neighbourhood 2 has the youngest population. The mean is 27 years old and the low standard deviation tells us that people in that area has an age that won't differ much from 27 years old. In fact, if we take a look at the quartiles, we can see that 50% of the observations are people of ages between 25 and 29. \n",
    "\n",
    "Neighbourhood 1 and 3 are really different from neighbourhood 2 but really similar between them. The mean age is higher than in neighbourhood 2, so the population is older. The standard deviation is also higher, so people's ages in those neighborhoods are more spread and far from the mean value. If we take a look at the maximum and minimum values we can confirm that the age range goes from childhood to old age, as opposed to neighbourhood 2.  "
   ]
  }
 ],
 "metadata": {
  "kernelspec": {
   "display_name": "Python 3",
   "language": "python",
   "name": "python3"
  },
  "language_info": {
   "codemirror_mode": {
    "name": "ipython",
    "version": 3
   },
   "file_extension": ".py",
   "mimetype": "text/x-python",
   "name": "python",
   "nbconvert_exporter": "python",
   "pygments_lexer": "ipython3",
   "version": "3.8.5"
  }
 },
 "nbformat": 4,
 "nbformat_minor": 4
}
