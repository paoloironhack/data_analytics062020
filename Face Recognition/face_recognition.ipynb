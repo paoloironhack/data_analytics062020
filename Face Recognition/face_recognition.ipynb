{
 "cells": [
  {
   "cell_type": "code",
   "execution_count": 1,
   "metadata": {},
   "outputs": [
    {
     "name": "stdout",
     "output_type": "stream",
     "text": [
      "(1468, 1636, 3)\n",
      "(1468, 1636)\n",
      "255\n",
      "[[1188   91  159  159]\n",
      " [ 186  111  139  139]\n",
      " [ 725  104  162  162]\n",
      " [ 720  357  151  151]\n",
      " [ 225  395  148  148]\n",
      " [1222  370  152  152]\n",
      " [ 676  670  144  144]\n",
      " [ 239  674  148  148]\n",
      " [1273  678  131  131]\n",
      " [1199  964  152  152]\n",
      " [ 272  918  193  193]\n",
      " [ 694 1267  165  165]]\n"
     ]
    }
   ],
   "source": [
    "import cv2\n",
    "\n",
    "img = cv2.imread('abcd.png')\n",
    "print(img.shape)\n",
    "\n",
    "gray = cv2.cvtColor(img, cv2.COLOR_BGR2GRAY)\n",
    "\n",
    "print(gray.shape)\n",
    "\n",
    "print(gray[200,400])\n",
    "\n",
    "face_model = cv2.CascadeClassifier('haarcascade_frontalface_default.xml')\n",
    "\n",
    "faces = face_model.detectMultiScale(gray, 1.2, 15)\n",
    "\n",
    "print(faces)"
   ]
  },
  {
   "cell_type": "code",
   "execution_count": 2,
   "metadata": {},
   "outputs": [],
   "source": [
    "# y x width height"
   ]
  },
  {
   "cell_type": "code",
   "execution_count": 4,
   "metadata": {},
   "outputs": [
    {
     "data": {
      "text/plain": [
       "True"
      ]
     },
     "execution_count": 4,
     "metadata": {},
     "output_type": "execute_result"
    }
   ],
   "source": [
    "for (x, y, w, h) in faces:\n",
    "    cv2.rectangle(img, (x,y), (x+w, y+h), (0,0,255), 5)\n",
    "    \n",
    "#cv2.imshow('Amazing amsterdam cohort', img)\n",
    "cv2.imwrite('output.png',img)\n",
    "#cv2.waitKey()"
   ]
  },
  {
   "cell_type": "code",
   "execution_count": null,
   "metadata": {},
   "outputs": [],
   "source": []
  }
 ],
 "metadata": {
  "kernelspec": {
   "display_name": "Python 3",
   "language": "python",
   "name": "python3"
  },
  "language_info": {
   "codemirror_mode": {
    "name": "ipython",
    "version": 3
   },
   "file_extension": ".py",
   "mimetype": "text/x-python",
   "name": "python",
   "nbconvert_exporter": "python",
   "pygments_lexer": "ipython3",
   "version": "3.8.5"
  }
 },
 "nbformat": 4,
 "nbformat_minor": 4
}
