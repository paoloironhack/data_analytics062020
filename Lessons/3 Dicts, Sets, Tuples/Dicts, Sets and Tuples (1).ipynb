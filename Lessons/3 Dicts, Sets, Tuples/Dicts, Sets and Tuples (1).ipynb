{
 "cells": [
  {
   "cell_type": "markdown",
   "metadata": {
    "colab_type": "text",
    "id": "28PVXapEpECT",
    "slideshow": {
     "slide_type": "slide"
    }
   },
   "source": [
    "# Dicts, sets and tuples\n",
    "\n"
   ]
  },
  {
   "cell_type": "markdown",
   "metadata": {
    "colab_type": "text",
    "id": "cNoDo4TRpJ8D",
    "slideshow": {
     "slide_type": "slide"
    }
   },
   "source": [
    "## Introduction \n",
    "\n",
    "In the previous lesson, we learned about lists. Lists are one of the most important data structures in Python. However, we cannot survive with lists alone. There are many use cases where other data structures are better suited. This lesson will introduce three other important data structures in Python."
   ]
  },
  {
   "cell_type": "markdown",
   "metadata": {
    "colab_type": "text",
    "id": "_f-0n5ntpQoT",
    "slideshow": {
     "slide_type": "slide"
    }
   },
   "source": [
    "## Tuples\n",
    "\n",
    "Tuples are sequences just like list. However, the main difference between tuples and lists is that tuples are immutable. This means that the values inside of a tuple cannot be overwritten (or mutated) once the tuple is defined.\n",
    "\n",
    "We define tuples using parentheses and specify the sequence in our tuple as follows:"
   ]
  },
  {
   "cell_type": "code",
   "execution_count": 5,
   "metadata": {
    "colab": {},
    "colab_type": "code",
    "id": "grahJu2iph3h",
    "slideshow": {
     "slide_type": "fragment"
    }
   },
   "outputs": [],
   "source": [
    "chocolates = ('dark', 'milk', 'semi sweet')"
   ]
  },
  {
   "cell_type": "markdown",
   "metadata": {
    "colab_type": "text",
    "id": "p0aBWVu2pkzy",
    "slideshow": {
     "slide_type": "slide"
    }
   },
   "source": [
    "We can retrieve any item in the tuple in the same way we would with a string. "
   ]
  },
  {
   "cell_type": "code",
   "execution_count": 6,
   "metadata": {
    "colab": {
     "base_uri": "https://localhost:8080/",
     "height": 34
    },
    "colab_type": "code",
    "executionInfo": {
     "elapsed": 560,
     "status": "ok",
     "timestamp": 1578692170608,
     "user": {
      "displayName": "Louk Smalbil",
      "photoUrl": "https://lh3.googleusercontent.com/a-/AAuE7mDf0h-7dEMeyjYDwWKtGkQlLXC3IBwfxiDNyi0e=s64",
      "userId": "10422991521784029462"
     },
     "user_tz": -60
    },
    "id": "y-BLe1ZppkID",
    "outputId": "c27ae492-81cc-45f3-c898-3db60f07fc52",
    "slideshow": {
     "slide_type": "slide"
    }
   },
   "outputs": [
    {
     "data": {
      "text/plain": [
       "'dark'"
      ]
     },
     "execution_count": 6,
     "metadata": {},
     "output_type": "execute_result"
    }
   ],
   "source": [
    "chocolates = ('dark', 'milk', 'semi sweet')\n",
    "chocolates[0]"
   ]
  },
  {
   "cell_type": "markdown",
   "metadata": {
    "slideshow": {
     "slide_type": "slide"
    }
   },
   "source": [
    "However, we cannot reassign new values to a tuple."
   ]
  },
  {
   "cell_type": "code",
   "execution_count": 7,
   "metadata": {
    "colab": {
     "base_uri": "https://localhost:8080/",
     "height": 164
    },
    "colab_type": "code",
    "executionInfo": {
     "elapsed": 581,
     "status": "error",
     "timestamp": 1578692193420,
     "user": {
      "displayName": "Louk Smalbil",
      "photoUrl": "https://lh3.googleusercontent.com/a-/AAuE7mDf0h-7dEMeyjYDwWKtGkQlLXC3IBwfxiDNyi0e=s64",
      "userId": "10422991521784029462"
     },
     "user_tz": -60
    },
    "id": "dysj7UaCYxFE",
    "outputId": "0397ec88-7f9b-42fa-d179-09e31a25c6e7",
    "slideshow": {
     "slide_type": "fragment"
    }
   },
   "outputs": [],
   "source": [
    "chocolates = ('dark', 'milk', 'semi sweet')"
   ]
  },
  {
   "cell_type": "code",
   "execution_count": 8,
   "metadata": {
    "slideshow": {
     "slide_type": "fragment"
    }
   },
   "outputs": [
    {
     "ename": "TypeError",
     "evalue": "'tuple' object does not support item assignment",
     "output_type": "error",
     "traceback": [
      "\u001b[0;31m-------------------------------------------------------------------------\u001b[0m",
      "\u001b[0;31mTypeError\u001b[0m                               Traceback (most recent call last)",
      "\u001b[0;32m<ipython-input-8-40be201ff044>\u001b[0m in \u001b[0;36m<module>\u001b[0;34m\u001b[0m\n\u001b[0;32m----> 1\u001b[0;31m \u001b[0mchocolates\u001b[0m\u001b[0;34m[\u001b[0m\u001b[0;36m3\u001b[0m\u001b[0;34m]\u001b[0m \u001b[0;34m=\u001b[0m \u001b[0;34m'caramel filled'\u001b[0m\u001b[0;34m\u001b[0m\u001b[0;34m\u001b[0m\u001b[0m\n\u001b[0m",
      "\u001b[0;31mTypeError\u001b[0m: 'tuple' object does not support item assignment"
     ]
    }
   ],
   "source": [
    "chocolates[3] = 'caramel filled'"
   ]
  },
  {
   "cell_type": "markdown",
   "metadata": {
    "colab_type": "text",
    "id": "gyXfXoompwKX",
    "slideshow": {
     "slide_type": "slide"
    }
   },
   "source": [
    "Similar to lists, we can find the length of a tuple using the len() function. "
   ]
  },
  {
   "cell_type": "code",
   "execution_count": 9,
   "metadata": {
    "colab": {
     "base_uri": "https://localhost:8080/",
     "height": 34
    },
    "colab_type": "code",
    "executionInfo": {
     "elapsed": 1144,
     "status": "ok",
     "timestamp": 1578692201045,
     "user": {
      "displayName": "Louk Smalbil",
      "photoUrl": "https://lh3.googleusercontent.com/a-/AAuE7mDf0h-7dEMeyjYDwWKtGkQlLXC3IBwfxiDNyi0e=s64",
      "userId": "10422991521784029462"
     },
     "user_tz": -60
    },
    "id": "gSGy38QNpymB",
    "outputId": "673d850c-6ed9-4e44-f757-5f767821c471",
    "slideshow": {
     "slide_type": "fragment"
    }
   },
   "outputs": [
    {
     "data": {
      "text/plain": [
       "3"
      ]
     },
     "execution_count": 9,
     "metadata": {},
     "output_type": "execute_result"
    }
   ],
   "source": [
    "chocolates = ('dark', 'milk', 'semi sweet')\n",
    "len(chocolates)"
   ]
  },
  {
   "cell_type": "markdown",
   "metadata": {
    "slideshow": {
     "slide_type": "slide"
    }
   },
   "source": [
    "We will also get an out of bounds error if we try to access a tuple position that is beyond the tuple's length."
   ]
  },
  {
   "cell_type": "code",
   "execution_count": 10,
   "metadata": {
    "colab": {
     "base_uri": "https://localhost:8080/",
     "height": 164
    },
    "colab_type": "code",
    "executionInfo": {
     "elapsed": 540,
     "status": "error",
     "timestamp": 1578692201416,
     "user": {
      "displayName": "Louk Smalbil",
      "photoUrl": "https://lh3.googleusercontent.com/a-/AAuE7mDf0h-7dEMeyjYDwWKtGkQlLXC3IBwfxiDNyi0e=s64",
      "userId": "10422991521784029462"
     },
     "user_tz": -60
    },
    "id": "kn4ZWcKap0b0",
    "outputId": "ad0c9d4c-a467-4330-add8-2111c152e8ac",
    "slideshow": {
     "slide_type": "fragment"
    }
   },
   "outputs": [],
   "source": [
    "chocolates = ('dark', 'milk', 'semi sweet')"
   ]
  },
  {
   "cell_type": "code",
   "execution_count": 15,
   "metadata": {
    "slideshow": {
     "slide_type": "fragment"
    }
   },
   "outputs": [
    {
     "ename": "IndexError",
     "evalue": "tuple index out of range",
     "output_type": "error",
     "traceback": [
      "\u001b[0;31m-------------------------------------------------------------------------\u001b[0m",
      "\u001b[0;31mIndexError\u001b[0m                              Traceback (most recent call last)",
      "\u001b[0;32m<ipython-input-15-5b34df04a952>\u001b[0m in \u001b[0;36m<module>\u001b[0;34m\u001b[0m\n\u001b[0;32m----> 1\u001b[0;31m \u001b[0mchocolates\u001b[0m\u001b[0;34m[\u001b[0m\u001b[0;36m3\u001b[0m\u001b[0;34m]\u001b[0m\u001b[0;34m\u001b[0m\u001b[0;34m\u001b[0m\u001b[0m\n\u001b[0m",
      "\u001b[0;31mIndexError\u001b[0m: tuple index out of range"
     ]
    }
   ],
   "source": [
    "chocolates[3]"
   ]
  },
  {
   "cell_type": "markdown",
   "metadata": {
    "colab_type": "text",
    "id": "3YSR272Lp34_",
    "slideshow": {
     "slide_type": "slide"
    }
   },
   "source": [
    "We can iterate through tuples just like we iterate through lists. However, as previously mentioned, we cannot change the values of the tuple."
   ]
  },
  {
   "cell_type": "code",
   "execution_count": 16,
   "metadata": {
    "slideshow": {
     "slide_type": "fragment"
    }
   },
   "outputs": [],
   "source": [
    "chocolates = ('dark', 'milk', 'semi sweet')"
   ]
  },
  {
   "cell_type": "code",
   "execution_count": 21,
   "metadata": {
    "colab": {
     "base_uri": "https://localhost:8080/",
     "height": 68
    },
    "colab_type": "code",
    "executionInfo": {
     "elapsed": 3350,
     "status": "ok",
     "timestamp": 1578692207479,
     "user": {
      "displayName": "Louk Smalbil",
      "photoUrl": "https://lh3.googleusercontent.com/a-/AAuE7mDf0h-7dEMeyjYDwWKtGkQlLXC3IBwfxiDNyi0e=s64",
      "userId": "10422991521784029462"
     },
     "user_tz": -60
    },
    "id": "bEFLTO3Bp6Du",
    "outputId": "237b0145-f978-44fc-9e8f-9d90adae5400",
    "slideshow": {
     "slide_type": "fragment"
    }
   },
   "outputs": [
    {
     "name": "stdout",
     "output_type": "stream",
     "text": [
      "dark\n",
      "milk\n",
      "semi sweet\n",
      "dark\n",
      "milk\n",
      "semi sweet\n"
     ]
    }
   ],
   "source": [
    "for chocolate in chocolates:\n",
    "    print(chocolate) \n",
    "    \n",
    "for i in range(len(chocolates)):\n",
    "    print(chocolates[i])"
   ]
  },
  {
   "cell_type": "markdown",
   "metadata": {
    "colab_type": "text",
    "id": "noVFyGawpVPt",
    "slideshow": {
     "slide_type": "slide"
    }
   },
   "source": [
    "## Dictionaries\n",
    "\n",
    "Sometimes we don't just want to store data in a sequence. There are cases where we want to easily retrieve our data rather than iterate through an entire list. There are also cases where we need to label our data. For example, the phone numbers stored in our phone are labeled using the name of our contacts. In these cases, it is better to use a dict. Dicts are a sequence of key value pairs."
   ]
  },
  {
   "cell_type": "markdown",
   "metadata": {
    "slideshow": {
     "slide_type": "slide"
    }
   },
   "source": [
    "We can manually create a dict by specifying all keys and values separated by a colon within curly braces."
   ]
  },
  {
   "cell_type": "code",
   "execution_count": 22,
   "metadata": {
    "colab": {},
    "colab_type": "code",
    "id": "F6pUCyDDqByj",
    "slideshow": {
     "slide_type": "fragment"
    }
   },
   "outputs": [],
   "source": [
    "contacts = {'John': '312-555-1234', 'Paul': '312-555-3123', 'George': '312-555-3333', 'Ringo': '312-555-2222'}"
   ]
  },
  {
   "cell_type": "markdown",
   "metadata": {
    "colab_type": "text",
    "id": "5YHRef6vqFra",
    "slideshow": {
     "slide_type": "slide"
    }
   },
   "source": [
    "We can access the keys and the values separately in a dict using the keys() and values() methods."
   ]
  },
  {
   "cell_type": "code",
   "execution_count": 25,
   "metadata": {
    "colab": {
     "base_uri": "https://localhost:8080/",
     "height": 34
    },
    "colab_type": "code",
    "executionInfo": {
     "elapsed": 1025,
     "status": "ok",
     "timestamp": 1578692219977,
     "user": {
      "displayName": "Louk Smalbil",
      "photoUrl": "https://lh3.googleusercontent.com/a-/AAuE7mDf0h-7dEMeyjYDwWKtGkQlLXC3IBwfxiDNyi0e=s64",
      "userId": "10422991521784029462"
     },
     "user_tz": -60
    },
    "id": "z63Ro7ONqDvQ",
    "outputId": "908a051c-b863-4e2d-98fc-57ff01fad073",
    "slideshow": {
     "slide_type": "fragment"
    }
   },
   "outputs": [
    {
     "data": {
      "text/plain": [
       "dict_keys(['John', 'Paul', 'George', 'Ringo'])"
      ]
     },
     "execution_count": 25,
     "metadata": {},
     "output_type": "execute_result"
    }
   ],
   "source": [
    "contacts = {'John': '312-555-1234', 'Paul': '312-555-3123', 'George': '312-555-3333', 'Ringo': '312-555-2222'}\n",
    "contacts.keys() \n",
    "#print(contacts['John'])"
   ]
  },
  {
   "cell_type": "code",
   "execution_count": 26,
   "metadata": {
    "colab": {
     "base_uri": "https://localhost:8080/",
     "height": 34
    },
    "colab_type": "code",
    "executionInfo": {
     "elapsed": 526,
     "status": "ok",
     "timestamp": 1578692279390,
     "user": {
      "displayName": "Louk Smalbil",
      "photoUrl": "https://lh3.googleusercontent.com/a-/AAuE7mDf0h-7dEMeyjYDwWKtGkQlLXC3IBwfxiDNyi0e=s64",
      "userId": "10422991521784029462"
     },
     "user_tz": -60
    },
    "id": "Bb0vLoGFqH-V",
    "outputId": "48a1bb91-10a6-4b7d-a6d3-5983e34e04b6",
    "slideshow": {
     "slide_type": "fragment"
    }
   },
   "outputs": [
    {
     "data": {
      "text/plain": [
       "dict_values(['312-555-1234', '312-555-3123', '312-555-3333', '312-555-2222'])"
      ]
     },
     "execution_count": 26,
     "metadata": {},
     "output_type": "execute_result"
    }
   ],
   "source": [
    "contacts = {'John': '312-555-1234', 'Paul': '312-555-3123', 'George': '312-555-3333', 'Ringo': '312-555-2222'}\n",
    "contacts.values() "
   ]
  },
  {
   "cell_type": "markdown",
   "metadata": {
    "colab_type": "text",
    "id": "wxA-LHOTqJ5p",
    "slideshow": {
     "slide_type": "slide"
    }
   },
   "source": [
    "We can list both keys and values as tuples using the items() method."
   ]
  },
  {
   "cell_type": "code",
   "execution_count": 31,
   "metadata": {
    "colab": {
     "base_uri": "https://localhost:8080/",
     "height": 34
    },
    "colab_type": "code",
    "executionInfo": {
     "elapsed": 632,
     "status": "ok",
     "timestamp": 1578692281705,
     "user": {
      "displayName": "Louk Smalbil",
      "photoUrl": "https://lh3.googleusercontent.com/a-/AAuE7mDf0h-7dEMeyjYDwWKtGkQlLXC3IBwfxiDNyi0e=s64",
      "userId": "10422991521784029462"
     },
     "user_tz": -60
    },
    "id": "ttUCLVhHqL-g",
    "outputId": "4491e5af-d806-47de-92c8-a21351a848f8",
    "slideshow": {
     "slide_type": "fragment"
    }
   },
   "outputs": [
    {
     "data": {
      "text/plain": [
       "dict_items([('John', '312-555-1234'), ('Paul', '312-555-3123'), ('George', '312-555-3333'), ('Ringo', '312-555-2222')])"
      ]
     },
     "execution_count": 31,
     "metadata": {},
     "output_type": "execute_result"
    }
   ],
   "source": [
    "contacts = {'John': '312-555-1234', 'Paul': '312-555-3123', 'George': '312-555-3333', 'Ringo': '312-555-2222'}\n",
    "contacts.items()\n",
    "#type(contacts.items())"
   ]
  },
  {
   "cell_type": "markdown",
   "metadata": {
    "colab_type": "text",
    "id": "LHLFWbzXqQ3c",
    "slideshow": {
     "slide_type": "slide"
    }
   },
   "source": [
    "We add new keys and values to a dict using the following syntax:"
   ]
  },
  {
   "cell_type": "code",
   "execution_count": 32,
   "metadata": {
    "colab": {},
    "colab_type": "code",
    "id": "OqkFYbCTqPia",
    "slideshow": {
     "slide_type": "fragment"
    }
   },
   "outputs": [],
   "source": [
    "contacts['Pete'] = '312-555-1111'"
   ]
  },
  {
   "cell_type": "code",
   "execution_count": 33,
   "metadata": {
    "slideshow": {
     "slide_type": "fragment"
    }
   },
   "outputs": [
    {
     "name": "stdout",
     "output_type": "stream",
     "text": [
      "{'John': '312-555-1234', 'Paul': '312-555-3123', 'George': '312-555-3333', 'Ringo': '312-555-2222', 'Pete': '312-555-1111'}\n"
     ]
    }
   ],
   "source": [
    "print(contacts) "
   ]
  },
  {
   "cell_type": "markdown",
   "metadata": {
    "colab_type": "text",
    "id": "R5gL9UF9qUwI",
    "slideshow": {
     "slide_type": "slide"
    }
   },
   "source": [
    "Dicts are not immutable. Therefore, we can change a value by reassigning a new value to a key."
   ]
  },
  {
   "cell_type": "code",
   "execution_count": 34,
   "metadata": {
    "slideshow": {
     "slide_type": "fragment"
    }
   },
   "outputs": [
    {
     "name": "stdout",
     "output_type": "stream",
     "text": [
      "312-555-3123\n"
     ]
    }
   ],
   "source": [
    "print(contacts['Paul'])"
   ]
  },
  {
   "cell_type": "code",
   "execution_count": 35,
   "metadata": {
    "colab": {},
    "colab_type": "code",
    "id": "JohFM9YxqWvN",
    "slideshow": {
     "slide_type": "fragment"
    }
   },
   "outputs": [],
   "source": [
    "contacts['Paul'] = '312-555-4444' "
   ]
  },
  {
   "cell_type": "code",
   "execution_count": 36,
   "metadata": {
    "slideshow": {
     "slide_type": "fragment"
    }
   },
   "outputs": [
    {
     "name": "stdout",
     "output_type": "stream",
     "text": [
      "312-555-4444\n"
     ]
    }
   ],
   "source": [
    "print(contacts['Paul'])"
   ]
  },
  {
   "cell_type": "markdown",
   "metadata": {
    "colab_type": "text",
    "id": "mXgBlKfxqYyA",
    "slideshow": {
     "slide_type": "slide"
    }
   },
   "source": [
    "We delete a record from a dict using the del command."
   ]
  },
  {
   "cell_type": "code",
   "execution_count": 37,
   "metadata": {
    "slideshow": {
     "slide_type": "fragment"
    }
   },
   "outputs": [
    {
     "name": "stdout",
     "output_type": "stream",
     "text": [
      "{'John': '312-555-1234', 'Paul': '312-555-4444', 'George': '312-555-3333', 'Ringo': '312-555-2222', 'Pete': '312-555-1111'}\n"
     ]
    }
   ],
   "source": [
    "print(contacts)"
   ]
  },
  {
   "cell_type": "code",
   "execution_count": 38,
   "metadata": {
    "colab": {},
    "colab_type": "code",
    "id": "A77HLK8cqbIR",
    "slideshow": {
     "slide_type": "fragment"
    }
   },
   "outputs": [],
   "source": [
    "del contacts['Pete'] "
   ]
  },
  {
   "cell_type": "code",
   "execution_count": 39,
   "metadata": {
    "slideshow": {
     "slide_type": "fragment"
    }
   },
   "outputs": [
    {
     "name": "stdout",
     "output_type": "stream",
     "text": [
      "{'John': '312-555-1234', 'Paul': '312-555-4444', 'George': '312-555-3333', 'Ringo': '312-555-2222'}\n"
     ]
    }
   ],
   "source": [
    "print(contacts)"
   ]
  },
  {
   "cell_type": "markdown",
   "metadata": {
    "colab_type": "text",
    "id": "WoCSWY1EqdbI",
    "slideshow": {
     "slide_type": "slide"
    }
   },
   "source": [
    "We can create an empty dict with only a pair of curly braces:"
   ]
  },
  {
   "cell_type": "code",
   "execution_count": 41,
   "metadata": {
    "colab": {},
    "colab_type": "code",
    "id": "-fkXiid3qgoa",
    "slideshow": {
     "slide_type": "fragment"
    }
   },
   "outputs": [],
   "source": [
    "empty_dict = {}"
   ]
  },
  {
   "cell_type": "code",
   "execution_count": 42,
   "metadata": {
    "slideshow": {
     "slide_type": "fragment"
    }
   },
   "outputs": [
    {
     "name": "stdout",
     "output_type": "stream",
     "text": [
      "{}\n"
     ]
    }
   ],
   "source": [
    "print(empty_dict)"
   ]
  },
  {
   "cell_type": "markdown",
   "metadata": {
    "colab_type": "text",
    "id": "J8zlL_kRqkCb",
    "slideshow": {
     "slide_type": "slide"
    }
   },
   "source": [
    "### Iterating Through a Dict\n",
    "\n",
    "We can use keys to iterate through the keys, values() to iterate through the values and items() to iterate through both simultaneously.\n",
    "\n"
   ]
  },
  {
   "cell_type": "code",
   "execution_count": 43,
   "metadata": {
    "slideshow": {
     "slide_type": "slide"
    }
   },
   "outputs": [],
   "source": [
    "contacts = {'John': '312-555-1234', 'Paul': '312-555-3123', 'George': '312-555-3333', 'Ringo': '312-555-2222'}"
   ]
  },
  {
   "cell_type": "code",
   "execution_count": 44,
   "metadata": {
    "colab": {
     "base_uri": "https://localhost:8080/",
     "height": 85
    },
    "colab_type": "code",
    "executionInfo": {
     "elapsed": 555,
     "status": "ok",
     "timestamp": 1578692312244,
     "user": {
      "displayName": "Louk Smalbil",
      "photoUrl": "https://lh3.googleusercontent.com/a-/AAuE7mDf0h-7dEMeyjYDwWKtGkQlLXC3IBwfxiDNyi0e=s64",
      "userId": "10422991521784029462"
     },
     "user_tz": -60
    },
    "id": "ZpO7Th0Jqipp",
    "outputId": "c02bdabf-af33-40d6-d347-14c271486a06",
    "slideshow": {
     "slide_type": "fragment"
    }
   },
   "outputs": [
    {
     "name": "stdout",
     "output_type": "stream",
     "text": [
      "John\n",
      "Paul\n",
      "George\n",
      "Ringo\n"
     ]
    }
   ],
   "source": [
    "for i in contacts.keys():\n",
    "     print(i) "
   ]
  },
  {
   "cell_type": "code",
   "execution_count": 45,
   "metadata": {
    "slideshow": {
     "slide_type": "slide"
    }
   },
   "outputs": [],
   "source": [
    "contacts = {'John': '312-555-1234', 'Paul': '312-555-3123', 'George': '312-555-3333', 'Ringo': '312-555-2222'}"
   ]
  },
  {
   "cell_type": "code",
   "execution_count": 46,
   "metadata": {
    "colab": {
     "base_uri": "https://localhost:8080/",
     "height": 85
    },
    "colab_type": "code",
    "executionInfo": {
     "elapsed": 629,
     "status": "ok",
     "timestamp": 1578692313780,
     "user": {
      "displayName": "Louk Smalbil",
      "photoUrl": "https://lh3.googleusercontent.com/a-/AAuE7mDf0h-7dEMeyjYDwWKtGkQlLXC3IBwfxiDNyi0e=s64",
      "userId": "10422991521784029462"
     },
     "user_tz": -60
    },
    "id": "xSF_En9IqrQB",
    "outputId": "0c5bed0d-3650-47a8-9320-25da9dc38286",
    "slideshow": {
     "slide_type": "fragment"
    }
   },
   "outputs": [
    {
     "name": "stdout",
     "output_type": "stream",
     "text": [
      "312-555-1234\n",
      "312-555-3123\n",
      "312-555-3333\n",
      "312-555-2222\n"
     ]
    }
   ],
   "source": [
    "for i in contacts.values():\n",
    "    print(i)"
   ]
  },
  {
   "cell_type": "code",
   "execution_count": 57,
   "metadata": {
    "slideshow": {
     "slide_type": "slide"
    }
   },
   "outputs": [],
   "source": [
    "contacts = {'John': '312-555-1234', 'Paul': '312-555-3123', 'George': '312-555-3333', 'Ringo': '312-555-2222'}"
   ]
  },
  {
   "cell_type": "code",
   "execution_count": 62,
   "metadata": {
    "colab": {
     "base_uri": "https://localhost:8080/",
     "height": 85
    },
    "colab_type": "code",
    "executionInfo": {
     "elapsed": 623,
     "status": "ok",
     "timestamp": 1578692314953,
     "user": {
      "displayName": "Louk Smalbil",
      "photoUrl": "https://lh3.googleusercontent.com/a-/AAuE7mDf0h-7dEMeyjYDwWKtGkQlLXC3IBwfxiDNyi0e=s64",
      "userId": "10422991521784029462"
     },
     "user_tz": -60
    },
    "id": "t7B-Tiyhqs-a",
    "outputId": "f44c5fcd-716c-4c70-f15f-be2a8532d831",
    "slideshow": {
     "slide_type": "fragment"
    }
   },
   "outputs": [
    {
     "name": "stdout",
     "output_type": "stream",
     "text": [
      "John : 312-555-1234\n",
      "John 312-555-1234\n",
      "Paul : 312-555-3123\n",
      "Paul 312-555-3123\n",
      "George : 312-555-3333\n",
      "George 312-555-3333\n",
      "Ringo : 312-555-2222\n",
      "Ringo 312-555-2222\n"
     ]
    }
   ],
   "source": [
    "for k, v in contacts.items():\n",
    "    print(k+\" : \"+v)\n",
    "    print(k,v)\n",
    "    #print(k)\n"
   ]
  },
  {
   "cell_type": "markdown",
   "metadata": {
    "colab_type": "text",
    "id": "e0DVi1FYqwm8",
    "slideshow": {
     "slide_type": "slide"
    }
   },
   "source": [
    "### Dict Comprehensions\n",
    "Just like list comprehensions, we can also iterate through a dict to generate a new list or new dict. Below is an example of adding the country code to our contact dictionary."
   ]
  },
  {
   "cell_type": "code",
   "execution_count": 63,
   "metadata": {
    "slideshow": {
     "slide_type": "fragment"
    }
   },
   "outputs": [],
   "source": [
    "housing = ['house', 'boat', 'tree','dog', 'cat'] "
   ]
  },
  {
   "cell_type": "code",
   "execution_count": 67,
   "metadata": {
    "colab": {
     "base_uri": "https://localhost:8080/",
     "height": 34
    },
    "colab_type": "code",
    "executionInfo": {
     "elapsed": 544,
     "status": "ok",
     "timestamp": 1578692734241,
     "user": {
      "displayName": "Louk Smalbil",
      "photoUrl": "https://lh3.googleusercontent.com/a-/AAuE7mDf0h-7dEMeyjYDwWKtGkQlLXC3IBwfxiDNyi0e=s64",
      "userId": "10422991521784029462"
     },
     "user_tz": -60
    },
    "id": "jBy8XJhlalfv",
    "outputId": "9f050478-25da-4762-cc46-f26229c57def",
    "slideshow": {
     "slide_type": "fragment"
    }
   },
   "outputs": [
    {
     "data": {
      "text/plain": [
       "{'house': 5, 'boat': 4, 'tree': 4, 'dog': 3, 'cat': 3}"
      ]
     },
     "execution_count": 67,
     "metadata": {},
     "output_type": "execute_result"
    }
   ],
   "source": [
    "#Key : value \n",
    "{f:len(f) for f in housing}"
   ]
  },
  {
   "cell_type": "code",
   "execution_count": 68,
   "metadata": {
    "slideshow": {
     "slide_type": "slide"
    }
   },
   "outputs": [],
   "source": [
    "# Another example\n",
    "contacts = {'John': '312-555-1234', 'Paul': '312-555-3123', 'George': '312-555-3333', 'Ringo': '312-555-2222'}"
   ]
  },
  {
   "cell_type": "code",
   "execution_count": 75,
   "metadata": {
    "slideshow": {
     "slide_type": "fragment"
    }
   },
   "outputs": [
    {
     "name": "stdout",
     "output_type": "stream",
     "text": [
      "{'John': '+0031-312-555-1234', 'Paul': '+0031-312-555-3123', 'George': '+0031-312-555-3333', 'Ringo': '+0031-312-555-2222'}\n"
     ]
    }
   ],
   "source": [
    "international = {k: \"+0031-\"+v for k, v in contacts.items()}\n",
    "print(international)"
   ]
  },
  {
   "cell_type": "code",
   "execution_count": 78,
   "metadata": {
    "slideshow": {
     "slide_type": "fragment"
    }
   },
   "outputs": [
    {
     "name": "stdout",
     "output_type": "stream",
     "text": [
      "John: +0031-312-555-1234\n",
      "Paul: +0031-312-555-3123\n",
      "George: +0031-312-555-3333\n",
      "Ringo: +0031-312-555-2222\n"
     ]
    }
   ],
   "source": [
    "for k, v in international.items():\n",
    "     print(k+\": \"+v)"
   ]
  },
  {
   "cell_type": "markdown",
   "metadata": {
    "colab_type": "text",
    "id": "1SpEe0zJpYWc",
    "slideshow": {
     "slide_type": "slide"
    }
   },
   "source": [
    "## Sets\n",
    "\n",
    "Sets are unordered collections of unique elements. Similar to lists, they are also mutable. This means that we can insert and delete values to our set.\n",
    "\n",
    "We can define an empty set as follows:"
   ]
  },
  {
   "cell_type": "code",
   "execution_count": 88,
   "metadata": {
    "colab": {},
    "colab_type": "code",
    "id": "UJsIhEVJo5zP",
    "slideshow": {
     "slide_type": "fragment"
    }
   },
   "outputs": [
    {
     "name": "stdout",
     "output_type": "stream",
     "text": [
      "['House', 'House', 'House', 'Villa']\n",
      "{'Villa', 'House'}\n"
     ]
    }
   ],
   "source": [
    "letters = set() \n",
    "houses = ['House', 'House', 'House', 'Villa']\n",
    "print(houses)\n",
    "houses_set = set(houses)\n",
    "print(houses_set)\n"
   ]
  },
  {
   "cell_type": "markdown",
   "metadata": {
    "colab_type": "text",
    "id": "u8zz9hNBq8p5",
    "slideshow": {
     "slide_type": "fragment"
    }
   },
   "source": [
    "We then add to the set using the add command."
   ]
  },
  {
   "cell_type": "code",
   "execution_count": 82,
   "metadata": {
    "colab": {
     "base_uri": "https://localhost:8080/",
     "height": 34
    },
    "colab_type": "code",
    "executionInfo": {
     "elapsed": 2129,
     "status": "ok",
     "timestamp": 1578692875681,
     "user": {
      "displayName": "Louk Smalbil",
      "photoUrl": "https://lh3.googleusercontent.com/a-/AAuE7mDf0h-7dEMeyjYDwWKtGkQlLXC3IBwfxiDNyi0e=s64",
      "userId": "10422991521784029462"
     },
     "user_tz": -60
    },
    "id": "RQbvGSAUq-gl",
    "outputId": "36b5967c-71c9-4858-8538-8b693738904f",
    "slideshow": {
     "slide_type": "fragment"
    }
   },
   "outputs": [
    {
     "name": "stdout",
     "output_type": "stream",
     "text": [
      "{'a'}\n"
     ]
    }
   ],
   "source": [
    "letters.add('a')\n",
    "\n",
    "print(letters)"
   ]
  },
  {
   "cell_type": "markdown",
   "metadata": {
    "colab_type": "text",
    "id": "iaFUz7IxrCXW",
    "slideshow": {
     "slide_type": "slide"
    }
   },
   "source": [
    "We can delete from our set using the remove command. The remove command will throw an error if the element does not exist in the set. We can use the pop command if we would like to try removing the element but do nothing if it is not in the set."
   ]
  },
  {
   "cell_type": "code",
   "execution_count": 83,
   "metadata": {
    "colab": {
     "base_uri": "https://localhost:8080/",
     "height": 34
    },
    "colab_type": "code",
    "executionInfo": {
     "elapsed": 678,
     "status": "ok",
     "timestamp": 1578692879623,
     "user": {
      "displayName": "Louk Smalbil",
      "photoUrl": "https://lh3.googleusercontent.com/a-/AAuE7mDf0h-7dEMeyjYDwWKtGkQlLXC3IBwfxiDNyi0e=s64",
      "userId": "10422991521784029462"
     },
     "user_tz": -60
    },
    "id": "BlS-wURLrAdg",
    "outputId": "45812657-2349-4c70-8501-24f6e56365d2",
    "slideshow": {
     "slide_type": "fragment"
    }
   },
   "outputs": [
    {
     "name": "stdout",
     "output_type": "stream",
     "text": [
      "set()\n"
     ]
    }
   ],
   "source": [
    "letters.remove('a')\n",
    "print(letters)"
   ]
  },
  {
   "cell_type": "markdown",
   "metadata": {
    "colab_type": "text",
    "id": "KU2UrVZGrEuU",
    "slideshow": {
     "slide_type": "slide"
    }
   },
   "source": [
    "### Union, Intersection, and Difference\n",
    "\n",
    "The fact that sets contain unique values and are not ordered allows us to compare sets and find their union, intersection, and difference.\n",
    "\n",
    "We will look at examples of all three operations in the code block below."
   ]
  },
  {
   "cell_type": "markdown",
   "metadata": {
    "slideshow": {
     "slide_type": "slide"
    }
   },
   "source": [
    "## Union"
   ]
  },
  {
   "cell_type": "code",
   "execution_count": 89,
   "metadata": {},
   "outputs": [
    {
     "data": {
      "text/html": [
       "<img src=\"https://en.wikipedia.org/wiki/Vegetable#/media/File:Botanical_Fruit_and_Culinary_Vegetables.png\"/>"
      ],
      "text/plain": [
       "<IPython.core.display.Image object>"
      ]
     },
     "execution_count": 89,
     "metadata": {},
     "output_type": "execute_result"
    }
   ],
   "source": [
    "# Show picture\n",
    "from IPython.display import Image\n",
    "from IPython.core.display import HTML \n",
    "Image(url= \"https://en.wikipedia.org/wiki/Vegetable#/media/File:Botanical_Fruit_and_Culinary_Vegetables.png\")"
   ]
  },
  {
   "cell_type": "code",
   "execution_count": 90,
   "metadata": {
    "slideshow": {
     "slide_type": "fragment"
    }
   },
   "outputs": [
    {
     "data": {
      "text/html": [
       "<img src=\"https://upload.wikimedia.org/wikipedia/commons/thumb/3/30/Venn0111.svg/1200px-Venn0111.svg.png\"/>"
      ],
      "text/plain": [
       "<IPython.core.display.Image object>"
      ]
     },
     "execution_count": 90,
     "metadata": {},
     "output_type": "execute_result"
    }
   ],
   "source": [
    "#union\n",
    "Image(url= \"https://upload.wikimedia.org/wikipedia/commons/thumb/3/30/Venn0111.svg/1200px-Venn0111.svg.png\")"
   ]
  },
  {
   "cell_type": "code",
   "execution_count": 91,
   "metadata": {
    "slideshow": {
     "slide_type": "slide"
    }
   },
   "outputs": [],
   "source": [
    "# We start off defining both sets. Note that we have to use both parentheses and brackets.\n",
    "girl_names = set(['Mary', 'Madison', 'Logan', 'Joanna'])\n",
    "boy_names = set(['John', 'Alexander', 'Logan', 'Madison'])"
   ]
  },
  {
   "cell_type": "code",
   "execution_count": 93,
   "metadata": {
    "slideshow": {
     "slide_type": "fragment"
    }
   },
   "outputs": [
    {
     "name": "stdout",
     "output_type": "stream",
     "text": [
      "{'Mary', 'Alexander', 'Joanna', 'John', 'Madison', 'Logan'}\n"
     ]
    }
   ],
   "source": [
    "# We find the unisex names by finding the intersection of boy and girl names\n",
    "all_names = girl_names.union(boy_names)\n",
    "print(all_names)"
   ]
  },
  {
   "cell_type": "markdown",
   "metadata": {
    "slideshow": {
     "slide_type": "slide"
    }
   },
   "source": [
    "## Intersection"
   ]
  },
  {
   "cell_type": "code",
   "execution_count": 94,
   "metadata": {
    "colab_type": "text",
    "id": "hXKB6L51bvlj",
    "slideshow": {
     "slide_type": "fragment"
    }
   },
   "outputs": [
    {
     "data": {
      "text/html": [
       "<img src=\"https://upload.wikimedia.org/wikipedia/commons/thumb/9/99/Venn0001.svg/2000px-Venn0001.svg.png\"/>"
      ],
      "text/plain": [
       "<IPython.core.display.Image object>"
      ]
     },
     "execution_count": 94,
     "metadata": {},
     "output_type": "execute_result"
    }
   ],
   "source": [
    "# Intersection\n",
    "Image(url= \"https://upload.wikimedia.org/wikipedia/commons/thumb/9/99/Venn0001.svg/2000px-Venn0001.svg.png\")"
   ]
  },
  {
   "cell_type": "code",
   "execution_count": 95,
   "metadata": {
    "slideshow": {
     "slide_type": "slide"
    }
   },
   "outputs": [],
   "source": [
    "# We start off defining both sets. Note that we have to use both parentheses and brackets.\n",
    "girl_names = set(['Mary', 'Madison', 'Logan', 'Joanna'])\n",
    "boy_names = set(['John', 'Alexander', 'Logan', 'Madison']) "
   ]
  },
  {
   "cell_type": "code",
   "execution_count": 96,
   "metadata": {
    "slideshow": {
     "slide_type": "fragment"
    }
   },
   "outputs": [
    {
     "name": "stdout",
     "output_type": "stream",
     "text": [
      "{'Madison', 'Logan'}\n"
     ]
    }
   ],
   "source": [
    "# We find the unisex names by finding the intersection of boy and girl names\n",
    "unisex_names = girl_names.intersection(boy_names)\n",
    "print(unisex_names)"
   ]
  },
  {
   "cell_type": "markdown",
   "metadata": {
    "slideshow": {
     "slide_type": "slide"
    }
   },
   "source": [
    "## Difference"
   ]
  },
  {
   "cell_type": "code",
   "execution_count": 97,
   "metadata": {
    "slideshow": {
     "slide_type": "fragment"
    }
   },
   "outputs": [
    {
     "data": {
      "text/html": [
       "<img src=\"https://upload.wikimedia.org/wikipedia/commons/thumb/5/5a/Venn0010.svg/1200px-Venn0010.svg.png\"/>"
      ],
      "text/plain": [
       "<IPython.core.display.Image object>"
      ]
     },
     "execution_count": 97,
     "metadata": {},
     "output_type": "execute_result"
    }
   ],
   "source": [
    "# Difference (complement)\n",
    "Image(url= \"https://upload.wikimedia.org/wikipedia/commons/thumb/5/5a/Venn0010.svg/1200px-Venn0010.svg.png\")"
   ]
  },
  {
   "cell_type": "markdown",
   "metadata": {
    "slideshow": {
     "slide_type": "slide"
    }
   },
   "source": [
    "girl_names = set(['Mary', 'Madison', 'Logan', 'Joanna'])\n",
    "boy_names = set(['John', 'Alexander', 'Logan', 'Madison'])"
   ]
  },
  {
   "cell_type": "code",
   "execution_count": 100,
   "metadata": {
    "colab": {
     "base_uri": "https://localhost:8080/",
     "height": 51
    },
    "colab_type": "code",
    "executionInfo": {
     "elapsed": 648,
     "status": "ok",
     "timestamp": 1578692883696,
     "user": {
      "displayName": "Louk Smalbil",
      "photoUrl": "https://lh3.googleusercontent.com/a-/AAuE7mDf0h-7dEMeyjYDwWKtGkQlLXC3IBwfxiDNyi0e=s64",
      "userId": "10422991521784029462"
     },
     "user_tz": -60
    },
    "id": "MWZZyffFrQFs",
    "outputId": "3a7cfde9-bd16-424d-82d9-5d57f3c34676",
    "slideshow": {
     "slide_type": "fragment"
    }
   },
   "outputs": [
    {
     "name": "stdout",
     "output_type": "stream",
     "text": [
      "{'Alexander', 'John'}\n"
     ]
    }
   ],
   "source": [
    "# We find the difference between both sets by subtracting one set from the other\n",
    "boy_only_names = boy_names - girl_names\n",
    "print(boy_only_names)"
   ]
  },
  {
   "cell_type": "markdown",
   "metadata": {
    "colab_type": "text",
    "id": "ZLtdkLC7rSou",
    "slideshow": {
     "slide_type": "slide"
    }
   },
   "source": [
    "## Summary\n",
    "\n",
    "In this lesson we examined the tuple, dict, and set data structures. We learned some features to each data structure that makes them particularly useful in certain situations. Tuples are immutable. This trait can be necessary at times. Dictionaries allow to attach a label to each value in the collection. This allows for fast retrieval of the value. Sets are a collection of unique unordered values. This means that we can compare sets and find their intersection, union, and difference."
   ]
  }
 ],
 "metadata": {
  "celltoolbar": "Slideshow",
  "colab": {
   "authorship_tag": "ABX9TyOlcr06M+nuyYFw0KbvmOOI",
   "collapsed_sections": [],
   "name": "Dicts, Sets and Tuples.ipynb",
   "provenance": []
  },
  "kernelspec": {
   "display_name": "Python 3",
   "language": "python",
   "name": "python3"
  },
  "language_info": {
   "codemirror_mode": {
    "name": "ipython",
    "version": 3
   },
   "file_extension": ".py",
   "mimetype": "text/x-python",
   "name": "python",
   "nbconvert_exporter": "python",
   "pygments_lexer": "ipython3",
   "version": "3.7.5"
  }
 },
 "nbformat": 4,
 "nbformat_minor": 4
}
