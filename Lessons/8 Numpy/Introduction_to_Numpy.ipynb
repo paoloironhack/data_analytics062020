{
 "cells": [
  {
   "cell_type": "markdown",
   "metadata": {
    "colab_type": "text",
    "id": "Ob8zlLPdiab6",
    "slideshow": {
     "slide_type": "slide"
    }
   },
   "source": [
    "# Introduction to Numpy"
   ]
  },
  {
   "cell_type": "markdown",
   "metadata": {
    "slideshow": {
     "slide_type": "slide"
    }
   },
   "source": [
    "## Introduction \n"
   ]
  },
  {
   "cell_type": "markdown",
   "metadata": {
    "colab_type": "text",
    "id": "OdUZOny1iucz",
    "slideshow": {
     "slide_type": "fragment"
    }
   },
   "source": [
    "\n",
    "Many of the libraries you will use to perform data analysis in Python, as well as many of the mathematical functions you'll use, will involve working with Numpy. Numpy (short for Numerical Python) is used for numeric computing and includes support for multi-dimensional arrays and matrices along with a variety of mathematical functions to apply to them. In this lesson, we will learn about Numpy's primary data structures and how to apply some basic math functions to them."
   ]
  },
  {
   "cell_type": "markdown",
   "metadata": {
    "slideshow": {
     "slide_type": "slide"
    }
   },
   "source": [
    "## Importing Numpy\n"
   ]
  },
  {
   "cell_type": "markdown",
   "metadata": {
    "colab_type": "text",
    "id": "LSnV47g5izDe",
    "slideshow": {
     "slide_type": "fragment"
    }
   },
   "source": [
    "\n",
    "In order to use Numpy, you must first import it. It is common to also **alias** it to *np* using the as keyword so that you don't have to spell out \"numpy\" every time you want to call one of its methods."
   ]
  },
  {
   "cell_type": "code",
   "execution_count": 2,
   "metadata": {
    "colab": {},
    "colab_type": "code",
    "id": "nR2QmU_SiX6C",
    "slideshow": {
     "slide_type": "fragment"
    }
   },
   "outputs": [],
   "source": [
    "#Import numpy here\n",
    "import numpy as np"
   ]
  },
  {
   "cell_type": "markdown",
   "metadata": {
    "colab_type": "text",
    "id": "HYaaAs9ci7tX",
    "slideshow": {
     "slide_type": "fragment"
    }
   },
   "source": [
    "Once the library has been imported, it is ready to use."
   ]
  },
  {
   "cell_type": "markdown",
   "metadata": {
    "slideshow": {
     "slide_type": "slide"
    }
   },
   "source": [
    "## Numpy Arrays\n"
   ]
  },
  {
   "cell_type": "markdown",
   "metadata": {
    "colab_type": "text",
    "id": "eMltMdBwi-nI",
    "slideshow": {
     "slide_type": "fragment"
    }
   },
   "source": [
    "\n",
    "The basic data structures in Numpy are **arrays**, which can be used to represent tabular data. \n"
   ]
  },
  {
   "cell_type": "markdown",
   "metadata": {
    "slideshow": {
     "slide_type": "fragment"
    }
   },
   "source": [
    "You can think of arrays as lists of lists, where all the elements of a list are of the same type (typically numeric since the reason you use Numpy is to do numeric computing). A matrix is just a two-dimensional array.\n"
   ]
  },
  {
   "cell_type": "code",
   "execution_count": 3,
   "metadata": {
    "slideshow": {
     "slide_type": "slide"
    }
   },
   "outputs": [
    {
     "data": {
      "text/plain": [
       "array([[1., 1., 1., 1.],\n",
       "       [1., 1., 1., 1.],\n",
       "       [1., 1., 1., 1.],\n",
       "       [1., 1., 1., 1.],\n",
       "       [1., 1., 1., 1.],\n",
       "       [1., 1., 1., 1.],\n",
       "       [1., 1., 1., 1.],\n",
       "       [1., 1., 1., 1.],\n",
       "       [1., 1., 1., 1.],\n",
       "       [1., 1., 1., 1.]])"
      ]
     },
     "execution_count": 3,
     "metadata": {},
     "output_type": "execute_result"
    }
   ],
   "source": [
    "# 2D Array with ones\n",
    "np.ones((10,4))"
   ]
  },
  {
   "cell_type": "code",
   "execution_count": 8,
   "metadata": {
    "slideshow": {
     "slide_type": "slide"
    }
   },
   "outputs": [
    {
     "data": {
      "text/plain": [
       "array([[0., 0., 0., 0.],\n",
       "       [0., 0., 0., 0.],\n",
       "       [0., 0., 0., 0.],\n",
       "       [0., 0., 0., 0.],\n",
       "       [0., 0., 0., 0.],\n",
       "       [0., 0., 0., 0.],\n",
       "       [0., 0., 0., 0.],\n",
       "       [0., 0., 0., 0.],\n",
       "       [0., 0., 0., 0.],\n",
       "       [0., 0., 0., 0.]])"
      ]
     },
     "execution_count": 8,
     "metadata": {},
     "output_type": "execute_result"
    }
   ],
   "source": [
    "# 2D Array with zeros\n",
    "np.zeros((10,4))"
   ]
  },
  {
   "cell_type": "code",
   "execution_count": 14,
   "metadata": {
    "colab": {
     "base_uri": "https://localhost:8080/",
     "height": 187
    },
    "colab_type": "code",
    "id": "do1Q0THMjEmQ",
    "outputId": "31072ffd-a68a-41a4-ca62-e6a38534d300",
    "slideshow": {
     "slide_type": "fragment"
    }
   },
   "outputs": [
    {
     "name": "stdout",
     "output_type": "stream",
     "text": [
      "[[0.01617942 0.38996265 0.97977879 0.58779777]\n",
      " [0.11216654 0.45869984 0.62367699 0.73824416]\n",
      " [0.58843779 0.82022847 0.26977629 0.12227111]\n",
      " [0.10413465 0.7642684  0.96471988 0.20501096]\n",
      " [0.43361536 0.78573036 0.33606134 0.10963201]\n",
      " [0.86130959 0.70943598 0.58564387 0.83752222]\n",
      " [0.7338895  0.71569929 0.59480651 0.09247232]\n",
      " [0.34927051 0.69189658 0.63272394 0.01007629]\n",
      " [0.09834709 0.62673641 0.22014677 0.23410377]\n",
      " [0.11161805 0.19474381 0.9619925  0.58782724]]\n"
     ]
    }
   ],
   "source": [
    "#Random 2d\n",
    "a = np.random.random((10,4))\n",
    "print(a)"
   ]
  },
  {
   "cell_type": "markdown",
   "metadata": {
    "slideshow": {
     "slide_type": "slide"
    }
   },
   "source": [
    "The **size** of an array is the total number of elements in every list.  "
   ]
  },
  {
   "cell_type": "markdown",
   "metadata": {
    "slideshow": {
     "slide_type": "fragment"
    }
   },
   "source": [
    "The **shape** of an array is the size of the array along each dimension (e.g. number of rows and number of columns for a two-dimensional array)."
   ]
  },
  {
   "cell_type": "markdown",
   "metadata": {
    "slideshow": {
     "slide_type": "slide"
    }
   },
   "source": [
    "Let's now calculate the shape and size of the array a using the shape and size methods."
   ]
  },
  {
   "cell_type": "code",
   "execution_count": 15,
   "metadata": {
    "colab": {
     "base_uri": "https://localhost:8080/",
     "height": 51
    },
    "colab_type": "code",
    "id": "XHoZoI-_jNPO",
    "outputId": "3850657a-f911-45bd-aaab-2f07342bd056",
    "slideshow": {
     "slide_type": "fragment"
    }
   },
   "outputs": [
    {
     "data": {
      "text/plain": [
       "(10, 4)"
      ]
     },
     "execution_count": 15,
     "metadata": {},
     "output_type": "execute_result"
    }
   ],
   "source": [
    "#print shape and size \n",
    "a.shape"
   ]
  },
  {
   "cell_type": "code",
   "execution_count": 16,
   "metadata": {
    "slideshow": {
     "slide_type": "fragment"
    }
   },
   "outputs": [
    {
     "data": {
      "text/plain": [
       "40"
      ]
     },
     "execution_count": 16,
     "metadata": {},
     "output_type": "execute_result"
    }
   ],
   "source": [
    "a.size"
   ]
  },
  {
   "cell_type": "markdown",
   "metadata": {
    "colab_type": "text",
    "id": "PKVHXXECjOYN",
    "slideshow": {
     "slide_type": "fragment"
    }
   },
   "source": [
    "As you can see, the array has a shape of 10 x 4 (just as we specified) and the total number of elements in the array is 40.\n"
   ]
  },
  {
   "cell_type": "markdown",
   "metadata": {
    "slideshow": {
     "slide_type": "slide"
    }
   },
   "source": [
    "Now that we have seen an example of a basic two-dimensional array (a matrix), let's learn about how creating arrays with more dimensions than two works in Numpy. Here we will make a 3D array."
   ]
  },
  {
   "cell_type": "code",
   "execution_count": 22,
   "metadata": {
    "colab": {
     "base_uri": "https://localhost:8080/",
     "height": 255
    },
    "colab_type": "code",
    "id": "94vKakuvjKQv",
    "outputId": "fffb42d9-268b-4685-e20a-369e93a6649a",
    "slideshow": {
     "slide_type": "fragment"
    }
   },
   "outputs": [
    {
     "name": "stdout",
     "output_type": "stream",
     "text": [
      "[[[0.04270963 0.74065943 0.94581437]\n",
      "  [0.08520703 0.68688327 0.91145746]]\n",
      "\n",
      " [[0.07179344 0.51410679 0.27434393]\n",
      "  [0.03876315 0.27981168 0.25361252]]\n",
      "\n",
      " [[0.9800798  0.33290112 0.37060055]\n",
      "  [0.33858149 0.807507   0.33474051]]\n",
      "\n",
      " [[0.3606786  0.65971935 0.25664242]\n",
      "  [0.93515678 0.0441546  0.83539625]]\n",
      "\n",
      " [[0.57225676 0.60493996 0.68807439]\n",
      "  [0.89602732 0.54404326 0.9094691 ]]]\n"
     ]
    }
   ],
   "source": [
    "# random 3d\n",
    "b = np.random.random((5,2,3))\n",
    "print(b)"
   ]
  },
  {
   "cell_type": "markdown",
   "metadata": {
    "colab_type": "text",
    "id": "TzE8pRuLjWW6",
    "slideshow": {
     "slide_type": "slide"
    }
   },
   "source": [
    "This created an array with **five groups** of 2 x 3 matrices. "
   ]
  },
  {
   "cell_type": "markdown",
   "metadata": {
    "slideshow": {
     "slide_type": "fragment"
    }
   },
   "source": [
    "Let's see what happens if we pass four dimensions."
   ]
  },
  {
   "cell_type": "code",
   "execution_count": 36,
   "metadata": {
    "colab": {
     "base_uri": "https://localhost:8080/",
     "height": 527
    },
    "colab_type": "code",
    "id": "C105BWoojeIG",
    "outputId": "50bd763a-2cb7-4e6e-cd14-e63c48557fa2",
    "slideshow": {
     "slide_type": "slide"
    }
   },
   "outputs": [
    {
     "name": "stdout",
     "output_type": "stream",
     "text": [
      "[[[[8.77127577e-01 9.06006213e-01 5.94404034e-03 5.05126487e-01\n",
      "    6.63975884e-01]\n",
      "   [5.85401655e-01 1.06367358e-01 6.84349167e-01 8.07114352e-01\n",
      "    2.23284107e-02]\n",
      "   [4.83278422e-01 3.39832498e-01 2.13732025e-02 1.47060490e-01\n",
      "    4.54002336e-01]\n",
      "   [6.27880114e-01 6.83334062e-01 4.22432211e-01 9.36093516e-01\n",
      "    3.58235892e-01]]\n",
      "\n",
      "  [[5.14274485e-01 5.08926226e-01 6.23301275e-01 8.05512552e-01\n",
      "    4.03720371e-01]\n",
      "   [8.20401518e-01 5.64292833e-01 2.77955592e-01 2.83263380e-01\n",
      "    6.33626292e-01]\n",
      "   [6.80555770e-01 6.27382717e-01 3.73720571e-01 3.08718499e-01\n",
      "    1.63330371e-01]\n",
      "   [8.02506878e-01 3.92127253e-01 3.72467700e-02 7.03875424e-01\n",
      "    1.86666014e-01]]\n",
      "\n",
      "  [[1.11872663e-01 6.42502557e-01 8.86551581e-01 2.38958542e-01\n",
      "    6.04521164e-01]\n",
      "   [9.72726865e-01 7.20019589e-01 8.52915317e-01 6.73690689e-01\n",
      "    8.09018482e-01]\n",
      "   [7.07504108e-01 9.75812034e-01 7.63639547e-01 4.84049666e-01\n",
      "    3.94476451e-01]\n",
      "   [3.60742955e-01 3.83568825e-01 6.54792108e-01 6.13534494e-01\n",
      "    1.29893426e-01]]]\n",
      "\n",
      "\n",
      " [[[1.96025704e-01 9.77297216e-01 7.44278684e-01 9.74617952e-01\n",
      "    3.98596309e-01]\n",
      "   [2.84170718e-01 3.88944387e-01 6.43448646e-01 7.11612022e-01\n",
      "    6.86055153e-01]\n",
      "   [3.83334750e-01 7.79879362e-01 9.00796686e-04 7.03985564e-01\n",
      "    2.98982806e-01]\n",
      "   [5.09605449e-01 6.10988927e-01 6.80174628e-01 5.16300487e-02\n",
      "    4.84089820e-01]]\n",
      "\n",
      "  [[3.63194702e-01 3.35369458e-01 2.17410090e-01 6.04042139e-01\n",
      "    5.89755287e-01]\n",
      "   [8.36718890e-01 6.25238810e-01 8.70016461e-01 7.20378296e-02\n",
      "    1.83884692e-01]\n",
      "   [6.84678851e-02 8.84830746e-01 7.50334594e-01 9.13837009e-01\n",
      "    9.69609834e-01]\n",
      "   [8.31766075e-01 6.24070157e-01 6.24479747e-01 1.80326229e-02\n",
      "    7.23048287e-02]]\n",
      "\n",
      "  [[4.84834318e-02 1.70507536e-01 7.79197641e-01 9.27222078e-01\n",
      "    5.46475238e-01]\n",
      "   [6.65165850e-01 3.44586280e-01 1.57425105e-01 4.88573657e-01\n",
      "    3.52534130e-02]\n",
      "   [7.14731929e-01 3.85153603e-01 3.24928995e-01 4.13011273e-03\n",
      "    6.85791818e-01]\n",
      "   [3.92431008e-01 3.21630947e-01 1.22988837e-01 4.54057119e-01\n",
      "    9.29638482e-01]]]]\n"
     ]
    }
   ],
   "source": [
    "#random 4D array with 2 groups of 3 4x5 matrices \n",
    "c = np.random.random((2,3,4,5))\n",
    "print(c)"
   ]
  },
  {
   "cell_type": "markdown",
   "metadata": {
    "colab_type": "text",
    "id": "gs28DII6jhSS",
    "slideshow": {
     "slide_type": "slide"
    }
   },
   "source": [
    "This time, we got **two groups** of *three* 4 x 5 matrices."
   ]
  },
  {
   "cell_type": "markdown",
   "metadata": {
    "slideshow": {
     "slide_type": "slide"
    }
   },
   "source": [
    "## Extracting Data from Arrays"
   ]
  },
  {
   "cell_type": "markdown",
   "metadata": {
    "colab_type": "text",
    "id": "L8lfe-Vfjk1L",
    "slideshow": {
     "slide_type": "fragment"
    }
   },
   "source": [
    "\n",
    "Extracting elements from arrays works just like it does for other Python data structures. We just need to reference the indexes of the values we want to extract. "
   ]
  },
  {
   "cell_type": "markdown",
   "metadata": {
    "slideshow": {
     "slide_type": "slide"
    }
   },
   "source": [
    "Below are some examples of how to reference specific rows, columns, and values in a two dimensional array."
   ]
  },
  {
   "cell_type": "code",
   "execution_count": 37,
   "metadata": {
    "slideshow": {
     "slide_type": "fragment"
    }
   },
   "outputs": [
    {
     "name": "stdout",
     "output_type": "stream",
     "text": [
      "[[0.74024591 0.87532375 0.9308208  0.71659891]\n",
      " [0.57529683 0.51855885 0.10431804 0.82412266]\n",
      " [0.58095258 0.90819798 0.33994561 0.01654893]\n",
      " [0.91736055 0.28269243 0.08728579 0.66642938]\n",
      " [0.43139283 0.93736825 0.41923749 0.02768283]\n",
      " [0.72219965 0.08664036 0.23643587 0.19348195]\n",
      " [0.99653653 0.02671875 0.34348874 0.30674306]\n",
      " [0.75683787 0.9982862  0.32093589 0.2966172 ]\n",
      " [0.35968893 0.60212139 0.41595256 0.28390583]\n",
      " [0.39545656 0.82457162 0.93101163 0.68809695]]\n"
     ]
    }
   ],
   "source": [
    "a = np.random.random((10,4))\n",
    "print(a) "
   ]
  },
  {
   "cell_type": "code",
   "execution_count": 38,
   "metadata": {
    "colab": {
     "base_uri": "https://localhost:8080/",
     "height": 34
    },
    "colab_type": "code",
    "id": "5lDqGw26ju0Y",
    "outputId": "6fb6aefd-c470-4416-ee83-7bd4c15ed33b",
    "slideshow": {
     "slide_type": "fragment"
    }
   },
   "outputs": [
    {
     "name": "stdout",
     "output_type": "stream",
     "text": [
      "[0.74024591 0.87532375 0.9308208  0.71659891]\n"
     ]
    }
   ],
   "source": [
    "# First row of matrix a\n",
    "print(a[0]) "
   ]
  },
  {
   "cell_type": "code",
   "execution_count": 39,
   "metadata": {
    "slideshow": {
     "slide_type": "slide"
    }
   },
   "outputs": [
    {
     "name": "stdout",
     "output_type": "stream",
     "text": [
      "[[0.74024591 0.87532375 0.9308208  0.71659891]\n",
      " [0.57529683 0.51855885 0.10431804 0.82412266]\n",
      " [0.58095258 0.90819798 0.33994561 0.01654893]\n",
      " [0.91736055 0.28269243 0.08728579 0.66642938]\n",
      " [0.43139283 0.93736825 0.41923749 0.02768283]\n",
      " [0.72219965 0.08664036 0.23643587 0.19348195]\n",
      " [0.99653653 0.02671875 0.34348874 0.30674306]\n",
      " [0.75683787 0.9982862  0.32093589 0.2966172 ]\n",
      " [0.35968893 0.60212139 0.41595256 0.28390583]\n",
      " [0.39545656 0.82457162 0.93101163 0.68809695]]\n"
     ]
    }
   ],
   "source": [
    "print(a)"
   ]
  },
  {
   "cell_type": "code",
   "execution_count": 40,
   "metadata": {
    "colab": {
     "base_uri": "https://localhost:8080/",
     "height": 51
    },
    "colab_type": "code",
    "id": "NAIfUGMhjxDj",
    "outputId": "e4e1d44f-8c9b-42e1-ee4b-ecb1d67bf07d",
    "slideshow": {
     "slide_type": "fragment"
    }
   },
   "outputs": [
    {
     "name": "stdout",
     "output_type": "stream",
     "text": [
      "[0.74024591 0.57529683 0.58095258 0.91736055 0.43139283 0.72219965\n",
      " 0.99653653 0.75683787 0.35968893 0.39545656]\n"
     ]
    }
   ],
   "source": [
    "# First column of matrix a \n",
    "print(a[:,0])"
   ]
  },
  {
   "cell_type": "code",
   "execution_count": 41,
   "metadata": {
    "colab": {
     "base_uri": "https://localhost:8080/",
     "height": 34
    },
    "colab_type": "code",
    "id": "SGyQy_sWjzR4",
    "outputId": "13f26c0d-0349-4686-9c96-836a1271677f",
    "slideshow": {
     "slide_type": "fragment"
    }
   },
   "outputs": [
    {
     "name": "stdout",
     "output_type": "stream",
     "text": [
      "0.41923748956344065\n"
     ]
    }
   ],
   "source": [
    "# element at row 4 (i.e. 5), column 2 (i.e. 3) in a\n",
    "print(a[4,2])"
   ]
  },
  {
   "cell_type": "markdown",
   "metadata": {
    "colab_type": "text",
    "id": "o3QLeaDwj1cn",
    "slideshow": {
     "slide_type": "slide"
    }
   },
   "source": [
    "What about arrays that have more than two dimensions? You just pass a list of indexes for the values you want, and it will return the corresponding dimensions or values."
   ]
  },
  {
   "cell_type": "code",
   "execution_count": 42,
   "metadata": {},
   "outputs": [
    {
     "name": "stdout",
     "output_type": "stream",
     "text": [
      "[[[[0.08678098 0.5804784  0.08974516 0.12495143 0.81909481]\n",
      "   [0.43575185 0.3071634  0.7096875  0.04146953 0.97600159]\n",
      "   [0.87359699 0.89882962 0.53804867 0.03504244 0.88728242]\n",
      "   [0.12550027 0.03673878 0.28677385 0.20882083 0.3661817 ]]\n",
      "\n",
      "  [[0.6062902  0.79022307 0.72212698 0.52742105 0.0625092 ]\n",
      "   [0.61547385 0.87708731 0.60127654 0.3505286  0.48938043]\n",
      "   [0.56208447 0.26379103 0.47417847 0.6129672  0.27090565]\n",
      "   [0.23468663 0.08183805 0.39345705 0.09835865 0.68874647]]\n",
      "\n",
      "  [[0.97667667 0.50380886 0.03653966 0.12220725 0.7842588 ]\n",
      "   [0.90049091 0.54064192 0.61279105 0.08748938 0.46362323]\n",
      "   [0.50082462 0.01763192 0.57878979 0.47492718 0.90249035]\n",
      "   [0.51831825 0.38156494 0.68848708 0.52933942 0.27989388]]]\n",
      "\n",
      "\n",
      " [[[0.31559141 0.02928304 0.15285002 0.2265143  0.76414572]\n",
      "   [0.38699222 0.57742915 0.12761925 0.74174251 0.4236123 ]\n",
      "   [0.36289553 0.76602182 0.65328314 0.96739914 0.80004701]\n",
      "   [0.64566264 0.53336449 0.43013794 0.46666215 0.85683827]]\n",
      "\n",
      "  [[0.13104401 0.19711662 0.31499864 0.35249692 0.67444243]\n",
      "   [0.42158887 0.39020293 0.16575941 0.11511349 0.81199572]\n",
      "   [0.54505049 0.28981097 0.26481624 0.28121388 0.2788891 ]\n",
      "   [0.35458198 0.91662278 0.53498248 0.39482797 0.96676033]]\n",
      "\n",
      "  [[0.40039742 0.1534516  0.86318422 0.62515399 0.84123504]\n",
      "   [0.13490591 0.75852616 0.64617318 0.78324707 0.39398354]\n",
      "   [0.94889865 0.550241   0.54368755 0.76050815 0.30711204]\n",
      "   [0.4934935  0.73219502 0.88499513 0.28854118 0.45856264]]]]\n"
     ]
    }
   ],
   "source": [
    "c = np.random.random((2,3,4,5))\n",
    "print(c) "
   ]
  },
  {
   "cell_type": "code",
   "execution_count": 47,
   "metadata": {
    "colab": {
     "base_uri": "https://localhost:8080/",
     "height": 255
    },
    "colab_type": "code",
    "id": "MMEjZ1hcj4Cm",
    "outputId": "ceeaa267-d80b-4d9b-e4f2-805071958516",
    "slideshow": {
     "slide_type": "slide"
    }
   },
   "outputs": [
    {
     "name": "stdout",
     "output_type": "stream",
     "text": [
      "[[[0.08678098 0.5804784  0.08974516 0.12495143 0.81909481]\n",
      "  [0.43575185 0.3071634  0.7096875  0.04146953 0.97600159]\n",
      "  [0.87359699 0.89882962 0.53804867 0.03504244 0.88728242]\n",
      "  [0.12550027 0.03673878 0.28677385 0.20882083 0.3661817 ]]\n",
      "\n",
      " [[0.6062902  0.79022307 0.72212698 0.52742105 0.0625092 ]\n",
      "  [0.61547385 0.87708731 0.60127654 0.3505286  0.48938043]\n",
      "  [0.56208447 0.26379103 0.47417847 0.6129672  0.27090565]\n",
      "  [0.23468663 0.08183805 0.39345705 0.09835865 0.68874647]]\n",
      "\n",
      " [[0.97667667 0.50380886 0.03653966 0.12220725 0.7842588 ]\n",
      "  [0.90049091 0.54064192 0.61279105 0.08748938 0.46362323]\n",
      "  [0.50082462 0.01763192 0.57878979 0.47492718 0.90249035]\n",
      "  [0.51831825 0.38156494 0.68848708 0.52933942 0.27989388]]]\n"
     ]
    }
   ],
   "source": [
    "# First group of array c\n",
    "print(c[0])"
   ]
  },
  {
   "cell_type": "code",
   "execution_count": 49,
   "metadata": {
    "colab": {
     "base_uri": "https://localhost:8080/",
     "height": 85
    },
    "colab_type": "code",
    "id": "B0QeQbVYj9XB",
    "outputId": "2a687d6e-053d-4cc5-c0c7-48b0fbf6df93",
    "slideshow": {
     "slide_type": "slide"
    }
   },
   "outputs": [
    {
     "name": "stdout",
     "output_type": "stream",
     "text": [
      "[[0.6062902  0.79022307 0.72212698 0.52742105 0.0625092 ]\n",
      " [0.61547385 0.87708731 0.60127654 0.3505286  0.48938043]\n",
      " [0.56208447 0.26379103 0.47417847 0.6129672  0.27090565]\n",
      " [0.23468663 0.08183805 0.39345705 0.09835865 0.68874647]]\n"
     ]
    }
   ],
   "source": [
    "# Second subgroup of the first group\n",
    "print(c[0][1])"
   ]
  },
  {
   "cell_type": "code",
   "execution_count": 52,
   "metadata": {
    "colab": {
     "base_uri": "https://localhost:8080/",
     "height": 34
    },
    "colab_type": "code",
    "id": "NyMlyQarkAlA",
    "outputId": "215c7580-f24c-4adb-e68a-766517c736a0",
    "slideshow": {
     "slide_type": "slide"
    }
   },
   "outputs": [
    {
     "name": "stdout",
     "output_type": "stream",
     "text": [
      "[0.56208447 0.26379103 0.47417847 0.6129672  0.27090565]\n",
      "[0.56208447 0.26379103 0.47417847 0.6129672  0.27090565]\n"
     ]
    }
   ],
   "source": [
    "# Third row of the second subgroup\n",
    "print(c[0,1,2])\n",
    "#print(c[0][1][2])"
   ]
  },
  {
   "cell_type": "code",
   "execution_count": 55,
   "metadata": {
    "colab": {
     "base_uri": "https://localhost:8080/",
     "height": 34
    },
    "colab_type": "code",
    "id": "FBWGZsFGkEJ1",
    "outputId": "c9b9245f-b83d-4e6e-e054-4cd3c1ee1f69",
    "slideshow": {
     "slide_type": "slide"
    }
   },
   "outputs": [
    {
     "name": "stdout",
     "output_type": "stream",
     "text": [
      "[0.52742105 0.3505286  0.6129672  0.09835865]\n",
      "[0.52742105 0.3505286  0.6129672  0.09835865]\n"
     ]
    }
   ],
   "source": [
    "# Fourth column of the second subgroup\n",
    "print(c[0,1,:,3])\n",
    "\n",
    "print(c[0][1][:,3])"
   ]
  },
  {
   "cell_type": "code",
   "execution_count": 56,
   "metadata": {
    "colab": {
     "base_uri": "https://localhost:8080/",
     "height": 34
    },
    "colab_type": "code",
    "id": "qGeD4cZKkGcM",
    "outputId": "1fedbafd-4049-40ac-b438-06edf9f17ec1",
    "slideshow": {
     "slide_type": "slide"
    }
   },
   "outputs": [
    {
     "name": "stdout",
     "output_type": "stream",
     "text": [
      "0.6129671970045314\n",
      "0.6129671970045314\n"
     ]
    }
   ],
   "source": [
    "# Value in the third row and fourth column of the second subgroup\n",
    "print(c[0,1,2,3])\n",
    "print(c[0][1][2][3])"
   ]
  },
  {
   "cell_type": "markdown",
   "metadata": {
    "slideshow": {
     "slide_type": "slide"
    }
   },
   "source": [
    "## Converting other Data Structures to Arrays \n"
   ]
  },
  {
   "cell_type": "markdown",
   "metadata": {
    "colab_type": "text",
    "id": "pHMQtLfXkK4N",
    "slideshow": {
     "slide_type": "fragment"
    }
   },
   "source": [
    "\n",
    "If you have data in another type of data structure and you would like to convert it to an array so that you can take advantage of Numpy's mathematical functions, you can convert them using the array() method as follows."
   ]
  },
  {
   "cell_type": "code",
   "execution_count": 62,
   "metadata": {
    "colab": {
     "base_uri": "https://localhost:8080/",
     "height": 68
    },
    "colab_type": "code",
    "id": "l4-vnogqkIgN",
    "outputId": "827ce79a-c5c3-4ea2-bdce-e962f43ba1d6",
    "slideshow": {
     "slide_type": "fragment"
    }
   },
   "outputs": [],
   "source": [
    "lst_lst = [(1,2,3),(4,5,6),(7,8,9), (10,12,14)] "
   ]
  },
  {
   "cell_type": "code",
   "execution_count": 63,
   "metadata": {
    "slideshow": {
     "slide_type": "fragment"
    }
   },
   "outputs": [
    {
     "name": "stdout",
     "output_type": "stream",
     "text": [
      "[[ 1  2  3]\n",
      " [ 4  5  6]\n",
      " [ 7  8  9]\n",
      " [10 12 14]]\n"
     ]
    }
   ],
   "source": [
    "# To array\n",
    "d = np.array(lst_lst)\n",
    "print(d) "
   ]
  },
  {
   "cell_type": "markdown",
   "metadata": {
    "colab_type": "text",
    "id": "k28xAKghkV1u",
    "slideshow": {
     "slide_type": "fragment"
    }
   },
   "source": [
    "This works the same way whether you have a list of lists, a list of tuples, a tuple of lists, or a tuple of tuples."
   ]
  },
  {
   "cell_type": "markdown",
   "metadata": {
    "slideshow": {
     "slide_type": "slide"
    }
   },
   "source": [
    "## Numpy Math Functions\n"
   ]
  },
  {
   "cell_type": "markdown",
   "metadata": {
    "colab_type": "text",
    "id": "aPVnpKz4kZzx",
    "slideshow": {
     "slide_type": "fragment"
    }
   },
   "source": [
    "\n",
    "Now that we know how to create and navigate arrays, let's take a look at how to perform mathematical calculations on them."
   ]
  },
  {
   "cell_type": "markdown",
   "metadata": {
    "slideshow": {
     "slide_type": "fragment"
    }
   },
   "source": [
    "One of the most common (and useful) functions is np.sum, which lets you obtain the sum of any elements you select from an array."
   ]
  },
  {
   "cell_type": "code",
   "execution_count": 64,
   "metadata": {
    "colab": {
     "base_uri": "https://localhost:8080/",
     "height": 34
    },
    "colab_type": "code",
    "id": "zx_XcZEUkWP1",
    "outputId": "edcdf449-ac0e-4152-cc0f-9ac2b2840d96",
    "slideshow": {
     "slide_type": "fragment"
    }
   },
   "outputs": [
    {
     "data": {
      "text/plain": [
       "20.68610794578207"
      ]
     },
     "execution_count": 64,
     "metadata": {},
     "output_type": "execute_result"
    }
   ],
   "source": [
    "# Sum of all elements in matrix a\n",
    "np.sum(a)"
   ]
  },
  {
   "cell_type": "markdown",
   "metadata": {
    "slideshow": {
     "slide_type": "slide"
    }
   },
   "source": [
    "Instead of taking the sum of one entire matrix, we may also take the sum over all values in one column. In that case, we'd use axis=0.  "
   ]
  },
  {
   "cell_type": "code",
   "execution_count": 65,
   "metadata": {
    "colab": {
     "base_uri": "https://localhost:8080/",
     "height": 34
    },
    "colab_type": "code",
    "id": "wbv6ER5Bkhwl",
    "outputId": "11be11ad-fdfe-483f-da82-1bc7c28a000d",
    "slideshow": {
     "slide_type": "fragment"
    }
   },
   "outputs": [
    {
     "data": {
      "text/plain": [
       "array([6.47596825, 6.06047958, 4.12943242, 4.02022769])"
      ]
     },
     "execution_count": 65,
     "metadata": {},
     "output_type": "execute_result"
    }
   ],
   "source": [
    "# Sum of each column in matrix a\n",
    "np.sum(a, axis = 0)"
   ]
  },
  {
   "cell_type": "markdown",
   "metadata": {
    "slideshow": {
     "slide_type": "slide"
    }
   },
   "source": [
    "If we want to sum of the values for all values in each row, we may use axis=1. "
   ]
  },
  {
   "cell_type": "code",
   "execution_count": 66,
   "metadata": {
    "colab": {
     "base_uri": "https://localhost:8080/",
     "height": 51
    },
    "colab_type": "code",
    "id": "1Rhiz_sYkkZ6",
    "outputId": "f773daaf-7d46-451c-be11-c9fae2a6811a",
    "slideshow": {
     "slide_type": "fragment"
    }
   },
   "outputs": [
    {
     "data": {
      "text/plain": [
       "array([3.26298937, 2.02229637, 1.84564511, 1.95376814, 1.8156814 ,\n",
       "       1.23875782, 1.67348708, 2.37267716, 1.66166871, 2.83913678])"
      ]
     },
     "execution_count": 66,
     "metadata": {},
     "output_type": "execute_result"
    }
   ],
   "source": [
    "# Sum of each row in matrix a\n",
    "np.sum(a, axis = 1)"
   ]
  },
  {
   "cell_type": "code",
   "execution_count": 67,
   "metadata": {
    "slideshow": {
     "slide_type": "slide"
    }
   },
   "outputs": [
    {
     "data": {
      "text/html": [
       "<img src=\"https://i.stack.imgur.com/dcoE3.jpg\"/>"
      ],
      "text/plain": [
       "<IPython.core.display.Image object>"
      ]
     },
     "execution_count": 67,
     "metadata": {},
     "output_type": "execute_result"
    }
   ],
   "source": [
    "# Show picture\n",
    "from IPython.display import Image \n",
    "from IPython.core.display import HTML \n",
    "Image(url= \"https://i.stack.imgur.com/dcoE3.jpg\")"
   ]
  },
  {
   "cell_type": "markdown",
   "metadata": {
    "slideshow": {
     "slide_type": "slide"
    }
   },
   "source": [
    "We can also use the sum operation for arrays of higher dimensions. "
   ]
  },
  {
   "cell_type": "code",
   "execution_count": 68,
   "metadata": {
    "slideshow": {
     "slide_type": "slide"
    }
   },
   "outputs": [
    {
     "name": "stdout",
     "output_type": "stream",
     "text": [
      "[[[0.04270963 0.74065943 0.94581437]\n",
      "  [0.08520703 0.68688327 0.91145746]]\n",
      "\n",
      " [[0.07179344 0.51410679 0.27434393]\n",
      "  [0.03876315 0.27981168 0.25361252]]\n",
      "\n",
      " [[0.9800798  0.33290112 0.37060055]\n",
      "  [0.33858149 0.807507   0.33474051]]\n",
      "\n",
      " [[0.3606786  0.65971935 0.25664242]\n",
      "  [0.93515678 0.0441546  0.83539625]]\n",
      "\n",
      " [[0.57225676 0.60493996 0.68807439]\n",
      "  [0.89602732 0.54404326 0.9094691 ]]]\n",
      "(5, 2, 3)\n"
     ]
    }
   ],
   "source": [
    "print(b)\n",
    "print(b.shape)"
   ]
  },
  {
   "cell_type": "code",
   "execution_count": 69,
   "metadata": {
    "slideshow": {
     "slide_type": "slide"
    }
   },
   "outputs": [
    {
     "name": "stdout",
     "output_type": "stream",
     "text": [
      "[[[0.04270963 0.74065943 0.94581437]\n",
      "  [0.08520703 0.68688327 0.91145746]]\n",
      "\n",
      " [[0.07179344 0.51410679 0.27434393]\n",
      "  [0.03876315 0.27981168 0.25361252]]]\n"
     ]
    }
   ],
   "source": [
    "# Print the first two (matrix) groups from b\n",
    "print(b[:2])"
   ]
  },
  {
   "cell_type": "code",
   "execution_count": 73,
   "metadata": {
    "colab": {
     "base_uri": "https://localhost:8080/",
     "height": 34
    },
    "colab_type": "code",
    "id": "k6VxhRCIkma-",
    "outputId": "92644069-5edf-4a91-e997-ef0f323f622a",
    "slideshow": {
     "slide_type": "slide"
    }
   },
   "outputs": [
    {
     "name": "stdout",
     "output_type": "stream",
     "text": [
      "[[[0.04270963 0.74065943 0.94581437]\n",
      "  [0.08520703 0.68688327 0.91145746]]\n",
      "\n",
      " [[0.07179344 0.51410679 0.27434393]\n",
      "  [0.03876315 0.27981168 0.25361252]]]\n"
     ]
    },
    {
     "data": {
      "text/plain": [
       "4.84516270515623"
      ]
     },
     "execution_count": 73,
     "metadata": {},
     "output_type": "execute_result"
    }
   ],
   "source": [
    "# Sum of all the elements in the first two groups of array b\n",
    "print(b[:2])\n",
    "\n",
    "np.sum(b[:2])"
   ]
  },
  {
   "cell_type": "markdown",
   "metadata": {
    "colab_type": "text",
    "id": "V1TsVq5VkrJi",
    "slideshow": {
     "slide_type": "slide"
    }
   },
   "source": [
    "The np.mean function works the same way and is also very useful."
   ]
  },
  {
   "cell_type": "code",
   "execution_count": 74,
   "metadata": {
    "colab": {
     "base_uri": "https://localhost:8080/",
     "height": 34
    },
    "colab_type": "code",
    "id": "FRpun485kocy",
    "outputId": "5361b04e-6f20-466b-f4e4-e37443aefdd6",
    "slideshow": {
     "slide_type": "fragment"
    }
   },
   "outputs": [
    {
     "data": {
      "text/plain": [
       "0.5171526986445517"
      ]
     },
     "execution_count": 74,
     "metadata": {},
     "output_type": "execute_result"
    }
   ],
   "source": [
    "# Mean of all elements in matrix a\n",
    "np.mean(a)"
   ]
  },
  {
   "cell_type": "code",
   "execution_count": 76,
   "metadata": {
    "colab": {
     "base_uri": "https://localhost:8080/",
     "height": 34
    },
    "colab_type": "code",
    "id": "ymOKw1s_kupu",
    "outputId": "c5eb8a7a-27fd-4932-c366-f39cb11ce285",
    "slideshow": {
     "slide_type": "fragment"
    }
   },
   "outputs": [
    {
     "data": {
      "text/plain": [
       "array([0.64759682, 0.60604796, 0.41294324, 0.40202277])"
      ]
     },
     "execution_count": 76,
     "metadata": {},
     "output_type": "execute_result"
    }
   ],
   "source": [
    "# Mean of each column in matrix a\n",
    "np.mean(a, axis = 0)"
   ]
  },
  {
   "cell_type": "code",
   "execution_count": 77,
   "metadata": {
    "colab": {
     "base_uri": "https://localhost:8080/",
     "height": 51
    },
    "colab_type": "code",
    "id": "zF-OPttzkzI9",
    "outputId": "02281467-a9de-4e5b-9028-175963f6a0e8",
    "slideshow": {
     "slide_type": "fragment"
    }
   },
   "outputs": [
    {
     "data": {
      "text/plain": [
       "array([0.81574734, 0.50557409, 0.46141128, 0.48844204, 0.45392035,\n",
       "       0.30968946, 0.41837177, 0.59316929, 0.41541718, 0.70978419])"
      ]
     },
     "execution_count": 77,
     "metadata": {},
     "output_type": "execute_result"
    }
   ],
   "source": [
    "# Mean of each row in matrix a\n",
    "np.mean(a, axis = 1)"
   ]
  },
  {
   "cell_type": "code",
   "execution_count": 79,
   "metadata": {
    "colab": {
     "base_uri": "https://localhost:8080/",
     "height": 34
    },
    "colab_type": "code",
    "id": "1uhdRu9sk1Yr",
    "outputId": "fb75560e-aded-4bc6-b62e-b1c1d13841c1",
    "slideshow": {
     "slide_type": "slide"
    }
   },
   "outputs": [
    {
     "name": "stdout",
     "output_type": "stream",
     "text": [
      "[[[0.04270963 0.74065943 0.94581437]\n",
      "  [0.08520703 0.68688327 0.91145746]]\n",
      "\n",
      " [[0.07179344 0.51410679 0.27434393]\n",
      "  [0.03876315 0.27981168 0.25361252]]]\n"
     ]
    },
    {
     "data": {
      "text/plain": [
       "0.4037635587630191"
      ]
     },
     "execution_count": 79,
     "metadata": {},
     "output_type": "execute_result"
    }
   ],
   "source": [
    "# Mean of all the elements in the first two groups of array b\n",
    "print(b[:2])\n",
    "\n",
    "np.mean(b[:2])"
   ]
  },
  {
   "cell_type": "markdown",
   "metadata": {
    "colab_type": "text",
    "id": "SWrkSbtzk5tm",
    "slideshow": {
     "slide_type": "slide"
    }
   },
   "source": [
    "In addition to letting you perform calculations on individual arrays, Numpy also lets you perform calculations between arrays. For example, let's select two of the subarrays from array c to illustrate how this works."
   ]
  },
  {
   "cell_type": "code",
   "execution_count": 80,
   "metadata": {
    "colab": {
     "base_uri": "https://localhost:8080/",
     "height": 85
    },
    "colab_type": "code",
    "id": "ghLPrFbvk6GG",
    "outputId": "b05b9bc9-1f57-451c-ee72-7efbb5ee8a34",
    "slideshow": {
     "slide_type": "fragment"
    }
   },
   "outputs": [
    {
     "name": "stdout",
     "output_type": "stream",
     "text": [
      "[[0.08678098 0.5804784  0.08974516 0.12495143 0.81909481]\n",
      " [0.43575185 0.3071634  0.7096875  0.04146953 0.97600159]\n",
      " [0.87359699 0.89882962 0.53804867 0.03504244 0.88728242]\n",
      " [0.12550027 0.03673878 0.28677385 0.20882083 0.3661817 ]]\n"
     ]
    },
    {
     "data": {
      "text/plain": [
       "(4, 5)"
      ]
     },
     "execution_count": 80,
     "metadata": {},
     "output_type": "execute_result"
    }
   ],
   "source": [
    "# Assign subarray of c to x\n",
    "x = c[0,0] \n",
    "print(x)\n",
    "x.shape"
   ]
  },
  {
   "cell_type": "code",
   "execution_count": 83,
   "metadata": {
    "colab": {
     "base_uri": "https://localhost:8080/",
     "height": 85
    },
    "colab_type": "code",
    "id": "sC35Jnwhk8Cd",
    "outputId": "6affbe1e-707f-4437-9961-38f74c81df13",
    "slideshow": {
     "slide_type": "slide"
    }
   },
   "outputs": [
    {
     "name": "stdout",
     "output_type": "stream",
     "text": [
      "[[0.6062902  0.79022307 0.72212698 0.52742105 0.0625092 ]\n",
      " [0.61547385 0.87708731 0.60127654 0.3505286  0.48938043]\n",
      " [0.56208447 0.26379103 0.47417847 0.6129672  0.27090565]\n",
      " [0.23468663 0.08183805 0.39345705 0.09835865 0.68874647]]\n",
      "[[0.08678098 0.5804784  0.08974516 0.12495143 0.81909481]\n",
      " [0.43575185 0.3071634  0.7096875  0.04146953 0.97600159]\n",
      " [0.87359699 0.89882962 0.53804867 0.03504244 0.88728242]\n",
      " [0.12550027 0.03673878 0.28677385 0.20882083 0.3661817 ]]\n"
     ]
    }
   ],
   "source": [
    "# Assign subarray of c to y\n",
    "y = c[0,1]\n",
    "print(y)\n",
    "y.shape\n",
    "print(x)"
   ]
  },
  {
   "cell_type": "markdown",
   "metadata": {
    "colab_type": "text",
    "id": "GOWWI_G8k_kt",
    "slideshow": {
     "slide_type": "fragment"
    }
   },
   "source": [
    "Once we know that the two arrays have the *same dimension*, we can now add, subtract, multiply, and divide the two arrays."
   ]
  },
  {
   "cell_type": "code",
   "execution_count": 82,
   "metadata": {
    "colab": {
     "base_uri": "https://localhost:8080/",
     "height": 85
    },
    "colab_type": "code",
    "id": "JhQn3o0VlByZ",
    "outputId": "418fffb0-0b5a-4026-8876-4a50759b0cad",
    "slideshow": {
     "slide_type": "slide"
    }
   },
   "outputs": [
    {
     "data": {
      "text/plain": [
       "array([[0.69307118, 1.37070147, 0.81187214, 0.65237248, 0.88160401],\n",
       "       [1.0512257 , 1.1842507 , 1.31096404, 0.39199813, 1.46538202],\n",
       "       [1.43568146, 1.16262065, 1.01222715, 0.64800964, 1.15818807],\n",
       "       [0.3601869 , 0.11857683, 0.6802309 , 0.30717949, 1.05492817]])"
      ]
     },
     "execution_count": 82,
     "metadata": {},
     "output_type": "execute_result"
    }
   ],
   "source": [
    "# Add elements of x and y together\n",
    "np.add(x,y)"
   ]
  },
  {
   "cell_type": "code",
   "execution_count": 84,
   "metadata": {
    "slideshow": {
     "slide_type": "fragment"
    }
   },
   "outputs": [
    {
     "name": "stdout",
     "output_type": "stream",
     "text": [
      "[[0.69307118 1.37070147 0.81187214 0.65237248 0.88160401]\n",
      " [1.0512257  1.1842507  1.31096404 0.39199813 1.46538202]\n",
      " [1.43568146 1.16262065 1.01222715 0.64800964 1.15818807]\n",
      " [0.3601869  0.11857683 0.6802309  0.30717949 1.05492817]]\n"
     ]
    }
   ],
   "source": [
    "print(x + y)"
   ]
  },
  {
   "cell_type": "code",
   "execution_count": 91,
   "metadata": {
    "colab": {
     "base_uri": "https://localhost:8080/",
     "height": 85
    },
    "colab_type": "code",
    "id": "sbMZTYHclDxB",
    "outputId": "081e2fb8-93c4-4b26-dce2-e6e02fb17d5d",
    "slideshow": {
     "slide_type": "slide"
    }
   },
   "outputs": [
    {
     "name": "stdout",
     "output_type": "stream",
     "text": [
      "[[-0.51950922 -0.20974467 -0.63238182 -0.40246962  0.75658561]\n",
      " [-0.179722   -0.56992391  0.10841097 -0.30905907  0.48662116]\n",
      " [ 0.31151252  0.63503859  0.0638702  -0.57792475  0.61637677]\n",
      " [-0.10918636 -0.04509928 -0.10668319  0.11046218 -0.32256476]]\n"
     ]
    },
    {
     "data": {
      "text/plain": [
       "array([[-0.51950922, -0.20974467, -0.63238182, -0.40246962,  0.75658561],\n",
       "       [-0.179722  , -0.56992391,  0.10841097, -0.30905907,  0.48662116],\n",
       "       [ 0.31151252,  0.63503859,  0.0638702 , -0.57792475,  0.61637677],\n",
       "       [-0.10918636, -0.04509928, -0.10668319,  0.11046218, -0.32256476]])"
      ]
     },
     "execution_count": 91,
     "metadata": {},
     "output_type": "execute_result"
    }
   ],
   "source": [
    "# Subtract elements of x from elements of y\n",
    "array = np.subtract(x,y)\n",
    "type(array)\n",
    "print(array)\n",
    "array"
   ]
  },
  {
   "cell_type": "code",
   "execution_count": 86,
   "metadata": {
    "colab": {
     "base_uri": "https://localhost:8080/",
     "height": 85
    },
    "colab_type": "code",
    "id": "cMw9VDoQlFmW",
    "outputId": "444c7c1e-95f7-4989-b71d-7837d70dffec",
    "slideshow": {
     "slide_type": "slide"
    }
   },
   "outputs": [
    {
     "data": {
      "text/plain": [
       "array([[0.05261446, 0.45870743, 0.0648074 , 0.06590201, 0.05120096],\n",
       "       [0.26819387, 0.26940912, 0.42671844, 0.01453626, 0.47763608],\n",
       "       [0.4910353 , 0.23710319, 0.2551311 , 0.02147987, 0.24036982],\n",
       "       [0.02945323, 0.00300663, 0.11283319, 0.02053934, 0.25220635]])"
      ]
     },
     "execution_count": 86,
     "metadata": {},
     "output_type": "execute_result"
    }
   ],
   "source": [
    "# Multiply elements of x and y together\n",
    "np.multiply(x,y)"
   ]
  },
  {
   "cell_type": "code",
   "execution_count": 87,
   "metadata": {
    "colab": {
     "base_uri": "https://localhost:8080/",
     "height": 85
    },
    "colab_type": "code",
    "id": "EwS3WZ6ClHcS",
    "outputId": "6e488e80-55af-4ef4-f516-a375f76e0ad2",
    "slideshow": {
     "slide_type": "slide"
    }
   },
   "outputs": [
    {
     "data": {
      "text/plain": [
       "array([[ 0.14313439,  0.73457537,  0.12427892,  0.23691021, 13.10358772],\n",
       "       [ 0.7079941 ,  0.35020847,  1.18030134,  0.11830569,  1.99436171],\n",
       "       [ 1.55420944,  3.40735475,  1.13469653,  0.05716855,  3.27524516],\n",
       "       [ 0.53475679,  0.44892047,  0.72885682,  2.12305502,  0.531664  ]])"
      ]
     },
     "execution_count": 87,
     "metadata": {},
     "output_type": "execute_result"
    }
   ],
   "source": [
    "# Divide elements of y by elements of x\n",
    "np.divide(x,y)"
   ]
  },
  {
   "cell_type": "markdown",
   "metadata": {
    "colab_type": "text",
    "id": "lFqyCmkNlLzA",
    "slideshow": {
     "slide_type": "slide"
    }
   },
   "source": [
    "This is only the tip of the iceberg. Numpy has many more functions, which you can and should explore. You can read more about them in the Numpy documentation."
   ]
  },
  {
   "cell_type": "markdown",
   "metadata": {
    "slideshow": {
     "slide_type": "slide"
    }
   },
   "source": [
    "## Summary\n"
   ]
  },
  {
   "cell_type": "markdown",
   "metadata": {
    "colab_type": "text",
    "id": "YatzVFYFlM1Z",
    "slideshow": {
     "slide_type": "fragment"
    }
   },
   "source": [
    "\n",
    "In this lesson, we learnt:\n",
    "\n",
    "- The basics of working with Numpy. \n",
    "- How to import the library so that we could use it. \n",
    "- What Numpy arrays are, including how to extract data from them and how to convert to them from other Python data structures. \n",
    "- How to use basic mathematical functions in Numpy and apply them both to the elements of an array as well as to whole arrays themselves."
   ]
  }
 ],
 "metadata": {
  "celltoolbar": "Slideshow",
  "colab": {
   "collapsed_sections": [],
   "name": "Introduction_to_Numpy.ipynb",
   "provenance": []
  },
  "kernelspec": {
   "display_name": "Python 3",
   "language": "python",
   "name": "python3"
  },
  "language_info": {
   "codemirror_mode": {
    "name": "ipython",
    "version": 3
   },
   "file_extension": ".py",
   "mimetype": "text/x-python",
   "name": "python",
   "nbconvert_exporter": "python",
   "pygments_lexer": "ipython3",
   "version": "3.8.3"
  }
 },
 "nbformat": 4,
 "nbformat_minor": 4
}
