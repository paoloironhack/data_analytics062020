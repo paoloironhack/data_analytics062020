{
 "cells": [
  {
   "cell_type": "markdown",
   "metadata": {
    "colab_type": "text",
    "id": "UuH5bcNCwvfF",
    "slideshow": {
     "slide_type": "slide"
    }
   },
   "source": [
    "# List Comprehension"
   ]
  },
  {
   "cell_type": "markdown",
   "metadata": {
    "colab_type": "text",
    "id": "RWBVdq-4vVV5",
    "slideshow": {
     "slide_type": "slide"
    }
   },
   "source": [
    "## Lists: A Recap\n",
    "\n",
    "Lists are mutable objects that contain, for instance, numerical data types such as strings or floats. The can also contain strings, or even a mixture of these objects. We might even have lists of lists and lists of lists of lists. For this reason, lists are quite versatile and useful objects for storing items. "
   ]
  },
  {
   "cell_type": "code",
   "execution_count": null,
   "metadata": {
    "colab": {
     "base_uri": "https://localhost:8080/",
     "height": 34
    },
    "colab_type": "code",
    "executionInfo": {
     "elapsed": 848,
     "status": "ok",
     "timestamp": 1578513781729,
     "user": {
      "displayName": "Louk Smalbil",
      "photoUrl": "https://lh3.googleusercontent.com/a-/AAuE7mDf0h-7dEMeyjYDwWKtGkQlLXC3IBwfxiDNyi0e=s64",
      "userId": "10422991521784029462"
     },
     "user_tz": -60
    },
    "id": "zaQDWK_pvSWv",
    "outputId": "a6f90bab-68ec-4570-8bc4-f964eecae16f",
    "slideshow": {
     "slide_type": "slide"
    }
   },
   "outputs": [],
   "source": [
    "# List of integers\n",
    "int_list = [1,2,3,4,5,6,7,8]\n",
    "print(int_list)"
   ]
  },
  {
   "cell_type": "code",
   "execution_count": null,
   "metadata": {
    "colab": {
     "base_uri": "https://localhost:8080/",
     "height": 34
    },
    "colab_type": "code",
    "executionInfo": {
     "elapsed": 692,
     "status": "ok",
     "timestamp": 1578514373058,
     "user": {
      "displayName": "Louk Smalbil",
      "photoUrl": "https://lh3.googleusercontent.com/a-/AAuE7mDf0h-7dEMeyjYDwWKtGkQlLXC3IBwfxiDNyi0e=s64",
      "userId": "10422991521784029462"
     },
     "user_tz": -60
    },
    "id": "uYIDEuhEwId4",
    "outputId": "6c8a9ce3-d538-4a63-8fb1-3e4d77a6a6eb",
    "slideshow": {
     "slide_type": "slide"
    }
   },
   "outputs": [],
   "source": [
    "# List of strings\n",
    "string_list = [\"Hello\", \"Data\", \"Part Time\", \"Class\", \"of\", \"2020\"]\n",
    "print(string_list)"
   ]
  },
  {
   "cell_type": "code",
   "execution_count": null,
   "metadata": {
    "colab": {
     "base_uri": "https://localhost:8080/",
     "height": 34
    },
    "colab_type": "code",
    "executionInfo": {
     "elapsed": 744,
     "status": "ok",
     "timestamp": 1578514374156,
     "user": {
      "displayName": "Louk Smalbil",
      "photoUrl": "https://lh3.googleusercontent.com/a-/AAuE7mDf0h-7dEMeyjYDwWKtGkQlLXC3IBwfxiDNyi0e=s64",
      "userId": "10422991521784029462"
     },
     "user_tz": -60
    },
    "id": "J3Uk7N3Iwauv",
    "outputId": "2c1324e1-432d-41ca-d3fd-ce6eec439ce0",
    "slideshow": {
     "slide_type": "slide"
    }
   },
   "outputs": [],
   "source": [
    "# List of strings and integers\n",
    "mixed_list = [\"Hello\", 28, \"Data\", \"Part Time\", 7, \"Class\", \"of\", \"2020\", 1, 4, 3]\n",
    "print(mixed_list)"
   ]
  },
  {
   "cell_type": "markdown",
   "metadata": {
    "slideshow": {
     "slide_type": "slide"
    }
   },
   "source": [
    "### Accessing Items in a list"
   ]
  },
  {
   "cell_type": "markdown",
   "metadata": {
    "colab_type": "text",
    "id": "xsoZs4vTwqTx",
    "slideshow": {
     "slide_type": "slide"
    }
   },
   "source": [
    "\n",
    "You will have already seen this in the prework, but the way you can access specific items in the list is by using the double square bracket syntax. Don't forget, however, that Python is zero-indexed, which means that what we would normally cal the first item in the list is actually the zeroth element. "
   ]
  },
  {
   "cell_type": "code",
   "execution_count": null,
   "metadata": {
    "colab": {
     "base_uri": "https://localhost:8080/",
     "height": 34
    },
    "colab_type": "code",
    "executionInfo": {
     "elapsed": 1274,
     "status": "ok",
     "timestamp": 1578514385797,
     "user": {
      "displayName": "Louk Smalbil",
      "photoUrl": "https://lh3.googleusercontent.com/a-/AAuE7mDf0h-7dEMeyjYDwWKtGkQlLXC3IBwfxiDNyi0e=s64",
      "userId": "10422991521784029462"
     },
     "user_tz": -60
    },
    "id": "xWDA22xcw80D",
    "outputId": "3f1ff07d-3355-4cfd-8b51-570b11e9ffaa",
    "slideshow": {
     "slide_type": "slide"
    }
   },
   "outputs": [],
   "source": [
    "# Index for the int_list\n",
    "int_list = [1,2,3,4,5,6,7,8]\n",
    "int_list[2]"
   ]
  },
  {
   "cell_type": "code",
   "execution_count": null,
   "metadata": {
    "colab": {
     "base_uri": "https://localhost:8080/",
     "height": 34
    },
    "colab_type": "code",
    "executionInfo": {
     "elapsed": 1029,
     "status": "ok",
     "timestamp": 1578514385798,
     "user": {
      "displayName": "Louk Smalbil",
      "photoUrl": "https://lh3.googleusercontent.com/a-/AAuE7mDf0h-7dEMeyjYDwWKtGkQlLXC3IBwfxiDNyi0e=s64",
      "userId": "10422991521784029462"
     },
     "user_tz": -60
    },
    "id": "wIR5uEq-yIrb",
    "outputId": "7d5fd272-dc3f-44be-a8df-e88e5606a8e4",
    "slideshow": {
     "slide_type": "slide"
    }
   },
   "outputs": [],
   "source": [
    "string_list = [\"Hello\", \"Data\", \"Part Time\", \"Class\", \"of\", \"2020\"]\n",
    "string_list[1:4]"
   ]
  },
  {
   "cell_type": "code",
   "execution_count": null,
   "metadata": {
    "colab": {
     "base_uri": "https://localhost:8080/",
     "height": 34
    },
    "colab_type": "code",
    "executionInfo": {
     "elapsed": 1458,
     "status": "ok",
     "timestamp": 1578514386791,
     "user": {
      "displayName": "Louk Smalbil",
      "photoUrl": "https://lh3.googleusercontent.com/a-/AAuE7mDf0h-7dEMeyjYDwWKtGkQlLXC3IBwfxiDNyi0e=s64",
      "userId": "10422991521784029462"
     },
     "user_tz": -60
    },
    "id": "S3KnG-ayx9Cv",
    "outputId": "c4a6420a-32d9-4eba-ba23-645deebed6f0",
    "slideshow": {
     "slide_type": "slide"
    }
   },
   "outputs": [],
   "source": [
    "# Sliced for the mixed_list\n",
    "mixed_list = [\"Hello\", 28, \"Data\", \"Part Time\", 7, \"Class\", \"of\", \"2020\", 1, 4, 3]\n",
    "mixed_list[3:5]"
   ]
  },
  {
   "cell_type": "code",
   "execution_count": null,
   "metadata": {
    "colab": {
     "base_uri": "https://localhost:8080/",
     "height": 34
    },
    "colab_type": "code",
    "executionInfo": {
     "elapsed": 1144,
     "status": "ok",
     "timestamp": 1578514408529,
     "user": {
      "displayName": "Louk Smalbil",
      "photoUrl": "https://lh3.googleusercontent.com/a-/AAuE7mDf0h-7dEMeyjYDwWKtGkQlLXC3IBwfxiDNyi0e=s64",
      "userId": "10422991521784029462"
     },
     "user_tz": -60
    },
    "id": "alOLqpC2yFbL",
    "outputId": "37fd7351-8893-4b95-cab2-254990798236",
    "slideshow": {
     "slide_type": "slide"
    }
   },
   "outputs": [],
   "source": [
    "# Index for the mixed_list\n",
    "mixed_list = [\"Hello\", 28, \"Data\", \"Part Time\", 7, \"Class\", \"of\", \"2020\", 1, 4, 3]\n",
    "mixed_list[-1]"
   ]
  },
  {
   "cell_type": "markdown",
   "metadata": {
    "slideshow": {
     "slide_type": "slide"
    }
   },
   "source": [
    "### Adding Items to a List\n"
   ]
  },
  {
   "cell_type": "markdown",
   "metadata": {
    "colab_type": "text",
    "id": "kuUVIxf-ypxG",
    "slideshow": {
     "slide_type": "slide"
    }
   },
   "source": [
    "\n",
    "There are several ways to add items to a list. For instance, we can append items to a list. Or we can simply add the items to the a list when we declare it like we did above. \n",
    "\n",
    "Nevertheless, suppose that we want to add 100 items to a list. In that case we will want to use something like a for loop as adding 100 items to a list is simply neither feasible nor desirable. "
   ]
  },
  {
   "cell_type": "code",
   "execution_count": null,
   "metadata": {
    "colab": {
     "base_uri": "https://localhost:8080/",
     "height": 54
    },
    "colab_type": "code",
    "executionInfo": {
     "elapsed": 646,
     "status": "ok",
     "timestamp": 1578514758399,
     "user": {
      "displayName": "Louk Smalbil",
      "photoUrl": "https://lh3.googleusercontent.com/a-/AAuE7mDf0h-7dEMeyjYDwWKtGkQlLXC3IBwfxiDNyi0e=s64",
      "userId": "10422991521784029462"
     },
     "user_tz": -60
    },
    "id": "eO_XJRjeyl-R",
    "outputId": "93a45c48-df88-412b-87d5-ee0e0eee5b90",
    "slideshow": {
     "slide_type": "slide"
    }
   },
   "outputs": [],
   "source": [
    "# For loop adding numbers to a list\n",
    "\n",
    "# Create a new, empty list\n",
    "new_list = []\n",
    "\n",
    "for i in range(100):\n",
    "    new_list.append(i)\n",
    "\n",
    "print(new_list)"
   ]
  },
  {
   "cell_type": "markdown",
   "metadata": {
    "colab_type": "text",
    "id": "wpgSfR_P0Ev9",
    "slideshow": {
     "slide_type": "slide"
    }
   },
   "source": [
    "But we can do more things. For instance, we can do addition while appending the items to the list."
   ]
  },
  {
   "cell_type": "code",
   "execution_count": null,
   "metadata": {
    "colab": {
     "base_uri": "https://localhost:8080/",
     "height": 54
    },
    "colab_type": "code",
    "executionInfo": {
     "elapsed": 1066,
     "status": "ok",
     "timestamp": 1578514847076,
     "user": {
      "displayName": "Louk Smalbil",
      "photoUrl": "https://lh3.googleusercontent.com/a-/AAuE7mDf0h-7dEMeyjYDwWKtGkQlLXC3IBwfxiDNyi0e=s64",
      "userId": "10422991521784029462"
     },
     "user_tz": -60
    },
    "id": "GUv146Nuz7gc",
    "outputId": "b3469566-9676-45ae-84e6-2bf4d29e0ca4",
    "slideshow": {
     "slide_type": "slide"
    }
   },
   "outputs": [],
   "source": [
    "# Create a new, empty list\n",
    "newer_list = []\n",
    "\n",
    "for i in range(100): \n",
    "    newer_list.append(i + 1)\n",
    "\n",
    "print(newer_list)"
   ]
  },
  {
   "cell_type": "markdown",
   "metadata": {
    "slideshow": {
     "slide_type": "slide"
    }
   },
   "source": [
    "## List Comprehension: Beyond the for-loop\n"
   ]
  },
  {
   "cell_type": "markdown",
   "metadata": {
    "colab_type": "text",
    "id": "P3Bg9Lod0XT0",
    "slideshow": {
     "slide_type": "slide"
    }
   },
   "source": [
    "\n",
    "Essentially, with a for loop you can almost do anything. It is a classical tool that is being used in almost all non-functional programming languages. Yet, the nice thing about Python in particular is that there are tools that make certain operations much more efficient and neat. One of those operations is called list comprehension. In list comprehension you essentially squeeze in the for loop inside the list, thereby creating a nice one-liner.  "
   ]
  },
  {
   "cell_type": "code",
   "execution_count": null,
   "metadata": {
    "colab": {
     "base_uri": "https://localhost:8080/",
     "height": 54
    },
    "colab_type": "code",
    "executionInfo": {
     "elapsed": 840,
     "status": "ok",
     "timestamp": 1578517966142,
     "user": {
      "displayName": "Louk Smalbil",
      "photoUrl": "https://lh3.googleusercontent.com/a-/AAuE7mDf0h-7dEMeyjYDwWKtGkQlLXC3IBwfxiDNyi0e=s64",
      "userId": "10422991521784029462"
     },
     "user_tz": -60
    },
    "id": "pHgDRPI-0Wba",
    "outputId": "3d7ce09e-8b49-4f9a-dbbb-a97509f34a04",
    "slideshow": {
     "slide_type": "slide"
    }
   },
   "outputs": [],
   "source": [
    "# List comprension example\n",
    "list_comp = [i for i in range(100)]\n",
    "print(list_comp)"
   ]
  },
  {
   "cell_type": "code",
   "execution_count": null,
   "metadata": {
    "colab": {
     "base_uri": "https://localhost:8080/",
     "height": 54
    },
    "colab_type": "code",
    "executionInfo": {
     "elapsed": 758,
     "status": "ok",
     "timestamp": 1578518004067,
     "user": {
      "displayName": "Louk Smalbil",
      "photoUrl": "https://lh3.googleusercontent.com/a-/AAuE7mDf0h-7dEMeyjYDwWKtGkQlLXC3IBwfxiDNyi0e=s64",
      "userId": "10422991521784029462"
     },
     "user_tz": -60
    },
    "id": "Q7oE8VhzAC0c",
    "outputId": "c1fa6316-ca62-4317-d741-44e264869ee6",
    "slideshow": {
     "slide_type": "slide"
    }
   },
   "outputs": [],
   "source": [
    "# List comprehension second example\n",
    "list_comp_two = [i + 1 for i in range(100)]\n",
    "print(list_comp_two)"
   ]
  },
  {
   "cell_type": "markdown",
   "metadata": {
    "colab_type": "text",
    "id": "WHCaZRjsAWFv",
    "slideshow": {
     "slide_type": "slide"
    }
   },
   "source": [
    "As is the case with normal for loops, list comprehension also allows you to include conditional statements. For instance, instead of adding the first 100 integers to a list, we might want to add only those integers that are larger than 50."
   ]
  },
  {
   "cell_type": "code",
   "execution_count": null,
   "metadata": {
    "colab": {
     "base_uri": "https://localhost:8080/",
     "height": 54
    },
    "colab_type": "code",
    "executionInfo": {
     "elapsed": 369,
     "status": "ok",
     "timestamp": 1578518149373,
     "user": {
      "displayName": "Louk Smalbil",
      "photoUrl": "https://lh3.googleusercontent.com/a-/AAuE7mDf0h-7dEMeyjYDwWKtGkQlLXC3IBwfxiDNyi0e=s64",
      "userId": "10422991521784029462"
     },
     "user_tz": -60
    },
    "id": "9FUhLzSFATv3",
    "outputId": "fe56c628-97b1-477f-baa8-d3fcd6e2a670",
    "slideshow": {
     "slide_type": "slide"
    }
   },
   "outputs": [],
   "source": [
    "large_list = [i for i in range(100) if i >= 50]\n",
    "print(large_list)  "
   ]
  },
  {
   "cell_type": "markdown",
   "metadata": {
    "slideshow": {
     "slide_type": "slide"
    }
   },
   "source": [
    "### List Comprehension: More Complicated Examples\n"
   ]
  },
  {
   "cell_type": "markdown",
   "metadata": {
    "colab_type": "text",
    "id": "PpzZms1xA7En",
    "slideshow": {
     "slide_type": "slide"
    }
   },
   "source": [
    "\n",
    "As already said in the introduction, it is also possible to have lists of lists. Usually, when we're dealing with a list of lists, we need a double/nested for loop. An example of that can be seen below."
   ]
  },
  {
   "cell_type": "code",
   "execution_count": null,
   "metadata": {
    "colab": {
     "base_uri": "https://localhost:8080/",
     "height": 34
    },
    "colab_type": "code",
    "executionInfo": {
     "elapsed": 378,
     "status": "ok",
     "timestamp": 1578519120617,
     "user": {
      "displayName": "Louk Smalbil",
      "photoUrl": "https://lh3.googleusercontent.com/a-/AAuE7mDf0h-7dEMeyjYDwWKtGkQlLXC3IBwfxiDNyi0e=s64",
      "userId": "10422991521784029462"
     },
     "user_tz": -60
    },
    "id": "SCyE7CrRAykc",
    "outputId": "3619bc2d-e526-4e8e-e5ed-83b637095bb6",
    "slideshow": {
     "slide_type": "slide"
    }
   },
   "outputs": [],
   "source": [
    "#Example of a nested list\n",
    "nested_list = [[1,2,3], [3,4,5], [6,7,8]]\n",
    "lst = []\n",
    "\n",
    "for i in nested_list:\n",
    "    for j in i:\n",
    "        lst.append(j)\n",
    "\n",
    "print(lst)"
   ]
  },
  {
   "cell_type": "markdown",
   "metadata": {
    "colab_type": "text",
    "id": "vP2MvhT8BnAE",
    "slideshow": {
     "slide_type": "slide"
    }
   },
   "source": [
    "In similar vein, we can also use list comprehension. Note that we add j to the list this time, not i."
   ]
  },
  {
   "cell_type": "code",
   "execution_count": null,
   "metadata": {
    "colab": {
     "base_uri": "https://localhost:8080/",
     "height": 34
    },
    "colab_type": "code",
    "executionInfo": {
     "elapsed": 377,
     "status": "ok",
     "timestamp": 1578519198228,
     "user": {
      "displayName": "Louk Smalbil",
      "photoUrl": "https://lh3.googleusercontent.com/a-/AAuE7mDf0h-7dEMeyjYDwWKtGkQlLXC3IBwfxiDNyi0e=s64",
      "userId": "10422991521784029462"
     },
     "user_tz": -60
    },
    "id": "6zltBA_NBscH",
    "outputId": "8bbe9cc1-ed07-42c3-b2e5-3add75994911",
    "slideshow": {
     "slide_type": "slide"
    }
   },
   "outputs": [],
   "source": [
    "# Nested for loop example with list comprehension\n",
    "\n",
    "nested_list = [[1,2,3], [3,4,5], [6,7,8]]\n",
    "lst = [j for i in nested_list for j in i]\n",
    "\n",
    "print(lst)"
   ]
  },
  {
   "cell_type": "markdown",
   "metadata": {
    "slideshow": {
     "slide_type": "slide"
    }
   },
   "source": [
    "### List Comprehension: Note of Caution\n"
   ]
  },
  {
   "cell_type": "markdown",
   "metadata": {
    "colab_type": "text",
    "id": "_hU5wyVlFNrP",
    "slideshow": {
     "slide_type": "slide"
    }
   },
   "source": [
    "\n",
    "One last note of caution before we end this lecture. It is important to understand that - even though list comprehension makes your code neat and clean - it does not always make it more readable (see example below). Especially when there are other developers that need to work on your code later on, it is better to use the regular for-loop flow. "
   ]
  },
  {
   "cell_type": "code",
   "execution_count": null,
   "metadata": {
    "colab": {},
    "colab_type": "code",
    "id": "NPrrAw8EFNB-",
    "slideshow": {
     "slide_type": "slide"
    }
   },
   "outputs": [],
   "source": [
    "lst_lst = [[1,2,3,4,5], [6,7,8], [9,10]]\n",
    "for_lst = []\n",
    "\n",
    "for lst in lst_lst:\n",
    "    if len(lst) < 4:\n",
    "        for y in lst:\n",
    "            if y % 2 == 0:\n",
    "                for_lst.append(y) \n",
    "\n",
    "print(for_lst)\n"
   ]
  },
  {
   "cell_type": "code",
   "execution_count": null,
   "metadata": {
    "colab": {
     "base_uri": "https://localhost:8080/",
     "height": 51
    },
    "colab_type": "code",
    "executionInfo": {
     "elapsed": 718,
     "status": "ok",
     "timestamp": 1578519635881,
     "user": {
      "displayName": "Louk Smalbil",
      "photoUrl": "https://lh3.googleusercontent.com/a-/AAuE7mDf0h-7dEMeyjYDwWKtGkQlLXC3IBwfxiDNyi0e=s64",
      "userId": "10422991521784029462"
     },
     "user_tz": -60
    },
    "id": "uGGcDjSxB2uE",
    "outputId": "06c8f3d6-4830-4022-9d27-2c0c35ebf679",
    "slideshow": {
     "slide_type": "slide"
    }
   },
   "outputs": [],
   "source": [
    "# Complicated example\n",
    "lst_lst = [[1,2,3,4,5], [6,7,8], [9,10]]\n",
    "\n",
    "lst = [y for x in lst_lst if len(x) < 4 for y in x if y % 2 == 0]\n",
    "print(lst)\n",
    " "
   ]
  },
  {
   "cell_type": "markdown",
   "metadata": {
    "slideshow": {
     "slide_type": "slide"
    }
   },
   "source": [
    "### The End"
   ]
  }
 ],
 "metadata": {
  "celltoolbar": "Slideshow",
  "colab": {
   "collapsed_sections": [],
   "name": "List_Comprension.ipynb",
   "provenance": []
  },
  "kernelspec": {
   "display_name": "Python 3",
   "language": "python",
   "name": "python3"
  },
  "language_info": {
   "codemirror_mode": {
    "name": "ipython",
    "version": 3
   },
   "file_extension": ".py",
   "mimetype": "text/x-python",
   "name": "python",
   "nbconvert_exporter": "python",
   "pygments_lexer": "ipython3",
   "version": "3.7.5"
  }
 },
 "nbformat": 4,
 "nbformat_minor": 1
}
