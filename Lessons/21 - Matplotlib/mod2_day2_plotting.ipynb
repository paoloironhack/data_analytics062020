{
 "cells": [
  {
   "cell_type": "markdown",
   "metadata": {
    "colab_type": "text",
    "id": "NQefcc1dZgZe"
   },
   "source": [
    "# Introduction to Matplotlib and Seaborn\n",
    "\n"
   ]
  },
  {
   "cell_type": "markdown",
   "metadata": {
    "colab_type": "text",
    "id": "AFVA_jRoZpd-"
   },
   "source": [
    "## Introduction to Matplotlib\n",
    "\n",
    "Matplotlib is a data visualization package built on numpy arrays for making 2D plots. It makes extensive use of numpy arrays and other extension code to provide good performance even for large arrays.\n",
    "\n",
    "The package is fairly old, with version 0.1 released in 2003. The main advantage of this package is that it allows for flexible visualization in Python across versions and operating systems.\n",
    "\n",
    "It is important to note the hierarchy: Name of library is Matplotlib whereas the name of the module is matplotlib.pyplot\n",
    "\n",
    "Anatomy of a figure:\n",
    "\n",
    "![alt text](https://pbs.twimg.com/media/Cr5jxB-UkAAmvBn?format=jpg&name=medium)\n"
   ]
  },
  {
   "cell_type": "markdown",
   "metadata": {
    "colab_type": "text",
    "id": "auo3rFhEacMZ"
   },
   "source": [
    "### Basic plots in Matplotlib:\n",
    "\n",
    "- Line Plot\n",
    "- Scatter plot\n",
    "- Pie charts\n",
    "- Histograms\n",
    "- Bar charts\n",
    "- Paths\n",
    "- Three dimensional plotting\n",
    "- Images"
   ]
  },
  {
   "cell_type": "markdown",
   "metadata": {
    "colab_type": "text",
    "id": "TVV1WShjakwZ"
   },
   "source": [
    "### Getting Started\n",
    "\n",
    "Since we are using Jupyter notebook, we start our notebook with this line:"
   ]
  },
  {
   "cell_type": "code",
   "execution_count": 5,
   "metadata": {
    "colab": {},
    "colab_type": "code",
    "executionInfo": {
     "elapsed": 855,
     "status": "ok",
     "timestamp": 1592479260493,
     "user": {
      "displayName": "Paolo Scalia",
      "photoUrl": "",
      "userId": "03375914393610683179"
     },
     "user_tz": -120
    },
    "id": "MGaXypdfZdPC"
   },
   "outputs": [],
   "source": [
    "%matplotlib inline"
   ]
  },
  {
   "cell_type": "markdown",
   "metadata": {
    "colab_type": "text",
    "id": "5id8GVpxatVg"
   },
   "source": [
    "This ensures that our visualizations will render in the notebook itself.\n",
    "\n",
    "We now load the matplotlib library:"
   ]
  },
  {
   "cell_type": "code",
   "execution_count": 42,
   "metadata": {
    "scrolled": false
   },
   "outputs": [
    {
     "data": {
      "text/html": [
       "<div>\n",
       "<style scoped>\n",
       "    .dataframe tbody tr th:only-of-type {\n",
       "        vertical-align: middle;\n",
       "    }\n",
       "\n",
       "    .dataframe tbody tr th {\n",
       "        vertical-align: top;\n",
       "    }\n",
       "\n",
       "    .dataframe thead th {\n",
       "        text-align: right;\n",
       "    }\n",
       "</style>\n",
       "<table border=\"1\" class=\"dataframe\">\n",
       "  <thead>\n",
       "    <tr style=\"text-align: right;\">\n",
       "      <th></th>\n",
       "      <th>PID</th>\n",
       "      <th>LEGAL_TYPE</th>\n",
       "      <th>FOLIO</th>\n",
       "      <th>LAND_COORDINATE</th>\n",
       "      <th>ZONE_NAME</th>\n",
       "      <th>ZONE_CATEGORY</th>\n",
       "      <th>LOT</th>\n",
       "      <th>BLOCK</th>\n",
       "      <th>PLAN</th>\n",
       "      <th>DISTRICT_LOT</th>\n",
       "      <th>...</th>\n",
       "      <th>NARRATIVE_LEGAL_LINE5</th>\n",
       "      <th>CURRENT_LAND_VALUE</th>\n",
       "      <th>CURRENT_IMPROVEMENT_VALUE</th>\n",
       "      <th>TAX_ASSESSMENT_YEAR</th>\n",
       "      <th>PREVIOUS_LAND_VALUE</th>\n",
       "      <th>PREVIOUS_IMPROVEMENT_VALUE</th>\n",
       "      <th>YEAR_BUILT</th>\n",
       "      <th>BIG_IMPROVEMENT_YEAR</th>\n",
       "      <th>TAX_LEVY</th>\n",
       "      <th>NEIGHBOURHOOD_CODE</th>\n",
       "    </tr>\n",
       "  </thead>\n",
       "  <tbody>\n",
       "    <tr>\n",
       "      <th>0</th>\n",
       "      <td>025-734-601</td>\n",
       "      <td>STRATA</td>\n",
       "      <td>7.500400e+11</td>\n",
       "      <td>75004024</td>\n",
       "      <td>C-2</td>\n",
       "      <td>Commercial</td>\n",
       "      <td>25</td>\n",
       "      <td>NaN</td>\n",
       "      <td>BCS498</td>\n",
       "      <td>2027</td>\n",
       "      <td>...</td>\n",
       "      <td>NaN</td>\n",
       "      <td>592000</td>\n",
       "      <td>242000</td>\n",
       "      <td>2018</td>\n",
       "      <td>472000.0</td>\n",
       "      <td>238000.0</td>\n",
       "      <td>2003.0</td>\n",
       "      <td>2003.0</td>\n",
       "      <td>NaN</td>\n",
       "      <td>3</td>\n",
       "    </tr>\n",
       "    <tr>\n",
       "      <th>1</th>\n",
       "      <td>029-700-868</td>\n",
       "      <td>STRATA</td>\n",
       "      <td>6.381830e+11</td>\n",
       "      <td>63818250</td>\n",
       "      <td>CD-1 (464)</td>\n",
       "      <td>Comprehensive Development</td>\n",
       "      <td>132</td>\n",
       "      <td>NaN</td>\n",
       "      <td>EPS2983</td>\n",
       "      <td>200A</td>\n",
       "      <td>...</td>\n",
       "      <td>T OF THE STRATA LOT AS SHOWN ON FOR</td>\n",
       "      <td>715000</td>\n",
       "      <td>327000</td>\n",
       "      <td>2018</td>\n",
       "      <td>603000.0</td>\n",
       "      <td>329000.0</td>\n",
       "      <td>NaN</td>\n",
       "      <td>NaN</td>\n",
       "      <td>NaN</td>\n",
       "      <td>13</td>\n",
       "    </tr>\n",
       "  </tbody>\n",
       "</table>\n",
       "<p>2 rows × 28 columns</p>\n",
       "</div>"
      ],
      "text/plain": [
       "           PID LEGAL_TYPE         FOLIO  LAND_COORDINATE   ZONE_NAME  \\\n",
       "0  025-734-601     STRATA  7.500400e+11         75004024         C-2   \n",
       "1  029-700-868     STRATA  6.381830e+11         63818250  CD-1 (464)   \n",
       "\n",
       "               ZONE_CATEGORY  LOT BLOCK     PLAN DISTRICT_LOT  ...  \\\n",
       "0                 Commercial   25   NaN   BCS498         2027  ...   \n",
       "1  Comprehensive Development  132   NaN  EPS2983         200A  ...   \n",
       "\n",
       "                 NARRATIVE_LEGAL_LINE5  CURRENT_LAND_VALUE  \\\n",
       "0                                  NaN              592000   \n",
       "1  T OF THE STRATA LOT AS SHOWN ON FOR              715000   \n",
       "\n",
       "  CURRENT_IMPROVEMENT_VALUE TAX_ASSESSMENT_YEAR PREVIOUS_LAND_VALUE  \\\n",
       "0                    242000                2018            472000.0   \n",
       "1                    327000                2018            603000.0   \n",
       "\n",
       "  PREVIOUS_IMPROVEMENT_VALUE YEAR_BUILT BIG_IMPROVEMENT_YEAR TAX_LEVY  \\\n",
       "0                   238000.0     2003.0               2003.0      NaN   \n",
       "1                   329000.0        NaN                  NaN      NaN   \n",
       "\n",
       "   NEIGHBOURHOOD_CODE  \n",
       "0                   3  \n",
       "1                  13  \n",
       "\n",
       "[2 rows x 28 columns]"
      ]
     },
     "execution_count": 42,
     "metadata": {},
     "output_type": "execute_result"
    }
   ],
   "source": [
    "import pandas as pd\n",
    "#pip3 install matplotlib\n",
    "import matplotlib.pyplot as plt\n",
    "df = pd.read_csv('data_property_tax_report_2018.csv')\n",
    "original = df.copy()\n",
    "# without copy, point original to the memory adress of df\n",
    "df.head(2)\n",
    "\n",
    "#backup process:\n",
    "#df = original.copy()"
   ]
  },
  {
   "cell_type": "code",
   "execution_count": 43,
   "metadata": {},
   "outputs": [
    {
     "data": {
      "text/plain": [
       "Index(['PID', 'LEGAL_TYPE', 'FOLIO', 'LAND_COORDINATE', 'ZONE_NAME',\n",
       "       'ZONE_CATEGORY', 'LOT', 'BLOCK', 'PLAN', 'DISTRICT_LOT',\n",
       "       'FROM_CIVIC_NUMBER', 'TO_CIVIC_NUMBER', 'STREET_NAME',\n",
       "       'PROPERTY_POSTAL_CODE', 'NARRATIVE_LEGAL_LINE1',\n",
       "       'NARRATIVE_LEGAL_LINE2', 'NARRATIVE_LEGAL_LINE3',\n",
       "       'NARRATIVE_LEGAL_LINE4', 'NARRATIVE_LEGAL_LINE5', 'CURRENT_LAND_VALUE',\n",
       "       'CURRENT_IMPROVEMENT_VALUE', 'TAX_ASSESSMENT_YEAR',\n",
       "       'PREVIOUS_LAND_VALUE', 'PREVIOUS_IMPROVEMENT_VALUE', 'YEAR_BUILT',\n",
       "       'BIG_IMPROVEMENT_YEAR', 'TAX_LEVY', 'NEIGHBOURHOOD_CODE'],\n",
       "      dtype='object')"
      ]
     },
     "execution_count": 43,
     "metadata": {},
     "output_type": "execute_result"
    }
   ],
   "source": [
    "df.columns"
   ]
  },
  {
   "cell_type": "code",
   "execution_count": 44,
   "metadata": {},
   "outputs": [
    {
     "data": {
      "text/plain": [
       "PID                            object\n",
       "LEGAL_TYPE                     object\n",
       "FOLIO                         float64\n",
       "LAND_COORDINATE                 int64\n",
       "ZONE_NAME                      object\n",
       "ZONE_CATEGORY                  object\n",
       "LOT                            object\n",
       "BLOCK                          object\n",
       "PLAN                           object\n",
       "DISTRICT_LOT                   object\n",
       "FROM_CIVIC_NUMBER              object\n",
       "TO_CIVIC_NUMBER               float64\n",
       "STREET_NAME                    object\n",
       "PROPERTY_POSTAL_CODE           object\n",
       "NARRATIVE_LEGAL_LINE1          object\n",
       "NARRATIVE_LEGAL_LINE2          object\n",
       "NARRATIVE_LEGAL_LINE3          object\n",
       "NARRATIVE_LEGAL_LINE4          object\n",
       "NARRATIVE_LEGAL_LINE5          object\n",
       "CURRENT_LAND_VALUE              int64\n",
       "CURRENT_IMPROVEMENT_VALUE       int64\n",
       "TAX_ASSESSMENT_YEAR             int64\n",
       "PREVIOUS_LAND_VALUE           float64\n",
       "PREVIOUS_IMPROVEMENT_VALUE    float64\n",
       "YEAR_BUILT                    float64\n",
       "BIG_IMPROVEMENT_YEAR          float64\n",
       "TAX_LEVY                      float64\n",
       "NEIGHBOURHOOD_CODE              int64\n",
       "dtype: object"
      ]
     },
     "execution_count": 44,
     "metadata": {},
     "output_type": "execute_result"
    }
   ],
   "source": [
    "df.dtypes"
   ]
  },
  {
   "cell_type": "code",
   "execution_count": 45,
   "metadata": {},
   "outputs": [
    {
     "data": {
      "text/plain": [
       "3801"
      ]
     },
     "execution_count": 45,
     "metadata": {},
     "output_type": "execute_result"
    }
   ],
   "source": [
    "df.PROPERTY_POSTAL_CODE.isnull().sum()"
   ]
  },
  {
   "cell_type": "code",
   "execution_count": 46,
   "metadata": {},
   "outputs": [
    {
     "data": {
      "text/plain": [
       "205346"
      ]
     },
     "execution_count": 46,
     "metadata": {},
     "output_type": "execute_result"
    }
   ],
   "source": [
    "len(df)"
   ]
  },
  {
   "cell_type": "code",
   "execution_count": 47,
   "metadata": {},
   "outputs": [
    {
     "data": {
      "text/plain": [
       "1.8510221772033546"
      ]
     },
     "execution_count": 47,
     "metadata": {},
     "output_type": "execute_result"
    }
   ],
   "source": [
    "df.PROPERTY_POSTAL_CODE.isnull().sum() / len(df) * 100"
   ]
  },
  {
   "cell_type": "code",
   "execution_count": 48,
   "metadata": {},
   "outputs": [
    {
     "data": {
      "text/html": [
       "<div>\n",
       "<style scoped>\n",
       "    .dataframe tbody tr th:only-of-type {\n",
       "        vertical-align: middle;\n",
       "    }\n",
       "\n",
       "    .dataframe tbody tr th {\n",
       "        vertical-align: top;\n",
       "    }\n",
       "\n",
       "    .dataframe thead th {\n",
       "        text-align: right;\n",
       "    }\n",
       "</style>\n",
       "<table border=\"1\" class=\"dataframe\">\n",
       "  <thead>\n",
       "    <tr style=\"text-align: right;\">\n",
       "      <th></th>\n",
       "      <th>PROPERTY_POSTAL_CODE</th>\n",
       "      <th>STREET_NAME</th>\n",
       "    </tr>\n",
       "  </thead>\n",
       "  <tbody>\n",
       "    <tr>\n",
       "      <th>29</th>\n",
       "      <td>NaN</td>\n",
       "      <td>VACANT</td>\n",
       "    </tr>\n",
       "    <tr>\n",
       "      <th>30</th>\n",
       "      <td>NaN</td>\n",
       "      <td>39TH AVE E</td>\n",
       "    </tr>\n",
       "    <tr>\n",
       "      <th>777</th>\n",
       "      <td>NaN</td>\n",
       "      <td>NaN</td>\n",
       "    </tr>\n",
       "    <tr>\n",
       "      <th>1086</th>\n",
       "      <td>NaN</td>\n",
       "      <td>FRASER ST</td>\n",
       "    </tr>\n",
       "    <tr>\n",
       "      <th>1414</th>\n",
       "      <td>NaN</td>\n",
       "      <td>SKEENA ST</td>\n",
       "    </tr>\n",
       "    <tr>\n",
       "      <th>...</th>\n",
       "      <td>...</td>\n",
       "      <td>...</td>\n",
       "    </tr>\n",
       "    <tr>\n",
       "      <th>205327</th>\n",
       "      <td>NaN</td>\n",
       "      <td>PIERVIEW CRES</td>\n",
       "    </tr>\n",
       "    <tr>\n",
       "      <th>205333</th>\n",
       "      <td>NaN</td>\n",
       "      <td>KING EDWARD AVE E</td>\n",
       "    </tr>\n",
       "    <tr>\n",
       "      <th>205336</th>\n",
       "      <td>NaN</td>\n",
       "      <td>FIR ST</td>\n",
       "    </tr>\n",
       "    <tr>\n",
       "      <th>205341</th>\n",
       "      <td>NaN</td>\n",
       "      <td>QUEBEC ST</td>\n",
       "    </tr>\n",
       "    <tr>\n",
       "      <th>205342</th>\n",
       "      <td>NaN</td>\n",
       "      <td>DAVIE ST</td>\n",
       "    </tr>\n",
       "  </tbody>\n",
       "</table>\n",
       "<p>3801 rows × 2 columns</p>\n",
       "</div>"
      ],
      "text/plain": [
       "       PROPERTY_POSTAL_CODE        STREET_NAME\n",
       "29                      NaN             VACANT\n",
       "30                      NaN         39TH AVE E\n",
       "777                     NaN                NaN\n",
       "1086                    NaN          FRASER ST\n",
       "1414                    NaN          SKEENA ST\n",
       "...                     ...                ...\n",
       "205327                  NaN      PIERVIEW CRES\n",
       "205333                  NaN  KING EDWARD AVE E\n",
       "205336                  NaN             FIR ST\n",
       "205341                  NaN          QUEBEC ST\n",
       "205342                  NaN           DAVIE ST\n",
       "\n",
       "[3801 rows x 2 columns]"
      ]
     },
     "execution_count": 48,
     "metadata": {},
     "output_type": "execute_result"
    }
   ],
   "source": [
    "df[df.PROPERTY_POSTAL_CODE.isnull()][['PROPERTY_POSTAL_CODE','STREET_NAME']]"
   ]
  },
  {
   "cell_type": "code",
   "execution_count": 49,
   "metadata": {},
   "outputs": [],
   "source": [
    "#df['PROPERTY_POSTAL_CODE']\n",
    "#df.PROPERTY_POSTAL_CODE\n",
    "df = df[ df.PROPERTY_POSTAL_CODE.notnull() ]\n"
   ]
  },
  {
   "cell_type": "code",
   "execution_count": 50,
   "metadata": {},
   "outputs": [
    {
     "data": {
      "text/plain": [
       "0"
      ]
     },
     "execution_count": 50,
     "metadata": {},
     "output_type": "execute_result"
    }
   ],
   "source": [
    "df.PROPERTY_POSTAL_CODE.isnull().sum()"
   ]
  },
  {
   "cell_type": "code",
   "execution_count": 51,
   "metadata": {},
   "outputs": [
    {
     "data": {
      "text/plain": [
       "201545"
      ]
     },
     "execution_count": 51,
     "metadata": {},
     "output_type": "execute_result"
    }
   ],
   "source": [
    "len(df)"
   ]
  },
  {
   "cell_type": "code",
   "execution_count": 52,
   "metadata": {},
   "outputs": [],
   "source": [
    "df = df[ df.YEAR_BUILT.notnull() ]"
   ]
  },
  {
   "cell_type": "code",
   "execution_count": 53,
   "metadata": {},
   "outputs": [
    {
     "data": {
      "text/plain": [
       "193975"
      ]
     },
     "execution_count": 53,
     "metadata": {},
     "output_type": "execute_result"
    }
   ],
   "source": [
    "len(df)"
   ]
  },
  {
   "cell_type": "code",
   "execution_count": 54,
   "metadata": {},
   "outputs": [],
   "source": [
    "df = df[['PID', 'YEAR_BUILT']].groupby('YEAR_BUILT', as_index=False).count()"
   ]
  },
  {
   "cell_type": "code",
   "execution_count": 55,
   "metadata": {},
   "outputs": [
    {
     "data": {
      "text/html": [
       "<div>\n",
       "<style scoped>\n",
       "    .dataframe tbody tr th:only-of-type {\n",
       "        vertical-align: middle;\n",
       "    }\n",
       "\n",
       "    .dataframe tbody tr th {\n",
       "        vertical-align: top;\n",
       "    }\n",
       "\n",
       "    .dataframe thead th {\n",
       "        text-align: right;\n",
       "    }\n",
       "</style>\n",
       "<table border=\"1\" class=\"dataframe\">\n",
       "  <thead>\n",
       "    <tr style=\"text-align: right;\">\n",
       "      <th></th>\n",
       "      <th>YEAR_BUILT</th>\n",
       "      <th>NO_OF_PROPS</th>\n",
       "    </tr>\n",
       "  </thead>\n",
       "  <tbody>\n",
       "    <tr>\n",
       "      <th>0</th>\n",
       "      <td>1800.0</td>\n",
       "      <td>33</td>\n",
       "    </tr>\n",
       "    <tr>\n",
       "      <th>1</th>\n",
       "      <td>1886.0</td>\n",
       "      <td>1</td>\n",
       "    </tr>\n",
       "    <tr>\n",
       "      <th>2</th>\n",
       "      <td>1890.0</td>\n",
       "      <td>1</td>\n",
       "    </tr>\n",
       "    <tr>\n",
       "      <th>3</th>\n",
       "      <td>1893.0</td>\n",
       "      <td>1</td>\n",
       "    </tr>\n",
       "    <tr>\n",
       "      <th>4</th>\n",
       "      <td>1898.0</td>\n",
       "      <td>4</td>\n",
       "    </tr>\n",
       "  </tbody>\n",
       "</table>\n",
       "</div>"
      ],
      "text/plain": [
       "   YEAR_BUILT  NO_OF_PROPS\n",
       "0      1800.0           33\n",
       "1      1886.0            1\n",
       "2      1890.0            1\n",
       "3      1893.0            1\n",
       "4      1898.0            4"
      ]
     },
     "execution_count": 55,
     "metadata": {},
     "output_type": "execute_result"
    }
   ],
   "source": [
    "#<funnybrackets>\n",
    "df = df.rename(columns={'PID':'NO_OF_PROPS'})\n",
    "df.head()"
   ]
  },
  {
   "cell_type": "code",
   "execution_count": 56,
   "metadata": {},
   "outputs": [
    {
     "data": {
      "text/html": [
       "<div>\n",
       "<style scoped>\n",
       "    .dataframe tbody tr th:only-of-type {\n",
       "        vertical-align: middle;\n",
       "    }\n",
       "\n",
       "    .dataframe tbody tr th {\n",
       "        vertical-align: top;\n",
       "    }\n",
       "\n",
       "    .dataframe thead th {\n",
       "        text-align: right;\n",
       "    }\n",
       "</style>\n",
       "<table border=\"1\" class=\"dataframe\">\n",
       "  <thead>\n",
       "    <tr style=\"text-align: right;\">\n",
       "      <th></th>\n",
       "      <th>YEAR_BUILT</th>\n",
       "      <th>NO_OF_PROPS</th>\n",
       "    </tr>\n",
       "  </thead>\n",
       "  <tbody>\n",
       "    <tr>\n",
       "      <th>117</th>\n",
       "      <td>2011.0</td>\n",
       "      <td>3441</td>\n",
       "    </tr>\n",
       "    <tr>\n",
       "      <th>118</th>\n",
       "      <td>2012.0</td>\n",
       "      <td>3414</td>\n",
       "    </tr>\n",
       "    <tr>\n",
       "      <th>119</th>\n",
       "      <td>2013.0</td>\n",
       "      <td>3872</td>\n",
       "    </tr>\n",
       "    <tr>\n",
       "      <th>120</th>\n",
       "      <td>2014.0</td>\n",
       "      <td>3227</td>\n",
       "    </tr>\n",
       "    <tr>\n",
       "      <th>121</th>\n",
       "      <td>2015.0</td>\n",
       "      <td>17</td>\n",
       "    </tr>\n",
       "  </tbody>\n",
       "</table>\n",
       "</div>"
      ],
      "text/plain": [
       "     YEAR_BUILT  NO_OF_PROPS\n",
       "117      2011.0         3441\n",
       "118      2012.0         3414\n",
       "119      2013.0         3872\n",
       "120      2014.0         3227\n",
       "121      2015.0           17"
      ]
     },
     "execution_count": 56,
     "metadata": {},
     "output_type": "execute_result"
    }
   ],
   "source": [
    "df.tail()"
   ]
  },
  {
   "cell_type": "code",
   "execution_count": 58,
   "metadata": {},
   "outputs": [
    {
     "data": {
      "text/plain": [
       "<Figure size 432x288 with 0 Axes>"
      ]
     },
     "execution_count": 58,
     "metadata": {},
     "output_type": "execute_result"
    },
    {
     "data": {
      "text/plain": [
       "<Figure size 432x288 with 0 Axes>"
      ]
     },
     "metadata": {},
     "output_type": "display_data"
    }
   ],
   "source": [
    "%matplotlib inline\n",
    "plt.figure()"
   ]
  },
  {
   "cell_type": "code",
   "execution_count": null,
   "metadata": {},
   "outputs": [],
   "source": [
    "#x1,y1 = (1,4)\n",
    "#x2,y2 = (2,8)\n",
    "#x = [1, 4]\n",
    "#y = [2, 8]"
   ]
  },
  {
   "cell_type": "code",
   "execution_count": 59,
   "metadata": {},
   "outputs": [
    {
     "data": {
      "image/png": "[encoded data removed]",
      "text/plain": [
       "<Figure size 432x288 with 1 Axes>"
      ]
     },
     "metadata": {
      "needs_background": "light"
     },
     "output_type": "display_data"
    }
   ],
   "source": [
    "plt.figure()\n",
    "x = df.YEAR_BUILT\n",
    "y = df.NO_OF_PROPS\n",
    "plt.plot(x, y, 'dodgerblue')\n",
    "plt.show()"
   ]
  },
  {
   "cell_type": "code",
   "execution_count": 69,
   "metadata": {},
   "outputs": [
    {
     "data": {
      "image/png": "[encoded data removed]",
      "text/plain": [
       "<Figure size 432x288 with 1 Axes>"
      ]
     },
     "metadata": {
      "needs_background": "light"
     },
     "output_type": "display_data"
    }
   ],
   "source": [
    "#plt.figure(figsize=(17,6))\n",
    "plt.figure()\n",
    "x = df.YEAR_BUILT\n",
    "y = df.NO_OF_PROPS\n",
    "plt.plot(x, y, 'dodgerblue', label = 'No of props built per year LEGEND')\n",
    "plt.legend()\n",
    "plt.title('Niharika TITLE')\n",
    "plt.xlabel('Year')\n",
    "plt.ylabel('No of props', fontsize=16)\n",
    "plt.savefig('pixelgraph.png', dpi = 400)\n",
    "plt.show()"
   ]
  },
  {
   "cell_type": "code",
   "execution_count": 70,
   "metadata": {},
   "outputs": [
    {
     "name": "stdout",
     "output_type": "stream",
     "text": [
      "pixelgraph.png\r\n"
     ]
    }
   ],
   "source": [
    "!ls *.png"
   ]
  },
  {
   "cell_type": "code",
   "execution_count": 71,
   "metadata": {},
   "outputs": [],
   "source": [
    "!open pixelgraph.png\n",
    "# or for windows users:\n",
    "!start pixelgraph.png"
   ]
  },
  {
   "cell_type": "code",
   "execution_count": 72,
   "metadata": {},
   "outputs": [
    {
     "data": {
      "image/png": "[encoded data removed]",
      "text/plain": [
       "<Figure size 432x288 with 1 Axes>"
      ]
     },
     "metadata": {
      "needs_background": "light"
     },
     "output_type": "display_data"
    }
   ],
   "source": [
    "#plt.figure(figsize=(17,6))\n",
    "plt.figure()\n",
    "x = df.YEAR_BUILT\n",
    "y = df.NO_OF_PROPS\n",
    "plt.plot(x, y, 'dodgerblue', label = 'No of props built per year LEGEND')\n",
    "plt.legend()\n",
    "plt.title('Niharika TITLE')\n",
    "plt.xlabel('Year')\n",
    "plt.ylabel('No of props', fontsize=16)\n",
    "plt.savefig('vectorgraph.svg', dpi = 400)\n",
    "plt.show()"
   ]
  },
  {
   "cell_type": "code",
   "execution_count": 73,
   "metadata": {},
   "outputs": [],
   "source": [
    "!open vectorgraph.svg"
   ]
  },
  {
   "cell_type": "code",
   "execution_count": 74,
   "metadata": {},
   "outputs": [],
   "source": [
    "df = df[(df.YEAR_BUILT>=1900) & (df.YEAR_BUILT<=2000)]"
   ]
  },
  {
   "cell_type": "code",
   "execution_count": 75,
   "metadata": {},
   "outputs": [
    {
     "data": {
      "image/png": "[encoded data removed]",
      "text/plain": [
       "<Figure size 432x288 with 1 Axes>"
      ]
     },
     "metadata": {
      "needs_background": "light"
     },
     "output_type": "display_data"
    }
   ],
   "source": [
    "plt.figure()\n",
    "x = df.YEAR_BUILT\n",
    "y = df.NO_OF_PROPS\n",
    "plt.plot(x, y, 'dodgerblue', label = 'No of props built per year LEGEND')\n",
    "plt.legend()\n",
    "plt.title('Nr of props between 1900 and 2000 TITLE')\n",
    "plt.xlabel('Year')\n",
    "plt.ylabel('No of props', fontsize=16)\n",
    "#plt.savefig('vectorgraph.svg', dpi = 400)\n",
    "plt.show()"
   ]
  },
  {
   "cell_type": "code",
   "execution_count": 83,
   "metadata": {},
   "outputs": [
    {
     "data": {
      "image/png": "[encoded data removed]",
      "text/plain": [
       "<Figure size 1224x432 with 1 Axes>"
      ]
     },
     "metadata": {
      "needs_background": "light"
     },
     "output_type": "display_data"
    },
    {
     "data": {
      "text/plain": [
       "<Figure size 432x288 with 0 Axes>"
      ]
     },
     "metadata": {},
     "output_type": "display_data"
    }
   ],
   "source": [
    "plt.figure(figsize=(17,6))\n",
    "x = df.YEAR_BUILT\n",
    "y = df.NO_OF_PROPS\n",
    "#no plt.plot but plt.bar\n",
    "plt.bar(x, y,  color='tomato',label = 'No of props built per year LEGEND')\n",
    "plt.legend()\n",
    "plt.title('Nr of props between 1900 and 2000 TITLE')\n",
    "plt.xlabel('Year')\n",
    "plt.ylabel('No of props', fontsize=16)\n",
    "plt.show()\n",
    "plt.clf()"
   ]
  },
  {
   "cell_type": "code",
   "execution_count": 92,
   "metadata": {},
   "outputs": [
    {
     "data": {
      "text/plain": [
       "array(['Commercial', 'Comprehensive Development', 'Light Industrial',\n",
       "       'Multiple Family Dwelling', 'One Family Dwelling',\n",
       "       'Two Family Dwelling', 'Limited Agricultural', nan, 'Industrial',\n",
       "       'Historic Area'], dtype=object)"
      ]
     },
     "execution_count": 92,
     "metadata": {},
     "output_type": "execute_result"
    }
   ],
   "source": [
    "df = original.copy()\n",
    "df.ZONE_CATEGORY.unique()"
   ]
  },
  {
   "cell_type": "code",
   "execution_count": 93,
   "metadata": {},
   "outputs": [],
   "source": [
    "df = df.groupby('ZONE_CATEGORY', as_index=False)['PID'].count()"
   ]
  },
  {
   "cell_type": "code",
   "execution_count": 94,
   "metadata": {},
   "outputs": [
    {
     "data": {
      "text/html": [
       "<div>\n",
       "<style scoped>\n",
       "    .dataframe tbody tr th:only-of-type {\n",
       "        vertical-align: middle;\n",
       "    }\n",
       "\n",
       "    .dataframe tbody tr th {\n",
       "        vertical-align: top;\n",
       "    }\n",
       "\n",
       "    .dataframe thead th {\n",
       "        text-align: right;\n",
       "    }\n",
       "</style>\n",
       "<table border=\"1\" class=\"dataframe\">\n",
       "  <thead>\n",
       "    <tr style=\"text-align: right;\">\n",
       "      <th></th>\n",
       "      <th>ZONE_CATEGORY</th>\n",
       "      <th>NO_OF_PROPS</th>\n",
       "    </tr>\n",
       "  </thead>\n",
       "  <tbody>\n",
       "    <tr>\n",
       "      <th>0</th>\n",
       "      <td>Commercial</td>\n",
       "      <td>17869</td>\n",
       "    </tr>\n",
       "    <tr>\n",
       "      <th>1</th>\n",
       "      <td>Comprehensive Development</td>\n",
       "      <td>67550</td>\n",
       "    </tr>\n",
       "    <tr>\n",
       "      <th>2</th>\n",
       "      <td>Historic Area</td>\n",
       "      <td>2457</td>\n",
       "    </tr>\n",
       "    <tr>\n",
       "      <th>3</th>\n",
       "      <td>Industrial</td>\n",
       "      <td>1239</td>\n",
       "    </tr>\n",
       "    <tr>\n",
       "      <th>4</th>\n",
       "      <td>Light Industrial</td>\n",
       "      <td>3297</td>\n",
       "    </tr>\n",
       "    <tr>\n",
       "      <th>5</th>\n",
       "      <td>Limited Agricultural</td>\n",
       "      <td>163</td>\n",
       "    </tr>\n",
       "    <tr>\n",
       "      <th>6</th>\n",
       "      <td>Multiple Family Dwelling</td>\n",
       "      <td>27305</td>\n",
       "    </tr>\n",
       "    <tr>\n",
       "      <th>7</th>\n",
       "      <td>One Family Dwelling</td>\n",
       "      <td>68344</td>\n",
       "    </tr>\n",
       "    <tr>\n",
       "      <th>8</th>\n",
       "      <td>Two Family Dwelling</td>\n",
       "      <td>14750</td>\n",
       "    </tr>\n",
       "  </tbody>\n",
       "</table>\n",
       "</div>"
      ],
      "text/plain": [
       "               ZONE_CATEGORY  NO_OF_PROPS\n",
       "0                 Commercial        17869\n",
       "1  Comprehensive Development        67550\n",
       "2              Historic Area         2457\n",
       "3                 Industrial         1239\n",
       "4           Light Industrial         3297\n",
       "5       Limited Agricultural          163\n",
       "6   Multiple Family Dwelling        27305\n",
       "7        One Family Dwelling        68344\n",
       "8        Two Family Dwelling        14750"
      ]
     },
     "execution_count": 94,
     "metadata": {},
     "output_type": "execute_result"
    }
   ],
   "source": [
    "df = df.rename(columns={'PID':'NO_OF_PROPS'})\n",
    "df"
   ]
  },
  {
   "cell_type": "code",
   "execution_count": 95,
   "metadata": {},
   "outputs": [
    {
     "data": {
      "text/html": [
       "<div>\n",
       "<style scoped>\n",
       "    .dataframe tbody tr th:only-of-type {\n",
       "        vertical-align: middle;\n",
       "    }\n",
       "\n",
       "    .dataframe tbody tr th {\n",
       "        vertical-align: top;\n",
       "    }\n",
       "\n",
       "    .dataframe thead th {\n",
       "        text-align: right;\n",
       "    }\n",
       "</style>\n",
       "<table border=\"1\" class=\"dataframe\">\n",
       "  <thead>\n",
       "    <tr style=\"text-align: right;\">\n",
       "      <th></th>\n",
       "      <th>ZONE_CATEGORY</th>\n",
       "      <th>NO_OF_PROPS</th>\n",
       "      <th>PERC_OF_PROP</th>\n",
       "    </tr>\n",
       "  </thead>\n",
       "  <tbody>\n",
       "    <tr>\n",
       "      <th>0</th>\n",
       "      <td>Commercial</td>\n",
       "      <td>17869</td>\n",
       "      <td>0.088036</td>\n",
       "    </tr>\n",
       "    <tr>\n",
       "      <th>1</th>\n",
       "      <td>Comprehensive Development</td>\n",
       "      <td>67550</td>\n",
       "      <td>0.332801</td>\n",
       "    </tr>\n",
       "    <tr>\n",
       "      <th>2</th>\n",
       "      <td>Historic Area</td>\n",
       "      <td>2457</td>\n",
       "      <td>0.012105</td>\n",
       "    </tr>\n",
       "    <tr>\n",
       "      <th>3</th>\n",
       "      <td>Industrial</td>\n",
       "      <td>1239</td>\n",
       "      <td>0.006104</td>\n",
       "    </tr>\n",
       "    <tr>\n",
       "      <th>4</th>\n",
       "      <td>Light Industrial</td>\n",
       "      <td>3297</td>\n",
       "      <td>0.016243</td>\n",
       "    </tr>\n",
       "    <tr>\n",
       "      <th>5</th>\n",
       "      <td>Limited Agricultural</td>\n",
       "      <td>163</td>\n",
       "      <td>0.000803</td>\n",
       "    </tr>\n",
       "    <tr>\n",
       "      <th>6</th>\n",
       "      <td>Multiple Family Dwelling</td>\n",
       "      <td>27305</td>\n",
       "      <td>0.134525</td>\n",
       "    </tr>\n",
       "    <tr>\n",
       "      <th>7</th>\n",
       "      <td>One Family Dwelling</td>\n",
       "      <td>68344</td>\n",
       "      <td>0.336713</td>\n",
       "    </tr>\n",
       "    <tr>\n",
       "      <th>8</th>\n",
       "      <td>Two Family Dwelling</td>\n",
       "      <td>14750</td>\n",
       "      <td>0.072669</td>\n",
       "    </tr>\n",
       "  </tbody>\n",
       "</table>\n",
       "</div>"
      ],
      "text/plain": [
       "               ZONE_CATEGORY  NO_OF_PROPS  PERC_OF_PROP\n",
       "0                 Commercial        17869      0.088036\n",
       "1  Comprehensive Development        67550      0.332801\n",
       "2              Historic Area         2457      0.012105\n",
       "3                 Industrial         1239      0.006104\n",
       "4           Light Industrial         3297      0.016243\n",
       "5       Limited Agricultural          163      0.000803\n",
       "6   Multiple Family Dwelling        27305      0.134525\n",
       "7        One Family Dwelling        68344      0.336713\n",
       "8        Two Family Dwelling        14750      0.072669"
      ]
     },
     "execution_count": 95,
     "metadata": {},
     "output_type": "execute_result"
    }
   ],
   "source": [
    "df['PERC_OF_PROP'] = df.NO_OF_PROPS / df.NO_OF_PROPS.sum()\n",
    "df"
   ]
  },
  {
   "cell_type": "code",
   "execution_count": 96,
   "metadata": {},
   "outputs": [
    {
     "data": {
      "text/html": [
       "<div>\n",
       "<style scoped>\n",
       "    .dataframe tbody tr th:only-of-type {\n",
       "        vertical-align: middle;\n",
       "    }\n",
       "\n",
       "    .dataframe tbody tr th {\n",
       "        vertical-align: top;\n",
       "    }\n",
       "\n",
       "    .dataframe thead th {\n",
       "        text-align: right;\n",
       "    }\n",
       "</style>\n",
       "<table border=\"1\" class=\"dataframe\">\n",
       "  <thead>\n",
       "    <tr style=\"text-align: right;\">\n",
       "      <th></th>\n",
       "      <th>ZONE_CATEGORY</th>\n",
       "      <th>NO_OF_PROPS</th>\n",
       "      <th>PERC_OF_PROP</th>\n",
       "    </tr>\n",
       "  </thead>\n",
       "  <tbody>\n",
       "    <tr>\n",
       "      <th>0</th>\n",
       "      <td>Commercial</td>\n",
       "      <td>17869</td>\n",
       "      <td>8.803591</td>\n",
       "    </tr>\n",
       "    <tr>\n",
       "      <th>1</th>\n",
       "      <td>Comprehensive Development</td>\n",
       "      <td>67550</td>\n",
       "      <td>33.280125</td>\n",
       "    </tr>\n",
       "    <tr>\n",
       "      <th>2</th>\n",
       "      <td>Historic Area</td>\n",
       "      <td>2457</td>\n",
       "      <td>1.210500</td>\n",
       "    </tr>\n",
       "    <tr>\n",
       "      <th>3</th>\n",
       "      <td>Industrial</td>\n",
       "      <td>1239</td>\n",
       "      <td>0.610423</td>\n",
       "    </tr>\n",
       "    <tr>\n",
       "      <th>4</th>\n",
       "      <td>Light Industrial</td>\n",
       "      <td>3297</td>\n",
       "      <td>1.624346</td>\n",
       "    </tr>\n",
       "    <tr>\n",
       "      <th>5</th>\n",
       "      <td>Limited Agricultural</td>\n",
       "      <td>163</td>\n",
       "      <td>0.080306</td>\n",
       "    </tr>\n",
       "    <tr>\n",
       "      <th>6</th>\n",
       "      <td>Multiple Family Dwelling</td>\n",
       "      <td>27305</td>\n",
       "      <td>13.452462</td>\n",
       "    </tr>\n",
       "    <tr>\n",
       "      <th>7</th>\n",
       "      <td>One Family Dwelling</td>\n",
       "      <td>68344</td>\n",
       "      <td>33.671308</td>\n",
       "    </tr>\n",
       "    <tr>\n",
       "      <th>8</th>\n",
       "      <td>Two Family Dwelling</td>\n",
       "      <td>14750</td>\n",
       "      <td>7.266941</td>\n",
       "    </tr>\n",
       "  </tbody>\n",
       "</table>\n",
       "</div>"
      ],
      "text/plain": [
       "               ZONE_CATEGORY  NO_OF_PROPS  PERC_OF_PROP\n",
       "0                 Commercial        17869      8.803591\n",
       "1  Comprehensive Development        67550     33.280125\n",
       "2              Historic Area         2457      1.210500\n",
       "3                 Industrial         1239      0.610423\n",
       "4           Light Industrial         3297      1.624346\n",
       "5       Limited Agricultural          163      0.080306\n",
       "6   Multiple Family Dwelling        27305     13.452462\n",
       "7        One Family Dwelling        68344     33.671308\n",
       "8        Two Family Dwelling        14750      7.266941"
      ]
     },
     "execution_count": 96,
     "metadata": {},
     "output_type": "execute_result"
    }
   ],
   "source": [
    "df['PERC_OF_PROP'] = df['PERC_OF_PROP'].multiply(100)\n",
    "df"
   ]
  },
  {
   "cell_type": "code",
   "execution_count": 99,
   "metadata": {},
   "outputs": [
    {
     "data": {
      "text/html": [
       "<div>\n",
       "<style scoped>\n",
       "    .dataframe tbody tr th:only-of-type {\n",
       "        vertical-align: middle;\n",
       "    }\n",
       "\n",
       "    .dataframe tbody tr th {\n",
       "        vertical-align: top;\n",
       "    }\n",
       "\n",
       "    .dataframe thead th {\n",
       "        text-align: right;\n",
       "    }\n",
       "</style>\n",
       "<table border=\"1\" class=\"dataframe\">\n",
       "  <thead>\n",
       "    <tr style=\"text-align: right;\">\n",
       "      <th></th>\n",
       "      <th>ZONE_CATEGORY</th>\n",
       "      <th>NO_OF_PROPS</th>\n",
       "      <th>PERC_OF_PROP</th>\n",
       "    </tr>\n",
       "  </thead>\n",
       "  <tbody>\n",
       "    <tr>\n",
       "      <th>7</th>\n",
       "      <td>One Family Dwelling</td>\n",
       "      <td>68344</td>\n",
       "      <td>33.671308</td>\n",
       "    </tr>\n",
       "    <tr>\n",
       "      <th>1</th>\n",
       "      <td>Comprehensive Development</td>\n",
       "      <td>67550</td>\n",
       "      <td>33.280125</td>\n",
       "    </tr>\n",
       "    <tr>\n",
       "      <th>6</th>\n",
       "      <td>Multiple Family Dwelling</td>\n",
       "      <td>27305</td>\n",
       "      <td>13.452462</td>\n",
       "    </tr>\n",
       "    <tr>\n",
       "      <th>0</th>\n",
       "      <td>Commercial</td>\n",
       "      <td>17869</td>\n",
       "      <td>8.803591</td>\n",
       "    </tr>\n",
       "    <tr>\n",
       "      <th>8</th>\n",
       "      <td>Two Family Dwelling</td>\n",
       "      <td>14750</td>\n",
       "      <td>7.266941</td>\n",
       "    </tr>\n",
       "  </tbody>\n",
       "</table>\n",
       "</div>"
      ],
      "text/plain": [
       "               ZONE_CATEGORY  NO_OF_PROPS  PERC_OF_PROP\n",
       "7        One Family Dwelling        68344     33.671308\n",
       "1  Comprehensive Development        67550     33.280125\n",
       "6   Multiple Family Dwelling        27305     13.452462\n",
       "0                 Commercial        17869      8.803591\n",
       "8        Two Family Dwelling        14750      7.266941"
      ]
     },
     "execution_count": 99,
     "metadata": {},
     "output_type": "execute_result"
    }
   ],
   "source": [
    "df_top5 = df.nlargest(columns='PERC_OF_PROP', n=5)\n",
    "df_top5"
   ]
  },
  {
   "cell_type": "code",
   "execution_count": 131,
   "metadata": {},
   "outputs": [
    {
     "data": {
      "text/plain": [
       "Text(0.5, 1.0, 'Lukas piechart')"
      ]
     },
     "execution_count": 131,
     "metadata": {},
     "output_type": "execute_result"
    },
    {
     "data": {
      "image/png": "[encoded data removed]",
      "text/plain": [
       "<Figure size 1224x432 with 1 Axes>"
      ]
     },
     "metadata": {},
     "output_type": "display_data"
    }
   ],
   "source": [
    "plt.figure(figsize=(17,6))\n",
    "#plt.[plot|bar|pie]\n",
    "plt.pie(df_top5.PERC_OF_PROP, \n",
    "        labels=df_top5.ZONE_CATEGORY,\n",
    "        colors=['tomato', 'dodgerblue', 'darkgreen', 'limegreen', 'brown'],\n",
    "        autopct='%1.3f%%',\n",
    "        startangle=180,\n",
    "        explode=(0.1,0,0.05,0,0.8)\n",
    "       )\n",
    "plt.title('Lukas piechart')"
   ]
  },
  {
   "cell_type": "code",
   "execution_count": 143,
   "metadata": {},
   "outputs": [
    {
     "data": {
      "text/plain": [
       "<matplotlib.collections.PathCollection at 0x1340e43a0>"
      ]
     },
     "execution_count": 143,
     "metadata": {},
     "output_type": "execute_result"
    },
    {
     "data": {
      "image/png": "[encoded data removed]",
      "text/plain": [
       "<Figure size 1224x432 with 1 Axes>"
      ]
     },
     "metadata": {
      "needs_background": "light"
     },
     "output_type": "display_data"
    }
   ],
   "source": [
    "plt.figure(figsize=(17,6))\n",
    "plt.scatter(x, y, label='label', s = 600, edgecolor='black', color='red', marker='3')"
   ]
  },
  {
   "cell_type": "code",
   "execution_count": 144,
   "metadata": {},
   "outputs": [
    {
     "data": {
      "text/plain": [
       "<matplotlib.collections.PathCollection at 0x134135f70>"
      ]
     },
     "execution_count": 144,
     "metadata": {},
     "output_type": "execute_result"
    },
    {
     "data": {
      "image/png": "[encoded data removed]",
      "text/plain": [
       "<Figure size 1224x432 with 1 Axes>"
      ]
     },
     "metadata": {
      "needs_background": "light"
     },
     "output_type": "display_data"
    }
   ],
   "source": [
    "plt.figure(figsize=(17,6))\n",
    "plt.scatter(x,y, label='No of props built', s = 1500,\n",
    "            color='red',edgecolor='black', marker='*')"
   ]
  },
  {
   "cell_type": "code",
   "execution_count": 148,
   "metadata": {},
   "outputs": [
    {
     "data": {
      "text/plain": [
       "<matplotlib.collections.PathCollection at 0x134b814f0>"
      ]
     },
     "execution_count": 148,
     "metadata": {},
     "output_type": "execute_result"
    },
    {
     "data": {
      "image/png": "[encoded data removed]",
      "text/plain": [
       "<Figure size 1224x432 with 1 Axes>"
      ]
     },
     "metadata": {
      "needs_background": "light"
     },
     "output_type": "display_data"
    }
   ],
   "source": [
    "plt.figure(figsize=(17,6))\n",
    "plt.scatter(x,y, label='No of props built', s = 2050,\n",
    "            color='dodgerblue',edgecolor='black', \n",
    "            alpha=0.6,\n",
    "            marker='.')"
   ]
  },
  {
   "cell_type": "markdown",
   "metadata": {},
   "source": [
    "# read more at\n",
    "https://medium.com/sfu-cspmp/advanced-visualization-for-data-scientists-with-matplotlib-15c28863c41c"
   ]
  },
  {
   "cell_type": "code",
   "execution_count": 151,
   "metadata": {},
   "outputs": [
    {
     "name": "stdout",
     "output_type": "stream",
     "text": [
      "               ZONE_CATEGORY  NO_OF_PROPS  PERC_OF_PROP\n",
      "0                 Commercial        17869      8.803591\n",
      "1  Comprehensive Development        67550     33.280125\n",
      "2              Historic Area         2457      1.210500\n",
      "3                 Industrial         1239      0.610423\n",
      "4           Light Industrial         3297      1.624346\n"
     ]
    }
   ],
   "source": [
    "print(df.head(5))"
   ]
  },
  {
   "cell_type": "code",
   "execution_count": 152,
   "metadata": {},
   "outputs": [
    {
     "data": {
      "text/html": [
       "<div>\n",
       "<style scoped>\n",
       "    .dataframe tbody tr th:only-of-type {\n",
       "        vertical-align: middle;\n",
       "    }\n",
       "\n",
       "    .dataframe tbody tr th {\n",
       "        vertical-align: top;\n",
       "    }\n",
       "\n",
       "    .dataframe thead th {\n",
       "        text-align: right;\n",
       "    }\n",
       "</style>\n",
       "<table border=\"1\" class=\"dataframe\">\n",
       "  <thead>\n",
       "    <tr style=\"text-align: right;\">\n",
       "      <th></th>\n",
       "      <th>ZONE_CATEGORY</th>\n",
       "      <th>NO_OF_PROPS</th>\n",
       "      <th>PERC_OF_PROP</th>\n",
       "    </tr>\n",
       "  </thead>\n",
       "  <tbody>\n",
       "    <tr>\n",
       "      <th>0</th>\n",
       "      <td>Commercial</td>\n",
       "      <td>17869</td>\n",
       "      <td>8.803591</td>\n",
       "    </tr>\n",
       "    <tr>\n",
       "      <th>1</th>\n",
       "      <td>Comprehensive Development</td>\n",
       "      <td>67550</td>\n",
       "      <td>33.280125</td>\n",
       "    </tr>\n",
       "    <tr>\n",
       "      <th>2</th>\n",
       "      <td>Historic Area</td>\n",
       "      <td>2457</td>\n",
       "      <td>1.210500</td>\n",
       "    </tr>\n",
       "    <tr>\n",
       "      <th>3</th>\n",
       "      <td>Industrial</td>\n",
       "      <td>1239</td>\n",
       "      <td>0.610423</td>\n",
       "    </tr>\n",
       "    <tr>\n",
       "      <th>4</th>\n",
       "      <td>Light Industrial</td>\n",
       "      <td>3297</td>\n",
       "      <td>1.624346</td>\n",
       "    </tr>\n",
       "  </tbody>\n",
       "</table>\n",
       "</div>"
      ],
      "text/plain": [
       "               ZONE_CATEGORY  NO_OF_PROPS  PERC_OF_PROP\n",
       "0                 Commercial        17869      8.803591\n",
       "1  Comprehensive Development        67550     33.280125\n",
       "2              Historic Area         2457      1.210500\n",
       "3                 Industrial         1239      0.610423\n",
       "4           Light Industrial         3297      1.624346"
      ]
     },
     "execution_count": 152,
     "metadata": {},
     "output_type": "execute_result"
    }
   ],
   "source": [
    "df.head()"
   ]
  },
  {
   "cell_type": "code",
   "execution_count": null,
   "metadata": {},
   "outputs": [],
   "source": []
  }
 ],
 "metadata": {
  "kernelspec": {
   "display_name": "Python 3",
   "language": "python",
   "name": "python3"
  },
  "language_info": {
   "codemirror_mode": {
    "name": "ipython",
    "version": 3
   },
   "file_extension": ".py",
   "mimetype": "text/x-python",
   "name": "python",
   "nbconvert_exporter": "python",
   "pygments_lexer": "ipython3",
   "version": "3.8.5"
  }
 },
 "nbformat": 4,
 "nbformat_minor": 4
}
