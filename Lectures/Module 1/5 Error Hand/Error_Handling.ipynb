{
 "cells": [
  {
   "cell_type": "markdown",
   "metadata": {
    "colab_type": "text",
    "id": "-tSYul59AXfk",
    "slideshow": {
     "slide_type": "slide"
    }
   },
   "source": [
    "# Error handling\n",
    "\n",
    "**Lesson Goals**\n",
    "\n",
    "---\n",
    "* Learn about common Python error types.\n",
    "* Learn how to read Python error messages.\n",
    "* Write exceptions into your code.\n",
    "* Catch and handle exceptions in your code."
   ]
  },
  {
   "cell_type": "markdown",
   "metadata": {
    "colab_type": "text",
    "id": "anDm76pFAhjH",
    "slideshow": {
     "slide_type": "slide"
    }
   },
   "source": [
    "## Introduction \n",
    "\n",
    "A significant part of programming involves dealing with errors and exceptions. Beginner Python programmers might initially find errors annoying - constantly reminding you that you did something wrong and presenting you with obstacles in your quest for a solution that works. However, as you progress from beginner to intermediate, you will start to increasingly rely on error messages to write better code. You will learn to view errors and exceptions more as a form of communication that informs you about what is wrong with the code you are writing and where the error is occurring.\n",
    "\n",
    "In this lesson, we will familiarize ourselves with the different types of errors and exceptions we might encounter in the Python code we write, learn how to write exceptions into our own code, and learn how to handle errors in different ways."
   ]
  },
  {
   "cell_type": "markdown",
   "metadata": {
    "colab_type": "text",
    "id": "avrJ34h7Ao84",
    "slideshow": {
     "slide_type": "slide"
    }
   },
   "source": [
    "## Python Error Types\n",
    "\n",
    "There are many types of errors in Python, but below are a few common error types that you are likely to encounter.\n",
    "\n",
    "    SyntaxError: When code has been typed incorrectly.\n",
    "    AttributeError: When you try to access an attribute on an object that does not exist.\n",
    "    KeyError: When you try to access a key in a dictionary that does not exist.\n",
    "    TypeError: When an argument to a function is not of the right type (e.g. a str instead of int).\n",
    "    ValueError: When an argument to a function is of the right type but is not in the right domain (e.g. an empty string)\n",
    "    ImportError: When an import fails.\n",
    "    IOError: When Python cannot access a file correctly on disk.\n",
    "\n",
    "\n"
   ]
  },
  {
   "cell_type": "markdown",
   "metadata": {
    "slideshow": {
     "slide_type": "slide"
    }
   },
   "source": [
    "In addition to letting you know the type of error, Python will also provide an error message that tells you specifically why you are receiving the error."
   ]
  },
  {
   "cell_type": "markdown",
   "metadata": {
    "colab_type": "text",
    "id": "2OT5qVNMAwrO",
    "slideshow": {
     "slide_type": "slide"
    }
   },
   "source": [
    "## Reading Errors \n",
    "When you encounter an error in Python, there will be a Traceback that informs you of where the error occurs."
   ]
  },
  {
   "cell_type": "code",
   "execution_count": 20,
   "metadata": {
    "colab": {},
    "colab_type": "code",
    "id": "f19dLEkKA1DF",
    "slideshow": {
     "slide_type": "fragment"
    }
   },
   "outputs": [
    {
     "ename": "ImportError",
     "evalue": "cannot import name 'does_not_exist' from 'pandas' (/opt/anaconda3/envs/tensor/lib/python3.7/site-packages/pandas/__init__.py)",
     "output_type": "error",
     "traceback": [
      "\u001b[0;31m-------------------------------------------------------------------------\u001b[0m",
      "\u001b[0;31mImportError\u001b[0m                             Traceback (most recent call last)",
      "\u001b[0;32m<ipython-input-20-e9d71fb092be>\u001b[0m in \u001b[0;36m<module>\u001b[0;34m\u001b[0m\n\u001b[0;32m----> 1\u001b[0;31m \u001b[0;32mfrom\u001b[0m \u001b[0mpandas\u001b[0m \u001b[0;32mimport\u001b[0m \u001b[0mdoes_not_exist\u001b[0m\u001b[0;34m\u001b[0m\u001b[0;34m\u001b[0m\u001b[0m\n\u001b[0m",
      "\u001b[0;31mImportError\u001b[0m: cannot import name 'does_not_exist' from 'pandas' (/opt/anaconda3/envs/tensor/lib/python3.7/site-packages/pandas/__init__.py)"
     ]
    }
   ],
   "source": [
    "from pandas import does_not_exist"
   ]
  },
  {
   "cell_type": "markdown",
   "metadata": {
    "colab_type": "text",
    "id": "4Pz2_BuqA4HT",
    "slideshow": {
     "slide_type": "slide"
    }
   },
   "source": [
    "In the example above, we tried to import something that does not exist. Accordingly, Python gave us an ImportError and told us that it cannot import it. This tells us what is wrong with our code, and the part above it (where the the arrow is) shows us specifically which line of our code caused the error so that we can fix it.\n",
    "\n"
   ]
  },
  {
   "cell_type": "markdown",
   "metadata": {
    "slideshow": {
     "slide_type": "slide"
    }
   },
   "source": [
    "The previous example was quite straightforward, but if you get an error while using a function that itself uses other functions, you will receive several steps in the Traceback above the error line that tell you exactly which lines in which functions errored out."
   ]
  },
  {
   "cell_type": "code",
   "execution_count": 25,
   "metadata": {
    "colab": {},
    "colab_type": "code",
    "id": "TgQNNeBxgWTA",
    "slideshow": {
     "slide_type": "subslide"
    }
   },
   "outputs": [
    {
     "ename": "NameError",
     "evalue": "name 'does_not_exist' is not defined",
     "output_type": "error",
     "traceback": [
      "\u001b[0;31m-------------------------------------------------------------------------\u001b[0m",
      "\u001b[0;31mNameError\u001b[0m                               Traceback (most recent call last)",
      "\u001b[0;32m<ipython-input-25-5b48da61d415>\u001b[0m in \u001b[0;36m<module>\u001b[0;34m\u001b[0m\n\u001b[1;32m      2\u001b[0m     \u001b[0mprint\u001b[0m\u001b[0;34m(\u001b[0m\u001b[0mdoes_not_exist\u001b[0m\u001b[0;34m)\u001b[0m\u001b[0;34m\u001b[0m\u001b[0;34m\u001b[0m\u001b[0m\n\u001b[1;32m      3\u001b[0m \u001b[0;34m\u001b[0m\u001b[0m\n\u001b[0;32m----> 4\u001b[0;31m \u001b[0mfunc\u001b[0m\u001b[0;34m(\u001b[0m\u001b[0;34m'this is a string'\u001b[0m\u001b[0;34m)\u001b[0m\u001b[0;34m\u001b[0m\u001b[0;34m\u001b[0m\u001b[0m\n\u001b[0m",
      "\u001b[0;32m<ipython-input-25-5b48da61d415>\u001b[0m in \u001b[0;36mfunc\u001b[0;34m(string)\u001b[0m\n\u001b[1;32m      1\u001b[0m \u001b[0;32mdef\u001b[0m \u001b[0mfunc\u001b[0m\u001b[0;34m(\u001b[0m\u001b[0mstring\u001b[0m\u001b[0;34m)\u001b[0m\u001b[0;34m:\u001b[0m\u001b[0;34m\u001b[0m\u001b[0;34m\u001b[0m\u001b[0m\n\u001b[0;32m----> 2\u001b[0;31m     \u001b[0mprint\u001b[0m\u001b[0;34m(\u001b[0m\u001b[0mdoes_not_exist\u001b[0m\u001b[0;34m)\u001b[0m\u001b[0;34m\u001b[0m\u001b[0;34m\u001b[0m\u001b[0m\n\u001b[0m\u001b[1;32m      3\u001b[0m \u001b[0;34m\u001b[0m\u001b[0m\n\u001b[1;32m      4\u001b[0m \u001b[0mfunc\u001b[0m\u001b[0;34m(\u001b[0m\u001b[0;34m'this is a string'\u001b[0m\u001b[0;34m)\u001b[0m\u001b[0;34m\u001b[0m\u001b[0;34m\u001b[0m\u001b[0m\n",
      "\u001b[0;31mNameError\u001b[0m: name 'does_not_exist' is not defined"
     ]
    }
   ],
   "source": [
    "def func(string):\n",
    "    print(does_not_exist)\n",
    "\n",
    "func('this is a string')"
   ]
  },
  {
   "cell_type": "markdown",
   "metadata": {
    "colab_type": "text",
    "id": "AMsLupNlhr8i",
    "slideshow": {
     "slide_type": "slide"
    }
   },
   "source": [
    "In the error message above, we tried to print a string assigned to a local variable that did not exist, so we received a NameError saying that it is not defined. You can see how the first arrow tells us that there is something wrong with the func function and the second arrow shows us specifically that it is the line with the print function within func that is causing the issue. \n"
   ]
  },
  {
   "cell_type": "markdown",
   "metadata": {
    "colab_type": "text",
    "id": "hTW2SxA9iNbl",
    "slideshow": {
     "slide_type": "slide"
    }
   },
   "source": [
    "## Writing Exceptions Into Our Code \n",
    "In addition to simply receiving errors, Python allows us to write exceptions into our code so that it throws an error when there is something wrong. We can write conditional statements into our code that check for undesirable conditions and then call the raise keyword when one of those conditions is met. "
   ]
  },
  {
   "cell_type": "code",
   "execution_count": 28,
   "metadata": {
    "colab": {
     "base_uri": "https://localhost:8080/",
     "height": 344
    },
    "colab_type": "code",
    "executionInfo": {
     "elapsed": 960,
     "status": "error",
     "timestamp": 1579082243402,
     "user": {
      "displayName": "Paolo Scalia",
      "photoUrl": "",
      "userId": "03375914393610683179"
     },
     "user_tz": -60
    },
    "id": "zvhd3_UliVvK",
    "outputId": "14510a38-db6e-4570-aa92-badffe0fc350",
    "scrolled": true,
    "slideshow": {
     "slide_type": "subslide"
    }
   },
   "outputs": [
    {
     "ename": "ValueError",
     "evalue": "The entered is not even!",
     "output_type": "error",
     "traceback": [
      "\u001b[0;31m-------------------------------------------------------------------------\u001b[0m",
      "\u001b[0;31mValueError\u001b[0m                              Traceback (most recent call last)",
      "\u001b[0;32m<ipython-input-28-10ec451aba18>\u001b[0m in \u001b[0;36m<module>\u001b[0;34m\u001b[0m\n\u001b[1;32m      5\u001b[0m         \u001b[0mprint\u001b[0m\u001b[0;34m(\u001b[0m\u001b[0;34m\"Number accepted.\"\u001b[0m\u001b[0;34m)\u001b[0m\u001b[0;34m\u001b[0m\u001b[0;34m\u001b[0m\u001b[0m\n\u001b[1;32m      6\u001b[0m \u001b[0;34m\u001b[0m\u001b[0m\n\u001b[0;32m----> 7\u001b[0;31m \u001b[0meven_number\u001b[0m\u001b[0;34m(\u001b[0m\u001b[0;36m3\u001b[0m\u001b[0;34m)\u001b[0m\u001b[0;34m\u001b[0m\u001b[0;34m\u001b[0m\u001b[0m\n\u001b[0m",
      "\u001b[0;32m<ipython-input-28-10ec451aba18>\u001b[0m in \u001b[0;36meven_number\u001b[0;34m(number)\u001b[0m\n\u001b[1;32m      1\u001b[0m \u001b[0;32mdef\u001b[0m \u001b[0meven_number\u001b[0m\u001b[0;34m(\u001b[0m\u001b[0mnumber\u001b[0m\u001b[0;34m)\u001b[0m\u001b[0;34m:\u001b[0m\u001b[0;34m\u001b[0m\u001b[0;34m\u001b[0m\u001b[0m\n\u001b[1;32m      2\u001b[0m     \u001b[0;32mif\u001b[0m \u001b[0mnumber\u001b[0m \u001b[0;34m%\u001b[0m \u001b[0;36m2\u001b[0m \u001b[0;34m!=\u001b[0m \u001b[0;36m0\u001b[0m\u001b[0;34m:\u001b[0m\u001b[0;34m\u001b[0m\u001b[0;34m\u001b[0m\u001b[0m\n\u001b[0;32m----> 3\u001b[0;31m         \u001b[0;32mraise\u001b[0m \u001b[0mValueError\u001b[0m\u001b[0;34m(\u001b[0m\u001b[0;34m\"The entered is not even!\"\u001b[0m\u001b[0;34m)\u001b[0m\u001b[0;34m\u001b[0m\u001b[0;34m\u001b[0m\u001b[0m\n\u001b[0m\u001b[1;32m      4\u001b[0m     \u001b[0;32melse\u001b[0m\u001b[0;34m:\u001b[0m\u001b[0;34m\u001b[0m\u001b[0;34m\u001b[0m\u001b[0m\n\u001b[1;32m      5\u001b[0m         \u001b[0mprint\u001b[0m\u001b[0;34m(\u001b[0m\u001b[0;34m\"Number accepted.\"\u001b[0m\u001b[0;34m)\u001b[0m\u001b[0;34m\u001b[0m\u001b[0;34m\u001b[0m\u001b[0m\n",
      "\u001b[0;31mValueError\u001b[0m: The entered is not even!"
     ]
    }
   ],
   "source": [
    "def even_number(number):\n",
    "    if number % 2 != 0:\n",
    "        raise ValueError(\"The entered is not even!\")\n",
    "    else:\n",
    "        print(\"Number accepted.\")\n",
    "          \n",
    "even_number(3) "
   ]
  },
  {
   "cell_type": "markdown",
   "metadata": {
    "colab_type": "text",
    "id": "P6e1MaJuicPQ",
    "slideshow": {
     "slide_type": "slide"
    }
   },
   "source": [
    "In the example above, we created a function that accepts even numbers. If the number passed to the function is not even, then we raise a ValueError exception and let the user know that they are receiving the error because the number they have passed is not even. The traceback shows that our `even_number`function call errored out and that it is the line with the raise keyword within our conditional statement that caused the error to appear. "
   ]
  },
  {
   "cell_type": "markdown",
   "metadata": {
    "colab_type": "text",
    "id": "xUoBk7pzjeLl",
    "slideshow": {
     "slide_type": "slide"
    }
   },
   "source": [
    "## Catching Exceptions In Our Code \n",
    "The last topic we will cover in this lesson is catching exceptions in our code. From time to time, we will know that an exception may occur and our code is going to produce an error, *but we will not want the error to crash our entire program.* Exception handling can help us address the error while still continuing to run the rest of our code. This is done using try and except statements. "
   ]
  },
  {
   "cell_type": "code",
   "execution_count": 30,
   "metadata": {
    "colab": {
     "base_uri": "https://localhost:8080/",
     "height": 54
    },
    "colab_type": "code",
    "executionInfo": {
     "elapsed": 835,
     "status": "ok",
     "timestamp": 1579082568380,
     "user": {
      "displayName": "Paolo Scalia",
      "photoUrl": "",
      "userId": "03375914393610683179"
     },
     "user_tz": -60
    },
    "id": "JwTf1_hojkRe",
    "outputId": "fb1db839-b325-45ae-a22f-51fd3b9b14f7",
    "slideshow": {
     "slide_type": "fragment"
    }
   },
   "outputs": [
    {
     "name": "stdout",
     "output_type": "stream",
     "text": [
      "Number accepted.\n",
      "This line of code still executes.\n"
     ]
    }
   ],
   "source": [
    "try:\n",
    "    even_number(2)\n",
    "except:\n",
    "    print(\"The even_number function errored out.\")\n",
    "\n",
    "print(\"This line of code still executes.\")\n"
   ]
  },
  {
   "cell_type": "markdown",
   "metadata": {
    "colab_type": "text",
    "id": "kBZ875cujtCY",
    "slideshow": {
     "slide_type": "slide"
    }
   },
   "source": [
    "In the example above, we tried to call the `even_number` function and pass it the number 3. It doesn't work, but instead of producing an error, it moves to the `except` statement, runs that code, and then continues running the rest of our code. You can use this anytime you want your code to continue running despite encountering errors.\n"
   ]
  },
  {
   "cell_type": "markdown",
   "metadata": {
    "slideshow": {
     "slide_type": "slide"
    }
   },
   "source": [
    "\n",
    "In addition to `try` and `except`, there a couple other useful keywords used in exception handling that you should be familiar with. For example, just like in conditional statements, we can add an `else` clause to our exceptions. The `else` clause is an optional clause that can be placed after the except clause to execute code that should run *if the `try` clause does not result in an exception.*"
   ]
  },
  {
   "cell_type": "code",
   "execution_count": 37,
   "metadata": {
    "colab": {
     "base_uri": "https://localhost:8080/",
     "height": 73
    },
    "colab_type": "code",
    "executionInfo": {
     "elapsed": 1102,
     "status": "ok",
     "timestamp": 1579082720292,
     "user": {
      "displayName": "Paolo Scalia",
      "photoUrl": "",
      "userId": "03375914393610683179"
     },
     "user_tz": -60
    },
    "id": "wIbwMhoDjno6",
    "outputId": "41dbee85-1542-4b53-84f3-a8672da002d0",
    "slideshow": {
     "slide_type": "subslide"
    }
   },
   "outputs": [
    {
     "name": "stdout",
     "output_type": "stream",
     "text": [
      "The even_number function errored out.\n",
      "This line of code still executes.\n"
     ]
    }
   ],
   "source": [
    "try:\n",
    "    even_number(3)\n",
    "except:\n",
    "    print(\"The even_number function errored out.\")\n",
    "else:\n",
    "    print(\"The even number function ran successfully.\")  \n",
    "\n",
    "print(\"This line of code still executes.\")\n"
   ]
  },
  {
   "cell_type": "markdown",
   "metadata": {
    "colab_type": "text",
    "id": "0BoY6OFSkR8C",
    "slideshow": {
     "slide_type": "slide"
    }
   },
   "source": [
    "The other keyword you should know is `finally`. The `finally` clause is executed \"on the way out\" of an exception handling sequence, and *it gets executed whether or not an exception has occurred.* Its purpose is typically to clean up anything that was used in the sequence but won't be needed in the rest of the code. "
   ]
  },
  {
   "cell_type": "code",
   "execution_count": 42,
   "metadata": {
    "colab": {
     "base_uri": "https://localhost:8080/",
     "height": 73
    },
    "colab_type": "code",
    "executionInfo": {
     "elapsed": 1017,
     "status": "ok",
     "timestamp": 1579082796899,
     "user": {
      "displayName": "Paolo Scalia",
      "photoUrl": "",
      "userId": "03375914393610683179"
     },
     "user_tz": -60
    },
    "id": "1psK16oykO83",
    "outputId": "69f26d1e-a48b-420a-c574-531d68914b15",
    "slideshow": {
     "slide_type": "fragment"
    }
   },
   "outputs": [
    {
     "name": "stdout",
     "output_type": "stream",
     "text": [
      "Number accepted.\n",
      "The even number function ran successfully.\n",
      "End of the sequence.\n",
      "This line of code still executes.\n"
     ]
    }
   ],
   "source": [
    "try:\n",
    "    even_number(2)\n",
    "except:\n",
    "    print(\"The even_number function errored out.\")\n",
    "else:\n",
    "    print(\"The even number function ran successfully.\")  \n",
    "finally:\n",
    "    print(\"End of the sequence.\")  \n",
    "    # Important message to rest of code \n",
    "\n",
    "print(\"This line of code still executes.\")"
   ]
  },
  {
   "cell_type": "markdown",
   "metadata": {
    "colab_type": "text",
    "id": "mUVp7JDokcrE",
    "slideshow": {
     "slide_type": "slide"
    }
   },
   "source": [
    "## Nested Exceptions\n",
    "\n",
    "Sometimes you will need to include multiple criteria in your error handling routines in order to determine whether an exception should be thrown. Just like you can nest conditional statements, you can also nest exception handling clauses to provide more specific instructions about the cause of errors to your users.\n",
    " "
   ]
  },
  {
   "cell_type": "markdown",
   "metadata": {
    "slideshow": {
     "slide_type": "slide"
    }
   },
   "source": [
    "In the example below, we are defining a new `int_check` function that checks whether a number is an integer and raises a ValueError if it is not. We also start with a list of numbers and an empty `evens` list.\n",
    "\n",
    "The nested exception handling routine within the for loop that follows will first check if each number is an integer, then check if the number is even, and then accept the input and append it to the `evens` list if it passes both exceptions. If there is an error at any step, it will print the appropriate description to the console and continue running the program."
   ]
  },
  {
   "cell_type": "code",
   "execution_count": 43,
   "metadata": {
    "colab": {
     "base_uri": "https://localhost:8080/",
     "height": 729
    },
    "colab_type": "code",
    "executionInfo": {
     "elapsed": 884,
     "status": "ok",
     "timestamp": 1579081258985,
     "user": {
      "displayName": "Paolo Scalia",
      "photoUrl": "",
      "userId": "03375914393610683179"
     },
     "user_tz": -60
    },
    "id": "D9PryXmjkZVa",
    "outputId": "c1d8e109-b4ec-4145-95a8-6dcb57db25ae",
    "slideshow": {
     "slide_type": "subslide"
    }
   },
   "outputs": [
    {
     "name": "stdout",
     "output_type": "stream",
     "text": [
      "Analyzing the number: 1\n",
      "The int_check function ran successfully.\n",
      "The even_number function errored out.\n",
      "\n",
      "\n",
      "Analyzing the number: 2\n",
      "The int_check function ran successfully.\n",
      "Number accepted.\n",
      "\n",
      "\n",
      "Analyzing the number: 3\n",
      "The int_check function ran successfully.\n",
      "The even_number function errored out.\n",
      "\n",
      "\n",
      "Analyzing the number: 3.7\n",
      "The int_check function errored out.\n",
      "\n",
      "\n",
      "Analyzing the number: 4\n",
      "The int_check function ran successfully.\n",
      "Number accepted.\n",
      "\n",
      "\n",
      "Analyzing the number: 5.5\n",
      "The int_check function errored out.\n",
      "\n",
      "\n",
      "Analyzing the number: 7\n",
      "The int_check function ran successfully.\n",
      "The even_number function errored out.\n",
      "\n",
      "\n",
      "Analyzing the number: 10\n",
      "The int_check function ran successfully.\n",
      "Number accepted.\n",
      "\n",
      "\n"
     ]
    }
   ],
   "source": [
    "def int_check(integer):\n",
    "    if type(integer) != int:\n",
    "        raise ValueError(\"The number entered is not an integer!\")\n",
    "    else:\n",
    "        pass\n",
    "\n",
    "numbers = [1, 2, 3, 3.7, 4, 5.5, 7, 10]\n",
    "evens = []\n",
    "\n",
    "for number in numbers:\n",
    "    print(\"Analyzing the number:\", str(number))\n",
    "    try:\n",
    "        # Check if it's an integer\n",
    "        int_check(number)\n",
    "    except:\n",
    "        print(\"The int_check function errored out.\")\n",
    "    else:\n",
    "        print(\"The int_check function ran successfully.\")\n",
    "        try:\n",
    "            # If it is an int, then check if it is an even integer\n",
    "            even_number(number)\n",
    "        except:\n",
    "            print(\"The even_number function errored out.\")\n",
    "        else:\n",
    "            evens.append(number)\n",
    "    print(\"\\n\") "
   ]
  },
  {
   "cell_type": "markdown",
   "metadata": {
    "colab_type": "text",
    "id": "dw71acKLlANj",
    "slideshow": {
     "slide_type": "slide"
    }
   },
   "source": [
    "The output above shows that the numbers 1, 3, 3.7, 5.5, and 7 did not get accepted due to errors in one of the two functions. When we check our evens list, it should contain only the even numbers that passed all our exceptions"
   ]
  },
  {
   "cell_type": "code",
   "execution_count": 45,
   "metadata": {
    "colab": {
     "base_uri": "https://localhost:8080/",
     "height": 36
    },
    "colab_type": "code",
    "executionInfo": {
     "elapsed": 1006,
     "status": "ok",
     "timestamp": 1579081301200,
     "user": {
      "displayName": "Paolo Scalia",
      "photoUrl": "",
      "userId": "03375914393610683179"
     },
     "user_tz": -60
    },
    "id": "vUUQ9dLIlEXy",
    "outputId": "3f5089d8-6eb5-4a8e-e486-6fc141f3318a",
    "slideshow": {
     "slide_type": "fragment"
    }
   },
   "outputs": [
    {
     "name": "stdout",
     "output_type": "stream",
     "text": [
      "[2, 4, 10]\n"
     ]
    }
   ],
   "source": [
    "print(evens)"
   ]
  },
  {
   "cell_type": "markdown",
   "metadata": {
    "colab_type": "text",
    "id": "8UUXOYyGlLn-",
    "slideshow": {
     "slide_type": "slide"
    }
   },
   "source": [
    "## Summary\n",
    "\n",
    "In this lesson, we learned about Python errors. We began by learning some of the common error types and when they are raised. We then learned how to read Python error messages and trace back the errors we get to determine their source. We also learned how to write code that raises errors, and about exception handling using try, except, else, and finally clauses. Finally, we got a glimpse into how you can write more complex and comprehensive exception handling into your code. You should now have a better understanding of errors you may encounter when programming with Python and how to address them. "
   ]
  }
 ],
 "metadata": {
  "celltoolbar": "Slideshow",
  "colab": {
   "collapsed_sections": [],
   "name": "Error Handling.ipynb",
   "provenance": []
  },
  "kernelspec": {
   "display_name": "Python 3",
   "language": "python",
   "name": "python3"
  },
  "language_info": {
   "codemirror_mode": {
    "name": "ipython",
    "version": 3
   },
   "file_extension": ".py",
   "mimetype": "text/x-python",
   "name": "python",
   "nbconvert_exporter": "python",
   "pygments_lexer": "ipython3",
   "version": "3.7.5"
  }
 },
 "nbformat": 4,
 "nbformat_minor": 4
}
