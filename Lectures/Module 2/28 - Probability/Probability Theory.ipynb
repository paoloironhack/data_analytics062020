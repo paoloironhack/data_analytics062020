{
 "cells": [
  {
   "cell_type": "markdown",
   "metadata": {
    "Collapsed": "false",
    "slideshow": {
     "slide_type": "slide"
    }
   },
   "source": [
    "## Introduction to Probability "
   ]
  },
  {
   "cell_type": "markdown",
   "metadata": {
    "Collapsed": "false",
    "slideshow": {
     "slide_type": "slide"
    }
   },
   "source": [
    "Recall from previous lectures that $\\Omega$ denotes the outcome space, $E$ the event space and that a random variable **maps** possible outcomes from $\\Omega$ to $E$ with some probability. "
   ]
  },
  {
   "cell_type": "markdown",
   "metadata": {
    "Collapsed": "false",
    "slideshow": {
     "slide_type": "slide"
    }
   },
   "source": [
    "### The Case"
   ]
  },
  {
   "cell_type": "markdown",
   "metadata": {
    "Collapsed": "false",
    "slideshow": {
     "slide_type": "fragment"
    }
   },
   "source": [
    "Throughout this lecture we will take a deck of 52 cards as our point of reference. "
   ]
  },
  {
   "cell_type": "markdown",
   "metadata": {
    "Collapsed": "false",
    "slideshow": {
     "slide_type": "fragment"
    }
   },
   "source": [
    "- $\\Omega$ = {Ace of Hearts, 2 of Hearts, ..., King of Spades}"
   ]
  },
  {
   "cell_type": "markdown",
   "metadata": {
    "Collapsed": "false",
    "slideshow": {
     "slide_type": "fragment"
    }
   },
   "source": [
    "All outcomes are equally likely (**equiprobable**). "
   ]
  },
  {
   "cell_type": "markdown",
   "metadata": {
    "Collapsed": "false",
    "slideshow": {
     "slide_type": "slide"
    }
   },
   "source": [
    "**Important**: Even though we will use events from a card game during this lecture, the formulae are universally applicable for other events as well. "
   ]
  },
  {
   "cell_type": "markdown",
   "metadata": {
    "Collapsed": "false",
    "slideshow": {
     "slide_type": "slide"
    }
   },
   "source": [
    "### Addition in Probability"
   ]
  },
  {
   "cell_type": "markdown",
   "metadata": {
    "Collapsed": "false",
    "slideshow": {
     "slide_type": "fragment"
    }
   },
   "source": [
    "If we want to compute the probability that we draw a King of Spades **OR** an Ace of Hearts, we first need to determine the following: "
   ]
  },
  {
   "cell_type": "markdown",
   "metadata": {
    "Collapsed": "false",
    "slideshow": {
     "slide_type": "fragment"
    }
   },
   "source": [
    "Are these two events **dependent** or **independent**."
   ]
  },
  {
   "cell_type": "markdown",
   "metadata": {
    "Collapsed": "false",
    "slideshow": {
     "slide_type": "slide"
    }
   },
   "source": [
    "### Scenario 1"
   ]
  },
  {
   "cell_type": "markdown",
   "metadata": {
    "Collapsed": "false",
    "slideshow": {
     "slide_type": "fragment"
    }
   },
   "source": [
    "Consider the following situation. Suppose John may pick a card. What is the probability that he will pick either a King of Spades **OR** an Ace of Hearts?"
   ]
  },
  {
   "cell_type": "markdown",
   "metadata": {
    "Collapsed": "false",
    "slideshow": {
     "slide_type": "fragment"
    }
   },
   "source": [
    "First of all, we must ask ourselves whether these two possible events are dependent or independent."
   ]
  },
  {
   "cell_type": "markdown",
   "metadata": {
    "Collapsed": "false",
    "slideshow": {
     "slide_type": "slide"
    }
   },
   "source": [
    "Because these two events are **independent**, we will have to use the following formula to compute the probability of drawing one or the other:"
   ]
  },
  {
   "cell_type": "markdown",
   "metadata": {
    "Collapsed": "false",
    "slideshow": {
     "slide_type": "fragment"
    }
   },
   "source": [
    "- $P$(King of Spades $\\cup$ Ace of Hearts) = $P$(King of Spades) + $P$(Ace of Hearts)."
   ]
  },
  {
   "cell_type": "markdown",
   "metadata": {
    "Collapsed": "false"
   },
   "source": [
    "- $P$(A $\\cup$ B) = $P$(A) + $P$(B)."
   ]
  },
  {
   "cell_type": "markdown",
   "metadata": {
    "Collapsed": "false",
    "slideshow": {
     "slide_type": "fragment"
    }
   },
   "source": [
    "Here we would get:\n",
    "\n",
    "- $\\frac{1}{52}$ + $\\frac{1}{52}$ = $\\frac{2}{52} = \\frac{1}{26} \\approx 3.85\\%$ "
   ]
  },
  {
   "cell_type": "markdown",
   "metadata": {
    "Collapsed": "false",
    "slideshow": {
     "slide_type": "slide"
    }
   },
   "source": [
    "### Scenario 2"
   ]
  },
  {
   "cell_type": "markdown",
   "metadata": {
    "Collapsed": "false",
    "slideshow": {
     "slide_type": "fragment"
    }
   },
   "source": [
    "Consider the following. Suppose that John must pick a card from the deck of cards. What is the probability that he will pick either an Ace **OR** a Clover?"
   ]
  },
  {
   "cell_type": "markdown",
   "metadata": {
    "Collapsed": "false",
    "slideshow": {
     "slide_type": "fragment"
    }
   },
   "source": [
    "Again, first we need to ask ourselves: are these two events independent or dependent? "
   ]
  },
  {
   "cell_type": "markdown",
   "metadata": {
    "Collapsed": "false",
    "slideshow": {
     "slide_type": "slide"
    }
   },
   "source": [
    "Because these two events are **dependent**, we will have to use the following formula to compute the probability of drawing one or the other:"
   ]
  },
  {
   "cell_type": "markdown",
   "metadata": {
    "Collapsed": "false",
    "slideshow": {
     "slide_type": "fragment"
    }
   },
   "source": [
    "- $P$(Ace $\\cup$ Clover) = $P$(Ace) + $P$(Clover) - $P($Ace $\\cap$ Clover)."
   ]
  },
  {
   "cell_type": "markdown",
   "metadata": {
    "Collapsed": "false",
    "slideshow": {
     "slide_type": "fragment"
    }
   },
   "source": [
    "$\\frac{4}{52}$ + $\\frac{13}{52}$ - ($\\frac{1}{52}$) = $\\frac{4}{13} \\approx 30.77 \\%$."
   ]
  },
  {
   "cell_type": "markdown",
   "metadata": {
    "Collapsed": "false",
    "slideshow": {
     "slide_type": "slide"
    }
   },
   "source": [
    "### Multiplication in Probability"
   ]
  },
  {
   "cell_type": "markdown",
   "metadata": {
    "Collapsed": "false",
    "slideshow": {
     "slide_type": "slide"
    }
   },
   "source": [
    "### Scenario 1\n"
   ]
  },
  {
   "cell_type": "markdown",
   "metadata": {
    "Collapsed": "false",
    "slideshow": {
     "slide_type": "fragment"
    }
   },
   "source": [
    "Let's reset the game. Now suppose that John may pick two cards. What is the probability that he will pick a Queen of Hearts **AND** a King of Hearts? Assume that after each pick, John will put his card back on the deck. "
   ]
  },
  {
   "cell_type": "markdown",
   "metadata": {
    "Collapsed": "false",
    "slideshow": {
     "slide_type": "fragment"
    }
   },
   "source": [
    "Are these two events, the first pick and the second pick, dependent or independent events?"
   ]
  },
  {
   "cell_type": "markdown",
   "metadata": {
    "Collapsed": "false",
    "slideshow": {
     "slide_type": "slide"
    }
   },
   "source": [
    "Since John puts his card back on the deck, the probability of picking any card stays $\\frac{1}{52}$ and these events are therefore **independent.**"
   ]
  },
  {
   "cell_type": "markdown",
   "metadata": {
    "Collapsed": "false",
    "slideshow": {
     "slide_type": "slide"
    }
   },
   "source": [
    "Since these events are independent, we use the following formula: "
   ]
  },
  {
   "cell_type": "markdown",
   "metadata": {
    "Collapsed": "false",
    "slideshow": {
     "slide_type": "fragment"
    }
   },
   "source": [
    "- $P($Queen of Hearts $\\cap$ King of Hearts) = $P($Queen of Hearts) * $P($King of Hearts)."
   ]
  },
  {
   "cell_type": "markdown",
   "metadata": {
    "Collapsed": "false",
    "slideshow": {
     "slide_type": "fragment"
    }
   },
   "source": [
    "Filling in the values, we get:"
   ]
  },
  {
   "cell_type": "markdown",
   "metadata": {
    "Collapsed": "false",
    "slideshow": {
     "slide_type": "fragment"
    }
   },
   "source": [
    "- $P($Queen of Hearts $\\cap$ King of Hearts) = $\\frac{1}{52}$*$\\frac{1}{52} = \\frac{1}{2704} \\approx 0.04\\% $"
   ]
  },
  {
   "cell_type": "markdown",
   "metadata": {
    "Collapsed": "false",
    "slideshow": {
     "slide_type": "slide"
    }
   },
   "source": [
    "### Scenario 2\n",
    "\n"
   ]
  },
  {
   "cell_type": "markdown",
   "metadata": {
    "Collapsed": "false",
    "slideshow": {
     "slide_type": "fragment"
    }
   },
   "source": [
    "Now suppose again that John may pick two cards. What is the probability that he will pick a Queen of Hearts **AND** a King of Hearts?\n",
    "\n",
    "Assume that after the first pick, John does not put back his card. Are these two events dependent or independent? "
   ]
  },
  {
   "cell_type": "markdown",
   "metadata": {
    "Collapsed": "false",
    "slideshow": {
     "slide_type": "slide"
    }
   },
   "source": [
    "Since John does put his card back on the deck, the probability of picking any card differs ($\\frac{1}{52}$ on the first pick, $\\frac{1}{51}$ on the second pick, etc.) and these events are therefore **dependent.**"
   ]
  },
  {
   "cell_type": "markdown",
   "metadata": {
    "Collapsed": "false",
    "slideshow": {
     "slide_type": "slide"
    }
   },
   "source": [
    "Since the events in this scenario are *dependent* we use the following formula: "
   ]
  },
  {
   "cell_type": "markdown",
   "metadata": {
    "Collapsed": "false",
    "slideshow": {
     "slide_type": "fragment"
    }
   },
   "source": [
    "- $P($Queen of Hearts $\\cap$ King of Hearts) = $P($Queen of Hearts) * $P($King of Hearts $\\mid$ Queen of Hearts)."
   ]
  },
  {
   "cell_type": "markdown",
   "metadata": {
    "Collapsed": "false",
    "slideshow": {
     "slide_type": "fragment"
    }
   },
   "source": [
    "Filling in the values, we get:"
   ]
  },
  {
   "cell_type": "markdown",
   "metadata": {
    "Collapsed": "false",
    "slideshow": {
     "slide_type": "fragment"
    }
   },
   "source": [
    "- $P($Queen of Hearts $\\cap$ King of Hearts) = $\\frac{1}{52}$*$\\frac{1}{51} = \\frac{1}{2652} \\approx 0.04\\%$ "
   ]
  },
  {
   "cell_type": "markdown",
   "metadata": {
    "Collapsed": "false",
    "slideshow": {
     "slide_type": "slide"
    }
   },
   "source": [
    "### Conditional Probability"
   ]
  },
  {
   "cell_type": "markdown",
   "metadata": {
    "Collapsed": "false",
    "slideshow": {
     "slide_type": "fragment"
    }
   },
   "source": [
    "The conditional probability allows us to incorporate new pieces of data into an already existing probability.  "
   ]
  },
  {
   "cell_type": "markdown",
   "metadata": {
    "Collapsed": "false",
    "slideshow": {
     "slide_type": "slide"
    }
   },
   "source": [
    "When talking about the conditional probability, we usually use the following phrasing: \n",
    "\n",
    "- \"The probability of event A *given* that event B has occurred is...\""
   ]
  },
  {
   "cell_type": "markdown",
   "metadata": {
    "Collapsed": "false",
    "slideshow": {
     "slide_type": "slide"
    }
   },
   "source": [
    "For example, we can have the following:"
   ]
  },
  {
   "cell_type": "markdown",
   "metadata": {
    "Collapsed": "false",
    "slideshow": {
     "slide_type": "fragment"
    }
   },
   "source": [
    "- The probability that it is summer *given* that the sun shines is... "
   ]
  },
  {
   "cell_type": "markdown",
   "metadata": {
    "Collapsed": "false",
    "slideshow": {
     "slide_type": "fragment"
    }
   },
   "source": [
    "- The probability that a person is younger than 40 *given* that she lives in Amsterdam..."
   ]
  },
  {
   "cell_type": "markdown",
   "metadata": {
    "Collapsed": "false",
    "slideshow": {
     "slide_type": "fragment"
    }
   },
   "source": [
    "- The probability that my hypothesis is correct *given* my data..."
   ]
  },
  {
   "cell_type": "markdown",
   "metadata": {
    "Collapsed": "false",
    "slideshow": {
     "slide_type": "slide"
    }
   },
   "source": [
    "### Scenario 1\n"
   ]
  },
  {
   "cell_type": "markdown",
   "metadata": {
    "Collapsed": "false",
    "slideshow": {
     "slide_type": "fragment"
    }
   },
   "source": [
    "Consider the following. Suppose that John and Jennifer play a card game. John picks a King of Spades. What is the probability that Jennifer picks the Ace of Hearts *given* that we know that John picked the King of Spades?"
   ]
  },
  {
   "cell_type": "markdown",
   "metadata": {
    "Collapsed": "false",
    "slideshow": {
     "slide_type": "fragment"
    }
   },
   "source": [
    "Assume that John does not put back his card."
   ]
  },
  {
   "cell_type": "markdown",
   "metadata": {
    "Collapsed": "false",
    "slideshow": {
     "slide_type": "fragment"
    }
   },
   "source": [
    "To determine this, we can use to following formula:\n",
    "\n",
    " $P$(A $\\mid$ B) = $\\frac{P(A \\cap B)}{P(B)}$."
   ]
  },
  {
   "cell_type": "markdown",
   "metadata": {
    "Collapsed": "false",
    "slideshow": {
     "slide_type": "slide"
    }
   },
   "source": [
    "Rewriting this in terms of our example, we get:"
   ]
  },
  {
   "cell_type": "markdown",
   "metadata": {
    "Collapsed": "false",
    "slideshow": {
     "slide_type": "fragment"
    }
   },
   "source": [
    "\n",
    "- $P$(Ace of Hearts $\\mid$ King of Spades) = $P$(Ace of Hearts $\\cap$ King of Spades) / $P($King of Spades)."
   ]
  },
  {
   "cell_type": "markdown",
   "metadata": {
    "Collapsed": "false",
    "slideshow": {
     "slide_type": "fragment"
    }
   },
   "source": [
    "since $P$(Ace of Hearts $\\cap$ King of Spades) = $P($Ace of Hearts) * $P($King of Spades $\\mid$ Ace of Hearts) we then have that $P$(Ace of Hearts $\\cap$ King of Spades) = $\\frac{1}{52} * \\frac{1}{51}$. Therefore,\n",
    "\n",
    "- $P$(Ace of Hearts $\\cap$ King of Spades) = $\\frac{1}{2652}$."
   ]
  },
  {
   "cell_type": "markdown",
   "metadata": {
    "Collapsed": "false",
    "slideshow": {
     "slide_type": "slide"
    }
   },
   "source": [
    "We can then fill in the other values and get:\n",
    "\n",
    "- $P$(Ace of Hearts $\\mid$ King of Spades) = $\\frac{1}{2652}$ / $\\frac{1}{52}$ =  $\\frac{1}{51} \\approx 1.961\\%$ "
   ]
  },
  {
   "cell_type": "markdown",
   "metadata": {
    "Collapsed": "false",
    "slideshow": {
     "slide_type": "slide"
    }
   },
   "source": [
    "Because our knowledge that the event \"King of Spades\" has occurred has changed the probability that \"Ace of Hearts\" has occurred, we can conclude that these event must be **dependent** events, since $\\frac{1}{52} \\neq \\frac{1}{51}$."
   ]
  },
  {
   "cell_type": "markdown",
   "metadata": {
    "Collapsed": "false",
    "slideshow": {
     "slide_type": "slide"
    }
   },
   "source": [
    "In other words, **the occurrence of one event changes the likelihood of the other event.**"
   ]
  },
  {
   "cell_type": "markdown",
   "metadata": {
    "Collapsed": "false",
    "slideshow": {
     "slide_type": "slide"
    }
   },
   "source": [
    "More formally we say that if $P$(A $\\mid$ B) $\\neq$ $P$(A), these two events are dependent. "
   ]
  },
  {
   "cell_type": "markdown",
   "metadata": {
    "Collapsed": "false",
    "slideshow": {
     "slide_type": "fragment"
    }
   },
   "source": [
    "If, on the other hand, we have that $P$(A $\\mid$ B) $=$ $P$(A) we say that $A$ and $B$ are independent. "
   ]
  },
  {
   "cell_type": "markdown",
   "metadata": {
    "Collapsed": "false",
    "slideshow": {
     "slide_type": "fragment"
    }
   },
   "source": [
    "Why? Because the fact that B occurred does not change anything in the probability of A occurring. "
   ]
  },
  {
   "cell_type": "markdown",
   "metadata": {
    "Collapsed": "false",
    "slideshow": {
     "slide_type": "slide"
    }
   },
   "source": [
    "### Scenario 2"
   ]
  },
  {
   "cell_type": "markdown",
   "metadata": {
    "Collapsed": "false",
    "slideshow": {
     "slide_type": "fragment"
    }
   },
   "source": [
    "Now suppose again that John picks a King of Spades *and that he puts it back on the card deck*. What is the probability that Jennifer picks the Ace of Hearts *given* that we know that John picked the King of Spades?"
   ]
  },
  {
   "cell_type": "markdown",
   "metadata": {
    "Collapsed": "false",
    "slideshow": {
     "slide_type": "slide"
    }
   },
   "source": [
    "Recall our formula:\n",
    "\n",
    "- $P$(Ace of Hearts $\\mid$ King of Spades) = $P$(Ace of Hearts $\\cap$ King of Spades) / $P($King of Spades)."
   ]
  },
  {
   "cell_type": "markdown",
   "metadata": {
    "Collapsed": "false",
    "slideshow": {
     "slide_type": "slide"
    }
   },
   "source": [
    "Let us fill in the values. "
   ]
  },
  {
   "cell_type": "markdown",
   "metadata": {
    "Collapsed": "false",
    "slideshow": {
     "slide_type": "fragment"
    }
   },
   "source": [
    "Since now we have that $P$(Ace of Hearts $\\cap$ King of Spades) = $P($Ace of Hearts) * $P($King of Spades), we can simple substitute the corresponding values in the numerator. "
   ]
  },
  {
   "cell_type": "markdown",
   "metadata": {
    "Collapsed": "false",
    "slideshow": {
     "slide_type": "fragment"
    }
   },
   "source": [
    "$P$(Ace of Hearts $\\mid$ King of Spades) = $(\\frac{1}{52}*\\frac{1}{52}) / \\frac{1}{52}$ "
   ]
  },
  {
   "cell_type": "markdown",
   "metadata": {
    "Collapsed": "false",
    "slideshow": {
     "slide_type": "slide"
    }
   },
   "source": [
    "This will give us the following:\n",
    "\n",
    "- $P$(Ace of Hearts $\\mid$ King of Spades) = $(\\frac{1}{52}*\\frac{1}{52}) / \\frac{1}{52}$ = $\\frac{1}{52}\\approx 1.923\\%$"
   ]
  },
  {
   "cell_type": "markdown",
   "metadata": {
    "Collapsed": "false",
    "slideshow": {
     "slide_type": "slide"
    }
   },
   "source": [
    "We now established that when John puts back his card these two events *are independent.* "
   ]
  },
  {
   "cell_type": "markdown",
   "metadata": {
    "Collapsed": "false",
    "slideshow": {
     "slide_type": "fragment"
    }
   },
   "source": [
    "Formally, we write that $P$(Ace of Hearts $\\mid$ King of Spades) = $P$(Ace of Hearts), since $\\frac{1}{52} = \\frac{1}{52}$."
   ]
  },
  {
   "cell_type": "markdown",
   "metadata": {
    "Collapsed": "false",
    "slideshow": {
     "slide_type": "slide"
    }
   },
   "source": [
    "**Important remark:** In the previous two scenarios we were given the information about whether the underlying game contained dependent or independent events. "
   ]
  },
  {
   "cell_type": "markdown",
   "metadata": {
    "Collapsed": "false",
    "slideshow": {
     "slide_type": "fragment"
    }
   },
   "source": [
    "In real life, however, this is not always as straightforward and often we need to resort to highly complex optimization and fitting techniques to approximate certain values in our formula.  "
   ]
  },
  {
   "cell_type": "markdown",
   "metadata": {
    "Collapsed": "false",
    "slideshow": {
     "slide_type": "slide"
    }
   },
   "source": [
    "## Summary"
   ]
  },
  {
   "cell_type": "markdown",
   "metadata": {
    "Collapsed": "false",
    "slideshow": {
     "slide_type": "slide"
    }
   },
   "source": [
    "In this lecture, we learnt about:"
   ]
  },
  {
   "cell_type": "markdown",
   "metadata": {
    "Collapsed": "false",
    "slideshow": {
     "slide_type": "fragment"
    }
   },
   "source": [
    "- How to compute the probability of one event AND another event (addition);"
   ]
  },
  {
   "cell_type": "markdown",
   "metadata": {
    "Collapsed": "false",
    "slideshow": {
     "slide_type": "fragment"
    }
   },
   "source": [
    "- How to compute the probability of one event OR another event (multiplication);"
   ]
  },
  {
   "cell_type": "markdown",
   "metadata": {
    "Collapsed": "false",
    "slideshow": {
     "slide_type": "fragment"
    }
   },
   "source": [
    "- How to compute the probability of one event GIVEN another event (conditioning)."
   ]
  },
  {
   "cell_type": "markdown",
   "metadata": {
    "Collapsed": "false",
    "slideshow": {
     "slide_type": "slide"
    }
   },
   "source": [
    "## Appendix "
   ]
  },
  {
   "cell_type": "markdown",
   "metadata": {
    "Collapsed": "false",
    "slideshow": {
     "slide_type": "slide"
    }
   },
   "source": [
    "### Complement "
   ]
  },
  {
   "cell_type": "markdown",
   "metadata": {
    "Collapsed": "false",
    "slideshow": {
     "slide_type": "fragment"
    }
   },
   "source": [
    "P(\"Ace of Hearts\") = 1/52"
   ]
  },
  {
   "cell_type": "markdown",
   "metadata": {
    "Collapsed": "false",
    "slideshow": {
     "slide_type": "fragment"
    }
   },
   "source": [
    "P(\"Ace of Hearts$^{c}\")$ = 1 - P(\"Ace of Hearts\") = 51/52"
   ]
  },
  {
   "cell_type": "markdown",
   "metadata": {
    "Collapsed": "false",
    "slideshow": {
     "slide_type": "fragment"
    }
   },
   "source": [
    "P(\"Ace$^{c}\")$ = 1 - P(\"Ace\") = 1 - (4/52) = 48/52"
   ]
  },
  {
   "cell_type": "markdown",
   "metadata": {
    "Collapsed": "false",
    "slideshow": {
     "slide_type": "slide"
    }
   },
   "source": [
    "### Additional Links"
   ]
  },
  {
   "cell_type": "markdown",
   "metadata": {
    "Collapsed": "false",
    "slideshow": {
     "slide_type": "fragment"
    }
   },
   "source": [
    "https://www.calculatorsoup.com/calculators/math/fractionssimplify.php\n",
    "\n",
    "https://www.calculatorsoup.com/calculators/math/fraction-to-percent-calculator.php"
   ]
  }
 ],
 "metadata": {
  "celltoolbar": "Slideshow",
  "kernelspec": {
   "display_name": "Python 3",
   "language": "python",
   "name": "python3"
  },
  "language_info": {
   "codemirror_mode": {
    "name": "ipython",
    "version": 3
   },
   "file_extension": ".py",
   "mimetype": "text/x-python",
   "name": "python",
   "nbconvert_exporter": "python",
   "pygments_lexer": "ipython3",
   "version": "3.8.5"
  }
 },
 "nbformat": 4,
 "nbformat_minor": 4
}
