{
 "cells": [
  {
   "cell_type": "markdown",
   "metadata": {
    "slideshow": {
     "slide_type": "slide"
    }
   },
   "source": [
    "# Hypothesis Testing"
   ]
  },
  {
   "cell_type": "markdown",
   "metadata": {
    "Collapsed": "false",
    "colab_type": "text",
    "id": "6kUO_Wl_1gMJ",
    "slideshow": {
     "slide_type": "slide"
    }
   },
   "source": [
    "## Introduction\n",
    "\n"
   ]
  },
  {
   "cell_type": "markdown",
   "metadata": {
    "slideshow": {
     "slide_type": "fragment"
    }
   },
   "source": [
    "In this lecture we will look at hypothesis testing. In particular, we will discuss:\n",
    "\n"
   ]
  },
  {
   "cell_type": "markdown",
   "metadata": {
    "slideshow": {
     "slide_type": "fragment"
    }
   },
   "source": [
    "- What hypotheses are;"
   ]
  },
  {
   "cell_type": "markdown",
   "metadata": {
    "slideshow": {
     "slide_type": "fragment"
    }
   },
   "source": [
    "- Statistical Significance;\n"
   ]
  },
  {
   "cell_type": "markdown",
   "metadata": {
    "slideshow": {
     "slide_type": "fragment"
    }
   },
   "source": [
    "- P-values;"
   ]
  },
  {
   "cell_type": "markdown",
   "metadata": {
    "slideshow": {
     "slide_type": "fragment"
    }
   },
   "source": [
    "- T-tests and z-test in hypothesis testing."
   ]
  },
  {
   "cell_type": "markdown",
   "metadata": {
    "slideshow": {
     "slide_type": "slide"
    }
   },
   "source": [
    "Let us first import the necessary libraries."
   ]
  },
  {
   "cell_type": "code",
   "execution_count": 1,
   "metadata": {
    "Collapsed": "false",
    "colab": {},
    "colab_type": "code",
    "id": "HphhGC-Dmb0q",
    "slideshow": {
     "slide_type": "slide"
    }
   },
   "outputs": [],
   "source": [
    "import pandas as pd\n",
    "import numpy as np\n",
    "import seaborn as sns\n",
    "from scipy import stats\n",
    "from scipy.stats import ttest_1samp\n",
    "import numpy as np\n",
    "from scipy.stats import norm\n",
    "\n",
    "from scipy.stats import t\n",
    "import matplotlib.pyplot as plt\n",
    "sns.set_style(\"darkgrid\") \n"
   ]
  },
  {
   "cell_type": "markdown",
   "metadata": {
    "slideshow": {
     "slide_type": "slide"
    }
   },
   "source": [
    "## The Hypothesis"
   ]
  },
  {
   "cell_type": "markdown",
   "metadata": {
    "slideshow": {
     "slide_type": "fragment"
    }
   },
   "source": [
    "In hypothesis testing, we make use of **statistical hypotheses** which are quantified statements about a given parameter.   "
   ]
  },
  {
   "cell_type": "markdown",
   "metadata": {
    "slideshow": {
     "slide_type": "fragment"
    }
   },
   "source": [
    "Often the hypothesis is an assumption about the population average. "
   ]
  },
  {
   "cell_type": "markdown",
   "metadata": {
    "slideshow": {
     "slide_type": "fragment"
    }
   },
   "source": [
    "For example, we can hypothesise that the average income of NYC residents is $850,000."
   ]
  },
  {
   "cell_type": "markdown",
   "metadata": {
    "slideshow": {
     "slide_type": "slide"
    }
   },
   "source": [
    "If we want to test whether an hypothesis is true or not, we need two 'ingredients':"
   ]
  },
  {
   "cell_type": "markdown",
   "metadata": {
    "slideshow": {
     "slide_type": "fragment"
    }
   },
   "source": [
    "1.   **Null Hypothesis**: The null hypothesis is an assumption that the population average is identical to a specific value and that there is no statistical significance between the mean of the sample means and the population mean.  \n"
   ]
  },
  {
   "cell_type": "markdown",
   "metadata": {
    "slideshow": {
     "slide_type": "fragment"
    }
   },
   "source": [
    "2.  **Alternative Hypothesis:** An alternative hypothesis is the *opposite* of the null hypothesis. "
   ]
  },
  {
   "cell_type": "markdown",
   "metadata": {
    "slideshow": {
     "slide_type": "fragment"
    }
   },
   "source": [
    "In hypothesis testing, our goal is to **reject the null hypothesis** and reject a specific claim based on the data at hand.\n"
   ]
  },
  {
   "cell_type": "markdown",
   "metadata": {
    "slideshow": {
     "slide_type": "slide"
    }
   },
   "source": [
    "### Examples of Null and Alternative Hypotheses"
   ]
  },
  {
   "cell_type": "markdown",
   "metadata": {
    "slideshow": {
     "slide_type": "fragment"
    }
   },
   "source": [
    "#### Example 1\n",
    "\n",
    "Suppose we want to test whether the average income of a New Yorker is different from $850000. \n",
    "\n",
    "*  **H0: $\\mu =$ \\$850.000** \n",
    "*  **H1: $\\mu \\neq$  \\$850.000**"
   ]
  },
  {
   "cell_type": "markdown",
   "metadata": {
    "slideshow": {
     "slide_type": "slide"
    }
   },
   "source": [
    "#### Example 2\n",
    "\n",
    "Suppose that we want to test whether the average age for corona patients is lower than 67. \n",
    "\n",
    "*  **H0: $\\mu =$ 67**  \n",
    "*  **H1: $\\mu < $ 67**"
   ]
  },
  {
   "cell_type": "markdown",
   "metadata": {
    "slideshow": {
     "slide_type": "slide"
    }
   },
   "source": [
    "#### Example 3\n",
    "\n",
    "Suppose we want to test whether blood sugar level rises if we administer a medicine (assume that the the average blood sugar level is 5.0 mmol/L). \n",
    "\n",
    "-  H0: $\\mu $ = 5.0 mmol\\/L \n",
    "-  H1: $\\mu >$ 5.0 mmol/L  "
   ]
  },
  {
   "cell_type": "markdown",
   "metadata": {
    "slideshow": {
     "slide_type": "slide"
    }
   },
   "source": [
    "#### Example 4\n",
    "\n",
    "Suppose that we want to reject someone's claims that CO2 levels are the same as in 1965. In 1965, the CO2 levels were 320 micro mol/mol. We claim that it's much higher today then it was in 1965. \n",
    "\n",
    "-  H0: $\\mu $ = 320\n",
    "-  H1: $\\mu >$ 320"
   ]
  },
  {
   "cell_type": "markdown",
   "metadata": {
    "slideshow": {
     "slide_type": "slide"
    }
   },
   "source": [
    "### The goal of hypothesis testing"
   ]
  },
  {
   "cell_type": "markdown",
   "metadata": {
    "slideshow": {
     "slide_type": "fragment"
    }
   },
   "source": [
    "As said before, the ultimate goal of hypothesis testing is to *reject* the null hypothesis. "
   ]
  },
  {
   "cell_type": "markdown",
   "metadata": {
    "slideshow": {
     "slide_type": "slide"
    }
   },
   "source": [
    "We can only reject the null hypothesis there is a **statistically significant** difference between the assumed value for $\\mu$ and the real population $\\mu$."
   ]
  },
  {
   "cell_type": "markdown",
   "metadata": {
    "slideshow": {
     "slide_type": "fragment"
    }
   },
   "source": [
    "It may seem strange that this is our goal. However, null hypothesis testing is a special case of the *reductio ad absurdum* argument."
   ]
  },
  {
   "cell_type": "markdown",
   "metadata": {
    "slideshow": {
     "slide_type": "fragment"
    }
   },
   "source": [
    "For example, if we want to disprove the claim that CO2 levels are the same as in 1965 (320 micro mol/mol), we can demonstrate that - given that we have enough data - the actual estimated mean value based on a large enough sample will be significantly larger than 320. "
   ]
  },
  {
   "cell_type": "markdown",
   "metadata": {
    "slideshow": {
     "slide_type": "slide"
    }
   },
   "source": [
    "Thus, we say that - based on our data - it would be *absurd* to say that the mean is 320. "
   ]
  },
  {
   "cell_type": "markdown",
   "metadata": {
    "slideshow": {
     "slide_type": "slide"
    }
   },
   "source": [
    "### Statistical Significance"
   ]
  },
  {
   "cell_type": "markdown",
   "metadata": {
    "slideshow": {
     "slide_type": "fragment"
    }
   },
   "source": [
    "But what does it mean for an outcome to be statistically significant? "
   ]
  },
  {
   "cell_type": "markdown",
   "metadata": {
    "slideshow": {
     "slide_type": "slide"
    }
   },
   "source": [
    "Suppose (again) that someone makes the following claim:"
   ]
  },
  {
   "cell_type": "markdown",
   "metadata": {
    "slideshow": {
     "slide_type": "fragment"
    }
   },
   "source": [
    "* The CO2 levels in 1965 are the same as today. "
   ]
  },
  {
   "cell_type": "markdown",
   "metadata": {
    "slideshow": {
     "slide_type": "fragment"
    }
   },
   "source": [
    "Again, we have the following:\n",
    "\n",
    "-  H0: $\\mu $ = 320\n",
    "-  H1: $\\mu >$ 320"
   ]
  },
  {
   "cell_type": "markdown",
   "metadata": {
    "slideshow": {
     "slide_type": "slide"
    }
   },
   "source": [
    "Now suppose that we do our work and find that the mean of a large enough sample is not 320, but 330. "
   ]
  },
  {
   "cell_type": "markdown",
   "metadata": {
    "slideshow": {
     "slide_type": "fragment"
    }
   },
   "source": [
    "Can we now reject our null hypothesis?"
   ]
  },
  {
   "cell_type": "markdown",
   "metadata": {
    "slideshow": {
     "slide_type": "fragment"
    }
   },
   "source": [
    "No, because we might have been unfortunate enough to get a sample with a sample mean that deviates from the true mean. "
   ]
  },
  {
   "cell_type": "markdown",
   "metadata": {
    "slideshow": {
     "slide_type": "fragment"
    }
   },
   "source": [
    "In other words, recall from our previous lecture where we talked about the confidence interval: there we saw that there is always some variability in the sample means (see: CLT). "
   ]
  },
  {
   "cell_type": "markdown",
   "metadata": {
    "slideshow": {
     "slide_type": "slide"
    }
   },
   "source": [
    "Let's circle back to our example of the CO2 levels in 1965. Suppose we get some new and more data and find that the sample mean is now 410. "
   ]
  },
  {
   "cell_type": "markdown",
   "metadata": {
    "slideshow": {
     "slide_type": "fragment"
    }
   },
   "source": [
    "Can we reject the null hypothesis? "
   ]
  },
  {
   "cell_type": "markdown",
   "metadata": {
    "slideshow": {
     "slide_type": "fragment"
    }
   },
   "source": [
    "Yes, we can! Our intuition tells us that there may be some variability in the data causing sample 1 to have a mean of 330, sample 2 mean to have a mean of 341, ect. "
   ]
  },
  {
   "cell_type": "markdown",
   "metadata": {
    "slideshow": {
     "slide_type": "fragment"
    }
   },
   "source": [
    "However, it is highly unlikely that if the actual value is 320, we would get a mean sample value of 410! "
   ]
  },
  {
   "cell_type": "markdown",
   "metadata": {
    "slideshow": {
     "slide_type": "slide"
    }
   },
   "source": [
    "This begs the following question: *How we can quantify this intuition?* "
   ]
  },
  {
   "cell_type": "markdown",
   "metadata": {
    "slideshow": {
     "slide_type": "fragment"
    }
   },
   "source": [
    "In other words, how can we quantify *intuitive* significance (not really testable) such that we get *statistical* significance (testable)? "
   ]
  },
  {
   "cell_type": "markdown",
   "metadata": {
    "slideshow": {
     "slide_type": "fragment"
    }
   },
   "source": [
    "As we will see, we can use the **p-value** for that."
   ]
  },
  {
   "cell_type": "markdown",
   "metadata": {
    "slideshow": {
     "slide_type": "slide"
    }
   },
   "source": [
    "Before we will discuss the p-value, however, let us first dive a bit deeper into what it means to test a hypothesis in the context of statistics. "
   ]
  },
  {
   "cell_type": "markdown",
   "metadata": {
    "slideshow": {
     "slide_type": "slide"
    }
   },
   "source": [
    "### Two Models of Reality"
   ]
  },
  {
   "cell_type": "markdown",
   "metadata": {
    "slideshow": {
     "slide_type": "slide"
    }
   },
   "source": [
    "In this subsection, we will look at what it means to have a certain hypothesis on what the mean of the sample means is like. In statistics and machine learning we often talk about **models** with which we can *model* our assumptions.  "
   ]
  },
  {
   "cell_type": "markdown",
   "metadata": {
    "slideshow": {
     "slide_type": "fragment"
    }
   },
   "source": [
    "Obviously, one model can be better than another model. "
   ]
  },
  {
   "cell_type": "markdown",
   "metadata": {
    "slideshow": {
     "slide_type": "slide"
    }
   },
   "source": [
    "For example, suppose that Rianne and I make a *a priori* model of the age distribution in this class. My model tells me that the average age in this DAPT class is 19, whereas Rianne's model tells us that the average age is 32. "
   ]
  },
  {
   "cell_type": "markdown",
   "metadata": {
    "slideshow": {
     "slide_type": "fragment"
    }
   },
   "source": [
    "Having built our models, we can now examine them using some data. If our data tells us then that the average age is 28, than Rianne's model clearly does a better job at *modeling* the class' real underlying distribution. "
   ]
  },
  {
   "cell_type": "markdown",
   "metadata": {
    "slideshow": {
     "slide_type": "slide"
    }
   },
   "source": [
    "#### Let's look at another, visual example."
   ]
  },
  {
   "cell_type": "markdown",
   "metadata": {
    "slideshow": {
     "slide_type": "fragment"
    }
   },
   "source": [
    "Suppose you and a friend are talking about the most recent COVID developments. Your friend makes the following claim:"
   ]
  },
  {
   "cell_type": "markdown",
   "metadata": {
    "slideshow": {
     "slide_type": "fragment"
    }
   },
   "source": [
    "* The average age of people who end up in the hospital is 75 with a standard deviation of 7. "
   ]
  },
  {
   "cell_type": "markdown",
   "metadata": {
    "slideshow": {
     "slide_type": "slide"
    }
   },
   "source": [
    "You find this hard to believe and make the following claim instead:"
   ]
  },
  {
   "cell_type": "markdown",
   "metadata": {
    "slideshow": {
     "slide_type": "fragment"
    }
   },
   "source": [
    "* The average age of people who end up in the hospital is much younger: 60 years, with a standard deviation of 7. "
   ]
  },
  {
   "cell_type": "markdown",
   "metadata": {
    "slideshow": {
     "slide_type": "slide"
    }
   },
   "source": [
    "Let us now plot both models of reality. "
   ]
  },
  {
   "cell_type": "markdown",
   "metadata": {
    "slideshow": {
     "slide_type": "fragment"
    }
   },
   "source": [
    "**Important:** These visualisations demonstrate what it means to make a certain claim about the population parameter. "
   ]
  },
  {
   "cell_type": "markdown",
   "metadata": {
    "slideshow": {
     "slide_type": "fragment"
    }
   },
   "source": [
    "**Important:** Assume that we know the population standard deviation of 7. That's not up for discussion here. "
   ]
  },
  {
   "cell_type": "code",
   "execution_count": 2,
   "metadata": {
    "slideshow": {
     "slide_type": "slide"
    }
   },
   "outputs": [
    {
     "data": {
      "image/png": "[encoded data removed]",
      "text/plain": [
       "<Figure size 432x288 with 1 Axes>"
      ]
     },
     "metadata": {
      "needs_background": "light"
     },
     "output_type": "display_data"
    }
   ],
   "source": [
    "from scipy.stats import norm\n",
    "\n",
    "mean = 60\n",
    "# N.B. Here we assume that we know the pop stddev. \n",
    "stdev = 7\n",
    "\n",
    "normal = norm(loc = mean, scale = stdev) \n",
    "fig, ax = plt.subplots(1, 1)\n",
    "x = np.linspace(30, 100,1000)        \n",
    "y = normal.pdf(x)\n",
    "ax.plot(x,y, color = 'r')\n",
    "\n",
    "mean = 75\n",
    "stdev = 7\n",
    "\n",
    "normal = norm(loc = mean, scale = stdev) \n",
    "x = np.linspace(30, 100,1000)        \n",
    "y = normal.pdf(x)\n",
    "ax.plot(x,y, color='b')\n",
    "\n",
    "plt.show()"
   ]
  },
  {
   "cell_type": "markdown",
   "metadata": {
    "slideshow": {
     "slide_type": "slide"
    }
   },
   "source": [
    "Now suppose that we take a random sample of hospitalised COVID patients and observe their age."
   ]
  },
  {
   "cell_type": "markdown",
   "metadata": {
    "slideshow": {
     "slide_type": "slide"
    }
   },
   "source": [
    "Our sample tells us that the average age of patients in the sample is 70. "
   ]
  },
  {
   "cell_type": "markdown",
   "metadata": {
    "slideshow": {
     "slide_type": "fragment"
    }
   },
   "source": [
    "Let us include this statistic in the visualisation."
   ]
  },
  {
   "cell_type": "code",
   "execution_count": 3,
   "metadata": {
    "slideshow": {
     "slide_type": "slide"
    }
   },
   "outputs": [
    {
     "data": {
      "image/png": "[encoded data removed]",
      "text/plain": [
       "<Figure size 432x288 with 1 Axes>"
      ]
     },
     "metadata": {
      "needs_background": "light"
     },
     "output_type": "display_data"
    }
   ],
   "source": [
    "from scipy.stats import norm\n",
    "\n",
    "mean = 60\n",
    "stdev = 7\n",
    "\n",
    "normal_60 = norm(loc = mean, scale = stdev) \n",
    "fig, ax = plt.subplots(1, 1)\n",
    "x = np.linspace(30, 100,1000)        \n",
    "y = normal_60.pdf(x)\n",
    "ax.plot(x,y, color = 'r')\n",
    "#plt.plot([mean, mean], [0, 0.06], 'k--', lw=4, color='r')\n",
    "\n",
    "mean = 75\n",
    "stdev = 7\n",
    "\n",
    "normal_75 = norm(loc = mean, scale = stdev) \n",
    "x = np.linspace(30, 100,1000)        \n",
    "y = normal_75.pdf(x)\n",
    "ax.plot(x,y, color='b')\n",
    "\n",
    "plt.plot([70, 70], [0, 0.06], 'k--', lw=4, color='g')\n",
    "plt.show()"
   ]
  },
  {
   "cell_type": "markdown",
   "metadata": {
    "slideshow": {
     "slide_type": "slide"
    }
   },
   "source": [
    "Let's now compute how much of the data is captured under the blue model and how much under the red model if we have a sample mean of 70. "
   ]
  },
  {
   "cell_type": "code",
   "execution_count": 4,
   "metadata": {
    "slideshow": {
     "slide_type": "fragment"
    }
   },
   "outputs": [
    {
     "name": "stdout",
     "output_type": "stream",
     "text": [
      "The AUC for the blue model is:  0.23752586397420858\n"
     ]
    }
   ],
   "source": [
    "from sklearn.metrics import auc\n",
    "\n",
    "x = np.linspace(30, 70, 1000)        \n",
    "y = normal_75.pdf(x)\n",
    "\n",
    "print('The AUC for the blue model is: ', auc(x,y))"
   ]
  },
  {
   "cell_type": "markdown",
   "metadata": {
    "slideshow": {
     "slide_type": "fragment"
    }
   },
   "source": [
    "Thus, for the blue model (our friend's claim), the sample mean is in the top 23% of possible observations for the mean."
   ]
  },
  {
   "cell_type": "markdown",
   "metadata": {
    "slideshow": {
     "slide_type": "slide"
    }
   },
   "source": [
    "Now let's compute the area under the curve for our model. "
   ]
  },
  {
   "cell_type": "code",
   "execution_count": 5,
   "metadata": {
    "slideshow": {
     "slide_type": "fragment"
    }
   },
   "outputs": [
    {
     "name": "stdout",
     "output_type": "stream",
     "text": [
      "The AUC for the red model is:  0.07656460066780488\n"
     ]
    }
   ],
   "source": [
    "x = np.linspace(70, 120, 1000)        \n",
    "y = normal_60.pdf(x)\n",
    "\n",
    "print('The AUC for the red model is: ', auc(x,y))"
   ]
  },
  {
   "cell_type": "markdown",
   "metadata": {
    "slideshow": {
     "slide_type": "fragment"
    }
   },
   "source": [
    "As such, this specific sample mean of 70 is more likely to come up under the blue model (our friend's model) than under the red model (our model) as it is included in the top 23% of values, whereas in our model it is only in the top 7%. "
   ]
  },
  {
   "cell_type": "markdown",
   "metadata": {
    "slideshow": {
     "slide_type": "slide"
    }
   },
   "source": [
    "Having discussed this, we can now move one step further and talk about the p-value. "
   ]
  },
  {
   "cell_type": "markdown",
   "metadata": {
    "slideshow": {
     "slide_type": "slide"
    }
   },
   "source": [
    "### The p-value: Introduction"
   ]
  },
  {
   "cell_type": "markdown",
   "metadata": {
    "slideshow": {
     "slide_type": "fragment"
    }
   },
   "source": [
    "Suppose that we decide that we want to test the following statement:\n",
    "\n",
    "* The average age of COVID patients who end up in the hospital is about 75."
   ]
  },
  {
   "cell_type": "markdown",
   "metadata": {
    "slideshow": {
     "slide_type": "slide"
    }
   },
   "source": [
    "This statement provides us with the following model:"
   ]
  },
  {
   "cell_type": "code",
   "execution_count": 6,
   "metadata": {
    "slideshow": {
     "slide_type": "slide"
    }
   },
   "outputs": [
    {
     "data": {
      "image/png": "[encoded data removed]",
      "text/plain": [
       "<Figure size 432x288 with 1 Axes>"
      ]
     },
     "metadata": {
      "needs_background": "light"
     },
     "output_type": "display_data"
    }
   ],
   "source": [
    "from scipy.stats import norm\n",
    "\n",
    "mean = 75\n",
    "stdev = 7\n",
    "\n",
    "normal = norm(loc = mean, scale = stdev) \n",
    "fig, ax = plt.subplots(1, 1)\n",
    "\n",
    "normal_75 = norm(loc = mean, scale = stdev) \n",
    "x = np.linspace(50, 100,1000)        \n",
    "y = normal_75.pdf(x)\n",
    "ax.plot(x,y, color='b')\n",
    "\n",
    "plt.show()"
   ]
  },
  {
   "cell_type": "markdown",
   "metadata": {
    "slideshow": {
     "slide_type": "slide"
    }
   },
   "source": [
    "Suppose that we will now draw 4 random samples from the population."
   ]
  },
  {
   "cell_type": "markdown",
   "metadata": {
    "slideshow": {
     "slide_type": "skip"
    }
   },
   "source": [
    "Recall that the distribution of sample means is normally distributed so we expect it to take on values on the blue curve."
   ]
  },
  {
   "cell_type": "markdown",
   "metadata": {
    "slideshow": {
     "slide_type": "slide"
    }
   },
   "source": [
    "Say that we draw 4 samples with the following values for the sample means:\n",
    "\n",
    "* $\\mu_{1}$: 80\n",
    "* $\\mu_{2}$: 76\n",
    "* $\\mu_{3}$: 83\n",
    "* $\\mu_{4}$: 69"
   ]
  },
  {
   "cell_type": "markdown",
   "metadata": {
    "slideshow": {
     "slide_type": "fragment"
    }
   },
   "source": [
    "Let us now plot these values in our model."
   ]
  },
  {
   "cell_type": "code",
   "execution_count": 7,
   "metadata": {
    "slideshow": {
     "slide_type": "slide"
    }
   },
   "outputs": [
    {
     "data": {
      "image/png": "[encoded data removed]",
      "text/plain": [
       "<Figure size 432x288 with 1 Axes>"
      ]
     },
     "metadata": {
      "needs_background": "light"
     },
     "output_type": "display_data"
    }
   ],
   "source": [
    "mean = 75\n",
    "stdev = 7\n",
    "\n",
    "normal = norm(loc = mean, scale = stdev) \n",
    "fig, ax = plt.subplots(1, 1)\n",
    "\n",
    "normal_75 = norm(loc = mean, scale = stdev) \n",
    "x = np.linspace(50, 100,1000)        \n",
    "y = normal_75.pdf(x)\n",
    "ax.plot(x,y, color='b')\n",
    "\n",
    "plt.plot([76, 76], [0, 0.06], 'k--', lw=4, color='g')\n",
    "plt.plot([80, 80], [0, 0.06], 'k--', lw=4, color='g')\n",
    "plt.plot([83, 83], [0, 0.06], 'k--', lw=4, color='g')\n",
    "plt.plot([69, 69], [0, 0.06], 'k--', lw=4, color='g')\n",
    "\n",
    "plt.show()"
   ]
  },
  {
   "cell_type": "markdown",
   "metadata": {
    "slideshow": {
     "slide_type": "slide"
    }
   },
   "source": [
    "On the basis of the samples (i.e. our data), it seems that our model is pretty good at 'predicting' the outcome for the sample means."
   ]
  },
  {
   "cell_type": "markdown",
   "metadata": {
    "slideshow": {
     "slide_type": "slide"
    }
   },
   "source": [
    "Let us now look at another model."
   ]
  },
  {
   "cell_type": "markdown",
   "metadata": {
    "slideshow": {
     "slide_type": "fragment"
    }
   },
   "source": [
    "Suppose that we assume the following:\n",
    "\n",
    "* The average age of COVID patients who end up in the hospital is  50."
   ]
  },
  {
   "cell_type": "code",
   "execution_count": 8,
   "metadata": {
    "slideshow": {
     "slide_type": "slide"
    }
   },
   "outputs": [
    {
     "data": {
      "image/png": "[encoded data removed]",
      "text/plain": [
       "<Figure size 432x288 with 1 Axes>"
      ]
     },
     "metadata": {
      "needs_background": "light"
     },
     "output_type": "display_data"
    }
   ],
   "source": [
    "mean = 50\n",
    "stdev = 7\n",
    "\n",
    "normal = norm(loc = mean, scale = stdev) \n",
    "fig, ax = plt.subplots(1, 1)\n",
    "\n",
    "normal_75 = norm(loc = mean, scale = stdev) \n",
    "x = np.linspace(20, 90,1000)        \n",
    "y = normal_75.pdf(x)\n",
    "ax.plot(x,y, color='r')\n",
    "\n",
    "plt.show()"
   ]
  },
  {
   "cell_type": "markdown",
   "metadata": {
    "slideshow": {
     "slide_type": "slide"
    }
   },
   "source": [
    "Again, we will draw 4 samples from the population and assume that that we get the following outcomes:"
   ]
  },
  {
   "cell_type": "markdown",
   "metadata": {
    "slideshow": {
     "slide_type": "fragment"
    }
   },
   "source": [
    "* $\\mu_{1}$: 79\n",
    "* $\\mu_{2}$: 77\n",
    "* $\\mu_{3}$: 64\n",
    "* $\\mu_{4}$: 72"
   ]
  },
  {
   "cell_type": "markdown",
   "metadata": {
    "slideshow": {
     "slide_type": "fragment"
    }
   },
   "source": [
    "As before, we will include these values in our model."
   ]
  },
  {
   "cell_type": "code",
   "execution_count": 9,
   "metadata": {
    "slideshow": {
     "slide_type": "slide"
    }
   },
   "outputs": [
    {
     "data": {
      "image/png": "[encoded data removed]",
      "text/plain": [
       "<Figure size 432x288 with 1 Axes>"
      ]
     },
     "metadata": {
      "needs_background": "light"
     },
     "output_type": "display_data"
    }
   ],
   "source": [
    "mean = 50\n",
    "stdev = 7\n",
    "\n",
    "normal = norm(loc = mean, scale = stdev) \n",
    "fig, ax = plt.subplots(1, 1)\n",
    "normal_75 = norm(loc = mean, scale = stdev) \n",
    "x = np.linspace(20, 90,1000)        \n",
    "y = normal_75.pdf(x)\n",
    "\n",
    "plt.plot([79, 79], [0, 0.06], 'k--', lw=4, color='g')\n",
    "plt.plot([77, 77], [0, 0.06], 'k--', lw=4, color='g')\n",
    "plt.plot([64, 64], [0, 0.06], 'k--', lw=4, color='g')\n",
    "plt.plot([72, 72], [0, 0.06], 'k--', lw=4, color='g')\n",
    "\n",
    "ax.plot(x,y, color='r')\n",
    "plt.show()"
   ]
  },
  {
   "cell_type": "markdown",
   "metadata": {
    "slideshow": {
     "slide_type": "slide"
    }
   },
   "source": [
    "As can be seen, under the red model, it is highly unlikely that we will get sample means that are located on the right tail of the curve. "
   ]
  },
  {
   "cell_type": "markdown",
   "metadata": {
    "slideshow": {
     "slide_type": "fragment"
    }
   },
   "source": [
    "In other words, these values are too extreme according to our model so we would not expect them to see so frequently.  "
   ]
  },
  {
   "cell_type": "markdown",
   "metadata": {
    "slideshow": {
     "slide_type": "fragment"
    }
   },
   "source": [
    "This tells us that our model is likely to be wrong and we can 'reject' this model -- **this is how we reject the null hypothesis.** "
   ]
  },
  {
   "cell_type": "markdown",
   "metadata": {
    "slideshow": {
     "slide_type": "slide"
    }
   },
   "source": [
    "### The p-value: Quantifying Extremeness "
   ]
  },
  {
   "cell_type": "markdown",
   "metadata": {
    "slideshow": {
     "slide_type": "fragment"
    }
   },
   "source": [
    "The way we quantify this 'extremeness' is by the p-value."
   ]
  },
  {
   "cell_type": "markdown",
   "metadata": {
    "slideshow": {
     "slide_type": "fragment"
    }
   },
   "source": [
    "The p-value is nothing more than the n% area under the curve of extreme values. "
   ]
  },
  {
   "cell_type": "markdown",
   "metadata": {
    "slideshow": {
     "slide_type": "slide"
    }
   },
   "source": [
    "We can choose the p-value ourselves. For instance, I can say that when my sample mean is within the 5% most extreme values, I can reject the null hypothesis. "
   ]
  },
  {
   "cell_type": "markdown",
   "metadata": {
    "slideshow": {
     "slide_type": "fragment"
    }
   },
   "source": [
    "The easiest way to do this is by computing a cut-off value to determine at which point the top 5% of most extreme will start. Then we can see if our sample mean is located on the left or the right side of that cut-off value. "
   ]
  },
  {
   "cell_type": "markdown",
   "metadata": {
    "slideshow": {
     "slide_type": "slide"
    }
   },
   "source": [
    "**Important:** Taking a cut-off value of 0.05 - which is often called **alpha or the critical value** - is similar to taking the 5% quantile for either the left or right tail **or** 2 x 2.5% quantiles on both tails. "
   ]
  },
  {
   "cell_type": "markdown",
   "metadata": {
    "slideshow": {
     "slide_type": "slide"
    }
   },
   "source": [
    "Let's see what a p-value looks like for a standard normal curve."
   ]
  },
  {
   "cell_type": "code",
   "execution_count": 10,
   "metadata": {
    "slideshow": {
     "slide_type": "fragment"
    }
   },
   "outputs": [],
   "source": [
    "normal = norm(loc = 0, scale = 1) "
   ]
  },
  {
   "cell_type": "markdown",
   "metadata": {
    "slideshow": {
     "slide_type": "fragment"
    }
   },
   "source": [
    "We can now compute the cut-off value using the ppf method.  "
   ]
  },
  {
   "cell_type": "code",
   "execution_count": 11,
   "metadata": {
    "slideshow": {
     "slide_type": "slide"
    }
   },
   "outputs": [
    {
     "name": "stdout",
     "output_type": "stream",
     "text": [
      "1.6448536269514722\n",
      "0.050000000000000044\n"
     ]
    }
   ],
   "source": [
    "# Percent point function (inverse of cdf) at q of the given RV.\n",
    "alpha = 1 - 0.05\n",
    "alpha = normal.ppf(alpha)\n",
    "print(alpha)\n",
    "# confirm with cdf\n",
    "p = normal.cdf(alpha)\n",
    "print(1 - p)"
   ]
  },
  {
   "cell_type": "code",
   "execution_count": 12,
   "metadata": {
    "slideshow": {
     "slide_type": "slide"
    }
   },
   "outputs": [
    {
     "data": {
      "image/png": "[encoded data removed]",
      "text/plain": [
       "<Figure size 432x288 with 1 Axes>"
      ]
     },
     "metadata": {
      "needs_background": "light"
     },
     "output_type": "display_data"
    }
   ],
   "source": [
    "normal = norm(loc = 0, scale = 1) \n",
    "fig, ax = plt.subplots(1, 1)\n",
    "x = np.linspace(-3,3,1000)        \n",
    "y = normal.pdf(x)\n",
    "ax.plot(x,y, color='b')\n",
    "\n",
    "plt.plot([alpha, alpha], [0, 0.4], 'k--', lw=4, color='g')\n",
    "plt.title('Standard Normal with 0.05 alpha at the green line')\n",
    "#plt.fill_between(x,y, where = (x<=z) & (x>=-z), color='r')\n",
    "\n",
    "plt.show()"
   ]
  },
  {
   "cell_type": "markdown",
   "metadata": {
    "slideshow": {
     "slide_type": "slide"
    }
   },
   "source": [
    "We can now identify the top 5% highest values in the area on the right side of the green line. "
   ]
  },
  {
   "cell_type": "code",
   "execution_count": 13,
   "metadata": {
    "slideshow": {
     "slide_type": "fragment"
    }
   },
   "outputs": [
    {
     "data": {
      "image/png": "[encoded data removed]",
      "text/plain": [
       "<Figure size 432x288 with 1 Axes>"
      ]
     },
     "metadata": {
      "needs_background": "light"
     },
     "output_type": "display_data"
    }
   ],
   "source": [
    "normal = norm(loc = 0, scale = 1) \n",
    "fig, ax = plt.subplots(1, 1)\n",
    "x = np.linspace(-3,3,1000)     \n",
    "y = normal.pdf(x)\n",
    "ax.plot(x,y)\n",
    "plt.plot([alpha, alpha], [0, 0.4], 'k--', lw=4, color='g')\n",
    "plt.fill_between(x,y, where = x >= alpha, color='r')\n",
    "\n",
    "plt.title('P-Value is Denoted by the Red Area')\n",
    "plt.show()\n"
   ]
  },
  {
   "cell_type": "markdown",
   "metadata": {
    "slideshow": {
     "slide_type": "slide"
    }
   },
   "source": [
    "We can also compute the area under the curve for this p-value to be sure that it really is 5% of the data."
   ]
  },
  {
   "cell_type": "code",
   "execution_count": 14,
   "metadata": {
    "slideshow": {
     "slide_type": "fragment"
    }
   },
   "outputs": [
    {
     "name": "stdout",
     "output_type": "stream",
     "text": [
      "The AUC for the red model is:  0.05003312182035478\n"
     ]
    }
   ],
   "source": [
    "x = np.linspace(alpha,50,1000)        \n",
    "y = norm.pdf(x)\n",
    "\n",
    "print('The AUC for the red model is: ', auc(x,y))"
   ]
  },
  {
   "cell_type": "markdown",
   "metadata": {
    "slideshow": {
     "slide_type": "slide"
    }
   },
   "source": [
    "We can also get the p-value for 5% on both extremes (i.e. 2.5% on the left tail and 2.5% on the right tail)."
   ]
  },
  {
   "cell_type": "code",
   "execution_count": 17,
   "metadata": {
    "slideshow": {
     "slide_type": "fragment"
    }
   },
   "outputs": [
    {
     "name": "stdout",
     "output_type": "stream",
     "text": [
      "Alpha Left Tail:  -1.9599639845400545\n",
      "Alpha Right Tail:  1.959963984540054\n",
      "0.050000000000000044\n"
     ]
    }
   ],
   "source": [
    "# retrieve value <= probability\n",
    "alpha_left = 0.025\n",
    "alpha_left = normal.ppf(alpha_left)\n",
    "print('Alpha Left Tail: ', alpha_left) \n",
    "\n",
    "alpha_right = 1 - 0.025\n",
    "alpha_right = normal.ppf(alpha_right)\n",
    "print('Alpha Right Tail: ', alpha_right) \n",
    "\n",
    "# confirm with cdf\n",
    "p = normal.cdf(alpha_right)\n",
    "print((1 - p) * 2)  "
   ]
  },
  {
   "cell_type": "code",
   "execution_count": 18,
   "metadata": {
    "slideshow": {
     "slide_type": "slide"
    }
   },
   "outputs": [
    {
     "data": {
      "image/png": "[encoded data removed]",
      "text/plain": [
       "<Figure size 432x288 with 1 Axes>"
      ]
     },
     "metadata": {
      "needs_background": "light"
     },
     "output_type": "display_data"
    }
   ],
   "source": [
    "normal = norm(loc = 0, scale = 1) \n",
    "fig, ax = plt.subplots(1, 1)\n",
    "x = np.linspace(-3,3,1000)        # Return evenly spaced numbers over a specified interval.\n",
    "y = normal.pdf(x)\n",
    "ax.plot(x,y)\n",
    "plt.fill_between(x,y, where = x >= alpha_right, color='r')\n",
    "plt.fill_between(x,y, where = x <=alpha_left, color='r')\n",
    "plt.plot([alpha_right, alpha_right], [0, 0.4], 'k--', lw=4, color='g')\n",
    "plt.plot([alpha_left, alpha_left], [0, 0.4], 'k--', lw=4, color='g')\n",
    "\n",
    "plt.show()\n"
   ]
  },
  {
   "cell_type": "markdown",
   "metadata": {
    "slideshow": {
     "slide_type": "slide"
    }
   },
   "source": [
    "Let's also verify this a second time using the auc method. Note that we have to multiple by 2 here. "
   ]
  },
  {
   "cell_type": "code",
   "execution_count": 19,
   "metadata": {
    "slideshow": {
     "slide_type": "fragment"
    }
   },
   "outputs": [
    {
     "name": "stdout",
     "output_type": "stream",
     "text": [
      "The AUC for the red model is:  0.05004414751896414\n"
     ]
    }
   ],
   "source": [
    "x = np.linspace(alpha_right,50,1000)        \n",
    "y = normal.pdf(x)\n",
    "\n",
    "print('The AUC for the red model is: ', auc(x,y) * 2)"
   ]
  },
  {
   "cell_type": "markdown",
   "metadata": {
    "slideshow": {
     "slide_type": "slide"
    }
   },
   "source": [
    "However, if we want to be really sure, we can also use a much smaller p-value of 1%."
   ]
  },
  {
   "cell_type": "code",
   "execution_count": 21,
   "metadata": {
    "slideshow": {
     "slide_type": "fragment"
    }
   },
   "outputs": [
    {
     "name": "stdout",
     "output_type": "stream",
     "text": [
      "Alpha Left Tail:  -2.575829303548901\n",
      "Alpha Right Tail:  2.5758293035489004\n",
      "0.010000000000000009\n"
     ]
    }
   ],
   "source": [
    "# retrieve value <= probability\n",
    "alpha_left = 0.005\n",
    "alpha_left = normal.ppf(alpha_left)\n",
    "print('Alpha Left Tail: ', alpha_left) \n",
    "\n",
    "alpha_right = 1 - 0.005\n",
    "alpha_right = normal.ppf(alpha_right)\n",
    "print('Alpha Right Tail: ', alpha_right) \n",
    "\n",
    "# confirm with cdf\n",
    "p = normal.cdf(alpha_right)\n",
    "print((1 - p) * 2)   "
   ]
  },
  {
   "cell_type": "code",
   "execution_count": 22,
   "metadata": {
    "slideshow": {
     "slide_type": "slide"
    }
   },
   "outputs": [
    {
     "data": {
      "image/png": "[encoded data removed]",
      "text/plain": [
       "<Figure size 432x288 with 1 Axes>"
      ]
     },
     "metadata": {
      "needs_background": "light"
     },
     "output_type": "display_data"
    }
   ],
   "source": [
    "normal = norm(loc = 0, scale = 1) \n",
    "fig, ax = plt.subplots(1, 1)\n",
    "x = np.linspace(-3,3,1000)        # Return evenly spaced numbers over a specified interval.\n",
    "y = normal.pdf(x)\n",
    "ax.plot(x,y)\n",
    "plt.fill_between(x,y, where = x >= alpha_right, color='r')\n",
    "plt.fill_between(x,y, where = x <=alpha_left, color='r')\n",
    "plt.plot([alpha_right, alpha_right], [0, 0.4], 'k--', lw=4, color='g')\n",
    "plt.plot([alpha_left, alpha_left], [0, 0.4], 'k--', lw=4, color='g')\n",
    "\n",
    "plt.show()"
   ]
  },
  {
   "cell_type": "code",
   "execution_count": 23,
   "metadata": {
    "slideshow": {
     "slide_type": "slide"
    }
   },
   "outputs": [
    {
     "name": "stdout",
     "output_type": "stream",
     "text": [
      "The AUC for the red model is:  0.010013987355591971\n"
     ]
    }
   ],
   "source": [
    "x = np.linspace(alpha_right,50,1000)        \n",
    "y = normal.pdf(x)\n",
    " \n",
    "print('The AUC for the red model is: ', auc(x,y) * 2)"
   ]
  },
  {
   "cell_type": "markdown",
   "metadata": {
    "slideshow": {
     "slide_type": "slide"
    }
   },
   "source": [
    "**Important:** It depends on the type of problem which 'type' of p-value you would like to use. "
   ]
  },
  {
   "cell_type": "markdown",
   "metadata": {
    "slideshow": {
     "slide_type": "fragment"
    }
   },
   "source": [
    "For instance, if you're interested in finding out whether a new study resource will increase GPAs, you're probably going to focus on the right side of the distribution (i.e. the higher extreme values) and not on the other end of the distribution.  "
   ]
  },
  {
   "cell_type": "markdown",
   "metadata": {
    "slideshow": {
     "slide_type": "slide"
    }
   },
   "source": [
    "## Hypothesis Testing in Practice"
   ]
  },
  {
   "cell_type": "markdown",
   "metadata": {
    "slideshow": {
     "slide_type": "fragment"
    }
   },
   "source": [
    "Let's now look at how to go about hypothesis testing in practice. "
   ]
  },
  {
   "cell_type": "markdown",
   "metadata": {
    "slideshow": {
     "slide_type": "slide"
    }
   },
   "source": [
    "### Example: Fuel Efficiency in 2008 Audi Models (Stdev Known)\n"
   ]
  },
  {
   "cell_type": "markdown",
   "metadata": {
    "Collapsed": "false",
    "colab_type": "text",
    "id": "COt56vet269C",
    "slideshow": {
     "slide_type": "fragment"
    }
   },
   "source": [
    "Suppose that we have a car manufacturer (Audi) telling us that their model 2008 cars on average use only 16.6 barrels per year. We are a bit sceptical and would therefore like to find out if this is really the case or whether it is more than 16.6 barrels p/y.\n",
    "\n"
   ]
  },
  {
   "cell_type": "code",
   "execution_count": 24,
   "metadata": {
    "slideshow": {
     "slide_type": "slide"
    }
   },
   "outputs": [],
   "source": [
    "data = pd.read_csv('https://raw.githubusercontent.com/loukjsmalbil/datasets_ws/master/vehicles.csv')"
   ]
  },
  {
   "cell_type": "code",
   "execution_count": 25,
   "metadata": {
    "slideshow": {
     "slide_type": "fragment"
    }
   },
   "outputs": [],
   "source": [
    "sample_data = data[(data.Make == 'Audi') & (data.Year==2008)]['Fuel Barrels/Year']"
   ]
  },
  {
   "cell_type": "markdown",
   "metadata": {
    "Collapsed": "false",
    "colab_type": "text",
    "id": "FyCi1WWBt3IU",
    "slideshow": {
     "slide_type": "slide"
    }
   },
   "source": [
    "#### 1. Specify the Alternative Hypothesis\n",
    "\n",
    "We specify the alternative hypothesis for our problem as follows: \n",
    "\n",
    "\n",
    "\n",
    "*   Ha: the average fuel efficiency for Audi's in 2008 is > 16.6. \n",
    "\n"
   ]
  },
  {
   "cell_type": "markdown",
   "metadata": {
    "Collapsed": "false",
    "colab_type": "text",
    "id": "xPZANB88uVCt",
    "slideshow": {
     "slide_type": "slide"
    }
   },
   "source": [
    "#### 2. Specify the Null Hypothesis\n",
    "\n",
    "Our null hypothesis is the following:\n",
    "\n",
    "*  h0 $=$ 16.6"
   ]
  },
  {
   "cell_type": "markdown",
   "metadata": {
    "Collapsed": "false",
    "colab_type": "text",
    "id": "Q5dU-p1Lut3X",
    "slideshow": {
     "slide_type": "slide"
    }
   },
   "source": [
    "#### 3. Set Critical Value\n",
    "\n",
    "*   $\\alpha$ = 0.05.\n"
   ]
  },
  {
   "cell_type": "code",
   "execution_count": 26,
   "metadata": {
    "slideshow": {
     "slide_type": "slide"
    }
   },
   "outputs": [],
   "source": [
    "alpha = 0.05"
   ]
  },
  {
   "cell_type": "markdown",
   "metadata": {
    "slideshow": {
     "slide_type": "slide"
    }
   },
   "source": [
    "#### 4. Compute the z-score\n"
   ]
  },
  {
   "cell_type": "markdown",
   "metadata": {
    "slideshow": {
     "slide_type": "fragment"
    }
   },
   "source": [
    "We will now compute the z-score. We need to know the z-score to determine if it is higher than $\\alpha$. Also, we know that $\\sigma$ is 2.5."
   ]
  },
  {
   "cell_type": "markdown",
   "metadata": {
    "slideshow": {
     "slide_type": "fragment"
    }
   },
   "source": [
    "$$z = \\frac{\\bar{X} - \\mu}{\\frac{\\sigma}{\\sqrt{n}}},$$\n",
    "\n",
    "where $\\bar{X}$ is the mean of the sample, $\\mu$ the assumed population mean, $\\sigma$ the population standard deviation and $n$ denotes the size of the sample. "
   ]
  },
  {
   "cell_type": "code",
   "execution_count": 27,
   "metadata": {
    "slideshow": {
     "slide_type": "slide"
    }
   },
   "outputs": [],
   "source": [
    "# Terms\n",
    "mu = 16.6\n",
    "x_bar = sample_data.mean()\n",
    "sigma = 2.5\n",
    "marg_error = sigma / len(sample_data)"
   ]
  },
  {
   "cell_type": "code",
   "execution_count": 28,
   "metadata": {
    "slideshow": {
     "slide_type": "slide"
    }
   },
   "outputs": [
    {
     "name": "stdout",
     "output_type": "stream",
     "text": [
      "21.42955547550839\n"
     ]
    }
   ],
   "source": [
    "z = (x_bar - mu) / marg_error\n",
    "print(z)"
   ]
  },
  {
   "cell_type": "markdown",
   "metadata": {
    "slideshow": {
     "slide_type": "slide"
    }
   },
   "source": [
    "#### 5. Calculate the p-value\n"
   ]
  },
  {
   "cell_type": "markdown",
   "metadata": {
    "slideshow": {
     "slide_type": "fragment"
    }
   },
   "source": [
    "We now know that 21.4 is our z-score value. Is this statistically significant? In other words, is it within 5% of the most extreme values we would observe?"
   ]
  },
  {
   "cell_type": "code",
   "execution_count": 37,
   "metadata": {
    "slideshow": {
     "slide_type": "slide"
    }
   },
   "outputs": [
    {
     "data": {
      "image/png": "[encoded data removed]",
      "text/plain": [
       "<Figure size 432x288 with 1 Axes>"
      ]
     },
     "metadata": {
      "needs_background": "light"
     },
     "output_type": "display_data"
    }
   ],
   "source": [
    "normal = norm(loc = mu, scale = sigma) \n",
    "fig, ax = plt.subplots(1, 1)\n",
    "x = np.linspace(6,28,1000)     \n",
    "y = normal.pdf(x)\n",
    "ax.plot(x,y)\n",
    "plt.fill_between(x,y, where = x >= z, color='r')\n",
    "plt.show()"
   ]
  },
  {
   "cell_type": "markdown",
   "metadata": {
    "slideshow": {
     "slide_type": "slide"
    }
   },
   "source": [
    "As can be seen, the a value of 21.4 is quite likely to be in the extreme region under our model."
   ]
  },
  {
   "cell_type": "markdown",
   "metadata": {
    "slideshow": {
     "slide_type": "fragment"
    }
   },
   "source": [
    "However, we will have to determine if this is also really the case by looking at whether this value is larger than $\\alpha.$"
   ]
  },
  {
   "cell_type": "markdown",
   "metadata": {
    "slideshow": {
     "slide_type": "slide"
    }
   },
   "source": [
    "We can now compute the $\\alpha$ value **for this particular distribution**. The $\\alpha$ will tell us where the cut-off value lies."
   ]
  },
  {
   "cell_type": "code",
   "execution_count": 30,
   "metadata": {
    "slideshow": {
     "slide_type": "slide"
    }
   },
   "outputs": [
    {
     "name": "stdout",
     "output_type": "stream",
     "text": [
      "20.71213406737868\n"
     ]
    }
   ],
   "source": [
    "alpha = 1 - alpha \n",
    "alpha = normal.ppf(alpha)\n",
    "print(alpha)\n",
    "# confirm with cdf"
   ]
  },
  {
   "cell_type": "markdown",
   "metadata": {
    "slideshow": {
     "slide_type": "fragment"
    }
   },
   "source": [
    "Again, this $\\alpha$ tells us that 5% of the data with the most extreme value lies on the right side of value."
   ]
  },
  {
   "cell_type": "markdown",
   "metadata": {
    "slideshow": {
     "slide_type": "fragment"
    }
   },
   "source": [
    "Since $t$ > $\\alpha$ (21.4 > 20.7), we know that a mean of 16.6 is highly unlikely. "
   ]
  },
  {
   "cell_type": "markdown",
   "metadata": {
    "slideshow": {
     "slide_type": "slide"
    }
   },
   "source": [
    "When computing the p-value for this z-score, we will see that it is about 0.02."
   ]
  },
  {
   "cell_type": "code",
   "execution_count": 31,
   "metadata": {
    "slideshow": {
     "slide_type": "fragment"
    }
   },
   "outputs": [
    {
     "name": "stdout",
     "output_type": "stream",
     "text": [
      "0.026690728111357198\n"
     ]
    }
   ],
   "source": [
    "# Total percentages of values > larger than z\n",
    "p = normal.cdf(z)\n",
    "print(1 - p)"
   ]
  },
  {
   "cell_type": "markdown",
   "metadata": {
    "slideshow": {
     "slide_type": "slide"
    }
   },
   "source": [
    "This, of course, means that this sample mean belongs to the top 2% of extreme values we would observe if the true mean were 16.6 barrels p/y."
   ]
  },
  {
   "cell_type": "markdown",
   "metadata": {
    "slideshow": {
     "slide_type": "fragment"
    }
   },
   "source": [
    "Bad news for us, the car manufacturer and the environment. "
   ]
  },
  {
   "cell_type": "markdown",
   "metadata": {
    "slideshow": {
     "slide_type": "slide"
    }
   },
   "source": [
    "#### 6. and 7. Compare the p-value to $\\alpha$ and reject or confirm the Null Hypothesis. \n"
   ]
  },
  {
   "cell_type": "markdown",
   "metadata": {
    "slideshow": {
     "slide_type": "fragment"
    }
   },
   "source": [
    "At the beginning, we said that we would reject the null hypothesis if the p-value for that hypothesis was smaller than the critical value."
   ]
  },
  {
   "cell_type": "markdown",
   "metadata": {
    "slideshow": {
     "slide_type": "fragment"
    }
   },
   "source": [
    "*  **H0: $\\mu = $ 16.6**  \n",
    "*  H1: $\\mu >  $ 16.6 "
   ]
  },
  {
   "cell_type": "markdown",
   "metadata": {
    "slideshow": {
     "slide_type": "slide"
    }
   },
   "source": [
    "To reiterate, since the z-statistic (21.4) exceeds the critical value (20.7), we can reject the hypothesis."
   ]
  },
  {
   "cell_type": "markdown",
   "metadata": {
    "slideshow": {
     "slide_type": "fragment"
    }
   },
   "source": [
    "**Important:** This is the same as saying that we have a p-value < 0.05."
   ]
  },
  {
   "cell_type": "markdown",
   "metadata": {
    "slideshow": {
     "slide_type": "slide"
    }
   },
   "source": [
    "### Example: Average BPM in Music\n"
   ]
  },
  {
   "cell_type": "markdown",
   "metadata": {
    "slideshow": {
     "slide_type": "fragment"
    }
   },
   "source": [
    "Let's now look at an example where we do not know the population standard deviation."
   ]
  },
  {
   "cell_type": "code",
   "execution_count": 38,
   "metadata": {
    "slideshow": {
     "slide_type": "fragment"
    }
   },
   "outputs": [],
   "source": [
    "data = pd.read_csv('data_by_artist.csv')"
   ]
  },
  {
   "cell_type": "code",
   "execution_count": 39,
   "metadata": {
    "slideshow": {
     "slide_type": "slide"
    }
   },
   "outputs": [
    {
     "data": {
      "text/html": [
       "<div>\n",
       "<style scoped>\n",
       "    .dataframe tbody tr th:only-of-type {\n",
       "        vertical-align: middle;\n",
       "    }\n",
       "\n",
       "    .dataframe tbody tr th {\n",
       "        vertical-align: top;\n",
       "    }\n",
       "\n",
       "    .dataframe thead th {\n",
       "        text-align: right;\n",
       "    }\n",
       "</style>\n",
       "<table border=\"1\" class=\"dataframe\">\n",
       "  <thead>\n",
       "    <tr style=\"text-align: right;\">\n",
       "      <th></th>\n",
       "      <th>artists</th>\n",
       "      <th>acousticness</th>\n",
       "      <th>danceability</th>\n",
       "      <th>duration_ms</th>\n",
       "      <th>energy</th>\n",
       "      <th>instrumentalness</th>\n",
       "      <th>liveness</th>\n",
       "      <th>loudness</th>\n",
       "      <th>speechiness</th>\n",
       "      <th>tempo</th>\n",
       "      <th>valence</th>\n",
       "      <th>popularity</th>\n",
       "      <th>key</th>\n",
       "      <th>mode</th>\n",
       "      <th>count</th>\n",
       "    </tr>\n",
       "  </thead>\n",
       "  <tbody>\n",
       "    <tr>\n",
       "      <th>0</th>\n",
       "      <td>\"Cats\" 1981 Original London Cast</td>\n",
       "      <td>0.575083</td>\n",
       "      <td>0.442750</td>\n",
       "      <td>247260.000000</td>\n",
       "      <td>0.386336</td>\n",
       "      <td>0.022717</td>\n",
       "      <td>0.287708</td>\n",
       "      <td>-14.205417</td>\n",
       "      <td>0.180675</td>\n",
       "      <td>115.983500</td>\n",
       "      <td>0.334433</td>\n",
       "      <td>38.000000</td>\n",
       "      <td>5</td>\n",
       "      <td>1</td>\n",
       "      <td>12</td>\n",
       "    </tr>\n",
       "    <tr>\n",
       "      <th>1</th>\n",
       "      <td>\"Cats\" 1983 Broadway Cast</td>\n",
       "      <td>0.862538</td>\n",
       "      <td>0.441731</td>\n",
       "      <td>287280.000000</td>\n",
       "      <td>0.406808</td>\n",
       "      <td>0.081158</td>\n",
       "      <td>0.315215</td>\n",
       "      <td>-10.690000</td>\n",
       "      <td>0.176212</td>\n",
       "      <td>103.044154</td>\n",
       "      <td>0.268865</td>\n",
       "      <td>33.076923</td>\n",
       "      <td>5</td>\n",
       "      <td>1</td>\n",
       "      <td>26</td>\n",
       "    </tr>\n",
       "    <tr>\n",
       "      <th>2</th>\n",
       "      <td>\"Fiddler On The Roof” Motion Picture Chorus</td>\n",
       "      <td>0.856571</td>\n",
       "      <td>0.348286</td>\n",
       "      <td>328920.000000</td>\n",
       "      <td>0.286571</td>\n",
       "      <td>0.024593</td>\n",
       "      <td>0.325786</td>\n",
       "      <td>-15.230714</td>\n",
       "      <td>0.118514</td>\n",
       "      <td>77.375857</td>\n",
       "      <td>0.354857</td>\n",
       "      <td>34.285714</td>\n",
       "      <td>0</td>\n",
       "      <td>1</td>\n",
       "      <td>7</td>\n",
       "    </tr>\n",
       "    <tr>\n",
       "      <th>3</th>\n",
       "      <td>\"Fiddler On The Roof” Motion Picture Orchestra</td>\n",
       "      <td>0.884926</td>\n",
       "      <td>0.425074</td>\n",
       "      <td>262890.962963</td>\n",
       "      <td>0.245770</td>\n",
       "      <td>0.073587</td>\n",
       "      <td>0.275481</td>\n",
       "      <td>-15.639370</td>\n",
       "      <td>0.123200</td>\n",
       "      <td>88.667630</td>\n",
       "      <td>0.372030</td>\n",
       "      <td>34.444444</td>\n",
       "      <td>0</td>\n",
       "      <td>1</td>\n",
       "      <td>27</td>\n",
       "    </tr>\n",
       "    <tr>\n",
       "      <th>4</th>\n",
       "      <td>\"Joseph And The Amazing Technicolor Dreamcoat\"...</td>\n",
       "      <td>0.605444</td>\n",
       "      <td>0.437333</td>\n",
       "      <td>232428.111111</td>\n",
       "      <td>0.429333</td>\n",
       "      <td>0.037534</td>\n",
       "      <td>0.216111</td>\n",
       "      <td>-11.447222</td>\n",
       "      <td>0.086000</td>\n",
       "      <td>120.329667</td>\n",
       "      <td>0.458667</td>\n",
       "      <td>42.555556</td>\n",
       "      <td>11</td>\n",
       "      <td>1</td>\n",
       "      <td>9</td>\n",
       "    </tr>\n",
       "  </tbody>\n",
       "</table>\n",
       "</div>"
      ],
      "text/plain": [
       "                                             artists  acousticness  \\\n",
       "0                   \"Cats\" 1981 Original London Cast      0.575083   \n",
       "1                          \"Cats\" 1983 Broadway Cast      0.862538   \n",
       "2        \"Fiddler On The Roof” Motion Picture Chorus      0.856571   \n",
       "3     \"Fiddler On The Roof” Motion Picture Orchestra      0.884926   \n",
       "4  \"Joseph And The Amazing Technicolor Dreamcoat\"...      0.605444   \n",
       "\n",
       "   danceability    duration_ms    energy  instrumentalness  liveness  \\\n",
       "0      0.442750  247260.000000  0.386336          0.022717  0.287708   \n",
       "1      0.441731  287280.000000  0.406808          0.081158  0.315215   \n",
       "2      0.348286  328920.000000  0.286571          0.024593  0.325786   \n",
       "3      0.425074  262890.962963  0.245770          0.073587  0.275481   \n",
       "4      0.437333  232428.111111  0.429333          0.037534  0.216111   \n",
       "\n",
       "    loudness  speechiness       tempo   valence  popularity  key  mode  count  \n",
       "0 -14.205417     0.180675  115.983500  0.334433   38.000000    5     1     12  \n",
       "1 -10.690000     0.176212  103.044154  0.268865   33.076923    5     1     26  \n",
       "2 -15.230714     0.118514   77.375857  0.354857   34.285714    0     1      7  \n",
       "3 -15.639370     0.123200   88.667630  0.372030   34.444444    0     1     27  \n",
       "4 -11.447222     0.086000  120.329667  0.458667   42.555556   11     1      9  "
      ]
     },
     "execution_count": 39,
     "metadata": {},
     "output_type": "execute_result"
    }
   ],
   "source": [
    "data.head()"
   ]
  },
  {
   "cell_type": "markdown",
   "metadata": {
    "slideshow": {
     "slide_type": "slide"
    }
   },
   "source": [
    "Using this data, we want to verify the claim that the average tempo in data from the real world is not 114 BPM."
   ]
  },
  {
   "cell_type": "markdown",
   "metadata": {
    "slideshow": {
     "slide_type": "fragment"
    }
   },
   "source": [
    "Thus, we want to show that assuming the opposite leads to an absurdity. "
   ]
  },
  {
   "cell_type": "code",
   "execution_count": 40,
   "metadata": {
    "slideshow": {
     "slide_type": "fragment"
    }
   },
   "outputs": [],
   "source": [
    "bpm = data['tempo']"
   ]
  },
  {
   "cell_type": "code",
   "execution_count": 41,
   "metadata": {
    "slideshow": {
     "slide_type": "fragment"
    }
   },
   "outputs": [
    {
     "data": {
      "text/plain": [
       "217.743"
      ]
     },
     "execution_count": 41,
     "metadata": {},
     "output_type": "execute_result"
    }
   ],
   "source": [
    "bpm.max()"
   ]
  },
  {
   "cell_type": "code",
   "execution_count": 42,
   "metadata": {
    "slideshow": {
     "slide_type": "fragment"
    }
   },
   "outputs": [
    {
     "data": {
      "text/plain": [
       "0.0"
      ]
     },
     "execution_count": 42,
     "metadata": {},
     "output_type": "execute_result"
    }
   ],
   "source": [
    "bpm.min()"
   ]
  },
  {
   "cell_type": "markdown",
   "metadata": {
    "slideshow": {
     "slide_type": "slide"
    }
   },
   "source": [
    "#### 1. Specify the Alternative Hypothesis\n",
    "\n",
    "We specify the alternative hypothesis for our problem as follows: \n",
    "\n",
    "\n",
    "\n",
    "*   Ha: the average BPM for music $\\neq$ 114.  \n",
    "\n"
   ]
  },
  {
   "cell_type": "markdown",
   "metadata": {
    "slideshow": {
     "slide_type": "slide"
    }
   },
   "source": [
    "#### 2. Specify the Null Hypothesis\n",
    "\n",
    "Our null hypothesis is the following:\n",
    "\n",
    "*  H0: the average BPM for music $=$ 114.  "
   ]
  },
  {
   "cell_type": "markdown",
   "metadata": {
    "slideshow": {
     "slide_type": "fragment"
    }
   },
   "source": [
    "Note that this requires us to look at both sides of the distribution. "
   ]
  },
  {
   "cell_type": "markdown",
   "metadata": {
    "slideshow": {
     "slide_type": "fragment"
    }
   },
   "source": [
    "In other words, we're interested in whether 114 BPM may be significantly different from the true mean, not whether it is necessarily larger or smaller. "
   ]
  },
  {
   "cell_type": "markdown",
   "metadata": {
    "slideshow": {
     "slide_type": "slide"
    }
   },
   "source": [
    "#### 3. Set Critical Value\n",
    "\n",
    "Again, we will set alpha to:\n",
    "\n",
    "*   $\\alpha$ = 0.05.\n",
    "\n",
    "We will only reject our null hypothesis if we end up in the lowest top 2.5% of the data or the highest 2.5% of the data.\n",
    "\n"
   ]
  },
  {
   "cell_type": "markdown",
   "metadata": {
    "slideshow": {
     "slide_type": "slide"
    }
   },
   "source": [
    "#### 4. Compute the t-score \n"
   ]
  },
  {
   "cell_type": "markdown",
   "metadata": {
    "slideshow": {
     "slide_type": "fragment"
    }
   },
   "source": [
    "In the previous example, we were able to compute the z-score. However, as we have seen in the previous lecture, when dealing with an unknown $\\sigma$, we need to use Student's t-distribution and hence a t-test. "
   ]
  },
  {
   "cell_type": "markdown",
   "metadata": {
    "slideshow": {
     "slide_type": "slide"
    }
   },
   "source": [
    "The t-test can be computed as follows:\n",
    "\n",
    "$$t = \\frac{\\bar{X} - \\mu}{\\frac{s}{\\sqrt{n}}},$$\n",
    "\n",
    "where $s$ denotes the standard deviation of the sample $\\bar{X}$ the mean of the sample, $\\mu$ the (assumed) population mean and $n$ the sample size."
   ]
  },
  {
   "cell_type": "code",
   "execution_count": 44,
   "metadata": {
    "slideshow": {
     "slide_type": "slide"
    }
   },
   "outputs": [],
   "source": [
    "# Terms\n",
    "bpm_mean = bpm.mean()\n",
    "mu = 114\n",
    "sample_stdev = bpm.std()\n",
    "standard_error = sample_stdev / np.sqrt(len(bpm))"
   ]
  },
  {
   "cell_type": "code",
   "execution_count": 45,
   "metadata": {
    "slideshow": {
     "slide_type": "fragment"
    }
   },
   "outputs": [
    {
     "name": "stdout",
     "output_type": "stream",
     "text": [
      "9.5150598269653\n"
     ]
    }
   ],
   "source": [
    "t_value = (bpm_mean - mu) / standard_error\n",
    "print(t_value)"
   ]
  },
  {
   "cell_type": "markdown",
   "metadata": {
    "slideshow": {
     "slide_type": "fragment"
    }
   },
   "source": [
    "We now have a t-statistic. Let us now compute see if how extreme this value is."
   ]
  },
  {
   "cell_type": "markdown",
   "metadata": {
    "slideshow": {
     "slide_type": "slide"
    }
   },
   "source": [
    "#### 5. Calculate the p-value\n"
   ]
  },
  {
   "cell_type": "code",
   "execution_count": 46,
   "metadata": {
    "slideshow": {
     "slide_type": "fragment"
    }
   },
   "outputs": [],
   "source": [
    "from scipy.stats import t\n",
    "\n",
    "df = len(bpm) - 1\n",
    "mean, var, skew, kurt = t.stats(df, moments='mvsk')"
   ]
  },
  {
   "cell_type": "markdown",
   "metadata": {
    "slideshow": {
     "slide_type": "slide"
    }
   },
   "source": [
    "We can compute the alpha level of (0.05 / 2) = 0.025 (recall, it is two-sided!) as follows:"
   ]
  },
  {
   "cell_type": "code",
   "execution_count": 47,
   "metadata": {
    "slideshow": {
     "slide_type": "fragment"
    }
   },
   "outputs": [
    {
     "name": "stdout",
     "output_type": "stream",
     "text": [
      "1.9600498778573614\n"
     ]
    }
   ],
   "source": [
    "# retrieve value <= probability\n",
    "alpha = 0.025\n",
    "alpha = 1 - alpha\n",
    "alpha = t.ppf(alpha, df)\n",
    "print(alpha)\n",
    "# confirm with cdf"
   ]
  },
  {
   "cell_type": "markdown",
   "metadata": {
    "slideshow": {
     "slide_type": "fragment"
    }
   },
   "source": [
    "Since our value for t (9.5) is much higher than the critical value of 1.96, we can reject the null hypothesis."
   ]
  },
  {
   "cell_type": "markdown",
   "metadata": {
    "slideshow": {
     "slide_type": "slide"
    }
   },
   "source": [
    "Let us now also compute the p-value. We can also use the ttest method from the scipy library."
   ]
  },
  {
   "cell_type": "code",
   "execution_count": 48,
   "metadata": {
    "slideshow": {
     "slide_type": "slide"
    }
   },
   "outputs": [
    {
     "name": "stdout",
     "output_type": "stream",
     "text": [
      "9.5150598269653\n",
      "1.9588185051895238e-21\n"
     ]
    }
   ],
   "source": [
    "t, p = ttest_1samp(bpm, 114)\n",
    "print(t)\n",
    "print(p)"
   ]
  },
  {
   "cell_type": "markdown",
   "metadata": {
    "slideshow": {
     "slide_type": "slide"
    }
   },
   "source": [
    "#### 6. and 7. Compare the p-value and reject or confirm the Null Hypothesis. \n"
   ]
  },
  {
   "cell_type": "markdown",
   "metadata": {
    "slideshow": {
     "slide_type": "fragment"
    }
   },
   "source": [
    "Since the p-value is extremely low, we can reject the following null hypothesis:"
   ]
  },
  {
   "cell_type": "markdown",
   "metadata": {
    "slideshow": {
     "slide_type": "fragment"
    }
   },
   "source": [
    "- H0: the average BPM for music $=$ 114. "
   ]
  },
  {
   "cell_type": "markdown",
   "metadata": {
    "slideshow": {
     "slide_type": "slide"
    }
   },
   "source": [
    "### Example: US Presidents"
   ]
  },
  {
   "cell_type": "markdown",
   "metadata": {
    "slideshow": {
     "slide_type": "fragment"
    }
   },
   "source": [
    "As a bonus, let's look at our data set of presidents once more. We will work with a sample of 20 presidents. "
   ]
  },
  {
   "cell_type": "code",
   "execution_count": 49,
   "metadata": {
    "slideshow": {
     "slide_type": "fragment"
    }
   },
   "outputs": [],
   "source": [
    "presidents = pd.read_csv('https://raw.githubusercontent.com/loukjsmalbil/datasets_ws/master/presidents_heights.csv')\n",
    "heights = presidents['height(cm)']\n",
    "sample = heights.sample(n=20)"
   ]
  },
  {
   "cell_type": "markdown",
   "metadata": {
    "slideshow": {
     "slide_type": "slide"
    }
   },
   "source": [
    "My claim is here is that the average height of US presidents is *not* 178 cm. My null hypothesis is therefore:\n",
    "\n",
    "- $H0:$ $\\mu_{presidents} = 178$\n",
    "\n",
    "Also, I assume that we do not know $\\sigma$ this time."
   ]
  },
  {
   "cell_type": "code",
   "execution_count": 50,
   "metadata": {
    "slideshow": {
     "slide_type": "slide"
    }
   },
   "outputs": [],
   "source": [
    "sample_mean = sample.mean()\n",
    "mu = 178\n",
    "sample_stdev = sample.std()\n",
    "standard_error = sample_stdev / np.sqrt(len(sample))"
   ]
  },
  {
   "cell_type": "code",
   "execution_count": 51,
   "metadata": {
    "slideshow": {
     "slide_type": "slide"
    }
   },
   "outputs": [
    {
     "name": "stdout",
     "output_type": "stream",
     "text": [
      "0.22760862668200524\n"
     ]
    }
   ],
   "source": [
    "t_value = (sample_mean - mu) / standard_error\n",
    "print(t_value)"
   ]
  },
  {
   "cell_type": "code",
   "execution_count": 52,
   "metadata": {
    "slideshow": {
     "slide_type": "slide"
    }
   },
   "outputs": [],
   "source": [
    "from scipy.stats import t\n",
    "\n",
    "df = len(sample) - 1\n",
    "mean, var, skew, kurt = t.stats(df, moments='mvsk')"
   ]
  },
  {
   "cell_type": "code",
   "execution_count": 53,
   "metadata": {
    "slideshow": {
     "slide_type": "slide"
    }
   },
   "outputs": [
    {
     "name": "stdout",
     "output_type": "stream",
     "text": [
      "2.093024054408263\n"
     ]
    }
   ],
   "source": [
    "# retrieve value <= probability\n",
    "alpha = 1 - 0.025\n",
    "alpha = t.ppf(alpha, df)\n",
    "print(alpha)\n",
    "# confirm with cdf"
   ]
  },
  {
   "cell_type": "code",
   "execution_count": 54,
   "metadata": {
    "slideshow": {
     "slide_type": "fragment"
    }
   },
   "outputs": [
    {
     "name": "stdout",
     "output_type": "stream",
     "text": [
      "0.411190924469641\n"
     ]
    }
   ],
   "source": [
    "p = t.cdf(t_value, df)\n",
    "print(1-p)"
   ]
  },
  {
   "cell_type": "markdown",
   "metadata": {
    "slideshow": {
     "slide_type": "slide"
    }
   },
   "source": [
    "#### A Quick Computation"
   ]
  },
  {
   "cell_type": "code",
   "execution_count": 56,
   "metadata": {
    "slideshow": {
     "slide_type": "fragment"
    }
   },
   "outputs": [
    {
     "name": "stdout",
     "output_type": "stream",
     "text": [
      "0.2276086266820052\n",
      "0.8223818489392822\n"
     ]
    }
   ],
   "source": [
    "t, p = ttest_1samp(sample, 178)\n",
    "print(t)\n",
    "print(p)"
   ]
  },
  {
   "cell_type": "markdown",
   "metadata": {
    "slideshow": {
     "slide_type": "fragment"
    }
   },
   "source": [
    "Thus, as indicated by the high p-value, it is reasonable to assume that the average height for US presidents is 178."
   ]
  },
  {
   "cell_type": "markdown",
   "metadata": {
    "slideshow": {
     "slide_type": "slide"
    }
   },
   "source": [
    "In other words, we cannot reject our null hypothesis."
   ]
  },
  {
   "cell_type": "markdown",
   "metadata": {
    "slideshow": {
     "slide_type": "slide"
    }
   },
   "source": [
    "## Summary "
   ]
  },
  {
   "cell_type": "markdown",
   "metadata": {
    "slideshow": {
     "slide_type": "fragment"
    }
   },
   "source": [
    "In this lesson we learnt:"
   ]
  },
  {
   "cell_type": "markdown",
   "metadata": {
    "slideshow": {
     "slide_type": "fragment"
    }
   },
   "source": [
    "- What hypotheses are;"
   ]
  },
  {
   "cell_type": "markdown",
   "metadata": {
    "slideshow": {
     "slide_type": "fragment"
    }
   },
   "source": [
    "- How we can quantify statistical significance;"
   ]
  },
  {
   "cell_type": "markdown",
   "metadata": {
    "slideshow": {
     "slide_type": "fragment"
    }
   },
   "source": [
    "- What critical values and p-values are;"
   ]
  },
  {
   "cell_type": "markdown",
   "metadata": {
    "slideshow": {
     "slide_type": "fragment"
    }
   },
   "source": [
    "- How we could use hypothesis testing in real life case. "
   ]
  },
  {
   "cell_type": "markdown",
   "metadata": {
    "slideshow": {
     "slide_type": "slide"
    }
   },
   "source": [
    "# Appendix "
   ]
  },
  {
   "cell_type": "markdown",
   "metadata": {
    "Collapsed": "false",
    "colab_type": "text",
    "id": "RS4Hp4_p3jxP",
    "slideshow": {
     "slide_type": "slide"
    }
   },
   "source": [
    "## Types of Alternative Hypotheses \n",
    "\n",
    "There are two types of alternative hypotheses: one-sided and two-sided. One-sided alternative hypothesis (a.k.a. directional hypothesis) is used to determine whether the population average differs from the hypothesized value in a specific direction (larger but not smaller than, or vice versa). **In contrast, two-sided alternative hypothesis (a.k.a. nondirectional hypothesis) is used to determine whether the population average is either greater than or less than the hypothesized value.**\n",
    "\n",
    "Why we differentiate these two types? Because sometimes we are not interested in whether the population average is larger or smaller than the hypothesized value. We only care if they are different. In this case, we use two-sided instead of one-sided hypothesis. However, in case we care about which is the case, we use one-sided hypothesis.\n",
    "\n",
    "For instance, let $k$ be some value and our hypothesis that $\\mu = k$. Thus,\n",
    "\n",
    "* H0: μ = k\t\n",
    "\n",
    "Then a one-sided Alternative Hypothesis would look like this:\n",
    "\n",
    "* H1: μ > k *OR*\n",
    "* H1: μ < k\t\n",
    "\n",
    "On the other hand, a two-sides Alternative Hypothesis would look like this:\n",
    "\n",
    "* H1: μ ≠ k"
   ]
  },
  {
   "cell_type": "markdown",
   "metadata": {
    "Collapsed": "false",
    "colab_type": "text",
    "id": "X_zxnx2rxNxQ",
    "slideshow": {
     "slide_type": "slide"
    }
   },
   "source": [
    "https://machinelearningmastery.com/statistical-hypothesis-tests/ "
   ]
  },
  {
   "cell_type": "markdown",
   "metadata": {
    "Collapsed": "false",
    "colab_type": "text",
    "id": "2bAeifXOIO5B",
    "slideshow": {
     "slide_type": "slide"
    }
   },
   "source": [
    "The idea of a two-sides Alternative Hypothesis is that we no longer look at only one region to reject or accept or test, but to both the left region and right region. \n",
    "\n",
    "![alt text](https://camo.githubusercontent.com/1a8495533cd8c50c73ef2b881d1aaab7d6c00fa2/68747470733a2f2f736c696465706c617965722e636f6d2f736c6964652f393332353539392f32382f696d616765732f362f54797065732b6f662b4879706f7468657369732b54657374732e6a7067)\n"
   ]
  },
  {
   "cell_type": "markdown",
   "metadata": {
    "Collapsed": "false",
    "colab_type": "text",
    "id": "6vGOdqj6qIDF",
    "slideshow": {
     "slide_type": "slide"
    }
   },
   "source": [
    "By default, the ttest_1samp method carries out a two-sides hypothesis test. "
   ]
  },
  {
   "cell_type": "markdown",
   "metadata": {
    "Collapsed": "false",
    "colab_type": "text",
    "id": "VYmg8Fw04A-p",
    "slideshow": {
     "slide_type": "slide"
    }
   },
   "source": [
    "## Test Assumptions\n",
    "\n",
    "In order to conduct a hypothesis test we need to meet certain assumptions:\n",
    "\n",
    "1. Our observations must be **independent** of each other. For example, if we have people who live in the same household participating in a medical trial, they might be exposed to the same environmental conditions or eat the same food. This can bias our results.\n",
    "2.   Normality of data - We assume that the sample is derived from a normally distributed data.\n",
    "3.   Adequate sample size. In order to perform a test using the normal distribution and not approximate to the t distribution, our sample size must be greater than 30.\n",
    "4.   In order to use the normal distribution for our hypothesis test, we must assume the population standard deviation is known. If the population standard deviation is not known, then we use the t-distribution for the hypothesis test.\n",
    "\n",
    "Please also be careful for sampling bias:\n",
    "\n",
    "*   **Sampling Bias** - Sampling bias occurs when some members of the intended population are less likely to be included than others in the selected sample. Say we collected the data at Wall Street at 10AM on Monday. Significant bias can be introduced due to the flaws of the data collection because people who appear at Wall Street at that specific time are most likely working professionals in the financial industry. The sample data will miss a lot of people from other industries and other NYC neighborhoods. Consequently, the selected sample is not a good representation of NYC residents.\n",
    "\n"
   ]
  },
  {
   "cell_type": "markdown",
   "metadata": {
    "Collapsed": "false",
    "colab_type": "text",
    "id": "4Gx-_4CjONHf",
    "slideshow": {
     "slide_type": "slide"
    }
   },
   "source": [
    "## Summary\n",
    "\n",
    "In this lesson we learned how to perform a hypothesis test. To do this, we had to introduce a large number of terms: population, sample, null hypothesis, alternative hypothesis, test statistic, p-value, and confidence interval. We then showed how we can use our test to come up with a conclusion for a real-life scenario and learned how to do this with Python."
   ]
  },
  {
   "cell_type": "code",
   "execution_count": null,
   "metadata": {},
   "outputs": [],
   "source": []
  }
 ],
 "metadata": {
  "celltoolbar": "Slideshow",
  "colab": {
   "authorship_tag": "ABX9TyOZWVIl8fnhKs30/8ZdgEuo",
   "collapsed_sections": [],
   "name": "Hypothesis_Testing.ipynb",
   "provenance": []
  },
  "kernelspec": {
   "display_name": "Python 3",
   "language": "python",
   "name": "python3"
  },
  "language_info": {
   "codemirror_mode": {
    "name": "ipython",
    "version": 3
   },
   "file_extension": ".py",
   "mimetype": "text/x-python",
   "name": "python",
   "nbconvert_exporter": "python",
   "pygments_lexer": "ipython3",
   "version": "3.8.5"
  }
 },
 "nbformat": 4,
 "nbformat_minor": 4
}
