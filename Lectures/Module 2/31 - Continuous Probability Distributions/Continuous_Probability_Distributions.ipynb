{
 "cells": [
  {
   "cell_type": "markdown",
   "metadata": {
    "Collapsed": "false",
    "colab_type": "text",
    "id": "-nsF8MUeG8bF",
    "slideshow": {
     "slide_type": "slide"
    }
   },
   "source": [
    "# Continuous Probability Distributions"
   ]
  },
  {
   "cell_type": "markdown",
   "metadata": {
    "Collapsed": "false",
    "colab_type": "text",
    "id": "qIEPXS04G_UT",
    "slideshow": {
     "slide_type": "slide"
    }
   },
   "source": [
    "## Introduction\n"
   ]
  },
  {
   "cell_type": "markdown",
   "metadata": {
    "slideshow": {
     "slide_type": "fragment"
    }
   },
   "source": [
    "In this lecture we will discuss:"
   ]
  },
  {
   "cell_type": "markdown",
   "metadata": {
    "slideshow": {
     "slide_type": "fragment"
    }
   },
   "source": [
    "- The basics of continuous distributions;"
   ]
  },
  {
   "cell_type": "markdown",
   "metadata": {
    "slideshow": {
     "slide_type": "fragment"
    }
   },
   "source": [
    "- A review of the cumulative distribution;"
   ]
  },
  {
   "cell_type": "markdown",
   "metadata": {
    "slideshow": {
     "slide_type": "fragment"
    }
   },
   "source": [
    "- The Gaussian, the Uniform Distribution and the Exponential Distributions."
   ]
  },
  {
   "cell_type": "markdown",
   "metadata": {
    "slideshow": {
     "slide_type": "slide"
    }
   },
   "source": [
    "## Continuous Random Variable\n"
   ]
  },
  {
   "cell_type": "markdown",
   "metadata": {
    "slideshow": {
     "slide_type": "slide"
    }
   },
   "source": [
    "The easiest way to understand what a continuous random variable is, is by comparing it to a discrete random variable"
   ]
  },
  {
   "cell_type": "markdown",
   "metadata": {
    "Collapsed": "false",
    "colab_type": "text",
    "id": "sDUYAjBXHFGP",
    "slideshow": {
     "slide_type": "fragment"
    }
   },
   "source": [
    "\n",
    "[Link to the Image here](https://commons.wikimedia.org/wiki/File:Compound_Interest_with_Varying_Frequencies.svg#/media/File:Compound_Interest_with_Varying_Frequencies.svg)\n"
   ]
  },
  {
   "cell_type": "markdown",
   "metadata": {
    "slideshow": {
     "slide_type": "fragment"
    }
   },
   "source": [
    "In a way, a continuous random variable is a functions that quite literally **continues**. "
   ]
  },
  {
   "cell_type": "markdown",
   "metadata": {
    "slideshow": {
     "slide_type": "fragment"
    }
   },
   "source": [
    "In other words, there is no \"*break*\" between the outcome values.  "
   ]
  },
  {
   "cell_type": "markdown",
   "metadata": {
    "slideshow": {
     "slide_type": "slide"
    }
   },
   "source": [
    "We can also create our own discrete and continuous functions in Python. Let's do so!"
   ]
  },
  {
   "cell_type": "code",
   "execution_count": 1,
   "metadata": {
    "slideshow": {
     "slide_type": "slide"
    }
   },
   "outputs": [],
   "source": [
    "import numpy as np"
   ]
  },
  {
   "cell_type": "code",
   "execution_count": 2,
   "metadata": {
    "slideshow": {
     "slide_type": "fragment"
    }
   },
   "outputs": [],
   "source": [
    "def discrete_funct(x):\n",
    "    if x > 1:\n",
    "        return True\n",
    "    else:\n",
    "        return False"
   ]
  },
  {
   "cell_type": "code",
   "execution_count": 11,
   "metadata": {
    "slideshow": {
     "slide_type": "fragment"
    }
   },
   "outputs": [
    {
     "data": {
      "text/plain": [
       "True"
      ]
     },
     "execution_count": 11,
     "metadata": {},
     "output_type": "execute_result"
    }
   ],
   "source": [
    "discrete_funct(1099999999999994228)"
   ]
  },
  {
   "cell_type": "code",
   "execution_count": 12,
   "metadata": {
    "slideshow": {
     "slide_type": "slide"
    }
   },
   "outputs": [],
   "source": [
    "def continuous_funct(x):\n",
    "    if x > 1:\n",
    "        return x / 10\n",
    "    else:\n",
    "        return x * 10"
   ]
  },
  {
   "cell_type": "code",
   "execution_count": 10,
   "metadata": {
    "slideshow": {
     "slide_type": "fragment"
    }
   },
   "outputs": [
    {
     "data": {
      "text/plain": [
       "1.0999999999999942e+17"
      ]
     },
     "execution_count": 10,
     "metadata": {},
     "output_type": "execute_result"
    }
   ],
   "source": [
    "continuous_funct(10)"
   ]
  },
  {
   "cell_type": "markdown",
   "metadata": {
    "slideshow": {
     "slide_type": "slide"
    }
   },
   "source": [
    "Let us now make a loop and see how the output differs per function. "
   ]
  },
  {
   "cell_type": "code",
   "execution_count": 59,
   "metadata": {
    "slideshow": {
     "slide_type": "fragment"
    }
   },
   "outputs": [
    {
     "name": "stdout",
     "output_type": "stream",
     "text": [
      "False\n",
      "False\n",
      "False\n",
      "False\n",
      "False\n",
      "False\n",
      "False\n",
      "False\n",
      "False\n",
      "False\n",
      "True\n",
      "True\n",
      "True\n",
      "True\n"
     ]
    }
   ],
   "source": [
    "# Loop for discrete.\n",
    "for element in np.arange(0, 1.5, 0.1111111):\n",
    "    print(discrete_funct(element)) "
   ]
  },
  {
   "cell_type": "code",
   "execution_count": 58,
   "metadata": {
    "slideshow": {
     "slide_type": "slide"
    }
   },
   "outputs": [
    {
     "name": "stdout",
     "output_type": "stream",
     "text": [
      "0.0\n",
      "1.111111\n",
      "2.222222\n",
      "3.333333\n",
      "4.444444\n",
      "5.555555\n",
      "6.666666\n",
      "7.777777\n",
      "8.888888\n",
      "9.999999\n",
      "0.11111109999999999\n",
      "0.12222221\n",
      "0.13333332\n",
      "0.14444443\n"
     ]
    }
   ],
   "source": [
    "# Loop for continuous\n",
    "for element in np.arange(0, 1.5, 0.1111111):\n",
    "    print(continuous_funct(element))\n",
    "    \n",
    "    \n",
    "#for element in np.arange(0, 100000.81, 10000.9):\n",
    "#    print(continuous_funct(element))\n",
    "    \n",
    "#for element in np.arange(0, 100000.81, 10000.9):\n",
    "#    print(discrete_funct(element))"
   ]
  },
  {
   "cell_type": "markdown",
   "metadata": {
    "slideshow": {
     "slide_type": "slide"
    }
   },
   "source": [
    "## Cumulative Distribution Function"
   ]
  },
  {
   "cell_type": "markdown",
   "metadata": {
    "slideshow": {
     "slide_type": "slide"
    }
   },
   "source": [
    "Before moving on, let us first review what the cumulative distribution of a random variable is. "
   ]
  },
  {
   "cell_type": "markdown",
   "metadata": {
    "slideshow": {
     "slide_type": "fragment"
    }
   },
   "source": [
    "Suppose we have a random variable $X$, where $X$ denotes a dice roll. We can model the random variable (and its outcomes) as follows: "
   ]
  },
  {
   "cell_type": "markdown",
   "metadata": {
    "slideshow": {
     "slide_type": "fragment"
    }
   },
   "source": [
    "\n",
    "*   $P(X = 1) = 1/6$\n",
    "*   $P(X = 2) = 1/6$\n",
    "*   $P(X = 3) = 1/6$\n",
    "*   $P(X = 4) = 1/6$\n",
    "*   $P(X = 5) = 1/6$\n",
    "*   $P(X = 6) = 1/6$\n",
    "\n",
    "\n"
   ]
  },
  {
   "cell_type": "markdown",
   "metadata": {
    "slideshow": {
     "slide_type": "slide"
    }
   },
   "source": [
    "Now suppose that instead of computing the exact probability for one specific event, we want to compute the probability that we obtain a 1, a 2 or lower, a 3 or lower etc. "
   ]
  },
  {
   "cell_type": "markdown",
   "metadata": {
    "slideshow": {
     "slide_type": "fragment"
    }
   },
   "source": [
    "In that case we can use the **cumulative distribution**. The cumulative distribution function simply outputs the summed values of the previous outcomes."
   ]
  },
  {
   "cell_type": "markdown",
   "metadata": {
    "slideshow": {
     "slide_type": "fragment"
    }
   },
   "source": [
    "\n",
    "*   $P(X \\leq 1) = 1/6$\n",
    "*   $P(X \\leq 2) = 2/6$\n",
    "*   $P(X \\leq 3) = 3/6$\n",
    "*   $P(X \\leq 4) = 4/6$\n",
    "*   $P(X \\leq 5) = 5/6$\n",
    "*   $P(X \\leq 6) = 6/6$\n"
   ]
  },
  {
   "cell_type": "markdown",
   "metadata": {
    "slideshow": {
     "slide_type": "slide"
    }
   },
   "source": [
    "## The Gaussian "
   ]
  },
  {
   "cell_type": "markdown",
   "metadata": {
    "slideshow": {
     "slide_type": "fragment"
    }
   },
   "source": [
    "We all know the normal distribution. When can you expect to find or use this distribution?"
   ]
  },
  {
   "cell_type": "markdown",
   "metadata": {
    "slideshow": {
     "slide_type": "fragment"
    }
   },
   "source": [
    "- In any textbook on statistics and machine learning..."
   ]
  },
  {
   "cell_type": "markdown",
   "metadata": {
    "slideshow": {
     "slide_type": "fragment"
    }
   },
   "source": [
    "- IQ scores;"
   ]
  },
  {
   "cell_type": "markdown",
   "metadata": {
    "slideshow": {
     "slide_type": "fragment"
    }
   },
   "source": [
    "- Blood pressure measurements;"
   ]
  },
  {
   "cell_type": "markdown",
   "metadata": {
    "slideshow": {
     "slide_type": "fragment"
    }
   },
   "source": [
    "- Salaries;"
   ]
  },
  {
   "cell_type": "markdown",
   "metadata": {
    "slideshow": {
     "slide_type": "fragment"
    }
   },
   "source": [
    "- Delivery times;"
   ]
  },
  {
   "cell_type": "markdown",
   "metadata": {
    "slideshow": {
     "slide_type": "slide"
    }
   },
   "source": [
    "- Weights of groups of people."
   ]
  },
  {
   "cell_type": "markdown",
   "metadata": {
    "slideshow": {
     "slide_type": "fragment"
    }
   },
   "source": [
    "..."
   ]
  },
  {
   "cell_type": "markdown",
   "metadata": {
    "slideshow": {
     "slide_type": "slide"
    }
   },
   "source": [
    "Let us now review the the Python implementation by first importing the necessary libraries. "
   ]
  },
  {
   "cell_type": "code",
   "execution_count": 27,
   "metadata": {
    "slideshow": {
     "slide_type": "fragment"
    }
   },
   "outputs": [],
   "source": [
    "import math\n",
    "from scipy.stats import norm\n",
    "import matplotlib.pyplot as plt"
   ]
  },
  {
   "cell_type": "markdown",
   "metadata": {
    "slideshow": {
     "slide_type": "slide"
    }
   },
   "source": [
    "### Visual Example"
   ]
  },
  {
   "cell_type": "code",
   "execution_count": 34,
   "metadata": {
    "slideshow": {
     "slide_type": "slide"
    }
   },
   "outputs": [
    {
     "data": {
      "image/png": "[encoded data removed]",
      "text/plain": [
       "<Figure size 432x288 with 1 Axes>"
      ]
     },
     "metadata": {
      "needs_background": "light"
     },
     "output_type": "display_data"
    }
   ],
   "source": [
    "normal = norm(loc = 0, scale = 1) \n",
    "fig, ax = plt.subplots(1, 1)\n",
    "x = np.linspace(-3,3,1000)        # Return evenly spaced numbers over a specified interval.\n",
    "y = norm.pdf(x)\n",
    "ax.plot(x,y)\n",
    "plt.show()"
   ]
  },
  {
   "cell_type": "markdown",
   "metadata": {
    "slideshow": {
     "slide_type": "slide"
    }
   },
   "source": [
    "### Obtain the probability at a given point"
   ]
  },
  {
   "cell_type": "code",
   "execution_count": 40,
   "metadata": {
    "slideshow": {
     "slide_type": "fragment"
    }
   },
   "outputs": [
    {
     "name": "stdout",
     "output_type": "stream",
     "text": [
      "0.24197072451914337\n"
     ]
    }
   ],
   "source": [
    "# Print the probabiliy of 1\n",
    "print(normal.pdf(1))"
   ]
  },
  {
   "cell_type": "code",
   "execution_count": 41,
   "metadata": {
    "slideshow": {
     "slide_type": "fragment"
    }
   },
   "outputs": [
    {
     "data": {
      "image/png": "[encoded data removed]",
      "text/plain": [
       "<Figure size 432x288 with 1 Axes>"
      ]
     },
     "metadata": {
      "needs_background": "light"
     },
     "output_type": "display_data"
    }
   ],
   "source": [
    "normal = norm(loc = 0, scale = 1) \n",
    "fig, ax = plt.subplots(1, 1)\n",
    "x = np.linspace(-3,3,1000)        # Return evenly spaced numbers over a specified interval.\n",
    "y = norm.pdf(x)\n",
    "ax.plot(x,y)\n",
    "plt.show()"
   ]
  },
  {
   "cell_type": "markdown",
   "metadata": {
    "slideshow": {
     "slide_type": "slide"
    }
   },
   "source": [
    "### Obtain the cumulative probability at a given point"
   ]
  },
  {
   "cell_type": "code",
   "execution_count": 42,
   "metadata": {
    "slideshow": {
     "slide_type": "fragment"
    }
   },
   "outputs": [
    {
     "name": "stdout",
     "output_type": "stream",
     "text": [
      "0.9772498680518208\n"
     ]
    }
   ],
   "source": [
    "# Print the probability that X \\leq 2\n",
    "print(normal.cdf(2))  "
   ]
  },
  {
   "cell_type": "code",
   "execution_count": 43,
   "metadata": {
    "slideshow": {
     "slide_type": "fragment"
    }
   },
   "outputs": [
    {
     "data": {
      "image/png": "[encoded data removed]",
      "text/plain": [
       "<Figure size 432x288 with 1 Axes>"
      ]
     },
     "metadata": {
      "needs_background": "light"
     },
     "output_type": "display_data"
    }
   ],
   "source": [
    "normal = norm(loc = 0, scale = 1) \n",
    "fig, ax = plt.subplots(1, 1)\n",
    "x = np.linspace(-3,3,1000)        # Return evenly spaced numbers over a specified interval.\n",
    "y = norm.pdf(x)\n",
    "ax.plot(x,y) \n",
    "plt.show()"
   ]
  },
  {
   "cell_type": "markdown",
   "metadata": {
    "slideshow": {
     "slide_type": "slide"
    }
   },
   "source": [
    "### Draw a random sample"
   ]
  },
  {
   "cell_type": "code",
   "execution_count": 57,
   "metadata": {
    "slideshow": {
     "slide_type": "fragment"
    }
   },
   "outputs": [
    {
     "name": "stdout",
     "output_type": "stream",
     "text": [
      "[-1.18530329  0.77931402  0.95650697  0.99347324  0.01300382 -0.61761175\n",
      " -0.30892245  0.51041819  1.23411549 -1.00359041 -1.88195146  1.01557072\n",
      "  1.10094506  1.05706906 -1.10902024 -1.21337575  0.29642341 -0.75234149\n",
      "  0.15578162 -1.33648934 -0.65330572 -0.34157685  0.73026847  1.03035373\n",
      "  0.27320176  0.85673648 -0.69442768  1.57244217 -0.328511   -2.61156348\n",
      "  1.22302145  2.19772603 -0.50781578  0.25219666 -0.72169824  0.11127873\n",
      "  0.14300078 -0.14225417  0.22202737  0.64494102  0.81101813 -0.14566397\n",
      " -1.33434978 -0.24534424  0.86345486 -0.60835217 -0.02796415 -1.83475087\n",
      "  0.17716725 -1.58605306  0.32692997  0.8506495   0.1887078  -1.87732155\n",
      "  0.9313062   0.76469542 -0.71152115  2.35045322  0.05784151 -0.88374596\n",
      "  0.95573285 -1.50639887  0.50262635 -1.01075119  0.0875197  -0.6262538\n",
      " -0.28849143 -0.75179003 -0.79856284 -0.81367814  0.5096786  -0.26451238\n",
      " -0.42426875  0.99396156  0.60999483  0.56901988  0.3482484  -0.3079817\n",
      "  1.20062202  1.1630671  -0.83245661  1.38278977 -0.81842967 -0.40046694\n",
      "  0.77790735 -2.03677666 -0.77746361  0.36370968  0.11041541  1.0663362\n",
      "  0.51767253  0.96399325  0.57553772  0.85393884 -0.84110666  0.39671153\n",
      "  0.55439695  0.29651315  0.1174975  -0.57028419]\n"
     ]
    }
   ],
   "source": [
    "# Draw a random sample\n",
    "print(normal.rvs(100)) "
   ]
  },
  {
   "cell_type": "markdown",
   "metadata": {
    "slideshow": {
     "slide_type": "slide"
    }
   },
   "source": [
    "## The Uniform Distribution"
   ]
  },
  {
   "cell_type": "markdown",
   "metadata": {
    "slideshow": {
     "slide_type": "fragment"
    }
   },
   "source": [
    "The uniform distribution is the 'simplest' distribution there is. When can you expect to find or use this distribution?"
   ]
  },
  {
   "cell_type": "markdown",
   "metadata": {
    "slideshow": {
     "slide_type": "fragment"
    }
   },
   "source": [
    "- Drawing from a deck of cards;"
   ]
  },
  {
   "cell_type": "markdown",
   "metadata": {
    "slideshow": {
     "slide_type": "fragment"
    }
   },
   "source": [
    "- A coin toss."
   ]
  },
  {
   "cell_type": "markdown",
   "metadata": {
    "slideshow": {
     "slide_type": "fragment"
    }
   },
   "source": [
    "..."
   ]
  },
  {
   "cell_type": "markdown",
   "metadata": {
    "slideshow": {
     "slide_type": "fragment"
    }
   },
   "source": [
    "In other words, when the **probabilities of the outcomes are equal.** "
   ]
  },
  {
   "cell_type": "markdown",
   "metadata": {
    "slideshow": {
     "slide_type": "slide"
    }
   },
   "source": [
    "### Visual Example"
   ]
  },
  {
   "cell_type": "code",
   "execution_count": 60,
   "metadata": {
    "slideshow": {
     "slide_type": "slide"
    }
   },
   "outputs": [],
   "source": [
    "import numpy as np\n",
    "from scipy.stats import uniform\n",
    "import matplotlib.pyplot as plt"
   ]
  },
  {
   "cell_type": "code",
   "execution_count": 61,
   "metadata": {
    "slideshow": {
     "slide_type": "slide"
    }
   },
   "outputs": [
    {
     "data": {
      "text/plain": [
       "[<matplotlib.lines.Line2D at 0x7fa0714c0310>]"
      ]
     },
     "execution_count": 61,
     "metadata": {},
     "output_type": "execute_result"
    },
    {
     "data": {
      "image/png": "[encoded data removed]",
      "text/plain": [
       "<Figure size 432x288 with 1 Axes>"
      ]
     },
     "metadata": {
      "needs_background": "light"
     },
     "output_type": "display_data"
    }
   ],
   "source": [
    "fig, ax = plt.subplots(1, 1)\n",
    "x = np.linspace(0,1, 100)\n",
    "ax.plot(x, uniform.pdf(x))"
   ]
  },
  {
   "cell_type": "markdown",
   "metadata": {
    "slideshow": {
     "slide_type": "slide"
    }
   },
   "source": [
    "### Obtain the probability at a given point"
   ]
  },
  {
   "cell_type": "code",
   "execution_count": 62,
   "metadata": {
    "slideshow": {
     "slide_type": "fragment"
    }
   },
   "outputs": [
    {
     "data": {
      "text/plain": [
       "1.0"
      ]
     },
     "execution_count": 62,
     "metadata": {},
     "output_type": "execute_result"
    }
   ],
   "source": [
    "uniform.pdf(0.5)"
   ]
  },
  {
   "cell_type": "code",
   "execution_count": 63,
   "metadata": {
    "slideshow": {
     "slide_type": "fragment"
    }
   },
   "outputs": [
    {
     "data": {
      "text/plain": [
       "[<matplotlib.lines.Line2D at 0x7fa06e781e50>]"
      ]
     },
     "execution_count": 63,
     "metadata": {},
     "output_type": "execute_result"
    },
    {
     "data": {
      "image/png": "[encoded data removed]",
      "text/plain": [
       "<Figure size 432x288 with 1 Axes>"
      ]
     },
     "metadata": {
      "needs_background": "light"
     },
     "output_type": "display_data"
    }
   ],
   "source": [
    "fig, ax = plt.subplots(1, 1)\n",
    "x = np.linspace(0,1, 100)\n",
    "ax.plot(x, uniform.pdf(x))"
   ]
  },
  {
   "cell_type": "markdown",
   "metadata": {
    "slideshow": {
     "slide_type": "slide"
    }
   },
   "source": [
    "### Obtain the cumulative probability at a given point"
   ]
  },
  {
   "cell_type": "code",
   "execution_count": 64,
   "metadata": {
    "slideshow": {
     "slide_type": "fragment"
    }
   },
   "outputs": [
    {
     "data": {
      "text/plain": [
       "0.6"
      ]
     },
     "execution_count": 64,
     "metadata": {},
     "output_type": "execute_result"
    }
   ],
   "source": [
    "uniform.cdf(0.6)"
   ]
  },
  {
   "cell_type": "code",
   "execution_count": 65,
   "metadata": {},
   "outputs": [
    {
     "data": {
      "text/plain": [
       "[<matplotlib.lines.Line2D at 0x7fa06e7f1c50>]"
      ]
     },
     "execution_count": 65,
     "metadata": {},
     "output_type": "execute_result"
    },
    {
     "data": {
      "image/png": "[encoded data removed]",
      "text/plain": [
       "<Figure size 432x288 with 1 Axes>"
      ]
     },
     "metadata": {
      "needs_background": "light"
     },
     "output_type": "display_data"
    }
   ],
   "source": [
    "fig, ax = plt.subplots(1, 1)\n",
    "x = np.linspace(0,1, 100)\n",
    "ax.plot(x, uniform.pdf(x))"
   ]
  },
  {
   "cell_type": "markdown",
   "metadata": {
    "slideshow": {
     "slide_type": "slide"
    }
   },
   "source": [
    "### Another example"
   ]
  },
  {
   "cell_type": "code",
   "execution_count": 66,
   "metadata": {
    "slideshow": {
     "slide_type": "fragment"
    }
   },
   "outputs": [
    {
     "data": {
      "text/plain": [
       "[<matplotlib.lines.Line2D at 0x7fa071a66f90>]"
      ]
     },
     "execution_count": 66,
     "metadata": {},
     "output_type": "execute_result"
    },
    {
     "data": {
      "image/png": "[encoded data removed]",
      "text/plain": [
       "<Figure size 432x288 with 1 Axes>"
      ]
     },
     "metadata": {
      "needs_background": "light"
     },
     "output_type": "display_data"
    }
   ],
   "source": [
    "# Uniform distribution between point a and b\n",
    "a=1\n",
    "b=6\n",
    "fig, ax = plt.subplots(1, 1)\n",
    "x = np.linspace(a,b, 100) \n",
    "y = uniform.pdf(x, a, b)\n",
    "ax.plot(x, y)"
   ]
  },
  {
   "cell_type": "code",
   "execution_count": 71,
   "metadata": {
    "slideshow": {
     "slide_type": "slide"
    }
   },
   "outputs": [
    {
     "data": {
      "text/plain": [
       "0.16666666666666666"
      ]
     },
     "execution_count": 71,
     "metadata": {},
     "output_type": "execute_result"
    }
   ],
   "source": [
    "uniform.pdf(4, 1, 6)"
   ]
  },
  {
   "cell_type": "code",
   "execution_count": 73,
   "metadata": {
    "slideshow": {
     "slide_type": "fragment"
    }
   },
   "outputs": [
    {
     "data": {
      "text/plain": [
       "[<matplotlib.lines.Line2D at 0x7fa07146ce50>]"
      ]
     },
     "execution_count": 73,
     "metadata": {},
     "output_type": "execute_result"
    },
    {
     "data": {
      "image/png": "[encoded data removed]",
      "text/plain": [
       "<Figure size 432x288 with 1 Axes>"
      ]
     },
     "metadata": {
      "needs_background": "light"
     },
     "output_type": "display_data"
    }
   ],
   "source": [
    "a=1\n",
    "b=6\n",
    "fig, ax = plt.subplots(1, 1)\n",
    "x = np.linspace(a,b, 100) \n",
    "y = uniform.pdf(x, a, b)\n",
    "ax.plot(x, y)"
   ]
  },
  {
   "cell_type": "markdown",
   "metadata": {
    "slideshow": {
     "slide_type": "slide"
    }
   },
   "source": [
    "Let us also plot the cumulative density function. "
   ]
  },
  {
   "cell_type": "code",
   "execution_count": 74,
   "metadata": {
    "slideshow": {
     "slide_type": "slide"
    }
   },
   "outputs": [
    {
     "data": {
      "text/plain": [
       "[<matplotlib.lines.Line2D at 0x7fa071302450>]"
      ]
     },
     "execution_count": 74,
     "metadata": {},
     "output_type": "execute_result"
    },
    {
     "data": {
      "image/png": "[encoded data removed]",
      "text/plain": [
       "<Figure size 432x288 with 1 Axes>"
      ]
     },
     "metadata": {
      "needs_background": "light"
     },
     "output_type": "display_data"
    }
   ],
   "source": [
    "# Uniform distribution between point a and b\n",
    "fig, ax = plt.subplots(1, 1)\n",
    "a=0\n",
    "b=6\n",
    "x = np.linspace(a,b, 100)\n",
    "y = uniform.cdf(x, a, b)\n",
    "ax.plot(x, y)"
   ]
  },
  {
   "cell_type": "markdown",
   "metadata": {
    "slideshow": {
     "slide_type": "slide"
    }
   },
   "source": [
    "## Exponential Distribution"
   ]
  },
  {
   "cell_type": "markdown",
   "metadata": {
    "slideshow": {
     "slide_type": "slide"
    }
   },
   "source": [
    "The exponential distribution can be observed when the probability that we obtain a low-valued outcome is higher than obtaining a high-valued outcome. For example:"
   ]
  },
  {
   "cell_type": "markdown",
   "metadata": {
    "slideshow": {
     "slide_type": "fragment"
    }
   },
   "source": [
    "- The probability that we have to wait for 10 minutes for our train is higher than the probability that we have to wait for 70 minutes;"
   ]
  },
  {
   "cell_type": "markdown",
   "metadata": {
    "slideshow": {
     "slide_type": "fragment"
    }
   },
   "source": [
    "- The probability that we will observe 1 goal in a football match is higher than the probability that we will observe 5 goals."
   ]
  },
  {
   "cell_type": "markdown",
   "metadata": {
    "slideshow": {
     "slide_type": "fragment"
    }
   },
   "source": [
    "..."
   ]
  },
  {
   "cell_type": "markdown",
   "metadata": {
    "slideshow": {
     "slide_type": "slide"
    }
   },
   "source": [
    "### Visual Example"
   ]
  },
  {
   "cell_type": "code",
   "execution_count": 75,
   "metadata": {
    "slideshow": {
     "slide_type": "slide"
    }
   },
   "outputs": [],
   "source": [
    "from scipy.stats import expon"
   ]
  },
  {
   "cell_type": "code",
   "execution_count": 76,
   "metadata": {
    "slideshow": {
     "slide_type": "slide"
    }
   },
   "outputs": [
    {
     "data": {
      "text/plain": [
       "[<matplotlib.lines.Line2D at 0x7fa0716dc090>]"
      ]
     },
     "execution_count": 76,
     "metadata": {},
     "output_type": "execute_result"
    },
    {
     "data": {
      "image/png": "[encoded data removed]",
      "text/plain": [
       "<Figure size 432x288 with 1 Axes>"
      ]
     },
     "metadata": {
      "needs_background": "light"
     },
     "output_type": "display_data"
    }
   ],
   "source": [
    "exp = expon(scale = 1)\n",
    "x = np.linspace(0,10,100)\n",
    "y = expon.pdf(x)\n",
    "fig, ax = plt.subplots(1, 1)\n",
    "ax.plot(x,y)"
   ]
  },
  {
   "cell_type": "markdown",
   "metadata": {
    "slideshow": {
     "slide_type": "slide"
    }
   },
   "source": [
    "### Obtain the probability at a given point"
   ]
  },
  {
   "cell_type": "code",
   "execution_count": 77,
   "metadata": {
    "slideshow": {
     "slide_type": "fragment"
    }
   },
   "outputs": [
    {
     "name": "stdout",
     "output_type": "stream",
     "text": [
      "0.6065306597126334\n"
     ]
    }
   ],
   "source": [
    "print(exp.pdf(0.5))"
   ]
  },
  {
   "cell_type": "code",
   "execution_count": 78,
   "metadata": {
    "slideshow": {
     "slide_type": "fragment"
    }
   },
   "outputs": [
    {
     "data": {
      "text/plain": [
       "[<matplotlib.lines.Line2D at 0x7fa0715b19d0>]"
      ]
     },
     "execution_count": 78,
     "metadata": {},
     "output_type": "execute_result"
    },
    {
     "data": {
      "image/png": "[encoded data removed]",
      "text/plain": [
       "<Figure size 432x288 with 1 Axes>"
      ]
     },
     "metadata": {
      "needs_background": "light"
     },
     "output_type": "display_data"
    }
   ],
   "source": [
    "exp = expon(scale = 1)\n",
    "x = np.linspace(0,10,100)\n",
    "y = expon.pdf(x)\n",
    "fig, ax = plt.subplots(1, 1)\n",
    "ax.plot(x,y)\n"
   ]
  },
  {
   "cell_type": "markdown",
   "metadata": {
    "slideshow": {
     "slide_type": "slide"
    }
   },
   "source": [
    "### Obtain the cumulative probability at a given point"
   ]
  },
  {
   "cell_type": "code",
   "execution_count": 79,
   "metadata": {
    "slideshow": {
     "slide_type": "fragment"
    }
   },
   "outputs": [
    {
     "name": "stdout",
     "output_type": "stream",
     "text": [
      "0.6321205588285577\n"
     ]
    }
   ],
   "source": [
    "print(exp.cdf(1))       "
   ]
  },
  {
   "cell_type": "code",
   "execution_count": 80,
   "metadata": {
    "slideshow": {
     "slide_type": "fragment"
    }
   },
   "outputs": [
    {
     "data": {
      "text/plain": [
       "[<matplotlib.lines.Line2D at 0x7fa071897850>]"
      ]
     },
     "execution_count": 80,
     "metadata": {},
     "output_type": "execute_result"
    },
    {
     "data": {
      "image/png": "[encoded data removed]",
      "text/plain": [
       "<Figure size 432x288 with 1 Axes>"
      ]
     },
     "metadata": {
      "needs_background": "light"
     },
     "output_type": "display_data"
    }
   ],
   "source": [
    "exp = expon(scale = 1)\n",
    "x = np.linspace(0,10,100)\n",
    "y = expon.pdf(x)\n",
    "fig, ax = plt.subplots(1, 1)\n",
    "ax.plot(x,y)"
   ]
  },
  {
   "cell_type": "markdown",
   "metadata": {
    "slideshow": {
     "slide_type": "slide"
    }
   },
   "source": [
    "## Summary"
   ]
  },
  {
   "cell_type": "markdown",
   "metadata": {
    "slideshow": {
     "slide_type": "fragment"
    }
   },
   "source": [
    "In this lecture we learnt about:"
   ]
  },
  {
   "cell_type": "markdown",
   "metadata": {
    "slideshow": {
     "slide_type": "fragment"
    }
   },
   "source": [
    "- The basics of continuous distributions and the cumulative density;"
   ]
  },
  {
   "cell_type": "markdown",
   "metadata": {
    "slideshow": {
     "slide_type": "fragment"
    }
   },
   "source": [
    "- The Gaussian, Uniform and Exponential Distributions. "
   ]
  },
  {
   "cell_type": "code",
   "execution_count": null,
   "metadata": {
    "slideshow": {
     "slide_type": "fragment"
    }
   },
   "outputs": [],
   "source": []
  },
  {
   "cell_type": "markdown",
   "metadata": {
    "slideshow": {
     "slide_type": "skip"
    }
   },
   "source": [
    "## Appendix"
   ]
  },
  {
   "cell_type": "markdown",
   "metadata": {
    "slideshow": {
     "slide_type": "slide"
    }
   },
   "source": [
    "**IMPORTANT:** Only review this appendix if you're comfortable with mathematical notation (e.g. integral notation) as well as with the basics of probability theory. "
   ]
  },
  {
   "cell_type": "markdown",
   "metadata": {
    "slideshow": {
     "slide_type": "skip"
    }
   },
   "source": [
    "## Introduction\n",
    "\n",
    "In the field of probability, a distribution function is a function that maps numerical values to probabilities. Typically, all outcomes in the sample space will have a probability associated with them. There are two types of probability distribution functions - continuous and discrete. In this lesson we will focus on continuous distributions.\n",
    "\n",
    "Continuous probability is distributed in a range. **To calculate the probability, we compute the total area under the distribution curve of the sample space.** At a given point of the curve, the area is approximately zero. It should be noted that we can convert a continuous distribution to discrete distribution by converting the smooth curve into multiple bins where each bin represents the probability value of a certain range. See image below for example: "
   ]
  },
  {
   "cell_type": "markdown",
   "metadata": {
    "Collapsed": "false",
    "colab_type": "text",
    "id": "85HPRAJ23wI5",
    "slideshow": {
     "slide_type": "skip"
    }
   },
   "source": [
    "## Range and Domain\n",
    "\n",
    "Before we move on, let us have a look at two important concepts in mathematics. \n",
    "\n",
    "- **Domain**: The domain of a function is the set of values for which the function is defined.\n",
    "\n",
    "- **Range**: The set of all values a function can take. \n",
    "\n",
    "This is exemplified below:\n",
    "\n",
    "![alt text](https://s3-us-west-2.amazonaws.com/courses-images-archive-read-only/wp-content/uploads/sites/924/2015/11/25200622/CNX_Precalc_Figure_01_02_0062.jpg)"
   ]
  },
  {
   "cell_type": "markdown",
   "metadata": {
    "Collapsed": "false",
    "colab_type": "text",
    "id": "4F-QZkBJJIn1",
    "slideshow": {
     "slide_type": "skip"
    }
   },
   "source": [
    "## Continuous Random Variables\n",
    "\n",
    "Continuous distributions come from continuous random variables. For these random variables, **the set of possible values is uncountable**. They are defined by probability density functions (PDF). We say $X$ is a continuous random variable if there exists a non-negative function $f (x)$ defined for all $x ∈ B$, where $B$ is a set of [real numbers](https://en.wikipedia.org/wiki/Real_number) in  $(−\\infty,\\infty)$.\n",
    "\n",
    "$$P(X \\in B) = \\int_{B} f(x) dx.$$\n",
    "\n",
    "To explain a little deeper, let B be defined as an interval  $[a, b]$:\n",
    "\n",
    "$$P(a \\leq X \\leq b) = \\int_{b}^{a} f(x) dx.$$\n",
    "\n",
    "If we let a = b in the preceding formula, then: \n",
    "\n",
    "$$P(X = a) = \\int_{a}^{a} f(x) dx = 0.$$\n",
    "\n",
    "In words, this equation states that **the probability that a continuous random variable will assume any particular value is zero.**\n"
   ]
  },
  {
   "cell_type": "markdown",
   "metadata": {
    "Collapsed": "false",
    "colab_type": "text",
    "id": "cSZx_TzANghP",
    "slideshow": {
     "slide_type": "skip"
    }
   },
   "source": [
    "![alt text](https://work.thaslwanter.at/Stats/html/_images/PDF.png)"
   ]
  },
  {
   "cell_type": "markdown",
   "metadata": {
    "Collapsed": "false",
    "colab_type": "text",
    "id": "5ZVk3O6Y_NOV",
    "slideshow": {
     "slide_type": "skip"
    }
   },
   "source": [
    "## Cumulative Distribution Function"
   ]
  },
  {
   "cell_type": "markdown",
   "metadata": {
    "Collapsed": "false",
    "colab_type": "text",
    "id": "eTXSgBC1_H0A",
    "slideshow": {
     "slide_type": "skip"
    }
   },
   "source": [
    "\n",
    "\n",
    "Recall the following example from a previous lecture:\n",
    "\n",
    "*   $P(X = 1) = 1/6$\n",
    "*   $P(X = 2) = 1/6$\n",
    "*   $P(X = 3) = 1/6$\n",
    "*   $P(X = 4) = 1/6$\n",
    "*   $P(X = 5) = 1/6$\n",
    "*   $P(X = 6) = 1/6$\n",
    "\n",
    "As discussed before, this table outlines the probability of throwing a particular number using a fair dice. Now suppose we are playing a board game and that we are not interested in the probability of throwing any of the numbers above, but only about the probability that we throw above (or below a certain number). We can define this as:\n",
    "\n",
    "$$F(A) = P(X \\leq x),$$\n",
    "\n",
    "where $x$ is a particular number. Then, the cumulative probability as defined here gives the probability that the random variable is less than or equal to $x$. \n",
    "\n",
    "The cumulative probability distribution can then be defined as follows:\n",
    "\n",
    "*   $P(X \\leq 1) = 1/6$\n",
    "*   $P(X \\leq 2) = 2/6$\n",
    "*   $P(X \\leq 3) = 3/6$\n",
    "*   $P(X \\leq 4) = 4/6$\n",
    "*   $P(X \\leq 5) = 5/6$\n",
    "*   $P(X \\leq 6) = 6/6$\n",
    "\n",
    "\n"
   ]
  },
  {
   "cell_type": "markdown",
   "metadata": {
    "Collapsed": "false",
    "colab_type": "text",
    "id": "o31rFnizKpWR",
    "slideshow": {
     "slide_type": "skip"
    }
   },
   "source": [
    "### Cumulative Distribution Formal Defintion\n",
    "\n",
    "A cumulative distribution is defined as: \n",
    "\n",
    "$$F(A) = P(X \\in (-\\infty, a]) = \\int_{-\\infty}^{a} f(x) dx.$$\n",
    "\n",
    "Some important properties of CDF are as follows:\n",
    "\n",
    "- It is a continuously increasing function (non-decreasing);\n",
    "- Range of values lies between [0,1];\n",
    "- Differentiating CDF gives PDF.\n",
    "\n"
   ]
  },
  {
   "cell_type": "markdown",
   "metadata": {
    "Collapsed": "false",
    "colab_type": "text",
    "id": "tX0CUoHj8xFF",
    "slideshow": {
     "slide_type": "skip"
    }
   },
   "source": [
    "![alt text](http://work.thaslwanter.at/Stats/html/_images/PDF_CDF.png)"
   ]
  },
  {
   "cell_type": "markdown",
   "metadata": {
    "Collapsed": "false",
    "colab_type": "text",
    "id": "hgnutviTLasr",
    "slideshow": {
     "slide_type": "skip"
    }
   },
   "source": [
    "## Common Continuous Distributions\n",
    "\n",
    "Now we will discuss some common types of continuous distributions.\n"
   ]
  },
  {
   "cell_type": "markdown",
   "metadata": {
    "Collapsed": "false",
    "colab_type": "text",
    "id": "EWPAUkD_LhyF",
    "slideshow": {
     "slide_type": "skip"
    }
   },
   "source": [
    "### Uniform Distribution\n",
    "\n",
    "Uniform distribution is defined by the following function:\n",
    "\n",
    "$$f(x)=\n",
    "    \\begin{cases}\n",
    "      1, & \\text{if}\\ 0 < x < 1 \\\\\n",
    "      0, & \\text{otherwise}\n",
    "    \\end{cases}$$\n",
    "\n",
    "A more general definition is given as follows where x is not just restricted between 0 and 1:\n",
    "\n",
    "$$f(x)=\n",
    "    \\begin{cases}\n",
    "      \\frac{1}{\\beta - \\alpha}, & \\text{if}\\ \\alpha < x < \\beta \\\\\n",
    "      0, & \\text{otherwise}\n",
    "    \\end{cases}$$\n",
    "\n",
    "*Note: The range of values on which the function is defined is called the domain whereas the values of the function mapped to the domain is called range.*"
   ]
  },
  {
   "cell_type": "markdown",
   "metadata": {
    "Collapsed": "false",
    "colab_type": "text",
    "id": "KYgvDIl-ObBY",
    "slideshow": {
     "slide_type": "skip"
    }
   },
   "source": [
    "- Domain for x is  (-∞, ∞)\n",
    "- Range is 0, 1\n",
    "- Parameters: a, b\n",
    "\n",
    "**One of the most common applications of uniform numbers is to generate random numbers without any bias.** The probability of obtaining an unbiased random number in the range (a,b) is always constant.\n",
    "\n",
    "*NOTE: The uniform distribution can also be discrete. Consider the example of rolling a die. Probability of each event happening is the same (1/6).*\n",
    "\n",
    "Standard Uniform Distribution in Python code example:"
   ]
  },
  {
   "cell_type": "code",
   "execution_count": null,
   "metadata": {
    "Collapsed": "false",
    "colab": {},
    "colab_type": "code",
    "id": "CQKlnWczLaLT",
    "slideshow": {
     "slide_type": "skip"
    }
   },
   "outputs": [],
   "source": [
    "import numpy as np\n",
    "from scipy.stats import uniform\n",
    "import matplotlib.pyplot as plt"
   ]
  },
  {
   "cell_type": "code",
   "execution_count": null,
   "metadata": {
    "Collapsed": "false",
    "colab": {
     "base_uri": "https://localhost:8080/",
     "height": 282
    },
    "colab_type": "code",
    "executionInfo": {
     "elapsed": 765,
     "status": "ok",
     "timestamp": 1585245625070,
     "user": {
      "displayName": "Louk Smalbil",
      "photoUrl": "https://lh3.googleusercontent.com/a-/AOh14GiByqcfGW98Bn42uapsD4oj4auyrLV9xURPKHUj=s64",
      "userId": "10422991521784029462"
     },
     "user_tz": -60
    },
    "id": "rV41arKfO17j",
    "outputId": "a9fed188-6bdd-4ffa-91af-76376fd72bee",
    "slideshow": {
     "slide_type": "skip"
    }
   },
   "outputs": [],
   "source": [
    "fig, ax = plt.subplots(1, 1)\n",
    "x = np.linspace(0,1, 100)\n",
    "ax.plot(x, uniform.pdf(x))"
   ]
  },
  {
   "cell_type": "markdown",
   "metadata": {
    "Collapsed": "false",
    "colab_type": "text",
    "id": "NWZEny3VJYsy",
    "slideshow": {
     "slide_type": "skip"
    }
   },
   "source": [
    "Uniform Distribution between point (a,b):"
   ]
  },
  {
   "cell_type": "code",
   "execution_count": null,
   "metadata": {
    "Collapsed": "false",
    "colab": {
     "base_uri": "https://localhost:8080/",
     "height": 282
    },
    "colab_type": "code",
    "executionInfo": {
     "elapsed": 753,
     "status": "ok",
     "timestamp": 1585245670733,
     "user": {
      "displayName": "Louk Smalbil",
      "photoUrl": "https://lh3.googleusercontent.com/a-/AOh14GiByqcfGW98Bn42uapsD4oj4auyrLV9xURPKHUj=s64",
      "userId": "10422991521784029462"
     },
     "user_tz": -60
    },
    "id": "C7dKRyv0G5DX",
    "outputId": "0102f612-1f76-4765-8ca4-bde7b67d6953",
    "slideshow": {
     "slide_type": "skip"
    }
   },
   "outputs": [],
   "source": [
    "fig, ax = plt.subplots(1, 1)\n",
    "a=1\n",
    "b=6\n",
    "x = np.linspace(a,b, 100)\n",
    "y = uniform.pdf(x, a, b)\n",
    "ax.plot(x, y)"
   ]
  },
  {
   "cell_type": "markdown",
   "metadata": {
    "Collapsed": "false",
    "colab_type": "text",
    "id": "8Hn6EXX9PKnA",
    "slideshow": {
     "slide_type": "skip"
    }
   },
   "source": [
    "## Normal Distributions (Gaussian)\n",
    "\n",
    "Normal Distribution is also known as the bell shaped curve. The distribution function is defined as:\n",
    "\n",
    "$$f(x) = \\frac{1}{\\sqrt{2 \\pi \\sigma}} e^{-(x-\\mu)^{2}/2 \\sigma^{2}}$$"
   ]
  },
  {
   "cell_type": "markdown",
   "metadata": {
    "Collapsed": "false",
    "colab_type": "text",
    "id": "LFC1XBcu4Wtw",
    "slideshow": {
     "slide_type": "skip"
    }
   },
   "source": [
    "- Domain: Any real number \n",
    "- Range: Any real number\n",
    "- Parameters: mean, sd "
   ]
  },
  {
   "cell_type": "markdown",
   "metadata": {
    "Collapsed": "false",
    "colab_type": "text",
    "id": "sLPsxY974mmI",
    "slideshow": {
     "slide_type": "skip"
    }
   },
   "source": [
    "Some important properties of normal distribution are:\n",
    "\n",
    "- It is symmetrical about the mean\n",
    "- Total area under the curve is 1\n",
    "- The parameters and determine the shape of the curve\n",
    "- Mean and standard deviation can take on any real number\n",
    "- When =0 and =1, it is called a Standard Normal Deviation\n",
    "\n",
    "Python code example:\n",
    "\n"
   ]
  },
  {
   "cell_type": "code",
   "execution_count": null,
   "metadata": {
    "Collapsed": "false",
    "colab": {},
    "colab_type": "code",
    "id": "tKGmhdDs4zEs",
    "slideshow": {
     "slide_type": "skip"
    }
   },
   "outputs": [],
   "source": [
    "import math\n",
    "from scipy.stats import norm"
   ]
  },
  {
   "cell_type": "code",
   "execution_count": null,
   "metadata": {
    "Collapsed": "false",
    "colab": {
     "base_uri": "https://localhost:8080/",
     "height": 265
    },
    "colab_type": "code",
    "executionInfo": {
     "elapsed": 1156,
     "status": "ok",
     "timestamp": 1585245867158,
     "user": {
      "displayName": "Louk Smalbil",
      "photoUrl": "https://lh3.googleusercontent.com/a-/AOh14GiByqcfGW98Bn42uapsD4oj4auyrLV9xURPKHUj=s64",
      "userId": "10422991521784029462"
     },
     "user_tz": -60
    },
    "id": "fOr3I4Lk42q6",
    "outputId": "23ea6773-93d9-4160-a62e-b78034f1c26c",
    "slideshow": {
     "slide_type": "skip"
    }
   },
   "outputs": [],
   "source": [
    "normal = norm(0, math.sqrt(9)) \n",
    "fig, ax = plt.subplots(1, 1)\n",
    "x = np.linspace(-3,3,1000)\n",
    "y = norm.pdf(x)\n",
    "ax.plot(x,y)\n",
    "plt.show()"
   ]
  },
  {
   "cell_type": "code",
   "execution_count": null,
   "metadata": {
    "Collapsed": "false",
    "colab": {
     "base_uri": "https://localhost:8080/",
     "height": 34
    },
    "colab_type": "code",
    "executionInfo": {
     "elapsed": 493,
     "status": "ok",
     "timestamp": 1585245896771,
     "user": {
      "displayName": "Louk Smalbil",
      "photoUrl": "https://lh3.googleusercontent.com/a-/AOh14GiByqcfGW98Bn42uapsD4oj4auyrLV9xURPKHUj=s64",
      "userId": "10422991521784029462"
     },
     "user_tz": -60
    },
    "id": "bx0PVoAq46vH",
    "outputId": "1b9907de-e0d3-438b-dfbd-cd2f7cb1e3b5",
    "slideshow": {
     "slide_type": "skip"
    }
   },
   "outputs": [],
   "source": [
    "# Print the probabiliy of 4\n",
    "print(normal.pdf(3))"
   ]
  },
  {
   "cell_type": "code",
   "execution_count": null,
   "metadata": {
    "Collapsed": "false",
    "colab": {
     "base_uri": "https://localhost:8080/",
     "height": 34
    },
    "colab_type": "code",
    "executionInfo": {
     "elapsed": 623,
     "status": "ok",
     "timestamp": 1585245911626,
     "user": {
      "displayName": "Louk Smalbil",
      "photoUrl": "https://lh3.googleusercontent.com/a-/AOh14GiByqcfGW98Bn42uapsD4oj4auyrLV9xURPKHUj=s64",
      "userId": "10422991521784029462"
     },
     "user_tz": -60
    },
    "id": "iznAoKH_5H9B",
    "outputId": "5270dc61-0152-4bea-c572-2620c0034693",
    "slideshow": {
     "slide_type": "skip"
    }
   },
   "outputs": [],
   "source": [
    "# Print the probability that X \\leq 2\n",
    "print(normal.cdf(2))     "
   ]
  },
  {
   "cell_type": "code",
   "execution_count": null,
   "metadata": {
    "Collapsed": "false",
    "colab": {
     "base_uri": "https://localhost:8080/",
     "height": 34
    },
    "colab_type": "code",
    "executionInfo": {
     "elapsed": 485,
     "status": "ok",
     "timestamp": 1585245941182,
     "user": {
      "displayName": "Louk Smalbil",
      "photoUrl": "https://lh3.googleusercontent.com/a-/AOh14GiByqcfGW98Bn42uapsD4oj4auyrLV9xURPKHUj=s64",
      "userId": "10422991521784029462"
     },
     "user_tz": -60
    },
    "id": "cAEjeLVf5T46",
    "outputId": "90b8d48b-121c-413b-b915-3768cd5be4a7",
    "slideshow": {
     "slide_type": "skip"
    }
   },
   "outputs": [],
   "source": [
    "# Draw a random sample\n",
    "print(normal.rvs()) "
   ]
  },
  {
   "cell_type": "markdown",
   "metadata": {
    "Collapsed": "false",
    "colab_type": "text",
    "id": "KTJOsiJM46Ge",
    "slideshow": {
     "slide_type": "skip"
    }
   },
   "source": [
    "## Exponential Distribution\n",
    "\n",
    "Exponential Distribution function is defined as: \n",
    "\n",
    "\n",
    "$$f(x)=\n",
    "    \\begin{cases}\n",
    "      \\lambda e^{-\\lambda x}, & \\text{if}\\ x \\geq 0 \\\\\n",
    "      0, & \\text{otherwise}\n",
    "    \\end{cases}$$\n",
    "\n",
    "- Domain: Any real number\n",
    "- Range: Non Negative real numbers\n",
    "- Parameter: lambda\n",
    "\n",
    "![alt text](https://upload.wikimedia.org/wikipedia/commons/thumb/0/02/Exponential_probability_density.svg/1200px-Exponential_probability_density.svg.png)\n",
    "\n",
    "CDF is given as: \n",
    "\n",
    "$$F(A) = 1 - e^{-\\lambda a}$$\n",
    "\n",
    "**The exponential distribution is often concerned with the amount of time until some specific event occurs. For instance, the amount of time customers spend in a store, arrival of buses at the station, the amount of time customers spend on a website, etc.** The distributions of these time measures are often exponential. \n",
    "\n",
    "\n"
   ]
  },
  {
   "cell_type": "markdown",
   "metadata": {
    "Collapsed": "false",
    "colab_type": "text",
    "id": "X3ZrxttW6wz_",
    "slideshow": {
     "slide_type": "skip"
    }
   },
   "source": [
    "Python code example:\n"
   ]
  },
  {
   "cell_type": "code",
   "execution_count": null,
   "metadata": {
    "Collapsed": "false",
    "colab": {},
    "colab_type": "code",
    "id": "b3O1w3gq60cF",
    "slideshow": {
     "slide_type": "skip"
    }
   },
   "outputs": [],
   "source": [
    "from scipy.stats import expon"
   ]
  },
  {
   "cell_type": "code",
   "execution_count": null,
   "metadata": {
    "Collapsed": "false",
    "colab": {
     "base_uri": "https://localhost:8080/",
     "height": 282
    },
    "colab_type": "code",
    "executionInfo": {
     "elapsed": 489,
     "status": "ok",
     "timestamp": 1585246062600,
     "user": {
      "displayName": "Louk Smalbil",
      "photoUrl": "https://lh3.googleusercontent.com/a-/AOh14GiByqcfGW98Bn42uapsD4oj4auyrLV9xURPKHUj=s64",
      "userId": "10422991521784029462"
     },
     "user_tz": -60
    },
    "id": "0clLsL_D6ygf",
    "outputId": "5ba750f4-04af-40f8-839e-66f742191a2c",
    "slideshow": {
     "slide_type": "skip"
    }
   },
   "outputs": [],
   "source": [
    "\"\"\"\n",
    "N.B. \"A common parameterization for expon is in terms of the rate parameter \n",
    "lambda, such that pdf = lambda * exp(-lambda * x). This parameterization \n",
    "corresponds to using scale = 1 / lambda.\" (SciPy documentation)\n",
    "\"\"\"\n",
    "exp = expon(1) \n",
    "x = np.linspace(0,10,100)\n",
    "y = expon.pdf(x, 0, 1)\n",
    "fig, ax = plt.subplots(1, 1)\n",
    "ax.plot(x,y)"
   ]
  },
  {
   "cell_type": "code",
   "execution_count": null,
   "metadata": {
    "Collapsed": "false",
    "colab": {
     "base_uri": "https://localhost:8080/",
     "height": 51
    },
    "colab_type": "code",
    "executionInfo": {
     "elapsed": 722,
     "status": "ok",
     "timestamp": 1585246081355,
     "user": {
      "displayName": "Louk Smalbil",
      "photoUrl": "https://lh3.googleusercontent.com/a-/AOh14GiByqcfGW98Bn42uapsD4oj4auyrLV9xURPKHUj=s64",
      "userId": "10422991521784029462"
     },
     "user_tz": -60
    },
    "id": "SaBNopHL67UM",
    "outputId": "9e5ecd66-4356-4340-8d1a-6f72cb8b7214",
    "slideshow": {
     "slide_type": "skip"
    }
   },
   "outputs": [],
   "source": [
    "print(exp.pdf(4))\n",
    "print(exp.cdf(2))       \n",
    "#print(exp.rvs()) "
   ]
  },
  {
   "cell_type": "markdown",
   "metadata": {
    "Collapsed": "false",
    "colab_type": "text",
    "id": "QFC9g3pH7d_v",
    "slideshow": {
     "slide_type": "skip"
    }
   },
   "source": [
    "## Summary\n",
    "\n",
    "In this lesson we learned about continuous random variable and continuous probability distributions including continuous uniform, normal, and exponential distribution. We learn how to characterize distributions by their PDF (probability density function), CDF (cumulative distribution function) and its parameters. We also looked at how to generate this random variables from a distribution and calculate some statistics using SciPy.\n",
    "\n",
    "Additional Resources:\n",
    "\n",
    "\n",
    "\n",
    "*   https://www.statisticshowto.datasciencecentral.com/cumulative-distribution-function/\n",
    "*   https://www.youtube.com/watch?v=OWSOhpS00_s\n",
    "* https://wiki.ubc.ca/1.4_The_Cumulative_Distribution_Function\n",
    "* https://towardsdatascience.com/probability-concepts-explained-probability-distributions-introduction-part-3-4a5db81858dc\n",
    "* https://medium.com/@srowen/common-probability-distributions-347e6b945ce4\n",
    "* https://machinelearningmastery.com/continuous-probability-distributions-for-machine-learning/\n",
    "\n"
   ]
  },
  {
   "cell_type": "code",
   "execution_count": null,
   "metadata": {
    "Collapsed": "false",
    "colab": {},
    "colab_type": "code",
    "id": "jQLYP_oAl-s3",
    "slideshow": {
     "slide_type": "skip"
    }
   },
   "outputs": [],
   "source": []
  }
 ],
 "metadata": {
  "celltoolbar": "Slideshow",
  "colab": {
   "authorship_tag": "ABX9TyOU6wJFuBXXCDcHBKcSeKyR",
   "collapsed_sections": [],
   "name": "Continuous_Probability_Distributions.ipynb",
   "provenance": []
  },
  "kernelspec": {
   "display_name": "Python 3",
   "language": "python",
   "name": "python3"
  },
  "language_info": {
   "codemirror_mode": {
    "name": "ipython",
    "version": 3
   },
   "file_extension": ".py",
   "mimetype": "text/x-python",
   "name": "python",
   "nbconvert_exporter": "python",
   "pygments_lexer": "ipython3",
   "version": "3.8.5"
  }
 },
 "nbformat": 4,
 "nbformat_minor": 4
}
