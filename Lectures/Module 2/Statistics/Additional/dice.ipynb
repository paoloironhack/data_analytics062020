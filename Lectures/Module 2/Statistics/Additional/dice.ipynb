{
 "cells": [
  {
   "cell_type": "markdown",
   "metadata": {
    "colab_type": "text",
    "id": "Sdh2iNingzhw"
   },
   "source": [
    "## Code Retrieved from GeeksforGeeks to compute the Expectation"
   ]
  },
  {
   "cell_type": "code",
   "execution_count": null,
   "metadata": {
    "colab": {},
    "colab_type": "code",
    "id": "f0480N9uWUvs"
   },
   "outputs": [],
   "source": [
    "# python code to calculate expected  \n",
    "# value of an array \n",
    "# Courtesey to https://www.geeksforgeeks.org/expectation-expected-value-array/\n",
    "  \n",
    "# Function to calculate expectation \n",
    "def calc_Expectation(a, n): \n",
    "    prb = 1 / n \n",
    "    sum = 0\n",
    "    for i in range(0, n): \n",
    "        sum += (a[i] * prb)  \n",
    "          \n",
    "    # returning expectation as sum \n",
    "    return float(sum) \n"
   ]
  },
  {
   "cell_type": "code",
   "execution_count": null,
   "metadata": {
    "colab": {},
    "colab_type": "code",
    "id": "IKuU-LNHGrZr"
   },
   "outputs": [],
   "source": [
    "n = 6\n",
    "a = [ 1.0, 2.0, 3.0,4.0, 5.0, 6.0 ] \n",
    "  \n",
    "# Function for calculating expectation \n",
    "expect = calc_Expectation(a, n) "
   ]
  },
  {
   "cell_type": "code",
   "execution_count": null,
   "metadata": {
    "colab": {
     "base_uri": "https://localhost:8080/",
     "height": 34
    },
    "colab_type": "code",
    "executionInfo": {
     "elapsed": 815,
     "status": "ok",
     "timestamp": 1584181533719,
     "user": {
      "displayName": "Louk Smalbil",
      "photoUrl": "https://lh3.googleusercontent.com/a-/AOh14GiByqcfGW98Bn42uapsD4oj4auyrLV9xURPKHUj=s64",
      "userId": "10422991521784029462"
     },
     "user_tz": -60
    },
    "id": "qL9igRTiGxQP",
    "outputId": "46b21693-bf0c-43e1-c746-010be199d012"
   },
   "outputs": [
    {
     "name": "stdout",
     "output_type": "stream",
     "text": [
      "Expectation of array E(X) is :  3.5\n"
     ]
    }
   ],
   "source": [
    "print( \"Expectation of array E(X) is : \", expect ) "
   ]
  },
  {
   "cell_type": "markdown",
   "metadata": {
    "colab_type": "text",
    "id": "p12XcBTKg6SR"
   },
   "source": [
    "## Code to Compute the Average Dice Rolls"
   ]
  },
  {
   "cell_type": "code",
   "execution_count": null,
   "metadata": {
    "colab": {},
    "colab_type": "code",
    "id": "UhMgS2VEe_ca"
   },
   "outputs": [],
   "source": [
    "import numpy as np"
   ]
  },
  {
   "cell_type": "code",
   "execution_count": null,
   "metadata": {
    "colab": {},
    "colab_type": "code",
    "id": "psEPHx1IW3Zd"
   },
   "outputs": [],
   "source": [
    "dice_roll = []\n",
    "a = [ 1.0, 2.0, 3.0,4.0, 5.0, 6.0 ] \n",
    "num_trials = 100000"
   ]
  },
  {
   "cell_type": "code",
   "execution_count": null,
   "metadata": {
    "colab": {},
    "colab_type": "code",
    "id": "Xviaxak_e7gr"
   },
   "outputs": [],
   "source": [
    "for i in range(num_trials):\n",
    "  dice_roll.append(np.random.choice(a))"
   ]
  },
  {
   "cell_type": "code",
   "execution_count": 18,
   "metadata": {
    "colab": {
     "base_uri": "https://localhost:8080/",
     "height": 34
    },
    "colab_type": "code",
    "executionInfo": {
     "elapsed": 901,
     "status": "ok",
     "timestamp": 1584181768401,
     "user": {
      "displayName": "Louk Smalbil",
      "photoUrl": "https://lh3.googleusercontent.com/a-/AOh14GiByqcfGW98Bn42uapsD4oj4auyrLV9xURPKHUj=s64",
      "userId": "10422991521784029462"
     },
     "user_tz": -60
    },
    "id": "xXiGW8pOfZk5",
    "outputId": "52489f92-e07e-4c5d-d807-422ea50f62ad"
   },
   "outputs": [
    {
     "data": {
      "text/plain": [
       "3.49363"
      ]
     },
     "execution_count": 18,
     "metadata": {
      "tags": []
     },
     "output_type": "execute_result"
    }
   ],
   "source": [
    "sum(dice_roll) / num_trials"
   ]
  }
 ],
 "metadata": {
  "colab": {
   "authorship_tag": "ABX9TyOlNjA0I+IZ5vXhmkRlyHZg",
   "collapsed_sections": [],
   "name": "dice.ipynb",
   "provenance": []
  },
  "kernelspec": {
   "display_name": "Python 3",
   "language": "python",
   "name": "python3"
  },
  "language_info": {
   "codemirror_mode": {
    "name": "ipython",
    "version": 3
   },
   "file_extension": ".py",
   "mimetype": "text/x-python",
   "name": "python",
   "nbconvert_exporter": "python",
   "pygments_lexer": "ipython3",
   "version": "3.8.5"
  }
 },
 "nbformat": 4,
 "nbformat_minor": 4
}
